{
 "cells": [
  {
   "cell_type": "markdown",
   "id": "fd24ec4c",
   "metadata": {},
   "source": [
    "## Assignment 4 (Exercise for Chapters 5)\n",
    "\n",
    "Due date: 15 March 2022 before 4 pm.\n",
    "\n",
    "Points: 5 + (**4 extra points**)\n",
    "\n",
    "Do not alter this file.\n",
    "1. Form a group of two members. The group member must be different from the previous Assignments 1, 2 and 3.\n",
    "\n",
    "2. Duplicate this file and move it into the Personal folder (you may share access to your team member). Rename the file as Assignment4_id1_id2 (id1 and id2 are student ID numbers in ascending order, e.g. Assignment4_6305001_6305001).\n",
    "\n",
    "3. Write Python commands to answer each of the questions. For each question that requires numerical values (not list, table or dataframe), you also need to assign the variable e.g. ans1 to store the numerical answer for question 1. If there is more than 1 answer required, you must create more variables e.g. ans1_1, ans1_2 to store the values of the answers.\n",
    "\n",
    "4. When you want to submit your file, you simply share access with me using my email pairote.sat@mahidol.edu and my TA p.pooy.pui.i@gmail.com. Do not move your file into the DS@MathMahidol team."
   ]
  },
  {
   "cell_type": "markdown",
   "id": "9c459d80",
   "metadata": {},
   "source": [
    "**Goals:** The purpose of this exercise is to perform simple descriptive statistics and to describe the **importance of data visualisation** before analyzing and model building."
   ]
  },
  {
   "cell_type": "markdown",
   "id": "00c3f7a5",
   "metadata": {},
   "source": [
    "0. Enter student IDs of your group."
   ]
  },
  {
   "cell_type": "markdown",
   "id": "4c10d0ae",
   "metadata": {},
   "source": [
    "1. Download the following dataset from this Github link (store this data frame as a pandas DataFrame with the variable name `anscombes`): \n",
    "\n",
    "https://gist.github.com/ericbusboom/b2ac1d366c005cd2ed8c\n",
    "\n",
    "The dataset consists of values $x$ and $y$ from four different groups (I,II,III and IV which are given by the column namely `dataset`)."
   ]
  },
  {
   "cell_type": "markdown",
   "id": "ae83db65",
   "metadata": {},
   "source": [
    "Perform statistical data analysis of the `anscombes` dataset by answering the following questions:\n",
    "\n",
    "2. Write python code to create a table that provides a summary of the variables $x$ and $y$ for each of groups (including the mean of $x$, the sample variance of $x$, the mean of $y$, the sample variance of $y$)."
   ]
  },
  {
   "cell_type": "markdown",
   "id": "ae466457",
   "metadata": {},
   "source": [
    "2.1 Find the mean of $x$ in the group I."
   ]
  },
  {
   "cell_type": "markdown",
   "id": "5db7ea84",
   "metadata": {},
   "source": [
    "2.2 Find the mean of $x$ in the group II."
   ]
  },
  {
   "cell_type": "markdown",
   "id": "148c1da8",
   "metadata": {},
   "source": [
    "2.3 Find the sample variance of $y$ in the group III."
   ]
  },
  {
   "cell_type": "markdown",
   "id": "139d3309",
   "metadata": {},
   "source": [
    "2.4 Find the sample variance of $y$ in the group IV."
   ]
  },
  {
   "cell_type": "markdown",
   "id": "f4c681d9",
   "metadata": {},
   "source": [
    "3. Write python code to create a grouped boxplot of the values $x$ categorized by groups (I, II, III and IV). \n",
    "\n",
    "Note that a grouped boxplot is a boxplot where categories are organized in groups and subgroups.\n",
    "\n",
    "See for detail: https://www.r-graph-gallery.com/265-grouped-boxplot-with-ggplot2.html#:~:text=A%20grouped%20boxplot%20is%20a,called%20in%20the%20fill%20argument."
   ]
  },
  {
   "cell_type": "markdown",
   "id": "2e2c9709",
   "metadata": {},
   "source": [
    "4. Write python code to create a grouped boxplot of the values $y$ categorized by groups (I, II, III and IV). "
   ]
  },
  {
   "cell_type": "markdown",
   "id": "42085106",
   "metadata": {},
   "source": [
    "5. Write python code to plot (in the same figure) histograms and the kernel density estimate (KDE) of the values $x$ for each of the four datasets. (you may use `facet_wrap` in **plotnine**  to build a plot for multiple subsets of the data set) "
   ]
  },
  {
   "cell_type": "markdown",
   "id": "aaf33ea0",
   "metadata": {},
   "source": [
    "6. Write python code to plot (in the same figure) histograms and the kernel density estimate (KDE) of the values $y$ for each of the groups. (you may use `facet_wrap` in **plotnine**  to build a plot for multiple subsets)"
   ]
  },
  {
   "cell_type": "markdown",
   "id": "25c532a3",
   "metadata": {},
   "source": [
    "7. Write python code that create a table that summarizes the (linear) correlation coefficient of the variables $x$ and $y$ for each of the groups."
   ]
  },
  {
   "cell_type": "markdown",
   "id": "9513cf28",
   "metadata": {},
   "source": [
    "7.1 Find the correlation coefficient of the variables $x$ and $y$ of the dataset I."
   ]
  },
  {
   "cell_type": "markdown",
   "id": "cfe3c23d",
   "metadata": {},
   "source": [
    "7.2 Find the correlation coefficient of the variables $x$ and $y$ of the dataset II."
   ]
  },
  {
   "cell_type": "markdown",
   "id": "6cd51b4f",
   "metadata": {},
   "source": [
    "8. Write python code to graphically display the relationship of the variables $x$ and $y$ for each of groups."
   ]
  },
  {
   "cell_type": "markdown",
   "id": "11c83ec0",
   "metadata": {},
   "source": [
    "9. Discuss and conclude the results from the data analysis of this work."
   ]
  },
  {
   "cell_type": "markdown",
   "id": "b64fc4f5",
   "metadata": {},
   "source": [
    "Extra questions for extra points (4 points):\n",
    "\n",
    "Complete questions 10 to earn extra points."
   ]
  },
  {
   "cell_type": "markdown",
   "id": "949987dc",
   "metadata": {},
   "source": [
    "10. Perform regression analysis to determine the possible relationship between the variables $x$ and $y$ for each group.\n",
    "\n",
    "10.1 Find the regression line for the data in group I (for e.g. the regression line is given as 'y = a + b x' where a and b represent the y intercept and slope of the regression line).\n",
    "\n",
    "10.2 Find the regression line for the data in group II.\n",
    "\n",
    "10.3 Find the coefficient of determination (R-squared) of the dataset I.\n",
    "\n",
    "10.4 Find the coefficient of determination (R-squared) of the dataset II."
   ]
  },
  {
   "cell_type": "markdown",
   "id": "bf408755",
   "metadata": {},
   "source": [
    "0. Enter student IDs of your group."
   ]
  },
  {
   "cell_type": "markdown",
   "id": "b5516004",
   "metadata": {},
   "source": [
    "1. Download the following dataset from this Github link (store this data frame as a pandas DataFrame with the variable name `anscombes`): \n",
    "\n",
    "https://gist.github.com/ericbusboom/b2ac1d366c005cd2ed8c\n",
    "\n",
    "The dataset consists of values $x$ and $y$ from four different groups (I,II,III and IV which are given by the column namely `dataset`)."
   ]
  },
  {
   "cell_type": "code",
   "execution_count": 1,
   "id": "1c53bd9b",
   "metadata": {},
   "outputs": [],
   "source": [
    "import numpy as np\n",
    "import pandas as pd\n",
    "from plotnine import *\n",
    "\n",
    "# Add this line so you can plot your charts into your Jupyter Notebook.\n",
    "%matplotlib inline "
   ]
  },
  {
   "cell_type": "code",
   "execution_count": 4,
   "id": "0862e8cd",
   "metadata": {},
   "outputs": [],
   "source": [
    "# We want to specify that 'id' is the index column while loading this data set with the following command (with the parameter index_col):\n",
    "url = 'https://raw.githubusercontent.com/pairote-sat/SCMA248/main/Data/anscombes.csv'\n",
    "#anscombes = pd.read_csv('/Users/Kaemyuijang/SCMA248/Data/anscombes.csv',index_col = 0)\n",
    "\n",
    "anscombes = pd.read_csv(url,index_col = 0)"
   ]
  },
  {
   "cell_type": "code",
   "execution_count": 5,
   "id": "4837f838",
   "metadata": {},
   "outputs": [
    {
     "data": {
      "text/html": [
       "<div>\n",
       "<style scoped>\n",
       "    .dataframe tbody tr th:only-of-type {\n",
       "        vertical-align: middle;\n",
       "    }\n",
       "\n",
       "    .dataframe tbody tr th {\n",
       "        vertical-align: top;\n",
       "    }\n",
       "\n",
       "    .dataframe thead th {\n",
       "        text-align: right;\n",
       "    }\n",
       "</style>\n",
       "<table border=\"1\" class=\"dataframe\">\n",
       "  <thead>\n",
       "    <tr style=\"text-align: right;\">\n",
       "      <th></th>\n",
       "      <th>dataset</th>\n",
       "      <th>x</th>\n",
       "      <th>y</th>\n",
       "    </tr>\n",
       "    <tr>\n",
       "      <th>id</th>\n",
       "      <th></th>\n",
       "      <th></th>\n",
       "      <th></th>\n",
       "    </tr>\n",
       "  </thead>\n",
       "  <tbody>\n",
       "    <tr>\n",
       "      <th>0</th>\n",
       "      <td>I</td>\n",
       "      <td>10.0</td>\n",
       "      <td>8.04</td>\n",
       "    </tr>\n",
       "    <tr>\n",
       "      <th>1</th>\n",
       "      <td>I</td>\n",
       "      <td>8.0</td>\n",
       "      <td>6.95</td>\n",
       "    </tr>\n",
       "    <tr>\n",
       "      <th>2</th>\n",
       "      <td>I</td>\n",
       "      <td>13.0</td>\n",
       "      <td>7.58</td>\n",
       "    </tr>\n",
       "    <tr>\n",
       "      <th>3</th>\n",
       "      <td>I</td>\n",
       "      <td>9.0</td>\n",
       "      <td>8.81</td>\n",
       "    </tr>\n",
       "    <tr>\n",
       "      <th>4</th>\n",
       "      <td>I</td>\n",
       "      <td>11.0</td>\n",
       "      <td>8.33</td>\n",
       "    </tr>\n",
       "  </tbody>\n",
       "</table>\n",
       "</div>"
      ],
      "text/plain": [
       "   dataset     x     y\n",
       "id                    \n",
       "0        I  10.0  8.04\n",
       "1        I   8.0  6.95\n",
       "2        I  13.0  7.58\n",
       "3        I   9.0  8.81\n",
       "4        I  11.0  8.33"
      ]
     },
     "execution_count": 5,
     "metadata": {},
     "output_type": "execute_result"
    }
   ],
   "source": [
    "#anscombes.dtypes\n",
    "anscombes.head(5)"
   ]
  },
  {
   "cell_type": "markdown",
   "id": "3059f3e8",
   "metadata": {},
   "source": [
    "Perform statistical data analysis of the `anscombes` dataset by answering the following questions:\n",
    "\n",
    "2. Write python code to create a table that provides a summary of the variables $x$ and $y$ for each of groups (including the mean of $x$, the sample variance of $x$, the mean of $y$, the sample variance of $y$)."
   ]
  },
  {
   "cell_type": "code",
   "execution_count": 7,
   "id": "59a6a1f4",
   "metadata": {},
   "outputs": [
    {
     "data": {
      "text/html": [
       "<div>\n",
       "<style scoped>\n",
       "    .dataframe tbody tr th:only-of-type {\n",
       "        vertical-align: middle;\n",
       "    }\n",
       "\n",
       "    .dataframe tbody tr th {\n",
       "        vertical-align: top;\n",
       "    }\n",
       "\n",
       "    .dataframe thead tr th {\n",
       "        text-align: left;\n",
       "    }\n",
       "\n",
       "    .dataframe thead tr:last-of-type th {\n",
       "        text-align: right;\n",
       "    }\n",
       "</style>\n",
       "<table border=\"1\" class=\"dataframe\">\n",
       "  <thead>\n",
       "    <tr>\n",
       "      <th></th>\n",
       "      <th colspan=\"8\" halign=\"left\">x</th>\n",
       "      <th colspan=\"8\" halign=\"left\">y</th>\n",
       "    </tr>\n",
       "    <tr>\n",
       "      <th></th>\n",
       "      <th>count</th>\n",
       "      <th>mean</th>\n",
       "      <th>std</th>\n",
       "      <th>min</th>\n",
       "      <th>25%</th>\n",
       "      <th>50%</th>\n",
       "      <th>75%</th>\n",
       "      <th>max</th>\n",
       "      <th>count</th>\n",
       "      <th>mean</th>\n",
       "      <th>std</th>\n",
       "      <th>min</th>\n",
       "      <th>25%</th>\n",
       "      <th>50%</th>\n",
       "      <th>75%</th>\n",
       "      <th>max</th>\n",
       "    </tr>\n",
       "    <tr>\n",
       "      <th>dataset</th>\n",
       "      <th></th>\n",
       "      <th></th>\n",
       "      <th></th>\n",
       "      <th></th>\n",
       "      <th></th>\n",
       "      <th></th>\n",
       "      <th></th>\n",
       "      <th></th>\n",
       "      <th></th>\n",
       "      <th></th>\n",
       "      <th></th>\n",
       "      <th></th>\n",
       "      <th></th>\n",
       "      <th></th>\n",
       "      <th></th>\n",
       "      <th></th>\n",
       "    </tr>\n",
       "  </thead>\n",
       "  <tbody>\n",
       "    <tr>\n",
       "      <th>I</th>\n",
       "      <td>11.0</td>\n",
       "      <td>9.0</td>\n",
       "      <td>3.316625</td>\n",
       "      <td>4.0</td>\n",
       "      <td>6.5</td>\n",
       "      <td>9.0</td>\n",
       "      <td>11.5</td>\n",
       "      <td>14.0</td>\n",
       "      <td>11.0</td>\n",
       "      <td>7.500909</td>\n",
       "      <td>2.031568</td>\n",
       "      <td>4.26</td>\n",
       "      <td>6.315</td>\n",
       "      <td>7.58</td>\n",
       "      <td>8.57</td>\n",
       "      <td>10.84</td>\n",
       "    </tr>\n",
       "    <tr>\n",
       "      <th>II</th>\n",
       "      <td>11.0</td>\n",
       "      <td>9.0</td>\n",
       "      <td>3.316625</td>\n",
       "      <td>4.0</td>\n",
       "      <td>6.5</td>\n",
       "      <td>9.0</td>\n",
       "      <td>11.5</td>\n",
       "      <td>14.0</td>\n",
       "      <td>11.0</td>\n",
       "      <td>7.500909</td>\n",
       "      <td>2.031657</td>\n",
       "      <td>3.10</td>\n",
       "      <td>6.695</td>\n",
       "      <td>8.14</td>\n",
       "      <td>8.95</td>\n",
       "      <td>9.26</td>\n",
       "    </tr>\n",
       "    <tr>\n",
       "      <th>III</th>\n",
       "      <td>11.0</td>\n",
       "      <td>9.0</td>\n",
       "      <td>3.316625</td>\n",
       "      <td>4.0</td>\n",
       "      <td>6.5</td>\n",
       "      <td>9.0</td>\n",
       "      <td>11.5</td>\n",
       "      <td>14.0</td>\n",
       "      <td>11.0</td>\n",
       "      <td>7.500000</td>\n",
       "      <td>2.030424</td>\n",
       "      <td>5.39</td>\n",
       "      <td>6.250</td>\n",
       "      <td>7.11</td>\n",
       "      <td>7.98</td>\n",
       "      <td>12.74</td>\n",
       "    </tr>\n",
       "    <tr>\n",
       "      <th>IV</th>\n",
       "      <td>11.0</td>\n",
       "      <td>9.0</td>\n",
       "      <td>3.316625</td>\n",
       "      <td>8.0</td>\n",
       "      <td>8.0</td>\n",
       "      <td>8.0</td>\n",
       "      <td>8.0</td>\n",
       "      <td>19.0</td>\n",
       "      <td>11.0</td>\n",
       "      <td>7.500909</td>\n",
       "      <td>2.030579</td>\n",
       "      <td>5.25</td>\n",
       "      <td>6.170</td>\n",
       "      <td>7.04</td>\n",
       "      <td>8.19</td>\n",
       "      <td>12.50</td>\n",
       "    </tr>\n",
       "  </tbody>\n",
       "</table>\n",
       "</div>"
      ],
      "text/plain": [
       "            x                                               y            \\\n",
       "        count mean       std  min  25%  50%   75%   max count      mean   \n",
       "dataset                                                                   \n",
       "I        11.0  9.0  3.316625  4.0  6.5  9.0  11.5  14.0  11.0  7.500909   \n",
       "II       11.0  9.0  3.316625  4.0  6.5  9.0  11.5  14.0  11.0  7.500909   \n",
       "III      11.0  9.0  3.316625  4.0  6.5  9.0  11.5  14.0  11.0  7.500000   \n",
       "IV       11.0  9.0  3.316625  8.0  8.0  8.0   8.0  19.0  11.0  7.500909   \n",
       "\n",
       "                                                   \n",
       "              std   min    25%   50%   75%    max  \n",
       "dataset                                            \n",
       "I        2.031568  4.26  6.315  7.58  8.57  10.84  \n",
       "II       2.031657  3.10  6.695  8.14  8.95   9.26  \n",
       "III      2.030424  5.39  6.250  7.11  7.98  12.74  \n",
       "IV       2.030579  5.25  6.170  7.04  8.19  12.50  "
      ]
     },
     "execution_count": 7,
     "metadata": {},
     "output_type": "execute_result"
    }
   ],
   "source": [
    "anscombes.groupby('dataset').describe()"
   ]
  },
  {
   "cell_type": "markdown",
   "id": "6c147d57",
   "metadata": {},
   "source": [
    "2.1 Find the mean of $x$ in the group I."
   ]
  },
  {
   "cell_type": "code",
   "execution_count": 10,
   "id": "bb743779",
   "metadata": {},
   "outputs": [
    {
     "name": "stdout",
     "output_type": "stream",
     "text": [
      "Q2.1 the mean of x in the group I: 9.0\n"
     ]
    }
   ],
   "source": [
    "output = anscombes.groupby('dataset').describe()\n",
    "\n",
    "output.loc['I',('x', 'mean')]\n",
    "\n",
    "ans2_1 = output.loc['I',('x', 'mean')]\n",
    "\n",
    "print('Q2.1 the mean of x in the group I:', ans2_1)"
   ]
  },
  {
   "cell_type": "markdown",
   "id": "21edb4d5",
   "metadata": {},
   "source": [
    "2.2 Find the mean of $x$ in the group II."
   ]
  },
  {
   "cell_type": "code",
   "execution_count": 11,
   "id": "16f6d2f6",
   "metadata": {},
   "outputs": [
    {
     "name": "stdout",
     "output_type": "stream",
     "text": [
      "Q2.2 the mean of x in the group II: 9.0\n"
     ]
    }
   ],
   "source": [
    "ans2_2 = output.loc['II',('x', 'mean')]\n",
    "\n",
    "print('Q2.2 the mean of x in the group II:', ans2_2)"
   ]
  },
  {
   "cell_type": "markdown",
   "id": "a19e5269",
   "metadata": {},
   "source": [
    "2.3 Find the sample variance of $y$ in the group III."
   ]
  },
  {
   "cell_type": "code",
   "execution_count": 12,
   "id": "0a5dd6f1",
   "metadata": {},
   "outputs": [
    {
     "name": "stdout",
     "output_type": "stream",
     "text": [
      "Q2.3 the sample variance of $y$ in the group III: 4.12262\n"
     ]
    }
   ],
   "source": [
    "ans2_3 = output.loc['III',('y', 'std')] ** 2\n",
    "\n",
    "print('Q2.3 the sample variance of $y$ in the group III:', ans2_3)"
   ]
  },
  {
   "cell_type": "markdown",
   "id": "dbea139a",
   "metadata": {},
   "source": [
    "2.4 Find the sample variance of $y$ in the group IV."
   ]
  },
  {
   "cell_type": "code",
   "execution_count": 13,
   "id": "c2849def",
   "metadata": {},
   "outputs": [
    {
     "name": "stdout",
     "output_type": "stream",
     "text": [
      "Q2.4 the sample variance of $y$ in the group IV: 4.12324909090909\n"
     ]
    }
   ],
   "source": [
    "ans2_4 = output.loc['IV',('y', 'std')] ** 2\n",
    "\n",
    "print('Q2.4 the sample variance of $y$ in the group IV:', ans2_4)"
   ]
  },
  {
   "cell_type": "markdown",
   "id": "11dfafa4",
   "metadata": {},
   "source": [
    "3. Write python code to create a grouped boxplot of the values $x$ categorized by groups (I, II, III and IV). \n",
    "\n",
    "Note that a grouped boxplot is a boxplot where categories are organized in groups and subgroups.\n",
    "\n",
    "See for detail: https://www.r-graph-gallery.com/265-grouped-boxplot-with-ggplot2.html#:~:text=A%20grouped%20boxplot%20is%20a,called%20in%20the%20fill%20argument."
   ]
  },
  {
   "cell_type": "code",
   "execution_count": 14,
   "id": "aec76042",
   "metadata": {},
   "outputs": [
    {
     "data": {
      "image/png": "[encoded data removed]",
      "text/plain": [
       "<Figure size 640x480 with 1 Axes>"
      ]
     },
     "metadata": {},
     "output_type": "display_data"
    },
    {
     "data": {
      "text/plain": [
       "<ggplot: (304675205)>"
      ]
     },
     "execution_count": 14,
     "metadata": {},
     "output_type": "execute_result"
    }
   ],
   "source": [
    "( ggplot(anscombes)  + \n",
    "     aes(x = 'dataset', y = 'x') +\n",
    "     geom_boxplot()  \n",
    ") "
   ]
  },
  {
   "cell_type": "markdown",
   "id": "82f4d2ac",
   "metadata": {},
   "source": [
    "4. Write python code to create a grouped boxplot of the values $y$ categorized by groups (I, II, III and IV). "
   ]
  },
  {
   "cell_type": "code",
   "execution_count": 15,
   "id": "75783b23",
   "metadata": {},
   "outputs": [
    {
     "data": {
      "image/png": "[encoded data removed]",
      "text/plain": [
       "<Figure size 640x480 with 1 Axes>"
      ]
     },
     "metadata": {},
     "output_type": "display_data"
    },
    {
     "data": {
      "text/plain": [
       "<ggplot: (304767449)>"
      ]
     },
     "execution_count": 15,
     "metadata": {},
     "output_type": "execute_result"
    }
   ],
   "source": [
    "( ggplot(anscombes)  + \n",
    "     aes(x = 'dataset', y = 'y') +\n",
    "     geom_boxplot()  \n",
    ") "
   ]
  },
  {
   "cell_type": "markdown",
   "id": "3beebeb9",
   "metadata": {},
   "source": [
    "5. Write python code to plot (in the same figure) histograms and the kernel density estimate (KDE) of the values $x$ for each of the four datasets. (you may use `facet_wrap` in **plotnine**  to build a plot for multiple subsets of the data set) "
   ]
  },
  {
   "cell_type": "code",
   "execution_count": 16,
   "id": "55dc859b",
   "metadata": {},
   "outputs": [
    {
     "name": "stderr",
     "output_type": "stream",
     "text": [
      "/Users/Kaemyuijang/opt/anaconda3/lib/python3.7/site-packages/plotnine/stats/stat_bin.py:95: PlotnineWarning: 'stat_bin()' using 'bins = 7'. Pick better value with 'binwidth'.\n"
     ]
    },
    {
     "data": {
      "image/png": "[encoded data removed]",
      "text/plain": [
       "<Figure size 640x480 with 4 Axes>"
      ]
     },
     "metadata": {},
     "output_type": "display_data"
    },
    {
     "data": {
      "text/plain": [
       "<ggplot: (304887865)>"
      ]
     },
     "execution_count": 16,
     "metadata": {},
     "output_type": "execute_result"
    }
   ],
   "source": [
    "( ggplot(anscombes)  + \n",
    "     aes(x = 'x') + \n",
    "     geom_histogram(aes(y=after_stat('count'))) + \n",
    "     geom_density(aes(y=after_stat('count'))) +\n",
    "     facet_wrap('dataset') \n",
    ") "
   ]
  },
  {
   "cell_type": "markdown",
   "id": "bf73fa62",
   "metadata": {},
   "source": [
    "6. Write python code to plot (in the same figure) histograms and the kernel density estimate (KDE) of the values $y$ for each of the groups. (you may use `facet_wrap` in **plotnine**  to build a plot for multiple subsets)"
   ]
  },
  {
   "cell_type": "code",
   "execution_count": 17,
   "id": "02cca26e",
   "metadata": {},
   "outputs": [
    {
     "name": "stderr",
     "output_type": "stream",
     "text": [
      "/Users/Kaemyuijang/opt/anaconda3/lib/python3.7/site-packages/plotnine/stats/stat_bin.py:95: PlotnineWarning: 'stat_bin()' using 'bins = 7'. Pick better value with 'binwidth'.\n"
     ]
    },
    {
     "data": {
      "image/png": "[encoded data removed]",
      "text/plain": [
       "<Figure size 640x480 with 4 Axes>"
      ]
     },
     "metadata": {},
     "output_type": "display_data"
    },
    {
     "data": {
      "text/plain": [
       "<ggplot: (305181757)>"
      ]
     },
     "execution_count": 17,
     "metadata": {},
     "output_type": "execute_result"
    }
   ],
   "source": [
    "( ggplot(anscombes)  + \n",
    "     aes(x = 'y') + \n",
    "     geom_histogram(aes(y=after_stat('count'))) + \n",
    "     geom_density(aes(y=after_stat('count'))) +\n",
    "     facet_wrap('dataset') \n",
    ") "
   ]
  },
  {
   "cell_type": "markdown",
   "id": "59401b9e",
   "metadata": {},
   "source": [
    "7. Write python code that create a table that summarizes the (linear) correlation coefficient of the variables $x$ and $y$ for each of the groups."
   ]
  },
  {
   "cell_type": "code",
   "execution_count": 18,
   "id": "ca6522de",
   "metadata": {},
   "outputs": [
    {
     "data": {
      "text/html": [
       "<div>\n",
       "<style scoped>\n",
       "    .dataframe tbody tr th:only-of-type {\n",
       "        vertical-align: middle;\n",
       "    }\n",
       "\n",
       "    .dataframe tbody tr th {\n",
       "        vertical-align: top;\n",
       "    }\n",
       "\n",
       "    .dataframe thead th {\n",
       "        text-align: right;\n",
       "    }\n",
       "</style>\n",
       "<table border=\"1\" class=\"dataframe\">\n",
       "  <thead>\n",
       "    <tr style=\"text-align: right;\">\n",
       "      <th></th>\n",
       "      <th></th>\n",
       "      <th>x</th>\n",
       "      <th>y</th>\n",
       "    </tr>\n",
       "    <tr>\n",
       "      <th>dataset</th>\n",
       "      <th></th>\n",
       "      <th></th>\n",
       "      <th></th>\n",
       "    </tr>\n",
       "  </thead>\n",
       "  <tbody>\n",
       "    <tr>\n",
       "      <th rowspan=\"2\" valign=\"top\">I</th>\n",
       "      <th>x</th>\n",
       "      <td>1.000000</td>\n",
       "      <td>0.816421</td>\n",
       "    </tr>\n",
       "    <tr>\n",
       "      <th>y</th>\n",
       "      <td>0.816421</td>\n",
       "      <td>1.000000</td>\n",
       "    </tr>\n",
       "    <tr>\n",
       "      <th rowspan=\"2\" valign=\"top\">II</th>\n",
       "      <th>x</th>\n",
       "      <td>1.000000</td>\n",
       "      <td>0.816237</td>\n",
       "    </tr>\n",
       "    <tr>\n",
       "      <th>y</th>\n",
       "      <td>0.816237</td>\n",
       "      <td>1.000000</td>\n",
       "    </tr>\n",
       "    <tr>\n",
       "      <th rowspan=\"2\" valign=\"top\">III</th>\n",
       "      <th>x</th>\n",
       "      <td>1.000000</td>\n",
       "      <td>0.816287</td>\n",
       "    </tr>\n",
       "    <tr>\n",
       "      <th>y</th>\n",
       "      <td>0.816287</td>\n",
       "      <td>1.000000</td>\n",
       "    </tr>\n",
       "    <tr>\n",
       "      <th rowspan=\"2\" valign=\"top\">IV</th>\n",
       "      <th>x</th>\n",
       "      <td>1.000000</td>\n",
       "      <td>0.816521</td>\n",
       "    </tr>\n",
       "    <tr>\n",
       "      <th>y</th>\n",
       "      <td>0.816521</td>\n",
       "      <td>1.000000</td>\n",
       "    </tr>\n",
       "  </tbody>\n",
       "</table>\n",
       "</div>"
      ],
      "text/plain": [
       "                  x         y\n",
       "dataset                      \n",
       "I       x  1.000000  0.816421\n",
       "        y  0.816421  1.000000\n",
       "II      x  1.000000  0.816237\n",
       "        y  0.816237  1.000000\n",
       "III     x  1.000000  0.816287\n",
       "        y  0.816287  1.000000\n",
       "IV      x  1.000000  0.816521\n",
       "        y  0.816521  1.000000"
      ]
     },
     "execution_count": 18,
     "metadata": {},
     "output_type": "execute_result"
    }
   ],
   "source": [
    "anscombes.groupby('dataset').corr()"
   ]
  },
  {
   "cell_type": "markdown",
   "id": "de398608",
   "metadata": {},
   "source": [
    "7.1 Find the correlation coefficient of the variables $x$ and $y$ of the dataset I."
   ]
  },
  {
   "cell_type": "code",
   "execution_count": 19,
   "id": "445923f1",
   "metadata": {},
   "outputs": [
    {
     "name": "stdout",
     "output_type": "stream",
     "text": [
      "Q7.1 the correlation coefficient of the variables $x$ and $y$ of the dataset I:\n",
      " 0.8164205163448399\n"
     ]
    }
   ],
   "source": [
    "ans7_1  = anscombes.groupby('dataset').corr().loc['I'].iloc[0,1]\n",
    "      \n",
    "print('Q7.1 the correlation coefficient of the variables $x$ and $y$ of the dataset I:\\n', ans7_1)      "
   ]
  },
  {
   "cell_type": "markdown",
   "id": "176cfa53",
   "metadata": {},
   "source": [
    "7.2 Find the correlation coefficient of the variables $x$ and $y$ of the dataset II."
   ]
  },
  {
   "cell_type": "code",
   "execution_count": 20,
   "id": "877136b9",
   "metadata": {},
   "outputs": [
    {
     "name": "stdout",
     "output_type": "stream",
     "text": [
      "Q7.2 the correlation coefficient of the variables $x$ and $y$ of the dataset I:\n",
      " 0.8162365060002427\n"
     ]
    }
   ],
   "source": [
    "ans7_2  = anscombes.groupby('dataset').corr().loc['II'].iloc[0,1]\n",
    "      \n",
    "print('Q7.2 the correlation coefficient of the variables $x$ and $y$ of the dataset I:\\n', ans7_2)      "
   ]
  },
  {
   "cell_type": "markdown",
   "id": "d3ad79b0",
   "metadata": {},
   "source": [
    "8. Write python code to graphically display the relationship of the variables $x$ and $y$ for each of groups."
   ]
  },
  {
   "cell_type": "code",
   "execution_count": 21,
   "id": "5a91f7f0",
   "metadata": {},
   "outputs": [
    {
     "data": {
      "text/html": [
       "<div>\n",
       "<style scoped>\n",
       "    .dataframe tbody tr th:only-of-type {\n",
       "        vertical-align: middle;\n",
       "    }\n",
       "\n",
       "    .dataframe tbody tr th {\n",
       "        vertical-align: top;\n",
       "    }\n",
       "\n",
       "    .dataframe thead th {\n",
       "        text-align: right;\n",
       "    }\n",
       "</style>\n",
       "<table border=\"1\" class=\"dataframe\">\n",
       "  <thead>\n",
       "    <tr style=\"text-align: right;\">\n",
       "      <th></th>\n",
       "      <th>dataset</th>\n",
       "      <th>x</th>\n",
       "      <th>y</th>\n",
       "    </tr>\n",
       "    <tr>\n",
       "      <th>id</th>\n",
       "      <th></th>\n",
       "      <th></th>\n",
       "      <th></th>\n",
       "    </tr>\n",
       "  </thead>\n",
       "  <tbody>\n",
       "    <tr>\n",
       "      <th>0</th>\n",
       "      <td>I</td>\n",
       "      <td>10.0</td>\n",
       "      <td>8.04</td>\n",
       "    </tr>\n",
       "    <tr>\n",
       "      <th>1</th>\n",
       "      <td>I</td>\n",
       "      <td>8.0</td>\n",
       "      <td>6.95</td>\n",
       "    </tr>\n",
       "    <tr>\n",
       "      <th>2</th>\n",
       "      <td>I</td>\n",
       "      <td>13.0</td>\n",
       "      <td>7.58</td>\n",
       "    </tr>\n",
       "    <tr>\n",
       "      <th>3</th>\n",
       "      <td>I</td>\n",
       "      <td>9.0</td>\n",
       "      <td>8.81</td>\n",
       "    </tr>\n",
       "    <tr>\n",
       "      <th>4</th>\n",
       "      <td>I</td>\n",
       "      <td>11.0</td>\n",
       "      <td>8.33</td>\n",
       "    </tr>\n",
       "  </tbody>\n",
       "</table>\n",
       "</div>"
      ],
      "text/plain": [
       "   dataset     x     y\n",
       "id                    \n",
       "0        I  10.0  8.04\n",
       "1        I   8.0  6.95\n",
       "2        I  13.0  7.58\n",
       "3        I   9.0  8.81\n",
       "4        I  11.0  8.33"
      ]
     },
     "execution_count": 21,
     "metadata": {},
     "output_type": "execute_result"
    }
   ],
   "source": [
    "anscombes.head()"
   ]
  },
  {
   "cell_type": "code",
   "execution_count": 22,
   "id": "c829f95b",
   "metadata": {},
   "outputs": [
    {
     "data": {
      "image/png": "[encoded data removed]",
      "text/plain": [
       "<Figure size 640x480 with 4 Axes>"
      ]
     },
     "metadata": {},
     "output_type": "display_data"
    },
    {
     "data": {
      "text/plain": [
       "<ggplot: (293804697)>"
      ]
     },
     "execution_count": 22,
     "metadata": {},
     "output_type": "execute_result"
    }
   ],
   "source": [
    "(\n",
    "    ggplot(anscombes) + \n",
    "    aes(x = 'x', y='y') + \n",
    "    geom_point() +\n",
    "    facet_wrap('dataset')\n",
    ")"
   ]
  },
  {
   "cell_type": "markdown",
   "id": "bd5dddd3",
   "metadata": {},
   "source": [
    "9. Discuss and conclude the results from the data analysis of this work."
   ]
  },
  {
   "cell_type": "markdown",
   "id": "0ca40ce5",
   "metadata": {},
   "source": [
    "Q9: **Anscombe's Quartet** is a collection of four data sets that are essentially equal in terms of simple descriptive statistics (as shown in Q2), but have some oddities in the dataset: \n",
    "\n",
    "These oddities trick the regression model if formed. When plotted on scatter plots (Q8), they have extremely different distributions and appear differently."
   ]
  },
  {
   "cell_type": "markdown",
   "id": "d1fd5254",
   "metadata": {},
   "source": [
    "Extra questions for extra points (4 points):\n",
    "\n",
    "Complete questions 10 to earn extra points."
   ]
  },
  {
   "cell_type": "markdown",
   "id": "18f7dd46",
   "metadata": {},
   "source": [
    "10. Perform regression analysis to determine the possible relationship between the variables $x$ and $y$ for each group."
   ]
  },
  {
   "cell_type": "markdown",
   "id": "a551e367",
   "metadata": {},
   "source": [
    "Q10: The results from the regression analysis are identical, but when graphed, they differ significantly. This dataset demonstrates the importance of plotting graphs before analysing and creating models, as well as the impact of other observations on statistical features."
   ]
  },
  {
   "cell_type": "markdown",
   "id": "f90a5e63",
   "metadata": {},
   "source": [
    "10.1 Find the regression line for the data in group I (for e.g. the regression line is given as 'y = a + b x' where a and b represent the y intercept and slope of the regression line)."
   ]
  },
  {
   "cell_type": "code",
   "execution_count": 69,
   "id": "8522476c",
   "metadata": {},
   "outputs": [],
   "source": [
    "import statsmodels.formula.api as smf"
   ]
  },
  {
   "cell_type": "code",
   "execution_count": 36,
   "id": "b78f2a2c",
   "metadata": {},
   "outputs": [],
   "source": [
    "#anscombes.query(\"dataset == 'I'\")"
   ]
  },
  {
   "cell_type": "code",
   "execution_count": 70,
   "id": "05c00347",
   "metadata": {},
   "outputs": [
    {
     "name": "stdout",
     "output_type": "stream",
     "text": [
      "Q10.1: the slope and intercept of the regression line\n",
      " Intercept    3.000091\n",
      "x            0.500091\n",
      "dtype: float64\n"
     ]
    }
   ],
   "source": [
    "group1 = smf.ols(formula='y ~ x', data=anscombes.query(\"dataset == 'I'\")).fit()\n",
    "print('Q10.1: the slope and intercept of the regression line\\n', group1.params)"
   ]
  },
  {
   "cell_type": "markdown",
   "id": "1ce5e95d",
   "metadata": {},
   "source": [
    "10.2 Find the regression line for the data in group II."
   ]
  },
  {
   "cell_type": "code",
   "execution_count": 71,
   "id": "e524510d",
   "metadata": {},
   "outputs": [
    {
     "name": "stdout",
     "output_type": "stream",
     "text": [
      "Q10.2: the slope and intercept of the regression line\n",
      " Intercept    3.000909\n",
      "x            0.500000\n",
      "dtype: float64\n"
     ]
    }
   ],
   "source": [
    "group2 = smf.ols(formula='y ~ x', data=anscombes.query(\"dataset == 'II'\")).fit()\n",
    "print('Q10.2: the slope and intercept of the regression line\\n', group2.params)"
   ]
  },
  {
   "cell_type": "markdown",
   "id": "9fd6b809",
   "metadata": {},
   "source": [
    "10.3 Find the coefficient of determination (R-squared) of the dataset I."
   ]
  },
  {
   "cell_type": "code",
   "execution_count": 74,
   "id": "1f01e4b1",
   "metadata": {},
   "outputs": [
    {
     "data": {
      "text/plain": [
       "0.666542459508775"
      ]
     },
     "execution_count": 74,
     "metadata": {},
     "output_type": "execute_result"
    }
   ],
   "source": [
    "group1.rsquared"
   ]
  },
  {
   "cell_type": "markdown",
   "id": "336fe547",
   "metadata": {},
   "source": [
    "10.4 Find the coefficient of determination (R-squared) of the dataset II."
   ]
  },
  {
   "cell_type": "code",
   "execution_count": 76,
   "id": "3695f4f5",
   "metadata": {},
   "outputs": [
    {
     "data": {
      "text/plain": [
       "0.6662420337274844"
      ]
     },
     "execution_count": 76,
     "metadata": {},
     "output_type": "execute_result"
    }
   ],
   "source": [
    "group2.rsquared"
   ]
  },
  {
   "cell_type": "markdown",
   "id": "df3440a2",
   "metadata": {},
   "source": [
    "The regression lines for each group:"
   ]
  },
  {
   "cell_type": "code",
   "execution_count": 78,
   "id": "744a5858",
   "metadata": {},
   "outputs": [
    {
     "data": {
      "image/png": "[encoded data removed]",
      "text/plain": [
       "<Figure size 640x480 with 4 Axes>"
      ]
     },
     "metadata": {},
     "output_type": "display_data"
    },
    {
     "data": {
      "text/plain": [
       "<ggplot: (305054469)>"
      ]
     },
     "execution_count": 78,
     "metadata": {},
     "output_type": "execute_result"
    }
   ],
   "source": [
    "(\n",
    "    ggplot(anscombes) + \n",
    "    aes(x = 'x', y='y') + \n",
    "    geom_point() +\n",
    "    geom_smooth(method='lm',color='green') +\n",
    "    facet_wrap('dataset')\n",
    ")"
   ]
  },
  {
   "cell_type": "code",
   "execution_count": null,
   "id": "e52dddd5",
   "metadata": {},
   "outputs": [],
   "source": []
  }
 ],
 "metadata": {
  "kernelspec": {
   "display_name": "Python 3 (ipykernel)",
   "language": "python",
   "name": "python3"
  },
  "language_info": {
   "codemirror_mode": {
    "name": "ipython",
    "version": 3
   },
   "file_extension": ".py",
   "mimetype": "text/x-python",
   "name": "python",
   "nbconvert_exporter": "python",
   "pygments_lexer": "ipython3",
   "version": "3.7.11"
  }
 },
 "nbformat": 4,
 "nbformat_minor": 5
}
