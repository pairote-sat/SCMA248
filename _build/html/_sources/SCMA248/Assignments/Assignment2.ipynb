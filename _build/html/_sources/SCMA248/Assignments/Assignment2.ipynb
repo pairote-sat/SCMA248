{
 "cells": [
  {
   "cell_type": "markdown",
   "id": "714dabba",
   "metadata": {},
   "source": [
    "## Assignment 2 (Exercise for Chapter 3)\n",
    "\n",
    "This exercise is designed to assist you how to work with pandas dataframe to preprocess data and perform basic statistical analysis. Specifically, you will practice how to select the data you need, group and transform data to obtain new and meaningful information."
   ]
  },
  {
   "cell_type": "markdown",
   "id": "add58858",
   "metadata": {},
   "source": [
    "**Instructions:**\n",
    "\n",
    "Due date: 1 February 2022 before 4 pm. \n",
    "\n",
    "Points: 5\n",
    "\n",
    "1. **Do not alter this file.**\n",
    "2. Form a group of two members. **The group member must be different from Assignment 1.**\n",
    "3. Duplicate this file and move it into the Personal folder (you may share access to your team member).\n",
    "4. **Rename** the file as Assignment2_id1_id2 (id1 and id2 are student ID numbers in ascending order, e.g. Assignment2_6305001_6305001).\n",
    "5. Write Python commands to answer each of the questions. \n",
    "6. For each question that **requires numerical values** (not list or dataframe), you also need to **assign the variable** e.g. ans1 to store the numerical answer for question 1. If there is more than 1 answer required, you must create more variables e.g. ans1_1, ans1_2 to store the values of the answers.\n",
    "7. When you want to submit your file, you simply share access with me using my email pairote.sat@mahidol.edu. **Do not move your file into the DS@MathMahidol team**."
   ]
  },
  {
   "cell_type": "markdown",
   "id": "8d96015a",
   "metadata": {},
   "source": [
    "0. Enter student IDs of your group."
   ]
  },
  {
   "cell_type": "code",
   "execution_count": null,
   "id": "1a98d056",
   "metadata": {},
   "outputs": [],
   "source": [
    "id1 = '6305001'\n",
    "id2 = '6305002'"
   ]
  },
  {
   "cell_type": "markdown",
   "id": "b4655ef4",
   "metadata": {},
   "source": [
    "1. Write Python code to generage a table that shows the 2010 claims frequency distribution. The table should contain the number of policies, the number of claims and the proportion (broken down by the number of claims).\n",
    "\n",
    "Goal: the table should tell us how many poicyholders and the (percentage) proportion of policyholders who did not have any claims, only one claim and so on. "
   ]
  },
  {
   "cell_type": "markdown",
   "id": "6abaa39b",
   "metadata": {},
   "source": [
    "Answer the following questions:\n",
    "\n",
    "1.1. How many policyholders in the 2010 claims data have 9 or more claims?\n",
    "\n",
    "1.2. What is the percentage proportion of policyholders having exactly 3 claims?"
   ]
  },
  {
   "cell_type": "code",
   "execution_count": null,
   "id": "3d18284c",
   "metadata": {},
   "outputs": [],
   "source": [
    "# Put your Python commands here.\n",
    "\n",
    "\n",
    "# Do not forget to assign the variables ans1_1 and ans1_2.\n",
    "\n",
    "ans1_1 =\n",
    "\n",
    "ans1_2 = "
   ]
  },
  {
   "cell_type": "markdown",
   "id": "ec87598d",
   "metadata": {},
   "source": [
    "2. From those **403 policyholders** who made at least one claim, write Python code to generage a table that provides information about the distribution of average claim amounts in year 2010."
   ]
  },
  {
   "cell_type": "markdown",
   "id": "4a018909",
   "metadata": {},
   "source": [
    "Answer the following questions:\n",
    "\n",
    "2.1. What is the mean of the average claim amounts?\n",
    "\n",
    "2.2. What is the third quartile of the average claim amounts?"
   ]
  },
  {
   "cell_type": "markdown",
   "id": "3c9e38d0",
   "metadata": {},
   "source": [
    "3. Consider the claims data over the 5 years between 2006-2010 inclusive. Write Python code to generage a table that shows the average claim varies over time, average frequency, average coverage and the number of policyholders. "
   ]
  },
  {
   "cell_type": "markdown",
   "id": "b844ea78",
   "metadata": {},
   "source": [
    "Answer the following questions:\n",
    "\n",
    "3.1 What can you say about the number of policyholders over this period?\n",
    "\n",
    "3.2 How does the average coverage change over this period?"
   ]
  }
 ],
 "metadata": {
  "kernelspec": {
   "display_name": "Python 3 (ipykernel)",
   "language": "python",
   "name": "python3"
  },
  "language_info": {
   "codemirror_mode": {
    "name": "ipython",
    "version": 3
   },
   "file_extension": ".py",
   "mimetype": "text/x-python",
   "name": "python",
   "nbconvert_exporter": "python",
   "pygments_lexer": "ipython3",
   "version": "3.7.11"
  }
 },
 "nbformat": 4,
 "nbformat_minor": 5
}
