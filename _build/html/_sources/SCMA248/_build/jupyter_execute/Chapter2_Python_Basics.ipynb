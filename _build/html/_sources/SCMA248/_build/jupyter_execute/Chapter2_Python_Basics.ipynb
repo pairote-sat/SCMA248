{
 "cells": [
  {
   "cell_type": "markdown",
   "id": "42f5641a",
   "metadata": {},
   "source": [
    "# Python Basics\n",
    "\n",
    "In this chapter, we get started with very useful Python basics."
   ]
  },
  {
   "cell_type": "markdown",
   "id": "d7bd9244",
   "metadata": {},
   "source": [
    "## Comments\n",
    "\n",
    "A comment is a piece of text that is not executed within a program. It can be used to provide additional information to help with code comprehension.\n",
    "\n",
    "A comment is started with the `#` character and continues until the end of the line."
   ]
  },
  {
   "cell_type": "code",
   "execution_count": 1,
   "id": "b273624f",
   "metadata": {},
   "outputs": [],
   "source": [
    "# This is a comment line."
   ]
  },
  {
   "cell_type": "markdown",
   "id": "dbd741d6",
   "metadata": {},
   "source": [
    "## Whitespace Formatting\n",
    "\n",
    "Curly brackets are used to separate code blocks in many languages. Indentation is used in Python:\n",
    "This makes Python code very readable, but it also implies that formatting must be done carefully."
   ]
  },
  {
   "cell_type": "code",
   "execution_count": 2,
   "id": "c84782ca",
   "metadata": {},
   "outputs": [
    {
     "name": "stdout",
     "output_type": "stream",
     "text": [
      "2\n",
      "3\n",
      "3\n",
      "4\n"
     ]
    }
   ],
   "source": [
    "for i in [1,2]:\n",
    "    for j in [1,2]:\n",
    "        print(i+j)"
   ]
  },
  {
   "cell_type": "markdown",
   "id": "92e5a1d3",
   "metadata": {},
   "source": [
    "Inside parentheses and brackets, whitespace is ignored, which is useful for long-winded calculations:"
   ]
  },
  {
   "cell_type": "code",
   "execution_count": 3,
   "id": "04cae9eb",
   "metadata": {},
   "outputs": [],
   "source": [
    "my_list = [1, 2, 3]\n",
    "my_list_of_lists = [[1,2],\n",
    "                    [3,4]]"
   ]
  },
  {
   "cell_type": "markdown",
   "id": "4dddd07b",
   "metadata": {},
   "source": [
    "## Python Data Types\n",
    "\n",
    "In Python, every value is referred to as a \"object.\" And each object has its own data type. The following are the three most common data types:\n",
    "\n",
    "### Integers \n",
    "\n",
    "Integers are integer numbers that can be used to represent objects such as \"number 8.\""
   ]
  },
  {
   "cell_type": "code",
   "execution_count": 4,
   "id": "7571a8b0",
   "metadata": {},
   "outputs": [],
   "source": [
    "# Example integer numbers\n",
    "\n",
    "a = 2\n",
    "b = 1\n",
    "c = -1"
   ]
  },
  {
   "cell_type": "markdown",
   "id": "e0e571e1",
   "metadata": {},
   "source": [
    "### Floating-point numbers \n",
    "\n",
    "Floating-point numbers are a type of number that can be used to represent real numbers or floating-point values."
   ]
  },
  {
   "cell_type": "code",
   "execution_count": 5,
   "id": "94557c7c",
   "metadata": {},
   "outputs": [],
   "source": [
    "# import the math module \n",
    "import math \n",
    "\n",
    "# Code to compute solution to the quadratic equation of the form a x^2 + b x + c = 0\n",
    "sol1 = (-b + math.sqrt(b**2 - 4*a*c))/(2*a)\n",
    "sol2 = (-b - math.sqrt(b**2 - 4*a*c))/(2*a)"
   ]
  },
  {
   "cell_type": "code",
   "execution_count": 6,
   "id": "ce42a7d4",
   "metadata": {},
   "outputs": [
    {
     "name": "stdout",
     "output_type": "stream",
     "text": [
      "[0.5, -1.0]\n"
     ]
    }
   ],
   "source": [
    "print([sol1,sol2])"
   ]
  },
  {
   "cell_type": "markdown",
   "id": "63e2172d",
   "metadata": {},
   "source": [
    "The build-in Python `type()` function returns the type of these objects."
   ]
  },
  {
   "cell_type": "code",
   "execution_count": 7,
   "id": "c39b12c2",
   "metadata": {},
   "outputs": [
    {
     "data": {
      "text/plain": [
       "float"
      ]
     },
     "execution_count": 7,
     "metadata": {},
     "output_type": "execute_result"
    }
   ],
   "source": [
    "type(sol1)"
   ]
  },
  {
   "cell_type": "markdown",
   "id": "fc2422fe",
   "metadata": {},
   "source": [
    "### Strings \n",
    "\n",
    "A string is used to define a sequence of characters. Consider the word \"hello.\" Strings are **immutable** in Python 3. You can't modify it afterwards if you've previously defined one."
   ]
  },
  {
   "cell_type": "code",
   "execution_count": 8,
   "id": "d08a8a9a",
   "metadata": {},
   "outputs": [
    {
     "data": {
      "text/plain": [
       "'Hello  Mahidol'"
      ]
     },
     "execution_count": 8,
     "metadata": {},
     "output_type": "execute_result"
    }
   ],
   "source": [
    "my_string = \"Hello world\"\n",
    "my_string.replace(\"world\", \" Mahidol\")"
   ]
  },
  {
   "cell_type": "code",
   "execution_count": 9,
   "id": "d6204b36",
   "metadata": {},
   "outputs": [
    {
     "name": "stdout",
     "output_type": "stream",
     "text": [
      "Hello world\n"
     ]
    }
   ],
   "source": [
    "print(my_string)"
   ]
  },
  {
   "cell_type": "markdown",
   "id": "96b4ee09",
   "metadata": {},
   "source": [
    "While commands like `replace()` and `join()` can modify a string, they generate a copy of it and apply the changes to it rather than rewriting the original."
   ]
  },
  {
   "cell_type": "markdown",
   "id": "20b00f6c",
   "metadata": {},
   "source": [
    "#### How to Create a String in Python\n",
    "\n",
    "Using single, double, or triple quotations, you can make a string in three different ways. Here's an example of each possibility:"
   ]
  },
  {
   "cell_type": "code",
   "execution_count": 10,
   "id": "ff567fe8",
   "metadata": {},
   "outputs": [],
   "source": [
    "second_string = 'Mahidol University'"
   ]
  },
  {
   "cell_type": "markdown",
   "id": "cd8119ae",
   "metadata": {},
   "source": [
    "The `print()` function can then be used to print your string in the console window. This allows you to go through your code and make sure everything works properly.\n",
    "Here's a sample for you:"
   ]
  },
  {
   "cell_type": "code",
   "execution_count": 11,
   "id": "fc6b8164",
   "metadata": {},
   "outputs": [
    {
     "name": "stdout",
     "output_type": "stream",
     "text": [
      "Mahidol University\n"
     ]
    }
   ],
   "source": [
    "print(second_string)"
   ]
  },
  {
   "cell_type": "code",
   "execution_count": 12,
   "id": "f1e5899b",
   "metadata": {},
   "outputs": [],
   "source": [
    "third_string = '''Department of Mathematics, \n",
    "Faculty of Science,\n",
    "Mahidol University'''"
   ]
  },
  {
   "cell_type": "code",
   "execution_count": 13,
   "id": "c6280b7b",
   "metadata": {},
   "outputs": [
    {
     "name": "stdout",
     "output_type": "stream",
     "text": [
      "Department of Mathematics, \n",
      "Faculty of Science,\n",
      "Mahidol University\n"
     ]
    }
   ],
   "source": [
    "print(third_string)"
   ]
  },
  {
   "cell_type": "markdown",
   "id": "85914537",
   "metadata": {},
   "source": [
    "#### Concatenating strings\n",
    "\n",
    "The next skill you can learn is concatenation, which is a method of joining two strings using the \"`+`\" operator. Here's how you do it:"
   ]
  },
  {
   "cell_type": "code",
   "execution_count": 14,
   "id": "72f31f52",
   "metadata": {},
   "outputs": [
    {
     "data": {
      "text/plain": [
       "'Hello world from Mahidol University'"
      ]
     },
     "execution_count": 14,
     "metadata": {},
     "output_type": "execute_result"
    }
   ],
   "source": [
    "my_string + \" from \" +  second_string"
   ]
  },
  {
   "cell_type": "markdown",
   "id": "e6501d6b",
   "metadata": {},
   "source": [
    "Note that the `+` operator cannot be used on two different data types, such as string and integer. You'll get the following Python error if you try it:"
   ]
  },
  {
   "cell_type": "markdown",
   "id": "457172cf",
   "metadata": {},
   "source": [
    "#### Escaping Characters\n",
    "\n",
    "In a Python string, backslashes (`\\`) are used to escape characters.\n",
    "\n",
    "For example, the given code can be used to print a string containing quote marks."
   ]
  },
  {
   "cell_type": "code",
   "execution_count": 15,
   "id": "f1308014",
   "metadata": {},
   "outputs": [
    {
     "data": {
      "text/plain": [
       "'\"Imagination is the highest form of research\". - Albert Einstein'"
      ]
     },
     "execution_count": 15,
     "metadata": {},
     "output_type": "execute_result"
    }
   ],
   "source": [
    "# Quote from Albert Einstein \n",
    "\n",
    "\"\\\"Imagination is the highest form of research\\\". - Albert Einstein\" "
   ]
  },
  {
   "cell_type": "markdown",
   "id": "7bd20522",
   "metadata": {},
   "source": [
    "#### String Indexing and Slicing\n",
    "\n",
    "Because strings are lists of characters, Python strings can be indexed using the same notation as lists. Bracket notation (`[index]`) can be used to access a single character, or slicing can be used to access a substring (`[start:end]`).\n",
    "\n",
    "Indexing with negative numbers counts from the end of the string."
   ]
  },
  {
   "cell_type": "code",
   "execution_count": 16,
   "id": "4cdef3d1",
   "metadata": {},
   "outputs": [
    {
     "name": "stdout",
     "output_type": "stream",
     "text": [
      "H\n",
      "Hello\n",
      "world\n"
     ]
    }
   ],
   "source": [
    "print(my_string[0])\n",
    "print(my_string[0:5])\n",
    "print(my_string[-5:])"
   ]
  },
  {
   "cell_type": "markdown",
   "id": "f44abf9a",
   "metadata": {},
   "source": [
    "#### Iterate String\n",
    "\n",
    "To iterate through a string in Python, “`for…in`” notation is used."
   ]
  },
  {
   "cell_type": "code",
   "execution_count": 17,
   "id": "ee0b9120",
   "metadata": {},
   "outputs": [
    {
     "name": "stdout",
     "output_type": "stream",
     "text": [
      "M\n",
      "a\n",
      "h\n",
      "i\n",
      "d\n",
      "o\n",
      "l\n",
      " \n"
     ]
    }
   ],
   "source": [
    "for c in second_string[:8]:\n",
    "    print(c)"
   ]
  },
  {
   "cell_type": "markdown",
   "id": "67a0d710",
   "metadata": {},
   "source": [
    "## Python Variables\n",
    "\n",
    "Variables are containers for storing data values. Variable names are case-sensitive.\n",
    "\n",
    "Variables in Python 3 are special symbols that assign a specific storage location to a value that’s tied to it. In essence, variables are like special labels that you place on some value to know where it’s stored.\n",
    "\n",
    "The code below demonstrates how to store a string in a variable."
   ]
  },
  {
   "cell_type": "code",
   "execution_count": 18,
   "id": "a2ba2d37",
   "metadata": {},
   "outputs": [],
   "source": [
    "my_string = \"Hello world\""
   ]
  },
  {
   "cell_type": "markdown",
   "id": "c9289299",
   "metadata": {},
   "source": [
    "Let’s break it down a bit further:\n",
    "\n",
    "* my_string is the variable name.\n",
    "* = is the assignment operator.\n",
    "* “Hello world” is a value you tie to the variable name.\n"
   ]
  },
  {
   "cell_type": "markdown",
   "id": "6b3ef333",
   "metadata": {},
   "source": [
    "Variables do not need to be declared with any particular type, and can even change type after they have been set."
   ]
  },
  {
   "cell_type": "code",
   "execution_count": 19,
   "id": "07681d4e",
   "metadata": {},
   "outputs": [
    {
     "name": "stdout",
     "output_type": "stream",
     "text": [
      "SCMA\n"
     ]
    }
   ],
   "source": [
    "x = 10       # x is of type int\n",
    "x = \"SCMA\"   # x is now of type str\n",
    "print(x)"
   ]
  },
  {
   "cell_type": "markdown",
   "id": "16a72f5d",
   "metadata": {},
   "source": [
    "### Variable Names\n",
    "\n",
    "A variable can have a short name (such as x and y) or a longer name (such as age, carname, or total volume). Variables in Python have the following rules:\n",
    "\n",
    "* The name of a variable must begin with a letter or the underscore character.\n",
    "\n",
    "* A number cannot be the first character in a variable name.\n",
    "\n",
    "* Only alpha-numeric characters and underscores (A-z, 0-9, and _) are allowed in variable names.\n",
    "* Case matters when it comes to variable names (age, Age and AGE are three different variables)"
   ]
  },
  {
   "cell_type": "markdown",
   "id": "c5b6f74c",
   "metadata": {},
   "source": [
    "### Casting\n",
    "\n",
    "Casting can be used to specify the data type of a variable. \n",
    "\n",
    "* `int()` function trims the values after the decimal point and returns only the integer/whole number part.\n",
    "\n",
    "* `float()` function is used to convert any data type to a floating-point number.\n",
    "\n",
    "* `str()` function is used  to convert integer into a string.\n"
   ]
  },
  {
   "cell_type": "code",
   "execution_count": 20,
   "id": "9c11ed1d",
   "metadata": {},
   "outputs": [
    {
     "data": {
      "text/plain": [
       "str"
      ]
     },
     "execution_count": 20,
     "metadata": {},
     "output_type": "execute_result"
    }
   ],
   "source": [
    "x = str(10)\n",
    "type(x)"
   ]
  },
  {
   "cell_type": "code",
   "execution_count": 21,
   "id": "4c16d7f3",
   "metadata": {},
   "outputs": [
    {
     "data": {
      "text/plain": [
       "float"
      ]
     },
     "execution_count": 21,
     "metadata": {},
     "output_type": "execute_result"
    }
   ],
   "source": [
    "y = float(10)\n",
    "type(y)"
   ]
  },
  {
   "cell_type": "code",
   "execution_count": 22,
   "id": "e568dbae",
   "metadata": {},
   "outputs": [
    {
     "data": {
      "text/plain": [
       "10"
      ]
     },
     "execution_count": 22,
     "metadata": {},
     "output_type": "execute_result"
    }
   ],
   "source": [
    "z = int(10.1)\n",
    "z"
   ]
  },
  {
   "cell_type": "markdown",
   "id": "8f680f8a",
   "metadata": {},
   "source": [
    "## Python Lists\n",
    "\n",
    "In Python, lists are another important data type for specifying an ordered series of elements. In particular, they allow you to group related data and perform the same operations on multiple variables at once. Lists, unlike strings, are mutable (that is, they may be changed).\n",
    "\n",
    "Each value in a list is referred to as an item, and it is enclosed in square brackets `[ ]`, separated by commas. It is good practice to put a space between the comma and the next value. The values in a list do not need to be unique (the same value can be repeated).\n",
    "\n",
    "Empty lists do not contain any values within the square brackets."
   ]
  },
  {
   "cell_type": "code",
   "execution_count": 23,
   "id": "8e5f7d0a",
   "metadata": {},
   "outputs": [],
   "source": [
    "my_list = [1, 2, 3]"
   ]
  },
  {
   "cell_type": "markdown",
   "id": "1284104c",
   "metadata": {},
   "source": [
    "Alternatively, you can perform the same thing with the `list()` function:"
   ]
  },
  {
   "cell_type": "code",
   "execution_count": 24,
   "id": "a91796cf",
   "metadata": {},
   "outputs": [
    {
     "name": "stdout",
     "output_type": "stream",
     "text": [
      "[1, 2, 3]\n"
     ]
    }
   ],
   "source": [
    "third_list = list((1 , 2, 3))\n",
    "print(third_list)"
   ]
  },
  {
   "cell_type": "code",
   "execution_count": 25,
   "id": "c5dcae3a",
   "metadata": {},
   "outputs": [
    {
     "data": {
      "text/plain": [
       "True"
      ]
     },
     "execution_count": 25,
     "metadata": {},
     "output_type": "execute_result"
    }
   ],
   "source": [
    "my_list == third_list"
   ]
  },
  {
   "cell_type": "markdown",
   "id": "81cf3e65",
   "metadata": {},
   "source": [
    "In Python, lists are a versatile data type that can contain multiple different data types within the same square brackets. The possible data types within a list include numbers, strings, other objects, and even other lists."
   ]
  },
  {
   "cell_type": "code",
   "execution_count": 26,
   "id": "cc17268b",
   "metadata": {},
   "outputs": [],
   "source": [
    "second_list = [\"a\", 2, \"e\", 4, \"i\", 6, \"o\", 8, \"u\"]"
   ]
  },
  {
   "cell_type": "markdown",
   "id": "e57c8d77",
   "metadata": {},
   "source": [
    "### How to add items to a List\n",
    "\n",
    "You can add new items to existing lists in two methods. The first involves the use of the `append()` method:\n",
    "\n",
    "The `insert()` method can be used to add an item to the specified index:"
   ]
  },
  {
   "cell_type": "code",
   "execution_count": 27,
   "id": "5d2964b5",
   "metadata": {},
   "outputs": [
    {
     "name": "stdout",
     "output_type": "stream",
     "text": [
      "[1, 2, 3, 4]\n"
     ]
    }
   ],
   "source": [
    "my_list = [1, 2, 3]\n",
    "my_list.append(4)\n",
    "print(my_list)"
   ]
  },
  {
   "cell_type": "code",
   "execution_count": 28,
   "id": "f9b7cf86",
   "metadata": {},
   "outputs": [
    {
     "name": "stdout",
     "output_type": "stream",
     "text": [
      "[1, 2, 2.5, 3, 4]\n"
     ]
    }
   ],
   "source": [
    "my_list.insert(2, 2.5)\n",
    "print(my_list)"
   ]
  },
  {
   "cell_type": "markdown",
   "id": "e6e0ad5a",
   "metadata": {},
   "source": [
    "### How can I remove an item from a list?\n",
    "\n",
    "You can do it in a variety of ways. \n",
    "\n",
    "* To begin, use the `remove()` method.\n",
    "\n",
    "* You can also use the `pop()` method. If no index is supplied, the last item will be removed.\n",
    "\n",
    "* The final way is to remove a specific item using the \"`del`\" keyword. If you want to scrap the entire list, you can use del."
   ]
  },
  {
   "cell_type": "code",
   "execution_count": 29,
   "id": "c0c8c7a7",
   "metadata": {},
   "outputs": [
    {
     "name": "stdout",
     "output_type": "stream",
     "text": [
      "[1, 2, 3, 4]\n"
     ]
    }
   ],
   "source": [
    "my_list.remove(2.5)\n",
    "print(my_list)"
   ]
  },
  {
   "cell_type": "code",
   "execution_count": 30,
   "id": "cbef4cc2",
   "metadata": {},
   "outputs": [
    {
     "name": "stdout",
     "output_type": "stream",
     "text": [
      "[1, 3, 4]\n"
     ]
    }
   ],
   "source": [
    "my_list.pop(1)\n",
    "print(my_list)"
   ]
  },
  {
   "cell_type": "code",
   "execution_count": 31,
   "id": "19bcb9fa",
   "metadata": {},
   "outputs": [
    {
     "name": "stdout",
     "output_type": "stream",
     "text": [
      "[0, 1, 2, 4]\n"
     ]
    }
   ],
   "source": [
    "my_list = [0, 1, 2, 3, 4]\n",
    "del my_list [3]\n",
    "print(my_list)"
   ]
  },
  {
   "cell_type": "code",
   "execution_count": 32,
   "id": "812642c3",
   "metadata": {},
   "outputs": [],
   "source": [
    "my_list = [0, 1, 2, 3, 4]\n",
    "del my_list "
   ]
  },
  {
   "cell_type": "markdown",
   "id": "69628343",
   "metadata": {},
   "source": [
    "### Combine two lists into one\n",
    "\n",
    "Use the `+` operator to combine two lists."
   ]
  },
  {
   "cell_type": "code",
   "execution_count": 33,
   "id": "757b3915",
   "metadata": {},
   "outputs": [
    {
     "name": "stdout",
     "output_type": "stream",
     "text": [
      "[0, 1, 2, 3, 4, 'a', 2, 'e', 4, 'i', 6, 'o', 8, 'u']\n"
     ]
    }
   ],
   "source": [
    "my_list = [0, 1, 2, 3, 4] \n",
    "second_list = [\"a\", 2, \"e\", 4, \"i\", 6, \"o\", 8, \"u\"]\n",
    "print(my_list + second_list)"
   ]
  },
  {
   "cell_type": "markdown",
   "id": "99cc4e56",
   "metadata": {},
   "source": [
    "### Change item value on your list\n",
    "\n",
    "You can easily overwrite a value of one list items:"
   ]
  },
  {
   "cell_type": "code",
   "execution_count": 34,
   "id": "66702cdd",
   "metadata": {},
   "outputs": [
    {
     "name": "stdout",
     "output_type": "stream",
     "text": [
      "[1, 2, 3, 4, 5, 6, 7, 8, 9]\n"
     ]
    }
   ],
   "source": [
    "second_list = [\"a\", 2, \"e\", 4, \"i\", 6, \"o\", 8, \"u\"]\n",
    "\n",
    "second_list[0] = 1\n",
    "second_list[2] = 3\n",
    "second_list[4] = 5\n",
    "second_list[6] = 7\n",
    "second_list[8] = 9\n",
    "print(second_list)"
   ]
  },
  {
   "cell_type": "markdown",
   "id": "25cd34a7",
   "metadata": {},
   "source": [
    "### Loop through the list\n",
    "\n",
    "Using for loop you can multiply the usage of certain items, similarly to what `*` operator does. Here’s an example:"
   ]
  },
  {
   "cell_type": "code",
   "execution_count": 35,
   "id": "8faa3114",
   "metadata": {},
   "outputs": [
    {
     "name": "stdout",
     "output_type": "stream",
     "text": [
      "['Math', 'Math', 'Math']\n"
     ]
    }
   ],
   "source": [
    "last_list = []\n",
    "for x in range(1,4): \n",
    "    last_list += [\"Math\"] \n",
    "print(last_list)"
   ]
  },
  {
   "cell_type": "markdown",
   "id": "cdd2ce47",
   "metadata": {},
   "source": [
    "Here the `range(start, stop, step)` function returns a sequence of numbers, starting from 0 by default, and increments by 1 (by default), and stops before a specified number.\n",
    "\n",
    "* start(Optional) An integer number specifying at which position to start. Default is 0\n",
    "* stop(Required) An integer number specifying at which position to stop **(not included)**.\n",
    "* step(Optional) An integer number specifying the incrementation. Default is 1"
   ]
  },
  {
   "cell_type": "code",
   "execution_count": 36,
   "id": "64c8a231",
   "metadata": {},
   "outputs": [
    {
     "name": "stdout",
     "output_type": "stream",
     "text": [
      "1\n",
      "2\n",
      "3\n"
     ]
    }
   ],
   "source": [
    "for x in range(1,4): \n",
    "    print(x)"
   ]
  },
  {
   "cell_type": "markdown",
   "id": "75a225c3",
   "metadata": {},
   "source": [
    "### Copy a List\n",
    "\n",
    "Use the built-in copy() function to replicate your data. Alternatively, you can copy a list with the list() method."
   ]
  },
  {
   "cell_type": "code",
   "execution_count": 37,
   "id": "acb539e0",
   "metadata": {},
   "outputs": [
    {
     "name": "stdout",
     "output_type": "stream",
     "text": [
      "['apple', 'banana', 'orange']\n"
     ]
    }
   ],
   "source": [
    "old_list = [\"apple\", \"banana\", \"orange\"] \n",
    "new_list = old_list \n",
    "print(new_list)"
   ]
  },
  {
   "cell_type": "code",
   "execution_count": 38,
   "id": "dc21956b",
   "metadata": {},
   "outputs": [
    {
     "name": "stdout",
     "output_type": "stream",
     "text": [
      "['apple', 'banana', 'orange']\n"
     ]
    }
   ],
   "source": [
    "old_list = [\"apple\", \"banana\", \"orange\"] \n",
    "new_list = old_list.copy() \n",
    "print(new_list)"
   ]
  },
  {
   "cell_type": "code",
   "execution_count": 39,
   "id": "acd47894",
   "metadata": {},
   "outputs": [
    {
     "name": "stdout",
     "output_type": "stream",
     "text": [
      "['apple', 'banana', 'orange']\n"
     ]
    }
   ],
   "source": [
    "old_list = [\"apple\", \"banana\", \"orange\"] \n",
    "new_list = list(old_list) \n",
    "print(new_list)"
   ]
  },
  {
   "cell_type": "markdown",
   "id": "9da39361",
   "metadata": {},
   "source": [
    "### Lists Comprehensions \n",
    "\n",
    "List comprehensions are a convenient way to make new lists from existing ones. You can also create with strings and tuples when using them.\n",
    "\n",
    "Here an example how to create a new list with list comprehension.\n",
    "\n",
    "`list_variable = [x for x in iterable]`\n",
    "\n",
    "Here’s a more complex example that features math operators, integers, and the `range()` function:"
   ]
  },
  {
   "cell_type": "code",
   "execution_count": 40,
   "id": "bd8d39bd",
   "metadata": {},
   "outputs": [
    {
     "name": "stdout",
     "output_type": "stream",
     "text": [
      "[0, 4, 16, 36, 64, 100]\n"
     ]
    }
   ],
   "source": [
    "squared_evens = [x ** 2 for x in range(11) if x % 2 == 0]\n",
    "print(squared_evens)"
   ]
  },
  {
   "cell_type": "code",
   "execution_count": null,
   "id": "92220108",
   "metadata": {},
   "outputs": [],
   "source": []
  },
  {
   "cell_type": "markdown",
   "id": "f14e303d",
   "metadata": {},
   "source": [
    "## Python Booleans\n",
    "\n",
    "Booleans represent one of two values: `True` or `False`. It is useful to perform a filtering operation on a data.\n",
    "\n",
    "In programming you often need to know if an expression is True or False. For example, when you compare two values, the expression is evaluated and Python returns the Boolean answer:"
   ]
  },
  {
   "cell_type": "code",
   "execution_count": 41,
   "id": "40b568a3",
   "metadata": {},
   "outputs": [
    {
     "name": "stdout",
     "output_type": "stream",
     "text": [
      "True\n",
      "False\n",
      "True\n"
     ]
    }
   ],
   "source": [
    "print(8 > 2)\n",
    "print(8 == 2)\n",
    "print(2 < 8)"
   ]
  },
  {
   "cell_type": "markdown",
   "id": "b5ba06fa",
   "metadata": {},
   "source": [
    "The next Python command prints a message based on whether the condition is `True` or `False`:"
   ]
  },
  {
   "cell_type": "code",
   "execution_count": 42,
   "id": "5da9d03c",
   "metadata": {},
   "outputs": [
    {
     "name": "stdout",
     "output_type": "stream",
     "text": [
      "b is not greater than a\n"
     ]
    }
   ],
   "source": [
    "a = 22/7\n",
    "b = 3.14\n",
    "\n",
    "if b > a:\n",
    "    print(\"b is greater than a\")\n",
    "else:\n",
    "    print(\"b is not greater than a\")"
   ]
  },
  {
   "cell_type": "markdown",
   "id": "c4127183",
   "metadata": {},
   "source": [
    "## Python Dictionaries \n",
    "\n",
    "Dictionaries are used to store key-value pairs. These key-value pairs offer a great way of organizing and storing data in Python. They are **mutable**, meaning you can change the stored information.\n",
    "\n",
    "### How to create a Python dictionary\n",
    "\n",
    "Here’s a quick example showcasing how to make an empty dictionary."
   ]
  },
  {
   "cell_type": "code",
   "execution_count": 43,
   "id": "93db75f0",
   "metadata": {},
   "outputs": [],
   "source": [
    "new_dict = {}\n",
    "other_dict= dict()"
   ]
  },
  {
   "cell_type": "markdown",
   "id": "b9c24ab5",
   "metadata": {},
   "source": [
    "When you want your values to be indexed by unique keys, they come in handy. Curly braces can be used to create a dictionary in Python. A colon is also used to separate a key and a value. "
   ]
  },
  {
   "cell_type": "code",
   "execution_count": 44,
   "id": "57bfa6dc",
   "metadata": {},
   "outputs": [
    {
     "name": "stdout",
     "output_type": "stream",
     "text": [
      "{'brand': 'Tesla', 'model': 'Model X', 'year': 2021}\n"
     ]
    }
   ],
   "source": [
    "new_dict = {\n",
    "    \"brand\": \"Tesla\", \n",
    "    \"model\": \"Model X\", \n",
    "    \"year\": 2021\n",
    "}\n",
    "print(new_dict)"
   ]
  },
  {
   "cell_type": "markdown",
   "id": "8ca3e297",
   "metadata": {},
   "source": [
    "### How to access a value in a dictionary\n",
    "\n",
    "You can access any of the values in your dictionary the following way:\n",
    "\n",
    "* dict[\"key\"]"
   ]
  },
  {
   "cell_type": "code",
   "execution_count": 45,
   "id": "085ad28a",
   "metadata": {},
   "outputs": [
    {
     "name": "stdout",
     "output_type": "stream",
     "text": [
      "Model X\n"
     ]
    }
   ],
   "source": [
    "print(new_dict[\"model\"])"
   ]
  },
  {
   "cell_type": "markdown",
   "id": "c5dd8505",
   "metadata": {},
   "source": [
    "### Dictionary methods\n",
    "\n",
    "* `keys()` method in Python Dictionary, returns a view object that displays a list of all the keys in the dictionary in order of insertion.\n",
    "\n",
    "* `values()` method returns a view object that displays a list of all the values of the dictionary.\n",
    "\n",
    "* `items()` method is used to return the list with all dictionary keys with values."
   ]
  },
  {
   "cell_type": "code",
   "execution_count": 46,
   "id": "592bfba6",
   "metadata": {},
   "outputs": [
    {
     "data": {
      "text/plain": [
       "dict_keys(['brand', 'model', 'year'])"
      ]
     },
     "execution_count": 46,
     "metadata": {},
     "output_type": "execute_result"
    }
   ],
   "source": [
    "new_dict.keys()"
   ]
  },
  {
   "cell_type": "code",
   "execution_count": 47,
   "id": "e3a69d1e",
   "metadata": {},
   "outputs": [
    {
     "data": {
      "text/plain": [
       "dict_values(['Tesla', 'Model X', 2021])"
      ]
     },
     "execution_count": 47,
     "metadata": {},
     "output_type": "execute_result"
    }
   ],
   "source": [
    "new_dict.values()"
   ]
  },
  {
   "cell_type": "code",
   "execution_count": 48,
   "id": "c2dac6c7",
   "metadata": {},
   "outputs": [
    {
     "data": {
      "text/plain": [
       "dict_items([('brand', 'Tesla'), ('model', 'Model X'), ('year', 2021)])"
      ]
     },
     "execution_count": 48,
     "metadata": {},
     "output_type": "execute_result"
    }
   ],
   "source": [
    "new_dict.items()"
   ]
  },
  {
   "cell_type": "markdown",
   "id": "aa8026be",
   "metadata": {},
   "source": [
    "Let's look at an example and see how lists compare to dictionaries. \n",
    "\n",
    "Assume we have some movies and you want to keep track of their ratings. We also want to be able to quickly retrieve a movie's rating just knowing the title. We can accomplish this by employing two lists or a single dictionary. Take, for example, movies. The index(\"Ex Machina\") code returns the index for the \"Ex Machina\" movie."
   ]
  },
  {
   "cell_type": "code",
   "execution_count": 49,
   "id": "1388911e",
   "metadata": {},
   "outputs": [
    {
     "name": "stdout",
     "output_type": "stream",
     "text": [
      "7.8\n"
     ]
    }
   ],
   "source": [
    "movies = [\"Doctor Strage\", \"Venom\", \"Thor\"]\n",
    "ratings = [8.9, 7.8, 8.4]\n",
    "\n",
    "movie_choice_index = movies.index(\"Venom\")\n",
    "print(ratings[movie_choice_index]) "
   ]
  },
  {
   "cell_type": "code",
   "execution_count": 50,
   "id": "3ca9a23e",
   "metadata": {},
   "outputs": [
    {
     "name": "stdout",
     "output_type": "stream",
     "text": [
      "7.8\n"
     ]
    }
   ],
   "source": [
    "ratings = {\n",
    "    \"Doctor Strange\": 8.9,\n",
    "    \"Venom\": 7.8,\n",
    "    \"Thor\" : 8.4\n",
    "}\n",
    "\n",
    "print(ratings[\"Venom\"]) "
   ]
  },
  {
   "cell_type": "markdown",
   "id": "bca9114b",
   "metadata": {},
   "source": [
    "### Operations with dictionaries\n",
    "\n",
    "Our dictionaries allow us to add, edit, and delete information. We may simply use this code our `dict[key] = value` to add or update the data. When we wish to get rid of a key-value pair, we use `del(our dict[key])`."
   ]
  },
  {
   "cell_type": "code",
   "execution_count": 51,
   "id": "66a34984",
   "metadata": {},
   "outputs": [
    {
     "name": "stdout",
     "output_type": "stream",
     "text": [
      "{'Doctor Strange': 8.9, 'Venom': 7.8, 'Thor': 8.4, 'Ant-Man': 8.3}\n",
      "{'Doctor Strange': 9.1, 'Venom': 7.8, 'Thor': 8.4, 'Ant-Man': 8.3}\n",
      "{'Doctor Strange': 9.1, 'Venom': 7.8, 'Ant-Man': 8.3}\n"
     ]
    }
   ],
   "source": [
    "ratings[\"Ant-Man\"] = 8.3\n",
    "print(ratings)\n",
    "\n",
    "ratings[\"Doctor Strange\"] = 9.1\n",
    "print(ratings)\n",
    "\n",
    "del(ratings[\"Thor\"])\n",
    "print(ratings)"
   ]
  },
  {
   "cell_type": "markdown",
   "id": "0b5a2b4b",
   "metadata": {},
   "source": [
    "### Loop Through the Dictionary\n",
    "\n",
    "To implement looping, we can use `for` loop command."
   ]
  },
  {
   "cell_type": "code",
   "execution_count": 52,
   "id": "fa878ef5",
   "metadata": {},
   "outputs": [
    {
     "name": "stdout",
     "output_type": "stream",
     "text": [
      "Doctor Strange\n",
      "Venom\n",
      "Thor\n"
     ]
    }
   ],
   "source": [
    "ratings = {\n",
    "    \"Doctor Strange\": 8.9,\n",
    "    \"Venom\": 7.8,\n",
    "    \"Thor\" : 8.4\n",
    "}\n",
    "\n",
    "\n",
    "#print all key names in the dictionary\n",
    "for x in ratings:\n",
    "    print(x)"
   ]
  },
  {
   "cell_type": "code",
   "execution_count": 53,
   "id": "fa481343",
   "metadata": {},
   "outputs": [
    {
     "name": "stdout",
     "output_type": "stream",
     "text": [
      "8.9\n",
      "7.8\n",
      "8.4\n"
     ]
    }
   ],
   "source": [
    "#print all values in the dictionary\n",
    "for x in ratings:\n",
    "    print(ratings[x])"
   ]
  },
  {
   "cell_type": "code",
   "execution_count": 54,
   "id": "79c8b00a",
   "metadata": {},
   "outputs": [
    {
     "name": "stdout",
     "output_type": "stream",
     "text": [
      "Doctor Strange 8.9\n",
      "Venom 7.8\n",
      "Thor 8.4\n"
     ]
    }
   ],
   "source": [
    "#loop through both keys and values\n",
    "for x, y in ratings.items(): \n",
    "    print(x, y)"
   ]
  },
  {
   "cell_type": "markdown",
   "id": "990f447a",
   "metadata": {},
   "source": [
    "## How to Define a Function\n",
    "\n",
    "Python 3 allows you to define your own functions for your application in addition to using built-in functions.\n",
    "To summarize, a function is a set of programmed instructions that carry out a specific task. A function can be reused throughout your program once it has been properly defined, i.e. the same code can be reused.\n",
    "\n",
    "A simple overview of how to define a function in Python can be found here:\n",
    "\n",
    "Use `def` keyword followed by the function `name():`. The parentheses can contain any parameters that your function should take (or stay empty). "
   ]
  },
  {
   "cell_type": "code",
   "execution_count": 55,
   "id": "d97ea0f3",
   "metadata": {},
   "outputs": [],
   "source": [
    "def name():\n",
    "    print(\"What’s your name?\")"
   ]
  },
  {
   "cell_type": "code",
   "execution_count": 56,
   "id": "c05716e3",
   "metadata": {},
   "outputs": [
    {
     "name": "stdout",
     "output_type": "stream",
     "text": [
      "What’s your name?\n"
     ]
    }
   ],
   "source": [
    "name()"
   ]
  },
  {
   "cell_type": "code",
   "execution_count": 57,
   "id": "afee1582",
   "metadata": {},
   "outputs": [
    {
     "name": "stdout",
     "output_type": "stream",
     "text": [
      "Product Name: Apple Watch \n",
      "Price: 30000\n"
     ]
    }
   ],
   "source": [
    "# Define function with parameters\n",
    "def product_info(productname, price):\n",
    "    print(\"Product Name: \" + productname) \n",
    "    print(\"Price: \" + str(price))\n",
    "\n",
    "# Call function with parameters assigned as above \n",
    "product_info(\"Apple Watch \",30000)"
   ]
  },
  {
   "cell_type": "code",
   "execution_count": 58,
   "id": "4673f1e6",
   "metadata": {},
   "outputs": [
    {
     "name": "stdout",
     "output_type": "stream",
     "text": [
      "Product Name: Ipad Air 3\n",
      "Price: 20000\n"
     ]
    }
   ],
   "source": [
    "# Call function with keyword arguments\n",
    "product_info(productname= \"Ipad Air 3\", price=20000)"
   ]
  },
  {
   "cell_type": "markdown",
   "id": "72957128",
   "metadata": {},
   "source": [
    "## If Statements (Conditional Statements) in Python\n",
    "\n",
    "Similar to other programming languages, Python supports the basic logical conditions from math:\n",
    "\n",
    "* Equals: `a == b`\n",
    "* Not Equals: `a != b`\n",
    "* Less than: `a < b`\n",
    "* Less than or equal to `a <= b`\n",
    "* Greater than: `a > b`\n",
    "* Greater than or equal to: `a >= b`\n",
    "\n",
    "You can leverage these conditions in various ways. But most likely, you’ll use them in “if statements” and loops.\n",
    "\n",
    "### If Statement Example\n",
    "The goal of a conditional statement is to check if it’s True or False."
   ]
  },
  {
   "cell_type": "code",
   "execution_count": 59,
   "id": "138d51f3",
   "metadata": {},
   "outputs": [
    {
     "name": "stdout",
     "output_type": "stream",
     "text": [
      "a is greater than pi!\n"
     ]
    }
   ],
   "source": [
    "a = 22/7\n",
    "\n",
    "if a > math.pi:\n",
    "    print(\"a is greater than pi!\")"
   ]
  },
  {
   "cell_type": "markdown",
   "id": "8d047f1f",
   "metadata": {},
   "source": [
    "### Elif Statements\n",
    "\n",
    "The `elif` keyword instructs your program to try again, if the previous condition(s) were false. \n",
    "\n",
    "The `else` keyword helps you add some additional filters to your condition clause. \n",
    "\n",
    "Here’s how an if-elif-else combo looks."
   ]
  },
  {
   "cell_type": "code",
   "execution_count": 60,
   "id": "d82e138a",
   "metadata": {},
   "outputs": [
    {
     "name": "stdout",
     "output_type": "stream",
     "text": [
      "Your grade is C+\n"
     ]
    }
   ],
   "source": [
    "Score = 67\n",
    "\n",
    "if Score >= 80:\n",
    "    print(\"Your grade is A\")\n",
    "elif Score >= 75:\n",
    "    print(\"Your grade is B+\")\n",
    "elif Score >= 70:\n",
    "    print(\"Your grade is B\")\n",
    "elif Score >= 65:\n",
    "    print(\"Your grade is C+\")\n",
    "elif Score >= 60:\n",
    "    print(\"Your grade is C\")\n",
    "else:\n",
    "    print(\"Your grade is D\")"
   ]
  },
  {
   "cell_type": "markdown",
   "id": "0f77ba92",
   "metadata": {},
   "source": [
    "## Loops in Python\n",
    "\n",
    "**For loops** and **while loops** are two simple loop statements in Python that are useful to know.\n",
    "\n",
    "Let's take a look at each one individually.\n",
    "\n",
    "### For Loop\n",
    "\n",
    "For loop is a useful approach to iterate through a sequence such as a list, tuple, dictionary, string, and so on, as seen in the other sections of this Python basics.\n",
    "\n",
    "An example of how to loop through a string is as follows:"
   ]
  },
  {
   "cell_type": "code",
   "execution_count": 61,
   "id": "c7e77c7c",
   "metadata": {},
   "outputs": [
    {
     "name": "stdout",
     "output_type": "stream",
     "text": [
      "M\n",
      "a\n",
      "h\n",
      "i\n",
      "d\n",
      "o\n",
      "l\n"
     ]
    }
   ],
   "source": [
    "for x in \"Mahidol\":\n",
    "    print(x)"
   ]
  },
  {
   "cell_type": "markdown",
   "id": "abe8d9e4",
   "metadata": {},
   "source": [
    "### While Loops \n",
    "A while loop allows you to run a group of statements as long as their condition is true."
   ]
  },
  {
   "cell_type": "code",
   "execution_count": 62,
   "id": "fad71ac9",
   "metadata": {},
   "outputs": [
    {
     "name": "stdout",
     "output_type": "stream",
     "text": [
      "1\n",
      "2\n",
      "3\n",
      "4\n",
      "5\n",
      "6\n",
      "7\n"
     ]
    }
   ],
   "source": [
    "#print as long as x is less than 8\n",
    "i=1 \n",
    "while i< 8:\n",
    "    print(i)\n",
    "    i += 1"
   ]
  },
  {
   "cell_type": "markdown",
   "id": "b9a14585",
   "metadata": {},
   "source": [
    "### How to Break a Loop\n",
    "Even if the condition is met, you can stop the loop from executing. Use the break statement in both while and for loops to accomplish this:"
   ]
  },
  {
   "cell_type": "code",
   "execution_count": 63,
   "id": "05516174",
   "metadata": {},
   "outputs": [
    {
     "name": "stdout",
     "output_type": "stream",
     "text": [
      "1\n",
      "2\n",
      "3\n",
      "4\n"
     ]
    }
   ],
   "source": [
    "#print if x is less than 8, but skip four\n",
    "\n",
    "i=1 \n",
    "while i< 8:\n",
    "    print(i)\n",
    "    if i == 4:\n",
    "        break\n",
    "    i += 1"
   ]
  },
  {
   "cell_type": "code",
   "execution_count": 64,
   "id": "9ac83cdb",
   "metadata": {},
   "outputs": [
    {
     "name": "stdout",
     "output_type": "stream",
     "text": [
      "4\n"
     ]
    }
   ],
   "source": [
    "print(i)"
   ]
  }
 ],
 "metadata": {
  "kernelspec": {
   "display_name": "Python 3 (ipykernel)",
   "language": "python",
   "name": "python3"
  },
  "language_info": {
   "codemirror_mode": {
    "name": "ipython",
    "version": 3
   },
   "file_extension": ".py",
   "mimetype": "text/x-python",
   "name": "python",
   "nbconvert_exporter": "python",
   "pygments_lexer": "ipython3",
   "version": "3.7.8"
  }
 },
 "nbformat": 4,
 "nbformat_minor": 5
}