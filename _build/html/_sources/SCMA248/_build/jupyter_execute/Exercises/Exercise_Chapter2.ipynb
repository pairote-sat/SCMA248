{
 "cells": [
  {
   "cell_type": "markdown",
   "metadata": {
    "cell_id": "00000-57c54db8-258f-41ee-a497-836082885eb0",
    "deepnote_cell_type": "markdown",
    "tags": []
   },
   "source": [
    "## Exercise for Chapter 2\n",
    "\n",
    "This Python fundamental exercise is designed to assist Python beginners in quickly learning the abilities they need. Loops, control flow, data types, operators, list, strings, input-output, and built-in functions are all core Python topics to practice.\n",
    "\n",
    "**Please create new cells if you want to provide the Python scripts for each of the examples. Please include your name in the comments.**"
   ]
  },
  {
   "cell_type": "markdown",
   "metadata": {
    "cell_id": "00000-1e1da095-27c0-472d-83ac-b9982b18d371",
    "deepnote_cell_type": "markdown",
    "tags": []
   },
   "source": [
    "**Example 1** Print the sum of the current and previous numbers.\n",
    "\n",
    "Write a program that iterates through the first five numbers, printing the sum of the current and previous numbers after each iteration."
   ]
  },
  {
   "cell_type": "code",
   "execution_count": null,
   "metadata": {
    "cell_id": "00002-91f3e235-ddfb-48f4-aecf-0c48595924f1",
    "deepnote_cell_type": "code",
    "tags": []
   },
   "outputs": [],
   "source": []
  },
  {
   "cell_type": "markdown",
   "metadata": {
    "cell_id": "00003-4baefbc5-c995-4068-b7ef-03b7f0bebd5b",
    "deepnote_cell_type": "markdown",
    "tags": []
   },
   "source": [
    "Current number: 2 Previous Number: 1 Sum: 3"
   ]
  },
  {
   "cell_type": "code",
   "execution_count": 1,
   "metadata": {
    "cell_id": "00002-caf0a7df-d5bd-4d85-99b5-861811e7d39d",
    "deepnote_cell_type": "code",
    "deepnote_to_be_reexecuted": false,
    "execution_millis": 4,
    "execution_start": 1641877057058,
    "source_hash": "55de4bde",
    "tags": []
   },
   "outputs": [
    {
     "name": "stdout",
     "output_type": "stream",
     "text": [
      "Current number: 1 Previous Number: none Sum 1\n",
      "Current number: 2 Previous Number: 1 Sum 3\n",
      "Current number: 3 Previous Number: 2 Sum 5\n",
      "Current number: 4 Previous Number: 3 Sum 7\n",
      "Current number: 5 Previous Number: 4 Sum 9\n"
     ]
    }
   ],
   "source": [
    "#Enfant01or44\n",
    "f=[1,2,3,4,5]\n",
    "for i,j in enumerate(f):\n",
    "    if i==0:\n",
    "        print('Current number: %d Previous Number: none Sum %d'%(j,j))\n",
    "    else:\n",
    "        print('Current number: %d Previous Number: %d Sum %d'%(j,f[i-1],j+f[i-1]))"
   ]
  },
  {
   "cell_type": "code",
   "execution_count": 2,
   "metadata": {
    "cell_id": "00003-e930df53-09f1-4b63-a1f2-6a439fb52dc2",
    "deepnote_cell_type": "code",
    "deepnote_to_be_reexecuted": false,
    "execution_millis": 3,
    "execution_start": 1641876088509,
    "source_hash": "fd65f55d",
    "tags": []
   },
   "outputs": [
    {
     "name": "stdout",
     "output_type": "stream",
     "text": [
      "6\n",
      "3\n",
      "5\n",
      "7\n",
      "9\n"
     ]
    }
   ],
   "source": [
    "#aa\n",
    "numbers = [1,2,3,4,5]\n",
    "\n",
    "i = 0\n",
    "for x in range(1,6):\n",
    "    print(numbers[i] + numbers[i - 1])\n",
    "    i += 1"
   ]
  },
  {
   "cell_type": "code",
   "execution_count": 3,
   "metadata": {
    "cell_id": "00001-3bdabca2-1afa-4132-b212-e7e45ad2190f",
    "deepnote_cell_type": "code",
    "deepnote_to_be_reexecuted": false,
    "execution_millis": 3,
    "execution_start": 1641826236420,
    "source_hash": "def0fac1",
    "tags": []
   },
   "outputs": [],
   "source": [
    "# Pairote "
   ]
  },
  {
   "cell_type": "code",
   "execution_count": 4,
   "metadata": {
    "cell_id": "00003-d261815b-b5b7-4e11-8d4d-58828e6768e8",
    "deepnote_cell_type": "code",
    "deepnote_to_be_reexecuted": false,
    "execution_millis": 6,
    "execution_start": 1641826236425,
    "source_hash": "284a127f",
    "tags": []
   },
   "outputs": [],
   "source": [
    "# Jeep\n",
    "\n"
   ]
  },
  {
   "cell_type": "code",
   "execution_count": 5,
   "metadata": {
    "allow_embed": false,
    "cell_id": "00005-158da691-7a18-4bb5-904b-6bb456fbcaae",
    "deepnote_cell_type": "code",
    "deepnote_to_be_reexecuted": false,
    "execution_millis": 326,
    "execution_start": 1641826236434,
    "source_hash": "9557bf54",
    "tags": []
   },
   "outputs": [
    {
     "name": "stdout",
     "output_type": "stream",
     "text": [
      "3\n",
      "5\n",
      "7\n",
      "9\n"
     ]
    }
   ],
   "source": [
    "# A\n",
    "f=[1,2,3,4,5]\n",
    "for i in range(1,len(f)):\n",
    "    print(f[i]+f[i-1])\n",
    "\n"
   ]
  },
  {
   "cell_type": "code",
   "execution_count": 6,
   "metadata": {
    "cell_id": "00006-e9feb512-dfc1-431a-9696-34d6ebd65d63",
    "deepnote_cell_type": "code",
    "deepnote_to_be_reexecuted": false,
    "execution_millis": 398,
    "execution_start": 1641826236476,
    "source_hash": "696b969",
    "tags": []
   },
   "outputs": [
    {
     "name": "stdout",
     "output_type": "stream",
     "text": [
      "1\n",
      "3\n",
      "5\n",
      "7\n",
      "9\n"
     ]
    }
   ],
   "source": [
    "#Cinnamond\n",
    "\n",
    "num = [1,2,3,4,5]\n",
    "for i in range(len(num)):\n",
    "    if i == 0 :\n",
    "        print(num[i]) \n",
    "    else :\n",
    "        print(num[i]+num[i-1])"
   ]
  },
  {
   "cell_type": "markdown",
   "metadata": {
    "cell_id": "00002-3d71d06b-e3bc-459c-b265-998a2b72f680",
    "deepnote_cell_type": "markdown",
    "tags": []
   },
   "source": [
    "**Example 2** Print characters in a string that are present at an even index number \n",
    "\n",
    "Write a script that takes a user-input string and displays characters that occur at even index numbers."
   ]
  },
  {
   "cell_type": "code",
   "execution_count": 7,
   "metadata": {
    "cell_id": "00007-68d8f404-87fc-424c-8d43-a74e552c5561",
    "deepnote_cell_type": "code",
    "deepnote_output_heights": [
     443.546875
    ],
    "deepnote_to_be_reexecuted": false,
    "execution_millis": 21050,
    "execution_start": 1641869132837,
    "source_hash": "c6b726b6",
    "tags": []
   },
   "outputs": [
    {
     "ename": "StdinNotImplementedError",
     "evalue": "raw_input was called, but this frontend does not support input requests.",
     "output_type": "error",
     "traceback": [
      "\u001b[0;31m---------------------------------------------------------------------------\u001b[0m",
      "\u001b[0;31mStdinNotImplementedError\u001b[0m                  Traceback (most recent call last)",
      "\u001b[0;32m/var/folders/kl/h_r05n_j76n32kt0dwy7kynw0000gn/T/ipykernel_5346/1701742263.py\u001b[0m in \u001b[0;36m<module>\u001b[0;34m\u001b[0m\n\u001b[1;32m      1\u001b[0m \u001b[0;31m#Enfant01or44\u001b[0m\u001b[0;34m\u001b[0m\u001b[0;34m\u001b[0m\u001b[0;34m\u001b[0m\u001b[0m\n\u001b[0;32m----> 2\u001b[0;31m \u001b[0mf\u001b[0m \u001b[0;34m=\u001b[0m \u001b[0minput\u001b[0m\u001b[0;34m(\u001b[0m\u001b[0;34m\"Enter something : \"\u001b[0m\u001b[0;34m)\u001b[0m\u001b[0;34m\u001b[0m\u001b[0;34m\u001b[0m\u001b[0m\n\u001b[0m\u001b[1;32m      3\u001b[0m \u001b[0;32mfor\u001b[0m \u001b[0mi\u001b[0m \u001b[0;32min\u001b[0m \u001b[0mrange\u001b[0m\u001b[0;34m(\u001b[0m\u001b[0mint\u001b[0m\u001b[0;34m(\u001b[0m\u001b[0;34m(\u001b[0m\u001b[0mlen\u001b[0m\u001b[0;34m(\u001b[0m\u001b[0mf\u001b[0m\u001b[0;34m)\u001b[0m\u001b[0;34m+\u001b[0m\u001b[0;36m1\u001b[0m\u001b[0;34m)\u001b[0m\u001b[0;34m/\u001b[0m\u001b[0;36m2\u001b[0m\u001b[0;34m)\u001b[0m\u001b[0;34m)\u001b[0m\u001b[0;34m:\u001b[0m\u001b[0;34m\u001b[0m\u001b[0;34m\u001b[0m\u001b[0m\n\u001b[1;32m      4\u001b[0m     \u001b[0mprint\u001b[0m\u001b[0;34m(\u001b[0m\u001b[0mf\u001b[0m\u001b[0;34m[\u001b[0m\u001b[0;36m2\u001b[0m\u001b[0;34m*\u001b[0m\u001b[0mi\u001b[0m\u001b[0;34m]\u001b[0m\u001b[0;34m)\u001b[0m\u001b[0;34m\u001b[0m\u001b[0;34m\u001b[0m\u001b[0m\n",
      "\u001b[0;32m/Library/Frameworks/Python.framework/Versions/3.7/lib/python3.7/site-packages/ipykernel/kernelbase.py\u001b[0m in \u001b[0;36mraw_input\u001b[0;34m(self, prompt)\u001b[0m\n\u001b[1;32m   1003\u001b[0m         \u001b[0;32mif\u001b[0m \u001b[0;32mnot\u001b[0m \u001b[0mself\u001b[0m\u001b[0;34m.\u001b[0m\u001b[0m_allow_stdin\u001b[0m\u001b[0;34m:\u001b[0m\u001b[0;34m\u001b[0m\u001b[0;34m\u001b[0m\u001b[0m\n\u001b[1;32m   1004\u001b[0m             raise StdinNotImplementedError(\n\u001b[0;32m-> 1005\u001b[0;31m                 \u001b[0;34m\"raw_input was called, but this frontend does not support input requests.\"\u001b[0m\u001b[0;34m\u001b[0m\u001b[0;34m\u001b[0m\u001b[0m\n\u001b[0m\u001b[1;32m   1006\u001b[0m             )\n\u001b[1;32m   1007\u001b[0m         return self._input_request(\n",
      "\u001b[0;31mStdinNotImplementedError\u001b[0m: raw_input was called, but this frontend does not support input requests."
     ]
    }
   ],
   "source": [
    "#Enfant01or44\n",
    "f = input(\"Enter something : \")\n",
    "for i in range(int((len(f)+1)/2)):\n",
    "    print(f[2*i])"
   ]
  },
  {
   "cell_type": "code",
   "execution_count": null,
   "metadata": {
    "cell_id": "00003-e779e600-ae2f-4044-8c1c-3ab12276a1f4",
    "deepnote_cell_type": "code",
    "deepnote_to_be_reexecuted": false,
    "execution_millis": 19120,
    "execution_start": 1641876768248,
    "source_hash": "2cc690a2",
    "tags": []
   },
   "outputs": [
    {
     "name": "stdout",
     "output_type": "stream",
     "text": [
      "M\n",
      "h\n",
      "d\n",
      "l\n",
      "U\n",
      "i\n",
      "e\n",
      "s\n",
      "t\n"
     ]
    }
   ],
   "source": [
    "#cinnamond\n",
    "\n",
    "n = input(\"Input word or sentences.\")\n",
    "for i,j in enumerate(n) :\n",
    "    if i%2 == 0 :\n",
    "        print(j)\n"
   ]
  },
  {
   "cell_type": "code",
   "execution_count": null,
   "metadata": {
    "allow_embed": false,
    "cell_id": "00006-3c968e05-03ac-4b67-98fc-77908af78271",
    "deepnote_cell_type": "code",
    "deepnote_to_be_reexecuted": true,
    "source_hash": "b623e53d",
    "tags": []
   },
   "outputs": [],
   "source": []
  },
  {
   "cell_type": "markdown",
   "metadata": {
    "cell_id": "00004-4ed4acbf-2de1-4343-b6f5-b3760cdb88f2",
    "deepnote_cell_type": "markdown",
    "tags": []
   },
   "source": [
    "**Example 3** Remove the first n characters from a string\n",
    "Write a program to remove characters from a string from zero to n and return a new characters.\n",
    "\n",
    "For example,\n",
    "\n",
    "* `remove_chars(\"pynative\", 4)` ensures that the output is tive. The first four characters of a string must be removed in this case.\n",
    "\n",
    "* `remove_chars(\"pynative\", 2)` ensures that the output is native. The first two characters of a string must be removed in this case.\n",
    "\n",
    "Note that `n` must be smaller than the string's length."
   ]
  },
  {
   "cell_type": "code",
   "execution_count": null,
   "metadata": {
    "cell_id": "00012-fd03d1f6-eb3d-4a69-aac4-9e23fe4e46c3",
    "deepnote_cell_type": "code",
    "deepnote_to_be_reexecuted": false,
    "execution_millis": 6,
    "execution_start": 1641877018674,
    "source_hash": "df0b1a19",
    "tags": []
   },
   "outputs": [
    {
     "name": "stdout",
     "output_type": "stream",
     "text": [
      "nce\n",
      "0\n"
     ]
    }
   ],
   "source": [
    "#nyn\n",
    "def remove_chars(m,n):\n",
    "    if n<len(m):\n",
    "        return m[n:]\n",
    "    else:\n",
    "        return 0\n",
    "print(remove_chars(\"Science\", 4))\n",
    "print(remove_chars(\"Science\", 10))"
   ]
  },
  {
   "cell_type": "code",
   "execution_count": null,
   "metadata": {
    "cell_id": "00011-f5f54e19-5511-42df-a853-7019a299896b",
    "deepnote_cell_type": "code",
    "deepnote_to_be_reexecuted": true,
    "execution_millis": 1,
    "execution_start": 1641462814070,
    "source_hash": "8ca174a7",
    "tags": []
   },
   "outputs": [
    {
     "name": "stdout",
     "output_type": "stream",
     "text": [
      "tive\n",
      "native\n",
      "ynative\n",
      "Error\n"
     ]
    }
   ],
   "source": [
    "#Cinnaomnd\n",
    "\n",
    "def remove_chars(i,j) :\n",
    "    if j == 0 :\n",
    "        return i[1:]\n",
    "    elif j < len(i) and j > -1 :\n",
    "        return i[j:]\n",
    "    else :\n",
    "        return \"Error\"\n",
    "\n",
    "print(remove_chars(\"pynative\", 4))\n",
    "print(remove_chars(\"pynative\", 2))\n",
    "print(remove_chars(\"pynative\", 0))  # remove the first letter\n",
    "print(remove_chars(\"pynative\", -2))  # remove from 0 to -2 = p,v,e ==> ynati or nothing happend"
   ]
  },
  {
   "cell_type": "markdown",
   "metadata": {
    "cell_id": "00004-9d219322-3637-4f26-934e-d7dd3cfdf708",
    "deepnote_cell_type": "markdown",
    "tags": []
   },
   "source": []
  },
  {
   "cell_type": "markdown",
   "metadata": {
    "cell_id": "00006-e67f9b54-e6a2-4b88-b57d-efb2c09ea23a",
    "deepnote_cell_type": "markdown",
    "tags": []
   },
   "source": [
    "**Example 4** Return the number of substrings in a string.\n",
    "\n",
    "Write a program that calculates the number of times the substring \"Angel\" appears in the provided string.\n",
    "\n",
    "Given:\n",
    "\n",
    "new_str = new \"Angel is an excellent coder. Angel is an author. Most importantly, Angel is beautiful.\""
   ]
  },
  {
   "cell_type": "code",
   "execution_count": null,
   "metadata": {
    "cell_id": "00000-4ef6d4f0-395f-45de-915b-8c33955e8227",
    "deepnote_cell_type": "code",
    "deepnote_to_be_reexecuted": true,
    "execution_millis": 9,
    "execution_start": 1641454170225,
    "source_hash": "33e1e4aa",
    "tags": []
   },
   "outputs": [
    {
     "name": "stdout",
     "output_type": "stream",
     "text": [
      "3\n"
     ]
    }
   ],
   "source": [
    "#pw\n",
    "new_str = \"Angel is an excellent coder. Angel is an author. Most importantly, Angel is beautiful.\"\n",
    "print(new_str.count(\"Angel\"))"
   ]
  },
  {
   "cell_type": "code",
   "execution_count": null,
   "metadata": {
    "cell_id": "00017-12a7013a-5cb7-4f39-b37e-9c4c4ab8235f",
    "deepnote_cell_type": "code",
    "deepnote_to_be_reexecuted": true,
    "execution_millis": 5,
    "execution_start": 1641826232334,
    "source_hash": "b9baa4b2",
    "tags": []
   },
   "outputs": [
    {
     "name": "stdout",
     "output_type": "stream",
     "text": [
      "3\n"
     ]
    }
   ],
   "source": [
    "#N0mPh0ngz\n",
    "x = \"Angel is an excellent coder. Angel is an author. Most importantly, Angel is beautiful.\"\n",
    "y = 'Angel'\n",
    "z = x.count(y)\n",
    "print(z)"
   ]
  },
  {
   "cell_type": "markdown",
   "metadata": {
    "cell_id": "00008-48a346c1-2021-4eb0-91a9-738998ef9296",
    "deepnote_cell_type": "markdown",
    "tags": []
   },
   "source": [
    "**Example 5** Print the following pattern\n",
    "\n",
    "Write a Python code to print out the following pattern:\n",
    "\n",
    "1 \n",
    "\n",
    "2 2\n",
    "\n",
    "3 3 3\n",
    "\n",
    "4 4 4 4\n",
    "\n",
    "5 5 5 5 5"
   ]
  },
  {
   "cell_type": "code",
   "execution_count": null,
   "metadata": {
    "cell_id": "00001-c5b4e26b-3056-4648-9c41-1237d2588c8a",
    "deepnote_cell_type": "code",
    "deepnote_to_be_reexecuted": false,
    "execution_millis": 4,
    "execution_start": 1641877160958,
    "source_hash": "e41dc191",
    "tags": []
   },
   "outputs": [
    {
     "name": "stdout",
     "output_type": "stream",
     "text": [
      "1 \n",
      "2 2 \n",
      "3 3 3 \n",
      "4 4 4 4 \n",
      "5 5 5 5 5 \n"
     ]
    }
   ],
   "source": [
    "# PL\n",
    "for i in range(1,6):\n",
    "    for j in range(i) :\n",
    "        print(i, end = \" \")\n",
    "    print()"
   ]
  },
  {
   "cell_type": "code",
   "execution_count": null,
   "metadata": {
    "cell_id": "00019-0495573d-a0b0-4340-84ad-0f4961492939",
    "deepnote_cell_type": "code",
    "deepnote_to_be_reexecuted": true,
    "execution_millis": 214,
    "execution_start": 1641489362890,
    "source_hash": "e0365005",
    "tags": []
   },
   "outputs": [
    {
     "name": "stdout",
     "output_type": "stream",
     "text": [
      "1  \n",
      "\n",
      "2 2  \n",
      "\n",
      "3 3 3  \n",
      "\n",
      "4 4 4 4  \n",
      "\n",
      "5 5 5 5 5  \n",
      "\n"
     ]
    }
   ],
   "source": [
    "#Enfant01or44\n",
    "for i in range(1,6):\n",
    "    print((str(i)+' ')*i,'\\n')"
   ]
  },
  {
   "cell_type": "code",
   "execution_count": null,
   "metadata": {
    "cell_id": "00020-f08fcea0-5712-4cd4-a79d-a0c3ad11fd65",
    "deepnote_cell_type": "code",
    "deepnote_to_be_reexecuted": true,
    "execution_millis": 4,
    "execution_start": 1641818796638,
    "source_hash": "e79fd2e7",
    "tags": []
   },
   "outputs": [
    {
     "name": "stdout",
     "output_type": "stream",
     "text": [
      "1 \n",
      "\n",
      "2 2 \n",
      "\n",
      "3 3 3 \n",
      "\n",
      "4 4 4 4 \n",
      "\n",
      "5 5 5 5 5 \n",
      "\n"
     ]
    }
   ],
   "source": [
    "#N0mPh0ngz\n",
    "x = 5\n",
    "for i in range(x) :\n",
    "    print((str(i+1)+' ')*(i+1) + '\\n' )"
   ]
  },
  {
   "cell_type": "markdown",
   "metadata": {
    "created_in_deepnote_cell": true,
    "deepnote_cell_type": "markdown",
    "tags": []
   },
   "source": [
    "<a style='text-decoration:none;line-height:16px;display:flex;color:#5B5B62;padding:10px;justify-content:end;' href='https://deepnote.com?utm_source=created-in-deepnote-cell&projectId=b6a4cd23-cb61-4077-af1d-1d1fc33bd961' target=\"_blank\">\n",
    "<img alt='Created in deepnote.com' style='display:inline;max-height:16px;margin:0px;margin-right:7.5px;' src='data:image/svg+xml;base64,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' > </img>\n",
    "Created in <span style='font-weight:600;margin-left:4px;'>Deepnote</span></a>"
   ]
  }
 ],
 "metadata": {
  "deepnote": {
   "is_reactive": false
  },
  "deepnote_execution_queue": [],
  "deepnote_notebook_id": "7d62185f-205e-4c8b-93f8-89ee3a6af9d3",
  "kernelspec": {
   "display_name": "Python 3 (ipykernel)",
   "language": "python",
   "name": "python3"
  },
  "language_info": {
   "codemirror_mode": {
    "name": "ipython",
    "version": 3
   },
   "file_extension": ".py",
   "mimetype": "text/x-python",
   "name": "python",
   "nbconvert_exporter": "python",
   "pygments_lexer": "ipython3",
   "version": "3.7.8"
  }
 },
 "nbformat": 4,
 "nbformat_minor": 4
}