{
 "cells": [
  {
   "cell_type": "code",
   "execution_count": 1,
   "id": "ddc211e6",
   "metadata": {},
   "outputs": [
    {
     "data": {
      "text/plain": [
       "PosixPath('/Users/Kaemyuijang/SCMA248')"
      ]
     },
     "execution_count": 1,
     "metadata": {},
     "output_type": "execute_result"
    }
   ],
   "source": [
    "import pathlib\n",
    "pathlib.Path().resolve()"
   ]
  },
  {
   "cell_type": "code",
   "execution_count": 2,
   "id": "969a6e6c",
   "metadata": {},
   "outputs": [],
   "source": [
    "import pandas as pd"
   ]
  },
  {
   "cell_type": "code",
   "execution_count": 3,
   "id": "b1b199ec",
   "metadata": {},
   "outputs": [],
   "source": [
    "# pip install pyreadr"
   ]
  },
  {
   "cell_type": "code",
   "execution_count": 4,
   "id": "2be48878",
   "metadata": {},
   "outputs": [],
   "source": [
    "import pyreadr"
   ]
  },
  {
   "cell_type": "code",
   "execution_count": 5,
   "id": "f799f708",
   "metadata": {},
   "outputs": [
    {
     "name": "stdout",
     "output_type": "stream",
     "text": [
      "odict_keys(['df1', 'df2', 'char'])\n"
     ]
    },
    {
     "name": "stderr",
     "output_type": "stream",
     "text": [
      "/Library/Frameworks/Python.framework/Versions/3.7/lib/python3.7/site-packages/pandas/core/tools/datetimes.py:528: RuntimeWarning: invalid value encountered in multiply\n",
      "  arr, tz_parsed = tslib.array_with_unit_to_datetime(arg, unit, errors=errors)\n"
     ]
    }
   ],
   "source": [
    "# https://github.com/ofajardo/pyreadr#basic-usage--reading-files\n",
    "\n",
    "result = pyreadr.read_r('/Users/Kaemyuijang/Documents/Github/pyreadr-master/test_data/basic/two.RData')\n",
    "\n",
    "# done! let's see what we got\n",
    "print(result.keys()) # let's check what objects we got\n",
    "df1 = result[\"df1\"] # extract the pandas data frame for object df1"
   ]
  },
  {
   "cell_type": "code",
   "execution_count": 6,
   "id": "049b1b42",
   "metadata": {},
   "outputs": [
    {
     "name": "stdout",
     "output_type": "stream",
     "text": [
      "odict_keys(['df1', 'df2', 'char'])\n"
     ]
    }
   ],
   "source": [
    "print(result.keys())"
   ]
  },
  {
   "cell_type": "code",
   "execution_count": 7,
   "id": "03d83988",
   "metadata": {},
   "outputs": [
    {
     "name": "stdout",
     "output_type": "stream",
     "text": [
      "odict_keys([None])\n"
     ]
    }
   ],
   "source": [
    "import pyreadr\n",
    "\n",
    "result = pyreadr.read_r('/Users/Kaemyuijang/Documents/Github/pyreadr-master/test_data/basic/one.Rds')\n",
    "\n",
    "# done! let's see what we got\n",
    "print(result.keys()) # let's check what objects we got: there is only None\n",
    "df1 = result[None] # extract the pandas data frame for the only object available"
   ]
  },
  {
   "cell_type": "code",
   "execution_count": 8,
   "id": "cc026a8f",
   "metadata": {},
   "outputs": [
    {
     "data": {
      "text/plain": [
       "array([[1.0, 1, 'a', 'james', True, Timestamp('2017-02-03 08:00:01'),\n",
       "        Timestamp('2017-02-03 08:00:01')],\n",
       "       [2.0, 2, 'b', 'cecil', True, Timestamp('2017-02-03 08:00:02'),\n",
       "        Timestamp('2017-02-03 08:00:02')],\n",
       "       [3.0, 3, 'c', 'zoe', False, Timestamp('2017-02-03 08:00:03'),\n",
       "        Timestamp('2017-02-03 08:00:03')],\n",
       "       [inf, nan, 'a', 'amber', True, NaT, NaT],\n",
       "       [nan, nan, '', nan, False, NaT, NaT],\n",
       "       [nan, nan, nan, 'rob', nan, NaT, NaT]], dtype=object)"
      ]
     },
     "execution_count": 8,
     "metadata": {},
     "output_type": "execute_result"
    }
   ],
   "source": [
    "df1.values"
   ]
  },
  {
   "cell_type": "code",
   "execution_count": 9,
   "id": "cc43fb9c",
   "metadata": {},
   "outputs": [
    {
     "name": "stdout",
     "output_type": "stream",
     "text": [
      "pandas==1.3.5\n",
      "pyreadr==0.4.4\n"
     ]
    }
   ],
   "source": [
    "print('\\n'.join(f'{m.__name__}=={m.__version__}' for m in globals().values() if getattr(m, '__version__', None)))"
   ]
  },
  {
   "cell_type": "code",
   "execution_count": 10,
   "id": "856fd0f3",
   "metadata": {},
   "outputs": [],
   "source": [
    "result = pyreadr.read_r('~/Documents/Github/pyreadr-master/test_data/basic/myData.RData') # also works for Rds, rda\n"
   ]
  },
  {
   "cell_type": "code",
   "execution_count": 11,
   "id": "8e2c2cfc",
   "metadata": {},
   "outputs": [
    {
     "name": "stdout",
     "output_type": "stream",
     "text": [
      "odict_keys(['char', '.Random.seed', 'mydata', 'freMTPL2freq', 'df1', 'df2'])\n"
     ]
    }
   ],
   "source": [
    "print(result.keys())\n"
   ]
  },
  {
   "cell_type": "code",
   "execution_count": 12,
   "id": "7b490987",
   "metadata": {},
   "outputs": [],
   "source": [
    "fre = result['freMTPL2freq']"
   ]
  },
  {
   "cell_type": "code",
   "execution_count": 13,
   "id": "bb3f6b1a",
   "metadata": {},
   "outputs": [
    {
     "data": {
      "text/plain": [
       "pandas.core.frame.DataFrame"
      ]
     },
     "execution_count": 13,
     "metadata": {},
     "output_type": "execute_result"
    }
   ],
   "source": [
    "type(fre)"
   ]
  }
 ],
 "metadata": {
  "kernelspec": {
   "display_name": "Python 3 (ipykernel)",
   "language": "python",
   "name": "python3"
  },
  "language_info": {
   "codemirror_mode": {
    "name": "ipython",
    "version": 3
   },
   "file_extension": ".py",
   "mimetype": "text/x-python",
   "name": "python",
   "nbconvert_exporter": "python",
   "pygments_lexer": "ipython3",
   "version": "3.7.8"
  }
 },
 "nbformat": 4,
 "nbformat_minor": 5
}