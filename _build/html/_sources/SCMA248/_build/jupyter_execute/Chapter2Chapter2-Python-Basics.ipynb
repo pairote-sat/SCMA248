{
 "cells": [
  {
   "cell_type": "markdown",
   "id": "4b61410b",
   "metadata": {},
   "source": [
    "# Python Basics"
   ]
  },
  {
   "cell_type": "code",
   "execution_count": 1,
   "id": "d3454f74",
   "metadata": {},
   "outputs": [],
   "source": [
    "from IPython.display import Javascript"
   ]
  },
  {
   "cell_type": "code",
   "execution_count": 2,
   "id": "a888a478",
   "metadata": {},
   "outputs": [
    {
     "data": {
      "application/javascript": [
       "alert(\"hello\")"
      ],
      "text/plain": [
       "<IPython.core.display.Javascript object>"
      ]
     },
     "metadata": {},
     "output_type": "display_data"
    }
   ],
   "source": [
    "test = Javascript('alert(\"hello\")')\n",
    "display(test)"
   ]
  },
  {
   "cell_type": "markdown",
   "id": "b53ed776",
   "metadata": {},
   "source": [
    "## Comments\n",
    "\n",
    "A comment is a piece of text that is not executed within a program. It can be used to provide additional information to help with code comprehension.\n",
    "\n",
    "A comment is started with the # character and continues until the end of the line."
   ]
  },
  {
   "cell_type": "code",
   "execution_count": 3,
   "id": "3f70f552",
   "metadata": {},
   "outputs": [],
   "source": [
    "# This is a comment line."
   ]
  },
  {
   "cell_type": "markdown",
   "id": "f050c121",
   "metadata": {},
   "source": [
    "## Whitespace Formatting\n",
    "\n",
    "Curly brackets are used to separate code blocks in many languages. Indentation is used in Python:\n",
    "This makes Python code very readable, but it also implies that formatting must be done carefully."
   ]
  },
  {
   "cell_type": "code",
   "execution_count": 4,
   "id": "fc095c35",
   "metadata": {},
   "outputs": [
    {
     "name": "stdout",
     "output_type": "stream",
     "text": [
      "2\n",
      "3\n",
      "3\n",
      "4\n"
     ]
    }
   ],
   "source": [
    "for i in [1,2]:\n",
    "    for j in [1,2]:\n",
    "        print(i+j)"
   ]
  },
  {
   "cell_type": "markdown",
   "id": "9da9b057",
   "metadata": {},
   "source": [
    "Inside parentheses and brackets, whitespace is ignored, which is useful for long-winded calculations:"
   ]
  },
  {
   "cell_type": "code",
   "execution_count": 5,
   "id": "3eb9897c",
   "metadata": {},
   "outputs": [],
   "source": [
    "my_list = [1, 2, 3]\n",
    "my_list_of_lists = [[1,2],\n",
    "                    [3,4]]"
   ]
  },
  {
   "cell_type": "markdown",
   "id": "573e19fe",
   "metadata": {},
   "source": [
    "## Python Data Types\n",
    "\n",
    "In Python, every value is referred to as a \"object.\" And each object has its own data type. The following are the three most common data types:\n",
    "\n",
    "### Integers \n",
    "\n",
    "Integers are integer numbers that can be used to represent objects such as \"number 8.\""
   ]
  },
  {
   "cell_type": "code",
   "execution_count": 6,
   "id": "7183a4d4",
   "metadata": {},
   "outputs": [],
   "source": [
    "# Example integer numbers\n",
    "\n",
    "a = 2\n",
    "b = 1\n",
    "c = -1"
   ]
  },
  {
   "cell_type": "markdown",
   "id": "6c0873e0",
   "metadata": {},
   "source": [
    "### Floating-point numbers \n",
    "\n",
    "Floating-point numbers are a type of number that can be used to represent floating-point values."
   ]
  },
  {
   "cell_type": "code",
   "execution_count": 7,
   "id": "82ac2c84",
   "metadata": {},
   "outputs": [],
   "source": [
    "# Example integer numbers\n",
    "\n",
    "a = 2\n",
    "b = 1\n",
    "c = -1"
   ]
  },
  {
   "cell_type": "code",
   "execution_count": 8,
   "id": "abb024ea",
   "metadata": {},
   "outputs": [],
   "source": [
    "# import the math module \n",
    "import math \n",
    "\n",
    "# Code to compute solution to the quadratic equation of the form a x^2 + b x + c = 0\n",
    "sol1 = (-b + math.sqrt(b**2 - 4*a*c))/(2*a)\n",
    "sol2 = (-b - math.sqrt(b**2 - 4*a*c))/(2*a)"
   ]
  },
  {
   "cell_type": "code",
   "execution_count": 9,
   "id": "aa66773f",
   "metadata": {},
   "outputs": [
    {
     "name": "stdout",
     "output_type": "stream",
     "text": [
      "[0.5, -1.0]\n"
     ]
    }
   ],
   "source": [
    "print([sol1,sol2])"
   ]
  },
  {
   "cell_type": "markdown",
   "id": "a59c2d09",
   "metadata": {},
   "source": [
    "The build-in Python type() function returns the type of these objects."
   ]
  },
  {
   "cell_type": "code",
   "execution_count": 10,
   "id": "565f0753",
   "metadata": {},
   "outputs": [
    {
     "data": {
      "text/plain": [
       "float"
      ]
     },
     "execution_count": 10,
     "metadata": {},
     "output_type": "execute_result"
    }
   ],
   "source": [
    "type(sol1)"
   ]
  },
  {
   "cell_type": "markdown",
   "id": "94847730",
   "metadata": {},
   "source": [
    "### Strings \n",
    "\n",
    "A string is used to define a sequence of characters. Consider the word \"hello.\" Strings are **immutable** in Python 3. You can't modify it afterwards if you've previously defined one."
   ]
  },
  {
   "cell_type": "code",
   "execution_count": 11,
   "id": "2bd1d474",
   "metadata": {},
   "outputs": [
    {
     "data": {
      "text/plain": [
       "'Hello  Mahidol'"
      ]
     },
     "execution_count": 11,
     "metadata": {},
     "output_type": "execute_result"
    }
   ],
   "source": [
    "my_string = \"Hello world\"\n",
    "my_string.replace(\"world\", \" Mahidol\")"
   ]
  },
  {
   "cell_type": "code",
   "execution_count": 12,
   "id": "9c14128b",
   "metadata": {},
   "outputs": [
    {
     "name": "stdout",
     "output_type": "stream",
     "text": [
      "Hello world\n"
     ]
    }
   ],
   "source": [
    "print(my_string)"
   ]
  },
  {
   "cell_type": "markdown",
   "id": "75c36af6",
   "metadata": {},
   "source": [
    "While commands like replace() and join() can modify a string, they generate a copy of it and apply the changes to it rather than rewriting the original."
   ]
  },
  {
   "cell_type": "markdown",
   "id": "b0cab664",
   "metadata": {},
   "source": [
    "#### How to Create a String in Python\n",
    "\n",
    "Using single, double, or triple quotations, you can make a string in three different ways. Here's an example of each possibility:"
   ]
  },
  {
   "cell_type": "code",
   "execution_count": 13,
   "id": "4e791002",
   "metadata": {},
   "outputs": [],
   "source": [
    "second_string = 'Mahidol University'"
   ]
  },
  {
   "cell_type": "markdown",
   "id": "694d11c2",
   "metadata": {},
   "source": [
    "The print() function can then be used to print your string in the console window. This allows you to go through your code and make sure everything works properly.\n",
    "Here's a sample for you:"
   ]
  },
  {
   "cell_type": "code",
   "execution_count": 14,
   "id": "e7560ade",
   "metadata": {},
   "outputs": [
    {
     "name": "stdout",
     "output_type": "stream",
     "text": [
      "Mahidol University\n"
     ]
    }
   ],
   "source": [
    "print(second_string)"
   ]
  },
  {
   "cell_type": "code",
   "execution_count": 15,
   "id": "e34cd0bb",
   "metadata": {},
   "outputs": [],
   "source": [
    "third_string = '''Department of Mathematics, \n",
    "Faculty of Science,\n",
    "Mahidol University'''"
   ]
  },
  {
   "cell_type": "code",
   "execution_count": 16,
   "id": "83fcdbf5",
   "metadata": {},
   "outputs": [
    {
     "name": "stdout",
     "output_type": "stream",
     "text": [
      "Department of Mathematics, \n",
      "Faculty of Science,\n",
      "Mahidol University\n"
     ]
    }
   ],
   "source": [
    "print(third_string)"
   ]
  },
  {
   "cell_type": "markdown",
   "id": "875238a4",
   "metadata": {},
   "source": [
    "#### Concatenating strings\n",
    "\n",
    "The next skill you can learn is concatenation, which is a method of joining two strings using the \"+\" operator. Here's how you do it:"
   ]
  },
  {
   "cell_type": "code",
   "execution_count": 17,
   "id": "30dfb94c",
   "metadata": {},
   "outputs": [
    {
     "data": {
      "text/plain": [
       "'Hello world from Mahidol University'"
      ]
     },
     "execution_count": 17,
     "metadata": {},
     "output_type": "execute_result"
    }
   ],
   "source": [
    "my_string + \" from \" +  second_string"
   ]
  },
  {
   "cell_type": "markdown",
   "id": "571e37fd",
   "metadata": {},
   "source": [
    "Note that the + operator cannot be used on two different data types, such as string and integer. You'll get the following Python error if you try it:"
   ]
  },
  {
   "cell_type": "markdown",
   "id": "44d8b35a",
   "metadata": {},
   "source": [
    "#### Escaping Characters\n",
    "\n",
    "In a Python string, backslashes (\\) are used to escape characters.\n",
    "\n",
    "For example, the given code can be used to print a string containing quote marks."
   ]
  },
  {
   "cell_type": "code",
   "execution_count": 18,
   "id": "0237a4d7",
   "metadata": {},
   "outputs": [
    {
     "data": {
      "text/plain": [
       "'\"Imagination is the highest form of research\". - Albert Einstein'"
      ]
     },
     "execution_count": 18,
     "metadata": {},
     "output_type": "execute_result"
    }
   ],
   "source": [
    "# Quote from Albert Einstein \n",
    "\n",
    "\"\\\"Imagination is the highest form of research\\\". - Albert Einstein\" "
   ]
  },
  {
   "cell_type": "markdown",
   "id": "7ef1bb68",
   "metadata": {},
   "source": [
    "#### String Indexing and Slicing\n",
    "\n",
    "Because strings are lists of characters, Python strings can be indexed using the same notation as lists. Bracket notation ([index]) can be used to access a single character, or slicing can be used to access a substring ([start:end]).\n",
    "\n",
    "Indexing with negative numbers counts from the end of the string."
   ]
  },
  {
   "cell_type": "code",
   "execution_count": 19,
   "id": "0cbe3d98",
   "metadata": {},
   "outputs": [
    {
     "name": "stdout",
     "output_type": "stream",
     "text": [
      "H\n",
      "Hello\n",
      "world\n"
     ]
    }
   ],
   "source": [
    "print(my_string[0])\n",
    "print(my_string[0:5])\n",
    "print(my_string[-5:])"
   ]
  },
  {
   "cell_type": "markdown",
   "id": "c3cd1448",
   "metadata": {},
   "source": [
    "#### Iterate String\n",
    "\n",
    "To iterate through a string in Python, “for…in” notation is used."
   ]
  },
  {
   "cell_type": "code",
   "execution_count": 20,
   "id": "8c82f214",
   "metadata": {},
   "outputs": [
    {
     "name": "stdout",
     "output_type": "stream",
     "text": [
      "M\n",
      "a\n",
      "h\n",
      "i\n",
      "d\n",
      "o\n",
      "l\n",
      " \n"
     ]
    }
   ],
   "source": [
    "for c in second_string[:8]:\n",
    "    print(c)"
   ]
  },
  {
   "cell_type": "markdown",
   "id": "07294033",
   "metadata": {},
   "source": [
    "## Python Variables\n",
    "\n",
    "Variables are containers for storing data values. Variable names are case-sensitive.\n",
    "\n",
    "Variables in Python 3 are special symbols that assign a specific storage location to a value that’s tied to it. In essence, variables are like special labels that you place on some value to know where it’s stored.\n",
    "\n",
    "The code below demonstrates how to store a string in a variable."
   ]
  },
  {
   "cell_type": "code",
   "execution_count": 21,
   "id": "fa8eae62",
   "metadata": {},
   "outputs": [],
   "source": [
    "my_string = \"Hello world\""
   ]
  },
  {
   "cell_type": "markdown",
   "id": "7c454290",
   "metadata": {},
   "source": [
    "Let’s break it down a bit further:\n",
    "\n",
    "* my_string is the variable name.\n",
    "* = is the assignment operator.\n",
    "* “Hello world” is a value you tie to the variable name.\n"
   ]
  },
  {
   "cell_type": "markdown",
   "id": "0effdf7b",
   "metadata": {},
   "source": [
    "Variables do not need to be declared with any particular type, and can even change type after they have been set."
   ]
  },
  {
   "cell_type": "code",
   "execution_count": 22,
   "id": "373e241a",
   "metadata": {},
   "outputs": [
    {
     "name": "stdout",
     "output_type": "stream",
     "text": [
      "SCMA\n"
     ]
    }
   ],
   "source": [
    "x = 10       # x is of type int\n",
    "x = \"SCMA\"   # x is now of type str\n",
    "print(x)"
   ]
  },
  {
   "cell_type": "markdown",
   "id": "e1d999e8",
   "metadata": {},
   "source": [
    "### Casting\n",
    "\n",
    "Casting can be used to specify the data type of a variable."
   ]
  },
  {
   "cell_type": "code",
   "execution_count": 23,
   "id": "68e3d90b",
   "metadata": {},
   "outputs": [
    {
     "data": {
      "text/plain": [
       "str"
      ]
     },
     "execution_count": 23,
     "metadata": {},
     "output_type": "execute_result"
    }
   ],
   "source": [
    "x = str(10)\n",
    "type(x)"
   ]
  },
  {
   "cell_type": "code",
   "execution_count": 24,
   "id": "fbe8d8a3",
   "metadata": {},
   "outputs": [
    {
     "data": {
      "text/plain": [
       "float"
      ]
     },
     "execution_count": 24,
     "metadata": {},
     "output_type": "execute_result"
    }
   ],
   "source": [
    "y = float(10)\n",
    "type(y)"
   ]
  },
  {
   "cell_type": "code",
   "execution_count": 25,
   "id": "e301df34",
   "metadata": {},
   "outputs": [
    {
     "data": {
      "text/plain": [
       "10"
      ]
     },
     "execution_count": 25,
     "metadata": {},
     "output_type": "execute_result"
    }
   ],
   "source": [
    "z = int(10.1)\n",
    "z"
   ]
  },
  {
   "cell_type": "markdown",
   "id": "2fcb809c",
   "metadata": {},
   "source": [
    "### Variable Names\n",
    "\n",
    "A variable can have a short name (such as x and y) or a longer name (such as age, carname, or total volume). Variables in Python have the following rules:\n",
    "\n",
    "* The name of a variable must begin with a letter or the underscore character.\n",
    "\n",
    "* A number cannot be the first character in a variable name.\n",
    "\n",
    "* Only alpha-numeric characters and underscores (A-z, 0-9, and _) are allowed in variable names.\n",
    "* Case matters when it comes to variable names (age, Age and AGE are three different variables)"
   ]
  },
  {
   "cell_type": "markdown",
   "id": "f6781789",
   "metadata": {},
   "source": [
    "## Lists\n",
    "\n",
    "In Python, lists are another important data type for specifying an ordered series of elements. In particular, they allow you to group related data and perform the same operations on multiple variables at once. Lists, unlike strings, are mutable (that is, they may be changed).\n",
    "\n",
    "Each value in a list is referred to as an item, and it is enclosed in square brackets [ ], separated by commas. It is good practice to put a space between the comma and the next value. The values in a list do not need to be unique (the same value can be repeated).\n",
    "\n",
    "Empty lists do not contain any values within the square brackets."
   ]
  },
  {
   "cell_type": "code",
   "execution_count": 26,
   "id": "ea112813",
   "metadata": {},
   "outputs": [],
   "source": [
    "my_list = [1, 2, 3]"
   ]
  },
  {
   "cell_type": "markdown",
   "id": "b5692f1f",
   "metadata": {},
   "source": [
    "Alternatively, you can perform the same thing with the list() function:"
   ]
  },
  {
   "cell_type": "code",
   "execution_count": 27,
   "id": "795ed2db",
   "metadata": {},
   "outputs": [
    {
     "name": "stdout",
     "output_type": "stream",
     "text": [
      "[1, 2, 3]\n"
     ]
    }
   ],
   "source": [
    "third_list = list((1 , 2, 3))\n",
    "print(third_list)"
   ]
  },
  {
   "cell_type": "code",
   "execution_count": 28,
   "id": "db3760e0",
   "metadata": {},
   "outputs": [
    {
     "data": {
      "text/plain": [
       "True"
      ]
     },
     "execution_count": 28,
     "metadata": {},
     "output_type": "execute_result"
    }
   ],
   "source": [
    "my_list == third_list"
   ]
  },
  {
   "cell_type": "markdown",
   "id": "71491f4b",
   "metadata": {},
   "source": [
    "In Python, lists are a versatile data type that can contain multiple different data types within the same square brackets. The possible data types within a list include numbers, strings, other objects, and even other lists."
   ]
  },
  {
   "cell_type": "code",
   "execution_count": 29,
   "id": "1f5b713c",
   "metadata": {},
   "outputs": [],
   "source": [
    "second_list = [\"a\", 2, \"e\", 4, \"i\", 6, \"o\", 8, \"u\"]"
   ]
  },
  {
   "cell_type": "markdown",
   "id": "2de56e29",
   "metadata": {},
   "source": [
    "### How to Add Items to a List\n",
    "\n",
    "You can add new items to existing lists in two methods. The first involves the use of the append() method:\n",
    "\n",
    "The insert() method can be used to add an item to the specified index:"
   ]
  },
  {
   "cell_type": "code",
   "execution_count": 30,
   "id": "229dab25",
   "metadata": {},
   "outputs": [
    {
     "name": "stdout",
     "output_type": "stream",
     "text": [
      "[1, 2, 3, 4]\n"
     ]
    }
   ],
   "source": [
    "my_list = [1, 2, 3]\n",
    "my_list.append(4)\n",
    "print(my_list)"
   ]
  },
  {
   "cell_type": "code",
   "execution_count": 31,
   "id": "f57294f3",
   "metadata": {},
   "outputs": [
    {
     "name": "stdout",
     "output_type": "stream",
     "text": [
      "[1, 2, 2.5, 3, 4]\n"
     ]
    }
   ],
   "source": [
    "my_list.insert(2, 2.5)\n",
    "print(my_list)"
   ]
  },
  {
   "cell_type": "markdown",
   "id": "a5ca3232",
   "metadata": {},
   "source": [
    "### How can I remove an item from a list?\n",
    "\n",
    "You can do it in a variety of ways. \n",
    "\n",
    "* To begin, use the remove() method.\n",
    "\n",
    "* You can also use the pop() method. If no index is supplied, the last item will be removed.\n",
    "\n",
    "* The final way is to remove a specific item using the \"del\" keyword. If you want to scrap the entire list, you can use del."
   ]
  },
  {
   "cell_type": "code",
   "execution_count": 32,
   "id": "3dc43dd6",
   "metadata": {},
   "outputs": [
    {
     "name": "stdout",
     "output_type": "stream",
     "text": [
      "[1, 2, 3, 4]\n"
     ]
    }
   ],
   "source": [
    "my_list.remove(2.5)\n",
    "print(my_list)"
   ]
  },
  {
   "cell_type": "code",
   "execution_count": 33,
   "id": "3662911e",
   "metadata": {},
   "outputs": [
    {
     "name": "stdout",
     "output_type": "stream",
     "text": [
      "[1, 3, 4]\n"
     ]
    }
   ],
   "source": [
    "my_list.pop(1)\n",
    "print(my_list)"
   ]
  },
  {
   "cell_type": "code",
   "execution_count": 34,
   "id": "2017cf70",
   "metadata": {},
   "outputs": [
    {
     "name": "stdout",
     "output_type": "stream",
     "text": [
      "[0, 1, 2, 4]\n"
     ]
    }
   ],
   "source": [
    "my_list = [0, 1, 2, 3, 4]\n",
    "del my_list [3]\n",
    "print(my_list)"
   ]
  },
  {
   "cell_type": "code",
   "execution_count": 35,
   "id": "09add16c",
   "metadata": {},
   "outputs": [],
   "source": [
    "my_list = [0, 1, 2, 3, 4]\n",
    "del my_list "
   ]
  },
  {
   "cell_type": "markdown",
   "id": "bea86774",
   "metadata": {},
   "source": [
    "### Combine two lists into one\n",
    "\n",
    "Use the + operator to combine two lists."
   ]
  },
  {
   "cell_type": "code",
   "execution_count": 36,
   "id": "6afb14e1",
   "metadata": {},
   "outputs": [
    {
     "name": "stdout",
     "output_type": "stream",
     "text": [
      "[0, 1, 2, 3, 4, 'a', 2, 'e', 4, 'i', 6, 'o', 8, 'u']\n"
     ]
    }
   ],
   "source": [
    "my_list = [0, 1, 2, 3, 4] \n",
    "second_list = [\"a\", 2, \"e\", 4, \"i\", 6, \"o\", 8, \"u\"]\n",
    "print(my_list + second_list)"
   ]
  },
  {
   "cell_type": "markdown",
   "id": "ebb1ad2e",
   "metadata": {},
   "source": [
    "### Change Item Value on Your List\n",
    "\n",
    "You can easily overwrite a value of one list items:"
   ]
  },
  {
   "cell_type": "code",
   "execution_count": 37,
   "id": "0a92b9d5",
   "metadata": {},
   "outputs": [
    {
     "name": "stdout",
     "output_type": "stream",
     "text": [
      "[1, 2, 3, 4, 5, 6, 7, 8, 9]\n"
     ]
    }
   ],
   "source": [
    "second_list = [\"a\", 2, \"e\", 4, \"i\", 6, \"o\", 8, \"u\"]\n",
    "\n",
    "second_list[0] = 1\n",
    "second_list[2] = 3\n",
    "second_list[4] = 5\n",
    "second_list[6] = 7\n",
    "second_list[8] = 9\n",
    "print(second_list)"
   ]
  },
  {
   "cell_type": "markdown",
   "id": "781d53b1",
   "metadata": {},
   "source": [
    "### Loop Through the List\n",
    "\n",
    "Using for loop you can multiply the usage of certain items, similarly to what * operator does. Here’s an example:"
   ]
  },
  {
   "cell_type": "code",
   "execution_count": 38,
   "id": "42b003ef",
   "metadata": {},
   "outputs": [
    {
     "name": "stdout",
     "output_type": "stream",
     "text": [
      "['fruit', 'fruit', 'fruit']\n"
     ]
    }
   ],
   "source": [
    "last_list = []\n",
    "for x in range(1,4): \n",
    "    last_list += [\"fruit\"] \n",
    "print(last_list)"
   ]
  },
  {
   "cell_type": "code",
   "execution_count": 39,
   "id": "4ba17d7b",
   "metadata": {},
   "outputs": [
    {
     "name": "stdout",
     "output_type": "stream",
     "text": [
      "1\n",
      "2\n",
      "3\n"
     ]
    }
   ],
   "source": [
    "for x in range(1,4): \n",
    "    print(x)"
   ]
  },
  {
   "cell_type": "markdown",
   "id": "dc896330",
   "metadata": {},
   "source": [
    "### Copy a List\n",
    "\n",
    "Use the built-in copy() function to replicate your data. Alternatively, you can copy a list with the list() method."
   ]
  },
  {
   "cell_type": "code",
   "execution_count": 40,
   "id": "6fc6c33f",
   "metadata": {},
   "outputs": [
    {
     "name": "stdout",
     "output_type": "stream",
     "text": [
      "['apple', 'banana', 'orange']\n"
     ]
    }
   ],
   "source": [
    "old_list = [\"apple\", \"banana\", \"orange\"] \n",
    "new_list = old_list \n",
    "print(new_list)"
   ]
  },
  {
   "cell_type": "code",
   "execution_count": 41,
   "id": "40941913",
   "metadata": {},
   "outputs": [
    {
     "name": "stdout",
     "output_type": "stream",
     "text": [
      "['apple', 'banana', 'orange']\n"
     ]
    }
   ],
   "source": [
    "old_list = [\"apple\", \"banana\", \"orange\"] \n",
    "new_list = old_list.copy() \n",
    "print(new_list)"
   ]
  },
  {
   "cell_type": "code",
   "execution_count": 42,
   "id": "5d463a0c",
   "metadata": {},
   "outputs": [
    {
     "name": "stdout",
     "output_type": "stream",
     "text": [
      "['apple', 'banana', 'orange']\n"
     ]
    }
   ],
   "source": [
    "old_list = [\"apple\", \"banana\", \"orange\"] \n",
    "new_list = list(old_list) \n",
    "print(new_list)"
   ]
  }
 ],
 "metadata": {
  "kernelspec": {
   "display_name": "Python 3 (ipykernel)",
   "language": "python",
   "name": "python3"
  },
  "language_info": {
   "codemirror_mode": {
    "name": "ipython",
    "version": 3
   },
   "file_extension": ".py",
   "mimetype": "text/x-python",
   "name": "python",
   "nbconvert_exporter": "python",
   "pygments_lexer": "ipython3",
   "version": "3.7.8"
  }
 },
 "nbformat": 4,
 "nbformat_minor": 5
}