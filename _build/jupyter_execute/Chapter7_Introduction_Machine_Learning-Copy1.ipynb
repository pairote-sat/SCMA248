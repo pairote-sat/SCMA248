{
 "cells": [
  {
   "cell_type": "markdown",
   "id": "2e342268",
   "metadata": {},
   "source": [
    "# Machine learning: Introduction\n",
    "\n",
    "**Machine learning** is clearly one of the most powerful and significant technologies in the world today. And more importantly, we have yet to fully realize its potential. It will undoubtedly continue to make headlines for the foreseeable future.\n",
    "\n",
    "Machine learning is **a technique for transforming data into knowledge**. In the last 50 years, there has been a data explosion. This vast amount of data is worthless until we analyze it and uncover the underlying patterns. \n",
    "\n",
    "Machine learning techniques are being used to **discover useful underlying patterns in complex data** that would otherwise be difficult to find. Hidden patterns and problem knowledge can be used to predict future events and make a variety of complex decisions."
   ]
  },
  {
   "cell_type": "markdown",
   "id": "640085e6",
   "metadata": {},
   "source": [
    "## What Is Machine Learning?\n",
    "\n",
    "Machine learning is the study of computer algorithms that can learn and develop on their own with experience and data. \n",
    "\n",
    "It is considered to be a component of **artificial intelligence**. \n",
    "\n",
    "Machine learning algorithms create a model based on **training data** to make predictions or decisions without having to be explicitly programmed to do so."
   ]
  },
  {
   "cell_type": "markdown",
   "id": "d93b0a62",
   "metadata": {},
   "source": [
    "### Building models of data\n",
    "\n",
    "It makes more sense to think of machine learning as a means of **building models of data**.\n",
    "\n",
    "Machine learning is fundamentally about building mathematical models that facilitate the understanding of data. \n",
    "\n",
    "If we provide these models with **tunable parameters** that can be adapted to the observed data, we can call the program **\"learning\" from the data**. \n",
    "\n",
    "These models can be used to **predict and understand features of newly observed data** after fitting them to previously seen data."
   ]
  },
  {
   "cell_type": "markdown",
   "id": "734e288a",
   "metadata": {},
   "source": [
    "**Categories of Machine Learning**: image from ceralytics\n",
    "![Categories of Machine Learning: from ceralytics](https://www.ceralytics.com/wp-content/uploads/2019/08/machine-learning.jpg)"
   ]
  },
  {
   "cell_type": "markdown",
   "id": "898c95e0",
   "metadata": {},
   "source": [
    "## Applications of Machine learning\n",
    "\n",
    "Machine learning tasks can be used for a variety of things. Here are some examples of traditional machine learning tasks: \n",
    "\n",
    "1. **Recommendation systems** \n",
    "\n",
    "![Netflix recommendation system: from medium](https://miro.medium.com/max/1400/1*QKQA8ylu1lCtOkJaa_gGaw.png)\n",
    "\n",
    "\n",
    "We come across a variety of online recommendation engines and methods. Many major platforms, such as Amazon, Netflix, and others, use these technologies. These recommendation engines use a machine learning system that takes into account user search results and preferences.\n",
    "\n",
    "The algorithm uses this information to make similar recommendations the next time you open the platform.\n",
    "\n",
    "You will receive notifications about new programs on Netflix. Netflix's algorithm checks the entire viewing history of its subscribers. It uses this information to suggest new series based on the preferences of its millions of active viewers. \n",
    "\n",
    "\n",
    "\n",
    "\n",
    "The same recommendation engine can also be used to create ads. Take Amazon, for example. Let us say you go to Amazon to store or just search for something. Amazon's machine learning technology analyzes the user's search results and then generates ads as recommendations.\n",
    "\n",
    "\n",
    "2. **Machine learning for Illness Prediction Healthcare use cases in healthcare**.\n",
    "\n",
    "\n",
    "![Building Heart disease classifier using K-NN algorithm: image from https://cdn-images-1.medium.com/max/800/1*tGeiO5zee6exueRC8iBuaQ.jpeg](https://cdn-images-1.medium.com/max/800/1*tGeiO5zee6exueRC8iBuaQ.jpeg)\n",
    "\n",
    "\n",
    "Doctors can warn patients ahead of time if they can predict a disease. They can even tell if a disease is dangerous or not, which is quite remarkable. But even though using ML is not an easy task, it can be of great benefit.\n",
    "\n",
    "In this case, the ML algorithm first looks for symptoms on the patient's body. It would use abnormal body functions as input, train the algorithm, and then make a prediction based on that. Since there are hundreds of diseases and twice as many symptoms, it may take some time to get the results.\n",
    "\n",
    "3. **Credit score - banking machine learning examples**.\n",
    "\n",
    "It can be difficult to determine whether a bank customer is creditworthy. This is critical because whether or not the bank will grant you a loan depends on it.\n",
    "\n",
    "Traditional credit card companies only check to see if the card is current and perform a history check. If the cardholder does not have a card history, the assessment becomes more difficult. For this, there are a number of machine learning algorithms that take into account the user's financial situation, previous credit repayments, debts and so on.\n",
    "\n",
    "Due to a large number of defaulters, banks have already suffered significant financial losses. To limit these types of losses, we need an effective machine learning system that can prevent any of these scenarios from occurring. This would save banks a lot of money and allow them to provide more services to real consumers."
   ]
  },
  {
   "cell_type": "markdown",
   "id": "220723b9",
   "metadata": {},
   "source": [
    "## Categories of Machine Learning\n",
    "\n",
    "Machine learning can be divided into two forms at the most basic level: supervised learning and unsupervised learning.\n",
    "\n",
    "#### Supervised learning\n",
    "Supervised learning involves determining how to model the relationship between measured data features and a label associated with the data; once this model is determined, it can be used to apply labels to new, unknown data. This is further divided into **classification** and **regression** tasks, where the **labels in classification are discrete categories** and the **labels in regression are continuous values**. \n",
    "\n",
    "##### Classification problems (more examples below)\n",
    "\n",
    "The output of a classification task is a discrete value. \"Likes adding sugar to coffee\" and \"does not like adding sugar to coffee,\" for example, are discrete. There is no such thing as a middle ground. This is similar to teaching a child to recognize different types of animals, whether they are pets or not. \n",
    "\n",
    "The output (label) of a classification method is typically represented as an integer number such as 1, -1, or 0. These figures are solely symbolic in this situation. Mathematical operations should not be performed with them because this would be pointless. Consider this for a moment. What is the difference between \"Likes adding sugar to coffee\" and \"does not like adding sugar to coffee\"? Exactly. We won't be able to add them, therefore we won't.\n",
    "\n",
    "##### Regression problem (discussed in our last chatpter)\n",
    "\n",
    "The outcome of a regression problem is a real number (a number with a decimal point). We could, for example, use the height and weight information to estimate someone's weight based on their height.\n",
    "\n",
    "The data for a regression analysis will like the data in insurance data set. A **dependent variable** (or set of independent variables) and an **independent variable** (the thing we are trying to guess given our independent variables) are both present. \n",
    "\n",
    "We could state that height is the independent variable and weight is the dependent variable, for example.\n",
    "In addition, each row in the dataset is commonly referred to as an **example, observation, or data point**, but each column (without the **label/dependent variable**) is commonly referred to as a **predictor, independent variable, or feature**.\n",
    "\n",
    "\n",
    "![Supervised learning: image from medium](https://miro.medium.com/max/1400/1*589X2eXJJkatGRG-z-s_oA.png)"
   ]
  },
  {
   "cell_type": "markdown",
   "id": "3edae737",
   "metadata": {},
   "source": [
    "#### Unsupervised learning (more details in the next chapter)\n",
    "Unsupervised learning, sometimes known as \"letting the dataset speak for itself,\" models the features of a dataset without reference to a label. Clustering and dimensionality reduction are among the tasks these models perform. \n",
    "\n",
    "**Clustering methods** find unique groups of data, while **dimensionality reduction** algorithms look for more concise representations."
   ]
  },
  {
   "cell_type": "markdown",
   "id": "6a8a517e",
   "metadata": {},
   "source": [
    "### Supervised vs Unsupervised Learning: image from researchgate\n",
    "\n",
    "![Supervised vs Unsupervised Learning: image from researchgate](https://www.researchgate.net/publication/329533120/figure/fig1/AS:702267594399761@1544445050584/Supervised-learning-and-unsupervised-learning-Supervised-learning-uses-annotation_W640.jpg)"
   ]
  },
  {
   "cell_type": "markdown",
   "id": "66151f0d",
   "metadata": {},
   "source": [
    "### Various classification, regression and clustering algorithms: image from scikit-learn\n",
    "\n",
    "![Various classification, regression and clustering algorithms: image from scikit-learn](https://upload.wikimedia.org/wikipedia/commons/thumb/a/a4/Scikit-learn_machine_learning_decision_tree.png/1024px-Scikit-learn_machine_learning_decision_tree.png)"
   ]
  },
  {
   "cell_type": "markdown",
   "id": "d3293e5a",
   "metadata": {},
   "source": [
    "## Machine Learning Basics with the K-Nearest Neighbors Algorithm\n",
    "\n",
    "We will learn what **K-nearest neighbours (KNN)** is, how it works, and how to find the right k value. We will utilize the well-known Python library sklearn to demonstrate how to use KNN.\n",
    "\n",
    "\n",
    "##### K-nearest neighbours can be summarized as follows:\n",
    "\n",
    "* K- Nearest Neighbors is a **supervised machine learning** approach since the target variable is known,\n",
    "\n",
    "* It is **non-parametric**, since no assumptions are made about the underlying data distribution pattern.\n",
    "\n",
    "* It predicts the cluster into which the new point will fall based on feature similarity.\n",
    "\n",
    "Both classification and regression prediction problems can be solved with KNN. However, since most analytical problems require making a decision, it is more commonly used in classification problems .\n",
    "\n",
    "### KNN algorithm's theory\n",
    "\n",
    "The KNN algorithm's concept is one of the most straightforward of all the supervised machine learning algorithms. \n",
    "\n",
    "It simply calculates the distance between a new data point and all previous data points in the training set. \n",
    "\n",
    "Any form of distance can be used, such as \n",
    "\n",
    "* Euclidean or \n",
    "\n",
    "* Manhattan distances. \n",
    "\n",
    "The K-nearest data points are then chosen, where K can be any integer. Finally, the data point is assigned to the class that contains the majority of the K data points.\n",
    "\n",
    "Note that the Manhattan distance, ${\\displaystyle d_{1}}$, between two vectors ${\\displaystyle \\mathbf {p} ,\\mathbf {q} }$  in an n-dimensional real vector space with fixed Cartesian coordinate system is defined as \n",
    "\n",
    "$$d_{1}(\\mathbf {p} ,\\mathbf {q} )=\\|\\mathbf {p} -\\mathbf {q} \\|_{1}=\\sum _{i=1}^{n}|p_{i}-q_{i}|,$$\n",
    "where ${\\displaystyle (\\mathbf {p} ,\\mathbf {q} )}$ are vectors\n",
    "\n",
    "$${\\displaystyle \\mathbf {p} =(p_{1},p_{2},\\dots ,p_{n}){\\text{ and }}\\mathbf {q} =(q_{1},q_{2},\\dots ,q_{n})\\,}.$$"
   ]
  },
  {
   "cell_type": "markdown",
   "id": "631445f5",
   "metadata": {},
   "source": [
    "### Example on KNN classifiers: image from Researchgate\n",
    "\n",
    "![Example on KNN classifiers: image from Researchgate](https://www.researchgate.net/profile/Mohammed-Badawy/publication/331424423/figure/fig1/AS:732056359297024@1551547245072/Example-on-KNN-classifier_W640.jpg)"
   ]
  },
  {
   "cell_type": "markdown",
   "id": "3087c53c",
   "metadata": {},
   "source": [
    "Our goal in this diagram is to identify a new data point with the symbol 'Pt' into one of three categories: \"A,\" \"B,\" or \"C.\"\n",
    "\n",
    "Assume that K is equal to 7. The KNN algorithm begins by computing the distance between point 'Pt' and all of the other points. The 7 closest points with the shortest distance to point 'Pt' are then found. This is depicted in the diagram below. Arrows have been used to denote the seven closest points.\n",
    "\n",
    "The KNN algorithm's final step is to assign a new point to the class that contains the majority of the seven closest points. Three of the seven closest points belong to the class \"B,\" while two of the seven belongs to the classes \"A\" and \"C\". Therefore the new data point will be classified as \"B\".\n"
   ]
  },
  {
   "cell_type": "markdown",
   "id": "2cdd7272",
   "metadata": {},
   "source": [
    "### Dataset: https://raw.githubusercontent.com/susanli2016/Machine-Learning-with-Python/master/fruit_data_with_colors.txt"
   ]
  },
  {
   "cell_type": "code",
   "execution_count": 1,
   "id": "efa495ec",
   "metadata": {},
   "outputs": [
    {
     "ename": "ModuleNotFoundError",
     "evalue": "No module named 'seaborn'",
     "output_type": "error",
     "traceback": [
      "\u001b[0;31m---------------------------------------------------------------------------\u001b[0m",
      "\u001b[0;31mModuleNotFoundError\u001b[0m                       Traceback (most recent call last)",
      "\u001b[0;32m/var/folders/kl/h_r05n_j76n32kt0dwy7kynw0000gn/T/ipykernel_5521/278679566.py\u001b[0m in \u001b[0;36m<module>\u001b[0;34m\u001b[0m\n\u001b[1;32m      3\u001b[0m \u001b[0;32mfrom\u001b[0m \u001b[0msklearn\u001b[0m\u001b[0;34m.\u001b[0m\u001b[0mmodel_selection\u001b[0m \u001b[0;32mimport\u001b[0m \u001b[0mtrain_test_split\u001b[0m\u001b[0;34m\u001b[0m\u001b[0;34m\u001b[0m\u001b[0m\n\u001b[1;32m      4\u001b[0m \u001b[0;34m\u001b[0m\u001b[0m\n\u001b[0;32m----> 5\u001b[0;31m \u001b[0;32mimport\u001b[0m \u001b[0mseaborn\u001b[0m \u001b[0;32mas\u001b[0m \u001b[0msns\u001b[0m\u001b[0;34m\u001b[0m\u001b[0;34m\u001b[0m\u001b[0m\n\u001b[0m\u001b[1;32m      6\u001b[0m \u001b[0;32mimport\u001b[0m \u001b[0mmatplotlib\u001b[0m\u001b[0;34m.\u001b[0m\u001b[0mpyplot\u001b[0m \u001b[0;32mas\u001b[0m \u001b[0mplt\u001b[0m\u001b[0;34m\u001b[0m\u001b[0;34m\u001b[0m\u001b[0m\n\u001b[1;32m      7\u001b[0m \u001b[0mget_ipython\u001b[0m\u001b[0;34m(\u001b[0m\u001b[0;34m)\u001b[0m\u001b[0;34m.\u001b[0m\u001b[0mrun_line_magic\u001b[0m\u001b[0;34m(\u001b[0m\u001b[0;34m'matplotlib'\u001b[0m\u001b[0;34m,\u001b[0m \u001b[0;34m'inline'\u001b[0m\u001b[0;34m)\u001b[0m\u001b[0;34m\u001b[0m\u001b[0;34m\u001b[0m\u001b[0m\n",
      "\u001b[0;31mModuleNotFoundError\u001b[0m: No module named 'seaborn'"
     ]
    }
   ],
   "source": [
    "import numpy as np\n",
    "import pandas as pd\n",
    "from sklearn.model_selection import train_test_split\n",
    "\n",
    "import seaborn as sns\n",
    "import matplotlib.pyplot as plt\n",
    "%matplotlib inline"
   ]
  },
  {
   "cell_type": "code",
   "execution_count": 2,
   "id": "339ae99b",
   "metadata": {},
   "outputs": [],
   "source": [
    "from plotnine import *"
   ]
  },
  {
   "cell_type": "code",
   "execution_count": 83,
   "id": "eb4b4d3e",
   "metadata": {},
   "outputs": [],
   "source": [
    "import warnings\n",
    "\n",
    "warnings.filterwarnings( \"ignore\", module = \"matplotlib\\..*\" )"
   ]
  },
  {
   "cell_type": "markdown",
   "id": "6000a8a6",
   "metadata": {},
   "source": [
    "We will be using the fruit_data_with_colors dataset, avalable here at github page, https://raw.githubusercontent.com/susanli2016/Machine-Learning-with-Python/master/fruit_data_with_colors.txt.\n",
    "\n",
    "\n",
    "The mass, height, and width of a variety of oranges, lemons, and apples are included in the file. The heights were taken along the fruit's core. The widths were measured perpendicular to the height at their widest point.\n",
    "\n",
    "##### Our goals\n",
    "To predict the appropriate fruit label, we'll use the mass, width, and height of the fruit as our feature points (target value)."
   ]
  },
  {
   "cell_type": "code",
   "execution_count": 3,
   "id": "f4f2060f",
   "metadata": {},
   "outputs": [],
   "source": [
    "url = 'https://raw.githubusercontent.com/susanli2016/Machine-Learning-with-Python/master/fruit_data_with_colors.txt'\n",
    "    \n",
    "df = pd.read_table(url)    "
   ]
  },
  {
   "cell_type": "code",
   "execution_count": 4,
   "id": "df52d0d0",
   "metadata": {},
   "outputs": [
    {
     "data": {
      "text/html": [
       "<div>\n",
       "<style scoped>\n",
       "    .dataframe tbody tr th:only-of-type {\n",
       "        vertical-align: middle;\n",
       "    }\n",
       "\n",
       "    .dataframe tbody tr th {\n",
       "        vertical-align: top;\n",
       "    }\n",
       "\n",
       "    .dataframe thead th {\n",
       "        text-align: right;\n",
       "    }\n",
       "</style>\n",
       "<table border=\"1\" class=\"dataframe\">\n",
       "  <thead>\n",
       "    <tr style=\"text-align: right;\">\n",
       "      <th></th>\n",
       "      <th>fruit_label</th>\n",
       "      <th>fruit_name</th>\n",
       "      <th>fruit_subtype</th>\n",
       "      <th>mass</th>\n",
       "      <th>width</th>\n",
       "      <th>height</th>\n",
       "      <th>color_score</th>\n",
       "    </tr>\n",
       "  </thead>\n",
       "  <tbody>\n",
       "    <tr>\n",
       "      <th>0</th>\n",
       "      <td>1</td>\n",
       "      <td>apple</td>\n",
       "      <td>granny_smith</td>\n",
       "      <td>192</td>\n",
       "      <td>8.4</td>\n",
       "      <td>7.3</td>\n",
       "      <td>0.55</td>\n",
       "    </tr>\n",
       "    <tr>\n",
       "      <th>1</th>\n",
       "      <td>1</td>\n",
       "      <td>apple</td>\n",
       "      <td>granny_smith</td>\n",
       "      <td>180</td>\n",
       "      <td>8.0</td>\n",
       "      <td>6.8</td>\n",
       "      <td>0.59</td>\n",
       "    </tr>\n",
       "    <tr>\n",
       "      <th>2</th>\n",
       "      <td>1</td>\n",
       "      <td>apple</td>\n",
       "      <td>granny_smith</td>\n",
       "      <td>176</td>\n",
       "      <td>7.4</td>\n",
       "      <td>7.2</td>\n",
       "      <td>0.60</td>\n",
       "    </tr>\n",
       "    <tr>\n",
       "      <th>3</th>\n",
       "      <td>2</td>\n",
       "      <td>mandarin</td>\n",
       "      <td>mandarin</td>\n",
       "      <td>86</td>\n",
       "      <td>6.2</td>\n",
       "      <td>4.7</td>\n",
       "      <td>0.80</td>\n",
       "    </tr>\n",
       "    <tr>\n",
       "      <th>4</th>\n",
       "      <td>2</td>\n",
       "      <td>mandarin</td>\n",
       "      <td>mandarin</td>\n",
       "      <td>84</td>\n",
       "      <td>6.0</td>\n",
       "      <td>4.6</td>\n",
       "      <td>0.79</td>\n",
       "    </tr>\n",
       "  </tbody>\n",
       "</table>\n",
       "</div>"
      ],
      "text/plain": [
       "   fruit_label fruit_name fruit_subtype  mass  width  height  color_score\n",
       "0            1      apple  granny_smith   192    8.4     7.3         0.55\n",
       "1            1      apple  granny_smith   180    8.0     6.8         0.59\n",
       "2            1      apple  granny_smith   176    7.4     7.2         0.60\n",
       "3            2   mandarin      mandarin    86    6.2     4.7         0.80\n",
       "4            2   mandarin      mandarin    84    6.0     4.6         0.79"
      ]
     },
     "execution_count": 4,
     "metadata": {},
     "output_type": "execute_result"
    }
   ],
   "source": [
    "df.head()"
   ]
  },
  {
   "cell_type": "code",
   "execution_count": 5,
   "id": "b4b3848a",
   "metadata": {},
   "outputs": [
    {
     "name": "stdout",
     "output_type": "stream",
     "text": [
      "<class 'pandas.core.frame.DataFrame'>\n",
      "RangeIndex: 59 entries, 0 to 58\n",
      "Data columns (total 7 columns):\n",
      " #   Column         Non-Null Count  Dtype  \n",
      "---  ------         --------------  -----  \n",
      " 0   fruit_label    59 non-null     int64  \n",
      " 1   fruit_name     59 non-null     object \n",
      " 2   fruit_subtype  59 non-null     object \n",
      " 3   mass           59 non-null     int64  \n",
      " 4   width          59 non-null     float64\n",
      " 5   height         59 non-null     float64\n",
      " 6   color_score    59 non-null     float64\n",
      "dtypes: float64(3), int64(2), object(2)\n",
      "memory usage: 3.4+ KB\n"
     ]
    }
   ],
   "source": [
    "df.info()"
   ]
  },
  {
   "cell_type": "code",
   "execution_count": 6,
   "id": "d1d0f200",
   "metadata": {},
   "outputs": [
    {
     "data": {
      "text/plain": [
       "fruit_label\n",
       "1    19\n",
       "2     5\n",
       "3    19\n",
       "4    16\n",
       "Name: fruit_name, dtype: int64"
      ]
     },
     "execution_count": 6,
     "metadata": {},
     "output_type": "execute_result"
    }
   ],
   "source": [
    "df.groupby('fruit_label').count()['fruit_name']"
   ]
  },
  {
   "cell_type": "code",
   "execution_count": 7,
   "id": "bd917bd4",
   "metadata": {},
   "outputs": [
    {
     "name": "stderr",
     "output_type": "stream",
     "text": [
      "/Users/Kaemyuijang/opt/anaconda3/lib/python3.7/site-packages/seaborn/_decorators.py:43: FutureWarning: Pass the following variable as a keyword arg: x. From version 0.12, the only valid positional argument will be `data`, and passing other arguments without an explicit keyword will result in an error or misinterpretation.\n"
     ]
    },
    {
     "data": {
      "text/plain": [
       "<AxesSubplot:title={'center':'Fruit_label Count'}, xlabel='fruit_name', ylabel='count'>"
      ]
     },
     "execution_count": 7,
     "metadata": {},
     "output_type": "execute_result"
    },
    {
     "data": {
      "image/png": "[encoded data removed]",
      "text/plain": [
       "<Figure size 432x288 with 1 Axes>"
      ]
     },
     "metadata": {
      "filenames": {
       "image/png": "/Users/Kaemyuijang/SCMA248/_build/jupyter_execute/Chapter7_Introduction_Machine_Learning-Copy1_21_2.png"
      },
      "needs_background": "light"
     },
     "output_type": "display_data"
    }
   ],
   "source": [
    "plt.title('Fruit_label Count')\n",
    "sns.countplot(df['fruit_name'])"
   ]
  },
  {
   "cell_type": "code",
   "execution_count": 8,
   "id": "e28c7eb8",
   "metadata": {},
   "outputs": [
    {
     "data": {
      "text/html": [
       "<div>\n",
       "<style scoped>\n",
       "    .dataframe tbody tr th:only-of-type {\n",
       "        vertical-align: middle;\n",
       "    }\n",
       "\n",
       "    .dataframe tbody tr th {\n",
       "        vertical-align: top;\n",
       "    }\n",
       "\n",
       "    .dataframe thead th {\n",
       "        text-align: right;\n",
       "    }\n",
       "</style>\n",
       "<table border=\"1\" class=\"dataframe\">\n",
       "  <thead>\n",
       "    <tr style=\"text-align: right;\">\n",
       "      <th></th>\n",
       "      <th>fruit_label</th>\n",
       "      <th>fruit_name</th>\n",
       "      <th>fruit_subtype</th>\n",
       "      <th>mass</th>\n",
       "      <th>width</th>\n",
       "      <th>height</th>\n",
       "      <th>color_score</th>\n",
       "    </tr>\n",
       "  </thead>\n",
       "  <tbody>\n",
       "    <tr>\n",
       "      <th>0</th>\n",
       "      <td>1</td>\n",
       "      <td>apple</td>\n",
       "      <td>granny_smith</td>\n",
       "      <td>192</td>\n",
       "      <td>8.4</td>\n",
       "      <td>7.3</td>\n",
       "      <td>0.55</td>\n",
       "    </tr>\n",
       "    <tr>\n",
       "      <th>1</th>\n",
       "      <td>1</td>\n",
       "      <td>apple</td>\n",
       "      <td>granny_smith</td>\n",
       "      <td>180</td>\n",
       "      <td>8.0</td>\n",
       "      <td>6.8</td>\n",
       "      <td>0.59</td>\n",
       "    </tr>\n",
       "    <tr>\n",
       "      <th>2</th>\n",
       "      <td>1</td>\n",
       "      <td>apple</td>\n",
       "      <td>granny_smith</td>\n",
       "      <td>176</td>\n",
       "      <td>7.4</td>\n",
       "      <td>7.2</td>\n",
       "      <td>0.60</td>\n",
       "    </tr>\n",
       "    <tr>\n",
       "      <th>3</th>\n",
       "      <td>2</td>\n",
       "      <td>mandarin</td>\n",
       "      <td>mandarin</td>\n",
       "      <td>86</td>\n",
       "      <td>6.2</td>\n",
       "      <td>4.7</td>\n",
       "      <td>0.80</td>\n",
       "    </tr>\n",
       "    <tr>\n",
       "      <th>4</th>\n",
       "      <td>2</td>\n",
       "      <td>mandarin</td>\n",
       "      <td>mandarin</td>\n",
       "      <td>84</td>\n",
       "      <td>6.0</td>\n",
       "      <td>4.6</td>\n",
       "      <td>0.79</td>\n",
       "    </tr>\n",
       "  </tbody>\n",
       "</table>\n",
       "</div>"
      ],
      "text/plain": [
       "   fruit_label fruit_name fruit_subtype  mass  width  height  color_score\n",
       "0            1      apple  granny_smith   192    8.4     7.3         0.55\n",
       "1            1      apple  granny_smith   180    8.0     6.8         0.59\n",
       "2            1      apple  granny_smith   176    7.4     7.2         0.60\n",
       "3            2   mandarin      mandarin    86    6.2     4.7         0.80\n",
       "4            2   mandarin      mandarin    84    6.0     4.6         0.79"
      ]
     },
     "execution_count": 8,
     "metadata": {},
     "output_type": "execute_result"
    }
   ],
   "source": [
    "df.head()"
   ]
  },
  {
   "cell_type": "code",
   "execution_count": 9,
   "id": "7e70e9a8",
   "metadata": {},
   "outputs": [
    {
     "data": {
      "image/png": "[encoded data removed]",
      "text/plain": [
       "<Figure size 640x480 with 1 Axes>"
      ]
     },
     "metadata": {
      "filenames": {
       "image/png": "/Users/Kaemyuijang/SCMA248/_build/jupyter_execute/Chapter7_Introduction_Machine_Learning-Copy1_23_0.png"
      }
     },
     "output_type": "display_data"
    },
    {
     "data": {
      "text/plain": [
       "<ggplot: (306177621)>"
      ]
     },
     "execution_count": 9,
     "metadata": {},
     "output_type": "execute_result"
    }
   ],
   "source": [
    "(\n",
    "    ggplot(df) \n",
    "    + aes('fruit_name',fill = 'fruit_name') \n",
    "    + geom_bar()\n",
    "    + scale_fill_manual(values=['red', 'olivedrab', 'gold', 'orange'])\n",
    "\n",
    ")    "
   ]
  },
  {
   "cell_type": "code",
   "execution_count": 10,
   "id": "c9ed1f38",
   "metadata": {},
   "outputs": [
    {
     "data": {
      "text/plain": [
       "fruit_label      0\n",
       "fruit_name       0\n",
       "fruit_subtype    0\n",
       "mass             0\n",
       "width            0\n",
       "height           0\n",
       "color_score      0\n",
       "dtype: int64"
      ]
     },
     "execution_count": 10,
     "metadata": {},
     "output_type": "execute_result"
    }
   ],
   "source": [
    "# Check whether there are any missing values.\n",
    "\n",
    "df.isnull().sum()"
   ]
  },
  {
   "cell_type": "code",
   "execution_count": 11,
   "id": "1eb737b3",
   "metadata": {},
   "outputs": [
    {
     "name": "stdout",
     "output_type": "stream",
     "text": [
      "[1 2 3 4]\n",
      "['apple' 'mandarin' 'orange' 'lemon']\n"
     ]
    }
   ],
   "source": [
    "print(df.fruit_label.unique())\n",
    "print(df.fruit_name.unique())"
   ]
  },
  {
   "cell_type": "markdown",
   "id": "f0c69e06",
   "metadata": {},
   "source": [
    "To make the results easier to understand, we first establish a mapping from fruit label value to fruit name."
   ]
  },
  {
   "cell_type": "code",
   "execution_count": 12,
   "id": "512622c1",
   "metadata": {},
   "outputs": [
    {
     "data": {
      "text/plain": [
       "{1: 'apple', 2: 'mandarin', 3: 'orange', 4: 'lemon'}"
      ]
     },
     "execution_count": 12,
     "metadata": {},
     "output_type": "execute_result"
    }
   ],
   "source": [
    "# create a mapping from a mapping from fruit label value to fruit name\n",
    "lookup_fruit_name = dict(zip(df.fruit_label.unique(), df.fruit_name.unique()))\n",
    "lookup_fruit_name"
   ]
  },
  {
   "cell_type": "markdown",
   "id": "ba022f77",
   "metadata": {},
   "source": [
    "#### Exploratory data analysis\n",
    "\n",
    "It is now time to experiment with the data and make some visualizations.\n"
   ]
  },
  {
   "cell_type": "code",
   "execution_count": 13,
   "id": "895f7a9b",
   "metadata": {},
   "outputs": [
    {
     "data": {
      "text/plain": [
       "<seaborn.axisgrid.PairGrid at 0x124457d50>"
      ]
     },
     "execution_count": 13,
     "metadata": {},
     "output_type": "execute_result"
    },
    {
     "data": {
      "image/png": "[encoded data removed]",
      "text/plain": [
       "<Figure size 624x540 with 12 Axes>"
      ]
     },
     "metadata": {
      "filenames": {
       "image/png": "/Users/Kaemyuijang/SCMA248/_build/jupyter_execute/Chapter7_Introduction_Machine_Learning-Copy1_29_1.png"
      },
      "needs_background": "light"
     },
     "output_type": "display_data"
    }
   ],
   "source": [
    "sns.pairplot(df[['fruit_name','mass','width','height']],hue='fruit_name')"
   ]
  },
  {
   "cell_type": "markdown",
   "id": "e6fff2e4",
   "metadata": {},
   "source": [
    "#### What we observe from the figures?\n",
    "\n",
    "1. Mandarin has both lower mass and height. It also has the lower average widths.\n",
    "2. Orange has higher average masses and widths.\n",
    "3. There is a **clear separation** of lemon from the other both width-height plot and height-mass plot.\n",
    "4. What else can we observe from the figures?\n"
   ]
  },
  {
   "cell_type": "code",
   "execution_count": 14,
   "id": "7fc10ac4",
   "metadata": {},
   "outputs": [
    {
     "data": {
      "text/html": [
       "<div>\n",
       "<style scoped>\n",
       "    .dataframe tbody tr th:only-of-type {\n",
       "        vertical-align: middle;\n",
       "    }\n",
       "\n",
       "    .dataframe tbody tr th {\n",
       "        vertical-align: top;\n",
       "    }\n",
       "\n",
       "    .dataframe thead tr th {\n",
       "        text-align: left;\n",
       "    }\n",
       "\n",
       "    .dataframe thead tr:last-of-type th {\n",
       "        text-align: right;\n",
       "    }\n",
       "</style>\n",
       "<table border=\"1\" class=\"dataframe\">\n",
       "  <thead>\n",
       "    <tr>\n",
       "      <th></th>\n",
       "      <th colspan=\"8\" halign=\"left\">mass</th>\n",
       "    </tr>\n",
       "    <tr>\n",
       "      <th></th>\n",
       "      <th>count</th>\n",
       "      <th>mean</th>\n",
       "      <th>std</th>\n",
       "      <th>min</th>\n",
       "      <th>25%</th>\n",
       "      <th>50%</th>\n",
       "      <th>75%</th>\n",
       "      <th>max</th>\n",
       "    </tr>\n",
       "    <tr>\n",
       "      <th>fruit_name</th>\n",
       "      <th></th>\n",
       "      <th></th>\n",
       "      <th></th>\n",
       "      <th></th>\n",
       "      <th></th>\n",
       "      <th></th>\n",
       "      <th></th>\n",
       "      <th></th>\n",
       "    </tr>\n",
       "  </thead>\n",
       "  <tbody>\n",
       "    <tr>\n",
       "      <th>apple</th>\n",
       "      <td>19.0</td>\n",
       "      <td>165.052632</td>\n",
       "      <td>11.969747</td>\n",
       "      <td>140.0</td>\n",
       "      <td>156.0</td>\n",
       "      <td>164.0</td>\n",
       "      <td>172.0</td>\n",
       "      <td>192.0</td>\n",
       "    </tr>\n",
       "    <tr>\n",
       "      <th>lemon</th>\n",
       "      <td>16.0</td>\n",
       "      <td>150.000000</td>\n",
       "      <td>37.487776</td>\n",
       "      <td>116.0</td>\n",
       "      <td>117.5</td>\n",
       "      <td>131.0</td>\n",
       "      <td>188.0</td>\n",
       "      <td>216.0</td>\n",
       "    </tr>\n",
       "    <tr>\n",
       "      <th>mandarin</th>\n",
       "      <td>5.0</td>\n",
       "      <td>81.200000</td>\n",
       "      <td>3.898718</td>\n",
       "      <td>76.0</td>\n",
       "      <td>80.0</td>\n",
       "      <td>80.0</td>\n",
       "      <td>84.0</td>\n",
       "      <td>86.0</td>\n",
       "    </tr>\n",
       "    <tr>\n",
       "      <th>orange</th>\n",
       "      <td>19.0</td>\n",
       "      <td>193.789474</td>\n",
       "      <td>73.635422</td>\n",
       "      <td>140.0</td>\n",
       "      <td>154.0</td>\n",
       "      <td>160.0</td>\n",
       "      <td>197.0</td>\n",
       "      <td>362.0</td>\n",
       "    </tr>\n",
       "  </tbody>\n",
       "</table>\n",
       "</div>"
      ],
      "text/plain": [
       "            mass                                                          \n",
       "           count        mean        std    min    25%    50%    75%    max\n",
       "fruit_name                                                                \n",
       "apple       19.0  165.052632  11.969747  140.0  156.0  164.0  172.0  192.0\n",
       "lemon       16.0  150.000000  37.487776  116.0  117.5  131.0  188.0  216.0\n",
       "mandarin     5.0   81.200000   3.898718   76.0   80.0   80.0   84.0   86.0\n",
       "orange      19.0  193.789474  73.635422  140.0  154.0  160.0  197.0  362.0"
      ]
     },
     "execution_count": 14,
     "metadata": {},
     "output_type": "execute_result"
    }
   ],
   "source": [
    "df.groupby('fruit_name').describe()[['mass']]"
   ]
  },
  {
   "cell_type": "code",
   "execution_count": 15,
   "id": "140175f2",
   "metadata": {},
   "outputs": [
    {
     "data": {
      "text/html": [
       "<div>\n",
       "<style scoped>\n",
       "    .dataframe tbody tr th:only-of-type {\n",
       "        vertical-align: middle;\n",
       "    }\n",
       "\n",
       "    .dataframe tbody tr th {\n",
       "        vertical-align: top;\n",
       "    }\n",
       "\n",
       "    .dataframe thead tr th {\n",
       "        text-align: left;\n",
       "    }\n",
       "\n",
       "    .dataframe thead tr:last-of-type th {\n",
       "        text-align: right;\n",
       "    }\n",
       "</style>\n",
       "<table border=\"1\" class=\"dataframe\">\n",
       "  <thead>\n",
       "    <tr>\n",
       "      <th></th>\n",
       "      <th colspan=\"8\" halign=\"left\">height</th>\n",
       "    </tr>\n",
       "    <tr>\n",
       "      <th></th>\n",
       "      <th>count</th>\n",
       "      <th>mean</th>\n",
       "      <th>std</th>\n",
       "      <th>min</th>\n",
       "      <th>25%</th>\n",
       "      <th>50%</th>\n",
       "      <th>75%</th>\n",
       "      <th>max</th>\n",
       "    </tr>\n",
       "    <tr>\n",
       "      <th>fruit_name</th>\n",
       "      <th></th>\n",
       "      <th></th>\n",
       "      <th></th>\n",
       "      <th></th>\n",
       "      <th></th>\n",
       "      <th></th>\n",
       "      <th></th>\n",
       "      <th></th>\n",
       "    </tr>\n",
       "  </thead>\n",
       "  <tbody>\n",
       "    <tr>\n",
       "      <th>apple</th>\n",
       "      <td>19.0</td>\n",
       "      <td>7.342105</td>\n",
       "      <td>0.291196</td>\n",
       "      <td>6.8</td>\n",
       "      <td>7.1</td>\n",
       "      <td>7.3</td>\n",
       "      <td>7.55</td>\n",
       "      <td>7.9</td>\n",
       "    </tr>\n",
       "    <tr>\n",
       "      <th>lemon</th>\n",
       "      <td>16.0</td>\n",
       "      <td>8.856250</td>\n",
       "      <td>0.997977</td>\n",
       "      <td>7.5</td>\n",
       "      <td>8.1</td>\n",
       "      <td>8.5</td>\n",
       "      <td>9.80</td>\n",
       "      <td>10.5</td>\n",
       "    </tr>\n",
       "    <tr>\n",
       "      <th>mandarin</th>\n",
       "      <td>5.0</td>\n",
       "      <td>4.380000</td>\n",
       "      <td>0.277489</td>\n",
       "      <td>4.0</td>\n",
       "      <td>4.3</td>\n",
       "      <td>4.3</td>\n",
       "      <td>4.60</td>\n",
       "      <td>4.7</td>\n",
       "    </tr>\n",
       "    <tr>\n",
       "      <th>orange</th>\n",
       "      <td>19.0</td>\n",
       "      <td>7.936842</td>\n",
       "      <td>0.769712</td>\n",
       "      <td>7.0</td>\n",
       "      <td>7.4</td>\n",
       "      <td>7.8</td>\n",
       "      <td>8.15</td>\n",
       "      <td>9.4</td>\n",
       "    </tr>\n",
       "  </tbody>\n",
       "</table>\n",
       "</div>"
      ],
      "text/plain": [
       "           height                                               \n",
       "            count      mean       std  min  25%  50%   75%   max\n",
       "fruit_name                                                      \n",
       "apple        19.0  7.342105  0.291196  6.8  7.1  7.3  7.55   7.9\n",
       "lemon        16.0  8.856250  0.997977  7.5  8.1  8.5  9.80  10.5\n",
       "mandarin      5.0  4.380000  0.277489  4.0  4.3  4.3  4.60   4.7\n",
       "orange       19.0  7.936842  0.769712  7.0  7.4  7.8  8.15   9.4"
      ]
     },
     "execution_count": 15,
     "metadata": {},
     "output_type": "execute_result"
    }
   ],
   "source": [
    "df.groupby('fruit_name').describe()[['height']]"
   ]
  },
  {
   "cell_type": "code",
   "execution_count": 16,
   "id": "f8d3d1bc",
   "metadata": {},
   "outputs": [
    {
     "data": {
      "text/html": [
       "<div>\n",
       "<style scoped>\n",
       "    .dataframe tbody tr th:only-of-type {\n",
       "        vertical-align: middle;\n",
       "    }\n",
       "\n",
       "    .dataframe tbody tr th {\n",
       "        vertical-align: top;\n",
       "    }\n",
       "\n",
       "    .dataframe thead tr th {\n",
       "        text-align: left;\n",
       "    }\n",
       "\n",
       "    .dataframe thead tr:last-of-type th {\n",
       "        text-align: right;\n",
       "    }\n",
       "</style>\n",
       "<table border=\"1\" class=\"dataframe\">\n",
       "  <thead>\n",
       "    <tr>\n",
       "      <th></th>\n",
       "      <th colspan=\"8\" halign=\"left\">width</th>\n",
       "    </tr>\n",
       "    <tr>\n",
       "      <th></th>\n",
       "      <th>count</th>\n",
       "      <th>mean</th>\n",
       "      <th>std</th>\n",
       "      <th>min</th>\n",
       "      <th>25%</th>\n",
       "      <th>50%</th>\n",
       "      <th>75%</th>\n",
       "      <th>max</th>\n",
       "    </tr>\n",
       "    <tr>\n",
       "      <th>fruit_name</th>\n",
       "      <th></th>\n",
       "      <th></th>\n",
       "      <th></th>\n",
       "      <th></th>\n",
       "      <th></th>\n",
       "      <th></th>\n",
       "      <th></th>\n",
       "      <th></th>\n",
       "    </tr>\n",
       "  </thead>\n",
       "  <tbody>\n",
       "    <tr>\n",
       "      <th>apple</th>\n",
       "      <td>19.0</td>\n",
       "      <td>7.457895</td>\n",
       "      <td>0.345311</td>\n",
       "      <td>6.9</td>\n",
       "      <td>7.3</td>\n",
       "      <td>7.4</td>\n",
       "      <td>7.600</td>\n",
       "      <td>8.4</td>\n",
       "    </tr>\n",
       "    <tr>\n",
       "      <th>lemon</th>\n",
       "      <td>16.0</td>\n",
       "      <td>6.512500</td>\n",
       "      <td>0.624900</td>\n",
       "      <td>5.8</td>\n",
       "      <td>6.0</td>\n",
       "      <td>6.2</td>\n",
       "      <td>7.225</td>\n",
       "      <td>7.3</td>\n",
       "    </tr>\n",
       "    <tr>\n",
       "      <th>mandarin</th>\n",
       "      <td>5.0</td>\n",
       "      <td>5.940000</td>\n",
       "      <td>0.167332</td>\n",
       "      <td>5.8</td>\n",
       "      <td>5.8</td>\n",
       "      <td>5.9</td>\n",
       "      <td>6.000</td>\n",
       "      <td>6.2</td>\n",
       "    </tr>\n",
       "    <tr>\n",
       "      <th>orange</th>\n",
       "      <td>19.0</td>\n",
       "      <td>7.557895</td>\n",
       "      <td>0.813986</td>\n",
       "      <td>6.7</td>\n",
       "      <td>7.1</td>\n",
       "      <td>7.2</td>\n",
       "      <td>7.600</td>\n",
       "      <td>9.6</td>\n",
       "    </tr>\n",
       "  </tbody>\n",
       "</table>\n",
       "</div>"
      ],
      "text/plain": [
       "           width                                               \n",
       "           count      mean       std  min  25%  50%    75%  max\n",
       "fruit_name                                                     \n",
       "apple       19.0  7.457895  0.345311  6.9  7.3  7.4  7.600  8.4\n",
       "lemon       16.0  6.512500  0.624900  5.8  6.0  6.2  7.225  7.3\n",
       "mandarin     5.0  5.940000  0.167332  5.8  5.8  5.9  6.000  6.2\n",
       "orange      19.0  7.557895  0.813986  6.7  7.1  7.2  7.600  9.6"
      ]
     },
     "execution_count": 16,
     "metadata": {},
     "output_type": "execute_result"
    }
   ],
   "source": [
    "df.groupby('fruit_name').describe()[['width']]"
   ]
  },
  {
   "cell_type": "markdown",
   "id": "27d26fff",
   "metadata": {},
   "source": [
    "#### Preprocessing: Train Test Split.\n",
    "\n",
    "Because training and testing on the same data is inefficient, we partition the data into two sets: **training and testing**. \n",
    "\n",
    "To split the data, we use the `train_test_split` function. \n",
    "\n",
    "The split percentage is determined by the optional parameter `test_size.` The default values are 75/25% train and test data.\n",
    "\n",
    "The `random state` parameter ensures that the data is split in the same way each time the program is executed. \n",
    "\n",
    "Because we are training and testing on distinct sets of data, the testing accuracy will be a better indication of how well the model will perform on new data.\n",
    "\n"
   ]
  },
  {
   "cell_type": "code",
   "execution_count": 17,
   "id": "507a05f6",
   "metadata": {},
   "outputs": [],
   "source": [
    "# Train Test Split\n",
    "\n",
    "X = df[['height', 'width', 'mass']]\n",
    "y = df['fruit_label']\n",
    "X_train, X_test, y_train, y_test = train_test_split(X, y, test_size=0.25, random_state=0)"
   ]
  },
  {
   "cell_type": "code",
   "execution_count": 18,
   "id": "45075e1f",
   "metadata": {},
   "outputs": [
    {
     "name": "stdout",
     "output_type": "stream",
     "text": [
      "(44, 3)\n",
      "(15, 3)\n"
     ]
    }
   ],
   "source": [
    "#shape of train and test data\n",
    "print(X_train.shape)\n",
    "print(X_test.shape)"
   ]
  },
  {
   "cell_type": "code",
   "execution_count": 19,
   "id": "6176e84a",
   "metadata": {},
   "outputs": [
    {
     "name": "stdout",
     "output_type": "stream",
     "text": [
      "(44,)\n",
      "(15,)\n"
     ]
    }
   ],
   "source": [
    "#shape of new y objects\n",
    "print(y_train.shape)\n",
    "print(y_test.shape)"
   ]
  },
  {
   "cell_type": "markdown",
   "id": "9b7b382d",
   "metadata": {},
   "source": [
    "#### Training and Predictions\n",
    "\n",
    "Scikit-learn is divided into modules so that we may quickly import the classes we need. \n",
    "\n",
    "Import the `KNeighborsClassifer` class from the `neighbors` module. \n",
    "\n",
    "Instantiate the estimator (a model in scikit-learn is referred to as a **estimator**). Because their major function is to estimate unknown quantities, we refer to the model as an estimator.\n",
    "\n",
    "In our example, we have generated an instance (`knn`) of the class `KNeighborsClassifer`, which means we have constructed an object called 'knn' that knows how to perform KNN classification once the data is provided. \n",
    "\n",
    "The **tuning parameter/hyper parameter** (k) is the parameter `n_ neighbors`. All other parameters are set to default.\n",
    "\n",
    "The `fit` method is used to train the model using training data (X train,y train), while the `predict` method is used to test the model using testing data (X test). "
   ]
  },
  {
   "cell_type": "markdown",
   "id": "951f99a7",
   "metadata": {},
   "source": [
    "In this example, we take `n_neighbors` or k = 5."
   ]
  },
  {
   "cell_type": "code",
   "execution_count": 20,
   "id": "2a81c4a9",
   "metadata": {},
   "outputs": [],
   "source": [
    "from sklearn.neighbors import KNeighborsClassifier\n",
    "\n",
    "knn = KNeighborsClassifier(n_neighbors = 5)"
   ]
  },
  {
   "cell_type": "markdown",
   "id": "9d0c2a28",
   "metadata": {},
   "source": [
    "#### Train the classifier (fit the estimator) using the training data¶\n",
    "\n",
    "\n",
    "We then train the classifier by passing the training set data in **X_train** and the labels in **y_train** to the classifier's fit method."
   ]
  },
  {
   "cell_type": "code",
   "execution_count": 21,
   "id": "dc4235eb",
   "metadata": {},
   "outputs": [
    {
     "data": {
      "text/plain": [
       "KNeighborsClassifier()"
      ]
     },
     "execution_count": 21,
     "metadata": {},
     "output_type": "execute_result"
    }
   ],
   "source": [
    "knn.fit(X_train,y_train)"
   ]
  },
  {
   "cell_type": "markdown",
   "id": "b7dee3c9",
   "metadata": {},
   "source": [
    "#### Estimate the accuracy of the classifier on future data, using the test data \n",
    "\n",
    "\n",
    "Remember that the KNN classifier has not seen any of the fruits in the **test set** during the training phase.\n",
    "\n",
    "To do this, we use the score method for the classifier object.\n",
    "This takes the points in the test set as input and calculates the **accuracy**. \n",
    "\n",
    "The **accuracy** is defined as the proportion of points in the test set whose true label was correctly predicted by the classifier."
   ]
  },
  {
   "cell_type": "code",
   "execution_count": 22,
   "id": "27095e1e",
   "metadata": {},
   "outputs": [
    {
     "name": "stdout",
     "output_type": "stream",
     "text": [
      "Accuracy: 0.5333333333333333\n"
     ]
    }
   ],
   "source": [
    "knn.score(X_test, y_test)\n",
    "\n",
    "print('Accuracy:', knn.score(X_test, y_test))"
   ]
  },
  {
   "cell_type": "markdown",
   "id": "60c85115",
   "metadata": {},
   "source": [
    "We obtain a classficiation rate of 53.3%, considered as good accuracy. \n",
    "\n",
    "Can we further improve the accuracy of the KNN algorithm? "
   ]
  },
  {
   "cell_type": "markdown",
   "id": "c3c65b83",
   "metadata": {},
   "source": [
    "#### Use the trained KNN classifier model to classify new, previously unseen objects\n",
    "\n",
    "So, here for example. We are entering the mass, width, and height for a hypothetical piece of fruit that is pretty small. \n",
    "\n",
    "And if we ask the classifier to predict the label using the predict method.\n",
    "\n",
    "We can see that the output says that it is a mandarin.\n",
    "\n",
    "for example: a small fruit with a mass of 20 g, a width of 4.5 cm and a height of 5.2 cm"
   ]
  },
  {
   "cell_type": "code",
   "execution_count": 23,
   "id": "81fbaf2f",
   "metadata": {},
   "outputs": [
    {
     "data": {
      "text/plain": [
       "Index(['height', 'width', 'mass'], dtype='object')"
      ]
     },
     "execution_count": 23,
     "metadata": {},
     "output_type": "execute_result"
    }
   ],
   "source": [
    "X_train.columns"
   ]
  },
  {
   "cell_type": "code",
   "execution_count": 24,
   "id": "c4326b6e",
   "metadata": {},
   "outputs": [
    {
     "name": "stdout",
     "output_type": "stream",
     "text": [
      "The prediction is: mandarin\n"
     ]
    }
   ],
   "source": [
    "#sample1 = pd.DataFrame({'height':[5.2], 'width':[4.5],'mass':[20]})\n",
    "# Notice we use the same column as the X training data (or X test sate)\n",
    "sample1 = pd.DataFrame([[5.2,4.5,20]],columns = X_train.columns)\n",
    "fruit_prediction = knn.predict(sample1)\n",
    "\n",
    "print('The prediction is:', lookup_fruit_name[fruit_prediction[0]])\n"
   ]
  },
  {
   "cell_type": "markdown",
   "id": "21e86a0e",
   "metadata": {},
   "source": [
    "Here another example"
   ]
  },
  {
   "cell_type": "code",
   "execution_count": 25,
   "id": "fa9dba3e",
   "metadata": {},
   "outputs": [
    {
     "name": "stdout",
     "output_type": "stream",
     "text": [
      "The prediction is: apple\n"
     ]
    }
   ],
   "source": [
    "#sample2 = pd.DataFrame({'height':[6.8], 'width':[8.5],'mass':[180]})\n",
    "\n",
    "sample2 = pd.DataFrame([[6.8,8.5,180]],columns = X_train.columns)\n",
    "fruit_prediction = knn.predict(sample2)\n",
    "\n",
    "print('The prediction is:', lookup_fruit_name[fruit_prediction[0]])"
   ]
  },
  {
   "cell_type": "code",
   "execution_count": null,
   "id": "aa895e1d",
   "metadata": {},
   "outputs": [],
   "source": []
  },
  {
   "cell_type": "markdown",
   "id": "4bfb1512",
   "metadata": {},
   "source": [
    "**Exercise** \n",
    "\n",
    "1. Create a DataFrame comparing the y_test and the predictions from the model.\n",
    "\n",
    "2. Confirm that the accuracy is the same as obtained by knn.score(X_test, y_test)."
   ]
  },
  {
   "cell_type": "markdown",
   "id": "701fc213",
   "metadata": {},
   "source": [
    "Here is the list of predictions of the test set obtained from the model."
   ]
  },
  {
   "cell_type": "code",
   "execution_count": 26,
   "id": "554ccbd7",
   "metadata": {},
   "outputs": [],
   "source": [
    "#fruit_prediction = knn.predict([[20,4.5,5.2]])\n",
    "y_pred = knn.predict(X_test)"
   ]
  },
  {
   "cell_type": "markdown",
   "id": "4ecc6659",
   "metadata": {},
   "source": [
    "#### Calculating the agorithm accuracy"
   ]
  },
  {
   "cell_type": "code",
   "execution_count": 27,
   "id": "32e8db21",
   "metadata": {},
   "outputs": [
    {
     "data": {
      "text/plain": [
       "0.5333333333333333"
      ]
     },
     "execution_count": 27,
     "metadata": {},
     "output_type": "execute_result"
    }
   ],
   "source": [
    "# the accuracy of the test set\n",
    "\n",
    "# https://stackoverflow.com/questions/59072143/pandas-mean-of-boolean\n",
    "((knn.predict(X_test) == y_test.to_numpy())*1).mean()\n",
    "(knn.predict(X_test) == y_test.to_numpy()).mean()"
   ]
  },
  {
   "cell_type": "code",
   "execution_count": 28,
   "id": "90c20bba",
   "metadata": {},
   "outputs": [],
   "source": [
    "# the accuracy of the original data set\n",
    "\n",
    "# (knn.predict(X) == y.to_numpy()).mean()"
   ]
  },
  {
   "cell_type": "code",
   "execution_count": 29,
   "id": "5d428464",
   "metadata": {},
   "outputs": [
    {
     "data": {
      "text/plain": [
       "0.7954545454545454"
      ]
     },
     "execution_count": 29,
     "metadata": {},
     "output_type": "execute_result"
    }
   ],
   "source": [
    "# the accuracy of the training set\n",
    "\n",
    "(knn.predict(X_train) == y_train.to_numpy()).mean()"
   ]
  },
  {
   "cell_type": "markdown",
   "id": "f2eaf247",
   "metadata": {},
   "source": [
    "#### Comparison of the observed and predicted values from both training and test data sets"
   ]
  },
  {
   "cell_type": "code",
   "execution_count": 30,
   "id": "996d0802",
   "metadata": {},
   "outputs": [
    {
     "name": "stdout",
     "output_type": "stream",
     "text": [
      "Observed:  orange vs Predicted: orange\n",
      "Observed:  orange vs Predicted: apple\n",
      "Observed:  lemon vs Predicted: lemon\n",
      "Observed:  orange vs Predicted: lemon\n",
      "Observed:  apple vs Predicted: apple\n",
      "Observed:  apple vs Predicted: apple\n",
      "Observed:  orange vs Predicted: orange\n",
      "Observed:  lemon vs Predicted: orange\n",
      "Observed:  orange vs Predicted: apple\n",
      "Observed:  apple vs Predicted: lemon\n",
      "Observed:  mandarin vs Predicted: mandarin\n",
      "Observed:  apple vs Predicted: apple\n",
      "Observed:  orange vs Predicted: orange\n",
      "Observed:  orange vs Predicted: apple\n",
      "Observed:  orange vs Predicted: lemon\n"
     ]
    }
   ],
   "source": [
    "# Printing out the observed and predicted values of the test set\n",
    "\n",
    "for i in range(len(X_test)):\n",
    "    print('Observed: ', lookup_fruit_name[y_test.iloc[i]], 'vs Predicted:',    lookup_fruit_name[knn.predict(X_test)[i]])"
   ]
  },
  {
   "cell_type": "code",
   "execution_count": 31,
   "id": "c40a312b",
   "metadata": {},
   "outputs": [
    {
     "name": "stdout",
     "output_type": "stream",
     "text": [
      "Int64Index([26, 35, 43, 28, 11, 2, 34, 46, 40, 22, 4, 10, 30, 41, 33], dtype='int64')\n"
     ]
    },
    {
     "data": {
      "text/plain": [
       "Int64Index([26, 35, 43, 28, 11, 2, 34, 46, 40, 22, 4, 10, 30, 41, 33], dtype='int64')"
      ]
     },
     "execution_count": 31,
     "metadata": {},
     "output_type": "execute_result"
    }
   ],
   "source": [
    "print(X_test.index)\n",
    "y_test.index"
   ]
  },
  {
   "cell_type": "code",
   "execution_count": 32,
   "id": "75d7d12a",
   "metadata": {},
   "outputs": [
    {
     "data": {
      "text/html": [
       "<div>\n",
       "<style scoped>\n",
       "    .dataframe tbody tr th:only-of-type {\n",
       "        vertical-align: middle;\n",
       "    }\n",
       "\n",
       "    .dataframe tbody tr th {\n",
       "        vertical-align: top;\n",
       "    }\n",
       "\n",
       "    .dataframe thead th {\n",
       "        text-align: right;\n",
       "    }\n",
       "</style>\n",
       "<table border=\"1\" class=\"dataframe\">\n",
       "  <thead>\n",
       "    <tr style=\"text-align: right;\">\n",
       "      <th></th>\n",
       "      <th>observed</th>\n",
       "      <th>predicted</th>\n",
       "    </tr>\n",
       "  </thead>\n",
       "  <tbody>\n",
       "    <tr>\n",
       "      <th>26</th>\n",
       "      <td>3</td>\n",
       "      <td>3</td>\n",
       "    </tr>\n",
       "    <tr>\n",
       "      <th>35</th>\n",
       "      <td>3</td>\n",
       "      <td>1</td>\n",
       "    </tr>\n",
       "    <tr>\n",
       "      <th>43</th>\n",
       "      <td>4</td>\n",
       "      <td>4</td>\n",
       "    </tr>\n",
       "    <tr>\n",
       "      <th>28</th>\n",
       "      <td>3</td>\n",
       "      <td>4</td>\n",
       "    </tr>\n",
       "    <tr>\n",
       "      <th>11</th>\n",
       "      <td>1</td>\n",
       "      <td>1</td>\n",
       "    </tr>\n",
       "    <tr>\n",
       "      <th>2</th>\n",
       "      <td>1</td>\n",
       "      <td>1</td>\n",
       "    </tr>\n",
       "    <tr>\n",
       "      <th>34</th>\n",
       "      <td>3</td>\n",
       "      <td>3</td>\n",
       "    </tr>\n",
       "    <tr>\n",
       "      <th>46</th>\n",
       "      <td>4</td>\n",
       "      <td>3</td>\n",
       "    </tr>\n",
       "    <tr>\n",
       "      <th>40</th>\n",
       "      <td>3</td>\n",
       "      <td>1</td>\n",
       "    </tr>\n",
       "    <tr>\n",
       "      <th>22</th>\n",
       "      <td>1</td>\n",
       "      <td>4</td>\n",
       "    </tr>\n",
       "    <tr>\n",
       "      <th>4</th>\n",
       "      <td>2</td>\n",
       "      <td>2</td>\n",
       "    </tr>\n",
       "    <tr>\n",
       "      <th>10</th>\n",
       "      <td>1</td>\n",
       "      <td>1</td>\n",
       "    </tr>\n",
       "    <tr>\n",
       "      <th>30</th>\n",
       "      <td>3</td>\n",
       "      <td>3</td>\n",
       "    </tr>\n",
       "    <tr>\n",
       "      <th>41</th>\n",
       "      <td>3</td>\n",
       "      <td>1</td>\n",
       "    </tr>\n",
       "    <tr>\n",
       "      <th>33</th>\n",
       "      <td>3</td>\n",
       "      <td>4</td>\n",
       "    </tr>\n",
       "  </tbody>\n",
       "</table>\n",
       "</div>"
      ],
      "text/plain": [
       "    observed  predicted\n",
       "26         3          3\n",
       "35         3          1\n",
       "43         4          4\n",
       "28         3          4\n",
       "11         1          1\n",
       "2          1          1\n",
       "34         3          3\n",
       "46         4          3\n",
       "40         3          1\n",
       "22         1          4\n",
       "4          2          2\n",
       "10         1          1\n",
       "30         3          3\n",
       "41         3          1\n",
       "33         3          4"
      ]
     },
     "execution_count": 32,
     "metadata": {},
     "output_type": "execute_result"
    }
   ],
   "source": [
    "pd.DataFrame({'observed': y_test ,'predicted':knn.predict(X_test)}).set_index(X_test.index) "
   ]
  },
  {
   "cell_type": "code",
   "execution_count": 33,
   "id": "12ddb675",
   "metadata": {},
   "outputs": [
    {
     "data": {
      "text/html": [
       "<div>\n",
       "<style scoped>\n",
       "    .dataframe tbody tr th:only-of-type {\n",
       "        vertical-align: middle;\n",
       "    }\n",
       "\n",
       "    .dataframe tbody tr th {\n",
       "        vertical-align: top;\n",
       "    }\n",
       "\n",
       "    .dataframe thead th {\n",
       "        text-align: right;\n",
       "    }\n",
       "</style>\n",
       "<table border=\"1\" class=\"dataframe\">\n",
       "  <thead>\n",
       "    <tr style=\"text-align: right;\">\n",
       "      <th></th>\n",
       "      <th>observed</th>\n",
       "      <th>predicted</th>\n",
       "    </tr>\n",
       "  </thead>\n",
       "  <tbody>\n",
       "    <tr>\n",
       "      <th>42</th>\n",
       "      <td>3</td>\n",
       "      <td>1</td>\n",
       "    </tr>\n",
       "    <tr>\n",
       "      <th>48</th>\n",
       "      <td>4</td>\n",
       "      <td>1</td>\n",
       "    </tr>\n",
       "    <tr>\n",
       "      <th>7</th>\n",
       "      <td>2</td>\n",
       "      <td>2</td>\n",
       "    </tr>\n",
       "    <tr>\n",
       "      <th>14</th>\n",
       "      <td>1</td>\n",
       "      <td>1</td>\n",
       "    </tr>\n",
       "    <tr>\n",
       "      <th>32</th>\n",
       "      <td>3</td>\n",
       "      <td>1</td>\n",
       "    </tr>\n",
       "  </tbody>\n",
       "</table>\n",
       "</div>"
      ],
      "text/plain": [
       "    observed  predicted\n",
       "42         3          1\n",
       "48         4          1\n",
       "7          2          2\n",
       "14         1          1\n",
       "32         3          1"
      ]
     },
     "execution_count": 33,
     "metadata": {},
     "output_type": "execute_result"
    }
   ],
   "source": [
    "pd.DataFrame({'observed': y_train ,'predicted':knn.predict(X_train)}).set_index(X_train.index).head()"
   ]
  },
  {
   "cell_type": "code",
   "execution_count": 34,
   "id": "beb9e6ba",
   "metadata": {},
   "outputs": [
    {
     "data": {
      "text/html": [
       "<div>\n",
       "<style scoped>\n",
       "    .dataframe tbody tr th:only-of-type {\n",
       "        vertical-align: middle;\n",
       "    }\n",
       "\n",
       "    .dataframe tbody tr th {\n",
       "        vertical-align: top;\n",
       "    }\n",
       "\n",
       "    .dataframe thead th {\n",
       "        text-align: right;\n",
       "    }\n",
       "</style>\n",
       "<table border=\"1\" class=\"dataframe\">\n",
       "  <thead>\n",
       "    <tr style=\"text-align: right;\">\n",
       "      <th></th>\n",
       "      <th>observed</th>\n",
       "      <th>predicted</th>\n",
       "    </tr>\n",
       "  </thead>\n",
       "  <tbody>\n",
       "    <tr>\n",
       "      <th>0</th>\n",
       "      <td>1</td>\n",
       "      <td>4</td>\n",
       "    </tr>\n",
       "    <tr>\n",
       "      <th>1</th>\n",
       "      <td>1</td>\n",
       "      <td>1</td>\n",
       "    </tr>\n",
       "    <tr>\n",
       "      <th>2</th>\n",
       "      <td>1</td>\n",
       "      <td>1</td>\n",
       "    </tr>\n",
       "    <tr>\n",
       "      <th>3</th>\n",
       "      <td>2</td>\n",
       "      <td>2</td>\n",
       "    </tr>\n",
       "    <tr>\n",
       "      <th>4</th>\n",
       "      <td>2</td>\n",
       "      <td>2</td>\n",
       "    </tr>\n",
       "  </tbody>\n",
       "</table>\n",
       "</div>"
      ],
      "text/plain": [
       "   observed  predicted\n",
       "0         1          4\n",
       "1         1          1\n",
       "2         1          1\n",
       "3         2          2\n",
       "4         2          2"
      ]
     },
     "execution_count": 34,
     "metadata": {},
     "output_type": "execute_result"
    }
   ],
   "source": [
    "pd.DataFrame({'observed': y ,'predicted':knn.predict(X)}).set_index(X.index).head() "
   ]
  },
  {
   "cell_type": "code",
   "execution_count": 35,
   "id": "e06435d1",
   "metadata": {},
   "outputs": [
    {
     "data": {
      "text/html": [
       "<div>\n",
       "<style scoped>\n",
       "    .dataframe tbody tr th:only-of-type {\n",
       "        vertical-align: middle;\n",
       "    }\n",
       "\n",
       "    .dataframe tbody tr th {\n",
       "        vertical-align: top;\n",
       "    }\n",
       "\n",
       "    .dataframe thead th {\n",
       "        text-align: right;\n",
       "    }\n",
       "</style>\n",
       "<table border=\"1\" class=\"dataframe\">\n",
       "  <thead>\n",
       "    <tr style=\"text-align: right;\">\n",
       "      <th></th>\n",
       "      <th>fruit_label</th>\n",
       "      <th>fruit_name</th>\n",
       "      <th>fruit_subtype</th>\n",
       "      <th>mass</th>\n",
       "      <th>width</th>\n",
       "      <th>height</th>\n",
       "      <th>color_score</th>\n",
       "      <th>predicted_label</th>\n",
       "    </tr>\n",
       "  </thead>\n",
       "  <tbody>\n",
       "    <tr>\n",
       "      <th>0</th>\n",
       "      <td>1</td>\n",
       "      <td>apple</td>\n",
       "      <td>granny_smith</td>\n",
       "      <td>192</td>\n",
       "      <td>8.4</td>\n",
       "      <td>7.3</td>\n",
       "      <td>0.55</td>\n",
       "      <td>4</td>\n",
       "    </tr>\n",
       "    <tr>\n",
       "      <th>1</th>\n",
       "      <td>1</td>\n",
       "      <td>apple</td>\n",
       "      <td>granny_smith</td>\n",
       "      <td>180</td>\n",
       "      <td>8.0</td>\n",
       "      <td>6.8</td>\n",
       "      <td>0.59</td>\n",
       "      <td>1</td>\n",
       "    </tr>\n",
       "    <tr>\n",
       "      <th>2</th>\n",
       "      <td>1</td>\n",
       "      <td>apple</td>\n",
       "      <td>granny_smith</td>\n",
       "      <td>176</td>\n",
       "      <td>7.4</td>\n",
       "      <td>7.2</td>\n",
       "      <td>0.60</td>\n",
       "      <td>1</td>\n",
       "    </tr>\n",
       "    <tr>\n",
       "      <th>3</th>\n",
       "      <td>2</td>\n",
       "      <td>mandarin</td>\n",
       "      <td>mandarin</td>\n",
       "      <td>86</td>\n",
       "      <td>6.2</td>\n",
       "      <td>4.7</td>\n",
       "      <td>0.80</td>\n",
       "      <td>2</td>\n",
       "    </tr>\n",
       "    <tr>\n",
       "      <th>4</th>\n",
       "      <td>2</td>\n",
       "      <td>mandarin</td>\n",
       "      <td>mandarin</td>\n",
       "      <td>84</td>\n",
       "      <td>6.0</td>\n",
       "      <td>4.6</td>\n",
       "      <td>0.79</td>\n",
       "      <td>2</td>\n",
       "    </tr>\n",
       "  </tbody>\n",
       "</table>\n",
       "</div>"
      ],
      "text/plain": [
       "   fruit_label fruit_name fruit_subtype  mass  width  height  color_score  \\\n",
       "0            1      apple  granny_smith   192    8.4     7.3         0.55   \n",
       "1            1      apple  granny_smith   180    8.0     6.8         0.59   \n",
       "2            1      apple  granny_smith   176    7.4     7.2         0.60   \n",
       "3            2   mandarin      mandarin    86    6.2     4.7         0.80   \n",
       "4            2   mandarin      mandarin    84    6.0     4.6         0.79   \n",
       "\n",
       "   predicted_label  \n",
       "0                4  \n",
       "1                1  \n",
       "2                1  \n",
       "3                2  \n",
       "4                2  "
      ]
     },
     "execution_count": 35,
     "metadata": {},
     "output_type": "execute_result"
    }
   ],
   "source": [
    "df_result = df\n",
    "df_result['predicted_label'] = knn.predict(X)\n",
    "df_result.head()"
   ]
  },
  {
   "cell_type": "markdown",
   "id": "beca987d",
   "metadata": {},
   "source": [
    "#### Visualize the decision regions of a classifier\n",
    "\n",
    "\n",
    "After a classifier has been trained on training data, a classification model is created. What criteria does your machine learning classifier consider when deciding which class a sample belongs to? Plotting a decision region can provide some insight into the decision made by your ML classifier.\n",
    "\n",
    "\n",
    "A **decision region** is a region in which a classifier predicts the same class label for data. \n",
    "\n",
    "The boundary between areas of various classes is known as the **decision boundary**. \n",
    "\n",
    "The plot decision regions function in `mlxtend` is a simple way to plot decision areas. We can also use mlxtend to plot  decision regions of **Logistic Regression, Random Forest, RBF kernel SVM, and Ensemble classifier**.\n",
    "\n",
    "**Important Note** for the 2D scatterplot, we can **only visualize 2 features** at a time. So, if you have a 3-dimensional (or more than 3) dataset, it will essentially be a **2D slice through this feature space with fixed values for the remaining feature(s)**."
   ]
  },
  {
   "cell_type": "code",
   "execution_count": 36,
   "id": "26c393de",
   "metadata": {},
   "outputs": [],
   "source": [
    "from mlxtend.plotting import plot_decision_regions\n"
   ]
  },
  {
   "cell_type": "code",
   "execution_count": 84,
   "id": "b771ad0e",
   "metadata": {},
   "outputs": [],
   "source": [
    "# Importing a dataset\n",
    "url = 'https://raw.githubusercontent.com/susanli2016/Machine-Learning-with-Python/master/fruit_data_with_colors.txt'\n",
    "df = pd.read_table(url)  \n",
    "\n",
    "# Train Test Split\n",
    "\n",
    "X = df[['height', 'width', 'mass']]\n",
    "y = df['fruit_label']\n",
    "X_train, X_test, y_train, y_test = train_test_split(X, y, test_size=0.25, random_state=0)\n",
    "\n",
    "# Instantiate the estimator\n",
    "from sklearn.neighbors import KNeighborsClassifier\n",
    "knn = KNeighborsClassifier(n_neighbors = 5)\n",
    "\n",
    "# Training the classifier by passing in the training set X_train and the labels in y_train\n",
    "knn.fit(X_train,y_train)\n",
    "\n",
    "# Predicting labels for unknown data\n",
    "y_pred = knn.predict(X_test)"
   ]
  },
  {
   "cell_type": "code",
   "execution_count": 85,
   "id": "8ba9a961",
   "metadata": {},
   "outputs": [
    {
     "data": {
      "text/html": [
       "<div>\n",
       "<style scoped>\n",
       "    .dataframe tbody tr th:only-of-type {\n",
       "        vertical-align: middle;\n",
       "    }\n",
       "\n",
       "    .dataframe tbody tr th {\n",
       "        vertical-align: top;\n",
       "    }\n",
       "\n",
       "    .dataframe thead th {\n",
       "        text-align: right;\n",
       "    }\n",
       "</style>\n",
       "<table border=\"1\" class=\"dataframe\">\n",
       "  <thead>\n",
       "    <tr style=\"text-align: right;\">\n",
       "      <th></th>\n",
       "      <th>height</th>\n",
       "      <th>width</th>\n",
       "      <th>mass</th>\n",
       "    </tr>\n",
       "  </thead>\n",
       "  <tbody>\n",
       "    <tr>\n",
       "      <th>count</th>\n",
       "      <td>44.000000</td>\n",
       "      <td>44.000000</td>\n",
       "      <td>44.000000</td>\n",
       "    </tr>\n",
       "    <tr>\n",
       "      <th>mean</th>\n",
       "      <td>7.643182</td>\n",
       "      <td>7.038636</td>\n",
       "      <td>159.090909</td>\n",
       "    </tr>\n",
       "    <tr>\n",
       "      <th>std</th>\n",
       "      <td>1.370350</td>\n",
       "      <td>0.835886</td>\n",
       "      <td>53.316876</td>\n",
       "    </tr>\n",
       "    <tr>\n",
       "      <th>min</th>\n",
       "      <td>4.000000</td>\n",
       "      <td>5.800000</td>\n",
       "      <td>76.000000</td>\n",
       "    </tr>\n",
       "    <tr>\n",
       "      <th>25%</th>\n",
       "      <td>7.200000</td>\n",
       "      <td>6.175000</td>\n",
       "      <td>127.500000</td>\n",
       "    </tr>\n",
       "    <tr>\n",
       "      <th>50%</th>\n",
       "      <td>7.600000</td>\n",
       "      <td>7.200000</td>\n",
       "      <td>157.000000</td>\n",
       "    </tr>\n",
       "    <tr>\n",
       "      <th>75%</th>\n",
       "      <td>8.250000</td>\n",
       "      <td>7.500000</td>\n",
       "      <td>172.500000</td>\n",
       "    </tr>\n",
       "    <tr>\n",
       "      <th>max</th>\n",
       "      <td>10.500000</td>\n",
       "      <td>9.200000</td>\n",
       "      <td>356.000000</td>\n",
       "    </tr>\n",
       "  </tbody>\n",
       "</table>\n",
       "</div>"
      ],
      "text/plain": [
       "          height      width        mass\n",
       "count  44.000000  44.000000   44.000000\n",
       "mean    7.643182   7.038636  159.090909\n",
       "std     1.370350   0.835886   53.316876\n",
       "min     4.000000   5.800000   76.000000\n",
       "25%     7.200000   6.175000  127.500000\n",
       "50%     7.600000   7.200000  157.000000\n",
       "75%     8.250000   7.500000  172.500000\n",
       "max    10.500000   9.200000  356.000000"
      ]
     },
     "execution_count": 85,
     "metadata": {},
     "output_type": "execute_result"
    }
   ],
   "source": [
    "X_train.describe()"
   ]
  },
  {
   "cell_type": "markdown",
   "id": "a533dad1",
   "metadata": {},
   "source": [
    "#### Decision regions for two features, height and mass."
   ]
  },
  {
   "cell_type": "code",
   "execution_count": 38,
   "id": "7dee6b27",
   "metadata": {},
   "outputs": [
    {
     "name": "stderr",
     "output_type": "stream",
     "text": [
      "/Users/Kaemyuijang/opt/anaconda3/lib/python3.7/site-packages/mlxtend/plotting/decision_regions.py:279: UserWarning: You passed a edgecolor/edgecolors ('black') for an unfilled marker ('x').  Matplotlib is ignoring the edgecolor in favor of the facecolor.  This behavior may change in the future.\n"
     ]
    },
    {
     "data": {
      "text/plain": [
       "Text(0.5, 1.0, 'Feature 3 (width) = 7')"
      ]
     },
     "execution_count": 38,
     "metadata": {},
     "output_type": "execute_result"
    },
    {
     "data": {
      "image/png": "[encoded data removed]",
      "text/plain": [
       "<Figure size 432x288 with 1 Axes>"
      ]
     },
     "metadata": {
      "filenames": {
       "image/png": "/Users/Kaemyuijang/SCMA248/_build/jupyter_execute/Chapter7_Introduction_Machine_Learning-Copy1_71_2.png"
      },
      "needs_background": "light"
     },
     "output_type": "display_data"
    }
   ],
   "source": [
    "knn = KNeighborsClassifier(n_neighbors = 5)\n",
    "knn.fit(X_train.values, y_train.values)\n",
    "\n",
    "# Plotting decision regions\n",
    "fig, ax = plt.subplots()\n",
    "\n",
    "# Decision region for feature 2 = width = value\n",
    "value=7\n",
    "\n",
    "# Plot training sample with feature 2 = width = value +/- width\n",
    "width=0.5\n",
    "\n",
    "fig = plot_decision_regions(X_train.values, y_train.values, clf=knn,\n",
    "              feature_index=[0,2],                        #these one will be plotted  \n",
    "              filler_feature_values={1: value},  #these will be ignored\n",
    "              filler_feature_ranges={1: width})\n",
    "ax.set_xlabel('Feature 1 (height)')\n",
    "ax.set_ylabel('Feature 2 (mass)')\n",
    "ax.set_title('Feature 3 (width) = {}'.format(value))"
   ]
  },
  {
   "cell_type": "code",
   "execution_count": 39,
   "id": "40ac3d55",
   "metadata": {},
   "outputs": [
    {
     "name": "stdout",
     "output_type": "stream",
     "text": [
      "    height  width  mass\n",
      "9      7.0    7.4   172\n",
      "32     7.0    7.2   164\n",
      "12     7.1    7.0   154\n",
      "19     7.2    7.4   162\n",
      "42     7.2    7.2   154\n",
      "37     7.3    7.3   154\n",
      "21     7.4    7.4   156\n",
      "29     7.4    7.0   160\n",
      "39     7.4    6.8   144\n",
      "36     7.6    7.1   160\n",
      "13     7.7    7.3   164\n",
      "8      7.8    7.1   178\n",
      "38     7.8    7.2   158\n",
      "45     9.2    7.2   186\n",
      "47     9.7    7.3   196\n",
      "48    10.1    7.3   174\n",
      "44    10.5    7.3   200\n",
      "42    3\n",
      "48    4\n",
      "32    3\n",
      "29    3\n",
      "37    3\n",
      "8     1\n",
      "13    1\n",
      "38    3\n",
      "12    1\n",
      "45    4\n",
      "36    3\n",
      "21    1\n",
      "19    1\n",
      "9     1\n",
      "39    3\n",
      "47    4\n",
      "44    4\n",
      "Name: fruit_label, dtype: int64\n"
     ]
    }
   ],
   "source": [
    "# Points to be included in the plot above, \n",
    "# i.e. those sample points with width between (value - width, value + width)\n",
    "\n",
    "# X_train\n",
    "\n",
    "X_train.head()\n",
    "#X_train.head()\n",
    "print(X_train[(X_train.width < value + width) & (X_train.width > value - width)].sort_values(by = 'height'))\n",
    "print(y_train[(X_train.width < value + width) & (X_train.width > value - width)])\n"
   ]
  },
  {
   "cell_type": "code",
   "execution_count": 40,
   "id": "c8f1e7ec",
   "metadata": {},
   "outputs": [],
   "source": [
    "#df.head()\n",
    "#X_train.head()\n",
    "#df[(df.width < 7.2) & (df.width > 6.8)].sort_values(by = 'height')"
   ]
  },
  {
   "cell_type": "markdown",
   "id": "0b75ff5f",
   "metadata": {},
   "source": [
    "#### Decision regions for two features, height and width."
   ]
  },
  {
   "cell_type": "code",
   "execution_count": 41,
   "id": "08de887f",
   "metadata": {},
   "outputs": [],
   "source": [
    "#X_train.describe()"
   ]
  },
  {
   "cell_type": "code",
   "execution_count": 42,
   "id": "685179f2",
   "metadata": {},
   "outputs": [
    {
     "name": "stderr",
     "output_type": "stream",
     "text": [
      "/Users/Kaemyuijang/opt/anaconda3/lib/python3.7/site-packages/mlxtend/plotting/decision_regions.py:279: UserWarning: You passed a edgecolor/edgecolors ('black') for an unfilled marker ('x').  Matplotlib is ignoring the edgecolor in favor of the facecolor.  This behavior may change in the future.\n"
     ]
    },
    {
     "data": {
      "text/plain": [
       "Text(0.5, 1.0, 'Feature 3 (mass) = 160')"
      ]
     },
     "execution_count": 42,
     "metadata": {},
     "output_type": "execute_result"
    },
    {
     "data": {
      "image/png": "[encoded data removed]",
      "text/plain": [
       "<Figure size 432x288 with 1 Axes>"
      ]
     },
     "metadata": {
      "filenames": {
       "image/png": "/Users/Kaemyuijang/SCMA248/_build/jupyter_execute/Chapter7_Introduction_Machine_Learning-Copy1_76_2.png"
      },
      "needs_background": "light"
     },
     "output_type": "display_data"
    }
   ],
   "source": [
    "knn = KNeighborsClassifier(n_neighbors = 5)\n",
    "knn.fit(X_train.values, y_train.values)\n",
    "\n",
    "# Plotting decision regions\n",
    "fig, ax = plt.subplots()\n",
    "\n",
    "# Decision region for feature 3 = mass = value\n",
    "value=160\n",
    "# Plot training sample with feature 3 = mass = value +/- width\n",
    "width=30\n",
    "\n",
    "fig = plot_decision_regions(X_train.values, y_train.values, clf=knn,\n",
    "              feature_index=[0,1],               #these one will be plotted  \n",
    "              filler_feature_values={2: value},  #these will be ignored\n",
    "              filler_feature_ranges={2: width})\n",
    "ax.set_xlabel('Feature 1 (height)')\n",
    "ax.set_ylabel('Feature 2 (width)')\n",
    "ax.set_title('Feature 3 (mass) = {}'.format(value))"
   ]
  },
  {
   "cell_type": "code",
   "execution_count": 43,
   "id": "23cae381",
   "metadata": {},
   "outputs": [],
   "source": [
    "#print(X_train.head())\n",
    "#print(y_train)\n"
   ]
  },
  {
   "cell_type": "code",
   "execution_count": 44,
   "id": "af87ef58",
   "metadata": {},
   "outputs": [
    {
     "name": "stderr",
     "output_type": "stream",
     "text": [
      "/Users/Kaemyuijang/opt/anaconda3/lib/python3.7/site-packages/mlxtend/plotting/decision_regions.py:279: UserWarning: You passed a edgecolor/edgecolors ('black') for an unfilled marker ('x').  Matplotlib is ignoring the edgecolor in favor of the facecolor.  This behavior may change in the future.\n"
     ]
    },
    {
     "data": {
      "text/plain": [
       "Text(0.5, 1.0, 'Feature 3 (mass) = 160')"
      ]
     },
     "execution_count": 44,
     "metadata": {},
     "output_type": "execute_result"
    },
    {
     "data": {
      "image/png": "[encoded data removed]",
      "text/plain": [
       "<Figure size 432x288 with 1 Axes>"
      ]
     },
     "metadata": {
      "filenames": {
       "image/png": "/Users/Kaemyuijang/SCMA248/_build/jupyter_execute/Chapter7_Introduction_Machine_Learning-Copy1_78_2.png"
      },
      "needs_background": "light"
     },
     "output_type": "display_data"
    }
   ],
   "source": [
    "##### Convert pandas DataFrame to Numpy before applying classification\n",
    "##### \n",
    "#### weights{‘uniform’, ‘distance’} \n",
    "\n",
    "#### ‘uniform’ : uniform weights. All points in each neighborhood are weighted equally.\n",
    "\n",
    "#### ‘distance’ : weight points by the inverse of their distance. in this case, closer neighbors of a query point will have a greater influence than neighbors which are further away.\n",
    "\n",
    "\n",
    "X_train_np = X_train.to_numpy()\n",
    "y_train_np = y_train.to_numpy()\n",
    "\n",
    "\n",
    "clf = KNeighborsClassifier(n_neighbors = 5,weights='distance')\n",
    "clf.fit(X_train_np, y_train_np)\n",
    "\n",
    "# Plotting decision regions\n",
    "fig, ax = plt.subplots()\n",
    "\n",
    "# Decision region for feature 3 = mass = value\n",
    "value=160\n",
    "# Plot training sample with feature = mass = value +/- width\n",
    "width=100\n",
    "\n",
    "fig = plot_decision_regions(X_train_np, y_train_np, clf=clf,\n",
    "              feature_index=[0,1],               #these one will be plotted  \n",
    "              filler_feature_values={2: value},  #these will be ignored\n",
    "              filler_feature_ranges={2: width})\n",
    "ax.set_xlabel('Feature 1 (height)')\n",
    "ax.set_ylabel('Feature 2 (width)')\n",
    "ax.set_title('Feature 3 (mass) = {}'.format(value))"
   ]
  },
  {
   "cell_type": "code",
   "execution_count": 45,
   "id": "fcd170f8",
   "metadata": {},
   "outputs": [
    {
     "data": {
      "text/html": [
       "<div>\n",
       "<style scoped>\n",
       "    .dataframe tbody tr th:only-of-type {\n",
       "        vertical-align: middle;\n",
       "    }\n",
       "\n",
       "    .dataframe tbody tr th {\n",
       "        vertical-align: top;\n",
       "    }\n",
       "\n",
       "    .dataframe thead th {\n",
       "        text-align: right;\n",
       "    }\n",
       "</style>\n",
       "<table border=\"1\" class=\"dataframe\">\n",
       "  <thead>\n",
       "    <tr style=\"text-align: right;\">\n",
       "      <th></th>\n",
       "      <th>height</th>\n",
       "      <th>width</th>\n",
       "      <th>mass</th>\n",
       "    </tr>\n",
       "  </thead>\n",
       "  <tbody>\n",
       "    <tr>\n",
       "      <th>count</th>\n",
       "      <td>44.000000</td>\n",
       "      <td>44.000000</td>\n",
       "      <td>44.000000</td>\n",
       "    </tr>\n",
       "    <tr>\n",
       "      <th>mean</th>\n",
       "      <td>7.643182</td>\n",
       "      <td>7.038636</td>\n",
       "      <td>159.090909</td>\n",
       "    </tr>\n",
       "    <tr>\n",
       "      <th>std</th>\n",
       "      <td>1.370350</td>\n",
       "      <td>0.835886</td>\n",
       "      <td>53.316876</td>\n",
       "    </tr>\n",
       "    <tr>\n",
       "      <th>min</th>\n",
       "      <td>4.000000</td>\n",
       "      <td>5.800000</td>\n",
       "      <td>76.000000</td>\n",
       "    </tr>\n",
       "    <tr>\n",
       "      <th>25%</th>\n",
       "      <td>7.200000</td>\n",
       "      <td>6.175000</td>\n",
       "      <td>127.500000</td>\n",
       "    </tr>\n",
       "    <tr>\n",
       "      <th>50%</th>\n",
       "      <td>7.600000</td>\n",
       "      <td>7.200000</td>\n",
       "      <td>157.000000</td>\n",
       "    </tr>\n",
       "    <tr>\n",
       "      <th>75%</th>\n",
       "      <td>8.250000</td>\n",
       "      <td>7.500000</td>\n",
       "      <td>172.500000</td>\n",
       "    </tr>\n",
       "    <tr>\n",
       "      <th>max</th>\n",
       "      <td>10.500000</td>\n",
       "      <td>9.200000</td>\n",
       "      <td>356.000000</td>\n",
       "    </tr>\n",
       "  </tbody>\n",
       "</table>\n",
       "</div>"
      ],
      "text/plain": [
       "          height      width        mass\n",
       "count  44.000000  44.000000   44.000000\n",
       "mean    7.643182   7.038636  159.090909\n",
       "std     1.370350   0.835886   53.316876\n",
       "min     4.000000   5.800000   76.000000\n",
       "25%     7.200000   6.175000  127.500000\n",
       "50%     7.600000   7.200000  157.000000\n",
       "75%     8.250000   7.500000  172.500000\n",
       "max    10.500000   9.200000  356.000000"
      ]
     },
     "execution_count": 45,
     "metadata": {},
     "output_type": "execute_result"
    }
   ],
   "source": [
    "clf.predict(X_train_np)\n",
    "y_train_np\n",
    "X_train.describe()"
   ]
  },
  {
   "cell_type": "code",
   "execution_count": 46,
   "id": "81c2f8f6",
   "metadata": {},
   "outputs": [],
   "source": [
    "# X_train_np = X_train.iloc[:,0:2].to_numpy()\n",
    "# y_train_np = y_train.to_numpy()\n",
    "\n",
    "# X_train_np.shape"
   ]
  },
  {
   "cell_type": "markdown",
   "id": "c5c8df11",
   "metadata": {},
   "source": [
    "#### Applying KNN classfication with only two features"
   ]
  },
  {
   "cell_type": "code",
   "execution_count": 47,
   "id": "4390b403",
   "metadata": {},
   "outputs": [
    {
     "name": "stderr",
     "output_type": "stream",
     "text": [
      "/Users/Kaemyuijang/opt/anaconda3/lib/python3.7/site-packages/mlxtend/plotting/decision_regions.py:279: UserWarning: You passed a edgecolor/edgecolors ('black') for an unfilled marker ('x').  Matplotlib is ignoring the edgecolor in favor of the facecolor.  This behavior may change in the future.\n"
     ]
    },
    {
     "data": {
      "text/plain": [
       "Text(0.5, 1.0, 'Classification problem')"
      ]
     },
     "execution_count": 47,
     "metadata": {},
     "output_type": "execute_result"
    },
    {
     "data": {
      "image/png": "[encoded data removed]",
      "text/plain": [
       "<Figure size 432x288 with 1 Axes>"
      ]
     },
     "metadata": {
      "filenames": {
       "image/png": "/Users/Kaemyuijang/SCMA248/_build/jupyter_execute/Chapter7_Introduction_Machine_Learning-Copy1_82_2.png"
      },
      "needs_background": "light"
     },
     "output_type": "display_data"
    }
   ],
   "source": [
    "##### Convert pandas DataFrame to Numpy before applying classification\n",
    "\n",
    "X_train_np = X_train.iloc[:,0:2].to_numpy()\n",
    "y_train_np = y_train.to_numpy()\n",
    "\n",
    "\n",
    "clf = KNeighborsClassifier(n_neighbors = 5)\n",
    "clf.fit(X_train_np, y_train_np)\n",
    "\n",
    "# Plotting decision regions\n",
    "fig, ax = plt.subplots()\n",
    "\n",
    "# Decision region for feature 3 = mass = value\n",
    "value=160\n",
    "# Plot training sample with feature = mass = value +/- width\n",
    "width=20\n",
    "\n",
    "fig = plot_decision_regions(X_train_np, y_train_np, clf=clf)\n",
    "ax.set_xlabel('Feature 1 (height)')\n",
    "ax.set_ylabel('Feature 2 (width)')\n",
    "ax.set_title('Classification problem')"
   ]
  },
  {
   "cell_type": "code",
   "execution_count": 48,
   "id": "4d19b829",
   "metadata": {},
   "outputs": [
    {
     "name": "stderr",
     "output_type": "stream",
     "text": [
      "/Users/Kaemyuijang/opt/anaconda3/lib/python3.7/site-packages/mlxtend/plotting/decision_regions.py:279: UserWarning: You passed a edgecolor/edgecolors ('black') for an unfilled marker ('x').  Matplotlib is ignoring the edgecolor in favor of the facecolor.  This behavior may change in the future.\n"
     ]
    },
    {
     "data": {
      "text/plain": [
       "Text(0.5, 1.0, 'Classification problem')"
      ]
     },
     "execution_count": 48,
     "metadata": {},
     "output_type": "execute_result"
    },
    {
     "data": {
      "image/png": "[encoded data removed]",
      "text/plain": [
       "<Figure size 432x288 with 1 Axes>"
      ]
     },
     "metadata": {
      "filenames": {
       "image/png": "/Users/Kaemyuijang/SCMA248/_build/jupyter_execute/Chapter7_Introduction_Machine_Learning-Copy1_83_2.png"
      },
      "needs_background": "light"
     },
     "output_type": "display_data"
    }
   ],
   "source": [
    "##### Convert pandas DataFrame to Numpy before applying classification\n",
    "\n",
    "X_train_np = X_train.iloc[:,[0,2]].to_numpy()\n",
    "y_train_np = y_train.to_numpy()\n",
    "\n",
    "\n",
    "clf = KNeighborsClassifier(n_neighbors = 5)\n",
    "clf.fit(X_train_np, y_train_np)\n",
    "\n",
    "# Plotting decision regions\n",
    "fig, ax = plt.subplots()\n",
    "\n",
    "# Decision region for feature 3 = mass = value\n",
    "value=160\n",
    "# Plot training sample with feature = mass = value +/- width\n",
    "width=20\n",
    "\n",
    "fig = plot_decision_regions(X_train_np, y_train_np, clf=clf)\n",
    "ax.set_xlabel('Feature 1 (height)')\n",
    "ax.set_ylabel('Feature 2 (mass)')\n",
    "ax.set_title('Classification problem')"
   ]
  },
  {
   "cell_type": "markdown",
   "id": "38e27e81",
   "metadata": {},
   "source": [
    "#### Width-Mass visualization"
   ]
  },
  {
   "cell_type": "code",
   "execution_count": 49,
   "id": "e5b95dac",
   "metadata": {},
   "outputs": [],
   "source": [
    "#print(X_train.head())\n",
    "#print(X_train.values)\n",
    "#X_train.to_numpy()\n",
    "\n",
    "#print(type(X_train.values))\n",
    "#print(type(X_train.to_numpy()))\n",
    "\n",
    "#print(X_train.values.shape)\n",
    "#print(X_train.to_numpy().shape)"
   ]
  },
  {
   "cell_type": "code",
   "execution_count": 50,
   "id": "2bfdbfac",
   "metadata": {},
   "outputs": [
    {
     "data": {
      "text/html": [
       "<div>\n",
       "<style scoped>\n",
       "    .dataframe tbody tr th:only-of-type {\n",
       "        vertical-align: middle;\n",
       "    }\n",
       "\n",
       "    .dataframe tbody tr th {\n",
       "        vertical-align: top;\n",
       "    }\n",
       "\n",
       "    .dataframe thead th {\n",
       "        text-align: right;\n",
       "    }\n",
       "</style>\n",
       "<table border=\"1\" class=\"dataframe\">\n",
       "  <thead>\n",
       "    <tr style=\"text-align: right;\">\n",
       "      <th></th>\n",
       "      <th>height</th>\n",
       "      <th>width</th>\n",
       "      <th>mass</th>\n",
       "    </tr>\n",
       "  </thead>\n",
       "  <tbody>\n",
       "    <tr>\n",
       "      <th>count</th>\n",
       "      <td>44.000000</td>\n",
       "      <td>44.000000</td>\n",
       "      <td>44.000000</td>\n",
       "    </tr>\n",
       "    <tr>\n",
       "      <th>mean</th>\n",
       "      <td>7.643182</td>\n",
       "      <td>7.038636</td>\n",
       "      <td>159.090909</td>\n",
       "    </tr>\n",
       "    <tr>\n",
       "      <th>std</th>\n",
       "      <td>1.370350</td>\n",
       "      <td>0.835886</td>\n",
       "      <td>53.316876</td>\n",
       "    </tr>\n",
       "    <tr>\n",
       "      <th>min</th>\n",
       "      <td>4.000000</td>\n",
       "      <td>5.800000</td>\n",
       "      <td>76.000000</td>\n",
       "    </tr>\n",
       "    <tr>\n",
       "      <th>25%</th>\n",
       "      <td>7.200000</td>\n",
       "      <td>6.175000</td>\n",
       "      <td>127.500000</td>\n",
       "    </tr>\n",
       "    <tr>\n",
       "      <th>50%</th>\n",
       "      <td>7.600000</td>\n",
       "      <td>7.200000</td>\n",
       "      <td>157.000000</td>\n",
       "    </tr>\n",
       "    <tr>\n",
       "      <th>75%</th>\n",
       "      <td>8.250000</td>\n",
       "      <td>7.500000</td>\n",
       "      <td>172.500000</td>\n",
       "    </tr>\n",
       "    <tr>\n",
       "      <th>max</th>\n",
       "      <td>10.500000</td>\n",
       "      <td>9.200000</td>\n",
       "      <td>356.000000</td>\n",
       "    </tr>\n",
       "  </tbody>\n",
       "</table>\n",
       "</div>"
      ],
      "text/plain": [
       "          height      width        mass\n",
       "count  44.000000  44.000000   44.000000\n",
       "mean    7.643182   7.038636  159.090909\n",
       "std     1.370350   0.835886   53.316876\n",
       "min     4.000000   5.800000   76.000000\n",
       "25%     7.200000   6.175000  127.500000\n",
       "50%     7.600000   7.200000  157.000000\n",
       "75%     8.250000   7.500000  172.500000\n",
       "max    10.500000   9.200000  356.000000"
      ]
     },
     "execution_count": 50,
     "metadata": {},
     "output_type": "execute_result"
    }
   ],
   "source": [
    "X_train.describe()"
   ]
  },
  {
   "cell_type": "code",
   "execution_count": 51,
   "id": "0b9fd57f",
   "metadata": {},
   "outputs": [
    {
     "name": "stderr",
     "output_type": "stream",
     "text": [
      "/Users/Kaemyuijang/opt/anaconda3/lib/python3.7/site-packages/mlxtend/plotting/decision_regions.py:279: UserWarning: You passed a edgecolor/edgecolors ('black') for an unfilled marker ('x').  Matplotlib is ignoring the edgecolor in favor of the facecolor.  This behavior may change in the future.\n"
     ]
    },
    {
     "data": {
      "text/plain": [
       "Text(0.5, 1.0, 'Feature 3 (height) = 7.6')"
      ]
     },
     "execution_count": 51,
     "metadata": {},
     "output_type": "execute_result"
    },
    {
     "data": {
      "image/png": "[encoded data removed]",
      "text/plain": [
       "<Figure size 432x288 with 1 Axes>"
      ]
     },
     "metadata": {
      "filenames": {
       "image/png": "/Users/Kaemyuijang/SCMA248/_build/jupyter_execute/Chapter7_Introduction_Machine_Learning-Copy1_87_2.png"
      },
      "needs_background": "light"
     },
     "output_type": "display_data"
    }
   ],
   "source": [
    "knn = KNeighborsClassifier(n_neighbors = 5)\n",
    "knn.fit(X_train.values, y_train.values)\n",
    "\n",
    "# Plotting decision regions\n",
    "fig, ax = plt.subplots()\n",
    "\n",
    "# Decision region for feature 1 = height = value\n",
    "value=7.6\n",
    "# Plot training sample with feature 1 = height = value +/- width\n",
    "width=2.6\n",
    "\n",
    "fig = plot_decision_regions(X_train.values, y_train.values, clf=knn,\n",
    "              feature_index=[1,2],               #these one will be plotted  \n",
    "              filler_feature_values={0: value},  #these will be ignored\n",
    "              filler_feature_ranges={0: width})\n",
    "ax.set_xlabel('Feature 1 (width)')\n",
    "ax.set_ylabel('Feature 2 (mass)')\n",
    "ax.set_title('Feature 3 (height) = {}'.format(value))"
   ]
  },
  {
   "cell_type": "code",
   "execution_count": null,
   "id": "af695e6f",
   "metadata": {},
   "outputs": [],
   "source": []
  },
  {
   "cell_type": "markdown",
   "id": "b2706449",
   "metadata": {},
   "source": [
    "#### Width-height visualization"
   ]
  },
  {
   "cell_type": "code",
   "execution_count": 52,
   "id": "9d070d3b",
   "metadata": {},
   "outputs": [
    {
     "name": "stderr",
     "output_type": "stream",
     "text": [
      "/Users/Kaemyuijang/opt/anaconda3/lib/python3.7/site-packages/mlxtend/plotting/decision_regions.py:279: UserWarning: You passed a edgecolor/edgecolors ('black') for an unfilled marker ('x').  Matplotlib is ignoring the edgecolor in favor of the facecolor.  This behavior may change in the future.\n"
     ]
    },
    {
     "data": {
      "text/plain": [
       "Text(0.5, 1.0, 'Feature 3 (height) = 160')"
      ]
     },
     "execution_count": 52,
     "metadata": {},
     "output_type": "execute_result"
    },
    {
     "data": {
      "image/png": "[encoded data removed]",
      "text/plain": [
       "<Figure size 432x288 with 1 Axes>"
      ]
     },
     "metadata": {
      "filenames": {
       "image/png": "/Users/Kaemyuijang/SCMA248/_build/jupyter_execute/Chapter7_Introduction_Machine_Learning-Copy1_90_2.png"
      },
      "needs_background": "light"
     },
     "output_type": "display_data"
    }
   ],
   "source": [
    "#### Applying KNN classfication with only two features\n",
    "\n",
    "X_train[['width','height']].to_numpy()\n",
    "y_train.to_numpy()\n",
    "\n",
    "knn = KNeighborsClassifier(n_neighbors = 5)\n",
    "knn.fit(X_train[['width','height']].to_numpy(), y_train.to_numpy())\n",
    "\n",
    "# Plotting decision regions\n",
    "fig, ax = plt.subplots()\n",
    "\n",
    "# Decision region for feature 3 = mass = value\n",
    "value=160\n",
    "# Plot training sample with feature 3 = mass = value +/- width\n",
    "width=50\n",
    "\n",
    "fig = plot_decision_regions(X_train[['width','height']].to_numpy(), y_train.to_numpy(), clf=knn)\n",
    "ax.set_xlabel('Feature 1 (width)')\n",
    "ax.set_ylabel('Feature 2 (mass)')\n",
    "ax.set_title('Feature 3 (height) = {}'.format(value))\n"
   ]
  },
  {
   "cell_type": "code",
   "execution_count": 53,
   "id": "0120c7ee",
   "metadata": {},
   "outputs": [
    {
     "name": "stderr",
     "output_type": "stream",
     "text": [
      "/Users/Kaemyuijang/opt/anaconda3/lib/python3.7/site-packages/mlxtend/plotting/decision_regions.py:279: UserWarning: You passed a edgecolor/edgecolors ('black') for an unfilled marker ('x').  Matplotlib is ignoring the edgecolor in favor of the facecolor.  This behavior may change in the future.\n"
     ]
    },
    {
     "data": {
      "text/plain": [
       "Text(0.5, 1.0, 'Feature 3 (mass) = 160')"
      ]
     },
     "execution_count": 53,
     "metadata": {},
     "output_type": "execute_result"
    },
    {
     "data": {
      "image/png": "[encoded data removed]",
      "text/plain": [
       "<Figure size 432x288 with 1 Axes>"
      ]
     },
     "metadata": {
      "filenames": {
       "image/png": "/Users/Kaemyuijang/SCMA248/_build/jupyter_execute/Chapter7_Introduction_Machine_Learning-Copy1_91_2.png"
      },
      "needs_background": "light"
     },
     "output_type": "display_data"
    }
   ],
   "source": [
    "knn = KNeighborsClassifier(n_neighbors = 5)\n",
    "knn.fit(X_train.values, y_train.values)\n",
    "\n",
    "# Plotting decision regions\n",
    "fig, ax = plt.subplots()\n",
    "\n",
    "# Decision region for feature 3 = mass = value\n",
    "value=160\n",
    "# Plot training sample with feature 3 = mass = value +/- width\n",
    "width=100\n",
    "\n",
    "fig = plot_decision_regions(X_train.values, y_train.values, clf=knn,\n",
    "              feature_index=[1,0],               #these one will be plotted  \n",
    "              filler_feature_values={2: value},  #these will be ignored\n",
    "              filler_feature_ranges={2: width})\n",
    "ax.set_xlabel('Feature 1 (width)')\n",
    "ax.set_ylabel('Feature 2 (height)')\n",
    "ax.set_title('Feature 3 (mass) = {}'.format(value))"
   ]
  },
  {
   "cell_type": "markdown",
   "id": "ec6a6a44",
   "metadata": {},
   "source": [
    "#### Visualize (from scratch) the decision regions of a classifier"
   ]
  },
  {
   "cell_type": "code",
   "execution_count": 54,
   "id": "926bb98a",
   "metadata": {},
   "outputs": [],
   "source": [
    "from matplotlib.colors import ListedColormap\n",
    "from sklearn import neighbors\n",
    "\n"
   ]
  },
  {
   "cell_type": "code",
   "execution_count": 55,
   "id": "a9a6a2b3",
   "metadata": {},
   "outputs": [],
   "source": [
    "#X = df[['height', 'width']].to_numpy()\n",
    "#y = df['fruit_label'].to_numpy()"
   ]
  },
  {
   "cell_type": "code",
   "execution_count": 56,
   "id": "cb746eec",
   "metadata": {},
   "outputs": [
    {
     "data": {
      "image/png": "[encoded data removed]",
      "text/plain": [
       "<Figure size 576x432 with 1 Axes>"
      ]
     },
     "metadata": {
      "filenames": {
       "image/png": "/Users/Kaemyuijang/SCMA248/_build/jupyter_execute/Chapter7_Introduction_Machine_Learning-Copy1_95_0.png"
      },
      "needs_background": "light"
     },
     "output_type": "display_data"
    },
    {
     "data": {
      "image/png": "[encoded data removed]",
      "text/plain": [
       "<Figure size 576x432 with 1 Axes>"
      ]
     },
     "metadata": {
      "filenames": {
       "image/png": "/Users/Kaemyuijang/SCMA248/_build/jupyter_execute/Chapter7_Introduction_Machine_Learning-Copy1_95_1.png"
      },
      "needs_background": "light"
     },
     "output_type": "display_data"
    }
   ],
   "source": [
    "# The code below has been modified based on https://scikit-learn.org/stable/auto_examples/neighbors/plot_classification.html\n",
    "\n",
    "# we only take the first two features. We could avoid this ugly\n",
    "# slicing by using a two-dim dataset\n",
    "#X = iris.data[:, :2]\n",
    "#y = iris.target\n",
    "\n",
    "X = df[['height', 'width']].to_numpy()\n",
    "y = df['fruit_label'].to_numpy()\n",
    "\n",
    "n_neighbors = 5\n",
    "\n",
    "h = 0.02  # step size in the mesh\n",
    "\n",
    "# Create color maps\n",
    "cmap_light = ListedColormap([\"orange\", \"cyan\", \"cornflowerblue\",\"green\"])\n",
    "cmap_bold = [\"darkorange\", \"c\", \"darkblue\",\"darkgreen\"]\n",
    "\n",
    "for weights in [\"uniform\", \"distance\"]:\n",
    "    # we create an instance of Neighbours Classifier and fit the data.\n",
    "    clf = neighbors.KNeighborsClassifier(n_neighbors, weights=weights)\n",
    "    clf.fit(X, y)\n",
    "\n",
    "    # Plot the decision boundary. For that, we will assign a color to each\n",
    "    # point in the mesh [x_min, x_max]x[y_min, y_max].\n",
    "    x_min, x_max = X[:, 0].min() - 1, X[:, 0].max() + 1\n",
    "    y_min, y_max = X[:, 1].min() - 1, X[:, 1].max() + 1\n",
    "    xx, yy = np.meshgrid(np.arange(x_min, x_max, h), np.arange(y_min, y_max, h))\n",
    "    Z = clf.predict(np.c_[xx.ravel(), yy.ravel()])\n",
    "\n",
    "    # Put the result into a color plot\n",
    "    Z = Z.reshape(xx.shape)\n",
    "    plt.figure(figsize=(8, 6))\n",
    "    plt.contourf(xx, yy, Z, cmap=cmap_light)\n",
    "\n",
    "    # Plot also the training points\n",
    "    sns.scatterplot(\n",
    "        x=X[:, 0],\n",
    "        y=X[:, 1],\n",
    "        hue= df.fruit_name.to_numpy(),\n",
    "        palette=cmap_bold,\n",
    "        alpha=1.0,\n",
    "        edgecolor=\"black\",\n",
    "    )\n",
    "    plt.xlim(xx.min(), xx.max())\n",
    "    plt.ylim(yy.min(), yy.max())\n",
    "    plt.title(\n",
    "        \"3-Class classification (k = %i, weights = '%s')\" % (n_neighbors, weights)\n",
    "    )\n",
    "    plt.xlabel('height')\n",
    "    plt.ylabel('width')\n",
    "\n",
    "plt.show()"
   ]
  },
  {
   "cell_type": "code",
   "execution_count": 57,
   "id": "d0902bd3",
   "metadata": {},
   "outputs": [],
   "source": [
    "#https://stackoverflow.com/questions/52952310/plot-decision-regions-with-error-filler-values-must-be-provided-when-x-has-more\n",
    "# You can use PCA to reduce your data multi-dimensional data to two dimensional data. Then pass the obtained result in plot_decision_region and there will be no need of filler values.\n",
    "\n",
    "from mlxtend.plotting import plot_decision_regions"
   ]
  },
  {
   "cell_type": "code",
   "execution_count": 58,
   "id": "93196201",
   "metadata": {},
   "outputs": [
    {
     "name": "stderr",
     "output_type": "stream",
     "text": [
      "/Users/Kaemyuijang/opt/anaconda3/lib/python3.7/site-packages/sklearn/base.py:446: UserWarning: X does not have valid feature names, but KNeighborsClassifier was fitted with feature names\n",
      "/Users/Kaemyuijang/opt/anaconda3/lib/python3.7/site-packages/mlxtend/plotting/decision_regions.py:279: UserWarning: You passed a edgecolor/edgecolors ('black') for an unfilled marker ('x').  Matplotlib is ignoring the edgecolor in favor of the facecolor.  This behavior may change in the future.\n"
     ]
    },
    {
     "data": {
      "text/plain": [
       "<AxesSubplot:>"
      ]
     },
     "execution_count": 58,
     "metadata": {},
     "output_type": "execute_result"
    },
    {
     "data": {
      "image/png": "[encoded data removed]",
      "text/plain": [
       "<Figure size 432x288 with 1 Axes>"
      ]
     },
     "metadata": {
      "filenames": {
       "image/png": "/Users/Kaemyuijang/SCMA248/_build/jupyter_execute/Chapter7_Introduction_Machine_Learning-Copy1_97_2.png"
      },
      "needs_background": "light"
     },
     "output_type": "display_data"
    }
   ],
   "source": [
    "# Decision region of the training set\n",
    "\n",
    "X = df[['height', 'width']]\n",
    "y = df['fruit_label']\n",
    "X_train, X_test, y_train, y_test = train_test_split(X, y, test_size=0.25, random_state=0)\n",
    "\n",
    "clf = KNeighborsClassifier(n_neighbors = 5)\n",
    "clf.fit(X_train,y_train)\n",
    "\n",
    "plot_decision_regions(X_train.to_numpy(), y_train.to_numpy(), clf=clf, legend=2)"
   ]
  },
  {
   "cell_type": "code",
   "execution_count": 59,
   "id": "c1f1caa3",
   "metadata": {},
   "outputs": [
    {
     "name": "stderr",
     "output_type": "stream",
     "text": [
      "/Users/Kaemyuijang/opt/anaconda3/lib/python3.7/site-packages/sklearn/base.py:446: UserWarning: X does not have valid feature names, but KNeighborsClassifier was fitted with feature names\n",
      "/Users/Kaemyuijang/opt/anaconda3/lib/python3.7/site-packages/mlxtend/plotting/decision_regions.py:279: UserWarning: You passed a edgecolor/edgecolors ('black') for an unfilled marker ('x').  Matplotlib is ignoring the edgecolor in favor of the facecolor.  This behavior may change in the future.\n"
     ]
    },
    {
     "data": {
      "text/plain": [
       "<AxesSubplot:>"
      ]
     },
     "execution_count": 59,
     "metadata": {},
     "output_type": "execute_result"
    },
    {
     "data": {
      "image/png": "[encoded data removed]",
      "text/plain": [
       "<Figure size 432x288 with 1 Axes>"
      ]
     },
     "metadata": {
      "filenames": {
       "image/png": "/Users/Kaemyuijang/SCMA248/_build/jupyter_execute/Chapter7_Introduction_Machine_Learning-Copy1_98_2.png"
      },
      "needs_background": "light"
     },
     "output_type": "display_data"
    }
   ],
   "source": [
    "# Decision region of the test set\n",
    "\n",
    "plot_decision_regions(X_test.to_numpy(), y_test.to_numpy(), clf=clf, legend=2)"
   ]
  },
  {
   "cell_type": "code",
   "execution_count": null,
   "id": "fb3e9a9c",
   "metadata": {},
   "outputs": [],
   "source": []
  },
  {
   "cell_type": "markdown",
   "id": "415df9a7",
   "metadata": {},
   "source": [
    "## Model Evaluation Metrics in Machine Learning\n",
    "\n",
    "Machine learning has become extremely popular in recent years. Machine learning is used to infer new situations from past data, and there are far too many machine learning algorithms to choose from.\n",
    "\n",
    "Machine learning techniques such as \n",
    "\n",
    "* linear regression, \n",
    "\n",
    "* logistic regression, \n",
    "\n",
    "* decision tree, \n",
    "\n",
    "* Naive Bayes, K-Means, and \n",
    "\n",
    "* Random Forest \n",
    "\n",
    "are widely used. \n",
    "\n",
    "When it comes to predicting data, we **do not use just one algorithm**. Sometimes we use multiple algorithms and then proceed with the one that gives the best data predictions. \n",
    "\n",
    "### How can we figure out which algorithm is the most effective? \n",
    "\n",
    "Model evaluation metrics allow us to evaluate the accuracy of our trained model and track its performance. \n",
    "\n",
    "Model evaluation metrics, which distinguish adaptive from non-adaptive machine learning models, indicate how effectively the model generalizes to new data.\n",
    "\n",
    "We could improve the overall predictive power of our model before using it for production on unknown data by using different performance evaluation metrics. \n",
    "\n",
    "Choosing the right metric is very important when evaluating machine learning models. Machine learning models are evaluated using a variety of metrics in different applications. Let us look at the metrics for evaluating the performance of a machine learning model. \n",
    "\n",
    "This is a critical phase in any data science project as it aims to estimate the generalization accuracy of a model for future data."
   ]
  },
  {
   "cell_type": "markdown",
   "id": "5366fe2a",
   "metadata": {},
   "source": [
    "**Evaluation Metrics For Regression Models**: image from enjoyalgorithms\n",
    "![Evaluation Metrics For Regression Models from enjoyalgorithms](https://www.enjoyalgorithms.com/static/evaluation-metrics-regression-models-cover-6422d3e49173675d75d121740c04d450.jpg)"
   ]
  },
  {
   "cell_type": "markdown",
   "id": "3b5b5c3f",
   "metadata": {},
   "source": [
    "**Evaluation Metrics For Classification Models**: image from enjoyalgorithms\n",
    "![Evaluation Metrics For Classification Models from enjoyalgorithms](https://www.enjoyalgorithms.com/static/evaluation-metrics-classification-models-cover-4f403c2e47e719b4389b4b2d05d71c34.jpg)"
   ]
  },
  {
   "cell_type": "markdown",
   "id": "5d3fd3cc",
   "metadata": {},
   "source": [
    "#### Regression Related Metrics\n",
    "\n",
    "The most common measures for evaluating a regression model (as used in our previous chapter) are:\n",
    "\n",
    "* **Mean Absolute Error (MAE)**: The average of the difference between the actual and anticipated values is the Mean Absolute Error. It determines how close the predictions are to the actual results. The better the model, the lower the MAE.\n",
    "\n",
    "* **Mean Squared Error (MSE)**: The average of the square of the difference between the actual and predicted values is calculated by MSE.\n",
    "\n",
    "* **R2 score**: The proportion of variance in Y that can be explained by X is called the R2 score."
   ]
  },
  {
   "cell_type": "markdown",
   "id": "6e672e21",
   "metadata": {},
   "source": [
    "#### Classification Metrics\n",
    "\n",
    "1. **Confusion Matrix (Accuracy, Sensitivity, and Specificity)**\n",
    "\n",
    "A confusion matrix contains the results of any binary testing that is commonly used to describe the classification model's performance.\n",
    "\n",
    "In a binary classification task, there are only two classes to categorize, preferably a **positive class** and a **negative class**. \n",
    "\n",
    "Let us take a look at the metrics of the confusion matrix.\n",
    "\n",
    "* **Accuracy**: indicates the overall accuracy of the model, i.e., the percentage of all samples that were correctly identified by the classifier. Use the following formula to calculate accuracy: \n",
    "(TP +TN)/(TP +TN+ FP +FN).\n",
    "\n",
    "    * True Positive (TP): This is the number of times the classifier successfully predicted the positive class to be positive.\n",
    "\n",
    "    * True Negative (TN): The number of times the classifier correctly predicts the negative class as negative.\n",
    "\n",
    "    * False Positive (FP): This term refers to the number of times a classifier incorrectly predicts a negative class as positive.\n",
    "\n",
    "    * False Negative (FN): This is the number of times the classifier predicts the positive class as negative.\n",
    "\n",
    "\n",
    "* **The misclassification rate**: tells you what percentage of predictions were incorrect. It is also called classification error. You can calculate it with (FP +FN)/(TP +TN+ FP +FN) or (1-accuracy).\n",
    "\n",
    "* **Sensitivity (or Recall)**: It indicates the proportion of all positive samples that were correctly predicted to be positive by the classifier. It is also referred to as **true positive rate (TPR), sensitivity, or probability of detection**. To calculate recall, use the following formula: TP /(TP +FN).\n",
    "\n",
    "* **Specificity**: it indicates the proportion of all negative samples that are correctly predicted to be negative by the classifier. It is also referred to as the **True Negative Rate (TNR)**. To calculate the specificity, use the following formula: TN /(TN +FP).\n",
    "\n",
    "2. **Precision**: When there is an **imbalance between classes**, accuracy can become an unreliable metric for measuring our performance. Therefore, we also need to address class-specific performance metrics. Precision is one such metric, defined as **positive predictive values** (Proportion of predictions as positive class were actually positive). To calculate precision, use the following formula: TP/(TP+FP).\n",
    "\n",
    "3. **F1-score**: it combines precision and recall in a single measure. Mathematically, it is the harmonic mean of Precision and Recall. It can be calculated as follows:\n",
    "\n",
    "$${\\displaystyle F_{1}={\\frac {2}{\\mathrm {recall^{-1}} +\\mathrm {precision^{-1}} }}=2\\cdot {\\frac {\\mathrm {precision} \\cdot \\mathrm {recall} }{\\mathrm {precision} +\\mathrm {recall} }}={\\frac {\\mathrm {tp} }{\\mathrm {tp} +{\\frac {1}{2}}(\\mathrm {fp} +\\mathrm {fn} )}}}.$$\n",
    "\n",
    "In a perfect world, we would want a model that has a precision of 1 and a recall of 1. This means an F1 score of 1, i.e. 100% accuracy, which is often not the case for a machine learning model. So we should try to achieve a higher precision with a higher recall value. "
   ]
  },
  {
   "cell_type": "markdown",
   "id": "9cb04f97",
   "metadata": {},
   "source": [
    "**Confusion Matrix for Binary Classification**: image from https://towardsdatascience.com/\n",
    "![Confusion Matrix for Binary Classification image from https://towardsdatascience.com/](https://miro.medium.com/max/700/1*fxiTNIgOyvAombPJx5KGeA.png)\n",
    "\n"
   ]
  },
  {
   "cell_type": "markdown",
   "id": "294816ac",
   "metadata": {},
   "source": [
    "**Confusion Matrix for Multi-class Classification**: image from https://towardsdatascience.com/\n",
    "![Confusion Matrix for Multi-class Classification image from https://towardsdatascience.com/](https://miro.medium.com/max/700/1*yH2SM0DIUQlEiveK42NnBg.png)"
   ]
  },
  {
   "cell_type": "code",
   "execution_count": 60,
   "id": "813fdabe",
   "metadata": {},
   "outputs": [],
   "source": [
    "# Importing a dataset\n",
    "url = 'https://raw.githubusercontent.com/susanli2016/Machine-Learning-with-Python/master/fruit_data_with_colors.txt'\n",
    "df = pd.read_table(url)  \n",
    "\n",
    "# Train Test Split\n",
    "\n",
    "X = df[['height', 'width', 'mass']]\n",
    "y = df['fruit_label']\n",
    "X_train, X_test, y_train, y_test = train_test_split(X, y, test_size=0.25, random_state=0)\n",
    "\n",
    "# Instantiate the estimator\n",
    "from sklearn.neighbors import KNeighborsClassifier\n",
    "knn = KNeighborsClassifier(n_neighbors = 5)\n",
    "\n",
    "# Training the classifier by passing in the training set X_train and the labels in y_train\n",
    "knn.fit(X_train,y_train)\n",
    "\n",
    "# Predicting labels for unknown data\n",
    "y_pred = knn.predict(X_test)"
   ]
  },
  {
   "cell_type": "code",
   "execution_count": 61,
   "id": "2d2b37fe",
   "metadata": {},
   "outputs": [
    {
     "name": "stdout",
     "output_type": "stream",
     "text": [
      "Confusion Matrix\n",
      "\n",
      "[[3 0 0 1]\n",
      " [0 1 0 0]\n",
      " [3 0 3 2]\n",
      " [0 0 1 1]]\n"
     ]
    }
   ],
   "source": [
    "#importing confusion matrix\n",
    "\n",
    "from sklearn.metrics import confusion_matrix, ConfusionMatrixDisplay\n",
    "confusion = confusion_matrix(y_test, y_pred)\n",
    "print('Confusion Matrix\\n')\n",
    "print(confusion)"
   ]
  },
  {
   "cell_type": "code",
   "execution_count": 62,
   "id": "c5940ee2",
   "metadata": {},
   "outputs": [
    {
     "data": {
      "text/plain": [
       "<sklearn.metrics._plot.confusion_matrix.ConfusionMatrixDisplay at 0x1245dee90>"
      ]
     },
     "execution_count": 62,
     "metadata": {},
     "output_type": "execute_result"
    },
    {
     "data": {
      "image/png": "[encoded data removed]",
      "text/plain": [
       "<Figure size 432x288 with 2 Axes>"
      ]
     },
     "metadata": {
      "filenames": {
       "image/png": "/Users/Kaemyuijang/SCMA248/_build/jupyter_execute/Chapter7_Introduction_Machine_Learning-Copy1_109_1.png"
      },
      "needs_background": "light"
     },
     "output_type": "display_data"
    }
   ],
   "source": [
    "# Confusion Matrix visualization.\n",
    "\n",
    "cm = confusion_matrix(y_test, y_pred, labels=knn.classes_)\n",
    "disp = ConfusionMatrixDisplay(confusion_matrix=cm,display_labels=knn.classes_)\n",
    "disp.plot()\n"
   ]
  },
  {
   "cell_type": "code",
   "execution_count": 63,
   "id": "f9737891",
   "metadata": {},
   "outputs": [
    {
     "data": {
      "text/html": [
       "<div>\n",
       "<style scoped>\n",
       "    .dataframe tbody tr th:only-of-type {\n",
       "        vertical-align: middle;\n",
       "    }\n",
       "\n",
       "    .dataframe tbody tr th {\n",
       "        vertical-align: top;\n",
       "    }\n",
       "\n",
       "    .dataframe thead th {\n",
       "        text-align: right;\n",
       "    }\n",
       "</style>\n",
       "<table border=\"1\" class=\"dataframe\">\n",
       "  <thead>\n",
       "    <tr style=\"text-align: right;\">\n",
       "      <th></th>\n",
       "      <th>observed</th>\n",
       "      <th>predicted</th>\n",
       "    </tr>\n",
       "  </thead>\n",
       "  <tbody>\n",
       "    <tr>\n",
       "      <th>11</th>\n",
       "      <td>1</td>\n",
       "      <td>1</td>\n",
       "    </tr>\n",
       "    <tr>\n",
       "      <th>2</th>\n",
       "      <td>1</td>\n",
       "      <td>1</td>\n",
       "    </tr>\n",
       "    <tr>\n",
       "      <th>22</th>\n",
       "      <td>1</td>\n",
       "      <td>4</td>\n",
       "    </tr>\n",
       "    <tr>\n",
       "      <th>10</th>\n",
       "      <td>1</td>\n",
       "      <td>1</td>\n",
       "    </tr>\n",
       "    <tr>\n",
       "      <th>4</th>\n",
       "      <td>2</td>\n",
       "      <td>2</td>\n",
       "    </tr>\n",
       "    <tr>\n",
       "      <th>26</th>\n",
       "      <td>3</td>\n",
       "      <td>3</td>\n",
       "    </tr>\n",
       "    <tr>\n",
       "      <th>35</th>\n",
       "      <td>3</td>\n",
       "      <td>1</td>\n",
       "    </tr>\n",
       "    <tr>\n",
       "      <th>28</th>\n",
       "      <td>3</td>\n",
       "      <td>4</td>\n",
       "    </tr>\n",
       "    <tr>\n",
       "      <th>34</th>\n",
       "      <td>3</td>\n",
       "      <td>3</td>\n",
       "    </tr>\n",
       "    <tr>\n",
       "      <th>40</th>\n",
       "      <td>3</td>\n",
       "      <td>1</td>\n",
       "    </tr>\n",
       "    <tr>\n",
       "      <th>30</th>\n",
       "      <td>3</td>\n",
       "      <td>3</td>\n",
       "    </tr>\n",
       "    <tr>\n",
       "      <th>41</th>\n",
       "      <td>3</td>\n",
       "      <td>1</td>\n",
       "    </tr>\n",
       "    <tr>\n",
       "      <th>33</th>\n",
       "      <td>3</td>\n",
       "      <td>4</td>\n",
       "    </tr>\n",
       "    <tr>\n",
       "      <th>43</th>\n",
       "      <td>4</td>\n",
       "      <td>4</td>\n",
       "    </tr>\n",
       "    <tr>\n",
       "      <th>46</th>\n",
       "      <td>4</td>\n",
       "      <td>3</td>\n",
       "    </tr>\n",
       "  </tbody>\n",
       "</table>\n",
       "</div>"
      ],
      "text/plain": [
       "    observed  predicted\n",
       "11         1          1\n",
       "2          1          1\n",
       "22         1          4\n",
       "10         1          1\n",
       "4          2          2\n",
       "26         3          3\n",
       "35         3          1\n",
       "28         3          4\n",
       "34         3          3\n",
       "40         3          1\n",
       "30         3          3\n",
       "41         3          1\n",
       "33         3          4\n",
       "43         4          4\n",
       "46         4          3"
      ]
     },
     "execution_count": 63,
     "metadata": {},
     "output_type": "execute_result"
    }
   ],
   "source": [
    "pd.DataFrame({'observed': y_test ,'predicted':knn.predict(X_test)}).set_index(X_test.index).sort_values(by = 'observed') "
   ]
  },
  {
   "cell_type": "markdown",
   "id": "7a88355d",
   "metadata": {},
   "source": [
    "Unlike the binary classification, there are no positive or negative classes here. \n",
    "\n",
    "At first glance, it might be a little difficult to find TP, TN, FP, and FN since there are no positive or negative classes, but it's actually pretty simple. \n",
    "\n",
    "What we need to do here is find TP, TN, FP and FN for each and every class. For example, let us take the **Apple class**. Let us look at what values the metrics have in the confusion matrix.\n",
    "(DO NOT FORGET TO TRANSPOSE)\n",
    "\n",
    "* TP = 3\n",
    "\n",
    "* TN = (1 + 3 + 2 + 1 + 1) = 8 (the sum of the numbers in rows 2-4 and columns 2-4)\n",
    "\n",
    "* FP = (0 + 3 + 0) = 3\n",
    "\n",
    "* FN = (0 + 0 + 1) = 1\n",
    "\n",
    "Now that we have all the necessary metrics for the Apple class from the confusion matrix, we can calculate the performance metrics for the Apple class. For example, the class Apple has\n",
    "\n",
    "* Precision = 3/(3+3) = 0.5\n",
    "\n",
    "* Recall = 3/(3+1) = 0.75\n",
    "\n",
    "* F1-score = 0.60\n",
    "\n",
    "\n",
    "In a similar way, we can calculate the measures for the other classes. Here is a table showing the values of each measure for each class."
   ]
  },
  {
   "cell_type": "code",
   "execution_count": 64,
   "id": "116843cb",
   "metadata": {},
   "outputs": [
    {
     "name": "stdout",
     "output_type": "stream",
     "text": [
      "\n",
      "Classification Report\n",
      "\n",
      "              precision    recall  f1-score   support\n",
      "\n",
      "     Class 1       0.50      0.75      0.60         4\n",
      "     Class 2       1.00      1.00      1.00         1\n",
      "     Class 3       0.75      0.38      0.50         8\n",
      "     Class 4       0.25      0.50      0.33         2\n",
      "\n",
      "    accuracy                           0.53        15\n",
      "   macro avg       0.62      0.66      0.61        15\n",
      "weighted avg       0.63      0.53      0.54        15\n",
      "\n"
     ]
    }
   ],
   "source": [
    "from sklearn.metrics import classification_report\n",
    "print('\\nClassification Report\\n')\n",
    "print(classification_report(y_test, y_pred, target_names=['Class 1', 'Class 2', 'Class 3', 'Class 4']))"
   ]
  },
  {
   "cell_type": "markdown",
   "id": "68ac9bfb",
   "metadata": {},
   "source": [
    "Now we can do more with these measures. We can combine the F1 score of each class to get a single measure for the entire model. There are several ways to do this, which we will now look at.\n",
    "\n",
    "* **Macro F1**\n",
    "This is the macro-averaged F1 score. It calculates the metrics for each class separately and then takes the unweighted average of the measures. As we saw in the figure \"Precision, recall and F1 score for each class\",\n",
    "\n",
    "* **Weighted F1**\n",
    "The final value is the weighted mean F1 score. Unlike Macro F1, this uses a weighted mean of the measures. The weights for each class are the total number of samples in that class. Since we had 4 apples, 1 mandarin, 8 oranges, and 3 lemons,"
   ]
  },
  {
   "cell_type": "markdown",
   "id": "3ff05187",
   "metadata": {},
   "source": [
    "We obtain a classficiation rate of 53.3%, considered as good accuracy. \n",
    "\n",
    "Can we further improve the accuracy of the KNN algorithm? "
   ]
  },
  {
   "cell_type": "markdown",
   "id": "a5d5d023",
   "metadata": {},
   "source": [
    "In our example, we have created an instance ('knn') of the class 'KNeighborsClassifer,' which means we have constructed an object called 'knn' that knows how to perform KNN classification once the data is provided. \n",
    "\n",
    "The tuning parameter/hyper parameter (K) is the parameter **n_neighbors**. All other parameters are set to default values.\n",
    "\n",
    "**Exercises**\n",
    "\n",
    "1. Fit the model and test it for different values for K (from 1 to 5) using a for loop and record the KNN's testing accuracy of the KNN in a variable.\n",
    "\n",
    "2. Plot the relationship between the values of K and the corresponding testing accuracy.\n",
    "\n",
    "3. Select the optimal value of K that gives the highest testing accuray.\n",
    "\n",
    "4. Compare the results between the optimal value of K and K = 5."
   ]
  },
  {
   "cell_type": "code",
   "execution_count": 65,
   "id": "21214c54",
   "metadata": {},
   "outputs": [],
   "source": [
    "# Importing a dataset\n",
    "url = 'https://raw.githubusercontent.com/susanli2016/Machine-Learning-with-Python/master/fruit_data_with_colors.txt'\n",
    "df = pd.read_table(url)  \n",
    "\n",
    "# Train Test Split\n",
    "\n",
    "X = df[['height', 'width', 'mass']]\n",
    "y = df['fruit_label']\n",
    "X_train, X_test, y_train, y_test = train_test_split(X, y, test_size=0.25, random_state=0)\n",
    "\n",
    "# Instantiate the estimator\n",
    "from sklearn.neighbors import KNeighborsClassifier\n",
    "knn = KNeighborsClassifier()\n",
    "\n",
    "k_range = range(1,11)\n",
    "\n",
    "train_accuracy = {}\n",
    "train_accuracy_list = []\n",
    "\n",
    "test_accuracy = {}\n",
    "test_accuracy_list = []\n",
    "\n",
    "for k in k_range:\n",
    "    knn = KNeighborsClassifier(n_neighbors = k)\n",
    "    \n",
    "    # Training the classifier by passing in the training set X_train and the labels in y_train\n",
    "    knn.fit(X_train,y_train)\n",
    "    \n",
    "    # Compute accuracy on the training set\n",
    "    train_accuracy[k] = knn.score(X_train, y_train)\n",
    "    train_accuracy_list.append(knn.score(X_train, y_train))\n",
    "    \n",
    "    \n",
    "    test_accuracy[k] = knn.score(X_test,y_test)\n",
    "    test_accuracy_list.append(knn.score(X_test,y_test))"
   ]
  },
  {
   "cell_type": "code",
   "execution_count": 66,
   "id": "d248d4e5",
   "metadata": {},
   "outputs": [
    {
     "data": {
      "image/png": "[encoded data removed]",
      "text/plain": [
       "<Figure size 640x480 with 1 Axes>"
      ]
     },
     "metadata": {
      "filenames": {
       "image/png": "/Users/Kaemyuijang/SCMA248/_build/jupyter_execute/Chapter7_Introduction_Machine_Learning-Copy1_117_0.png"
      }
     },
     "output_type": "display_data"
    },
    {
     "data": {
      "text/plain": [
       "<ggplot: (309453589)>"
      ]
     },
     "execution_count": 66,
     "metadata": {},
     "output_type": "execute_result"
    }
   ],
   "source": [
    "df_output = pd.DataFrame({'k':k_range,\n",
    "                          'train_accuracy':train_accuracy_list,\n",
    "                          'test_accuracy':test_accuracy_list\n",
    "                         })\n",
    "\n",
    "(\n",
    "    ggplot(df_output) \n",
    "    + geom_line(aes(x = 'k',  y = 'train_accuracy',color='\"training accuracy\"'))\n",
    "    + geom_line(aes(x = 'k',  y = 'test_accuracy',color='\"testing accuracy\"'))\n",
    "    + labs(x='k (n_neighbors)', y='overall accuracy')\n",
    "    + scale_color_manual(values = [\"blue\", \"green\"], # Colors\n",
    "        name = \" \")\n",
    ")"
   ]
  },
  {
   "cell_type": "code",
   "execution_count": 67,
   "id": "6a84ae1b",
   "metadata": {},
   "outputs": [
    {
     "data": {
      "text/plain": [
       "3.872983346207417"
      ]
     },
     "execution_count": 67,
     "metadata": {},
     "output_type": "execute_result"
    }
   ],
   "source": [
    "y_test.shape\n",
    "np.sqrt(15)"
   ]
  },
  {
   "cell_type": "code",
   "execution_count": 68,
   "id": "aaef05f7",
   "metadata": {},
   "outputs": [
    {
     "data": {
      "image/png": "[encoded data removed]",
      "text/plain": [
       "<Figure size 432x288 with 2 Axes>"
      ]
     },
     "metadata": {
      "filenames": {
       "image/png": "/Users/Kaemyuijang/SCMA248/_build/jupyter_execute/Chapter7_Introduction_Machine_Learning-Copy1_119_0.png"
      },
      "needs_background": "light"
     },
     "output_type": "display_data"
    }
   ],
   "source": [
    "import seaborn as sns\n",
    "import matplotlib.pyplot as plt\n",
    "\n",
    "hm = sns.heatmap(df.corr(), annot = True)\n",
    "hm.set(title = \"Correlation matrix of insurance data\\n\")\n",
    "plt.show()"
   ]
  },
  {
   "cell_type": "code",
   "execution_count": 69,
   "id": "0edce39c",
   "metadata": {},
   "outputs": [
    {
     "data": {
      "text/plain": [
       "<seaborn.axisgrid.PairGrid at 0x126f633d0>"
      ]
     },
     "execution_count": 69,
     "metadata": {},
     "output_type": "execute_result"
    },
    {
     "data": {
      "image/png": "[encoded data removed]",
      "text/plain": [
       "<Figure size 444x360 with 6 Axes>"
      ]
     },
     "metadata": {
      "filenames": {
       "image/png": "/Users/Kaemyuijang/SCMA248/_build/jupyter_execute/Chapter7_Introduction_Machine_Learning-Copy1_120_1.png"
      },
      "needs_background": "light"
     },
     "output_type": "display_data"
    }
   ],
   "source": [
    "sns.pairplot(df[['fruit_name','color_score','height']],hue='fruit_name')"
   ]
  },
  {
   "cell_type": "code",
   "execution_count": 70,
   "id": "7023a711",
   "metadata": {},
   "outputs": [],
   "source": [
    "# Importing a dataset\n",
    "url = 'https://raw.githubusercontent.com/susanli2016/Machine-Learning-with-Python/master/fruit_data_with_colors.txt'\n",
    "df = pd.read_table(url)  \n",
    "\n",
    "# Train Test Split\n",
    "\n",
    "X = df[['height', 'color_score']]\n",
    "y = df['fruit_label']\n",
    "X_train, X_test, y_train, y_test = train_test_split(X, y, test_size=0.25, random_state=0)\n",
    "\n",
    "# Instantiate the estimator\n",
    "from sklearn.neighbors import KNeighborsClassifier\n",
    "knn = KNeighborsClassifier()\n",
    "\n",
    "k_range = range(1,11)\n",
    "\n",
    "train_accuracy = {}\n",
    "train_accuracy_list = []\n",
    "\n",
    "test_accuracy = {}\n",
    "test_accuracy_list = []\n",
    "\n",
    "for k in k_range:\n",
    "    knn = KNeighborsClassifier(n_neighbors = k)\n",
    "    \n",
    "    # Training the classifier by passing in the training set X_train and the labels in y_train\n",
    "    knn.fit(X_train,y_train)\n",
    "    \n",
    "    # Compute accuracy on the training set\n",
    "    train_accuracy[k] = knn.score(X_train, y_train)\n",
    "    train_accuracy_list.append(knn.score(X_train, y_train))\n",
    "    \n",
    "    \n",
    "    test_accuracy[k] = knn.score(X_test,y_test)\n",
    "    test_accuracy_list.append(knn.score(X_test,y_test))"
   ]
  },
  {
   "cell_type": "code",
   "execution_count": 71,
   "id": "131921ac",
   "metadata": {},
   "outputs": [
    {
     "data": {
      "image/png": "[encoded data removed]",
      "text/plain": [
       "<Figure size 640x480 with 1 Axes>"
      ]
     },
     "metadata": {
      "filenames": {
       "image/png": "/Users/Kaemyuijang/SCMA248/_build/jupyter_execute/Chapter7_Introduction_Machine_Learning-Copy1_122_0.png"
      }
     },
     "output_type": "display_data"
    },
    {
     "data": {
      "text/plain": [
       "<ggplot: (309631441)>"
      ]
     },
     "execution_count": 71,
     "metadata": {},
     "output_type": "execute_result"
    }
   ],
   "source": [
    "df_output = pd.DataFrame({'k':k_range,\n",
    "                          'train_accuracy':train_accuracy_list,\n",
    "                          'test_accuracy':test_accuracy_list\n",
    "                         })\n",
    "\n",
    "(\n",
    "    ggplot(df_output) \n",
    "    + geom_line(aes(x = 'k',  y = 'train_accuracy',color='\"training accuracy\"'))\n",
    "    + geom_line(aes(x = 'k',  y = 'test_accuracy',color='\"testing accuracy\"'))\n",
    "    + labs(x='k (n_neighbors)', y='overall accuracy')\n",
    "    + scale_color_manual(values = [\"blue\", \"green\"], # Colors\n",
    "        name = \" \")\n",
    ")"
   ]
  },
  {
   "cell_type": "code",
   "execution_count": 72,
   "id": "812de891",
   "metadata": {},
   "outputs": [
    {
     "name": "stderr",
     "output_type": "stream",
     "text": [
      "/Users/Kaemyuijang/opt/anaconda3/lib/python3.7/site-packages/mlxtend/plotting/decision_regions.py:279: UserWarning: You passed a edgecolor/edgecolors ('black') for an unfilled marker ('x').  Matplotlib is ignoring the edgecolor in favor of the facecolor.  This behavior may change in the future.\n"
     ]
    },
    {
     "data": {
      "text/plain": [
       "Text(0.5, 1.0, 'Classification problem')"
      ]
     },
     "execution_count": 72,
     "metadata": {},
     "output_type": "execute_result"
    },
    {
     "data": {
      "image/png": "[encoded data removed]",
      "text/plain": [
       "<Figure size 432x288 with 1 Axes>"
      ]
     },
     "metadata": {
      "filenames": {
       "image/png": "/Users/Kaemyuijang/SCMA248/_build/jupyter_execute/Chapter7_Introduction_Machine_Learning-Copy1_123_2.png"
      },
      "needs_background": "light"
     },
     "output_type": "display_data"
    }
   ],
   "source": [
    "##### Convert pandas DataFrame to Numpy before applying classification\n",
    "\n",
    "X_train_np = X_train.to_numpy()\n",
    "y_train_np = y_train.to_numpy()\n",
    "\n",
    "X_test_np = X_test.to_numpy()\n",
    "y_test_np = y_test.to_numpy()\n",
    "\n",
    "clf = KNeighborsClassifier(n_neighbors = 4)\n",
    "clf.fit(X_train_np, y_train_np)\n",
    "\n",
    "# Plotting decision regions\n",
    "fig, ax = plt.subplots()\n",
    "\n",
    "# Decision region for feature 3 = mass = value\n",
    "value=160\n",
    "# Plot training sample with feature = mass = value +/- width\n",
    "width=20\n",
    "\n",
    "fig = plot_decision_regions(X_test_np, y_test_np, clf=clf)\n",
    "ax.set_xlabel('Feature 1 (height)')\n",
    "ax.set_ylabel('Feature 2 (color_scale)')\n",
    "ax.set_title('Classification problem')"
   ]
  },
  {
   "cell_type": "code",
   "execution_count": 73,
   "id": "3cdcade0",
   "metadata": {},
   "outputs": [
    {
     "data": {
      "text/plain": [
       "array([4, 3])"
      ]
     },
     "execution_count": 73,
     "metadata": {},
     "output_type": "execute_result"
    }
   ],
   "source": [
    "clf.predict([[ 8.5 ,  0],\n",
    "       [9.2 ,  0]])"
   ]
  },
  {
   "cell_type": "code",
   "execution_count": null,
   "id": "470edb76",
   "metadata": {},
   "outputs": [],
   "source": []
  },
  {
   "cell_type": "markdown",
   "id": "b8ab1730",
   "metadata": {},
   "source": [
    "## Scaling\n",
    "\n",
    "Because KNN uses the Euclidean distance between points to determine the closest neighboring points, all of the data must be on the same scale."
   ]
  },
  {
   "cell_type": "code",
   "execution_count": 74,
   "id": "96b23bc3",
   "metadata": {},
   "outputs": [
    {
     "data": {
      "text/html": [
       "<div>\n",
       "<style scoped>\n",
       "    .dataframe tbody tr th:only-of-type {\n",
       "        vertical-align: middle;\n",
       "    }\n",
       "\n",
       "    .dataframe tbody tr th {\n",
       "        vertical-align: top;\n",
       "    }\n",
       "\n",
       "    .dataframe thead th {\n",
       "        text-align: right;\n",
       "    }\n",
       "</style>\n",
       "<table border=\"1\" class=\"dataframe\">\n",
       "  <thead>\n",
       "    <tr style=\"text-align: right;\">\n",
       "      <th></th>\n",
       "      <th>fruit_label</th>\n",
       "      <th>fruit_name</th>\n",
       "      <th>fruit_subtype</th>\n",
       "      <th>mass</th>\n",
       "      <th>width</th>\n",
       "      <th>height</th>\n",
       "      <th>color_score</th>\n",
       "    </tr>\n",
       "  </thead>\n",
       "  <tbody>\n",
       "    <tr>\n",
       "      <th>0</th>\n",
       "      <td>1</td>\n",
       "      <td>apple</td>\n",
       "      <td>granny_smith</td>\n",
       "      <td>192</td>\n",
       "      <td>8.4</td>\n",
       "      <td>7.3</td>\n",
       "      <td>0.55</td>\n",
       "    </tr>\n",
       "    <tr>\n",
       "      <th>1</th>\n",
       "      <td>1</td>\n",
       "      <td>apple</td>\n",
       "      <td>granny_smith</td>\n",
       "      <td>180</td>\n",
       "      <td>8.0</td>\n",
       "      <td>6.8</td>\n",
       "      <td>0.59</td>\n",
       "    </tr>\n",
       "    <tr>\n",
       "      <th>2</th>\n",
       "      <td>1</td>\n",
       "      <td>apple</td>\n",
       "      <td>granny_smith</td>\n",
       "      <td>176</td>\n",
       "      <td>7.4</td>\n",
       "      <td>7.2</td>\n",
       "      <td>0.60</td>\n",
       "    </tr>\n",
       "    <tr>\n",
       "      <th>3</th>\n",
       "      <td>2</td>\n",
       "      <td>mandarin</td>\n",
       "      <td>mandarin</td>\n",
       "      <td>86</td>\n",
       "      <td>6.2</td>\n",
       "      <td>4.7</td>\n",
       "      <td>0.80</td>\n",
       "    </tr>\n",
       "    <tr>\n",
       "      <th>4</th>\n",
       "      <td>2</td>\n",
       "      <td>mandarin</td>\n",
       "      <td>mandarin</td>\n",
       "      <td>84</td>\n",
       "      <td>6.0</td>\n",
       "      <td>4.6</td>\n",
       "      <td>0.79</td>\n",
       "    </tr>\n",
       "  </tbody>\n",
       "</table>\n",
       "</div>"
      ],
      "text/plain": [
       "   fruit_label fruit_name fruit_subtype  mass  width  height  color_score\n",
       "0            1      apple  granny_smith   192    8.4     7.3         0.55\n",
       "1            1      apple  granny_smith   180    8.0     6.8         0.59\n",
       "2            1      apple  granny_smith   176    7.4     7.2         0.60\n",
       "3            2   mandarin      mandarin    86    6.2     4.7         0.80\n",
       "4            2   mandarin      mandarin    84    6.0     4.6         0.79"
      ]
     },
     "execution_count": 74,
     "metadata": {},
     "output_type": "execute_result"
    }
   ],
   "source": [
    "df.head()"
   ]
  },
  {
   "cell_type": "code",
   "execution_count": 75,
   "id": "8e530cde",
   "metadata": {},
   "outputs": [],
   "source": [
    "#df[['mass','width','height','color_score']]"
   ]
  },
  {
   "cell_type": "code",
   "execution_count": 76,
   "id": "c1615595",
   "metadata": {},
   "outputs": [],
   "source": [
    "from sklearn.preprocessing import MinMaxScaler\n",
    "\n",
    "X = df[['mass','width','height','color_score']]\n",
    "y = df['fruit_label']\n",
    "\n",
    "scaler = MinMaxScaler()\n",
    "\n",
    "scaled_X = pd.DataFrame(scaler.fit_transform(X),\n",
    "                        columns=X.columns)"
   ]
  },
  {
   "cell_type": "code",
   "execution_count": 77,
   "id": "a7c6affa",
   "metadata": {},
   "outputs": [
    {
     "data": {
      "text/html": [
       "<div>\n",
       "<style scoped>\n",
       "    .dataframe tbody tr th:only-of-type {\n",
       "        vertical-align: middle;\n",
       "    }\n",
       "\n",
       "    .dataframe tbody tr th {\n",
       "        vertical-align: top;\n",
       "    }\n",
       "\n",
       "    .dataframe thead th {\n",
       "        text-align: right;\n",
       "    }\n",
       "</style>\n",
       "<table border=\"1\" class=\"dataframe\">\n",
       "  <thead>\n",
       "    <tr style=\"text-align: right;\">\n",
       "      <th></th>\n",
       "      <th>mass</th>\n",
       "      <th>width</th>\n",
       "      <th>height</th>\n",
       "      <th>color_score</th>\n",
       "    </tr>\n",
       "  </thead>\n",
       "  <tbody>\n",
       "    <tr>\n",
       "      <th>0</th>\n",
       "      <td>0.405594</td>\n",
       "      <td>0.684211</td>\n",
       "      <td>0.507692</td>\n",
       "      <td>0.000000</td>\n",
       "    </tr>\n",
       "    <tr>\n",
       "      <th>1</th>\n",
       "      <td>0.363636</td>\n",
       "      <td>0.578947</td>\n",
       "      <td>0.430769</td>\n",
       "      <td>0.105263</td>\n",
       "    </tr>\n",
       "    <tr>\n",
       "      <th>2</th>\n",
       "      <td>0.349650</td>\n",
       "      <td>0.421053</td>\n",
       "      <td>0.492308</td>\n",
       "      <td>0.131579</td>\n",
       "    </tr>\n",
       "    <tr>\n",
       "      <th>3</th>\n",
       "      <td>0.034965</td>\n",
       "      <td>0.105263</td>\n",
       "      <td>0.107692</td>\n",
       "      <td>0.657895</td>\n",
       "    </tr>\n",
       "    <tr>\n",
       "      <th>4</th>\n",
       "      <td>0.027972</td>\n",
       "      <td>0.052632</td>\n",
       "      <td>0.092308</td>\n",
       "      <td>0.631579</td>\n",
       "    </tr>\n",
       "  </tbody>\n",
       "</table>\n",
       "</div>"
      ],
      "text/plain": [
       "       mass     width    height  color_score\n",
       "0  0.405594  0.684211  0.507692     0.000000\n",
       "1  0.363636  0.578947  0.430769     0.105263\n",
       "2  0.349650  0.421053  0.492308     0.131579\n",
       "3  0.034965  0.105263  0.107692     0.657895\n",
       "4  0.027972  0.052632  0.092308     0.631579"
      ]
     },
     "execution_count": 77,
     "metadata": {},
     "output_type": "execute_result"
    }
   ],
   "source": [
    "scaled_X.head()"
   ]
  },
  {
   "cell_type": "code",
   "execution_count": 78,
   "id": "17f57960",
   "metadata": {},
   "outputs": [
    {
     "data": {
      "image/png": "[encoded data removed]",
      "text/plain": [
       "<Figure size 432x288 with 2 Axes>"
      ]
     },
     "metadata": {
      "filenames": {
       "image/png": "/Users/Kaemyuijang/SCMA248/_build/jupyter_execute/Chapter7_Introduction_Machine_Learning-Copy1_131_0.png"
      },
      "needs_background": "light"
     },
     "output_type": "display_data"
    }
   ],
   "source": [
    "scaled_df = scaled_X\n",
    "scaled_df['fruit_label'] = df[['fruit_label']]\n",
    "#scaled_df\n",
    "\n",
    "hm = sns.heatmap(scaled_df.corr(), annot = True)\n",
    "hm.set(title = \"Correlation matrix of insurance data\\n\")\n",
    "plt.show()"
   ]
  },
  {
   "cell_type": "code",
   "execution_count": 79,
   "id": "e254f889",
   "metadata": {},
   "outputs": [
    {
     "data": {
      "text/plain": [
       "<seaborn.axisgrid.PairGrid at 0x12578d850>"
      ]
     },
     "execution_count": 79,
     "metadata": {},
     "output_type": "execute_result"
    },
    {
     "data": {
      "image/png": "[encoded data removed]",
      "text/plain": [
       "<Figure size 418.125x360 with 6 Axes>"
      ]
     },
     "metadata": {
      "filenames": {
       "image/png": "/Users/Kaemyuijang/SCMA248/_build/jupyter_execute/Chapter7_Introduction_Machine_Learning-Copy1_132_1.png"
      },
      "needs_background": "light"
     },
     "output_type": "display_data"
    }
   ],
   "source": [
    "sns.pairplot(scaled_df[['fruit_label','color_score','height']],hue='fruit_label')"
   ]
  },
  {
   "cell_type": "code",
   "execution_count": null,
   "id": "983399ee",
   "metadata": {},
   "outputs": [],
   "source": []
  },
  {
   "cell_type": "code",
   "execution_count": 80,
   "id": "8a616827",
   "metadata": {},
   "outputs": [],
   "source": [
    "# Importing a dataset\n",
    "#url = 'https://raw.githubusercontent.com/susanli2016/Machine-Learning-with-Python/master/fruit_data_with_colors.txt'\n",
    "#df = pd.read_table(url)  \n",
    "\n",
    "# Train Test Split\n",
    "\n",
    "X = scaled_df[['height', 'color_score']]\n",
    "y = scaled_df['fruit_label']\n",
    "X_train, X_test, y_train, y_test = train_test_split(X, y, test_size=0.25, random_state=0)\n",
    "\n",
    "# Instantiate the estimator\n",
    "from sklearn.neighbors import KNeighborsClassifier\n",
    "knn = KNeighborsClassifier()\n",
    "\n",
    "k_range = range(1,11)\n",
    "\n",
    "train_accuracy = {}\n",
    "train_accuracy_list = []\n",
    "\n",
    "test_accuracy = {}\n",
    "test_accuracy_list = []\n",
    "\n",
    "for k in k_range:\n",
    "    knn = KNeighborsClassifier(n_neighbors = k)\n",
    "    \n",
    "    # Training the classifier by passing in the training set X_train and the labels in y_train\n",
    "    knn.fit(X_train,y_train)\n",
    "    \n",
    "    # Compute accuracy on the training set\n",
    "    train_accuracy[k] = knn.score(X_train, y_train)\n",
    "    train_accuracy_list.append(knn.score(X_train, y_train))\n",
    "    \n",
    "    \n",
    "    test_accuracy[k] = knn.score(X_test,y_test)\n",
    "    test_accuracy_list.append(knn.score(X_test,y_test))"
   ]
  },
  {
   "cell_type": "code",
   "execution_count": 81,
   "id": "015c9a6e",
   "metadata": {},
   "outputs": [
    {
     "name": "stdout",
     "output_type": "stream",
     "text": [
      "{1: 0.8666666666666667, 2: 0.8666666666666667, 3: 0.8666666666666667, 4: 0.8666666666666667, 5: 0.8666666666666667, 6: 0.8666666666666667, 7: 0.8, 8: 0.6666666666666666, 9: 0.6666666666666666, 10: 0.6666666666666666}\n"
     ]
    }
   ],
   "source": [
    "train_accuracy\n",
    "print(test_accuracy)"
   ]
  },
  {
   "cell_type": "code",
   "execution_count": 82,
   "id": "91d965b2",
   "metadata": {},
   "outputs": [
    {
     "ename": "NameError",
     "evalue": "name 'scaled_df_output' is not defined",
     "output_type": "error",
     "traceback": [
      "\u001b[0;31m---------------------------------------------------------------------------\u001b[0m",
      "\u001b[0;31mNameError\u001b[0m                                 Traceback (most recent call last)",
      "\u001b[0;32m/var/folders/kl/h_r05n_j76n32kt0dwy7kynw0000gn/T/ipykernel_1141/859115368.py\u001b[0m in \u001b[0;36m<module>\u001b[0;34m\u001b[0m\n\u001b[0;32m----> 1\u001b[0;31m \u001b[0mscaled_df_output\u001b[0m\u001b[0;34m\u001b[0m\u001b[0;34m\u001b[0m\u001b[0m\n\u001b[0m",
      "\u001b[0;31mNameError\u001b[0m: name 'scaled_df_output' is not defined"
     ]
    }
   ],
   "source": [
    "scaled_df_output"
   ]
  },
  {
   "cell_type": "code",
   "execution_count": null,
   "id": "d7126f4b",
   "metadata": {},
   "outputs": [],
   "source": [
    "scaled_df_output = pd.DataFrame({'k':k_range,\n",
    "                          'train_accuracy':train_accuracy_list,\n",
    "                          'test_accuracy':test_accuracy_list\n",
    "                         })\n",
    "\n",
    "(\n",
    "    ggplot(scaled_df_output) \n",
    "    + geom_line(aes(x = 'k',  y = 'train_accuracy',color='\"training accuracy\"'))\n",
    "    + geom_line(aes(x = 'k',  y = 'test_accuracy',color='\"testing accuracy\"'))\n",
    "    + labs(x='k (n_neighbors)', y='overall accuracy')\n",
    "    + scale_color_manual(values = [\"blue\", \"green\"], # Colors\n",
    "        name = \" \")\n",
    ")"
   ]
  },
  {
   "cell_type": "code",
   "execution_count": null,
   "id": "b190bd78",
   "metadata": {},
   "outputs": [],
   "source": [
    "##### Convert pandas DataFrame to Numpy before applying classification\n",
    "\n",
    "X_train_np = X_train.to_numpy()\n",
    "y_train_np = y_train.to_numpy()\n",
    "\n",
    "X_test_np = X_test.to_numpy()\n",
    "y_test_np = y_test.to_numpy()\n",
    "\n",
    "clf = KNeighborsClassifier(n_neighbors = 4)\n",
    "clf.fit(X_train_np, y_train_np)\n",
    "\n",
    "# Plotting decision regions\n",
    "fig, ax = plt.subplots()\n",
    "\n",
    "# Decision region for feature 3 = mass = value\n",
    "value=160\n",
    "# Plot training sample with feature = mass = value +/- width\n",
    "width=20\n",
    "\n",
    "fig = plot_decision_regions(X_test_np, y_test_np, clf=clf)\n",
    "ax.set_xlabel('Feature 1 (height)')\n",
    "ax.set_ylabel('Feature 2 (color_scale)')\n",
    "ax.set_title('Classification problem')"
   ]
  },
  {
   "cell_type": "code",
   "execution_count": null,
   "id": "178a48f7",
   "metadata": {},
   "outputs": [],
   "source": [
    "test_accuracy"
   ]
  },
  {
   "cell_type": "code",
   "execution_count": null,
   "id": "8039bb73",
   "metadata": {},
   "outputs": [],
   "source": []
  },
  {
   "cell_type": "code",
   "execution_count": null,
   "id": "6851cdd2",
   "metadata": {},
   "outputs": [],
   "source": []
  }
 ],
 "metadata": {
  "kernelspec": {
   "display_name": "Python 3 (ipykernel)",
   "language": "python",
   "name": "python3"
  },
  "language_info": {
   "codemirror_mode": {
    "name": "ipython",
    "version": 3
   },
   "file_extension": ".py",
   "mimetype": "text/x-python",
   "name": "python",
   "nbconvert_exporter": "python",
   "pygments_lexer": "ipython3",
   "version": "3.7.8"
  }
 },
 "nbformat": 4,
 "nbformat_minor": 5
}