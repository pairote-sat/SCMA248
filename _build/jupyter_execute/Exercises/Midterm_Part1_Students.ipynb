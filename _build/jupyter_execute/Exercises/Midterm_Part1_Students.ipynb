{
 "cells": [
  {
   "cell_type": "markdown",
   "id": "688a67cd",
   "metadata": {},
   "source": [
    "# Midterm Examination: Part 1 \n",
    "\n",
    "Due date: 15 March 2022 before 10 am.\n",
    "\n",
    "Points: 15 for Part 1 (from 21 questions)\n",
    "\n",
    "Do not alter this file.\n",
    "\n",
    "Duplicate this file and move it into the Personal folder. Rename the file as Midterm_id (id is your student ID number, e.g. Midterm_Part1_6305001).\n",
    "\n",
    "Write Python commands to answer each of the questions. For each question that requires numerical values (not list or dataframe), you also need to assign the variable e.g. ans1 to store the numerical answer for question 1. If there is more than 1 answer required, you must create more variables e.g. ans1_1, ans1_2 to store the values of the answers.\n",
    "\n",
    "When you want to submit your file, you simply share access with me using my email pairote.sat@mahidol.edu and my TA p.pooy.pui.i@gmail.com. Do not move your file into the DS@MathMahidol team."
   ]
  },
  {
   "cell_type": "markdown",
   "id": "7cd17667",
   "metadata": {},
   "source": [
    "## Data sets\n",
    "\n",
    "There are 3 data sets that we will work with:\n",
    "\n",
    "You can download the files from my github page:\n",
    "\n",
    "* Population dataset: \n",
    "https://raw.githubusercontent.com/pairote-sat/SCMA248/main/Data/US_population.csv\n",
    "\n",
    "* US state abbreviations\n",
    "https://raw.githubusercontent.com/pairote-sat/SCMA248/main/Data/us_state_abbreviations.csv\n",
    "\n",
    "* Covid-19 dataset:\n",
    "\n",
    "https://raw.githubusercontent.com/pairote-sat/SCMA470/master/us-counties.csv"
   ]
  },
  {
   "cell_type": "code",
   "execution_count": 1,
   "id": "d760ff81",
   "metadata": {},
   "outputs": [],
   "source": [
    "import pandas as pd\n",
    "import numpy as np\n",
    "\n",
    "# https://stackoverflow.com/questions/20625582/how-to-deal-with-settingwithcopywarning-in-pandas\n",
    "pd.options.mode.chained_assignment = None"
   ]
  },
  {
   "cell_type": "code",
   "execution_count": 2,
   "id": "e750f96b",
   "metadata": {},
   "outputs": [
    {
     "ename": "ModuleNotFoundError",
     "evalue": "No module named 'plotnine'",
     "output_type": "error",
     "traceback": [
      "\u001b[0;31m---------------------------------------------------------------------------\u001b[0m",
      "\u001b[0;31mModuleNotFoundError\u001b[0m                       Traceback (most recent call last)",
      "\u001b[0;32m/var/folders/kl/h_r05n_j76n32kt0dwy7kynw0000gn/T/ipykernel_5961/3652185203.py\u001b[0m in \u001b[0;36m<module>\u001b[0;34m\u001b[0m\n\u001b[0;32m----> 1\u001b[0;31m \u001b[0;32mfrom\u001b[0m \u001b[0mplotnine\u001b[0m \u001b[0;32mimport\u001b[0m \u001b[0;34m*\u001b[0m\u001b[0;34m\u001b[0m\u001b[0;34m\u001b[0m\u001b[0m\n\u001b[0m",
      "\u001b[0;31mModuleNotFoundError\u001b[0m: No module named 'plotnine'"
     ]
    }
   ],
   "source": [
    "from plotnine import *"
   ]
  },
  {
   "cell_type": "markdown",
   "id": "80fd108c",
   "metadata": {},
   "source": [
    "0. Enter student IDs of your group."
   ]
  },
  {
   "cell_type": "code",
   "execution_count": null,
   "id": "3c2500f7",
   "metadata": {},
   "outputs": [],
   "source": [
    "id = "
   ]
  },
  {
   "cell_type": "markdown",
   "id": "c448c2ea",
   "metadata": {},
   "source": [
    "## Population Dataset: 2020 Census Demographic Data by County.\n",
    "\n",
    "We begin with the first dataset, which we obtained from \n",
    "\n",
    "https://www.dataemporium.com/dataset/254/?gclid=CjwKCAiAg6yRBhBNEiwAeVyL0Jl9xZg-nt9evBLB04fAZPc-TPTEmrW9kMfoIqMhBJvHjXQ-GV5fPBoChYIQAvD_BwE\n",
    "\n",
    "This dataset was created from the 2020 Census. It contains one row per county with the total population and a breakdown by race."
   ]
  },
  {
   "cell_type": "code",
   "execution_count": 12,
   "id": "1573fcfe",
   "metadata": {},
   "outputs": [],
   "source": [
    "path = '/Users/Kaemyuijang/SCMA248/Data/US_population.csv'\n",
    "\n",
    "#df = pd.read_csv(path, parse_dates=True, index_col = 'date')\n",
    "\n",
    "population = pd.read_csv(path)"
   ]
  },
  {
   "cell_type": "markdown",
   "id": "c6826834",
   "metadata": {},
   "source": [
    "#### Detailed description\n",
    "\n",
    "This table breaks down the total population and population by race for each county in the United States, based on the 2020 Census.\n",
    "\n",
    "**Some Terminology**.\n",
    "\n",
    "* A city is created by any population that has its own system of government and a semblance of a legal system. Cities are located within a county, within a state. \n",
    "\n",
    "* A county is a geographic unit created for political purposes within a state.\n",
    "\n",
    "Read more : Difference between city and county \n",
    "http://www.differencebetween.net/miscellaneous/difference-between-city-and-county/#ixzz7NKcARPB5\n",
    "\n",
    "**This table only includes numbers for people who checked off a single race in the census**. This is the majority of people. You can see the number of people who belong to two or more races by subtracting POP_ONE_RACE from TOTAL_POPULATION. \n",
    "\n",
    "Before proceeding to the next step, make sure you understand the difference between POP_ONE_RACE from TOTAL_POPULATION."
   ]
  },
  {
   "cell_type": "markdown",
   "id": "9e4fb2fc",
   "metadata": {},
   "source": [
    "Q1 : Verify that the sum of counts in the columns ['white','black','amarican_indian','asian','hawaiian','other'] is equal to the count in the column 'pop_one_race'."
   ]
  },
  {
   "cell_type": "code",
   "execution_count": null,
   "id": "b8f34dc3",
   "metadata": {},
   "outputs": [],
   "source": []
  },
  {
   "cell_type": "markdown",
   "id": "7e09bf16",
   "metadata": {},
   "source": [
    "Q2: How many counties are included in this dataset?"
   ]
  },
  {
   "cell_type": "code",
   "execution_count": null,
   "id": "6a36c886",
   "metadata": {},
   "outputs": [],
   "source": []
  },
  {
   "cell_type": "markdown",
   "id": "f6817ddc",
   "metadata": {},
   "source": [
    "Q3: How many unique county names are there?"
   ]
  },
  {
   "cell_type": "code",
   "execution_count": null,
   "id": "184469ee",
   "metadata": {},
   "outputs": [],
   "source": []
  },
  {
   "cell_type": "markdown",
   "id": "da0313c6",
   "metadata": {},
   "source": [
    "Q4: What can be concluded from the difference between the number of counties and the number of unique county names?"
   ]
  },
  {
   "cell_type": "code",
   "execution_count": null,
   "id": "48a3f49d",
   "metadata": {},
   "outputs": [],
   "source": []
  },
  {
   "cell_type": "markdown",
   "id": "f46519cc",
   "metadata": {},
   "source": [
    "Q5: Create a table with the number of counties in each U.S. state."
   ]
  },
  {
   "cell_type": "code",
   "execution_count": null,
   "id": "ad93e6ef",
   "metadata": {},
   "outputs": [],
   "source": []
  },
  {
   "cell_type": "markdown",
   "id": "9327c2c9",
   "metadata": {},
   "source": [
    "Q6: The following Python command uses `np.random.seed(id)` to set the seed number of your student ID. Complete the following command to create the variable 'state_given', which stores a randomly selected US state."
   ]
  },
  {
   "cell_type": "code",
   "execution_count": 9,
   "id": "8b1ffb50",
   "metadata": {},
   "outputs": [],
   "source": [
    "np.random.seed(id)\n",
    "states_given = np.random.choice(..., 1).tolist()\n",
    "print(states_given)"
   ]
  },
  {
   "cell_type": "markdown",
   "id": "839e3c37",
   "metadata": {},
   "source": [
    "Q7: List all counties in the randomly selected US state defined by `states_given`."
   ]
  },
  {
   "cell_type": "code",
   "execution_count": null,
   "id": "0083694f",
   "metadata": {},
   "outputs": [],
   "source": []
  },
  {
   "cell_type": "markdown",
   "id": "b801f441",
   "metadata": {},
   "source": [
    "Q8: Write Python code to select two random US states and include them in a list named **states_list**. Do not forget to use np.random.seed to set the random value to your ID."
   ]
  },
  {
   "cell_type": "code",
   "execution_count": 110,
   "id": "63552f4d",
   "metadata": {},
   "outputs": [],
   "source": [
    "np.random.seed(id)\n",
    "states_list = np.random.choice(..., 1, replace = True).tolist()"
   ]
  },
  {
   "cell_type": "markdown",
   "id": "1b941ac8",
   "metadata": {},
   "source": [
    "Q9: List all counties for each state in the **states_list**."
   ]
  },
  {
   "cell_type": "code",
   "execution_count": null,
   "id": "9d320524",
   "metadata": {},
   "outputs": [],
   "source": []
  },
  {
   "cell_type": "markdown",
   "id": "abb80157",
   "metadata": {},
   "source": [
    "#### Population by US states"
   ]
  },
  {
   "cell_type": "markdown",
   "id": "5d80cabc",
   "metadata": {},
   "source": [
    "Q10 : Write Python code to create a table including the population for each U.S. state. The table should include total population, pop_one_race, white, black, etc. for each state."
   ]
  },
  {
   "cell_type": "code",
   "execution_count": null,
   "id": "8a47918b",
   "metadata": {},
   "outputs": [],
   "source": []
  },
  {
   "cell_type": "markdown",
   "id": "6c6634fe",
   "metadata": {},
   "source": [
    "Q11: From the table of population by race for each US state created above, write Python code to calculate the (row) percentages (for each US state) of the following variables \n",
    "**'white','black','amarican_indian','asian','hawaiian','other'**."
   ]
  },
  {
   "cell_type": "code",
   "execution_count": null,
   "id": "f5e684c1",
   "metadata": {},
   "outputs": [],
   "source": [
    "races_list = ['white','black','amarican_indian','asian','hawaiian','other']\n",
    "\n"
   ]
  },
  {
   "cell_type": "markdown",
   "id": "afa1ed85",
   "metadata": {},
   "source": [
    "Q12: List the first five states with the highest percentage of white Americans."
   ]
  },
  {
   "cell_type": "code",
   "execution_count": null,
   "id": "971a694f",
   "metadata": {},
   "outputs": [],
   "source": []
  },
  {
   "cell_type": "markdown",
   "id": "e918f61b",
   "metadata": {},
   "source": [
    "Q13: List the first five states with the highest percentage of black Americans."
   ]
  },
  {
   "cell_type": "code",
   "execution_count": null,
   "id": "c3f3133d",
   "metadata": {},
   "outputs": [],
   "source": []
  },
  {
   "cell_type": "markdown",
   "id": "09c5c087",
   "metadata": {},
   "source": [
    "#### Visualization of U.S. population by race and U.S. states"
   ]
  },
  {
   "cell_type": "markdown",
   "id": "78b42f2f",
   "metadata": {},
   "source": [
    "Q14: Write Python to graph the US population by race broken down by state."
   ]
  },
  {
   "cell_type": "code",
   "execution_count": null,
   "id": "16420b81",
   "metadata": {},
   "outputs": [],
   "source": []
  },
  {
   "cell_type": "markdown",
   "id": "0c761e4e",
   "metadata": {},
   "source": [
    "## US Covid-19 Dataset"
   ]
  },
  {
   "cell_type": "markdown",
   "id": "da1fa467",
   "metadata": {},
   "source": [
    "The second dataset can be downloaded from \n",
    "\n",
    "https://www.kaggle.com/fireballbyedimyrnmom/us-counties-covid-19-dataset.\n",
    "\n",
    "Each data row contains data on cumulative coronavirus cases and deaths.\n",
    "\n",
    "The specific data here, are the data **PER US COUNTY**.\n",
    "\n",
    "We will work with this Covid-19 dataset by preprocessing data, performing statistical data analysis and presenting the results."
   ]
  },
  {
   "cell_type": "code",
   "execution_count": 223,
   "id": "e32376ba",
   "metadata": {},
   "outputs": [],
   "source": [
    "path = '/Users/Kaemyuijang/SCMA248/Data/us-counties.csv'\n",
    "\n",
    "#df = pd.read_csv(path, parse_dates=True, index_col = 'date')\n",
    "\n",
    "df = pd.read_csv(path, parse_dates=['date'], index_col = 'date')"
   ]
  },
  {
   "cell_type": "markdown",
   "id": "0184575b",
   "metadata": {},
   "source": [
    "#### Data Cleaning and Preparation: Handling Missing Values"
   ]
  },
  {
   "cell_type": "markdown",
   "id": "d8d6766a",
   "metadata": {},
   "source": [
    "Q15: List all variables (or columns) in this Covid-19 dataset with missing data."
   ]
  },
  {
   "cell_type": "code",
   "execution_count": null,
   "id": "b6d72229",
   "metadata": {},
   "outputs": [],
   "source": []
  },
  {
   "cell_type": "markdown",
   "id": "f969bcd7",
   "metadata": {},
   "source": [
    "Q16: Calculate the number of missing data for each variable (i.e. in each column)."
   ]
  },
  {
   "cell_type": "code",
   "execution_count": null,
   "id": "3c49a22b",
   "metadata": {},
   "outputs": [],
   "source": []
  },
  {
   "cell_type": "markdown",
   "id": "11a8292f",
   "metadata": {},
   "source": [
    "#### Filtering out Missing Data"
   ]
  },
  {
   "cell_type": "markdown",
   "id": "97dc6553",
   "metadata": {},
   "source": [
    "Q17: Write Python code to drop rows only when the column 'fips' has NaN in it. How many rows are there in the resutling DataFrame."
   ]
  },
  {
   "cell_type": "code",
   "execution_count": null,
   "id": "ed85db71",
   "metadata": {},
   "outputs": [],
   "source": []
  },
  {
   "cell_type": "markdown",
   "id": "6339c211",
   "metadata": {},
   "source": [
    "Q18: How many NaN values remain in the **Deaths** column in the resutling DataFrame after deleting only rows where the  'fips' column contains NaN?"
   ]
  },
  {
   "cell_type": "code",
   "execution_count": null,
   "id": "dcb40257",
   "metadata": {},
   "outputs": [],
   "source": []
  },
  {
   "cell_type": "markdown",
   "id": "4abbe5b5",
   "metadata": {},
   "source": [
    "Q19: Drop all rows with missing values in the deaths column"
   ]
  },
  {
   "cell_type": "code",
   "execution_count": null,
   "id": "2369dafa",
   "metadata": {},
   "outputs": [],
   "source": []
  },
  {
   "cell_type": "markdown",
   "id": "8514d39b",
   "metadata": {},
   "source": [
    "## Merging multiple DataFrames\n",
    "\n",
    "The Covid-19 dataset contains only data on cumulative coronavirus cases and deaths. To perform our analysis, e.g., to compare infection rates among different U.S. states, we need to add more information on the population size of each county.\n",
    "\n",
    "We will need to download another data frame that contains the list of state abbreviations. We will then combine multiple data frames by adding the 'total_population' to the Covid-19 dataset.\n",
    "\n",
    "* List of State Abbreviations: \n",
    "\n",
    "https://worldpopulationreview.com/states/state-abbreviations"
   ]
  },
  {
   "cell_type": "code",
   "execution_count": 238,
   "id": "45fd6050",
   "metadata": {},
   "outputs": [],
   "source": [
    "path = '/Users/Kaemyuijang/SCMA248/Data/us_state_abbreviations.csv'\n",
    "\n",
    "abbr = pd.read_csv(path)"
   ]
  },
  {
   "cell_type": "markdown",
   "id": "ec03d3a2",
   "metadata": {},
   "source": [
    "Q20: Using the population and us_state_abbreviations datasets, write Python code to add the 'total_population' to the Covid-19 dataset."
   ]
  },
  {
   "cell_type": "code",
   "execution_count": null,
   "id": "3c955f7a",
   "metadata": {},
   "outputs": [],
   "source": []
  },
  {
   "cell_type": "markdown",
   "id": "bb578e61",
   "metadata": {},
   "source": [
    "Q21: Write Python to check for NaN values after adding 'total_population' to the Covid-19 dataset."
   ]
  },
  {
   "cell_type": "code",
   "execution_count": null,
   "id": "2fd94111",
   "metadata": {},
   "outputs": [],
   "source": []
  }
 ],
 "metadata": {
  "kernelspec": {
   "display_name": "Python 3 (ipykernel)",
   "language": "python",
   "name": "python3"
  },
  "language_info": {
   "codemirror_mode": {
    "name": "ipython",
    "version": 3
   },
   "file_extension": ".py",
   "mimetype": "text/x-python",
   "name": "python",
   "nbconvert_exporter": "python",
   "pygments_lexer": "ipython3",
   "version": "3.7.8"
  }
 },
 "nbformat": 4,
 "nbformat_minor": 5
}