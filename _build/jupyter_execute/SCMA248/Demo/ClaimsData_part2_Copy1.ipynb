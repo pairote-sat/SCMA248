{
 "cells": [
  {
   "cell_type": "markdown",
   "id": "1d99d775",
   "metadata": {},
   "source": [
    "## Exercise for Chapter 3\n",
    "\n",
    "This exercises is design to assist you how to use the pandas package to import, preprocess data and perform basic statistical analysis. Later we should see how data generating events can produce data of interest to insurance analysts.\n",
    "\n",
    "We will look at the Local Government Property Insurance Fund in this chapter. The fund insures property owned by municipal governments, such as schools and libraries.\n",
    "\n",
    "* government buildings,\n",
    "\n",
    "* educational institutions,\n",
    "\n",
    "* public libraries, and\n",
    "\n",
    "* motor vehicles.\n",
    "\n",
    "Over a thousand local government units are covered by the fund, which charges about \\$25 million in annual premiums and provides insurance coverage of about \\$75 billion."
   ]
  },
  {
   "cell_type": "markdown",
   "id": "1472544d",
   "metadata": {},
   "source": [
    "**Example 1** Import the claim dataset namely ClaimsExperienceData.csv from my Github repository. Then write Python commands to answer the following questions."
   ]
  },
  {
   "cell_type": "code",
   "execution_count": 1,
   "id": "42e387bc",
   "metadata": {},
   "outputs": [],
   "source": [
    "import pandas as pd\n",
    "\n",
    "claims = pd.read_csv('/Users/Kaemyuijang/SCMA248/Data/ClaimsExperienceData.csv')"
   ]
  },
  {
   "cell_type": "markdown",
   "id": "a34da0fd",
   "metadata": {},
   "source": [
    "1. How many claims observations are there in this dataset?"
   ]
  },
  {
   "cell_type": "code",
   "execution_count": 2,
   "id": "67054aef",
   "metadata": {},
   "outputs": [
    {
     "data": {
      "text/plain": [
       "5639"
      ]
     },
     "execution_count": 2,
     "metadata": {},
     "output_type": "execute_result"
    }
   ],
   "source": [
    "claims.shape[0]"
   ]
  },
  {
   "cell_type": "markdown",
   "id": "eeeb66fc",
   "metadata": {},
   "source": [
    "2. How many variables (features) are there in this dataset? List (print out) all the features. "
   ]
  },
  {
   "cell_type": "code",
   "execution_count": 3,
   "id": "98045af6",
   "metadata": {},
   "outputs": [
    {
     "data": {
      "text/plain": [
       "Index(['PolicyNum', 'Year', 'LnCoverage', 'BCcov', 'Premium', 'Freq', 'Deduct',\n",
       "       'y', 'lny', 'yAvg', 'lnDeduct', 'Fire5', 'NoClaimCredit', 'TypeCity',\n",
       "       'TypeCounty', 'TypeMisc', 'TypeSchool', 'TypeTown', 'TypeVillage',\n",
       "       'AC00', 'AC05', 'AC10', 'AC15'],\n",
       "      dtype='object')"
      ]
     },
     "execution_count": 3,
     "metadata": {},
     "output_type": "execute_result"
    }
   ],
   "source": [
    "claims.shape[1]\n",
    "claims.columns"
   ]
  },
  {
   "cell_type": "markdown",
   "id": "98551e07",
   "metadata": {},
   "source": [
    "\n",
    "## Description of Rating Variables\n",
    "\n",
    "One of the important tasks of insurance analysts is to develop models to represent and manage the two outcome variables, **frequency** and **severity**. \n",
    "\n",
    "However, when actuaries and other financial analysts use those models, they do so in the context of external variables. \n",
    "\n",
    "In general statistical terminology, one might call these explanatory or predictor variables.\n",
    "\n",
    "Because of our insurance focus, we call them **rating variables** as they are useful in setting insurance rates and premiums.\n",
    "\n",
    "The following table describes the rating variables considered.\n",
    "\n",
    "These are variables that you think might naturally be related to claims outcomes.\n",
    "\n",
    "<!-- To handle the skewness, we henceforth focus on logarithmic transformations of coverage and deductibles. -->\n",
    "\n",
    "<!-- For our immediate purposes, the coverage is our first rating variable. Other things being equal, we would expect that policyholders with larger coverage have larger claims. We will make this vague idea much more precise as we proceed, and also justify this expectation with data. -->\n",
    "\n",
    "**Variable**  | **Description**\n",
    "----- | -------------\n",
    "EntityType    | Categorical variable that is one of six types: (Village, City, County, Misc, School, or Town) \n",
    "LnCoverage    | Total building and content coverage, in logarithmic millions of dollars\n",
    "LnDeduct      | Deductible, in logarithmic dollars\n",
    "AlarmCredit   | Categorical variable that is one of four types: (0, 5, 10, or 15) for automatic smoke alarms in main rooms\n",
    "NoClaimCredit | Binary variable to indicate no claims in the past two years\n",
    "Fire5         | Binary variable to indicate the fire class is below 5 (The range of fire class is 0 to 10)  "
   ]
  },
  {
   "cell_type": "markdown",
   "id": "70e8ba81",
   "metadata": {},
   "source": [
    "**In what follows, for illustrate, we will consider claims data in year 2010.**"
   ]
  },
  {
   "cell_type": "markdown",
   "id": "0ef6405e",
   "metadata": {},
   "source": [
    "3. How many policies are there in 2010? \n",
    "\n",
    "Name the answer with the variable name **num_policies**. \n",
    "\n",
    "Hint: one may use `.value_counts` method that return a Series containing counts of unique values. Alternatively, you want to count False and True separately you can use `pd.Series.sum()` + `~`."
   ]
  },
  {
   "cell_type": "code",
   "execution_count": 4,
   "id": "e424937e",
   "metadata": {},
   "outputs": [
    {
     "data": {
      "text/plain": [
       "False    4529\n",
       "True     1110\n",
       "Name: Year, dtype: int64"
      ]
     },
     "execution_count": 4,
     "metadata": {},
     "output_type": "execute_result"
    }
   ],
   "source": [
    "temp = claims['Year']  == 2010\n",
    "temp.value_counts()"
   ]
  },
  {
   "cell_type": "code",
   "execution_count": 5,
   "id": "41038ac4",
   "metadata": {},
   "outputs": [],
   "source": [
    "num_policies = temp.sum()"
   ]
  },
  {
   "cell_type": "code",
   "execution_count": 6,
   "id": "a190512f",
   "metadata": {},
   "outputs": [
    {
     "data": {
      "text/plain": [
       "4529"
      ]
     },
     "execution_count": 6,
     "metadata": {},
     "output_type": "execute_result"
    }
   ],
   "source": [
    "(~temp).sum()"
   ]
  },
  {
   "cell_type": "markdown",
   "id": "06a8cf7b",
   "metadata": {},
   "source": [
    "4. How many claims are there in 2010? Assign the result to the variable **num_claims**."
   ]
  },
  {
   "cell_type": "code",
   "execution_count": 7,
   "id": "774593f0",
   "metadata": {},
   "outputs": [],
   "source": [
    "claims2010 = claims[temp]"
   ]
  },
  {
   "cell_type": "code",
   "execution_count": 8,
   "id": "04ec79b3",
   "metadata": {},
   "outputs": [
    {
     "data": {
      "text/plain": [
       "Index(['PolicyNum', 'Year', 'LnCoverage', 'BCcov', 'Premium', 'Freq', 'Deduct',\n",
       "       'y', 'lny', 'yAvg', 'lnDeduct', 'Fire5', 'NoClaimCredit', 'TypeCity',\n",
       "       'TypeCounty', 'TypeMisc', 'TypeSchool', 'TypeTown', 'TypeVillage',\n",
       "       'AC00', 'AC05', 'AC10', 'AC15'],\n",
       "      dtype='object')"
      ]
     },
     "execution_count": 8,
     "metadata": {},
     "output_type": "execute_result"
    }
   ],
   "source": [
    "claims2010.columns"
   ]
  },
  {
   "cell_type": "code",
   "execution_count": 9,
   "id": "19cf6c1d",
   "metadata": {},
   "outputs": [
    {
     "data": {
      "text/plain": [
       "PolicyNum        1.652057e+08\n",
       "Year             2.231100e+06\n",
       "LnCoverage       2.488480e+03\n",
       "BCcov            4.577870e+10\n",
       "Premium          1.590532e+07\n",
       "Freq             1.377000e+03\n",
       "Deduct           3.994500e+06\n",
       "y                3.665931e+07\n",
       "lny              3.736787e+03\n",
       "yAvg             2.270177e+07\n",
       "lnDeduct         8.013576e+03\n",
       "Fire5            6.220000e+02\n",
       "NoClaimCredit    6.270000e+02\n",
       "TypeCity         1.560000e+02\n",
       "TypeCounty       7.100000e+01\n",
       "TypeMisc         1.230000e+02\n",
       "TypeSchool       3.110000e+02\n",
       "TypeTown         1.850000e+02\n",
       "TypeVillage      2.640000e+02\n",
       "AC00             3.460000e+02\n",
       "AC05             8.200000e+01\n",
       "AC10             9.000000e+01\n",
       "AC15             5.920000e+02\n",
       "dtype: float64"
      ]
     },
     "execution_count": 9,
     "metadata": {},
     "output_type": "execute_result"
    }
   ],
   "source": [
    "claims2010.sum()"
   ]
  },
  {
   "cell_type": "code",
   "execution_count": 10,
   "id": "23c59dc0",
   "metadata": {},
   "outputs": [
    {
     "name": "stdout",
     "output_type": "stream",
     "text": [
      "1377\n"
     ]
    }
   ],
   "source": [
    "num_claims = claims2010['Freq'].sum()\n",
    "print(num_claims)"
   ]
  },
  {
   "cell_type": "markdown",
   "id": "bd52b356",
   "metadata": {},
   "source": [
    "5. Which policy number has the maximum number of claims and what is this claims number?"
   ]
  },
  {
   "cell_type": "code",
   "execution_count": 11,
   "id": "adb995f9",
   "metadata": {},
   "outputs": [
    {
     "data": {
      "text/html": [
       "<div>\n",
       "<style scoped>\n",
       "    .dataframe tbody tr th:only-of-type {\n",
       "        vertical-align: middle;\n",
       "    }\n",
       "\n",
       "    .dataframe tbody tr th {\n",
       "        vertical-align: top;\n",
       "    }\n",
       "\n",
       "    .dataframe thead th {\n",
       "        text-align: right;\n",
       "    }\n",
       "</style>\n",
       "<table border=\"1\" class=\"dataframe\">\n",
       "  <thead>\n",
       "    <tr style=\"text-align: right;\">\n",
       "      <th></th>\n",
       "      <th>PolicyNum</th>\n",
       "      <th>Year</th>\n",
       "      <th>LnCoverage</th>\n",
       "      <th>BCcov</th>\n",
       "      <th>Premium</th>\n",
       "      <th>Freq</th>\n",
       "      <th>Deduct</th>\n",
       "      <th>y</th>\n",
       "      <th>lny</th>\n",
       "      <th>yAvg</th>\n",
       "      <th>...</th>\n",
       "      <th>TypeCity</th>\n",
       "      <th>TypeCounty</th>\n",
       "      <th>TypeMisc</th>\n",
       "      <th>TypeSchool</th>\n",
       "      <th>TypeTown</th>\n",
       "      <th>TypeVillage</th>\n",
       "      <th>AC00</th>\n",
       "      <th>AC05</th>\n",
       "      <th>AC10</th>\n",
       "      <th>AC15</th>\n",
       "    </tr>\n",
       "  </thead>\n",
       "  <tbody>\n",
       "    <tr>\n",
       "      <th>1406</th>\n",
       "      <td>138109</td>\n",
       "      <td>2010</td>\n",
       "      <td>6.338472</td>\n",
       "      <td>5.659308e+08</td>\n",
       "      <td>124504</td>\n",
       "      <td>239</td>\n",
       "      <td>25000.0</td>\n",
       "      <td>223784.65</td>\n",
       "      <td>12.318439</td>\n",
       "      <td>936.337448</td>\n",
       "      <td>...</td>\n",
       "      <td>0</td>\n",
       "      <td>0</td>\n",
       "      <td>0</td>\n",
       "      <td>1</td>\n",
       "      <td>0</td>\n",
       "      <td>0</td>\n",
       "      <td>0</td>\n",
       "      <td>0</td>\n",
       "      <td>0</td>\n",
       "      <td>1</td>\n",
       "    </tr>\n",
       "    <tr>\n",
       "      <th>100</th>\n",
       "      <td>120030</td>\n",
       "      <td>2010</td>\n",
       "      <td>7.801717</td>\n",
       "      <td>2.444797e+09</td>\n",
       "      <td>391168</td>\n",
       "      <td>103</td>\n",
       "      <td>50000.0</td>\n",
       "      <td>4920530.65</td>\n",
       "      <td>15.408927</td>\n",
       "      <td>47772.142230</td>\n",
       "      <td>...</td>\n",
       "      <td>0</td>\n",
       "      <td>1</td>\n",
       "      <td>0</td>\n",
       "      <td>0</td>\n",
       "      <td>0</td>\n",
       "      <td>0</td>\n",
       "      <td>0</td>\n",
       "      <td>0</td>\n",
       "      <td>0</td>\n",
       "      <td>1</td>\n",
       "    </tr>\n",
       "  </tbody>\n",
       "</table>\n",
       "<p>2 rows × 23 columns</p>\n",
       "</div>"
      ],
      "text/plain": [
       "      PolicyNum  Year  LnCoverage         BCcov  Premium  Freq   Deduct  \\\n",
       "1406     138109  2010    6.338472  5.659308e+08   124504   239  25000.0   \n",
       "100      120030  2010    7.801717  2.444797e+09   391168   103  50000.0   \n",
       "\n",
       "               y        lny          yAvg  ...  TypeCity  TypeCounty  \\\n",
       "1406   223784.65  12.318439    936.337448  ...         0           0   \n",
       "100   4920530.65  15.408927  47772.142230  ...         0           1   \n",
       "\n",
       "      TypeMisc  TypeSchool  TypeTown  TypeVillage  AC00  AC05  AC10  AC15  \n",
       "1406         0           1         0            0     0     0     0     1  \n",
       "100          0           0         0            0     0     0     0     1  \n",
       "\n",
       "[2 rows x 23 columns]"
      ]
     },
     "execution_count": 11,
     "metadata": {},
     "output_type": "execute_result"
    }
   ],
   "source": [
    "claims2010.sort_values('Freq', ascending = False).head(2)"
   ]
  },
  {
   "cell_type": "markdown",
   "id": "b3d0ab66",
   "metadata": {},
   "source": [
    "# Hard cording\n",
    "\n",
    "claims2010.loc[1406,'Freq'] "
   ]
  },
  {
   "cell_type": "markdown",
   "id": "2ddf2f35",
   "metadata": {},
   "source": [
    "With `.idxmax()`, we can return the index at which maximum weight value is present.\n",
    "\n",
    "See https://www.geeksforgeeks.org/get-the-index-of-maximum-value-in-dataframe-column/."
   ]
  },
  {
   "cell_type": "code",
   "execution_count": 12,
   "id": "4e45ff7f",
   "metadata": {},
   "outputs": [
    {
     "name": "stdout",
     "output_type": "stream",
     "text": [
      "1406\n"
     ]
    }
   ],
   "source": [
    "print(claims2010['Freq'].idxmax())\n",
    "\n",
    "ind_freq_max = claims2010['Freq'].idxmax()\n",
    "\n",
    "max_claims = claims2010.loc[ind_freq_max,'Freq'] "
   ]
  },
  {
   "cell_type": "markdown",
   "id": "88ebe524",
   "metadata": {},
   "source": [
    "6. Calculate the proportion of policyholders who did not have any claims (use the name **num_policies_no_claims** for your output)."
   ]
  },
  {
   "cell_type": "code",
   "execution_count": 13,
   "id": "e0d3e2b3",
   "metadata": {},
   "outputs": [],
   "source": [
    "# Using value_count() and .sort_index to obtain the number of \n",
    "# policies by claim numbers.\n",
    "\n",
    "(claims2010['Freq'].value_counts()).sort_index()\n",
    "\n",
    "num_policies_no_claims = (claims2010['Freq'].value_counts()).sort_index()[0]"
   ]
  },
  {
   "cell_type": "code",
   "execution_count": 14,
   "id": "07a1d3c2",
   "metadata": {},
   "outputs": [
    {
     "data": {
      "text/plain": [
       "0.6369"
      ]
     },
     "execution_count": 14,
     "metadata": {},
     "output_type": "execute_result"
    }
   ],
   "source": [
    "# Calculate the proportion of policyholders who did not have any claims.\n",
    "\n",
    "round(num_policies_no_claims / num_policies,4)"
   ]
  },
  {
   "cell_type": "code",
   "execution_count": 15,
   "id": "2d270a1f",
   "metadata": {},
   "outputs": [
    {
     "data": {
      "text/plain": [
       "0.5134350036310821"
      ]
     },
     "execution_count": 15,
     "metadata": {},
     "output_type": "execute_result"
    }
   ],
   "source": [
    "(claims2010['Freq'].value_counts())[0]/claims2010['Freq'].sum()"
   ]
  },
  {
   "cell_type": "markdown",
   "id": "8f7a4260",
   "metadata": {},
   "source": [
    "7. Calculate the proportion of policyholders who had only one claim."
   ]
  },
  {
   "cell_type": "code",
   "execution_count": 16,
   "id": "62346718",
   "metadata": {},
   "outputs": [],
   "source": [
    "num_policies_one_claims = (claims2010['Freq'].value_counts()).sort_index()[1]"
   ]
  },
  {
   "cell_type": "code",
   "execution_count": 17,
   "id": "2b89e139",
   "metadata": {},
   "outputs": [
    {
     "data": {
      "text/plain": [
       "0.1883"
      ]
     },
     "execution_count": 17,
     "metadata": {},
     "output_type": "execute_result"
    }
   ],
   "source": [
    "round(num_policies_one_claims / num_policies,4)"
   ]
  },
  {
   "cell_type": "markdown",
   "id": "dcff6042",
   "metadata": {},
   "source": [
    "8. Calculate the average number of claims for this sample. "
   ]
  },
  {
   "cell_type": "code",
   "execution_count": 18,
   "id": "7de996ef",
   "metadata": {},
   "outputs": [
    {
     "data": {
      "text/plain": [
       "1.2405405405405405"
      ]
     },
     "execution_count": 18,
     "metadata": {},
     "output_type": "execute_result"
    }
   ],
   "source": [
    "num_claims/num_policies"
   ]
  },
  {
   "cell_type": "markdown",
   "id": "e2319361",
   "metadata": {},
   "source": [
    "9. The `describe()` method is used for calculating some statistical data like percentile, mean and std of the numerical values of the Series or DataFrame. \n",
    "\n",
    "Applying to year 2010, what do we get when we run the command claims.describe()?"
   ]
  },
  {
   "cell_type": "code",
   "execution_count": 19,
   "id": "18a53657",
   "metadata": {},
   "outputs": [
    {
     "data": {
      "text/html": [
       "<div>\n",
       "<style scoped>\n",
       "    .dataframe tbody tr th:only-of-type {\n",
       "        vertical-align: middle;\n",
       "    }\n",
       "\n",
       "    .dataframe tbody tr th {\n",
       "        vertical-align: top;\n",
       "    }\n",
       "\n",
       "    .dataframe thead th {\n",
       "        text-align: right;\n",
       "    }\n",
       "</style>\n",
       "<table border=\"1\" class=\"dataframe\">\n",
       "  <thead>\n",
       "    <tr style=\"text-align: right;\">\n",
       "      <th></th>\n",
       "      <th>PolicyNum</th>\n",
       "      <th>Year</th>\n",
       "      <th>LnCoverage</th>\n",
       "      <th>BCcov</th>\n",
       "      <th>Premium</th>\n",
       "      <th>Freq</th>\n",
       "      <th>Deduct</th>\n",
       "      <th>y</th>\n",
       "      <th>lny</th>\n",
       "      <th>yAvg</th>\n",
       "      <th>...</th>\n",
       "      <th>TypeCity</th>\n",
       "      <th>TypeCounty</th>\n",
       "      <th>TypeMisc</th>\n",
       "      <th>TypeSchool</th>\n",
       "      <th>TypeTown</th>\n",
       "      <th>TypeVillage</th>\n",
       "      <th>AC00</th>\n",
       "      <th>AC05</th>\n",
       "      <th>AC10</th>\n",
       "      <th>AC15</th>\n",
       "    </tr>\n",
       "  </thead>\n",
       "  <tbody>\n",
       "    <tr>\n",
       "      <th>count</th>\n",
       "      <td>1110.000000</td>\n",
       "      <td>1110.0</td>\n",
       "      <td>1110.000000</td>\n",
       "      <td>1.110000e+03</td>\n",
       "      <td>1110.000000</td>\n",
       "      <td>1110.000000</td>\n",
       "      <td>1110.000000</td>\n",
       "      <td>1.110000e+03</td>\n",
       "      <td>1110.000000</td>\n",
       "      <td>1.110000e+03</td>\n",
       "      <td>...</td>\n",
       "      <td>1110.000000</td>\n",
       "      <td>1110.000000</td>\n",
       "      <td>1110.000000</td>\n",
       "      <td>1110.00000</td>\n",
       "      <td>1110.000000</td>\n",
       "      <td>1110.000000</td>\n",
       "      <td>1110.000000</td>\n",
       "      <td>1110.000000</td>\n",
       "      <td>1110.000000</td>\n",
       "      <td>1110.000000</td>\n",
       "    </tr>\n",
       "    <tr>\n",
       "      <th>mean</th>\n",
       "      <td>148833.995495</td>\n",
       "      <td>2010.0</td>\n",
       "      <td>2.241874</td>\n",
       "      <td>4.124207e+07</td>\n",
       "      <td>14329.113514</td>\n",
       "      <td>1.240541</td>\n",
       "      <td>3598.648649</td>\n",
       "      <td>3.302640e+04</td>\n",
       "      <td>3.366475</td>\n",
       "      <td>2.045205e+04</td>\n",
       "      <td>...</td>\n",
       "      <td>0.140541</td>\n",
       "      <td>0.063964</td>\n",
       "      <td>0.110811</td>\n",
       "      <td>0.28018</td>\n",
       "      <td>0.166667</td>\n",
       "      <td>0.237838</td>\n",
       "      <td>0.311712</td>\n",
       "      <td>0.073874</td>\n",
       "      <td>0.081081</td>\n",
       "      <td>0.533333</td>\n",
       "    </tr>\n",
       "    <tr>\n",
       "      <th>std</th>\n",
       "      <td>16131.790893</td>\n",
       "      <td>0.0</td>\n",
       "      <td>1.962844</td>\n",
       "      <td>1.142432e+08</td>\n",
       "      <td>24663.572338</td>\n",
       "      <td>8.154437</td>\n",
       "      <td>8787.925562</td>\n",
       "      <td>4.287782e+05</td>\n",
       "      <td>4.573141</td>\n",
       "      <td>3.927241e+05</td>\n",
       "      <td>...</td>\n",
       "      <td>0.347704</td>\n",
       "      <td>0.244799</td>\n",
       "      <td>0.314039</td>\n",
       "      <td>0.44929</td>\n",
       "      <td>0.372846</td>\n",
       "      <td>0.425951</td>\n",
       "      <td>0.463402</td>\n",
       "      <td>0.261683</td>\n",
       "      <td>0.273083</td>\n",
       "      <td>0.499113</td>\n",
       "    </tr>\n",
       "    <tr>\n",
       "      <th>min</th>\n",
       "      <td>120002.000000</td>\n",
       "      <td>2010.0</td>\n",
       "      <td>-4.575223</td>\n",
       "      <td>1.030400e+04</td>\n",
       "      <td>9.000000</td>\n",
       "      <td>0.000000</td>\n",
       "      <td>500.000000</td>\n",
       "      <td>0.000000e+00</td>\n",
       "      <td>0.000000</td>\n",
       "      <td>0.000000e+00</td>\n",
       "      <td>...</td>\n",
       "      <td>0.000000</td>\n",
       "      <td>0.000000</td>\n",
       "      <td>0.000000</td>\n",
       "      <td>0.00000</td>\n",
       "      <td>0.000000</td>\n",
       "      <td>0.000000</td>\n",
       "      <td>0.000000</td>\n",
       "      <td>0.000000</td>\n",
       "      <td>0.000000</td>\n",
       "      <td>0.000000</td>\n",
       "    </tr>\n",
       "    <tr>\n",
       "      <th>25%</th>\n",
       "      <td>138104.250000</td>\n",
       "      <td>2010.0</td>\n",
       "      <td>0.900512</td>\n",
       "      <td>2.460876e+06</td>\n",
       "      <td>1633.500000</td>\n",
       "      <td>0.000000</td>\n",
       "      <td>500.000000</td>\n",
       "      <td>0.000000e+00</td>\n",
       "      <td>0.000000</td>\n",
       "      <td>0.000000e+00</td>\n",
       "      <td>...</td>\n",
       "      <td>0.000000</td>\n",
       "      <td>0.000000</td>\n",
       "      <td>0.000000</td>\n",
       "      <td>0.00000</td>\n",
       "      <td>0.000000</td>\n",
       "      <td>0.000000</td>\n",
       "      <td>0.000000</td>\n",
       "      <td>0.000000</td>\n",
       "      <td>0.000000</td>\n",
       "      <td>0.000000</td>\n",
       "    </tr>\n",
       "    <tr>\n",
       "      <th>50%</th>\n",
       "      <td>150302.000000</td>\n",
       "      <td>2010.0</td>\n",
       "      <td>2.523816</td>\n",
       "      <td>1.247615e+07</td>\n",
       "      <td>6365.000000</td>\n",
       "      <td>0.000000</td>\n",
       "      <td>1000.000000</td>\n",
       "      <td>0.000000e+00</td>\n",
       "      <td>0.000000</td>\n",
       "      <td>0.000000e+00</td>\n",
       "      <td>...</td>\n",
       "      <td>0.000000</td>\n",
       "      <td>0.000000</td>\n",
       "      <td>0.000000</td>\n",
       "      <td>0.00000</td>\n",
       "      <td>0.000000</td>\n",
       "      <td>0.000000</td>\n",
       "      <td>0.000000</td>\n",
       "      <td>0.000000</td>\n",
       "      <td>0.000000</td>\n",
       "      <td>1.000000</td>\n",
       "    </tr>\n",
       "    <tr>\n",
       "      <th>75%</th>\n",
       "      <td>160628.750000</td>\n",
       "      <td>2010.0</td>\n",
       "      <td>3.705105</td>\n",
       "      <td>4.065431e+07</td>\n",
       "      <td>17923.750000</td>\n",
       "      <td>1.000000</td>\n",
       "      <td>2500.000000</td>\n",
       "      <td>4.139750e+03</td>\n",
       "      <td>8.328310</td>\n",
       "      <td>2.818750e+03</td>\n",
       "      <td>...</td>\n",
       "      <td>0.000000</td>\n",
       "      <td>0.000000</td>\n",
       "      <td>0.000000</td>\n",
       "      <td>1.00000</td>\n",
       "      <td>0.000000</td>\n",
       "      <td>0.000000</td>\n",
       "      <td>1.000000</td>\n",
       "      <td>0.000000</td>\n",
       "      <td>0.000000</td>\n",
       "      <td>1.000000</td>\n",
       "    </tr>\n",
       "    <tr>\n",
       "      <th>max</th>\n",
       "      <td>180791.000000</td>\n",
       "      <td>2010.0</td>\n",
       "      <td>7.801717</td>\n",
       "      <td>2.444797e+09</td>\n",
       "      <td>391168.000000</td>\n",
       "      <td>239.000000</td>\n",
       "      <td>100000.000000</td>\n",
       "      <td>1.292222e+07</td>\n",
       "      <td>16.374459</td>\n",
       "      <td>1.292222e+07</td>\n",
       "      <td>...</td>\n",
       "      <td>1.000000</td>\n",
       "      <td>1.000000</td>\n",
       "      <td>1.000000</td>\n",
       "      <td>1.00000</td>\n",
       "      <td>1.000000</td>\n",
       "      <td>1.000000</td>\n",
       "      <td>1.000000</td>\n",
       "      <td>1.000000</td>\n",
       "      <td>1.000000</td>\n",
       "      <td>1.000000</td>\n",
       "    </tr>\n",
       "  </tbody>\n",
       "</table>\n",
       "<p>8 rows × 23 columns</p>\n",
       "</div>"
      ],
      "text/plain": [
       "           PolicyNum    Year   LnCoverage         BCcov        Premium  \\\n",
       "count    1110.000000  1110.0  1110.000000  1.110000e+03    1110.000000   \n",
       "mean   148833.995495  2010.0     2.241874  4.124207e+07   14329.113514   \n",
       "std     16131.790893     0.0     1.962844  1.142432e+08   24663.572338   \n",
       "min    120002.000000  2010.0    -4.575223  1.030400e+04       9.000000   \n",
       "25%    138104.250000  2010.0     0.900512  2.460876e+06    1633.500000   \n",
       "50%    150302.000000  2010.0     2.523816  1.247615e+07    6365.000000   \n",
       "75%    160628.750000  2010.0     3.705105  4.065431e+07   17923.750000   \n",
       "max    180791.000000  2010.0     7.801717  2.444797e+09  391168.000000   \n",
       "\n",
       "              Freq         Deduct             y          lny          yAvg  \\\n",
       "count  1110.000000    1110.000000  1.110000e+03  1110.000000  1.110000e+03   \n",
       "mean      1.240541    3598.648649  3.302640e+04     3.366475  2.045205e+04   \n",
       "std       8.154437    8787.925562  4.287782e+05     4.573141  3.927241e+05   \n",
       "min       0.000000     500.000000  0.000000e+00     0.000000  0.000000e+00   \n",
       "25%       0.000000     500.000000  0.000000e+00     0.000000  0.000000e+00   \n",
       "50%       0.000000    1000.000000  0.000000e+00     0.000000  0.000000e+00   \n",
       "75%       1.000000    2500.000000  4.139750e+03     8.328310  2.818750e+03   \n",
       "max     239.000000  100000.000000  1.292222e+07    16.374459  1.292222e+07   \n",
       "\n",
       "       ...     TypeCity   TypeCounty     TypeMisc  TypeSchool     TypeTown  \\\n",
       "count  ...  1110.000000  1110.000000  1110.000000  1110.00000  1110.000000   \n",
       "mean   ...     0.140541     0.063964     0.110811     0.28018     0.166667   \n",
       "std    ...     0.347704     0.244799     0.314039     0.44929     0.372846   \n",
       "min    ...     0.000000     0.000000     0.000000     0.00000     0.000000   \n",
       "25%    ...     0.000000     0.000000     0.000000     0.00000     0.000000   \n",
       "50%    ...     0.000000     0.000000     0.000000     0.00000     0.000000   \n",
       "75%    ...     0.000000     0.000000     0.000000     1.00000     0.000000   \n",
       "max    ...     1.000000     1.000000     1.000000     1.00000     1.000000   \n",
       "\n",
       "       TypeVillage         AC00         AC05         AC10         AC15  \n",
       "count  1110.000000  1110.000000  1110.000000  1110.000000  1110.000000  \n",
       "mean      0.237838     0.311712     0.073874     0.081081     0.533333  \n",
       "std       0.425951     0.463402     0.261683     0.273083     0.499113  \n",
       "min       0.000000     0.000000     0.000000     0.000000     0.000000  \n",
       "25%       0.000000     0.000000     0.000000     0.000000     0.000000  \n",
       "50%       0.000000     0.000000     0.000000     0.000000     1.000000  \n",
       "75%       0.000000     1.000000     0.000000     0.000000     1.000000  \n",
       "max       1.000000     1.000000     1.000000     1.000000     1.000000  \n",
       "\n",
       "[8 rows x 23 columns]"
      ]
     },
     "execution_count": 19,
     "metadata": {},
     "output_type": "execute_result"
    }
   ],
   "source": [
    "claims2010.describe()"
   ]
  },
  {
   "cell_type": "markdown",
   "id": "52e0fb84",
   "metadata": {},
   "source": [
    "10. A common method for determining the severity distribution is to look at the distribution of the sample of 1,377 claims. Another typical strategy is to look at the **distribution of average claims among policyholders who have made claims**.\n",
    "\n",
    "In our 2010 sample, how many such policyholders who have made claims?"
   ]
  },
  {
   "cell_type": "code",
   "execution_count": 20,
   "id": "e99fd60a",
   "metadata": {},
   "outputs": [
    {
     "data": {
      "text/plain": [
       "403"
      ]
     },
     "execution_count": 20,
     "metadata": {},
     "output_type": "execute_result"
    }
   ],
   "source": [
    "num_policies - num_policies_no_claims"
   ]
  },
  {
   "cell_type": "markdown",
   "id": "a5a74415",
   "metadata": {},
   "source": [
    "11. The average claim for the 209 policyholders who had only one claim is the same as the single claim they had. \n",
    "\n",
    "Write the command(s) to list the average claim of such 209 policyholders."
   ]
  },
  {
   "cell_type": "code",
   "execution_count": 21,
   "id": "61fc4b84",
   "metadata": {},
   "outputs": [
    {
     "data": {
      "text/html": [
       "<div>\n",
       "<style scoped>\n",
       "    .dataframe tbody tr th:only-of-type {\n",
       "        vertical-align: middle;\n",
       "    }\n",
       "\n",
       "    .dataframe tbody tr th {\n",
       "        vertical-align: top;\n",
       "    }\n",
       "\n",
       "    .dataframe thead th {\n",
       "        text-align: right;\n",
       "    }\n",
       "</style>\n",
       "<table border=\"1\" class=\"dataframe\">\n",
       "  <thead>\n",
       "    <tr style=\"text-align: right;\">\n",
       "      <th></th>\n",
       "      <th>Freq</th>\n",
       "      <th>y</th>\n",
       "    </tr>\n",
       "  </thead>\n",
       "  <tbody>\n",
       "    <tr>\n",
       "      <th>4</th>\n",
       "      <td>1</td>\n",
       "      <td>6838.87</td>\n",
       "    </tr>\n",
       "    <tr>\n",
       "      <th>9</th>\n",
       "      <td>1</td>\n",
       "      <td>9711.28</td>\n",
       "    </tr>\n",
       "    <tr>\n",
       "      <th>14</th>\n",
       "      <td>1</td>\n",
       "      <td>10323.50</td>\n",
       "    </tr>\n",
       "    <tr>\n",
       "      <th>24</th>\n",
       "      <td>1</td>\n",
       "      <td>3469.79</td>\n",
       "    </tr>\n",
       "    <tr>\n",
       "      <th>31</th>\n",
       "      <td>1</td>\n",
       "      <td>35000.00</td>\n",
       "    </tr>\n",
       "    <tr>\n",
       "      <th>...</th>\n",
       "      <td>...</td>\n",
       "      <td>...</td>\n",
       "    </tr>\n",
       "    <tr>\n",
       "      <th>5534</th>\n",
       "      <td>1</td>\n",
       "      <td>1851.48</td>\n",
       "    </tr>\n",
       "    <tr>\n",
       "      <th>5568</th>\n",
       "      <td>1</td>\n",
       "      <td>3405.00</td>\n",
       "    </tr>\n",
       "    <tr>\n",
       "      <th>5603</th>\n",
       "      <td>1</td>\n",
       "      <td>20679.58</td>\n",
       "    </tr>\n",
       "    <tr>\n",
       "      <th>5635</th>\n",
       "      <td>1</td>\n",
       "      <td>168304.05</td>\n",
       "    </tr>\n",
       "    <tr>\n",
       "      <th>5636</th>\n",
       "      <td>1</td>\n",
       "      <td>1034.33</td>\n",
       "    </tr>\n",
       "  </tbody>\n",
       "</table>\n",
       "<p>209 rows × 2 columns</p>\n",
       "</div>"
      ],
      "text/plain": [
       "      Freq          y\n",
       "4        1    6838.87\n",
       "9        1    9711.28\n",
       "14       1   10323.50\n",
       "24       1    3469.79\n",
       "31       1   35000.00\n",
       "...    ...        ...\n",
       "5534     1    1851.48\n",
       "5568     1    3405.00\n",
       "5603     1   20679.58\n",
       "5635     1  168304.05\n",
       "5636     1    1034.33\n",
       "\n",
       "[209 rows x 2 columns]"
      ]
     },
     "execution_count": 21,
     "metadata": {},
     "output_type": "execute_result"
    }
   ],
   "source": [
    "selected_index = (claims2010['Freq'] == 1)\n",
    "\n",
    "claims2010[selected_index][['Freq','y']]\n"
   ]
  },
  {
   "cell_type": "markdown",
   "id": "706e59b2",
   "metadata": {},
   "source": [
    "12. Calculate the average claim of the policyholder with the maximum number of claims.\n",
    "\n",
    "ind_freq_max = claims2010['Freq'].idxmax()\n",
    "\n",
    "max_claims = claims2010.loc[ind_freq_max,'Freq'] "
   ]
  },
  {
   "cell_type": "code",
   "execution_count": 22,
   "id": "c8e2f99a",
   "metadata": {},
   "outputs": [
    {
     "data": {
      "text/plain": [
       "936.3374476987448"
      ]
     },
     "execution_count": 22,
     "metadata": {},
     "output_type": "execute_result"
    }
   ],
   "source": [
    "claims2010.loc[ind_freq_max,'y'] / claims2010.loc[ind_freq_max,'Freq'] "
   ]
  },
  {
   "cell_type": "code",
   "execution_count": 23,
   "id": "31edd6cd",
   "metadata": {},
   "outputs": [
    {
     "data": {
      "text/html": [
       "<div>\n",
       "<style scoped>\n",
       "    .dataframe tbody tr th:only-of-type {\n",
       "        vertical-align: middle;\n",
       "    }\n",
       "\n",
       "    .dataframe tbody tr th {\n",
       "        vertical-align: top;\n",
       "    }\n",
       "\n",
       "    .dataframe thead th {\n",
       "        text-align: right;\n",
       "    }\n",
       "</style>\n",
       "<table border=\"1\" class=\"dataframe\">\n",
       "  <thead>\n",
       "    <tr style=\"text-align: right;\">\n",
       "      <th></th>\n",
       "      <th>PolicyNum</th>\n",
       "      <th>Year</th>\n",
       "      <th>LnCoverage</th>\n",
       "      <th>BCcov</th>\n",
       "      <th>Premium</th>\n",
       "      <th>Freq</th>\n",
       "      <th>Deduct</th>\n",
       "      <th>y</th>\n",
       "      <th>lny</th>\n",
       "      <th>yAvg</th>\n",
       "      <th>...</th>\n",
       "      <th>TypeCity</th>\n",
       "      <th>TypeCounty</th>\n",
       "      <th>TypeMisc</th>\n",
       "      <th>TypeSchool</th>\n",
       "      <th>TypeTown</th>\n",
       "      <th>TypeVillage</th>\n",
       "      <th>AC00</th>\n",
       "      <th>AC05</th>\n",
       "      <th>AC10</th>\n",
       "      <th>AC15</th>\n",
       "    </tr>\n",
       "  </thead>\n",
       "  <tbody>\n",
       "    <tr>\n",
       "      <th>count</th>\n",
       "      <td>5639.000000</td>\n",
       "      <td>5639.000000</td>\n",
       "      <td>5639.000000</td>\n",
       "      <td>5.639000e+03</td>\n",
       "      <td>5639.000000</td>\n",
       "      <td>5639.000000</td>\n",
       "      <td>5639.000000</td>\n",
       "      <td>5.639000e+03</td>\n",
       "      <td>5639.000000</td>\n",
       "      <td>5.639000e+03</td>\n",
       "      <td>...</td>\n",
       "      <td>5639.000000</td>\n",
       "      <td>5639.000000</td>\n",
       "      <td>5639.000000</td>\n",
       "      <td>5639.000000</td>\n",
       "      <td>5639.000000</td>\n",
       "      <td>5639.000000</td>\n",
       "      <td>5639.000000</td>\n",
       "      <td>5639.000000</td>\n",
       "      <td>5639.000000</td>\n",
       "      <td>5639.000000</td>\n",
       "    </tr>\n",
       "    <tr>\n",
       "      <th>mean</th>\n",
       "      <td>148880.491222</td>\n",
       "      <td>2007.979784</td>\n",
       "      <td>2.132881</td>\n",
       "      <td>3.728085e+07</td>\n",
       "      <td>14796.029793</td>\n",
       "      <td>1.109239</td>\n",
       "      <td>3364.869658</td>\n",
       "      <td>1.728730e+04</td>\n",
       "      <td>2.753088</td>\n",
       "      <td>9.291565e+03</td>\n",
       "      <td>...</td>\n",
       "      <td>0.140628</td>\n",
       "      <td>0.058166</td>\n",
       "      <td>0.107998</td>\n",
       "      <td>0.283206</td>\n",
       "      <td>0.172194</td>\n",
       "      <td>0.237808</td>\n",
       "      <td>0.463025</td>\n",
       "      <td>0.042383</td>\n",
       "      <td>0.057989</td>\n",
       "      <td>0.436602</td>\n",
       "    </tr>\n",
       "    <tr>\n",
       "      <th>std</th>\n",
       "      <td>15911.165649</td>\n",
       "      <td>1.415949</td>\n",
       "      <td>1.977179</td>\n",
       "      <td>1.034020e+08</td>\n",
       "      <td>25520.718048</td>\n",
       "      <td>8.549179</td>\n",
       "      <td>8273.670512</td>\n",
       "      <td>2.304627e+05</td>\n",
       "      <td>4.311270</td>\n",
       "      <td>1.975141e+05</td>\n",
       "      <td>...</td>\n",
       "      <td>0.347668</td>\n",
       "      <td>0.234078</td>\n",
       "      <td>0.310405</td>\n",
       "      <td>0.450596</td>\n",
       "      <td>0.377582</td>\n",
       "      <td>0.425779</td>\n",
       "      <td>0.498675</td>\n",
       "      <td>0.201480</td>\n",
       "      <td>0.233743</td>\n",
       "      <td>0.496008</td>\n",
       "    </tr>\n",
       "    <tr>\n",
       "      <th>min</th>\n",
       "      <td>120002.000000</td>\n",
       "      <td>2006.000000</td>\n",
       "      <td>-4.717555</td>\n",
       "      <td>8.937000e+03</td>\n",
       "      <td>9.000000</td>\n",
       "      <td>0.000000</td>\n",
       "      <td>500.000000</td>\n",
       "      <td>0.000000e+00</td>\n",
       "      <td>0.000000</td>\n",
       "      <td>0.000000e+00</td>\n",
       "      <td>...</td>\n",
       "      <td>0.000000</td>\n",
       "      <td>0.000000</td>\n",
       "      <td>0.000000</td>\n",
       "      <td>0.000000</td>\n",
       "      <td>0.000000</td>\n",
       "      <td>0.000000</td>\n",
       "      <td>0.000000</td>\n",
       "      <td>0.000000</td>\n",
       "      <td>0.000000</td>\n",
       "      <td>0.000000</td>\n",
       "    </tr>\n",
       "    <tr>\n",
       "      <th>25%</th>\n",
       "      <td>138112.000000</td>\n",
       "      <td>2007.000000</td>\n",
       "      <td>0.785066</td>\n",
       "      <td>2.192556e+06</td>\n",
       "      <td>1612.500000</td>\n",
       "      <td>0.000000</td>\n",
       "      <td>500.000000</td>\n",
       "      <td>0.000000e+00</td>\n",
       "      <td>0.000000</td>\n",
       "      <td>0.000000e+00</td>\n",
       "      <td>...</td>\n",
       "      <td>0.000000</td>\n",
       "      <td>0.000000</td>\n",
       "      <td>0.000000</td>\n",
       "      <td>0.000000</td>\n",
       "      <td>0.000000</td>\n",
       "      <td>0.000000</td>\n",
       "      <td>0.000000</td>\n",
       "      <td>0.000000</td>\n",
       "      <td>0.000000</td>\n",
       "      <td>0.000000</td>\n",
       "    </tr>\n",
       "    <tr>\n",
       "      <th>50%</th>\n",
       "      <td>150350.000000</td>\n",
       "      <td>2008.000000</td>\n",
       "      <td>2.429532</td>\n",
       "      <td>1.135357e+07</td>\n",
       "      <td>6578.000000</td>\n",
       "      <td>0.000000</td>\n",
       "      <td>1000.000000</td>\n",
       "      <td>0.000000e+00</td>\n",
       "      <td>0.000000</td>\n",
       "      <td>0.000000e+00</td>\n",
       "      <td>...</td>\n",
       "      <td>0.000000</td>\n",
       "      <td>0.000000</td>\n",
       "      <td>0.000000</td>\n",
       "      <td>0.000000</td>\n",
       "      <td>0.000000</td>\n",
       "      <td>0.000000</td>\n",
       "      <td>0.000000</td>\n",
       "      <td>0.000000</td>\n",
       "      <td>0.000000</td>\n",
       "      <td>0.000000</td>\n",
       "    </tr>\n",
       "    <tr>\n",
       "      <th>75%</th>\n",
       "      <td>160619.000000</td>\n",
       "      <td>2009.000000</td>\n",
       "      <td>3.606218</td>\n",
       "      <td>3.682654e+07</td>\n",
       "      <td>18184.000000</td>\n",
       "      <td>1.000000</td>\n",
       "      <td>2500.000000</td>\n",
       "      <td>2.181825e+03</td>\n",
       "      <td>7.687917</td>\n",
       "      <td>1.519706e+03</td>\n",
       "      <td>...</td>\n",
       "      <td>0.000000</td>\n",
       "      <td>0.000000</td>\n",
       "      <td>0.000000</td>\n",
       "      <td>1.000000</td>\n",
       "      <td>0.000000</td>\n",
       "      <td>0.000000</td>\n",
       "      <td>1.000000</td>\n",
       "      <td>0.000000</td>\n",
       "      <td>0.000000</td>\n",
       "      <td>1.000000</td>\n",
       "    </tr>\n",
       "    <tr>\n",
       "      <th>max</th>\n",
       "      <td>180791.000000</td>\n",
       "      <td>2010.000000</td>\n",
       "      <td>7.801717</td>\n",
       "      <td>2.444797e+09</td>\n",
       "      <td>412328.000000</td>\n",
       "      <td>263.000000</td>\n",
       "      <td>100000.000000</td>\n",
       "      <td>1.292222e+07</td>\n",
       "      <td>16.374459</td>\n",
       "      <td>1.292222e+07</td>\n",
       "      <td>...</td>\n",
       "      <td>1.000000</td>\n",
       "      <td>1.000000</td>\n",
       "      <td>1.000000</td>\n",
       "      <td>1.000000</td>\n",
       "      <td>1.000000</td>\n",
       "      <td>1.000000</td>\n",
       "      <td>1.000000</td>\n",
       "      <td>1.000000</td>\n",
       "      <td>1.000000</td>\n",
       "      <td>1.000000</td>\n",
       "    </tr>\n",
       "  </tbody>\n",
       "</table>\n",
       "<p>8 rows × 23 columns</p>\n",
       "</div>"
      ],
      "text/plain": [
       "           PolicyNum         Year   LnCoverage         BCcov        Premium  \\\n",
       "count    5639.000000  5639.000000  5639.000000  5.639000e+03    5639.000000   \n",
       "mean   148880.491222  2007.979784     2.132881  3.728085e+07   14796.029793   \n",
       "std     15911.165649     1.415949     1.977179  1.034020e+08   25520.718048   \n",
       "min    120002.000000  2006.000000    -4.717555  8.937000e+03       9.000000   \n",
       "25%    138112.000000  2007.000000     0.785066  2.192556e+06    1612.500000   \n",
       "50%    150350.000000  2008.000000     2.429532  1.135357e+07    6578.000000   \n",
       "75%    160619.000000  2009.000000     3.606218  3.682654e+07   18184.000000   \n",
       "max    180791.000000  2010.000000     7.801717  2.444797e+09  412328.000000   \n",
       "\n",
       "              Freq         Deduct             y          lny          yAvg  \\\n",
       "count  5639.000000    5639.000000  5.639000e+03  5639.000000  5.639000e+03   \n",
       "mean      1.109239    3364.869658  1.728730e+04     2.753088  9.291565e+03   \n",
       "std       8.549179    8273.670512  2.304627e+05     4.311270  1.975141e+05   \n",
       "min       0.000000     500.000000  0.000000e+00     0.000000  0.000000e+00   \n",
       "25%       0.000000     500.000000  0.000000e+00     0.000000  0.000000e+00   \n",
       "50%       0.000000    1000.000000  0.000000e+00     0.000000  0.000000e+00   \n",
       "75%       1.000000    2500.000000  2.181825e+03     7.687917  1.519706e+03   \n",
       "max     263.000000  100000.000000  1.292222e+07    16.374459  1.292222e+07   \n",
       "\n",
       "       ...     TypeCity   TypeCounty     TypeMisc   TypeSchool     TypeTown  \\\n",
       "count  ...  5639.000000  5639.000000  5639.000000  5639.000000  5639.000000   \n",
       "mean   ...     0.140628     0.058166     0.107998     0.283206     0.172194   \n",
       "std    ...     0.347668     0.234078     0.310405     0.450596     0.377582   \n",
       "min    ...     0.000000     0.000000     0.000000     0.000000     0.000000   \n",
       "25%    ...     0.000000     0.000000     0.000000     0.000000     0.000000   \n",
       "50%    ...     0.000000     0.000000     0.000000     0.000000     0.000000   \n",
       "75%    ...     0.000000     0.000000     0.000000     1.000000     0.000000   \n",
       "max    ...     1.000000     1.000000     1.000000     1.000000     1.000000   \n",
       "\n",
       "       TypeVillage         AC00         AC05         AC10         AC15  \n",
       "count  5639.000000  5639.000000  5639.000000  5639.000000  5639.000000  \n",
       "mean      0.237808     0.463025     0.042383     0.057989     0.436602  \n",
       "std       0.425779     0.498675     0.201480     0.233743     0.496008  \n",
       "min       0.000000     0.000000     0.000000     0.000000     0.000000  \n",
       "25%       0.000000     0.000000     0.000000     0.000000     0.000000  \n",
       "50%       0.000000     0.000000     0.000000     0.000000     0.000000  \n",
       "75%       0.000000     1.000000     0.000000     0.000000     1.000000  \n",
       "max       1.000000     1.000000     1.000000     1.000000     1.000000  \n",
       "\n",
       "[8 rows x 23 columns]"
      ]
     },
     "execution_count": 23,
     "metadata": {},
     "output_type": "execute_result"
    }
   ],
   "source": [
    "claims.describe()"
   ]
  },
  {
   "cell_type": "code",
   "execution_count": 24,
   "id": "c21ad2a7",
   "metadata": {},
   "outputs": [
    {
     "data": {
      "text/plain": [
       "PolicyNum        1.488805e+05\n",
       "Year             2.007980e+03\n",
       "LnCoverage       2.132881e+00\n",
       "BCcov            3.728085e+07\n",
       "Premium          1.479603e+04\n",
       "Freq             1.109239e+00\n",
       "Deduct           3.364870e+03\n",
       "y                1.728730e+04\n",
       "lny              2.753088e+00\n",
       "yAvg             9.291565e+03\n",
       "lnDeduct         7.157236e+00\n",
       "Fire5            5.552403e-01\n",
       "NoClaimCredit    3.286044e-01\n",
       "TypeCity         1.406278e-01\n",
       "TypeCounty       5.816634e-02\n",
       "TypeMisc         1.079979e-01\n",
       "TypeSchool       2.832062e-01\n",
       "TypeTown         1.721937e-01\n",
       "TypeVillage      2.378081e-01\n",
       "AC00             4.630254e-01\n",
       "AC05             4.238340e-02\n",
       "AC10             5.798901e-02\n",
       "AC15             4.366022e-01\n",
       "dtype: float64"
      ]
     },
     "execution_count": 24,
     "metadata": {},
     "output_type": "execute_result"
    }
   ],
   "source": [
    "claims.mean()"
   ]
  },
  {
   "cell_type": "markdown",
   "id": "2cd6a39c",
   "metadata": {},
   "source": [
    "## Part 2"
   ]
  },
  {
   "cell_type": "markdown",
   "id": "31d09579",
   "metadata": {},
   "source": [
    "1. Create a table that shows the 2010 claims frequency distribution. The table should contain the number of policies, the number of claims and the proportion (broken down by the number of claims).\n",
    "\n",
    "1.1. How many policyholders in the 2010 claims data have 9 or more claims?\n",
    "\n",
    "1.2. What is the percentage proportion of policyholders having exactly 3 claims?\n",
    "\n",
    "Goal: the table should tell us the (percentage) proportion of policyholders who did not have any claims, only one claim and so on. "
   ]
  },
  {
   "cell_type": "markdown",
   "id": "f1ba6ed9",
   "metadata": {},
   "source": [
    "2. From those 403 policyholders who made at least one claim, create a table that provides information about the distribution of average claim amounts in year 2010.\n",
    "\n",
    "2.1. What is the mean of the average claim amounts?\n",
    "\n",
    "2.2. What is the third quartile of the average claim amounts?"
   ]
  },
  {
   "cell_type": "markdown",
   "id": "11f9fe6d",
   "metadata": {},
   "source": [
    "First, we add the column, namely `ClaimsAvg` representing the average cost per claim for each observation. The average cost per claim (or claim average) amount is calculated by dividing the number of claims  by the total claim amount."
   ]
  },
  {
   "cell_type": "markdown",
   "id": "4ac21e5d",
   "metadata": {},
   "source": [
    "3. Consider the claims data over the 5 years between 2006-2010 inclusive. Create a table that show the average claim varies over time, average frequency, average coverage and the number of policyholders. \n",
    "\n",
    "3.1 What can you say about the number of policyholders over this period?\n",
    "\n",
    "3.2 How does the average coverage change over this period?"
   ]
  }
 ],
 "metadata": {
  "kernelspec": {
   "display_name": "Python 3 (ipykernel)",
   "language": "python",
   "name": "python3"
  },
  "language_info": {
   "codemirror_mode": {
    "name": "ipython",
    "version": 3
   },
   "file_extension": ".py",
   "mimetype": "text/x-python",
   "name": "python",
   "nbconvert_exporter": "python",
   "pygments_lexer": "ipython3",
   "version": "3.7.8"
  }
 },
 "nbformat": 4,
 "nbformat_minor": 5
}