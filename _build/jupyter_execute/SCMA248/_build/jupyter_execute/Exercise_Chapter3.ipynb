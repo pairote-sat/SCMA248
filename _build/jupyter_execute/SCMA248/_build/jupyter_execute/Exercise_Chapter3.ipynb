{
 "cells": [
  {
   "cell_type": "markdown",
   "id": "a348f173",
   "metadata": {},
   "source": [
    "## Exercise for Chapter 3\n",
    "\n",
    "This exercises is design to assist you how to use the pandas package to import, preprocess data and perform basic statistical analysis. Later we should see how data generating events can produce data of interest to insurance analysts.\n",
    "\n",
    "We will look at the Local Government Property Insurance Fund in this chapter. The fund insures property owned by municipal governments, such as schools and libraries.\n",
    "\n",
    "* government buildings,\n",
    "\n",
    "* educational institutions,\n",
    "\n",
    "* public libraries, and\n",
    "\n",
    "* motor vehicles.\n",
    "\n",
    "Over a thousand local government units are covered by the fund, which charges about \\$25 million in annual premiums and provides insurance coverage of about \\$75 billion."
   ]
  },
  {
   "cell_type": "markdown",
   "id": "b9c38619",
   "metadata": {},
   "source": [
    "**Exercises** Import the claim dataset namely ClaimsExperienceData.csv from my Github repository. Then write Python commands to answer the following questions.\n",
    "\n",
    "Follow the link below for more detailed attributes and methods of pandas:\n",
    "\n",
    "https://www.w3resource.com/python-exercises/pandas/index.php"
   ]
  },
  {
   "cell_type": "markdown",
   "id": "d20e4cc5",
   "metadata": {},
   "source": [
    "1. How many claims observations are there in this dataset?"
   ]
  },
  {
   "cell_type": "markdown",
   "id": "f7117285",
   "metadata": {},
   "source": [
    "2. How many variables (features) are there in this dataset? List (print out) all the features. "
   ]
  },
  {
   "cell_type": "markdown",
   "id": "cd91f80a",
   "metadata": {},
   "source": [
    "\n",
    "## Description of Rating Variables\n",
    "\n",
    "One of the important tasks of insurance analysts is to develop models to represent and manage the two outcome variables, **frequency** and **severity**. \n",
    "\n",
    "However, when actuaries and other financial analysts use those models, they do so in the context of external variables. \n",
    "\n",
    "In general statistical terminology, one might call these explanatory or predictor variables.\n",
    "\n",
    "Because of our insurance focus, we call them **rating variables** as they are useful in setting insurance rates and premiums.\n",
    "\n",
    "The following table describes the rating variables considered.\n",
    "\n",
    "These are variables that you think might naturally be related to claims outcomes.\n",
    "\n",
    "<!-- To handle the skewness, we henceforth focus on logarithmic transformations of coverage and deductibles. -->\n",
    "\n",
    "<!-- For our immediate purposes, the coverage is our first rating variable. Other things being equal, we would expect that policyholders with larger coverage have larger claims. We will make this vague idea much more precise as we proceed, and also justify this expectation with data. -->\n",
    "\n",
    "**Variable**  | **Description**\n",
    "----- | -------------\n",
    "EntityType    | Categorical variable that is one of six types: (Village, City, County, Misc, School, or Town) \n",
    "LnCoverage    | Total building and content coverage, in logarithmic millions of dollars\n",
    "LnDeduct      | Deductible, in logarithmic dollars\n",
    "AlarmCredit   | Categorical variable that is one of four types: (0, 5, 10, or 15) for automatic smoke alarms in main rooms\n",
    "NoClaimCredit | Binary variable to indicate no claims in the past two years\n",
    "Fire5         | Binary variable to indicate the fire class is below 5 (The range of fire class is 0 to 10)  "
   ]
  },
  {
   "cell_type": "markdown",
   "id": "b93a86a2",
   "metadata": {},
   "source": [
    "**In what follows, for illustrate, we will consider claims data in year 2010.**"
   ]
  },
  {
   "cell_type": "markdown",
   "id": "9fb5d127",
   "metadata": {},
   "source": [
    "3. How many policies are there in 2010? \n",
    "\n",
    "Name the answer with the variable name **num_policies**. \n",
    "\n",
    "Hint: one may use `.value_counts` method that return a Series containing counts of unique values. Alternatively, you want to count False and True separately you can use `pd.Series.sum()` + `~`."
   ]
  },
  {
   "cell_type": "markdown",
   "id": "7588acf0",
   "metadata": {},
   "source": [
    "4. How many claims are there in 2010? Assign the result to the variable **num_claims**."
   ]
  },
  {
   "cell_type": "markdown",
   "id": "c1cd2887",
   "metadata": {},
   "source": [
    "5. Which policy number has the maximum number of claims and what is this claims number?"
   ]
  },
  {
   "cell_type": "markdown",
   "id": "a2dbc68a",
   "metadata": {},
   "source": [
    "With `.idxmax()`, we can return the index at which maximum weight value is present.\n",
    "\n",
    "See https://www.geeksforgeeks.org/get-the-index-of-maximum-value-in-dataframe-column/."
   ]
  },
  {
   "cell_type": "markdown",
   "id": "baa12881",
   "metadata": {},
   "source": [
    "6. Calculate the proportion of policyholders who did not have any claims (use the name **num_policies_no_claims** for your output)."
   ]
  },
  {
   "cell_type": "markdown",
   "id": "caaf6dee",
   "metadata": {},
   "source": [
    "7. Calculate the proportion of policyholders who had only one claim."
   ]
  },
  {
   "cell_type": "markdown",
   "id": "afd3f04e",
   "metadata": {},
   "source": [
    "8. Calculate the average number of claims for this sample. "
   ]
  },
  {
   "cell_type": "markdown",
   "id": "e586357b",
   "metadata": {},
   "source": [
    "9. The `describe()` method is used for calculating some statistical data like percentile, mean and std of the numerical values of the Series or DataFrame. \n",
    "\n",
    "Applying to year 2010, what do we get when we run the command claims.describe()?"
   ]
  },
  {
   "cell_type": "markdown",
   "id": "e78412a9",
   "metadata": {},
   "source": [
    "10. A common method for determining the severity distribution is to look at the distribution of the sample of 1,377 claims. Another typical strategy is to look at the **distribution of average claims among policyholders who have made claims**.\n",
    "\n",
    "In our 2010 sample, how many such policyholders who have made claims?"
   ]
  },
  {
   "cell_type": "markdown",
   "id": "b430e69c",
   "metadata": {},
   "source": [
    "11. The average claim for the 209 policyholders who had only one claim is the same as the single claim they had. \n",
    "\n",
    "Write the command(s) to list the average claim of such 209 policyholders."
   ]
  },
  {
   "cell_type": "markdown",
   "id": "61282c25",
   "metadata": {},
   "source": [
    "12. Calculate the average claim of the policyholder with the maximum number of claims."
   ]
  }
 ],
 "metadata": {
  "kernelspec": {
   "display_name": "Python 3 (ipykernel)",
   "language": "python",
   "name": "python3"
  },
  "language_info": {
   "codemirror_mode": {
    "name": "ipython",
    "version": 3
   },
   "file_extension": ".py",
   "mimetype": "text/x-python",
   "name": "python",
   "nbconvert_exporter": "python",
   "pygments_lexer": "ipython3",
   "version": "3.7.8"
  }
 },
 "nbformat": 4,
 "nbformat_minor": 5
}