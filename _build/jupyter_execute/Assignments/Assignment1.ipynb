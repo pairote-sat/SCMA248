{
 "cells": [
  {
   "cell_type": "markdown",
   "id": "456cbc30",
   "metadata": {
    "cell_id": "68a7c268-741d-4d29-a4ab-ae6e6522384e",
    "deepnote_cell_type": "markdown"
   },
   "source": [
    "##  Assignment 1 (Exercise for Chapter 3)\n",
    "\n",
    "This exercises is design to assist you how to use the pandas package to import, preprocess data and perform basic statistical analysis. Later we should see how data generating events can produce data of interest to insurance analysts.\n",
    "\n",
    "We will look at the Local Government Property Insurance Fund in this chapter. The fund insures property owned by municipal governments, such as schools and libraries.\n",
    "\n",
    "* government buildings,\n",
    "\n",
    "* educational institutions,\n",
    "\n",
    "* public libraries, and\n",
    "\n",
    "* motor vehicles.\n",
    "\n",
    "Over a thousand local government units are covered by the fund, which charges about \\$25 million in annual premiums and provides insurance coverage of about \\$75 billion."
   ]
  },
  {
   "cell_type": "markdown",
   "id": "fdf17d98",
   "metadata": {
    "cell_id": "1aa1445f-6920-4822-94a4-fe17f1a6a216",
    "deepnote_cell_type": "markdown",
    "tags": []
   },
   "source": [
    "**Instructions:**\n",
    "\n",
    "Due date: 20 January 2022 before 4 pm. \n",
    "\n",
    "Points: 5\n",
    "\n",
    "1. **Do not alter this file.**\n",
    "2. Form a group of two members.\n",
    "3. Duplicate this file and move it into the Personal folder (you may share access to your team member).\n",
    "4. **Rename** the file as Assignment1_id1_id2 (id1 and id2 are student ID numbers in ascending order, e.g. Assignment1_6305001_6305001).\n",
    "5. Write Python commands to answer each of the questions. \n",
    "6. For each question that **requires numerical values** (not list or dataframe), you also need to **assign the variable** e.g. ans1 to store the numerical answer for question 1. If there is more than 1 answer required, you must create more variables e.g. ans1_1, ans1_2 to store the values of the answers.\n",
    "7. When you want to submit your file, you simply share access with me using my email pairote.sat@mahidol.edu. **Do not move your file into the DS@MathMahidol team**."
   ]
  },
  {
   "cell_type": "markdown",
   "id": "8cdf2ee8",
   "metadata": {
    "cell_id": "00001-8b1bc2f9-cf62-444c-8104-5e2aaddfc88a",
    "deepnote_cell_type": "markdown"
   },
   "source": [
    "**Exercises** Import the claim dataset namely ClaimsExperienceData.csv from my Github repository. Then write Python commands to answer the following questions.\n",
    "\n",
    "Follow the link below for more detailed attributes and methods of pandas:\n",
    "\n",
    "https://www.w3resource.com/python-exercises/pandas/index.php"
   ]
  },
  {
   "cell_type": "markdown",
   "id": "4935545c",
   "metadata": {
    "cell_id": "4950d51a-a5ab-4b0d-a4ee-1ba7433d8cd9",
    "deepnote_cell_type": "markdown",
    "tags": []
   },
   "source": [
    "0. Enter student IDs of your group."
   ]
  },
  {
   "cell_type": "code",
   "execution_count": 1,
   "id": "f064cb39",
   "metadata": {
    "cell_id": "3a790bef-b494-4acb-949e-f1678e180331",
    "deepnote_cell_type": "code",
    "deepnote_to_be_reexecuted": false,
    "execution_millis": 42,
    "execution_start": 1643099875061,
    "source_hash": "b96534c4",
    "tags": []
   },
   "outputs": [],
   "source": [
    "id1 = '6305001'\n",
    "id2 = '6305002'"
   ]
  },
  {
   "cell_type": "markdown",
   "id": "f3613273",
   "metadata": {
    "cell_id": "00002-35f0295d-20b7-48eb-a136-66e393967704",
    "deepnote_cell_type": "markdown"
   },
   "source": [
    "1. How many claims observations are there in this dataset? "
   ]
  },
  {
   "cell_type": "code",
   "execution_count": null,
   "id": "b0eef78b",
   "metadata": {
    "cell_id": "742eebee-c866-4622-8ece-95e95f63f1b0",
    "deepnote_cell_type": "code",
    "tags": []
   },
   "outputs": [],
   "source": []
  },
  {
   "cell_type": "markdown",
   "id": "431c1694",
   "metadata": {
    "cell_id": "00003-d3c85bf3-4c30-417d-9e59-29d2605e7833",
    "deepnote_cell_type": "markdown"
   },
   "source": [
    "2. How many variables (features) are there in this dataset? List (print out) all the features. "
   ]
  },
  {
   "cell_type": "code",
   "execution_count": null,
   "id": "20370451",
   "metadata": {
    "cell_id": "fcede770-6887-4362-a3ff-6071a5c313fb",
    "deepnote_cell_type": "code",
    "tags": []
   },
   "outputs": [],
   "source": []
  },
  {
   "cell_type": "markdown",
   "id": "5aec4480",
   "metadata": {
    "cell_id": "00004-ae4dbf7e-4f20-49f2-b502-d201ec2a272f",
    "deepnote_cell_type": "markdown"
   },
   "source": [
    "\n",
    "## Description of Rating Variables\n",
    "\n",
    "One of the important tasks of insurance analysts is to develop models to represent and manage the two outcome variables, **frequency** and **severity**. \n",
    "\n",
    "However, when actuaries and other financial analysts use those models, they do so in the context of external variables. \n",
    "\n",
    "In general statistical terminology, one might call these explanatory or predictor variables.\n",
    "\n",
    "Because of our insurance focus, we call them **rating variables** as they are useful in setting insurance rates and premiums.\n",
    "\n",
    "The following table describes the rating variables considered.\n",
    "\n",
    "These are variables that you think might naturally be related to claims \n",
    "outcomes.\n",
    "\n",
    "See https://docs.google.com/spreadsheets/d/1DDFO93sGVfA3N-jYLs5yoqRXvZTFNvTmp8dguqo0qlE/edit#gid=0 for more details.\n",
    "\n",
    "<!-- To handle the skewness, we henceforth focus on logarithmic transformations of coverage and deductibles. -->\n",
    "\n",
    "<!-- For our immediate purposes, the coverage is our first rating variable. Other things being equal, we would expect that policyholders with larger coverage have larger claims. We will make this vague idea much more precise as we proceed, and also justify this expectation with data. -->\n",
    "\n",
    "**Variable**  | **Description**\n",
    "----- | -------------\n",
    "EntityType    | Categorical variable that is one of six types: (Village, City, County, Misc, School, or Town) \n",
    "LnCoverage    | Total building and content coverage, in logarithmic millions of dollars\n",
    "LnDeduct      | Deductible, in logarithmic dollars\n",
    "AlarmCredit   | Categorical variable that is one of four types: (0, 5, 10, or 15) for automatic smoke alarms in main rooms\n",
    "NoClaimCredit | Binary variable to indicate no claims in the past two years\n",
    "Fire5         | Binary variable to indicate the fire class is below 5 (The range of fire class is 0 to 10)  "
   ]
  },
  {
   "cell_type": "markdown",
   "id": "14f823af",
   "metadata": {
    "cell_id": "00005-3661b928-1a89-4423-b154-97279edd7a4c",
    "deepnote_cell_type": "markdown"
   },
   "source": [
    "**In what follows, for illustrate, we will consider claims data in year 2010.**"
   ]
  },
  {
   "cell_type": "markdown",
   "id": "550405e6",
   "metadata": {
    "cell_id": "00006-765b7e5c-b4a9-47ea-a95a-50dc3c08d983",
    "deepnote_cell_type": "markdown"
   },
   "source": [
    "3. How many policies are there in 2010? \n",
    "\n",
    "Name the answer with the variable name **num_policies**. \n",
    "\n",
    "Hint: one may use `.value_counts` method that return a Series containing counts of unique values. Alternatively, you want to count False and True separately you can use `pd.Series.sum()` + `~`."
   ]
  },
  {
   "cell_type": "code",
   "execution_count": 2,
   "id": "6c31efad",
   "metadata": {
    "cell_id": "a398a982-b111-4f7a-87ba-8ccad487cce3",
    "deepnote_cell_type": "code",
    "deepnote_to_be_reexecuted": false,
    "execution_millis": 9,
    "execution_start": 1643099875283,
    "source_hash": "3068f023",
    "tags": []
   },
   "outputs": [
    {
     "ename": "SyntaxError",
     "evalue": "invalid syntax (1375678471.py, line 5)",
     "output_type": "error",
     "traceback": [
      "\u001b[0;36m  File \u001b[0;32m\"/var/folders/kl/h_r05n_j76n32kt0dwy7kynw0000gn/T/ipykernel_6036/1375678471.py\"\u001b[0;36m, line \u001b[0;32m5\u001b[0m\n\u001b[0;31m    num_policies =\u001b[0m\n\u001b[0m                   ^\u001b[0m\n\u001b[0;31mSyntaxError\u001b[0m\u001b[0;31m:\u001b[0m invalid syntax\n"
     ]
    }
   ],
   "source": [
    "# Put your Python commands here.\n",
    "\n",
    "\n",
    "\n",
    "num_policies = \n",
    "\n",
    "\n",
    "# Do not forget to assign the variable ans3.\n",
    "\n",
    "ans3 = "
   ]
  },
  {
   "cell_type": "markdown",
   "id": "a601182a",
   "metadata": {
    "cell_id": "00007-cda27d7b-e333-4cb5-b463-392772a48835",
    "deepnote_cell_type": "markdown"
   },
   "source": [
    "4. How many claims are there in 2010? Assign the result to the variable **num_claims**."
   ]
  },
  {
   "cell_type": "markdown",
   "id": "370983de",
   "metadata": {
    "cell_id": "00008-e78c5031-c086-4602-83c9-ff8d3a398985",
    "deepnote_cell_type": "markdown"
   },
   "source": [
    "5. Which policy number has the maximum number of claims and what is this claims number? Create ans5_1 to store the policy number and ans5_2 for the required claims number."
   ]
  },
  {
   "cell_type": "markdown",
   "id": "108e0687",
   "metadata": {
    "cell_id": "00009-26a63dbf-6d24-4559-82c5-6501f1ba38d4",
    "deepnote_cell_type": "markdown"
   },
   "source": [
    "With `.idxmax()`, we can return the index at which maximum weight value is present.\n",
    "\n",
    "See https://www.geeksforgeeks.org/get-the-index-of-maximum-value-in-dataframe-column/."
   ]
  },
  {
   "cell_type": "markdown",
   "id": "772d5ab3",
   "metadata": {
    "cell_id": "00010-722b5ab8-9e27-4eb3-afaf-21b78a008f51",
    "deepnote_cell_type": "markdown"
   },
   "source": [
    "6. Calculate the percentage of policyholders who did not have any claims (use the name **num_policies_no_claims** for your output)."
   ]
  },
  {
   "cell_type": "markdown",
   "id": "dc7d9700",
   "metadata": {
    "cell_id": "00011-830822f4-103b-490f-96d7-23a561a739a4",
    "deepnote_cell_type": "markdown"
   },
   "source": [
    "7. Calculate the percentage of policyholders who had only one claim."
   ]
  },
  {
   "cell_type": "markdown",
   "id": "882ca351",
   "metadata": {
    "cell_id": "00012-fefcf8c8-7b5d-4cb0-bc7b-fd16b73fd4a3",
    "deepnote_cell_type": "markdown"
   },
   "source": [
    "8. Calculate the average number of claims for this sample. "
   ]
  },
  {
   "cell_type": "markdown",
   "id": "28817c7e",
   "metadata": {
    "cell_id": "00013-c3cb734c-ff7e-4fcd-981a-92f11a801d59",
    "deepnote_cell_type": "markdown"
   },
   "source": [
    "9. The `describe()` method is used for calculating some statistical data like percentile, mean and std of the numerical values of the Series or DataFrame. \n",
    "\n",
    "Applying to year 2010, what do we get when we run the command claims.describe()? **Do not need to create ans9**."
   ]
  },
  {
   "cell_type": "markdown",
   "id": "fabe9a52",
   "metadata": {
    "cell_id": "00014-f559959a-8030-4f2e-809b-152ee858f75b",
    "deepnote_cell_type": "markdown"
   },
   "source": [
    "10. A common method for determining the severity distribution is to look at the distribution of the sample of 1,377 claims. Another typical strategy is to look at the **distribution of average claims among policyholders who have made claims**.\n",
    "\n",
    "In our 2010 sample, how many such policyholders who have made claims?"
   ]
  },
  {
   "cell_type": "markdown",
   "id": "658bf7db",
   "metadata": {
    "cell_id": "00015-29cb8ab5-2146-4e87-8fee-5938003d082f",
    "deepnote_cell_type": "markdown"
   },
   "source": [
    "11. The average claim for the 209 policyholders who had only one claim is the same as the single claim they had. \n",
    "\n",
    "Write the command(s) to list the average claim of such 209 policyholders. **Do not need to create ans11**."
   ]
  },
  {
   "cell_type": "markdown",
   "id": "1bc49f35",
   "metadata": {
    "cell_id": "00016-1e15f30c-7fba-4151-839c-6b6c2109cdb7",
    "deepnote_cell_type": "markdown"
   },
   "source": [
    "12. Calculate the average claim of the policyholder with the maximum number of claims."
   ]
  },
  {
   "cell_type": "code",
   "execution_count": null,
   "id": "3bc556b8",
   "metadata": {
    "cell_id": "ca58e7e8-b3cd-4719-8e74-c8a6fbde8238",
    "deepnote_cell_type": "code",
    "deepnote_to_be_reexecuted": true,
    "source_hash": "b623e53d",
    "tags": []
   },
   "outputs": [],
   "source": []
  },
  {
   "cell_type": "markdown",
   "id": "f3409591",
   "metadata": {
    "created_in_deepnote_cell": true,
    "deepnote_cell_type": "markdown",
    "tags": []
   },
   "source": [
    "<a style='text-decoration:none;line-height:16px;display:flex;color:#5B5B62;padding:10px;justify-content:end;' href='https://deepnote.com?utm_source=created-in-deepnote-cell&projectId=3527f36d-518e-4043-8fe3-14e8fae5803c' target=\"_blank\">\n",
    "<img alt='Created in deepnote.com' style='display:inline;max-height:16px;margin:0px;margin-right:7.5px;' src='data:image/svg+xml;base64,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' > </img>\n",
    "Created in <span style='font-weight:600;margin-left:4px;'>Deepnote</span></a>"
   ]
  }
 ],
 "metadata": {
  "deepnote": {},
  "deepnote_execution_queue": [],
  "deepnote_notebook_id": "47ff796e-f0a3-4c15-b65b-a1095bfed853",
  "kernelspec": {
   "display_name": "Python 3 (ipykernel)",
   "language": "python",
   "name": "python3"
  },
  "language_info": {
   "codemirror_mode": {
    "name": "ipython",
    "version": 3
   },
   "file_extension": ".py",
   "mimetype": "text/x-python",
   "name": "python",
   "nbconvert_exporter": "python",
   "pygments_lexer": "ipython3",
   "version": "3.7.8"
  }
 },
 "nbformat": 4,
 "nbformat_minor": 5
}