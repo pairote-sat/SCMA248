{
 "cells": [
  {
   "cell_type": "markdown",
   "id": "ba7fc892",
   "metadata": {
    "cell_id": "6c17f812-00ad-4787-bb7d-445d24fa7a1a",
    "deepnote_cell_height": 481,
    "deepnote_cell_type": "markdown"
   },
   "source": [
    "## Assignment 3 (Exercise for Chapter 4)\n",
    "\n",
    "Due date: 15 February 2022 before 4 pm.\n",
    "\n",
    "Points: 5 + (**4 extra points**)\n",
    "\n",
    "Do not alter this file.\n",
    "1. Form a group of two members. The group member must be different from the previous Assignments 1 and 2.\n",
    "\n",
    "2. Duplicate this file and move it into the Personal folder (you may share access to your team member). Rename the file as Assignment3_id1_id2 (id1 and id2 are student ID numbers in ascending order, e.g. Assignment3_6305001_6305001).\n",
    "\n",
    "3. Write Python commands to answer each of the questions. For each question that requires numerical values (not list or dataframe), you also need to assign the variable e.g. ans1 to store the numerical answer for question 1. If there is more than 1 answer required, you must create more variables e.g. ans1_1, ans1_2 to store the values of the answers.\n",
    "\n",
    "4. When you want to submit your file, you simply share access with me using my email pairote.sat@mahidol.edu and my TA p.pooy.pui.i@gmail.com. Do not move your file into the DS@MathMahidol team."
   ]
  },
  {
   "cell_type": "markdown",
   "id": "db84aedf",
   "metadata": {
    "cell_id": "00001-70b972a0-d679-48f8-b925-21ade84d8470",
    "deepnote_cell_height": 422,
    "deepnote_cell_type": "markdown"
   },
   "source": [
    "**Background:**\n",
    "\n",
    "According to the research result **Socioeconomic development and life expectancy relationship: evidence from the EU accession candidate countries** by Goran Miladinov in Journal of Population Sciences, Genus volume 76, Article number: 2 (2020), the results show that \n",
    "\n",
    "* a country's population health and socioeconomic development have a significant impact on life expectancy at birth; \n",
    "\n",
    "* in other words, as a country's population health and socioeconomic development improves, infant mortality rates decrease, and life expectancy at birth appears to rise. \n",
    "\n",
    "* Through increased economic growth and development in a country, **GDP per capita raises life expectancy at birth, resulting in a longer lifespan**.\n",
    "\n",
    "https://genus.springeropen.com/articles/10.1186/s41118-019-0071-0#:~:text=GDP%20per%20capita%20increases%20the,to%20the%20prolongation%20of%20longevity.)\n",
    "\n",
    "**Goals:** In this exercise, we use data to attempt to gain insight on the relationship between life expectancy and gdp per capita of world countries.\n"
   ]
  },
  {
   "cell_type": "markdown",
   "id": "3c4e9bbb",
   "metadata": {
    "cell_id": "c14c8d22-f13b-4ea2-a13e-34c21851f15f",
    "deepnote_cell_height": 69,
    "deepnote_cell_type": "markdown",
    "tags": []
   },
   "source": [
    "0. Enter student IDs of your group."
   ]
  },
  {
   "cell_type": "markdown",
   "id": "4630ba42",
   "metadata": {
    "cell_id": "00002-cef82f92-a2f3-41bd-9102-b7798e45d44b",
    "deepnote_cell_height": 113,
    "deepnote_cell_type": "markdown"
   },
   "source": [
    "1. Import the Gapminder World dataset from the following link. Name the data frame as gapminder, i.e. gapminder = read.csv(...) \n",
    "\n",
    "https://raw.githubusercontent.com/pairote-sat/SCMA248/main/Data/gapminder_full.csv"
   ]
  },
  {
   "cell_type": "markdown",
   "id": "347fdf25",
   "metadata": {
    "cell_id": "00009-a893daee-d616-4a3e-9b6c-2d73265848a4",
    "deepnote_cell_height": 52,
    "deepnote_cell_type": "markdown"
   },
   "source": [
    "We will begin by looking at some of its features to get get an idea of its content."
   ]
  },
  {
   "cell_type": "markdown",
   "id": "99f1ab97",
   "metadata": {
    "cell_id": "00010-abc22a17-9d1a-47cd-948b-cf8208f8a017",
    "deepnote_cell_height": 251,
    "deepnote_cell_type": "markdown"
   },
   "source": [
    "2. How many qualitative variables are there in this Gapminder dataset?\n",
    "(See for more detail:\n",
    "\n",
    "https://www.abs.gov.au/websitedbs/D3310114.nsf/Home/Statistical+Language+-+quantitative+and+qualitative+data#:~:text=What%20are%20quantitative%20and%20qualitative,much%3B%20or%20how%20often).&text=Qualitative%20data%20are%20data%20about%20categorical%20variables%20(e.g.%20what%20type).\n",
    "\n",
    "**Note:** It is crucial to figure out whether the data is quantitative or qualitative, as this has an impact on the statistics that can be obtained."
   ]
  },
  {
   "cell_type": "code",
   "execution_count": 1,
   "id": "c965ddbd",
   "metadata": {
    "cell_id": "109adc8d-781b-4ae4-ba58-3819b1b84823",
    "deepnote_cell_height": 135,
    "deepnote_cell_type": "code",
    "deepnote_to_be_reexecuted": false,
    "execution_millis": 1,
    "execution_start": 1644116741314,
    "source_hash": "54f80a00",
    "tags": []
   },
   "outputs": [
    {
     "ename": "SyntaxError",
     "evalue": "invalid syntax (523107799.py, line 4)",
     "output_type": "error",
     "traceback": [
      "\u001b[0;36m  File \u001b[0;32m\"/var/folders/kl/h_r05n_j76n32kt0dwy7kynw0000gn/T/ipykernel_5441/523107799.py\"\u001b[0;36m, line \u001b[0;32m4\u001b[0m\n\u001b[0;31m    ans2 =\u001b[0m\n\u001b[0m          ^\u001b[0m\n\u001b[0;31mSyntaxError\u001b[0m\u001b[0;31m:\u001b[0m invalid syntax\n"
     ]
    }
   ],
   "source": [
    "# Put your Python commands here.\n",
    "# Do not forget to assign the variables ans2.\n",
    "\n",
    "ans2 ="
   ]
  },
  {
   "cell_type": "markdown",
   "id": "e37fe4d3",
   "metadata": {
    "cell_id": "00011-f944a92d-ae32-4746-953d-38de0aead35a",
    "deepnote_cell_height": 91,
    "deepnote_cell_type": "markdown"
   },
   "source": [
    "3. Write Python code to create a table that gives the number of countries in each continent of **the lastest year** in this dataset."
   ]
  },
  {
   "cell_type": "markdown",
   "id": "25a265a4",
   "metadata": {
    "cell_id": "00012-651dd7db-e038-4bd2-9663-782f077b3cfb",
    "deepnote_cell_height": 69,
    "deepnote_cell_type": "markdown"
   },
   "source": [
    "4. Write Python code to graphically present the results obtained in the previous question."
   ]
  },
  {
   "cell_type": "markdown",
   "id": "fb8de0a1",
   "metadata": {
    "cell_id": "00013-e159dfaa-a9aa-4071-b96c-fc2eb5055c9d",
    "deepnote_cell_height": 171,
    "deepnote_cell_type": "markdown"
   },
   "source": [
    "5. **What Is GDP Per Capita?**\n",
    "\n",
    "The per capita gross domestic product (GDP) is a financial measure that calculates a country's economic output per person by dividing its GDP by its population.\n",
    "\n",
    "Write Python code to summarize some statistical data like percentile, mean and standard deviation of the GDP per capita of the latest year broken down by continent."
   ]
  },
  {
   "cell_type": "markdown",
   "id": "7c0d0a2e",
   "metadata": {
    "cell_id": "00014-198d4e95-92a5-4aa0-b777-20ce9f6dc994",
    "deepnote_cell_height": 37,
    "deepnote_cell_type": "markdown"
   },
   "source": [
    "6. What is the average GDP per capita in Asian countries obtained above?"
   ]
  },
  {
   "cell_type": "markdown",
   "id": "3fd68ca8",
   "metadata": {
    "cell_id": "00015-c0d9fd33-9585-4f2d-b285-b2e2136450ec",
    "deepnote_cell_height": 37,
    "deepnote_cell_type": "markdown"
   },
   "source": [
    "7. Plot the histogram for per capita GDP in each continent."
   ]
  },
  {
   "cell_type": "markdown",
   "id": "5cfb4f49",
   "metadata": {
    "cell_id": "cf1218d7-ccc5-44ab-a01b-321cc2767f8c",
    "deepnote_cell_height": 415,
    "deepnote_cell_type": "markdown",
    "tags": []
   },
   "source": [
    "**Extra questions for extra points (4 points):**\n",
    "\n",
    "Complete questions 8 and 9 to earn extra points.\n",
    "\n",
    "For the following questions, you will need to check out the lecture note in Chapter 4 and you will require to preprocess the orginal data by adding regional classfication into Gapminder dataset. Then the column `group` can then be added. \n",
    "\n",
    "\n",
    "8. Append the column called `group` that groups countries into 5 different groups as follows:\n",
    "\n",
    "* West: [\"Western Europe\", \"Northern Europe\",\"Southern Europe\", \"Northern America\",\n",
    "\"Australia and New Zealand\"]\n",
    "\n",
    "* East Asia: [\"Eastern Asia\", \"South-Eastern Asia\"]\n",
    "\n",
    "* Latin America: [\"Caribbean\", \"Central America\",\n",
    "\"South America\"]\n",
    "\n",
    "* Sub-Saharan: [continent == \"Africa\"] &\n",
    "[region != \"Northern Africa\"]\n",
    "\n",
    "* Other: All remaining countries (also including NAN). \n"
   ]
  },
  {
   "cell_type": "markdown",
   "id": "de67ecf0",
   "metadata": {
    "cell_id": "4927b747-87e9-4461-aaf2-73fcde48e2fb",
    "deepnote_cell_height": 37,
    "deepnote_cell_type": "markdown",
    "tags": []
   },
   "source": [
    "9. We now want to compare the distribution across these five groups to confirm the “west versus the rest” dichotomy. To do this, we will work with the 1967 data. We could generate five histograms or five smooth density plots, but it may be more practical to have all the visual summaries **in one plot**. Write Python code to stack smooth density plots (or histograms) vertically (with slightly overlapping lines) that share the same x-axis."
   ]
  },
  {
   "cell_type": "markdown",
   "id": "45d68e14",
   "metadata": {
    "cell_id": "4c24ed73-be54-48a9-9848-770702745c31",
    "deepnote_cell_height": 37,
    "deepnote_cell_type": "markdown",
    "tags": []
   },
   "source": []
  },
  {
   "cell_type": "markdown",
   "id": "08d57606",
   "metadata": {
    "created_in_deepnote_cell": true,
    "deepnote_cell_type": "markdown",
    "tags": []
   },
   "source": [
    "<a style='text-decoration:none;line-height:16px;display:flex;color:#5B5B62;padding:10px;justify-content:end;' href='https://deepnote.com?utm_source=created-in-deepnote-cell&projectId=12070ee6-174f-413c-891e-cf48f85a843a' target=\"_blank\">\n",
    "<img alt='Created in deepnote.com' style='display:inline;max-height:16px;margin:0px;margin-right:7.5px;' src='data:image/svg+xml;base64,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' > </img>\n",
    "Created in <span style='font-weight:600;margin-left:4px;'>Deepnote</span></a>"
   ]
  }
 ],
 "metadata": {
  "deepnote": {},
  "deepnote_execution_queue": [],
  "deepnote_notebook_id": "cb80f877-f261-4d5c-8394-85c386d356bf",
  "kernelspec": {
   "display_name": "Python 3 (ipykernel)",
   "language": "python",
   "name": "python3"
  },
  "language_info": {
   "codemirror_mode": {
    "name": "ipython",
    "version": 3
   },
   "file_extension": ".py",
   "mimetype": "text/x-python",
   "name": "python",
   "nbconvert_exporter": "python",
   "pygments_lexer": "ipython3",
   "version": "3.7.8"
  }
 },
 "nbformat": 4,
 "nbformat_minor": 5
}