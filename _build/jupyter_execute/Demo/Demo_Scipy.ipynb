{
 "cells": [
  {
   "cell_type": "code",
   "execution_count": 1,
   "id": "961d4eba",
   "metadata": {},
   "outputs": [],
   "source": [
    "%matplotlib inline\n",
    "import pandas as pd\n",
    "import numpy as np\n",
    "import matplotlib.pyplot as plt\n",
    "import time\n",
    "import math\n",
    "\n",
    "from scipy import stats\n",
    "from scipy.stats import *\n",
    "\n",
    "ksN = 100           # Kolmogorov-Smirnov KS test for goodness of fit: samples\n",
    "ALPHA = 0.05        # significance level for hypothesis test"
   ]
  },
  {
   "cell_type": "code",
   "execution_count": 2,
   "id": "34f106fe",
   "metadata": {},
   "outputs": [
    {
     "name": "stderr",
     "output_type": "stream",
     "text": [
      "No handles with labels found to put in legend.\n"
     ]
    },
    {
     "data": {
      "image/png": "[encoded data removed]",
      "text/plain": [
       "<Figure size 432x288 with 1 Axes>"
      ]
     },
     "metadata": {
      "filenames": {
       "image/png": "/Users/Kaemyuijang/SCMA248/_build/jupyter_execute/Demo/Demo_Scipy_1_1.png"
      },
      "needs_background": "light"
     },
     "output_type": "display_data"
    }
   ],
   "source": [
    "# example: properties of the beta distribution\n",
    "\n",
    "a, b = 2, 6\n",
    "\n",
    "x = beta.rvs(a, b, size=1000)\n",
    "\n",
    "fig, ax = plt.subplots(1, 1)\n",
    "ax.hist(x, density=True, histtype='stepfilled', alpha=0.2)\n",
    "ax.legend(loc='best', frameon=False)\n",
    "plt.show()"
   ]
  },
  {
   "cell_type": "code",
   "execution_count": 3,
   "id": "c0d05f8d",
   "metadata": {},
   "outputs": [
    {
     "data": {
      "text/plain": [
       "0.25"
      ]
     },
     "execution_count": 3,
     "metadata": {},
     "output_type": "execute_result"
    }
   ],
   "source": [
    "beta.mean(a,b)"
   ]
  },
  {
   "cell_type": "code",
   "execution_count": 4,
   "id": "09bfa35f",
   "metadata": {},
   "outputs": [
    {
     "data": {
      "text/plain": [
       "0.2502313210638179"
      ]
     },
     "execution_count": 4,
     "metadata": {},
     "output_type": "execute_result"
    }
   ],
   "source": [
    "x.mean()"
   ]
  },
  {
   "cell_type": "code",
   "execution_count": 5,
   "id": "b6858fc1",
   "metadata": {},
   "outputs": [
    {
     "data": {
      "text/plain": [
       "1.0"
      ]
     },
     "execution_count": 5,
     "metadata": {},
     "output_type": "execute_result"
    }
   ],
   "source": [
    "beta.b"
   ]
  },
  {
   "cell_type": "code",
   "execution_count": 6,
   "id": "9a880527",
   "metadata": {},
   "outputs": [
    {
     "data": {
      "text/plain": [
       "inf"
      ]
     },
     "execution_count": 6,
     "metadata": {},
     "output_type": "execute_result"
    }
   ],
   "source": [
    "norm.b"
   ]
  },
  {
   "cell_type": "code",
   "execution_count": null,
   "id": "1fe17a54",
   "metadata": {},
   "outputs": [],
   "source": []
  }
 ],
 "metadata": {
  "kernelspec": {
   "display_name": "Python 3 (ipykernel)",
   "language": "python",
   "name": "python3"
  },
  "language_info": {
   "codemirror_mode": {
    "name": "ipython",
    "version": 3
   },
   "file_extension": ".py",
   "mimetype": "text/x-python",
   "name": "python",
   "nbconvert_exporter": "python",
   "pygments_lexer": "ipython3",
   "version": "3.7.8"
  }
 },
 "nbformat": 4,
 "nbformat_minor": 5
}