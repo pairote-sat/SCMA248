{
 "cells": [
  {
   "cell_type": "code",
   "execution_count": null,
   "id": "18656070",
   "metadata": {},
   "outputs": [],
   "source": []
  },
  {
   "cell_type": "markdown",
   "id": "d21ffb00",
   "metadata": {},
   "source": [
    "## Experiments"
   ]
  },
  {
   "cell_type": "code",
   "execution_count": 1,
   "id": "be483eca",
   "metadata": {},
   "outputs": [
    {
     "ename": "NameError",
     "evalue": "name 'make_blobs' is not defined",
     "output_type": "error",
     "traceback": [
      "\u001b[0;31m---------------------------------------------------------------------------\u001b[0m",
      "\u001b[0;31mNameError\u001b[0m                                 Traceback (most recent call last)",
      "\u001b[0;32m/var/folders/kl/h_r05n_j76n32kt0dwy7kynw0000gn/T/ipykernel_5626/4242010350.py\u001b[0m in \u001b[0;36m<module>\u001b[0;34m\u001b[0m\n\u001b[0;32m----> 1\u001b[0;31m features, true_labels = make_blobs(\n\u001b[0m\u001b[1;32m      2\u001b[0m     \u001b[0mn_samples\u001b[0m\u001b[0;34m=\u001b[0m\u001b[0;36m400\u001b[0m\u001b[0;34m,\u001b[0m\u001b[0;34m\u001b[0m\u001b[0;34m\u001b[0m\u001b[0m\n\u001b[1;32m      3\u001b[0m     \u001b[0mcenters\u001b[0m\u001b[0;34m=\u001b[0m\u001b[0;36m4\u001b[0m\u001b[0;34m,\u001b[0m\u001b[0;34m\u001b[0m\u001b[0;34m\u001b[0m\u001b[0m\n\u001b[1;32m      4\u001b[0m     \u001b[0mcluster_std\u001b[0m\u001b[0;34m=\u001b[0m\u001b[0;36m0.5\u001b[0m\u001b[0;34m,\u001b[0m\u001b[0;34m\u001b[0m\u001b[0;34m\u001b[0m\u001b[0m\n\u001b[1;32m      5\u001b[0m     \u001b[0mrandom_state\u001b[0m\u001b[0;34m=\u001b[0m\u001b[0;36m1\u001b[0m\u001b[0;34m\u001b[0m\u001b[0;34m\u001b[0m\u001b[0m\n",
      "\u001b[0;31mNameError\u001b[0m: name 'make_blobs' is not defined"
     ]
    }
   ],
   "source": [
    "features, true_labels = make_blobs(\n",
    "    n_samples=400,\n",
    "    centers=4,\n",
    "    cluster_std=0.5,\n",
    "    random_state=1\n",
    ")\n",
    "\n",
    "df = pd.DataFrame(features, columns=[\"x1\", \"x2\"])\n",
    "\n",
    "scaler = StandardScaler()\n",
    "\n",
    "df_scaled = df\n",
    "features = [['x1','x2']]\n",
    "for feature in features:\n",
    "    df_scaled[feature] = scaler.fit_transform(df_scaled[feature])\n",
    "df_scaled.plot.scatter(\"x1\", \"x2\")\n",
    "\n",
    "\n",
    "    \n",
    "df_melted = pd.melt(df_scaled[['x1','x2']], var_name = 'features',value_name = 'value')    \n",
    "\n",
    "(\n",
    "    ggplot(df_melted) + aes('value') + geom_histogram(aes(y=after_stat('density')), color = 'lightskyblue', fill = 'lightskyblue', bins = 15)\n",
    "    + geom_density(aes(y=after_stat('density')), color = 'steelblue')\n",
    "    + facet_wrap('features')\n",
    ")"
   ]
  },
  {
   "cell_type": "code",
   "execution_count": null,
   "id": "1ac7fa88",
   "metadata": {},
   "outputs": [],
   "source": []
  }
 ],
 "metadata": {
  "kernelspec": {
   "display_name": "Python 3 (ipykernel)",
   "language": "python",
   "name": "python3"
  },
  "language_info": {
   "codemirror_mode": {
    "name": "ipython",
    "version": 3
   },
   "file_extension": ".py",
   "mimetype": "text/x-python",
   "name": "python",
   "nbconvert_exporter": "python",
   "pygments_lexer": "ipython3",
   "version": "3.7.8"
  }
 },
 "nbformat": 4,
 "nbformat_minor": 5
}