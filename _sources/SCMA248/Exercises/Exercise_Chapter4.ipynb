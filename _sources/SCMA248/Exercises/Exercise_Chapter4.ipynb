{
 "cells": [
  {
   "cell_type": "markdown",
   "id": "ec6a8309",
   "metadata": {},
   "source": [
    "## Exercise for Chapter 4\n",
    "\n",
    "According to the research result **Socioeconomic development and life expectancy relationship: evidence from the EU accession candidate countries** by Goran Miladinov in Journal of Population Sciences, Genus volume 76, Article number: 2 (2020), the results show that \n",
    "\n",
    "* a country's population health and socioeconomic development have a significant impact on life expectancy at birth; \n",
    "\n",
    "* in other words, as a country's population health and socioeconomic development improves, infant mortality rates decrease, and life expectancy at birth appears to rise. \n",
    "\n",
    "* Through increased economic growth and development in a country, **GDP per capita raises life expectancy at birth, resulting in a longer lifespan**.\n",
    "\n",
    "https://genus.springeropen.com/articles/10.1186/s41118-019-0071-0#:~:text=GDP%20per%20capita%20increases%20the,to%20the%20prolongation%20of%20longevity.)"
   ]
  },
  {
   "cell_type": "markdown",
   "id": "9fe61713",
   "metadata": {},
   "source": [
    "In this section, we use data to attempt to gain insight on the relationship between life expectancy and gdp per capita of world countries.\n",
    "\n",
    "Note that we will download a dataset from **Kaggle**. \n",
    "\n",
    "Kaggle, a Google LLC subsidiary, is an online community of data scientists and machine learning experts. Users can use Kaggle to search and publish data sets, study and construct models in a web-based data-science environment, collaborate with other data scientists and machine learning experts, and compete in data science competitions."
   ]
  },
  {
   "cell_type": "markdown",
   "id": "1096e6a4",
   "metadata": {},
   "source": [
    "1. Import the Gapminder World dataset from the following link:\n",
    "\n",
    "https://www.kaggle.com/tklimonova/gapminder-datacamp-2007?select=gapminder_full.csv\n",
    "\n",
    "(for more detail on how to read CSV file from kaggle https://www.analyticsvidhya.com/blog/2021/04/how-to-download-kaggle-datasets-using-jupyter-notebook/)"
   ]
  },
  {
   "cell_type": "code",
   "execution_count": null,
   "id": "2674ff91",
   "metadata": {},
   "outputs": [],
   "source": [
    "!pip install opendatasets"
   ]
  },
  {
   "cell_type": "code",
   "execution_count": 2,
   "id": "7710ca0b",
   "metadata": {},
   "outputs": [],
   "source": [
    "import opendatasets as od"
   ]
  },
  {
   "cell_type": "code",
   "execution_count": 5,
   "id": "cd51a914",
   "metadata": {},
   "outputs": [
    {
     "name": "stdout",
     "output_type": "stream",
     "text": [
      "Please provide your Kaggle credentials to download this dataset. Learn more: http://bit.ly/kaggle-creds\n",
      "Your Kaggle username:"
     ]
    },
    {
     "name": "stdin",
     "output_type": "stream",
     "text": [
      "  pairotesat\n"
     ]
    },
    {
     "name": "stdout",
     "output_type": "stream",
     "text": [
      "Your Kaggle Key:"
     ]
    },
    {
     "name": "stdin",
     "output_type": "stream",
     "text": [
      "  ································\n"
     ]
    },
    {
     "name": "stdout",
     "output_type": "stream",
     "text": [
      "Downloading gapminder-datacamp-2007.zip to ./gapminder-datacamp-2007\n"
     ]
    },
    {
     "name": "stderr",
     "output_type": "stream",
     "text": [
      "100%|██████████| 35.5k/35.5k [00:00<00:00, 995kB/s]"
     ]
    },
    {
     "name": "stdout",
     "output_type": "stream",
     "text": [
      "\n"
     ]
    },
    {
     "name": "stderr",
     "output_type": "stream",
     "text": [
      "\n"
     ]
    }
   ],
   "source": [
    "# od.download(\"https://www.kaggle.com/rashikrahmanpritom/heart-attack-analysis-prediction-dataset\")\n",
    "\n",
    "od.download('https://www.kaggle.com/tklimonova/gapminder-datacamp-2007')"
   ]
  },
  {
   "cell_type": "code",
   "execution_count": 2,
   "id": "6ac4fc9b",
   "metadata": {},
   "outputs": [],
   "source": [
    "import pandas as pd"
   ]
  },
  {
   "cell_type": "code",
   "execution_count": 6,
   "id": "e97bd490",
   "metadata": {},
   "outputs": [],
   "source": [
    "#gapminder = pd.read_csv('/Users/Kaemyuijang/SCMA248/Data/gapminder_full.csv')\n",
    "\n",
    "url = 'https://raw.githubusercontent.com/STLinde/Anvendt-Statistik/main/gapminder_full.csv'\n",
    "gapminder = pd.read_csv(url)"
   ]
  },
  {
   "cell_type": "code",
   "execution_count": 8,
   "id": "86d3cc0f",
   "metadata": {},
   "outputs": [
    {
     "data": {
      "text/html": [
       "<div>\n",
       "<style scoped>\n",
       "    .dataframe tbody tr th:only-of-type {\n",
       "        vertical-align: middle;\n",
       "    }\n",
       "\n",
       "    .dataframe tbody tr th {\n",
       "        vertical-align: top;\n",
       "    }\n",
       "\n",
       "    .dataframe thead th {\n",
       "        text-align: right;\n",
       "    }\n",
       "</style>\n",
       "<table border=\"1\" class=\"dataframe\">\n",
       "  <thead>\n",
       "    <tr style=\"text-align: right;\">\n",
       "      <th></th>\n",
       "      <th>country</th>\n",
       "      <th>year</th>\n",
       "      <th>population</th>\n",
       "      <th>continent</th>\n",
       "      <th>life_exp</th>\n",
       "      <th>gdp_cap</th>\n",
       "    </tr>\n",
       "  </thead>\n",
       "  <tbody>\n",
       "    <tr>\n",
       "      <th>0</th>\n",
       "      <td>Afghanistan</td>\n",
       "      <td>1952</td>\n",
       "      <td>8425333</td>\n",
       "      <td>Asia</td>\n",
       "      <td>28.801</td>\n",
       "      <td>779.445314</td>\n",
       "    </tr>\n",
       "    <tr>\n",
       "      <th>1</th>\n",
       "      <td>Afghanistan</td>\n",
       "      <td>1957</td>\n",
       "      <td>9240934</td>\n",
       "      <td>Asia</td>\n",
       "      <td>30.332</td>\n",
       "      <td>820.853030</td>\n",
       "    </tr>\n",
       "    <tr>\n",
       "      <th>2</th>\n",
       "      <td>Afghanistan</td>\n",
       "      <td>1962</td>\n",
       "      <td>10267083</td>\n",
       "      <td>Asia</td>\n",
       "      <td>31.997</td>\n",
       "      <td>853.100710</td>\n",
       "    </tr>\n",
       "    <tr>\n",
       "      <th>3</th>\n",
       "      <td>Afghanistan</td>\n",
       "      <td>1967</td>\n",
       "      <td>11537966</td>\n",
       "      <td>Asia</td>\n",
       "      <td>34.020</td>\n",
       "      <td>836.197138</td>\n",
       "    </tr>\n",
       "    <tr>\n",
       "      <th>4</th>\n",
       "      <td>Afghanistan</td>\n",
       "      <td>1972</td>\n",
       "      <td>13079460</td>\n",
       "      <td>Asia</td>\n",
       "      <td>36.088</td>\n",
       "      <td>739.981106</td>\n",
       "    </tr>\n",
       "  </tbody>\n",
       "</table>\n",
       "</div>"
      ],
      "text/plain": [
       "       country  year  population continent  life_exp     gdp_cap\n",
       "0  Afghanistan  1952     8425333      Asia    28.801  779.445314\n",
       "1  Afghanistan  1957     9240934      Asia    30.332  820.853030\n",
       "2  Afghanistan  1962    10267083      Asia    31.997  853.100710\n",
       "3  Afghanistan  1967    11537966      Asia    34.020  836.197138\n",
       "4  Afghanistan  1972    13079460      Asia    36.088  739.981106"
      ]
     },
     "execution_count": 8,
     "metadata": {},
     "output_type": "execute_result"
    }
   ],
   "source": [
    "gapminder.head()"
   ]
  },
  {
   "cell_type": "markdown",
   "id": "7992fc68",
   "metadata": {},
   "source": [
    "We will begin by looking at some of its features to get get an idea of its content."
   ]
  },
  {
   "cell_type": "markdown",
   "id": "cb3d0c5b",
   "metadata": {},
   "source": [
    "2. How many qualitative variables are there in this Gapminder dataset?\n",
    "(See for more detail:\n",
    "\n",
    "https://www.abs.gov.au/websitedbs/D3310114.nsf/Home/Statistical+Language+-+quantitative+and+qualitative+data#:~:text=What%20are%20quantitative%20and%20qualitative,much%3B%20or%20how%20often).&text=Qualitative%20data%20are%20data%20about%20categorical%20variables%20(e.g.%20what%20type).\n",
    "\n",
    "**Note:** It is crucial to figure out whether the data is quantitative or qualitative, as this has an impact on the statistics that can be obtained."
   ]
  },
  {
   "cell_type": "markdown",
   "id": "e03f907f",
   "metadata": {},
   "source": [
    "3. Write Python code to create a table that gives the number of countries in each continent of **the lastest year** in this dataset."
   ]
  },
  {
   "cell_type": "code",
   "execution_count": 64,
   "id": "896fc75a",
   "metadata": {},
   "outputs": [
    {
     "name": "stdout",
     "output_type": "stream",
     "text": [
      "                country\n",
      "year continent         \n",
      "2007 Africa          52\n",
      "     Americas        25\n",
      "     Asia            33\n",
      "     Europe          30\n",
      "     Oceania          2\n"
     ]
    }
   ],
   "source": [
    "# Here we use multiindex \n",
    "# See https://towardsdatascience.com/how-to-use-multiindex-in-pandas-to-level-up-your-analysis-aeac7f451fce\n",
    "\n",
    "latest_year = gapminder['year'].max()\n",
    "\n",
    "df_grouped_counted = gapminder.groupby(['year','continent']).count()\n",
    "\n",
    "df_grouped_counted.loc[([latest_year],slice(None))][['country']]\n",
    "\n",
    "# Assign output3 to store the result\n",
    "output3 = df_grouped_counted.loc[([latest_year],slice(None))][['country']]\n",
    "\n",
    "print(output3)"
   ]
  },
  {
   "cell_type": "markdown",
   "id": "a6fea8b8",
   "metadata": {},
   "source": [
    "4. Write Python code to graphically present the results obtained in the previous question."
   ]
  },
  {
   "cell_type": "code",
   "execution_count": 48,
   "id": "2750bb49",
   "metadata": {},
   "outputs": [
    {
     "data": {
      "text/plain": [
       "<AxesSubplot:xlabel='continent'>"
      ]
     },
     "execution_count": 48,
     "metadata": {},
     "output_type": "execute_result"
    },
    {
     "data": {
      "image/png": "[encoded data removed]",
      "text/plain": [
       "<Figure size 432x288 with 1 Axes>"
      ]
     },
     "metadata": {
      "needs_background": "light"
     },
     "output_type": "display_data"
    }
   ],
   "source": [
    "output3.loc[2007,:].plot.bar()\n",
    "\n",
    "#cf with output3.plot.bar()"
   ]
  },
  {
   "cell_type": "code",
   "execution_count": 51,
   "id": "89750642",
   "metadata": {},
   "outputs": [
    {
     "data": {
      "image/png": "[encoded data removed]",
      "text/plain": [
       "<Figure size 640x480 with 1 Axes>"
      ]
     },
     "metadata": {},
     "output_type": "display_data"
    },
    {
     "data": {
      "text/plain": [
       "<ggplot: (306029969)>"
      ]
     },
     "execution_count": 51,
     "metadata": {},
     "output_type": "execute_result"
    }
   ],
   "source": [
    "# With plotnine (ggplot2)\n",
    "\n",
    "from plotnine import *\n",
    "\n",
    "(\n",
    "    ggplot(output3.loc[2007,:])  # What data to use\n",
    "    + aes(x='output3.loc[2007,:].index',y='country')  # What variable to use\n",
    "    + geom_col()  # Geometric object to use for drawing\n",
    ")"
   ]
  },
  {
   "cell_type": "code",
   "execution_count": 55,
   "id": "db936497",
   "metadata": {},
   "outputs": [
    {
     "data": {
      "image/png": "[encoded data removed]",
      "text/plain": [
       "<Figure size 640x480 with 1 Axes>"
      ]
     },
     "metadata": {},
     "output_type": "display_data"
    },
    {
     "data": {
      "text/plain": [
       "<ggplot: (314062361)>"
      ]
     },
     "execution_count": 55,
     "metadata": {},
     "output_type": "execute_result"
    }
   ],
   "source": [
    "gapminder[gapminder['year']==latest_year]\n",
    "\n",
    "(\n",
    "    ggplot(data = gapminder[gapminder['year']==latest_year]) +\n",
    "    aes(x = 'continent') +\n",
    "    geom_bar()\n",
    ") "
   ]
  },
  {
   "cell_type": "markdown",
   "id": "2f082c70",
   "metadata": {},
   "source": [
    "5. **What Is GDP Per Capita?**\n",
    "\n",
    "The per capita gross domestic product (GDP) is a financial measure that calculates a country's economic output per person by dividing its GDP by its population.\n",
    "\n",
    "Write Python code to summarize some statistical data like percentile, mean and standard deviation of the GDP per capita of the latest year broken down by continent."
   ]
  },
  {
   "cell_type": "code",
   "execution_count": 71,
   "id": "e4531064",
   "metadata": {},
   "outputs": [
    {
     "data": {
      "text/html": [
       "<div>\n",
       "<style scoped>\n",
       "    .dataframe tbody tr th:only-of-type {\n",
       "        vertical-align: middle;\n",
       "    }\n",
       "\n",
       "    .dataframe tbody tr th {\n",
       "        vertical-align: top;\n",
       "    }\n",
       "\n",
       "    .dataframe thead tr th {\n",
       "        text-align: left;\n",
       "    }\n",
       "\n",
       "    .dataframe thead tr:last-of-type th {\n",
       "        text-align: right;\n",
       "    }\n",
       "</style>\n",
       "<table border=\"1\" class=\"dataframe\">\n",
       "  <thead>\n",
       "    <tr>\n",
       "      <th></th>\n",
       "      <th colspan=\"8\" halign=\"left\">gdp_cap</th>\n",
       "    </tr>\n",
       "    <tr>\n",
       "      <th></th>\n",
       "      <th>count</th>\n",
       "      <th>mean</th>\n",
       "      <th>std</th>\n",
       "      <th>min</th>\n",
       "      <th>25%</th>\n",
       "      <th>50%</th>\n",
       "      <th>75%</th>\n",
       "      <th>max</th>\n",
       "    </tr>\n",
       "    <tr>\n",
       "      <th>continent</th>\n",
       "      <th></th>\n",
       "      <th></th>\n",
       "      <th></th>\n",
       "      <th></th>\n",
       "      <th></th>\n",
       "      <th></th>\n",
       "      <th></th>\n",
       "      <th></th>\n",
       "    </tr>\n",
       "  </thead>\n",
       "  <tbody>\n",
       "    <tr>\n",
       "      <th>Africa</th>\n",
       "      <td>52.0</td>\n",
       "      <td>3089.032605</td>\n",
       "      <td>3618.163491</td>\n",
       "      <td>277.551859</td>\n",
       "      <td>862.951537</td>\n",
       "      <td>1452.267078</td>\n",
       "      <td>3993.501583</td>\n",
       "      <td>13206.48452</td>\n",
       "    </tr>\n",
       "    <tr>\n",
       "      <th>Americas</th>\n",
       "      <td>25.0</td>\n",
       "      <td>11003.031625</td>\n",
       "      <td>9713.209302</td>\n",
       "      <td>1201.637154</td>\n",
       "      <td>5728.353514</td>\n",
       "      <td>8948.102923</td>\n",
       "      <td>11977.574960</td>\n",
       "      <td>42951.65309</td>\n",
       "    </tr>\n",
       "    <tr>\n",
       "      <th>Asia</th>\n",
       "      <td>33.0</td>\n",
       "      <td>12473.026870</td>\n",
       "      <td>14154.937343</td>\n",
       "      <td>944.000000</td>\n",
       "      <td>2452.210407</td>\n",
       "      <td>4471.061906</td>\n",
       "      <td>22316.192870</td>\n",
       "      <td>47306.98978</td>\n",
       "    </tr>\n",
       "    <tr>\n",
       "      <th>Europe</th>\n",
       "      <td>30.0</td>\n",
       "      <td>25054.481636</td>\n",
       "      <td>11800.339811</td>\n",
       "      <td>5937.029526</td>\n",
       "      <td>14811.898210</td>\n",
       "      <td>28054.065790</td>\n",
       "      <td>33817.962533</td>\n",
       "      <td>49357.19017</td>\n",
       "    </tr>\n",
       "    <tr>\n",
       "      <th>Oceania</th>\n",
       "      <td>2.0</td>\n",
       "      <td>29810.188275</td>\n",
       "      <td>6540.991104</td>\n",
       "      <td>25185.009110</td>\n",
       "      <td>27497.598692</td>\n",
       "      <td>29810.188275</td>\n",
       "      <td>32122.777858</td>\n",
       "      <td>34435.36744</td>\n",
       "    </tr>\n",
       "  </tbody>\n",
       "</table>\n",
       "</div>"
      ],
      "text/plain": [
       "          gdp_cap                                                          \\\n",
       "            count          mean           std           min           25%   \n",
       "continent                                                                   \n",
       "Africa       52.0   3089.032605   3618.163491    277.551859    862.951537   \n",
       "Americas     25.0  11003.031625   9713.209302   1201.637154   5728.353514   \n",
       "Asia         33.0  12473.026870  14154.937343    944.000000   2452.210407   \n",
       "Europe       30.0  25054.481636  11800.339811   5937.029526  14811.898210   \n",
       "Oceania       2.0  29810.188275   6540.991104  25185.009110  27497.598692   \n",
       "\n",
       "                                                    \n",
       "                    50%           75%          max  \n",
       "continent                                           \n",
       "Africa      1452.267078   3993.501583  13206.48452  \n",
       "Americas    8948.102923  11977.574960  42951.65309  \n",
       "Asia        4471.061906  22316.192870  47306.98978  \n",
       "Europe     28054.065790  33817.962533  49357.19017  \n",
       "Oceania    29810.188275  32122.777858  34435.36744  "
      ]
     },
     "execution_count": 71,
     "metadata": {},
     "output_type": "execute_result"
    }
   ],
   "source": [
    "gapminder2007 = gapminder[gapminder['year']==latest_year]\n",
    "\n",
    "gapminder2007[['country','continent','gdp_cap']].groupby('continent').describe()\n",
    "\n",
    "# For output validation\n",
    "# gapminder2007[gapminder2007['continent']=='Asia']['gdp_cap'].mean()"
   ]
  },
  {
   "cell_type": "markdown",
   "id": "b12edbfd",
   "metadata": {},
   "source": [
    "6. What is the average GDP per capita in Asian countries obtained above?"
   ]
  },
  {
   "cell_type": "code",
   "execution_count": 77,
   "id": "9c1740e9",
   "metadata": {},
   "outputs": [
    {
     "data": {
      "text/plain": [
       "12473.02687013333"
      ]
     },
     "execution_count": 77,
     "metadata": {},
     "output_type": "execute_result"
    }
   ],
   "source": [
    "gapminder2007[gapminder2007['continent']=='Asia']['gdp_cap'].mean()"
   ]
  },
  {
   "cell_type": "markdown",
   "id": "a4355c81",
   "metadata": {},
   "source": [
    "7. Plot the histogram for per capita GDP in each continent."
   ]
  },
  {
   "cell_type": "code",
   "execution_count": 89,
   "id": "93fdd6e0",
   "metadata": {},
   "outputs": [
    {
     "data": {
      "image/png": "[encoded data removed]",
      "text/plain": [
       "<Figure size 432x288 with 6 Axes>"
      ]
     },
     "metadata": {
      "needs_background": "light"
     },
     "output_type": "display_data"
    }
   ],
   "source": [
    "# See https://stackoverflow.com/questions/19584029/plotting-histograms-from-grouped-data-in-a-pandas-dataframe\n",
    "\n",
    "result = gapminder2007['gdp_cap'].hist(by= gapminder2007['continent'])"
   ]
  },
  {
   "cell_type": "markdown",
   "id": "e7176528",
   "metadata": {},
   "source": [
    "Notice the different scale on the x-axis has been used."
   ]
  },
  {
   "cell_type": "code",
   "execution_count": 122,
   "id": "0d687f5f",
   "metadata": {},
   "outputs": [
    {
     "data": {
      "text/plain": [
       "<ggplot: (319742313)>"
      ]
     },
     "execution_count": 122,
     "metadata": {},
     "output_type": "execute_result"
    },
    {
     "data": {
      "image/png": "[encoded data removed]",
      "text/plain": [
       "<Figure size 640x480 with 1 Axes>"
      ]
     },
     "metadata": {},
     "output_type": "display_data"
    }
   ],
   "source": [
    "# See\n",
    "# https://www.r-graph-gallery.com/histogram_several_group.html\n",
    "\n",
    "(\n",
    "    ggplot(data = gapminder[gapminder['year']==latest_year]) +\n",
    "    aes(x='gdp_cap', fill='continent') +\n",
    "    geom_histogram(bins=20,alpha=0.5)\n",
    ") \n",
    "\n"
   ]
  },
  {
   "cell_type": "markdown",
   "id": "9657d739",
   "metadata": {},
   "source": [
    "Notice the different scale on the x-axis has been used."
   ]
  }
 ],
 "metadata": {
  "kernelspec": {
   "display_name": "Python 3 (ipykernel)",
   "language": "python",
   "name": "python3"
  },
  "language_info": {
   "codemirror_mode": {
    "name": "ipython",
    "version": 3
   },
   "file_extension": ".py",
   "mimetype": "text/x-python",
   "name": "python",
   "nbconvert_exporter": "python",
   "pygments_lexer": "ipython3",
   "version": "3.7.11"
  }
 },
 "nbformat": 4,
 "nbformat_minor": 5
}
