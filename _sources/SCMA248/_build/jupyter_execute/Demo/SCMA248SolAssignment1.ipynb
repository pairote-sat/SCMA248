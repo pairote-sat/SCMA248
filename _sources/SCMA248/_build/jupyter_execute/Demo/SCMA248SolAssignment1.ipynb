{
 "cells": [
  {
   "cell_type": "code",
   "execution_count": null,
   "metadata": {
    "collapsed": false,
    "pycharm": {
     "name": "#%%\n"
    }
   },
   "outputs": [],
   "source": []
  },
  {
   "cell_type": "markdown",
   "metadata": {
    "collapsed": false
   },
   "source": [
    "## Exercise for Chapter 3\n",
    "\n",
    "This exercises is design to assist you how to use the pandas package to import, preprocess data and perform basic statistical analysis. Later we should see how data generating events can produce data of interest to insurance analysts.\n",
    "\n",
    "We will look at the Local Government Property Insurance Fund in this chapter. The fund insures property owned by municipal governments, such as schools and libraries.\n",
    "\n",
    "* government buildings,\n",
    "\n",
    "* educational institutions,\n",
    "\n",
    "* public libraries, and\n",
    "\n",
    "* motor vehicles.\n",
    "\n",
    "Over a thousand local government units are covered by the fund, which charges about \\$25 million in annual premiums and provides insurance coverage of about \\$75 billion."
   ]
  },
  {
   "cell_type": "markdown",
   "metadata": {
    "collapsed": false
   },
   "source": [
    "**Example 1** Import the claim dataset namely ClaimsExperienceData.csv from my Github repository. Then write Python commands to answer the following questions."
   ]
  },
  {
   "cell_type": "code",
   "execution_count": 1,
   "metadata": {
    "collapsed": false,
    "pycharm": {
     "name": "#%%\n"
    }
   },
   "outputs": [],
   "source": [
    "import pandas as pd\n",
    "\n",
    "claims = pd.read_csv('/Users/Kaemyuijang/SCMA248/Data/ClaimsExperienceData.csv')"
   ]
  },
  {
   "cell_type": "markdown",
   "metadata": {
    "collapsed": false
   },
   "source": [
    "1. How many claims observations are there in this dataset?"
   ]
  },
  {
   "cell_type": "code",
   "execution_count": 2,
   "metadata": {
    "collapsed": false,
    "pycharm": {
     "name": "#%%\n"
    }
   },
   "outputs": [
    {
     "name": "stdout",
     "output_type": "stream",
     "text": [
      "Answer: There are 5639 claims in the dataset.\n"
     ]
    }
   ],
   "source": [
    "claims.shape[0]\n",
    "my_ans1 = claims.shape[0]\n",
    "print('Answer: There are', claims.shape[0],'claims in the dataset.')"
   ]
  },
  {
   "cell_type": "markdown",
   "metadata": {
    "collapsed": false
   },
   "source": [
    "2. How many variables (features) are there in this dataset? List (print out) all the features."
   ]
  },
  {
   "cell_type": "code",
   "execution_count": 3,
   "metadata": {
    "collapsed": false,
    "pycharm": {
     "name": "#%%\n"
    }
   },
   "outputs": [
    {
     "name": "stdout",
     "output_type": "stream",
     "text": [
      "Index(['PolicyNum', 'Year', 'LnCoverage', 'BCcov', 'Premium', 'Freq', 'Deduct',\n",
      "       'y', 'lny', 'yAvg', 'lnDeduct', 'Fire5', 'NoClaimCredit', 'TypeCity',\n",
      "       'TypeCounty', 'TypeMisc', 'TypeSchool', 'TypeTown', 'TypeVillage',\n",
      "       'AC00', 'AC05', 'AC10', 'AC15'],\n",
      "      dtype='object')\n",
      "Answer: There are 23 variables in the dataset.\n"
     ]
    }
   ],
   "source": [
    "print(claims.columns)\n",
    "claims.shape[1]\n",
    "my_ans2 = claims.shape[1]\n",
    "print('Answer: There are', claims.shape[1],'variables in the dataset.')"
   ]
  },
  {
   "cell_type": "markdown",
   "metadata": {
    "collapsed": false
   },
   "source": [
    "\n",
    "## Description of Rating Variables\n",
    "\n",
    "One of the important tasks of insurance analysts is to develop models to represent and manage the two outcome variables, **frequency** and **severity**.\n",
    "\n",
    "However, when actuaries and other financial analysts use those models, they do so in the context of external variables.\n",
    "\n",
    "In general statistical terminology, one might call these explanatory or predictor variables.\n",
    "\n",
    "Because of our insurance focus, we call them **rating variables** as they are useful in setting insurance rates and premiums.\n",
    "\n",
    "The following table describes the rating variables considered.\n",
    "\n",
    "These are variables that you think might naturally be related to claims outcomes.\n",
    "\n",
    "<!-- To handle the skewness, we henceforth focus on logarithmic transformations of coverage and deductibles. -->\n",
    "\n",
    "<!-- For our immediate purposes, the coverage is our first rating variable. Other things being equal, we would expect that policyholders with larger coverage have larger claims. We will make this vague idea much more precise as we proceed, and also justify this expectation with data. -->\n",
    "\n",
    "**Variable**  | **Description**\n",
    "----- | -------------\n",
    "EntityType    | Categorical variable that is one of six types: (Village, City, County, Misc, School, or Town)\n",
    "LnCoverage    | Total building and content coverage, in logarithmic millions of dollars\n",
    "LnDeduct      | Deductible, in logarithmic dollars\n",
    "AlarmCredit   | Categorical variable that is one of four types: (0, 5, 10, or 15) for automatic smoke alarms in main rooms\n",
    "NoClaimCredit | Binary variable to indicate no claims in the past two years\n",
    "Fire5         | Binary variable to indicate the fire class is below 5 (The range of fire class is 0 to 10)"
   ]
  },
  {
   "cell_type": "markdown",
   "metadata": {
    "collapsed": false
   },
   "source": [
    "**In what follows, for illustrate, we will consider claims data in year 2010.**"
   ]
  },
  {
   "cell_type": "markdown",
   "metadata": {
    "collapsed": false
   },
   "source": [
    "3. How many policies are there in 2010?\n",
    "\n",
    "Name the answer with the variable name **num_policies**.\n",
    "\n",
    "Hint: one may use `.value_counts` method that return a Series containing counts of unique values. Alternatively, you want to count False and True separately you can use `pd.Series.sum()` + `~`.\n",
    "\n",
    "In addition, we may use Pandas Series.get() function get item from object for given key (DataFrame column, Panel slice, etc.)."
   ]
  },
  {
   "cell_type": "code",
   "execution_count": 4,
   "metadata": {
    "collapsed": false,
    "pycharm": {
     "name": "#%%\n"
    }
   },
   "outputs": [
    {
     "name": "stdout",
     "output_type": "stream",
     "text": [
      "Answer: There are 1110 policies in 2010.\n"
     ]
    }
   ],
   "source": [
    "num_policies = (claims['Year']  == 2010).value_counts().get(True)\n",
    "my_ans3 = num_policies\n",
    "print('Answer: There are', num_policies,'policies in 2010.')"
   ]
  },
  {
   "cell_type": "code",
   "execution_count": 5,
   "metadata": {
    "collapsed": false,
    "pycharm": {
     "name": "#%%\n"
    }
   },
   "outputs": [],
   "source": [
    "# First Attempt\n",
    "\n",
    "# temp = claims['Year']  == 2010\n",
    "# temp.value_counts()\n",
    "# num_policies = temp.sum()\n",
    "\n",
    "#(~temp).sum()"
   ]
  },
  {
   "cell_type": "markdown",
   "metadata": {
    "collapsed": false
   },
   "source": [
    "4. How many claims are there in 2010? Assign the result to the variable **num_claims**."
   ]
  },
  {
   "cell_type": "code",
   "execution_count": 6,
   "metadata": {
    "collapsed": false,
    "pycharm": {
     "name": "#%%\n"
    }
   },
   "outputs": [
    {
     "name": "stdout",
     "output_type": "stream",
     "text": [
      "Answer: There are 1377 claims in 2010.\n"
     ]
    }
   ],
   "source": [
    "claims2010 = claims[ claims['Year']  == 2010]\n",
    "num_claims = claims2010['Freq'].sum()\n",
    "my_ans4 = num_claims\n",
    "print('Answer: There are', num_claims,'claims in 2010.')"
   ]
  },
  {
   "cell_type": "markdown",
   "metadata": {
    "collapsed": false
   },
   "source": [
    "5. Which policy number has the maximum number of claims and what is this claims number?"
   ]
  },
  {
   "cell_type": "code",
   "execution_count": 7,
   "metadata": {
    "collapsed": false,
    "pycharm": {
     "name": "#%%\n"
    }
   },
   "outputs": [],
   "source": [
    "# claims2010.sort_values('Freq', ascending = False).head(2)\n",
    "## Hard cording\n",
    "# claims2010.loc[1406,'Freq']"
   ]
  },
  {
   "cell_type": "markdown",
   "metadata": {
    "collapsed": false
   },
   "source": [
    "With `.idxmax()`, we can return the index at which maximum weight value is present.\n",
    "\n",
    "See https://www.geeksforgeeks.org/get-the-index-of-maximum-value-in-dataframe-column/."
   ]
  },
  {
   "cell_type": "code",
   "execution_count": 8,
   "metadata": {
    "collapsed": false,
    "pycharm": {
     "name": "#%%\n"
    }
   },
   "outputs": [
    {
     "name": "stdout",
     "output_type": "stream",
     "text": [
      "Ans: The policy number 138109 has the maximum number of claims of  239 .\n"
     ]
    }
   ],
   "source": [
    "ind_freq_max = claims2010['Freq'].idxmax()\n",
    "\n",
    "max_policy_num = claims2010.loc[ind_freq_max,'PolicyNum']\n",
    "max_claims = claims2010.loc[ind_freq_max,'Freq']\n",
    "\n",
    "my_ans5_1 = max_policy_num\n",
    "my_ans5_2 = max_claims\n",
    "\n",
    "print('Ans: The policy number', max_policy_num, 'has the maximum number of claims of ', max_claims,'.')"
   ]
  },
  {
   "cell_type": "markdown",
   "metadata": {
    "collapsed": false
   },
   "source": [
    "6. Calculate the proportion of policyholders who did not have any claims (use the name **prop_policies_no_claims** for your output)."
   ]
  },
  {
   "cell_type": "code",
   "execution_count": 9,
   "metadata": {
    "collapsed": false,
    "pycharm": {
     "name": "#%%\n"
    }
   },
   "outputs": [
    {
     "name": "stdout",
     "output_type": "stream",
     "text": [
      "Ans: The proportion of policyholders who did not have any claims is 0.6369\n"
     ]
    }
   ],
   "source": [
    "# Using value_count() and .sort_index to obtain the number of\n",
    "# policies by claim numbers.\n",
    "\n",
    "(claims2010['Freq'].value_counts()).sort_index()\n",
    "\n",
    "num_policies_no_claims = (claims2010['Freq'].value_counts()).sort_index()[0]\n",
    "\n",
    "# Calculate the proportion of policyholders who did not have any claims.\n",
    "\n",
    "prop_policies_no_claims = round(num_policies_no_claims / num_policies,4)\n",
    "\n",
    "my_ans6 = prop_policies_no_claims\n",
    "print('Ans: The proportion of policyholders who did not have any claims is', prop_policies_no_claims)"
   ]
  },
  {
   "cell_type": "markdown",
   "metadata": {
    "collapsed": false
   },
   "source": [
    "7. Calculate the proportion of policyholders who had only one claim."
   ]
  },
  {
   "cell_type": "code",
   "execution_count": 10,
   "metadata": {
    "collapsed": false,
    "pycharm": {
     "name": "#%%\n"
    }
   },
   "outputs": [
    {
     "name": "stdout",
     "output_type": "stream",
     "text": [
      "Ans: The proportion of policyholders who did not have any claims is 0.1883\n"
     ]
    }
   ],
   "source": [
    "num_policies_one_claims = (claims2010['Freq'].value_counts()).sort_index()[1]\n",
    "\n",
    "prop_policies_one_claims = round(num_policies_one_claims / num_policies,4)\n",
    "\n",
    "my_ans7 = prop_policies_one_claims\n",
    "print('Ans: The proportion of policyholders who did not have any claims is', prop_policies_one_claims)"
   ]
  },
  {
   "cell_type": "markdown",
   "metadata": {
    "collapsed": false
   },
   "source": [
    "8. Calculate the average number of claims for this sample."
   ]
  },
  {
   "cell_type": "code",
   "execution_count": 11,
   "metadata": {
    "collapsed": false,
    "pycharm": {
     "name": "#%%\n"
    }
   },
   "outputs": [
    {
     "name": "stdout",
     "output_type": "stream",
     "text": [
      "Ans: The average number of claims for this sample is 1.2405\n"
     ]
    }
   ],
   "source": [
    "num_claims/num_policies\n",
    "\n",
    "my_ans8 = num_claims/num_policies\n",
    "print('Ans: The average number of claims for this sample is', round(num_claims/num_policies,4))"
   ]
  },
  {
   "cell_type": "markdown",
   "metadata": {
    "collapsed": false
   },
   "source": [
    "9. The `describe()` method is used for calculating some statistical data like percentile, mean and std of the numerical values of the Series or DataFrame.\n",
    "\n",
    "Applying to year 2010, what do we get when we run the command claims.describe()?"
   ]
  },
  {
   "cell_type": "code",
   "execution_count": 12,
   "metadata": {
    "collapsed": false,
    "pycharm": {
     "name": "#%%\n"
    }
   },
   "outputs": [
    {
     "data": {
      "text/html": [
       "<div>\n",
       "<style scoped>\n",
       "    .dataframe tbody tr th:only-of-type {\n",
       "        vertical-align: middle;\n",
       "    }\n",
       "\n",
       "    .dataframe tbody tr th {\n",
       "        vertical-align: top;\n",
       "    }\n",
       "\n",
       "    .dataframe thead th {\n",
       "        text-align: right;\n",
       "    }\n",
       "</style>\n",
       "<table border=\"1\" class=\"dataframe\">\n",
       "  <thead>\n",
       "    <tr style=\"text-align: right;\">\n",
       "      <th></th>\n",
       "      <th>PolicyNum</th>\n",
       "      <th>Year</th>\n",
       "      <th>LnCoverage</th>\n",
       "      <th>BCcov</th>\n",
       "      <th>Premium</th>\n",
       "      <th>Freq</th>\n",
       "      <th>Deduct</th>\n",
       "      <th>y</th>\n",
       "      <th>lny</th>\n",
       "      <th>yAvg</th>\n",
       "      <th>...</th>\n",
       "      <th>TypeCity</th>\n",
       "      <th>TypeCounty</th>\n",
       "      <th>TypeMisc</th>\n",
       "      <th>TypeSchool</th>\n",
       "      <th>TypeTown</th>\n",
       "      <th>TypeVillage</th>\n",
       "      <th>AC00</th>\n",
       "      <th>AC05</th>\n",
       "      <th>AC10</th>\n",
       "      <th>AC15</th>\n",
       "    </tr>\n",
       "  </thead>\n",
       "  <tbody>\n",
       "    <tr>\n",
       "      <th>count</th>\n",
       "      <td>1110.000000</td>\n",
       "      <td>1110.0</td>\n",
       "      <td>1110.000000</td>\n",
       "      <td>1.110000e+03</td>\n",
       "      <td>1110.000000</td>\n",
       "      <td>1110.000000</td>\n",
       "      <td>1110.000000</td>\n",
       "      <td>1.110000e+03</td>\n",
       "      <td>1110.000000</td>\n",
       "      <td>1.110000e+03</td>\n",
       "      <td>...</td>\n",
       "      <td>1110.000000</td>\n",
       "      <td>1110.000000</td>\n",
       "      <td>1110.000000</td>\n",
       "      <td>1110.00000</td>\n",
       "      <td>1110.000000</td>\n",
       "      <td>1110.000000</td>\n",
       "      <td>1110.000000</td>\n",
       "      <td>1110.000000</td>\n",
       "      <td>1110.000000</td>\n",
       "      <td>1110.000000</td>\n",
       "    </tr>\n",
       "    <tr>\n",
       "      <th>mean</th>\n",
       "      <td>148833.995495</td>\n",
       "      <td>2010.0</td>\n",
       "      <td>2.241874</td>\n",
       "      <td>4.124207e+07</td>\n",
       "      <td>14329.113514</td>\n",
       "      <td>1.240541</td>\n",
       "      <td>3598.648649</td>\n",
       "      <td>3.302640e+04</td>\n",
       "      <td>3.366475</td>\n",
       "      <td>2.045205e+04</td>\n",
       "      <td>...</td>\n",
       "      <td>0.140541</td>\n",
       "      <td>0.063964</td>\n",
       "      <td>0.110811</td>\n",
       "      <td>0.28018</td>\n",
       "      <td>0.166667</td>\n",
       "      <td>0.237838</td>\n",
       "      <td>0.311712</td>\n",
       "      <td>0.073874</td>\n",
       "      <td>0.081081</td>\n",
       "      <td>0.533333</td>\n",
       "    </tr>\n",
       "    <tr>\n",
       "      <th>std</th>\n",
       "      <td>16131.790893</td>\n",
       "      <td>0.0</td>\n",
       "      <td>1.962844</td>\n",
       "      <td>1.142432e+08</td>\n",
       "      <td>24663.572338</td>\n",
       "      <td>8.154437</td>\n",
       "      <td>8787.925562</td>\n",
       "      <td>4.287782e+05</td>\n",
       "      <td>4.573141</td>\n",
       "      <td>3.927241e+05</td>\n",
       "      <td>...</td>\n",
       "      <td>0.347704</td>\n",
       "      <td>0.244799</td>\n",
       "      <td>0.314039</td>\n",
       "      <td>0.44929</td>\n",
       "      <td>0.372846</td>\n",
       "      <td>0.425951</td>\n",
       "      <td>0.463402</td>\n",
       "      <td>0.261683</td>\n",
       "      <td>0.273083</td>\n",
       "      <td>0.499113</td>\n",
       "    </tr>\n",
       "    <tr>\n",
       "      <th>min</th>\n",
       "      <td>120002.000000</td>\n",
       "      <td>2010.0</td>\n",
       "      <td>-4.575223</td>\n",
       "      <td>1.030400e+04</td>\n",
       "      <td>9.000000</td>\n",
       "      <td>0.000000</td>\n",
       "      <td>500.000000</td>\n",
       "      <td>0.000000e+00</td>\n",
       "      <td>0.000000</td>\n",
       "      <td>0.000000e+00</td>\n",
       "      <td>...</td>\n",
       "      <td>0.000000</td>\n",
       "      <td>0.000000</td>\n",
       "      <td>0.000000</td>\n",
       "      <td>0.00000</td>\n",
       "      <td>0.000000</td>\n",
       "      <td>0.000000</td>\n",
       "      <td>0.000000</td>\n",
       "      <td>0.000000</td>\n",
       "      <td>0.000000</td>\n",
       "      <td>0.000000</td>\n",
       "    </tr>\n",
       "    <tr>\n",
       "      <th>25%</th>\n",
       "      <td>138104.250000</td>\n",
       "      <td>2010.0</td>\n",
       "      <td>0.900512</td>\n",
       "      <td>2.460876e+06</td>\n",
       "      <td>1633.500000</td>\n",
       "      <td>0.000000</td>\n",
       "      <td>500.000000</td>\n",
       "      <td>0.000000e+00</td>\n",
       "      <td>0.000000</td>\n",
       "      <td>0.000000e+00</td>\n",
       "      <td>...</td>\n",
       "      <td>0.000000</td>\n",
       "      <td>0.000000</td>\n",
       "      <td>0.000000</td>\n",
       "      <td>0.00000</td>\n",
       "      <td>0.000000</td>\n",
       "      <td>0.000000</td>\n",
       "      <td>0.000000</td>\n",
       "      <td>0.000000</td>\n",
       "      <td>0.000000</td>\n",
       "      <td>0.000000</td>\n",
       "    </tr>\n",
       "    <tr>\n",
       "      <th>50%</th>\n",
       "      <td>150302.000000</td>\n",
       "      <td>2010.0</td>\n",
       "      <td>2.523816</td>\n",
       "      <td>1.247615e+07</td>\n",
       "      <td>6365.000000</td>\n",
       "      <td>0.000000</td>\n",
       "      <td>1000.000000</td>\n",
       "      <td>0.000000e+00</td>\n",
       "      <td>0.000000</td>\n",
       "      <td>0.000000e+00</td>\n",
       "      <td>...</td>\n",
       "      <td>0.000000</td>\n",
       "      <td>0.000000</td>\n",
       "      <td>0.000000</td>\n",
       "      <td>0.00000</td>\n",
       "      <td>0.000000</td>\n",
       "      <td>0.000000</td>\n",
       "      <td>0.000000</td>\n",
       "      <td>0.000000</td>\n",
       "      <td>0.000000</td>\n",
       "      <td>1.000000</td>\n",
       "    </tr>\n",
       "    <tr>\n",
       "      <th>75%</th>\n",
       "      <td>160628.750000</td>\n",
       "      <td>2010.0</td>\n",
       "      <td>3.705105</td>\n",
       "      <td>4.065431e+07</td>\n",
       "      <td>17923.750000</td>\n",
       "      <td>1.000000</td>\n",
       "      <td>2500.000000</td>\n",
       "      <td>4.139750e+03</td>\n",
       "      <td>8.328310</td>\n",
       "      <td>2.818750e+03</td>\n",
       "      <td>...</td>\n",
       "      <td>0.000000</td>\n",
       "      <td>0.000000</td>\n",
       "      <td>0.000000</td>\n",
       "      <td>1.00000</td>\n",
       "      <td>0.000000</td>\n",
       "      <td>0.000000</td>\n",
       "      <td>1.000000</td>\n",
       "      <td>0.000000</td>\n",
       "      <td>0.000000</td>\n",
       "      <td>1.000000</td>\n",
       "    </tr>\n",
       "    <tr>\n",
       "      <th>max</th>\n",
       "      <td>180791.000000</td>\n",
       "      <td>2010.0</td>\n",
       "      <td>7.801717</td>\n",
       "      <td>2.444797e+09</td>\n",
       "      <td>391168.000000</td>\n",
       "      <td>239.000000</td>\n",
       "      <td>100000.000000</td>\n",
       "      <td>1.292222e+07</td>\n",
       "      <td>16.374459</td>\n",
       "      <td>1.292222e+07</td>\n",
       "      <td>...</td>\n",
       "      <td>1.000000</td>\n",
       "      <td>1.000000</td>\n",
       "      <td>1.000000</td>\n",
       "      <td>1.00000</td>\n",
       "      <td>1.000000</td>\n",
       "      <td>1.000000</td>\n",
       "      <td>1.000000</td>\n",
       "      <td>1.000000</td>\n",
       "      <td>1.000000</td>\n",
       "      <td>1.000000</td>\n",
       "    </tr>\n",
       "  </tbody>\n",
       "</table>\n",
       "<p>8 rows × 23 columns</p>\n",
       "</div>"
      ],
      "text/plain": [
       "           PolicyNum    Year   LnCoverage         BCcov        Premium  \\\n",
       "count    1110.000000  1110.0  1110.000000  1.110000e+03    1110.000000   \n",
       "mean   148833.995495  2010.0     2.241874  4.124207e+07   14329.113514   \n",
       "std     16131.790893     0.0     1.962844  1.142432e+08   24663.572338   \n",
       "min    120002.000000  2010.0    -4.575223  1.030400e+04       9.000000   \n",
       "25%    138104.250000  2010.0     0.900512  2.460876e+06    1633.500000   \n",
       "50%    150302.000000  2010.0     2.523816  1.247615e+07    6365.000000   \n",
       "75%    160628.750000  2010.0     3.705105  4.065431e+07   17923.750000   \n",
       "max    180791.000000  2010.0     7.801717  2.444797e+09  391168.000000   \n",
       "\n",
       "              Freq         Deduct             y          lny          yAvg  \\\n",
       "count  1110.000000    1110.000000  1.110000e+03  1110.000000  1.110000e+03   \n",
       "mean      1.240541    3598.648649  3.302640e+04     3.366475  2.045205e+04   \n",
       "std       8.154437    8787.925562  4.287782e+05     4.573141  3.927241e+05   \n",
       "min       0.000000     500.000000  0.000000e+00     0.000000  0.000000e+00   \n",
       "25%       0.000000     500.000000  0.000000e+00     0.000000  0.000000e+00   \n",
       "50%       0.000000    1000.000000  0.000000e+00     0.000000  0.000000e+00   \n",
       "75%       1.000000    2500.000000  4.139750e+03     8.328310  2.818750e+03   \n",
       "max     239.000000  100000.000000  1.292222e+07    16.374459  1.292222e+07   \n",
       "\n",
       "       ...     TypeCity   TypeCounty     TypeMisc  TypeSchool     TypeTown  \\\n",
       "count  ...  1110.000000  1110.000000  1110.000000  1110.00000  1110.000000   \n",
       "mean   ...     0.140541     0.063964     0.110811     0.28018     0.166667   \n",
       "std    ...     0.347704     0.244799     0.314039     0.44929     0.372846   \n",
       "min    ...     0.000000     0.000000     0.000000     0.00000     0.000000   \n",
       "25%    ...     0.000000     0.000000     0.000000     0.00000     0.000000   \n",
       "50%    ...     0.000000     0.000000     0.000000     0.00000     0.000000   \n",
       "75%    ...     0.000000     0.000000     0.000000     1.00000     0.000000   \n",
       "max    ...     1.000000     1.000000     1.000000     1.00000     1.000000   \n",
       "\n",
       "       TypeVillage         AC00         AC05         AC10         AC15  \n",
       "count  1110.000000  1110.000000  1110.000000  1110.000000  1110.000000  \n",
       "mean      0.237838     0.311712     0.073874     0.081081     0.533333  \n",
       "std       0.425951     0.463402     0.261683     0.273083     0.499113  \n",
       "min       0.000000     0.000000     0.000000     0.000000     0.000000  \n",
       "25%       0.000000     0.000000     0.000000     0.000000     0.000000  \n",
       "50%       0.000000     0.000000     0.000000     0.000000     1.000000  \n",
       "75%       0.000000     1.000000     0.000000     0.000000     1.000000  \n",
       "max       1.000000     1.000000     1.000000     1.000000     1.000000  \n",
       "\n",
       "[8 rows x 23 columns]"
      ]
     },
     "execution_count": 12,
     "metadata": {},
     "output_type": "execute_result"
    }
   ],
   "source": [
    "claims2010.describe()"
   ]
  },
  {
   "cell_type": "markdown",
   "metadata": {
    "collapsed": false
   },
   "source": [
    "10. A common method for determining the severity distribution is to look at the distribution of the sample of 1,377 claims. Another typical strategy is to look at the **distribution of average claims among policyholders who have made claims**.\n",
    "\n",
    "In our 2010 sample, how many such policyholders who have made claims?"
   ]
  },
  {
   "cell_type": "code",
   "execution_count": 13,
   "metadata": {
    "collapsed": false,
    "pycharm": {
     "name": "#%%\n"
    }
   },
   "outputs": [
    {
     "name": "stdout",
     "output_type": "stream",
     "text": [
      "Ans: There are 403 policyholders who have at least made claims.\n"
     ]
    }
   ],
   "source": [
    "num_policies - num_policies_no_claims\n",
    "\n",
    "my_ans10 = num_policies - num_policies_no_claims\n",
    "print('Ans: There are',num_policies - num_policies_no_claims ,'policyholders who have at least made claims.')"
   ]
  },
  {
   "cell_type": "markdown",
   "metadata": {
    "collapsed": false
   },
   "source": [
    "11. The average claim for the 209 policyholders who had only one claim is the same as the single claim they had.\n",
    "\n",
    "Write the command(s) to list the average claim of such 209 policyholders."
   ]
  },
  {
   "cell_type": "code",
   "execution_count": 14,
   "metadata": {
    "collapsed": false,
    "pycharm": {
     "name": "#%%\n"
    }
   },
   "outputs": [
    {
     "data": {
      "text/html": [
       "<div>\n",
       "<style scoped>\n",
       "    .dataframe tbody tr th:only-of-type {\n",
       "        vertical-align: middle;\n",
       "    }\n",
       "\n",
       "    .dataframe tbody tr th {\n",
       "        vertical-align: top;\n",
       "    }\n",
       "\n",
       "    .dataframe thead th {\n",
       "        text-align: right;\n",
       "    }\n",
       "</style>\n",
       "<table border=\"1\" class=\"dataframe\">\n",
       "  <thead>\n",
       "    <tr style=\"text-align: right;\">\n",
       "      <th></th>\n",
       "      <th>Freq</th>\n",
       "      <th>y</th>\n",
       "      <th>yAvg</th>\n",
       "    </tr>\n",
       "  </thead>\n",
       "  <tbody>\n",
       "    <tr>\n",
       "      <th>4</th>\n",
       "      <td>1</td>\n",
       "      <td>6838.87</td>\n",
       "      <td>6838.87</td>\n",
       "    </tr>\n",
       "    <tr>\n",
       "      <th>9</th>\n",
       "      <td>1</td>\n",
       "      <td>9711.28</td>\n",
       "      <td>9711.28</td>\n",
       "    </tr>\n",
       "    <tr>\n",
       "      <th>14</th>\n",
       "      <td>1</td>\n",
       "      <td>10323.50</td>\n",
       "      <td>10323.50</td>\n",
       "    </tr>\n",
       "    <tr>\n",
       "      <th>24</th>\n",
       "      <td>1</td>\n",
       "      <td>3469.79</td>\n",
       "      <td>3469.79</td>\n",
       "    </tr>\n",
       "    <tr>\n",
       "      <th>31</th>\n",
       "      <td>1</td>\n",
       "      <td>35000.00</td>\n",
       "      <td>35000.00</td>\n",
       "    </tr>\n",
       "    <tr>\n",
       "      <th>...</th>\n",
       "      <td>...</td>\n",
       "      <td>...</td>\n",
       "      <td>...</td>\n",
       "    </tr>\n",
       "    <tr>\n",
       "      <th>5534</th>\n",
       "      <td>1</td>\n",
       "      <td>1851.48</td>\n",
       "      <td>1851.48</td>\n",
       "    </tr>\n",
       "    <tr>\n",
       "      <th>5568</th>\n",
       "      <td>1</td>\n",
       "      <td>3405.00</td>\n",
       "      <td>3405.00</td>\n",
       "    </tr>\n",
       "    <tr>\n",
       "      <th>5603</th>\n",
       "      <td>1</td>\n",
       "      <td>20679.58</td>\n",
       "      <td>20679.58</td>\n",
       "    </tr>\n",
       "    <tr>\n",
       "      <th>5635</th>\n",
       "      <td>1</td>\n",
       "      <td>168304.05</td>\n",
       "      <td>168304.05</td>\n",
       "    </tr>\n",
       "    <tr>\n",
       "      <th>5636</th>\n",
       "      <td>1</td>\n",
       "      <td>1034.33</td>\n",
       "      <td>1034.33</td>\n",
       "    </tr>\n",
       "  </tbody>\n",
       "</table>\n",
       "<p>209 rows × 3 columns</p>\n",
       "</div>"
      ],
      "text/plain": [
       "      Freq          y       yAvg\n",
       "4        1    6838.87    6838.87\n",
       "9        1    9711.28    9711.28\n",
       "14       1   10323.50   10323.50\n",
       "24       1    3469.79    3469.79\n",
       "31       1   35000.00   35000.00\n",
       "...    ...        ...        ...\n",
       "5534     1    1851.48    1851.48\n",
       "5568     1    3405.00    3405.00\n",
       "5603     1   20679.58   20679.58\n",
       "5635     1  168304.05  168304.05\n",
       "5636     1    1034.33    1034.33\n",
       "\n",
       "[209 rows x 3 columns]"
      ]
     },
     "execution_count": 14,
     "metadata": {},
     "output_type": "execute_result"
    }
   ],
   "source": [
    "selected_index = (claims2010['Freq'] == 1)\n",
    "\n",
    "claims2010[selected_index][['Freq','y','yAvg']]\n"
   ]
  },
  {
   "cell_type": "markdown",
   "metadata": {
    "collapsed": false
   },
   "source": [
    "12. Calculate the average claim of the policyholder with the maximum number of claims."
   ]
  },
  {
   "cell_type": "code",
   "execution_count": 15,
   "metadata": {
    "collapsed": false,
    "pycharm": {
     "name": "#%%\n"
    }
   },
   "outputs": [
    {
     "name": "stdout",
     "output_type": "stream",
     "text": [
      "Ans: the average claim of the policyholder with the maximum number of claims is "
     ]
    },
    {
     "name": "stdout",
     "output_type": "stream",
     "text": [
      " 936.3374 .\n"
     ]
    }
   ],
   "source": [
    "ind_freq_max = claims2010['Freq'].idxmax()\n",
    "\n",
    "max_yAvg = claims2010.loc[ind_freq_max,'y'] / claims2010.loc[ind_freq_max,'Freq']\n",
    "\n",
    "my_ans12 = max_yAvg\n",
    "print('Ans: the average claim of the policyholder with the maximum number of claims is ', round(max_yAvg,4),'.' )"
   ]
  },
  {
   "cell_type": "code",
   "execution_count": 16,
   "metadata": {
    "collapsed": false,
    "pycharm": {
     "name": "#%%\n"
    }
   },
   "outputs": [
    {
     "name": "stdout",
     "output_type": "stream",
     "text": [
      "Q1: 5639\n",
      "Q2: 23\n",
      "Q3: 1110\n",
      "Q4: 1377\n",
      "Q5_1: 138109\n",
      "Q5_2: 239\n",
      "Q6: 0.6369\n",
      "Q7: 0.1883\n",
      "Q8: 1.2405405405405405\n",
      "Q10: 403\n",
      "Q12: 936.3374476987448\n"
     ]
    }
   ],
   "source": [
    "print('Q1:', my_ans1)\n",
    "print('Q2:', my_ans2)\n",
    "print('Q3:', my_ans3)\n",
    "print('Q4:', my_ans4)\n",
    "print('Q5_1:', my_ans5_1)\n",
    "print('Q5_2:', my_ans5_2)\n",
    "print('Q6:', my_ans6)\n",
    "print('Q7:', my_ans7)\n",
    "print('Q8:', my_ans8)\n",
    "print('Q10:', my_ans10)\n",
    "print('Q12:', my_ans12)"
   ]
  },
  {
   "cell_type": "markdown",
   "metadata": {
    "collapsed": false
   },
   "source": [
    "## Part 2"
   ]
  },
  {
   "cell_type": "markdown",
   "metadata": {
    "collapsed": false
   },
   "source": [
    "1. Create a table that shows the 2010 claims frequency distribution. The table should contain the number of policies, the number of claims and the proportion (broken down by the number of claims).\n",
    "\n",
    "1.1. How many policyholders in the 2010 claims data have 9 or more claims?\n",
    "\n",
    "1.2. What is the percentage proportion of policyholders having exactly 3 claims?\n",
    "\n",
    "Goal: the table should tell us the (percentage) proportion of policyholders who did not have any claims, only one claim and so on."
   ]
  },
  {
   "cell_type": "markdown",
   "metadata": {
    "collapsed": false
   },
   "source": [
    "2. From those 403 policyholders who made at least one claim, create a table that provides information about the distribution of sample claims in year 2010.\n",
    "\n",
    "2.1. What is the mean of claims amounts?\n",
    "\n",
    "2.2. What is the third quartile of the claims amounts?"
   ]
  },
  {
   "cell_type": "markdown",
   "metadata": {
    "collapsed": false
   },
   "source": [
    "3. Consider the claims data over the 5 years between 2006-2010 inclusive. Create a table that show the average claim varies over time, average frequency, average coverage and the number of policyholders.\n",
    "\n",
    "3.1 What can you say about the number of policyholders over this period?\n",
    "\n",
    "3.2 How does the average coverage change over this period?"
   ]
  }
 ],
 "metadata": {
  "kernelspec": {
   "display_name": "Python 3",
   "language": "python",
   "name": "python3"
  },
  "language_info": {
   "codemirror_mode": {
    "name": "ipython",
    "version": 3
   },
   "file_extension": ".py",
   "mimetype": "text/x-python",
   "name": "python",
   "nbconvert_exporter": "python",
   "pygments_lexer": "ipython3",
   "version": "3.7.8"
  }
 },
 "nbformat": 4,
 "nbformat_minor": 0
}