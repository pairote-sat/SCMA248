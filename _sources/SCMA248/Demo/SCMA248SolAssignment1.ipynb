{
 "cells": [
  {
   "cell_type": "code",
   "execution_count": null,
   "outputs": [],
   "source": [],
   "metadata": {
    "collapsed": false,
    "pycharm": {
     "name": "#%%\n"
    }
   }
  },
  {
   "cell_type": "markdown",
   "source": [
    "## Exercise for Chapter 3\n",
    "\n",
    "This exercises is design to assist you how to use the pandas package to import, preprocess data and perform basic statistical analysis. Later we should see how data generating events can produce data of interest to insurance analysts.\n",
    "\n",
    "We will look at the Local Government Property Insurance Fund in this chapter. The fund insures property owned by municipal governments, such as schools and libraries.\n",
    "\n",
    "* government buildings,\n",
    "\n",
    "* educational institutions,\n",
    "\n",
    "* public libraries, and\n",
    "\n",
    "* motor vehicles.\n",
    "\n",
    "Over a thousand local government units are covered by the fund, which charges about \\$25 million in annual premiums and provides insurance coverage of about \\$75 billion."
   ],
   "metadata": {
    "collapsed": false
   }
  },
  {
   "cell_type": "markdown",
   "source": [
    "**Example 1** Import the claim dataset namely ClaimsExperienceData.csv from my Github repository. Then write Python commands to answer the following questions."
   ],
   "metadata": {
    "collapsed": false
   }
  },
  {
   "cell_type": "code",
   "execution_count": null,
   "outputs": [],
   "source": [
    "import pandas as pd\n",
    "\n",
    "claims = pd.read_csv('/Users/Kaemyuijang/SCMA248/Data/ClaimsExperienceData.csv')"
   ],
   "metadata": {
    "collapsed": false,
    "pycharm": {
     "name": "#%%\n"
    }
   }
  },
  {
   "cell_type": "markdown",
   "source": [
    "1. How many claims observations are there in this dataset?"
   ],
   "metadata": {
    "collapsed": false
   }
  },
  {
   "cell_type": "code",
   "execution_count": null,
   "outputs": [],
   "source": [
    "claims.shape[0]\n",
    "my_ans1 = claims.shape[0]\n",
    "print('Answer: There are', claims.shape[0],'claims in the dataset.')"
   ],
   "metadata": {
    "collapsed": false,
    "pycharm": {
     "name": "#%%\n"
    }
   }
  },
  {
   "cell_type": "markdown",
   "source": [
    "2. How many variables (features) are there in this dataset? List (print out) all the features."
   ],
   "metadata": {
    "collapsed": false
   }
  },
  {
   "cell_type": "code",
   "execution_count": null,
   "outputs": [],
   "source": [
    "print(claims.columns)\n",
    "claims.shape[1]\n",
    "my_ans2 = claims.shape[1]\n",
    "print('Answer: There are', claims.shape[1],'variables in the dataset.')"
   ],
   "metadata": {
    "collapsed": false,
    "pycharm": {
     "name": "#%%\n"
    }
   }
  },
  {
   "cell_type": "markdown",
   "source": [
    "\n",
    "## Description of Rating Variables\n",
    "\n",
    "One of the important tasks of insurance analysts is to develop models to represent and manage the two outcome variables, **frequency** and **severity**.\n",
    "\n",
    "However, when actuaries and other financial analysts use those models, they do so in the context of external variables.\n",
    "\n",
    "In general statistical terminology, one might call these explanatory or predictor variables.\n",
    "\n",
    "Because of our insurance focus, we call them **rating variables** as they are useful in setting insurance rates and premiums.\n",
    "\n",
    "The following table describes the rating variables considered.\n",
    "\n",
    "These are variables that you think might naturally be related to claims outcomes.\n",
    "\n",
    "<!-- To handle the skewness, we henceforth focus on logarithmic transformations of coverage and deductibles. -->\n",
    "\n",
    "<!-- For our immediate purposes, the coverage is our first rating variable. Other things being equal, we would expect that policyholders with larger coverage have larger claims. We will make this vague idea much more precise as we proceed, and also justify this expectation with data. -->\n",
    "\n",
    "**Variable**  | **Description**\n",
    "----- | -------------\n",
    "EntityType    | Categorical variable that is one of six types: (Village, City, County, Misc, School, or Town)\n",
    "LnCoverage    | Total building and content coverage, in logarithmic millions of dollars\n",
    "LnDeduct      | Deductible, in logarithmic dollars\n",
    "AlarmCredit   | Categorical variable that is one of four types: (0, 5, 10, or 15) for automatic smoke alarms in main rooms\n",
    "NoClaimCredit | Binary variable to indicate no claims in the past two years\n",
    "Fire5         | Binary variable to indicate the fire class is below 5 (The range of fire class is 0 to 10)"
   ],
   "metadata": {
    "collapsed": false
   }
  },
  {
   "cell_type": "markdown",
   "source": [
    "**In what follows, for illustrate, we will consider claims data in year 2010.**"
   ],
   "metadata": {
    "collapsed": false
   }
  },
  {
   "cell_type": "markdown",
   "source": [
    "3. How many policies are there in 2010?\n",
    "\n",
    "Name the answer with the variable name **num_policies**.\n",
    "\n",
    "Hint: one may use `.value_counts` method that return a Series containing counts of unique values. Alternatively, you want to count False and True separately you can use `pd.Series.sum()` + `~`.\n",
    "\n",
    "In addition, we may use Pandas Series.get() function get item from object for given key (DataFrame column, Panel slice, etc.)."
   ],
   "metadata": {
    "collapsed": false
   }
  },
  {
   "cell_type": "code",
   "execution_count": null,
   "outputs": [],
   "source": [
    "num_policies = (claims['Year']  == 2010).value_counts().get(True)\n",
    "my_ans3 = num_policies\n",
    "print('Answer: There are', num_policies,'policies in 2010.')"
   ],
   "metadata": {
    "collapsed": false,
    "pycharm": {
     "name": "#%%\n"
    }
   }
  },
  {
   "cell_type": "code",
   "execution_count": null,
   "outputs": [],
   "source": [
    "# First Attempt\n",
    "\n",
    "# temp = claims['Year']  == 2010\n",
    "# temp.value_counts()\n",
    "# num_policies = temp.sum()\n",
    "\n",
    "#(~temp).sum()"
   ],
   "metadata": {
    "collapsed": false,
    "pycharm": {
     "name": "#%%\n"
    }
   }
  },
  {
   "cell_type": "markdown",
   "source": [
    "4. How many claims are there in 2010? Assign the result to the variable **num_claims**."
   ],
   "metadata": {
    "collapsed": false
   }
  },
  {
   "cell_type": "code",
   "execution_count": null,
   "outputs": [],
   "source": [
    "claims2010 = claims[ claims['Year']  == 2010]\n",
    "num_claims = claims2010['Freq'].sum()\n",
    "my_ans4 = num_claims\n",
    "print('Answer: There are', num_claims,'claims in 2010.')"
   ],
   "metadata": {
    "collapsed": false,
    "pycharm": {
     "name": "#%%\n"
    }
   }
  },
  {
   "cell_type": "markdown",
   "source": [
    "5. Which policy number has the maximum number of claims and what is this claims number?"
   ],
   "metadata": {
    "collapsed": false
   }
  },
  {
   "cell_type": "code",
   "execution_count": null,
   "outputs": [],
   "source": [
    "# claims2010.sort_values('Freq', ascending = False).head(2)\n",
    "## Hard cording\n",
    "# claims2010.loc[1406,'Freq']"
   ],
   "metadata": {
    "collapsed": false,
    "pycharm": {
     "name": "#%%\n"
    }
   }
  },
  {
   "cell_type": "markdown",
   "source": [
    "With `.idxmax()`, we can return the index at which maximum weight value is present.\n",
    "\n",
    "See https://www.geeksforgeeks.org/get-the-index-of-maximum-value-in-dataframe-column/."
   ],
   "metadata": {
    "collapsed": false
   }
  },
  {
   "cell_type": "code",
   "execution_count": null,
   "outputs": [],
   "source": [
    "ind_freq_max = claims2010['Freq'].idxmax()\n",
    "\n",
    "max_policy_num = claims2010.loc[ind_freq_max,'PolicyNum']\n",
    "max_claims = claims2010.loc[ind_freq_max,'Freq']\n",
    "\n",
    "my_ans5_1 = max_policy_num\n",
    "my_ans5_2 = max_claims\n",
    "\n",
    "print('Ans: The policy number', max_policy_num, 'has the maximum number of claims of ', max_claims,'.')"
   ],
   "metadata": {
    "collapsed": false,
    "pycharm": {
     "name": "#%%\n"
    }
   }
  },
  {
   "cell_type": "markdown",
   "source": [
    "6. Calculate the proportion of policyholders who did not have any claims (use the name **prop_policies_no_claims** for your output)."
   ],
   "metadata": {
    "collapsed": false
   }
  },
  {
   "cell_type": "code",
   "execution_count": null,
   "outputs": [],
   "source": [
    "# Using value_count() and .sort_index to obtain the number of\n",
    "# policies by claim numbers.\n",
    "\n",
    "(claims2010['Freq'].value_counts()).sort_index()\n",
    "\n",
    "num_policies_no_claims = (claims2010['Freq'].value_counts()).sort_index()[0]\n",
    "\n",
    "# Calculate the proportion of policyholders who did not have any claims.\n",
    "\n",
    "prop_policies_no_claims = round(num_policies_no_claims / num_policies,4)\n",
    "\n",
    "my_ans6 = prop_policies_no_claims\n",
    "print('Ans: The proportion of policyholders who did not have any claims is', prop_policies_no_claims)"
   ],
   "metadata": {
    "collapsed": false,
    "pycharm": {
     "name": "#%%\n"
    }
   }
  },
  {
   "cell_type": "markdown",
   "source": [
    "7. Calculate the proportion of policyholders who had only one claim."
   ],
   "metadata": {
    "collapsed": false
   }
  },
  {
   "cell_type": "code",
   "execution_count": null,
   "outputs": [],
   "source": [
    "num_policies_one_claims = (claims2010['Freq'].value_counts()).sort_index()[1]\n",
    "\n",
    "prop_policies_one_claims = round(num_policies_one_claims / num_policies,4)\n",
    "\n",
    "my_ans7 = prop_policies_one_claims\n",
    "print('Ans: The proportion of policyholders who did not have any claims is', prop_policies_one_claims)"
   ],
   "metadata": {
    "collapsed": false,
    "pycharm": {
     "name": "#%%\n"
    }
   }
  },
  {
   "cell_type": "markdown",
   "source": [
    "8. Calculate the average number of claims for this sample."
   ],
   "metadata": {
    "collapsed": false
   }
  },
  {
   "cell_type": "code",
   "execution_count": null,
   "outputs": [],
   "source": [
    "num_claims/num_policies\n",
    "\n",
    "my_ans8 = num_claims/num_policies\n",
    "print('Ans: The average number of claims for this sample is', round(num_claims/num_policies,4))"
   ],
   "metadata": {
    "collapsed": false,
    "pycharm": {
     "name": "#%%\n"
    }
   }
  },
  {
   "cell_type": "markdown",
   "source": [
    "9. The `describe()` method is used for calculating some statistical data like percentile, mean and std of the numerical values of the Series or DataFrame.\n",
    "\n",
    "Applying to year 2010, what do we get when we run the command claims.describe()?"
   ],
   "metadata": {
    "collapsed": false
   }
  },
  {
   "cell_type": "code",
   "execution_count": null,
   "outputs": [],
   "source": [
    "claims2010.describe()"
   ],
   "metadata": {
    "collapsed": false,
    "pycharm": {
     "name": "#%%\n"
    }
   }
  },
  {
   "cell_type": "markdown",
   "source": [
    "10. A common method for determining the severity distribution is to look at the distribution of the sample of 1,377 claims. Another typical strategy is to look at the **distribution of average claims among policyholders who have made claims**.\n",
    "\n",
    "In our 2010 sample, how many such policyholders who have made claims?"
   ],
   "metadata": {
    "collapsed": false
   }
  },
  {
   "cell_type": "code",
   "execution_count": null,
   "outputs": [],
   "source": [
    "num_policies - num_policies_no_claims\n",
    "\n",
    "my_ans10 = num_policies - num_policies_no_claims\n",
    "print('Ans: There are',num_policies - num_policies_no_claims ,'policyholders who have at least made claims.')"
   ],
   "metadata": {
    "collapsed": false,
    "pycharm": {
     "name": "#%%\n"
    }
   }
  },
  {
   "cell_type": "markdown",
   "source": [
    "11. The average claim for the 209 policyholders who had only one claim is the same as the single claim they had.\n",
    "\n",
    "Write the command(s) to list the average claim of such 209 policyholders."
   ],
   "metadata": {
    "collapsed": false
   }
  },
  {
   "cell_type": "code",
   "execution_count": null,
   "outputs": [],
   "source": [
    "selected_index = (claims2010['Freq'] == 1)\n",
    "\n",
    "claims2010[selected_index][['Freq','y','yAvg']]\n"
   ],
   "metadata": {
    "collapsed": false,
    "pycharm": {
     "name": "#%%\n"
    }
   }
  },
  {
   "cell_type": "markdown",
   "source": [
    "12. Calculate the average claim of the policyholder with the maximum number of claims."
   ],
   "metadata": {
    "collapsed": false
   }
  },
  {
   "cell_type": "code",
   "execution_count": null,
   "outputs": [],
   "source": [
    "ind_freq_max = claims2010['Freq'].idxmax()\n",
    "\n",
    "max_yAvg = claims2010.loc[ind_freq_max,'y'] / claims2010.loc[ind_freq_max,'Freq']\n",
    "\n",
    "my_ans12 = max_yAvg\n",
    "print('Ans: the average claim of the policyholder with the maximum number of claims is ', round(max_yAvg,4),'.' )"
   ],
   "metadata": {
    "collapsed": false,
    "pycharm": {
     "name": "#%%\n"
    }
   }
  },
  {
   "cell_type": "code",
   "execution_count": null,
   "outputs": [],
   "source": [
    "print('Q1:', my_ans1)\n",
    "print('Q2:', my_ans2)\n",
    "print('Q3:', my_ans3)\n",
    "print('Q4:', my_ans4)\n",
    "print('Q5_1:', my_ans5_1)\n",
    "print('Q5_2:', my_ans5_2)\n",
    "print('Q6:', my_ans6)\n",
    "print('Q7:', my_ans7)\n",
    "print('Q8:', my_ans8)\n",
    "print('Q10:', my_ans10)\n",
    "print('Q12:', my_ans12)"
   ],
   "metadata": {
    "collapsed": false,
    "pycharm": {
     "name": "#%%\n"
    }
   }
  },
  {
   "cell_type": "markdown",
   "source": [
    "## Part 2"
   ],
   "metadata": {
    "collapsed": false
   }
  },
  {
   "cell_type": "markdown",
   "source": [
    "1. Create a table that shows the 2010 claims frequency distribution. The table should contain the number of policies, the number of claims and the proportion (broken down by the number of claims).\n",
    "\n",
    "1.1. How many policyholders in the 2010 claims data have 9 or more claims?\n",
    "\n",
    "1.2. What is the percentage proportion of policyholders having exactly 3 claims?\n",
    "\n",
    "Goal: the table should tell us the (percentage) proportion of policyholders who did not have any claims, only one claim and so on."
   ],
   "metadata": {
    "collapsed": false
   }
  },
  {
   "cell_type": "markdown",
   "source": [
    "2. From those 403 policyholders who made at least one claim, create a table that provides information about the distribution of sample claims in year 2010.\n",
    "\n",
    "2.1. What is the mean of claims amounts?\n",
    "\n",
    "2.2. What is the third quartile of the claims amounts?"
   ],
   "metadata": {
    "collapsed": false
   }
  },
  {
   "cell_type": "markdown",
   "source": [
    "3. Consider the claims data over the 5 years between 2006-2010 inclusive. Create a table that show the average claim varies over time, average frequency, average coverage and the number of policyholders.\n",
    "\n",
    "3.1 What can you say about the number of policyholders over this period?\n",
    "\n",
    "3.2 How does the average coverage change over this period?"
   ],
   "metadata": {
    "collapsed": false
   }
  }
 ],
 "metadata": {
  "kernelspec": {
   "display_name": "Python 3",
   "language": "python",
   "name": "python3"
  },
  "language_info": {
   "codemirror_mode": {
    "name": "ipython",
    "version": 2
   },
   "file_extension": ".py",
   "mimetype": "text/x-python",
   "name": "python",
   "nbconvert_exporter": "python",
   "pygments_lexer": "ipython2",
   "version": "2.7.6"
  }
 },
 "nbformat": 4,
 "nbformat_minor": 0
}