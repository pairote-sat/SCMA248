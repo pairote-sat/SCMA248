{
 "cells": [
  {
   "cell_type": "markdown",
   "id": "8c177875",
   "metadata": {},
   "source": [
    "# Midterm Examination: Part 1 \n",
    "\n",
    "Due date: 15 March 2022 before 10 am.\n",
    "\n",
    "Points: 15 for Part 1 (from 21 questions)\n",
    "\n",
    "Do not alter this file.\n",
    "\n",
    "Duplicate this file and move it into the Personal folder. Rename the file as Midterm_Part1_id (id is your student ID number, e.g. Midterm_Part1_6305001).\n",
    "\n",
    "Write Python commands to answer each of the questions. For each question that requires numerical values (not list or dataframe), you also need to assign the variable e.g. ans1 to store the numerical answer for question 1. If there is more than 1 answer required, you must create more variables e.g. ans1_1, ans1_2 to store the values of the answers.\n",
    "\n",
    "When you want to submit your file, you simply share access with me using my email pairote.sat@mahidol.edu and my TA p.pooy.pui.i@gmail.com. Do not move your file into the DS@MathMahidol team."
   ]
  },
  {
   "cell_type": "code",
   "execution_count": 1,
   "id": "5b1b324d",
   "metadata": {},
   "outputs": [],
   "source": [
    "import pandas as pd\n",
    "import numpy as np"
   ]
  },
  {
   "cell_type": "code",
   "execution_count": 2,
   "id": "02e37d35",
   "metadata": {},
   "outputs": [],
   "source": [
    "# https://stackoverflow.com/questions/20625582/how-to-deal-with-settingwithcopywarning-in-pandas\n",
    "\n",
    "pd.options.mode.chained_assignment = None"
   ]
  },
  {
   "cell_type": "code",
   "execution_count": 3,
   "id": "25c034a0",
   "metadata": {},
   "outputs": [],
   "source": [
    "from plotnine import *"
   ]
  },
  {
   "cell_type": "code",
   "execution_count": 4,
   "id": "c5e901d3",
   "metadata": {},
   "outputs": [],
   "source": [
    "id = 6305007"
   ]
  },
  {
   "cell_type": "markdown",
   "id": "f124a429",
   "metadata": {},
   "source": [
    "## Population Dataset: 2020 Census Demographic Data by County.\n",
    "\n",
    "We begin with the first dataset, which we obtained from \n",
    "\n",
    "https://www.dataemporium.com/dataset/254/?gclid=CjwKCAiAg6yRBhBNEiwAeVyL0Jl9xZg-nt9evBLB04fAZPc-TPTEmrW9kMfoIqMhBJvHjXQ-GV5fPBoChYIQAvD_BwE\n",
    "\n",
    "This dataset was created from the 2020 Census. It contains one row per county with the total population and a breakdown by race."
   ]
  },
  {
   "cell_type": "code",
   "execution_count": 5,
   "id": "019391aa",
   "metadata": {},
   "outputs": [],
   "source": [
    "path = '/Users/Kaemyuijang/SCMA248/Data/US_population.csv'\n",
    "\n",
    "#df = pd.read_csv(path, parse_dates=True, index_col = 'date')\n",
    "\n",
    "population = pd.read_csv(path)"
   ]
  },
  {
   "cell_type": "markdown",
   "id": "47a8b659",
   "metadata": {},
   "source": [
    "#### Detailed description\n",
    "\n",
    "This table breaks down the total population and population by race for each county in the United States, based on the 2020 Census.\n",
    "\n",
    "**Some Terminology**.\n",
    "\n",
    "* A city is created by any population that has its own system of government and a semblance of a legal system. Cities are located within a county, within a state. \n",
    "\n",
    "* A county is a geographic unit created for political purposes within a state.\n",
    "\n",
    "Read more : Difference between city and county \n",
    "http://www.differencebetween.net/miscellaneous/difference-between-city-and-county/#ixzz7NKcARPB5\n",
    "\n",
    "**This table only includes numbers for people who checked off a single race in the census**. This is the majority of people. You can see the number of people who belong to two or more races by subtracting POP_ONE_RACE from TOTAL_POPULATION. \n",
    "\n",
    "Before proceeding to the next step, make sure you understand the difference between POP_ONE_RACE from TOTAL_POPULATION."
   ]
  },
  {
   "cell_type": "code",
   "execution_count": 6,
   "id": "89e917a4",
   "metadata": {},
   "outputs": [
    {
     "data": {
      "text/html": [
       "<div>\n",
       "<style scoped>\n",
       "    .dataframe tbody tr th:only-of-type {\n",
       "        vertical-align: middle;\n",
       "    }\n",
       "\n",
       "    .dataframe tbody tr th {\n",
       "        vertical-align: top;\n",
       "    }\n",
       "\n",
       "    .dataframe thead th {\n",
       "        text-align: right;\n",
       "    }\n",
       "</style>\n",
       "<table border=\"1\" class=\"dataframe\">\n",
       "  <thead>\n",
       "    <tr style=\"text-align: right;\">\n",
       "      <th></th>\n",
       "      <th>state_abbr</th>\n",
       "      <th>county</th>\n",
       "      <th>total_population</th>\n",
       "      <th>pop_one_race</th>\n",
       "      <th>white</th>\n",
       "      <th>black</th>\n",
       "      <th>amarican_indian</th>\n",
       "      <th>asian</th>\n",
       "      <th>hawaiian</th>\n",
       "      <th>other</th>\n",
       "    </tr>\n",
       "  </thead>\n",
       "  <tbody>\n",
       "    <tr>\n",
       "      <th>0</th>\n",
       "      <td>CT</td>\n",
       "      <td>Fairfield County</td>\n",
       "      <td>957419</td>\n",
       "      <td>854584</td>\n",
       "      <td>584184</td>\n",
       "      <td>106756</td>\n",
       "      <td>4369</td>\n",
       "      <td>51341</td>\n",
       "      <td>347</td>\n",
       "      <td>107587</td>\n",
       "    </tr>\n",
       "    <tr>\n",
       "      <th>1</th>\n",
       "      <td>CT</td>\n",
       "      <td>Hartford County</td>\n",
       "      <td>899498</td>\n",
       "      <td>819125</td>\n",
       "      <td>554184</td>\n",
       "      <td>127194</td>\n",
       "      <td>3145</td>\n",
       "      <td>53844</td>\n",
       "      <td>328</td>\n",
       "      <td>80430</td>\n",
       "    </tr>\n",
       "    <tr>\n",
       "      <th>2</th>\n",
       "      <td>CT</td>\n",
       "      <td>Litchfield County</td>\n",
       "      <td>185186</td>\n",
       "      <td>172181</td>\n",
       "      <td>158774</td>\n",
       "      <td>3348</td>\n",
       "      <td>511</td>\n",
       "      <td>3486</td>\n",
       "      <td>67</td>\n",
       "      <td>5995</td>\n",
       "    </tr>\n",
       "    <tr>\n",
       "      <th>3</th>\n",
       "      <td>CT</td>\n",
       "      <td>Middlesex County</td>\n",
       "      <td>164245</td>\n",
       "      <td>152898</td>\n",
       "      <td>134715</td>\n",
       "      <td>8565</td>\n",
       "      <td>392</td>\n",
       "      <td>4987</td>\n",
       "      <td>50</td>\n",
       "      <td>4189</td>\n",
       "    </tr>\n",
       "    <tr>\n",
       "      <th>4</th>\n",
       "      <td>CT</td>\n",
       "      <td>New Haven County</td>\n",
       "      <td>864835</td>\n",
       "      <td>782472</td>\n",
       "      <td>543831</td>\n",
       "      <td>118933</td>\n",
       "      <td>4058</td>\n",
       "      <td>37520</td>\n",
       "      <td>470</td>\n",
       "      <td>77660</td>\n",
       "    </tr>\n",
       "  </tbody>\n",
       "</table>\n",
       "</div>"
      ],
      "text/plain": [
       "  state_abbr             county  total_population  pop_one_race   white  \\\n",
       "0         CT   Fairfield County            957419        854584  584184   \n",
       "1         CT    Hartford County            899498        819125  554184   \n",
       "2         CT  Litchfield County            185186        172181  158774   \n",
       "3         CT   Middlesex County            164245        152898  134715   \n",
       "4         CT   New Haven County            864835        782472  543831   \n",
       "\n",
       "    black  amarican_indian  asian  hawaiian   other  \n",
       "0  106756             4369  51341       347  107587  \n",
       "1  127194             3145  53844       328   80430  \n",
       "2    3348              511   3486        67    5995  \n",
       "3    8565              392   4987        50    4189  \n",
       "4  118933             4058  37520       470   77660  "
      ]
     },
     "execution_count": 6,
     "metadata": {},
     "output_type": "execute_result"
    }
   ],
   "source": [
    "population.columns= population.columns.str.lower()\n",
    "\n",
    "population.head()"
   ]
  },
  {
   "cell_type": "markdown",
   "id": "f1056676",
   "metadata": {},
   "source": [
    "Q1: Verify that the sum of counts in the columns ['white','black','amarican_indian','asian','hawaiian','other'] is equal to the count in the column 'pop_one_race'."
   ]
  },
  {
   "cell_type": "code",
   "execution_count": 7,
   "id": "14a84b77",
   "metadata": {},
   "outputs": [
    {
     "data": {
      "text/plain": [
       "True"
      ]
     },
     "execution_count": 7,
     "metadata": {},
     "output_type": "execute_result"
    }
   ],
   "source": [
    "population[\"sum\"] = population[['white','black','amarican_indian','asian','hawaiian','other']].sum(axis=1)\n",
    "population\n",
    "ans1 = population['pop_one_race'].equals(population['sum'])\n",
    "ans1"
   ]
  },
  {
   "cell_type": "code",
   "execution_count": 8,
   "id": "329dd1ef",
   "metadata": {},
   "outputs": [
    {
     "data": {
      "text/html": [
       "<div>\n",
       "<style scoped>\n",
       "    .dataframe tbody tr th:only-of-type {\n",
       "        vertical-align: middle;\n",
       "    }\n",
       "\n",
       "    .dataframe tbody tr th {\n",
       "        vertical-align: top;\n",
       "    }\n",
       "\n",
       "    .dataframe thead th {\n",
       "        text-align: right;\n",
       "    }\n",
       "</style>\n",
       "<table border=\"1\" class=\"dataframe\">\n",
       "  <thead>\n",
       "    <tr style=\"text-align: right;\">\n",
       "      <th></th>\n",
       "      <th>state_abbr</th>\n",
       "      <th>county</th>\n",
       "      <th>total_population</th>\n",
       "      <th>pop_one_race</th>\n",
       "      <th>white</th>\n",
       "      <th>black</th>\n",
       "      <th>amarican_indian</th>\n",
       "      <th>asian</th>\n",
       "      <th>hawaiian</th>\n",
       "      <th>other</th>\n",
       "      <th>sum</th>\n",
       "    </tr>\n",
       "  </thead>\n",
       "  <tbody>\n",
       "    <tr>\n",
       "      <th>0</th>\n",
       "      <td>CT</td>\n",
       "      <td>Fairfield County</td>\n",
       "      <td>957419</td>\n",
       "      <td>854584</td>\n",
       "      <td>584184</td>\n",
       "      <td>106756</td>\n",
       "      <td>4369</td>\n",
       "      <td>51341</td>\n",
       "      <td>347</td>\n",
       "      <td>107587</td>\n",
       "      <td>854584</td>\n",
       "    </tr>\n",
       "    <tr>\n",
       "      <th>1</th>\n",
       "      <td>CT</td>\n",
       "      <td>Hartford County</td>\n",
       "      <td>899498</td>\n",
       "      <td>819125</td>\n",
       "      <td>554184</td>\n",
       "      <td>127194</td>\n",
       "      <td>3145</td>\n",
       "      <td>53844</td>\n",
       "      <td>328</td>\n",
       "      <td>80430</td>\n",
       "      <td>819125</td>\n",
       "    </tr>\n",
       "    <tr>\n",
       "      <th>2</th>\n",
       "      <td>CT</td>\n",
       "      <td>Litchfield County</td>\n",
       "      <td>185186</td>\n",
       "      <td>172181</td>\n",
       "      <td>158774</td>\n",
       "      <td>3348</td>\n",
       "      <td>511</td>\n",
       "      <td>3486</td>\n",
       "      <td>67</td>\n",
       "      <td>5995</td>\n",
       "      <td>172181</td>\n",
       "    </tr>\n",
       "    <tr>\n",
       "      <th>3</th>\n",
       "      <td>CT</td>\n",
       "      <td>Middlesex County</td>\n",
       "      <td>164245</td>\n",
       "      <td>152898</td>\n",
       "      <td>134715</td>\n",
       "      <td>8565</td>\n",
       "      <td>392</td>\n",
       "      <td>4987</td>\n",
       "      <td>50</td>\n",
       "      <td>4189</td>\n",
       "      <td>152898</td>\n",
       "    </tr>\n",
       "    <tr>\n",
       "      <th>4</th>\n",
       "      <td>CT</td>\n",
       "      <td>New Haven County</td>\n",
       "      <td>864835</td>\n",
       "      <td>782472</td>\n",
       "      <td>543831</td>\n",
       "      <td>118933</td>\n",
       "      <td>4058</td>\n",
       "      <td>37520</td>\n",
       "      <td>470</td>\n",
       "      <td>77660</td>\n",
       "      <td>782472</td>\n",
       "    </tr>\n",
       "  </tbody>\n",
       "</table>\n",
       "</div>"
      ],
      "text/plain": [
       "  state_abbr             county  total_population  pop_one_race   white  \\\n",
       "0         CT   Fairfield County            957419        854584  584184   \n",
       "1         CT    Hartford County            899498        819125  554184   \n",
       "2         CT  Litchfield County            185186        172181  158774   \n",
       "3         CT   Middlesex County            164245        152898  134715   \n",
       "4         CT   New Haven County            864835        782472  543831   \n",
       "\n",
       "    black  amarican_indian  asian  hawaiian   other     sum  \n",
       "0  106756             4369  51341       347  107587  854584  \n",
       "1  127194             3145  53844       328   80430  819125  \n",
       "2    3348              511   3486        67    5995  172181  \n",
       "3    8565              392   4987        50    4189  152898  \n",
       "4  118933             4058  37520       470   77660  782472  "
      ]
     },
     "execution_count": 8,
     "metadata": {},
     "output_type": "execute_result"
    }
   ],
   "source": [
    "population.head()"
   ]
  },
  {
   "cell_type": "markdown",
   "id": "90d1d296",
   "metadata": {},
   "source": [
    "Q2: How many counties are included in this dataset?"
   ]
  },
  {
   "cell_type": "code",
   "execution_count": 9,
   "id": "b054b60b",
   "metadata": {},
   "outputs": [
    {
     "data": {
      "text/plain": [
       "3221"
      ]
     },
     "execution_count": 9,
     "metadata": {},
     "output_type": "execute_result"
    }
   ],
   "source": [
    "ans2 = population.county.size\n",
    "ans2"
   ]
  },
  {
   "cell_type": "markdown",
   "id": "3fe429d8",
   "metadata": {},
   "source": [
    "Q3: How many unique county names are there?"
   ]
  },
  {
   "cell_type": "code",
   "execution_count": 10,
   "id": "9c95131d",
   "metadata": {},
   "outputs": [
    {
     "data": {
      "text/plain": [
       "1956"
      ]
     },
     "execution_count": 10,
     "metadata": {},
     "output_type": "execute_result"
    }
   ],
   "source": [
    "ans3 = population.county.unique().size\n",
    "ans3"
   ]
  },
  {
   "cell_type": "markdown",
   "id": "1a925bcf",
   "metadata": {},
   "source": [
    "Q4: What can be concluded from the difference between the number of counties and the number of unique county names?"
   ]
  },
  {
   "cell_type": "code",
   "execution_count": 11,
   "id": "08be10d7",
   "metadata": {},
   "outputs": [
    {
     "data": {
      "text/plain": [
       "(3221, 11)"
      ]
     },
     "execution_count": 11,
     "metadata": {},
     "output_type": "execute_result"
    }
   ],
   "source": [
    "population.shape"
   ]
  },
  {
   "cell_type": "markdown",
   "id": "a6f1155a",
   "metadata": {},
   "source": [
    "Q5: Create a table with the number of counties in each U.S. state."
   ]
  },
  {
   "cell_type": "code",
   "execution_count": 12,
   "id": "0e162c53",
   "metadata": {},
   "outputs": [
    {
     "data": {
      "text/plain": [
       "state_abbr\n",
       "AK     30\n",
       "AL     67\n",
       "AR     75\n",
       "AZ     15\n",
       "CA     58\n",
       "CO     64\n",
       "CT      8\n",
       "DC      1\n",
       "DE      3\n",
       "FL     67\n",
       "GA    159\n",
       "HI      5\n",
       "IA     99\n",
       "ID     44\n",
       "IL    102\n",
       "IN     92\n",
       "KS    105\n",
       "KY    120\n",
       "LA     64\n",
       "MA     14\n",
       "MD     24\n",
       "ME     16\n",
       "MI     83\n",
       "MN     87\n",
       "MO    115\n",
       "MS     82\n",
       "MT     56\n",
       "NC    100\n",
       "ND     53\n",
       "NE     93\n",
       "NH     10\n",
       "NJ     21\n",
       "NM     33\n",
       "NV     17\n",
       "NY     62\n",
       "OH     88\n",
       "OK     77\n",
       "OR     36\n",
       "PA     67\n",
       "PR     78\n",
       "RI      5\n",
       "SC     46\n",
       "SD     66\n",
       "TN     95\n",
       "TX    254\n",
       "UT     29\n",
       "VA    133\n",
       "VT     14\n",
       "WA     39\n",
       "WI     72\n",
       "WV     55\n",
       "WY     23\n",
       "dtype: int64"
      ]
     },
     "execution_count": 12,
     "metadata": {},
     "output_type": "execute_result"
    }
   ],
   "source": [
    "population.groupby('state_abbr').size()"
   ]
  },
  {
   "cell_type": "markdown",
   "id": "5253792f",
   "metadata": {},
   "source": [
    "Q6: The following Python command uses `np.random.seed(id)` to set the seed number of your student ID. Complete the following command to create the variable 'state_given', which stores a randomly selected US state."
   ]
  },
  {
   "cell_type": "code",
   "execution_count": 13,
   "id": "2b14b2ed",
   "metadata": {},
   "outputs": [
    {
     "name": "stdout",
     "output_type": "stream",
     "text": [
      "6305007\n",
      "['OR']\n"
     ]
    }
   ],
   "source": [
    "np.random.seed(id)\n",
    "states_given = np.random.choice(population.state_abbr.unique(), 1).tolist()\n",
    "print(id)\n",
    "print(states_given)"
   ]
  },
  {
   "cell_type": "markdown",
   "id": "b930e1bc",
   "metadata": {},
   "source": [
    "Q7: List all counties in the randomly selected US state defined by `states_given`."
   ]
  },
  {
   "cell_type": "code",
   "execution_count": 14,
   "id": "871c0383",
   "metadata": {},
   "outputs": [
    {
     "data": {
      "text/html": [
       "<div>\n",
       "<style scoped>\n",
       "    .dataframe tbody tr th:only-of-type {\n",
       "        vertical-align: middle;\n",
       "    }\n",
       "\n",
       "    .dataframe tbody tr th {\n",
       "        vertical-align: top;\n",
       "    }\n",
       "\n",
       "    .dataframe thead th {\n",
       "        text-align: right;\n",
       "    }\n",
       "</style>\n",
       "<table border=\"1\" class=\"dataframe\">\n",
       "  <thead>\n",
       "    <tr style=\"text-align: right;\">\n",
       "      <th></th>\n",
       "      <th>state_abbr</th>\n",
       "      <th>county</th>\n",
       "      <th>total_population</th>\n",
       "      <th>pop_one_race</th>\n",
       "      <th>white</th>\n",
       "      <th>black</th>\n",
       "      <th>amarican_indian</th>\n",
       "      <th>asian</th>\n",
       "      <th>hawaiian</th>\n",
       "      <th>other</th>\n",
       "      <th>sum</th>\n",
       "    </tr>\n",
       "  </thead>\n",
       "  <tbody>\n",
       "    <tr>\n",
       "      <th>2694</th>\n",
       "      <td>OR</td>\n",
       "      <td>Baker County</td>\n",
       "      <td>16668</td>\n",
       "      <td>15635</td>\n",
       "      <td>14936</td>\n",
       "      <td>77</td>\n",
       "      <td>186</td>\n",
       "      <td>66</td>\n",
       "      <td>21</td>\n",
       "      <td>349</td>\n",
       "      <td>15635</td>\n",
       "    </tr>\n",
       "    <tr>\n",
       "      <th>2695</th>\n",
       "      <td>OR</td>\n",
       "      <td>Benton County</td>\n",
       "      <td>95184</td>\n",
       "      <td>86292</td>\n",
       "      <td>74612</td>\n",
       "      <td>1002</td>\n",
       "      <td>819</td>\n",
       "      <td>6428</td>\n",
       "      <td>292</td>\n",
       "      <td>3139</td>\n",
       "      <td>86292</td>\n",
       "    </tr>\n",
       "    <tr>\n",
       "      <th>2696</th>\n",
       "      <td>OR</td>\n",
       "      <td>Clackamas County</td>\n",
       "      <td>421401</td>\n",
       "      <td>380858</td>\n",
       "      <td>334855</td>\n",
       "      <td>4554</td>\n",
       "      <td>3510</td>\n",
       "      <td>20699</td>\n",
       "      <td>1117</td>\n",
       "      <td>16123</td>\n",
       "      <td>380858</td>\n",
       "    </tr>\n",
       "    <tr>\n",
       "      <th>2697</th>\n",
       "      <td>OR</td>\n",
       "      <td>Clatsop County</td>\n",
       "      <td>41072</td>\n",
       "      <td>37477</td>\n",
       "      <td>34525</td>\n",
       "      <td>226</td>\n",
       "      <td>431</td>\n",
       "      <td>564</td>\n",
       "      <td>104</td>\n",
       "      <td>1627</td>\n",
       "      <td>37477</td>\n",
       "    </tr>\n",
       "    <tr>\n",
       "      <th>2698</th>\n",
       "      <td>OR</td>\n",
       "      <td>Columbia County</td>\n",
       "      <td>52589</td>\n",
       "      <td>48007</td>\n",
       "      <td>45243</td>\n",
       "      <td>323</td>\n",
       "      <td>733</td>\n",
       "      <td>583</td>\n",
       "      <td>121</td>\n",
       "      <td>1004</td>\n",
       "      <td>48007</td>\n",
       "    </tr>\n",
       "  </tbody>\n",
       "</table>\n",
       "</div>"
      ],
      "text/plain": [
       "     state_abbr            county  total_population  pop_one_race   white  \\\n",
       "2694         OR      Baker County             16668         15635   14936   \n",
       "2695         OR     Benton County             95184         86292   74612   \n",
       "2696         OR  Clackamas County            421401        380858  334855   \n",
       "2697         OR    Clatsop County             41072         37477   34525   \n",
       "2698         OR   Columbia County             52589         48007   45243   \n",
       "\n",
       "      black  amarican_indian  asian  hawaiian  other     sum  \n",
       "2694     77              186     66        21    349   15635  \n",
       "2695   1002              819   6428       292   3139   86292  \n",
       "2696   4554             3510  20699      1117  16123  380858  \n",
       "2697    226              431    564       104   1627   37477  \n",
       "2698    323              733    583       121   1004   48007  "
      ]
     },
     "execution_count": 14,
     "metadata": {},
     "output_type": "execute_result"
    }
   ],
   "source": [
    "population.query('state_abbr == @states_given').head()"
   ]
  },
  {
   "cell_type": "code",
   "execution_count": 15,
   "id": "9d4d6fa6",
   "metadata": {},
   "outputs": [
    {
     "data": {
      "text/html": [
       "<div>\n",
       "<style scoped>\n",
       "    .dataframe tbody tr th:only-of-type {\n",
       "        vertical-align: middle;\n",
       "    }\n",
       "\n",
       "    .dataframe tbody tr th {\n",
       "        vertical-align: top;\n",
       "    }\n",
       "\n",
       "    .dataframe thead th {\n",
       "        text-align: right;\n",
       "    }\n",
       "</style>\n",
       "<table border=\"1\" class=\"dataframe\">\n",
       "  <thead>\n",
       "    <tr style=\"text-align: right;\">\n",
       "      <th></th>\n",
       "      <th>state_abbr</th>\n",
       "      <th>county</th>\n",
       "      <th>total_population</th>\n",
       "      <th>pop_one_race</th>\n",
       "      <th>white</th>\n",
       "      <th>black</th>\n",
       "      <th>amarican_indian</th>\n",
       "      <th>asian</th>\n",
       "      <th>hawaiian</th>\n",
       "      <th>other</th>\n",
       "      <th>sum</th>\n",
       "    </tr>\n",
       "  </thead>\n",
       "  <tbody>\n",
       "    <tr>\n",
       "      <th>233</th>\n",
       "      <td>NH</td>\n",
       "      <td>Belknap County</td>\n",
       "      <td>63705</td>\n",
       "      <td>60615</td>\n",
       "      <td>59134</td>\n",
       "      <td>359</td>\n",
       "      <td>128</td>\n",
       "      <td>588</td>\n",
       "      <td>14</td>\n",
       "      <td>392</td>\n",
       "      <td>60615</td>\n",
       "    </tr>\n",
       "    <tr>\n",
       "      <th>234</th>\n",
       "      <td>NH</td>\n",
       "      <td>Carroll County</td>\n",
       "      <td>50107</td>\n",
       "      <td>48155</td>\n",
       "      <td>47199</td>\n",
       "      <td>134</td>\n",
       "      <td>111</td>\n",
       "      <td>359</td>\n",
       "      <td>9</td>\n",
       "      <td>343</td>\n",
       "      <td>48155</td>\n",
       "    </tr>\n",
       "    <tr>\n",
       "      <th>235</th>\n",
       "      <td>NH</td>\n",
       "      <td>Cheshire County</td>\n",
       "      <td>76458</td>\n",
       "      <td>72558</td>\n",
       "      <td>69907</td>\n",
       "      <td>708</td>\n",
       "      <td>169</td>\n",
       "      <td>1079</td>\n",
       "      <td>53</td>\n",
       "      <td>642</td>\n",
       "      <td>72558</td>\n",
       "    </tr>\n",
       "    <tr>\n",
       "      <th>236</th>\n",
       "      <td>NH</td>\n",
       "      <td>Coos County</td>\n",
       "      <td>31268</td>\n",
       "      <td>29925</td>\n",
       "      <td>28946</td>\n",
       "      <td>526</td>\n",
       "      <td>93</td>\n",
       "      <td>202</td>\n",
       "      <td>3</td>\n",
       "      <td>155</td>\n",
       "      <td>29925</td>\n",
       "    </tr>\n",
       "    <tr>\n",
       "      <th>237</th>\n",
       "      <td>NH</td>\n",
       "      <td>Grafton County</td>\n",
       "      <td>91118</td>\n",
       "      <td>86114</td>\n",
       "      <td>81268</td>\n",
       "      <td>819</td>\n",
       "      <td>222</td>\n",
       "      <td>2867</td>\n",
       "      <td>24</td>\n",
       "      <td>914</td>\n",
       "      <td>86114</td>\n",
       "    </tr>\n",
       "  </tbody>\n",
       "</table>\n",
       "</div>"
      ],
      "text/plain": [
       "    state_abbr           county  total_population  pop_one_race  white  black  \\\n",
       "233         NH   Belknap County             63705         60615  59134    359   \n",
       "234         NH   Carroll County             50107         48155  47199    134   \n",
       "235         NH  Cheshire County             76458         72558  69907    708   \n",
       "236         NH      Coos County             31268         29925  28946    526   \n",
       "237         NH   Grafton County             91118         86114  81268    819   \n",
       "\n",
       "     amarican_indian  asian  hawaiian  other    sum  \n",
       "233              128    588        14    392  60615  \n",
       "234              111    359         9    343  48155  \n",
       "235              169   1079        53    642  72558  \n",
       "236               93    202         3    155  29925  \n",
       "237              222   2867        24    914  86114  "
      ]
     },
     "execution_count": 15,
     "metadata": {},
     "output_type": "execute_result"
    }
   ],
   "source": [
    "population.query('state_abbr == \"NH\"').head()"
   ]
  },
  {
   "cell_type": "code",
   "execution_count": 16,
   "id": "53a28a9e",
   "metadata": {},
   "outputs": [
    {
     "name": "stdout",
     "output_type": "stream",
     "text": [
      "TX\n",
      "               county\n",
      "2440  Anderson County\n",
      "2441   Andrews County\n",
      "2442  Angelina County\n",
      "2443   Aransas County\n",
      "2444    Archer County\n",
      "...               ...\n",
      "2689      Wood County\n",
      "2690    Yoakum County\n",
      "2691     Young County\n",
      "2692    Zapata County\n",
      "2693    Zavala County\n",
      "\n",
      "[254 rows x 1 columns]\n",
      "WI\n",
      "                county\n",
      "3149      Adams County\n",
      "3150    Ashland County\n",
      "3151     Barron County\n",
      "3152   Bayfield County\n",
      "3153      Brown County\n",
      "...                ...\n",
      "3216   Waukesha County\n",
      "3217    Waupaca County\n",
      "3218   Waushara County\n",
      "3219  Winnebago County\n",
      "3220       Wood County\n",
      "\n",
      "[72 rows x 1 columns]\n"
     ]
    }
   ],
   "source": [
    "# How to use loop variable inside pandas df.query()\n",
    "# https://stackoverflow.com/questions/64828539/how-to-use-loop-variable-inside-pandas-df-query\n",
    "\n",
    "states_list = [\"TX\",\"WI\"]\n",
    "\n",
    "#print(population.query('states_list == \"AL\"')[['county']])\n",
    "\n",
    "for st in states_list:\n",
    "    print(st)\n",
    "    #print('states_list ==' + str(st))\n",
    "       \n",
    "    print(population.query('state_abbr ==@st')[['county']])"
   ]
  },
  {
   "cell_type": "code",
   "execution_count": 17,
   "id": "0d2d2069",
   "metadata": {},
   "outputs": [
    {
     "data": {
      "text/plain": [
       "array(['CT', 'MN', 'WY', 'NJ', 'ND', 'NV', 'MD', 'NH', 'ME', 'MT', 'MS',\n",
       "       'OK', 'GA', 'KY', 'PA', 'SC', 'KS', 'CO', 'SD', 'NC', 'AK', 'UT',\n",
       "       'OH', 'ID', 'LA', 'WV', 'MI', 'MO', 'AL', 'RI', 'DE', 'VT', 'MA',\n",
       "       'VA', 'AR', 'NM', 'CA', 'AZ', 'TN', 'WA', 'PR', 'IL', 'TX', 'OR',\n",
       "       'IA', 'HI', 'NE', 'NY', 'IN', 'DC', 'FL', 'WI'], dtype=object)"
      ]
     },
     "execution_count": 17,
     "metadata": {},
     "output_type": "execute_result"
    }
   ],
   "source": [
    "population.state_abbr.unique()"
   ]
  },
  {
   "cell_type": "markdown",
   "id": "a46c705a",
   "metadata": {},
   "source": [
    "Q8: Write Python code to select two random US states and include them in a list named **states_list**. Do not forget to use np.random.seed to set the random value to your ID."
   ]
  },
  {
   "cell_type": "code",
   "execution_count": 18,
   "id": "d303a1dc",
   "metadata": {},
   "outputs": [
    {
     "name": "stdout",
     "output_type": "stream",
     "text": [
      "['OR', 'WA']\n"
     ]
    }
   ],
   "source": [
    "np.random.seed(id)\n",
    "states_list = np.random.choice(population.state_abbr.unique(), 2, replace = True).tolist()\n",
    "print(states_list)"
   ]
  },
  {
   "cell_type": "markdown",
   "id": "94580b48",
   "metadata": {},
   "source": [
    "Q9: List all counties for each state in the **states_list**."
   ]
  },
  {
   "cell_type": "code",
   "execution_count": 20,
   "id": "bae5e951",
   "metadata": {},
   "outputs": [
    {
     "name": "stdout",
     "output_type": "stream",
     "text": [
      "OR\n",
      "     state_abbr             county  total_population  pop_one_race   white  \\\n",
      "2694         OR       Baker County             16668         15635   14936   \n",
      "2695         OR      Benton County             95184         86292   74612   \n",
      "2696         OR   Clackamas County            421401        380858  334855   \n",
      "2697         OR     Clatsop County             41072         37477   34525   \n",
      "2698         OR    Columbia County             52589         48007   45243   \n",
      "2699         OR        Coos County             64929         59136   54930   \n",
      "2700         OR       Crook County             24738         22722   21349   \n",
      "2701         OR       Curry County             23446         21331   19925   \n",
      "2702         OR   Deschutes County            198253        180993  169137   \n",
      "2703         OR     Douglas County            111201        101896   96048   \n",
      "2704         OR     Gilliam County              1995          1850    1770   \n",
      "2705         OR       Grant County              7233          6703    6523   \n",
      "2706         OR      Harney County              7495          6969    6566   \n",
      "2707         OR  Hood River County             23977         20267   16381   \n",
      "2708         OR     Jackson County            223259        198701  178193   \n",
      "2709         OR   Jefferson County             24502         22091   15992   \n",
      "2710         OR   Josephine County             88090         80038   75344   \n",
      "2711         OR     Klamath County             69413         62494   54494   \n",
      "2712         OR        Lake County              8160          7257    6691   \n",
      "2713         OR        Lane County            382971        344179  309194   \n",
      "2714         OR     Lincoln County             50395         45511   40624   \n",
      "2715         OR        Linn County            128610        116596  107700   \n",
      "2716         OR     Malheur County             31571         28327   21619   \n",
      "2717         OR      Marion County            345920        303363  233321   \n",
      "2718         OR      Morrow County             12186         10514    7472   \n",
      "2719         OR   Multnomah County            815428        727014  556202   \n",
      "2720         OR        Polk County             87433         78117   68274   \n",
      "2721         OR     Sherman County              1870          1714    1643   \n",
      "2722         OR   Tillamook County             27390         24773   22620   \n",
      "2723         OR    Umatilla County             80075         70618   53461   \n",
      "2724         OR       Union County             26196         24142   22565   \n",
      "2725         OR     Wallowa County              7391          6922    6673   \n",
      "2726         OR       Wasco County             26670         23673   19821   \n",
      "2727         OR  Washington County            600372        529866  385455   \n",
      "2728         OR     Wheeler County              1451          1331    1271   \n",
      "2729         OR     Yamhill County            107722         96540   83667   \n",
      "\n",
      "      black  amarican_indian  asian  hawaiian  other     sum  \n",
      "2694     77              186     66        21    349   15635  \n",
      "2695   1002              819   6428       292   3139   86292  \n",
      "2696   4554             3510  20699      1117  16123  380858  \n",
      "2697    226              431    564       104   1627   37477  \n",
      "2698    323              733    583       121   1004   48007  \n",
      "2699    289             1493    747       128   1549   59136  \n",
      "2700     80              317    114        30    832   22722  \n",
      "2701     84              541    214        25    542   21331  \n",
      "2702    887             1563   2481       272   6653  180993  \n",
      "2703    400             1950   1231       164   2103  101896  \n",
      "2704      4               29      9        11     27    1850  \n",
      "2705     13               65     23        10     69    6703  \n",
      "2706      8              246     36         0    113    6969  \n",
      "2707     53              274    392        37   3130   20267  \n",
      "2708   1734             2781   3387       867  11739  198701  \n",
      "2709    145             3323    149        24   2458   22091  \n",
      "2710    415             1071    886       128   2194   80038  \n",
      "2711    562             2998    786       122   3532   62494  \n",
      "2712     49              131     54        10    322    7257  \n",
      "2713   4660             4674   9620      1015  15016  344179  \n",
      "2714    199             1795    658        95   2140   45511  \n",
      "2715    681             1727   1477       295   4716  116596  \n",
      "2716    465              539    396        53   5255   28327  \n",
      "2717   4161             6836   7501      3821  47723  303363  \n",
      "2718     58              167     33         5   2779   10514  \n",
      "2719  45370             9906  62022      5457  48057  727014  \n",
      "2720    735             1912   1774       361   5061   78117  \n",
      "2721      0               19      8         3     41    1714  \n",
      "2722     79              307    283        85   1399   24773  \n",
      "2723    701             3082    720       151  12503   70618  \n",
      "2724    161              242    220       492    462   24142  \n",
      "2725      9               60     31         4    145    6922  \n",
      "2726    133             1119    252       195   2153   23673  \n",
      "2727  13437             6179  69106      3477  52212  529866  \n",
      "2728      1               26      9         0     24    1331  \n",
      "2729    900             1942   1579       212   8240   96540  \n",
      "WA\n",
      "     state_abbr               county  total_population  pop_one_race    white  \\\n",
      "2221         WA         Adams County             20613         17078     9164   \n",
      "2222         WA        Asotin County             22285         20813    19858   \n",
      "2223         WA        Benton County            206873        182727   146087   \n",
      "2224         WA        Chelan County             79074         70583    55289   \n",
      "2225         WA       Clallam County             77155         70469    62450   \n",
      "2226         WA         Clark County            503311        451040   379827   \n",
      "2227         WA      Columbia County              3952          3645     3442   \n",
      "2228         WA       Cowlitz County            110730        100536    90812   \n",
      "2229         WA       Douglas County             42938         36824    27842   \n",
      "2230         WA         Ferry County              7178          6602     5118   \n",
      "2231         WA      Franklin County             96749         80625    45837   \n",
      "2232         WA      Garfield County              2286          2164     2098   \n",
      "2233         WA         Grant County             99123         85914    57433   \n",
      "2234         WA  Grays Harbor County             75636         68806    59052   \n",
      "2235         WA        Island County             86857         77849    67928   \n",
      "2236         WA     Jefferson County             32977         30425    28588   \n",
      "2237         WA          King County           2269675       2033922  1273054   \n",
      "2238         WA        Kitsap County            275611        243977   206398   \n",
      "2239         WA      Kittitas County             44337         40635    36479   \n",
      "2240         WA     Klickitat County             22735         20643    18271   \n",
      "2241         WA         Lewis County             82149         74784    67825   \n",
      "2242         WA       Lincoln County             10876         10166     9704   \n",
      "2243         WA         Mason County             65726         59184    51023   \n",
      "2244         WA      Okanogan County             42104         37969    27606   \n",
      "2245         WA       Pacific County             23365         21406    19104   \n",
      "2246         WA  Pend Oreille County             13401         12536    11811   \n",
      "2247         WA        Pierce County            921130        805004   595446   \n",
      "2248         WA      San Juan County             17788         16316    15276   \n",
      "2249         WA        Skagit County            129523        115794    96540   \n",
      "2250         WA      Skamania County             12036         11013    10308   \n",
      "2251         WA     Snohomish County            827957        738461   546855   \n",
      "2252         WA       Spokane County            539339        490979   442952   \n",
      "2253         WA       Stevens County             46445         43131    39313   \n",
      "2254         WA      Thurston County            294793        260633   215798   \n",
      "2255         WA     Wahkiakum County              4422          4067     3884   \n",
      "2256         WA   Walla Walla County             62584         55390    45471   \n",
      "2257         WA       Whatcom County            226847        205114   175946   \n",
      "2258         WA       Whitman County             47973         43437    36586   \n",
      "2259         WA        Yakima County            256728        217961   124445   \n",
      "\n",
      "       black  amarican_indian   asian  hawaiian   other      sum  \n",
      "2221      41              439     135        13    7286    17078  \n",
      "2222     116              299     206        34     300    20813  \n",
      "2223    2893             2052    6397       607   24691   182727  \n",
      "2224     296              817     809       124   13248    70583  \n",
      "2225     615             4346    1263       119    1676    70469  \n",
      "2226   11396             4835   24274      5306   25402   451040  \n",
      "2227      11               50      23         1     118     3645  \n",
      "2228     820             1720    1772       668    4744   100536  \n",
      "2229     150              673     412        62    7685    36824  \n",
      "2230      28             1309      46        11      90     6602  \n",
      "2231    1790             1403    1904       232   29459    80625  \n",
      "2232       9               18      11         0      28     2164  \n",
      "2233     782             1660    1202       104   24733    85914  \n",
      "2234    1026             3876    1050       134    3668    68806  \n",
      "2235    2399              717    4019       440    2346    77849  \n",
      "2236     207              565     497        50     518    30425  \n",
      "2237  151468            19073  452475     20022  117830  2033922  \n",
      "2238    7835             4306   14412      2969    8057   243977  \n",
      "2239     402              539     931        93    2191    40635  \n",
      "2240      64              550     145        42    1571    20643  \n",
      "2241     564             1190     824       158    4223    74784  \n",
      "2242      21              225      73        14     129    10166  \n",
      "2243     713             2632     783       224    3809    59184  \n",
      "2244     168             4881     284        41    4989    37969  \n",
      "2245     101              554     463        47    1137    21406  \n",
      "2246      57              396      78        11     183    12536  \n",
      "2247   66006            12777   63460     18844   48471   805004  \n",
      "2248      54              115     229        27     615    16316  \n",
      "2249     888             2878    2832       418   12238   115794  \n",
      "2250      74              187     121        34     289    11013  \n",
      "2251   29293            10805  101464      5016   45028   738461  \n",
      "2252   10979             8092   12654      4303   11999   490979  \n",
      "2253     149             2680     290        89     610    43131  \n",
      "2254    9403             4458   17268      3347   10359   260633  \n",
      "2255      22               61      44         3      53     4067  \n",
      "2256    1056              696     943       137    7087    55390  \n",
      "2257    2347             6277   10127       725    9692   205114  \n",
      "2258    1203              338    3646       155    1509    43437  \n",
      "2259    2119            12979    3030       309   75079   217961  \n"
     ]
    }
   ],
   "source": [
    "for st in states_list:\n",
    "    print(st)\n",
    "    #print('states_list ==' + str(st))\n",
    "       \n",
    "    #print(population.query('state_abbr ==@st')[['county']])\n",
    "    print(population.query('state_abbr ==@st'))"
   ]
  },
  {
   "cell_type": "code",
   "execution_count": null,
   "id": "6e087567",
   "metadata": {},
   "outputs": [],
   "source": []
  },
  {
   "cell_type": "markdown",
   "id": "56925bce",
   "metadata": {},
   "source": [
    "#### Population by US states"
   ]
  },
  {
   "cell_type": "markdown",
   "id": "e71b0633",
   "metadata": {},
   "source": [
    "Q10: Write Python code to create a table including the population for each U.S. state. The table should include total population, pop_one_race, white, black, etc. for each state."
   ]
  },
  {
   "cell_type": "code",
   "execution_count": 21,
   "id": "33465b11",
   "metadata": {},
   "outputs": [],
   "source": [
    "population_state = population.groupby('state_abbr').sum()"
   ]
  },
  {
   "cell_type": "code",
   "execution_count": 22,
   "id": "2d246982",
   "metadata": {},
   "outputs": [
    {
     "data": {
      "text/html": [
       "<div>\n",
       "<style scoped>\n",
       "    .dataframe tbody tr th:only-of-type {\n",
       "        vertical-align: middle;\n",
       "    }\n",
       "\n",
       "    .dataframe tbody tr th {\n",
       "        vertical-align: top;\n",
       "    }\n",
       "\n",
       "    .dataframe thead th {\n",
       "        text-align: right;\n",
       "    }\n",
       "</style>\n",
       "<table border=\"1\" class=\"dataframe\">\n",
       "  <thead>\n",
       "    <tr style=\"text-align: right;\">\n",
       "      <th></th>\n",
       "      <th>total_population</th>\n",
       "      <th>pop_one_race</th>\n",
       "      <th>white</th>\n",
       "      <th>black</th>\n",
       "      <th>amarican_indian</th>\n",
       "      <th>asian</th>\n",
       "      <th>hawaiian</th>\n",
       "      <th>other</th>\n",
       "      <th>sum</th>\n",
       "    </tr>\n",
       "    <tr>\n",
       "      <th>state_abbr</th>\n",
       "      <th></th>\n",
       "      <th></th>\n",
       "      <th></th>\n",
       "      <th></th>\n",
       "      <th></th>\n",
       "      <th></th>\n",
       "      <th></th>\n",
       "      <th></th>\n",
       "      <th></th>\n",
       "    </tr>\n",
       "  </thead>\n",
       "  <tbody>\n",
       "    <tr>\n",
       "      <th>AK</th>\n",
       "      <td>733391</td>\n",
       "      <td>643867</td>\n",
       "      <td>435392</td>\n",
       "      <td>21898</td>\n",
       "      <td>111575</td>\n",
       "      <td>44032</td>\n",
       "      <td>12698</td>\n",
       "      <td>18272</td>\n",
       "      <td>643867</td>\n",
       "    </tr>\n",
       "    <tr>\n",
       "      <th>AL</th>\n",
       "      <td>5024279</td>\n",
       "      <td>4767326</td>\n",
       "      <td>3220452</td>\n",
       "      <td>1296162</td>\n",
       "      <td>33625</td>\n",
       "      <td>76660</td>\n",
       "      <td>2984</td>\n",
       "      <td>137443</td>\n",
       "      <td>4767326</td>\n",
       "    </tr>\n",
       "    <tr>\n",
       "      <th>AR</th>\n",
       "      <td>3011524</td>\n",
       "      <td>2797949</td>\n",
       "      <td>2114512</td>\n",
       "      <td>453783</td>\n",
       "      <td>27177</td>\n",
       "      <td>51839</td>\n",
       "      <td>14533</td>\n",
       "      <td>136105</td>\n",
       "      <td>2797949</td>\n",
       "    </tr>\n",
       "    <tr>\n",
       "      <th>AZ</th>\n",
       "      <td>7151502</td>\n",
       "      <td>6154696</td>\n",
       "      <td>4322337</td>\n",
       "      <td>339150</td>\n",
       "      <td>319512</td>\n",
       "      <td>257430</td>\n",
       "      <td>16397</td>\n",
       "      <td>899870</td>\n",
       "      <td>6154696</td>\n",
       "    </tr>\n",
       "    <tr>\n",
       "      <th>CA</th>\n",
       "      <td>39538223</td>\n",
       "      <td>33777988</td>\n",
       "      <td>16296122</td>\n",
       "      <td>2237044</td>\n",
       "      <td>631016</td>\n",
       "      <td>6085947</td>\n",
       "      <td>157263</td>\n",
       "      <td>8370596</td>\n",
       "      <td>33777988</td>\n",
       "    </tr>\n",
       "  </tbody>\n",
       "</table>\n",
       "</div>"
      ],
      "text/plain": [
       "            total_population  pop_one_race     white    black  \\\n",
       "state_abbr                                                      \n",
       "AK                    733391        643867    435392    21898   \n",
       "AL                   5024279       4767326   3220452  1296162   \n",
       "AR                   3011524       2797949   2114512   453783   \n",
       "AZ                   7151502       6154696   4322337   339150   \n",
       "CA                  39538223      33777988  16296122  2237044   \n",
       "\n",
       "            amarican_indian    asian  hawaiian    other       sum  \n",
       "state_abbr                                                         \n",
       "AK                   111575    44032     12698    18272    643867  \n",
       "AL                    33625    76660      2984   137443   4767326  \n",
       "AR                    27177    51839     14533   136105   2797949  \n",
       "AZ                   319512   257430     16397   899870   6154696  \n",
       "CA                   631016  6085947    157263  8370596  33777988  "
      ]
     },
     "execution_count": 22,
     "metadata": {},
     "output_type": "execute_result"
    }
   ],
   "source": [
    "population_state.head()"
   ]
  },
  {
   "cell_type": "markdown",
   "id": "0c7073f1",
   "metadata": {},
   "source": [
    "Q11: From the table of population by race for each US state created above, write Python code to calculate the (row) percentages (for each US state) of the following variables \n",
    "**'white','black','amarican_indian','asian','hawaiian','other'**."
   ]
  },
  {
   "cell_type": "code",
   "execution_count": 47,
   "id": "9d188ad6",
   "metadata": {},
   "outputs": [
    {
     "data": {
      "text/plain": [
       "0.5936696796115578"
      ]
     },
     "execution_count": 47,
     "metadata": {},
     "output_type": "execute_result"
    }
   ],
   "source": [
    "435392/733391"
   ]
  },
  {
   "cell_type": "code",
   "execution_count": 54,
   "id": "85d2fca0",
   "metadata": {},
   "outputs": [
    {
     "data": {
      "text/html": [
       "<div>\n",
       "<style scoped>\n",
       "    .dataframe tbody tr th:only-of-type {\n",
       "        vertical-align: middle;\n",
       "    }\n",
       "\n",
       "    .dataframe tbody tr th {\n",
       "        vertical-align: top;\n",
       "    }\n",
       "\n",
       "    .dataframe thead th {\n",
       "        text-align: right;\n",
       "    }\n",
       "</style>\n",
       "<table border=\"1\" class=\"dataframe\">\n",
       "  <thead>\n",
       "    <tr style=\"text-align: right;\">\n",
       "      <th></th>\n",
       "      <th>white</th>\n",
       "      <th>black</th>\n",
       "      <th>amarican_indian</th>\n",
       "      <th>asian</th>\n",
       "      <th>hawaiian</th>\n",
       "      <th>other</th>\n",
       "    </tr>\n",
       "    <tr>\n",
       "      <th>state_abbr</th>\n",
       "      <th></th>\n",
       "      <th></th>\n",
       "      <th></th>\n",
       "      <th></th>\n",
       "      <th></th>\n",
       "      <th></th>\n",
       "    </tr>\n",
       "  </thead>\n",
       "  <tbody>\n",
       "    <tr>\n",
       "      <th>AK</th>\n",
       "      <td>59.366968</td>\n",
       "      <td>2.985856</td>\n",
       "      <td>15.213576</td>\n",
       "      <td>6.003892</td>\n",
       "      <td>1.731409</td>\n",
       "      <td>2.491440</td>\n",
       "    </tr>\n",
       "    <tr>\n",
       "      <th>AL</th>\n",
       "      <td>64.097794</td>\n",
       "      <td>25.797970</td>\n",
       "      <td>0.669250</td>\n",
       "      <td>1.525791</td>\n",
       "      <td>0.059392</td>\n",
       "      <td>2.735577</td>\n",
       "    </tr>\n",
       "    <tr>\n",
       "      <th>AR</th>\n",
       "      <td>70.214018</td>\n",
       "      <td>15.068218</td>\n",
       "      <td>0.902433</td>\n",
       "      <td>1.721354</td>\n",
       "      <td>0.482580</td>\n",
       "      <td>4.519473</td>\n",
       "    </tr>\n",
       "    <tr>\n",
       "      <th>AZ</th>\n",
       "      <td>60.439569</td>\n",
       "      <td>4.742360</td>\n",
       "      <td>4.467761</td>\n",
       "      <td>3.599663</td>\n",
       "      <td>0.229281</td>\n",
       "      <td>12.582951</td>\n",
       "    </tr>\n",
       "    <tr>\n",
       "      <th>CA</th>\n",
       "      <td>41.216121</td>\n",
       "      <td>5.657928</td>\n",
       "      <td>1.595964</td>\n",
       "      <td>15.392566</td>\n",
       "      <td>0.397749</td>\n",
       "      <td>21.170896</td>\n",
       "    </tr>\n",
       "  </tbody>\n",
       "</table>\n",
       "</div>"
      ],
      "text/plain": [
       "                white      black  amarican_indian      asian  hawaiian  \\\n",
       "state_abbr                                                               \n",
       "AK          59.366968   2.985856        15.213576   6.003892  1.731409   \n",
       "AL          64.097794  25.797970         0.669250   1.525791  0.059392   \n",
       "AR          70.214018  15.068218         0.902433   1.721354  0.482580   \n",
       "AZ          60.439569   4.742360         4.467761   3.599663  0.229281   \n",
       "CA          41.216121   5.657928         1.595964  15.392566  0.397749   \n",
       "\n",
       "                other  \n",
       "state_abbr             \n",
       "AK           2.491440  \n",
       "AL           2.735577  \n",
       "AR           4.519473  \n",
       "AZ          12.582951  \n",
       "CA          21.170896  "
      ]
     },
     "execution_count": 54,
     "metadata": {},
     "output_type": "execute_result"
    }
   ],
   "source": [
    "races_list = ['white','black','amarican_indian','asian','hawaiian','other']\n",
    "\n",
    "#population_state[races_list] = population_state[races_list].apply(lambda x: x/x.sum(), axis=1)\n",
    "\n",
    "#population_state.head()\n",
    "q11 = population_state.apply(lambda x: 100*(x/population_state.total_population), axis=0)[races_list]\n",
    "q11.head()"
   ]
  },
  {
   "cell_type": "markdown",
   "id": "5f825344",
   "metadata": {},
   "source": [
    "Q12: List the first five states with the highest percentage of white Americans."
   ]
  },
  {
   "cell_type": "code",
   "execution_count": 52,
   "id": "0ac1e36e",
   "metadata": {},
   "outputs": [
    {
     "data": {
      "text/html": [
       "<div>\n",
       "<style scoped>\n",
       "    .dataframe tbody tr th:only-of-type {\n",
       "        vertical-align: middle;\n",
       "    }\n",
       "\n",
       "    .dataframe tbody tr th {\n",
       "        vertical-align: top;\n",
       "    }\n",
       "\n",
       "    .dataframe thead th {\n",
       "        text-align: right;\n",
       "    }\n",
       "</style>\n",
       "<table border=\"1\" class=\"dataframe\">\n",
       "  <thead>\n",
       "    <tr style=\"text-align: right;\">\n",
       "      <th></th>\n",
       "      <th>white</th>\n",
       "      <th>black</th>\n",
       "      <th>amarican_indian</th>\n",
       "      <th>asian</th>\n",
       "      <th>hawaiian</th>\n",
       "      <th>other</th>\n",
       "    </tr>\n",
       "    <tr>\n",
       "      <th>state_abbr</th>\n",
       "      <th></th>\n",
       "      <th></th>\n",
       "      <th></th>\n",
       "      <th></th>\n",
       "      <th></th>\n",
       "      <th></th>\n",
       "    </tr>\n",
       "  </thead>\n",
       "  <tbody>\n",
       "    <tr>\n",
       "      <th>ME</th>\n",
       "      <td>90.801397</td>\n",
       "      <td>1.890251</td>\n",
       "      <td>0.578775</td>\n",
       "      <td>1.233008</td>\n",
       "      <td>0.032517</td>\n",
       "      <td>0.714202</td>\n",
       "    </tr>\n",
       "    <tr>\n",
       "      <th>VT</th>\n",
       "      <td>89.841652</td>\n",
       "      <td>1.404808</td>\n",
       "      <td>0.355945</td>\n",
       "      <td>1.795897</td>\n",
       "      <td>0.028146</td>\n",
       "      <td>0.815921</td>\n",
       "    </tr>\n",
       "    <tr>\n",
       "      <th>WV</th>\n",
       "      <td>89.799556</td>\n",
       "      <td>3.669087</td>\n",
       "      <td>0.206610</td>\n",
       "      <td>0.842330</td>\n",
       "      <td>0.026537</td>\n",
       "      <td>0.720237</td>\n",
       "    </tr>\n",
       "    <tr>\n",
       "      <th>NH</th>\n",
       "      <td>88.288740</td>\n",
       "      <td>1.461094</td>\n",
       "      <td>0.220032</td>\n",
       "      <td>2.604011</td>\n",
       "      <td>0.032885</td>\n",
       "      <td>1.749655</td>\n",
       "    </tr>\n",
       "    <tr>\n",
       "      <th>WY</th>\n",
       "      <td>84.662070</td>\n",
       "      <td>0.906993</td>\n",
       "      <td>2.409288</td>\n",
       "      <td>0.903526</td>\n",
       "      <td>0.100373</td>\n",
       "      <td>3.481488</td>\n",
       "    </tr>\n",
       "  </tbody>\n",
       "</table>\n",
       "</div>"
      ],
      "text/plain": [
       "                white     black  amarican_indian     asian  hawaiian     other\n",
       "state_abbr                                                                    \n",
       "ME          90.801397  1.890251         0.578775  1.233008  0.032517  0.714202\n",
       "VT          89.841652  1.404808         0.355945  1.795897  0.028146  0.815921\n",
       "WV          89.799556  3.669087         0.206610  0.842330  0.026537  0.720237\n",
       "NH          88.288740  1.461094         0.220032  2.604011  0.032885  1.749655\n",
       "WY          84.662070  0.906993         2.409288  0.903526  0.100373  3.481488"
      ]
     },
     "execution_count": 52,
     "metadata": {},
     "output_type": "execute_result"
    }
   ],
   "source": [
    "#population_state.sort_values(by = ['white'], ascending = False).head(5)\n",
    "q11.sort_values(by = ['white'], ascending = False).head(5)"
   ]
  },
  {
   "cell_type": "markdown",
   "id": "395afdbe",
   "metadata": {},
   "source": [
    "Q13: List the first five states with the highest percentage of black Americans."
   ]
  },
  {
   "cell_type": "code",
   "execution_count": 53,
   "id": "37b1a983",
   "metadata": {},
   "outputs": [
    {
     "data": {
      "text/html": [
       "<div>\n",
       "<style scoped>\n",
       "    .dataframe tbody tr th:only-of-type {\n",
       "        vertical-align: middle;\n",
       "    }\n",
       "\n",
       "    .dataframe tbody tr th {\n",
       "        vertical-align: top;\n",
       "    }\n",
       "\n",
       "    .dataframe thead th {\n",
       "        text-align: right;\n",
       "    }\n",
       "</style>\n",
       "<table border=\"1\" class=\"dataframe\">\n",
       "  <thead>\n",
       "    <tr style=\"text-align: right;\">\n",
       "      <th></th>\n",
       "      <th>white</th>\n",
       "      <th>black</th>\n",
       "      <th>amarican_indian</th>\n",
       "      <th>asian</th>\n",
       "      <th>hawaiian</th>\n",
       "      <th>other</th>\n",
       "    </tr>\n",
       "    <tr>\n",
       "      <th>state_abbr</th>\n",
       "      <th></th>\n",
       "      <th></th>\n",
       "      <th></th>\n",
       "      <th></th>\n",
       "      <th></th>\n",
       "      <th></th>\n",
       "    </tr>\n",
       "  </thead>\n",
       "  <tbody>\n",
       "    <tr>\n",
       "      <th>DC</th>\n",
       "      <td>39.619459</td>\n",
       "      <td>41.449071</td>\n",
       "      <td>0.463059</td>\n",
       "      <td>4.864802</td>\n",
       "      <td>0.062650</td>\n",
       "      <td>5.408494</td>\n",
       "    </tr>\n",
       "    <tr>\n",
       "      <th>MS</th>\n",
       "      <td>56.019477</td>\n",
       "      <td>36.622047</td>\n",
       "      <td>0.555503</td>\n",
       "      <td>1.104557</td>\n",
       "      <td>0.038970</td>\n",
       "      <td>1.920116</td>\n",
       "    </tr>\n",
       "    <tr>\n",
       "      <th>LA</th>\n",
       "      <td>57.058623</td>\n",
       "      <td>31.431932</td>\n",
       "      <td>0.679662</td>\n",
       "      <td>1.855786</td>\n",
       "      <td>0.041028</td>\n",
       "      <td>3.063685</td>\n",
       "    </tr>\n",
       "    <tr>\n",
       "      <th>GA</th>\n",
       "      <td>51.862684</td>\n",
       "      <td>30.998334</td>\n",
       "      <td>0.472540</td>\n",
       "      <td>4.471920</td>\n",
       "      <td>0.068139</td>\n",
       "      <td>5.181701</td>\n",
       "    </tr>\n",
       "    <tr>\n",
       "      <th>MD</th>\n",
       "      <td>48.692973</td>\n",
       "      <td>29.470714</td>\n",
       "      <td>0.515523</td>\n",
       "      <td>6.814453</td>\n",
       "      <td>0.052564</td>\n",
       "      <td>6.652519</td>\n",
       "    </tr>\n",
       "  </tbody>\n",
       "</table>\n",
       "</div>"
      ],
      "text/plain": [
       "                white      black  amarican_indian     asian  hawaiian  \\\n",
       "state_abbr                                                              \n",
       "DC          39.619459  41.449071         0.463059  4.864802  0.062650   \n",
       "MS          56.019477  36.622047         0.555503  1.104557  0.038970   \n",
       "LA          57.058623  31.431932         0.679662  1.855786  0.041028   \n",
       "GA          51.862684  30.998334         0.472540  4.471920  0.068139   \n",
       "MD          48.692973  29.470714         0.515523  6.814453  0.052564   \n",
       "\n",
       "               other  \n",
       "state_abbr            \n",
       "DC          5.408494  \n",
       "MS          1.920116  \n",
       "LA          3.063685  \n",
       "GA          5.181701  \n",
       "MD          6.652519  "
      ]
     },
     "execution_count": 53,
     "metadata": {},
     "output_type": "execute_result"
    }
   ],
   "source": [
    "#population_state.sort_values(by = ['black'], ascending = False).head(5)\n",
    "q11.sort_values(by = ['black'], ascending = False).head(5)"
   ]
  },
  {
   "cell_type": "markdown",
   "id": "dedbef38",
   "metadata": {},
   "source": [
    "#### Visualization of U.S. population by race and U.S. states"
   ]
  },
  {
   "cell_type": "code",
   "execution_count": 27,
   "id": "fb025719",
   "metadata": {},
   "outputs": [
    {
     "name": "stdout",
     "output_type": "stream",
     "text": [
      "    state_abbr   race  proportion\n",
      "0           AK  white    0.676214\n",
      "1           AL  white    0.675526\n",
      "2           AR  white    0.755736\n",
      "3           AZ  white    0.702283\n",
      "4           CA  white    0.482448\n",
      "..         ...    ...         ...\n",
      "307         VT  other    0.008658\n",
      "308         WA  other    0.074708\n",
      "309         WI  other    0.032896\n",
      "310         WV  other    0.007560\n",
      "311         WY  other    0.037652\n",
      "\n",
      "[312 rows x 3 columns]\n"
     ]
    }
   ],
   "source": [
    "popultion_melted = pd.melt(population_state[races_list+['state_abbr']], id_vars=['state_abbr'], value_vars=races_list).rename(columns={\"value\":\"proportion\",\"variable\":\"race\"})\n",
    "\n",
    "print(popultion_melted)"
   ]
  },
  {
   "cell_type": "code",
   "execution_count": 28,
   "id": "add55aa4",
   "metadata": {},
   "outputs": [
    {
     "data": {
      "image/png": "[encoded data removed]",
      "text/plain": [
       "<Figure size 640x480 with 1 Axes>"
      ]
     },
     "metadata": {},
     "output_type": "display_data"
    },
    {
     "data": {
      "text/plain": [
       "<ggplot: (309372941)>"
      ]
     },
     "execution_count": 28,
     "metadata": {},
     "output_type": "execute_result"
    }
   ],
   "source": [
    "(\n",
    "ggplot(popultion_melted.query('state_abbr in @states_list')) \n",
    "    + aes(x = 'state_abbr', y = 'proportion',fill = 'race')\n",
    "    + geom_col(position = \"fill\")\n",
    "    + theme(axis_text_x=element_text(rotation=90, hjust=1)) \n",
    "    #+ facet_wrap('state_abbr')\n",
    ")"
   ]
  },
  {
   "cell_type": "markdown",
   "id": "ac27a065",
   "metadata": {},
   "source": [
    "Q14: Write Python to graph the US population by race broken down by state."
   ]
  },
  {
   "cell_type": "code",
   "execution_count": 29,
   "id": "72908d42",
   "metadata": {},
   "outputs": [
    {
     "data": {
      "image/png": "[encoded data removed]",
      "text/plain": [
       "<Figure size 640x480 with 1 Axes>"
      ]
     },
     "metadata": {},
     "output_type": "display_data"
    },
    {
     "data": {
      "text/plain": [
       "<ggplot: (309375445)>"
      ]
     },
     "execution_count": 29,
     "metadata": {},
     "output_type": "execute_result"
    }
   ],
   "source": [
    "(\n",
    "ggplot(popultion_melted) \n",
    "    + aes(x = 'state_abbr', y = 'proportion',fill = 'race')\n",
    "    + geom_col(position = \"fill\")\n",
    "    + theme(axis_text_x=element_text(rotation=90, hjust=4)) \n",
    ")"
   ]
  },
  {
   "cell_type": "code",
   "execution_count": null,
   "id": "75a4e868",
   "metadata": {},
   "outputs": [],
   "source": []
  },
  {
   "cell_type": "markdown",
   "id": "97a1fd12",
   "metadata": {},
   "source": [
    "## US Covid-19 Dataset"
   ]
  },
  {
   "cell_type": "markdown",
   "id": "256cfbd6",
   "metadata": {},
   "source": [
    "The second dataset can be downloaded from \n",
    "\n",
    "https://www.kaggle.com/fireballbyedimyrnmom/us-counties-covid-19-dataset.\n",
    "\n",
    "Each data row contains data on cumulative coronavirus cases and deaths.\n",
    "\n",
    "The specific data here, are the data **PER US COUNTY**.\n",
    "\n",
    "We will work with this Covid-19 dataset by preprocessing data, performing statistical data analysis and presenting the results."
   ]
  },
  {
   "cell_type": "code",
   "execution_count": 30,
   "id": "f1472cb8",
   "metadata": {},
   "outputs": [],
   "source": [
    "path = '/Users/Kaemyuijang/SCMA248/Data/us-counties.csv'\n",
    "\n",
    "#df = pd.read_csv(path, parse_dates=True, index_col = 'date')\n",
    "\n",
    "df = pd.read_csv(path, parse_dates=['date'], index_col = 'date')"
   ]
  },
  {
   "cell_type": "markdown",
   "id": "a8f72c79",
   "metadata": {},
   "source": [
    "#### Data Cleaning and Preparation: Handling Missing Values"
   ]
  },
  {
   "cell_type": "code",
   "execution_count": null,
   "id": "89ad32c5",
   "metadata": {},
   "outputs": [],
   "source": []
  },
  {
   "cell_type": "code",
   "execution_count": 31,
   "id": "9cba3ca7",
   "metadata": {},
   "outputs": [
    {
     "data": {
      "text/html": [
       "<div>\n",
       "<style scoped>\n",
       "    .dataframe tbody tr th:only-of-type {\n",
       "        vertical-align: middle;\n",
       "    }\n",
       "\n",
       "    .dataframe tbody tr th {\n",
       "        vertical-align: top;\n",
       "    }\n",
       "\n",
       "    .dataframe thead th {\n",
       "        text-align: right;\n",
       "    }\n",
       "</style>\n",
       "<table border=\"1\" class=\"dataframe\">\n",
       "  <thead>\n",
       "    <tr style=\"text-align: right;\">\n",
       "      <th></th>\n",
       "      <th>county</th>\n",
       "      <th>state</th>\n",
       "      <th>fips</th>\n",
       "      <th>cases</th>\n",
       "      <th>deaths</th>\n",
       "    </tr>\n",
       "    <tr>\n",
       "      <th>date</th>\n",
       "      <th></th>\n",
       "      <th></th>\n",
       "      <th></th>\n",
       "      <th></th>\n",
       "      <th></th>\n",
       "    </tr>\n",
       "  </thead>\n",
       "  <tbody>\n",
       "    <tr>\n",
       "      <th>2020-01-21</th>\n",
       "      <td>Snohomish</td>\n",
       "      <td>Washington</td>\n",
       "      <td>53061.0</td>\n",
       "      <td>1</td>\n",
       "      <td>0.0</td>\n",
       "    </tr>\n",
       "    <tr>\n",
       "      <th>2020-01-22</th>\n",
       "      <td>Snohomish</td>\n",
       "      <td>Washington</td>\n",
       "      <td>53061.0</td>\n",
       "      <td>1</td>\n",
       "      <td>0.0</td>\n",
       "    </tr>\n",
       "    <tr>\n",
       "      <th>2020-01-23</th>\n",
       "      <td>Snohomish</td>\n",
       "      <td>Washington</td>\n",
       "      <td>53061.0</td>\n",
       "      <td>1</td>\n",
       "      <td>0.0</td>\n",
       "    </tr>\n",
       "    <tr>\n",
       "      <th>2020-01-24</th>\n",
       "      <td>Cook</td>\n",
       "      <td>Illinois</td>\n",
       "      <td>17031.0</td>\n",
       "      <td>1</td>\n",
       "      <td>0.0</td>\n",
       "    </tr>\n",
       "    <tr>\n",
       "      <th>2020-01-24</th>\n",
       "      <td>Snohomish</td>\n",
       "      <td>Washington</td>\n",
       "      <td>53061.0</td>\n",
       "      <td>1</td>\n",
       "      <td>0.0</td>\n",
       "    </tr>\n",
       "  </tbody>\n",
       "</table>\n",
       "</div>"
      ],
      "text/plain": [
       "               county       state     fips  cases  deaths\n",
       "date                                                     \n",
       "2020-01-21  Snohomish  Washington  53061.0      1     0.0\n",
       "2020-01-22  Snohomish  Washington  53061.0      1     0.0\n",
       "2020-01-23  Snohomish  Washington  53061.0      1     0.0\n",
       "2020-01-24       Cook    Illinois  17031.0      1     0.0\n",
       "2020-01-24  Snohomish  Washington  53061.0      1     0.0"
      ]
     },
     "execution_count": 31,
     "metadata": {},
     "output_type": "execute_result"
    }
   ],
   "source": [
    "df.head()"
   ]
  },
  {
   "cell_type": "code",
   "execution_count": 32,
   "id": "b3092466",
   "metadata": {},
   "outputs": [
    {
     "data": {
      "text/plain": [
       "array([32003., 32031., 32510., 32007.,    nan, 32023., 32005., 32019.,\n",
       "       32013., 32033., 32001., 32021., 32015., 32017., 32029., 32027.,\n",
       "       32011., 32009.])"
      ]
     },
     "execution_count": 32,
     "metadata": {},
     "output_type": "execute_result"
    }
   ],
   "source": [
    "df.query('state == \"Nevada\"').fips.unique()"
   ]
  },
  {
   "cell_type": "code",
   "execution_count": 33,
   "id": "4147e004",
   "metadata": {},
   "outputs": [],
   "source": [
    "#df.query('fips ==32510.')."
   ]
  },
  {
   "cell_type": "code",
   "execution_count": null,
   "id": "ca82448e",
   "metadata": {},
   "outputs": [],
   "source": []
  },
  {
   "cell_type": "code",
   "execution_count": null,
   "id": "c77bd920",
   "metadata": {},
   "outputs": [],
   "source": []
  },
  {
   "cell_type": "code",
   "execution_count": null,
   "id": "f3b0a66a",
   "metadata": {},
   "outputs": [],
   "source": []
  },
  {
   "cell_type": "code",
   "execution_count": null,
   "id": "8636ebc8",
   "metadata": {},
   "outputs": [],
   "source": []
  },
  {
   "cell_type": "code",
   "execution_count": 34,
   "id": "68e95e28",
   "metadata": {},
   "outputs": [
    {
     "data": {
      "text/plain": [
       "(2252245, 5)"
      ]
     },
     "execution_count": 34,
     "metadata": {},
     "output_type": "execute_result"
    }
   ],
   "source": [
    "df.shape"
   ]
  },
  {
   "cell_type": "markdown",
   "id": "15f33c6d",
   "metadata": {},
   "source": [
    "Q15: List all variables (or columns) in this Covid-19 dataset with missing data."
   ]
  },
  {
   "cell_type": "code",
   "execution_count": 35,
   "id": "0f546517",
   "metadata": {},
   "outputs": [
    {
     "data": {
      "text/plain": [
       "county    False\n",
       "state     False\n",
       "fips       True\n",
       "cases     False\n",
       "deaths     True\n",
       "dtype: bool"
      ]
     },
     "execution_count": 35,
     "metadata": {},
     "output_type": "execute_result"
    }
   ],
   "source": [
    "# Find columns with missing data\n",
    "# https://moonbooks.org/Articles/How-to-filter-missing-data-NAN-or-NULL-values-in-a-pandas-DataFrame-/\n",
    "\n",
    "df.isnull().any()"
   ]
  },
  {
   "cell_type": "code",
   "execution_count": 36,
   "id": "e03897e4",
   "metadata": {},
   "outputs": [
    {
     "data": {
      "text/plain": [
       "Index(['fips', 'deaths'], dtype='object')"
      ]
     },
     "execution_count": 36,
     "metadata": {},
     "output_type": "execute_result"
    }
   ],
   "source": [
    "# Get a list of columns with missing data\n",
    "\n",
    "df.columns[df.isnull().any()]"
   ]
  },
  {
   "cell_type": "markdown",
   "id": "3190d1a2",
   "metadata": {},
   "source": [
    "Q16: Calculate the number of missing data for each variable (i.e. in each column)."
   ]
  },
  {
   "cell_type": "code",
   "execution_count": 37,
   "id": "1d1c002a",
   "metadata": {},
   "outputs": [
    {
     "data": {
      "text/plain": [
       "county        0\n",
       "state         0\n",
       "fips      20955\n",
       "cases         0\n",
       "deaths    51599\n",
       "dtype: int64"
      ]
     },
     "execution_count": 37,
     "metadata": {},
     "output_type": "execute_result"
    }
   ],
   "source": [
    "# Get the number of missing data per column\n",
    "\n",
    "df.isnull().sum()"
   ]
  },
  {
   "cell_type": "markdown",
   "id": "1d54dc34",
   "metadata": {},
   "source": [
    "#### States with missing fips."
   ]
  },
  {
   "cell_type": "code",
   "execution_count": 38,
   "id": "d75b5058",
   "metadata": {},
   "outputs": [
    {
     "data": {
      "text/plain": [
       "array(['New York', 'Rhode Island', 'New Jersey', 'Puerto Rico',\n",
       "       'Virgin Islands', 'Guam', 'Maine', 'Massachusetts', 'Louisiana',\n",
       "       'Kentucky', 'Nevada', 'Tennessee', 'Arkansas', 'Georgia',\n",
       "       'Missouri', 'Minnesota', 'California', 'Colorado', 'Florida',\n",
       "       'Hawaii', 'Illinois', 'Vermont', 'Arizona', 'Michigan', 'Texas',\n",
       "       'Virginia', 'Washington', 'Utah', 'Idaho', 'Mississippi',\n",
       "       'Northern Mariana Islands', 'Connecticut', 'Nebraska', 'Montana',\n",
       "       'Pennsylvania', 'Indiana', 'Iowa', 'Maryland', 'Oklahoma',\n",
       "       'West Virginia', 'Alaska', 'New Mexico', 'New Hampshire',\n",
       "       'South Dakota', 'Kansas', 'Wyoming', 'Delaware', 'North Dakota',\n",
       "       'Ohio', 'Wisconsin', 'South Carolina', 'Oregon', 'North Carolina',\n",
       "       'American Samoa'], dtype=object)"
      ]
     },
     "execution_count": 38,
     "metadata": {},
     "output_type": "execute_result"
    }
   ],
   "source": [
    "(df[df.fips.isnull()]).state.unique()"
   ]
  },
  {
   "cell_type": "markdown",
   "id": "c94c4c55",
   "metadata": {},
   "source": [
    "#### Filtering out Missing Data"
   ]
  },
  {
   "cell_type": "markdown",
   "id": "9b56118f",
   "metadata": {},
   "source": [
    "##### Droping out row with missing fips"
   ]
  },
  {
   "cell_type": "markdown",
   "id": "65a88283",
   "metadata": {},
   "source": [
    "Here is the list of observations with missing fips."
   ]
  },
  {
   "cell_type": "code",
   "execution_count": 39,
   "id": "6210dff9",
   "metadata": {},
   "outputs": [
    {
     "data": {
      "text/html": [
       "<div>\n",
       "<style scoped>\n",
       "    .dataframe tbody tr th:only-of-type {\n",
       "        vertical-align: middle;\n",
       "    }\n",
       "\n",
       "    .dataframe tbody tr th {\n",
       "        vertical-align: top;\n",
       "    }\n",
       "\n",
       "    .dataframe thead th {\n",
       "        text-align: right;\n",
       "    }\n",
       "</style>\n",
       "<table border=\"1\" class=\"dataframe\">\n",
       "  <thead>\n",
       "    <tr style=\"text-align: right;\">\n",
       "      <th></th>\n",
       "      <th>county</th>\n",
       "      <th>state</th>\n",
       "      <th>fips</th>\n",
       "      <th>cases</th>\n",
       "      <th>deaths</th>\n",
       "    </tr>\n",
       "    <tr>\n",
       "      <th>date</th>\n",
       "      <th></th>\n",
       "      <th></th>\n",
       "      <th></th>\n",
       "      <th></th>\n",
       "      <th></th>\n",
       "    </tr>\n",
       "  </thead>\n",
       "  <tbody>\n",
       "    <tr>\n",
       "      <th>2020-03-01</th>\n",
       "      <td>New York City</td>\n",
       "      <td>New York</td>\n",
       "      <td>NaN</td>\n",
       "      <td>1</td>\n",
       "      <td>0.0</td>\n",
       "    </tr>\n",
       "    <tr>\n",
       "      <th>2020-03-01</th>\n",
       "      <td>Unknown</td>\n",
       "      <td>Rhode Island</td>\n",
       "      <td>NaN</td>\n",
       "      <td>2</td>\n",
       "      <td>0.0</td>\n",
       "    </tr>\n",
       "    <tr>\n",
       "      <th>2020-03-02</th>\n",
       "      <td>New York City</td>\n",
       "      <td>New York</td>\n",
       "      <td>NaN</td>\n",
       "      <td>1</td>\n",
       "      <td>0.0</td>\n",
       "    </tr>\n",
       "    <tr>\n",
       "      <th>2020-03-02</th>\n",
       "      <td>Unknown</td>\n",
       "      <td>Rhode Island</td>\n",
       "      <td>NaN</td>\n",
       "      <td>2</td>\n",
       "      <td>0.0</td>\n",
       "    </tr>\n",
       "    <tr>\n",
       "      <th>2020-03-03</th>\n",
       "      <td>New York City</td>\n",
       "      <td>New York</td>\n",
       "      <td>NaN</td>\n",
       "      <td>2</td>\n",
       "      <td>0.0</td>\n",
       "    </tr>\n",
       "    <tr>\n",
       "      <th>...</th>\n",
       "      <td>...</td>\n",
       "      <td>...</td>\n",
       "      <td>...</td>\n",
       "      <td>...</td>\n",
       "      <td>...</td>\n",
       "    </tr>\n",
       "    <tr>\n",
       "      <th>2022-02-25</th>\n",
       "      <td>Unknown</td>\n",
       "      <td>Puerto Rico</td>\n",
       "      <td>NaN</td>\n",
       "      <td>16665</td>\n",
       "      <td>4101.0</td>\n",
       "    </tr>\n",
       "    <tr>\n",
       "      <th>2022-02-25</th>\n",
       "      <td>Unknown</td>\n",
       "      <td>Rhode Island</td>\n",
       "      <td>NaN</td>\n",
       "      <td>29206</td>\n",
       "      <td>12.0</td>\n",
       "    </tr>\n",
       "    <tr>\n",
       "      <th>2022-02-25</th>\n",
       "      <td>Unknown</td>\n",
       "      <td>Tennessee</td>\n",
       "      <td>NaN</td>\n",
       "      <td>23465</td>\n",
       "      <td>557.0</td>\n",
       "    </tr>\n",
       "    <tr>\n",
       "      <th>2022-02-25</th>\n",
       "      <td>Unknown</td>\n",
       "      <td>Utah</td>\n",
       "      <td>NaN</td>\n",
       "      <td>4184</td>\n",
       "      <td>75.0</td>\n",
       "    </tr>\n",
       "    <tr>\n",
       "      <th>2022-02-25</th>\n",
       "      <td>Unknown</td>\n",
       "      <td>Vermont</td>\n",
       "      <td>NaN</td>\n",
       "      <td>15364</td>\n",
       "      <td>17.0</td>\n",
       "    </tr>\n",
       "  </tbody>\n",
       "</table>\n",
       "<p>20955 rows × 5 columns</p>\n",
       "</div>"
      ],
      "text/plain": [
       "                   county         state  fips  cases  deaths\n",
       "date                                                        \n",
       "2020-03-01  New York City      New York   NaN      1     0.0\n",
       "2020-03-01        Unknown  Rhode Island   NaN      2     0.0\n",
       "2020-03-02  New York City      New York   NaN      1     0.0\n",
       "2020-03-02        Unknown  Rhode Island   NaN      2     0.0\n",
       "2020-03-03  New York City      New York   NaN      2     0.0\n",
       "...                   ...           ...   ...    ...     ...\n",
       "2022-02-25        Unknown   Puerto Rico   NaN  16665  4101.0\n",
       "2022-02-25        Unknown  Rhode Island   NaN  29206    12.0\n",
       "2022-02-25        Unknown     Tennessee   NaN  23465   557.0\n",
       "2022-02-25        Unknown          Utah   NaN   4184    75.0\n",
       "2022-02-25        Unknown       Vermont   NaN  15364    17.0\n",
       "\n",
       "[20955 rows x 5 columns]"
      ]
     },
     "execution_count": 39,
     "metadata": {},
     "output_type": "execute_result"
    }
   ],
   "source": [
    "(df[df.fips.isnull()])"
   ]
  },
  {
   "cell_type": "markdown",
   "id": "e71de906",
   "metadata": {},
   "source": [
    "Q16: Write Python code to drop rows only when the column 'fips' has NaN in it. How many rows are there in the resutling DataFrame."
   ]
  },
  {
   "cell_type": "code",
   "execution_count": 40,
   "id": "214a1c97",
   "metadata": {},
   "outputs": [
    {
     "name": "stdout",
     "output_type": "stream",
     "text": [
      "                county       state     fips  cases  deaths\n",
      "date                                                      \n",
      "2020-01-21   Snohomish  Washington  53061.0      1     0.0\n",
      "2020-01-22   Snohomish  Washington  53061.0      1     0.0\n",
      "2020-01-23   Snohomish  Washington  53061.0      1     0.0\n",
      "2020-01-24        Cook    Illinois  17031.0      1     0.0\n",
      "2020-01-24   Snohomish  Washington  53061.0      1     0.0\n",
      "...                ...         ...      ...    ...     ...\n",
      "2022-02-25  Sweetwater     Wyoming  56037.0  10991   123.0\n",
      "2022-02-25       Teton     Wyoming  56039.0   9767    16.0\n",
      "2022-02-25       Uinta     Wyoming  56041.0   5616    36.0\n",
      "2022-02-25    Washakie     Wyoming  56043.0   2336    43.0\n",
      "2022-02-25      Weston     Wyoming  56045.0   1541    18.0\n",
      "\n",
      "[2231290 rows x 5 columns]\n"
     ]
    },
    {
     "data": {
      "text/plain": [
       "(2231290, 5)"
      ]
     },
     "execution_count": 40,
     "metadata": {},
     "output_type": "execute_result"
    }
   ],
   "source": [
    "print(df.dropna(subset=['fips']))\n",
    "\n",
    "df.dropna(subset=['fips']).shape"
   ]
  },
  {
   "cell_type": "markdown",
   "id": "26c1db47",
   "metadata": {},
   "source": [
    "Now we can varify that we have successfully dropped rows with NaN values only in the fips column."
   ]
  },
  {
   "cell_type": "code",
   "execution_count": 41,
   "id": "acd386d4",
   "metadata": {},
   "outputs": [
    {
     "data": {
      "text/plain": [
       "0"
      ]
     },
     "execution_count": 41,
     "metadata": {},
     "output_type": "execute_result"
    }
   ],
   "source": [
    "(df.dropna(subset=['fips'])).fips.isnull().sum()"
   ]
  },
  {
   "cell_type": "markdown",
   "id": "ebcc2e53",
   "metadata": {},
   "source": [
    "Q18: How many NaN values remain in the **Deaths** column in the resutling DataFrame after deleting only rows where the  'fips' column contains NaN?"
   ]
  },
  {
   "cell_type": "code",
   "execution_count": 42,
   "id": "12b73b9b",
   "metadata": {},
   "outputs": [
    {
     "data": {
      "text/plain": [
       "51599"
      ]
     },
     "execution_count": 42,
     "metadata": {},
     "output_type": "execute_result"
    }
   ],
   "source": [
    "(df.dropna(subset=['fips'])).deaths.isnull().sum()"
   ]
  },
  {
   "cell_type": "code",
   "execution_count": 43,
   "id": "a76d44d0",
   "metadata": {},
   "outputs": [
    {
     "data": {
      "text/plain": [
       "(2252245, 5)"
      ]
     },
     "execution_count": 43,
     "metadata": {},
     "output_type": "execute_result"
    }
   ],
   "source": [
    "df.shape"
   ]
  },
  {
   "cell_type": "markdown",
   "id": "0bd80334",
   "metadata": {},
   "source": [
    "#### List of obeservations with NA in both **fips** and **deaths** column.\n",
    "\n",
    "We want to select only those rows from this DataFrame, where columns **fips** and **deaths** have NaN values i.e.\n",
    "\n",
    "See Select Dataframe Rows with NaN in multiple columns\n",
    "\n",
    "https://thispointer.com/pandas-select-rows-with-nan-in-column/\n"
   ]
  },
  {
   "cell_type": "code",
   "execution_count": 44,
   "id": "e639ab3c",
   "metadata": {},
   "outputs": [
    {
     "data": {
      "text/html": [
       "<div>\n",
       "<style scoped>\n",
       "    .dataframe tbody tr th:only-of-type {\n",
       "        vertical-align: middle;\n",
       "    }\n",
       "\n",
       "    .dataframe tbody tr th {\n",
       "        vertical-align: top;\n",
       "    }\n",
       "\n",
       "    .dataframe thead th {\n",
       "        text-align: right;\n",
       "    }\n",
       "</style>\n",
       "<table border=\"1\" class=\"dataframe\">\n",
       "  <thead>\n",
       "    <tr style=\"text-align: right;\">\n",
       "      <th></th>\n",
       "      <th>county</th>\n",
       "      <th>state</th>\n",
       "      <th>fips</th>\n",
       "      <th>cases</th>\n",
       "      <th>deaths</th>\n",
       "    </tr>\n",
       "    <tr>\n",
       "      <th>date</th>\n",
       "      <th></th>\n",
       "      <th></th>\n",
       "      <th></th>\n",
       "      <th></th>\n",
       "      <th></th>\n",
       "    </tr>\n",
       "  </thead>\n",
       "  <tbody>\n",
       "  </tbody>\n",
       "</table>\n",
       "</div>"
      ],
      "text/plain": [
       "Empty DataFrame\n",
       "Columns: [county, state, fips, cases, deaths]\n",
       "Index: []"
      ]
     },
     "execution_count": 44,
     "metadata": {},
     "output_type": "execute_result"
    }
   ],
   "source": [
    "(df[df.fips.isnull() & df.deaths.isnull()])"
   ]
  },
  {
   "cell_type": "code",
   "execution_count": null,
   "id": "ee88e3a6",
   "metadata": {},
   "outputs": [],
   "source": []
  },
  {
   "cell_type": "markdown",
   "id": "a9ae388f",
   "metadata": {},
   "source": [
    "Q19: Drop all rows with missing values in the deaths column"
   ]
  },
  {
   "cell_type": "code",
   "execution_count": 45,
   "id": "f97ec5bc",
   "metadata": {},
   "outputs": [],
   "source": [
    "df.dropna(inplace=True)"
   ]
  },
  {
   "cell_type": "code",
   "execution_count": 46,
   "id": "79977c5f",
   "metadata": {},
   "outputs": [
    {
     "data": {
      "text/plain": [
       "(2179691, 5)"
      ]
     },
     "execution_count": 46,
     "metadata": {},
     "output_type": "execute_result"
    }
   ],
   "source": [
    "df.shape"
   ]
  },
  {
   "cell_type": "code",
   "execution_count": null,
   "id": "122c17e6",
   "metadata": {},
   "outputs": [],
   "source": []
  },
  {
   "cell_type": "code",
   "execution_count": 47,
   "id": "febf01e8",
   "metadata": {},
   "outputs": [
    {
     "data": {
      "text/html": [
       "<div>\n",
       "<style scoped>\n",
       "    .dataframe tbody tr th:only-of-type {\n",
       "        vertical-align: middle;\n",
       "    }\n",
       "\n",
       "    .dataframe tbody tr th {\n",
       "        vertical-align: top;\n",
       "    }\n",
       "\n",
       "    .dataframe thead th {\n",
       "        text-align: right;\n",
       "    }\n",
       "</style>\n",
       "<table border=\"1\" class=\"dataframe\">\n",
       "  <thead>\n",
       "    <tr style=\"text-align: right;\">\n",
       "      <th></th>\n",
       "      <th>state_abbr</th>\n",
       "      <th>county</th>\n",
       "      <th>total_population</th>\n",
       "      <th>pop_one_race</th>\n",
       "      <th>white</th>\n",
       "      <th>black</th>\n",
       "      <th>amarican_indian</th>\n",
       "      <th>asian</th>\n",
       "      <th>hawaiian</th>\n",
       "      <th>other</th>\n",
       "      <th>sum</th>\n",
       "    </tr>\n",
       "  </thead>\n",
       "  <tbody>\n",
       "    <tr>\n",
       "      <th>0</th>\n",
       "      <td>CT</td>\n",
       "      <td>Fairfield County</td>\n",
       "      <td>957419</td>\n",
       "      <td>854584</td>\n",
       "      <td>584184</td>\n",
       "      <td>106756</td>\n",
       "      <td>4369</td>\n",
       "      <td>51341</td>\n",
       "      <td>347</td>\n",
       "      <td>107587</td>\n",
       "      <td>854584</td>\n",
       "    </tr>\n",
       "    <tr>\n",
       "      <th>1</th>\n",
       "      <td>CT</td>\n",
       "      <td>Hartford County</td>\n",
       "      <td>899498</td>\n",
       "      <td>819125</td>\n",
       "      <td>554184</td>\n",
       "      <td>127194</td>\n",
       "      <td>3145</td>\n",
       "      <td>53844</td>\n",
       "      <td>328</td>\n",
       "      <td>80430</td>\n",
       "      <td>819125</td>\n",
       "    </tr>\n",
       "    <tr>\n",
       "      <th>2</th>\n",
       "      <td>CT</td>\n",
       "      <td>Litchfield County</td>\n",
       "      <td>185186</td>\n",
       "      <td>172181</td>\n",
       "      <td>158774</td>\n",
       "      <td>3348</td>\n",
       "      <td>511</td>\n",
       "      <td>3486</td>\n",
       "      <td>67</td>\n",
       "      <td>5995</td>\n",
       "      <td>172181</td>\n",
       "    </tr>\n",
       "    <tr>\n",
       "      <th>3</th>\n",
       "      <td>CT</td>\n",
       "      <td>Middlesex County</td>\n",
       "      <td>164245</td>\n",
       "      <td>152898</td>\n",
       "      <td>134715</td>\n",
       "      <td>8565</td>\n",
       "      <td>392</td>\n",
       "      <td>4987</td>\n",
       "      <td>50</td>\n",
       "      <td>4189</td>\n",
       "      <td>152898</td>\n",
       "    </tr>\n",
       "    <tr>\n",
       "      <th>4</th>\n",
       "      <td>CT</td>\n",
       "      <td>New Haven County</td>\n",
       "      <td>864835</td>\n",
       "      <td>782472</td>\n",
       "      <td>543831</td>\n",
       "      <td>118933</td>\n",
       "      <td>4058</td>\n",
       "      <td>37520</td>\n",
       "      <td>470</td>\n",
       "      <td>77660</td>\n",
       "      <td>782472</td>\n",
       "    </tr>\n",
       "  </tbody>\n",
       "</table>\n",
       "</div>"
      ],
      "text/plain": [
       "  state_abbr             county  total_population  pop_one_race   white  \\\n",
       "0         CT   Fairfield County            957419        854584  584184   \n",
       "1         CT    Hartford County            899498        819125  554184   \n",
       "2         CT  Litchfield County            185186        172181  158774   \n",
       "3         CT   Middlesex County            164245        152898  134715   \n",
       "4         CT   New Haven County            864835        782472  543831   \n",
       "\n",
       "    black  amarican_indian  asian  hawaiian   other     sum  \n",
       "0  106756             4369  51341       347  107587  854584  \n",
       "1  127194             3145  53844       328   80430  819125  \n",
       "2    3348              511   3486        67    5995  172181  \n",
       "3    8565              392   4987        50    4189  152898  \n",
       "4  118933             4058  37520       470   77660  782472  "
      ]
     },
     "execution_count": 47,
     "metadata": {},
     "output_type": "execute_result"
    }
   ],
   "source": [
    "population.head()"
   ]
  },
  {
   "cell_type": "code",
   "execution_count": null,
   "id": "3d573d62",
   "metadata": {},
   "outputs": [],
   "source": []
  },
  {
   "cell_type": "markdown",
   "id": "52b748f3",
   "metadata": {},
   "source": [
    "## Merging multiple DataFrames\n",
    "\n",
    "The Covid-19 dataset contains only data on cumulative coronavirus cases and deaths. To perform our analysis, e.g., to compare infection rates among different U.S. states, we need to add more information on the population size of each county.\n",
    "\n",
    "We will need to download another data frame that contains the list of state abbreviations. We will then combine multiple data frames by adding the 'total_population' to the Covid-19 dataset.\n",
    "\n",
    "* List of State Abbreviations: \n",
    "\n",
    "https://worldpopulationreview.com/states/state-abbreviations"
   ]
  },
  {
   "cell_type": "code",
   "execution_count": 48,
   "id": "40772c00",
   "metadata": {},
   "outputs": [],
   "source": [
    "path = '/Users/Kaemyuijang/SCMA248/Data/us_state_abbreviations.csv'\n",
    "\n",
    "abbr = pd.read_csv(path)"
   ]
  },
  {
   "cell_type": "code",
   "execution_count": 49,
   "id": "1b582d82",
   "metadata": {},
   "outputs": [
    {
     "data": {
      "text/html": [
       "<div>\n",
       "<style scoped>\n",
       "    .dataframe tbody tr th:only-of-type {\n",
       "        vertical-align: middle;\n",
       "    }\n",
       "\n",
       "    .dataframe tbody tr th {\n",
       "        vertical-align: top;\n",
       "    }\n",
       "\n",
       "    .dataframe thead th {\n",
       "        text-align: right;\n",
       "    }\n",
       "</style>\n",
       "<table border=\"1\" class=\"dataframe\">\n",
       "  <thead>\n",
       "    <tr style=\"text-align: right;\">\n",
       "      <th></th>\n",
       "      <th>state</th>\n",
       "      <th>abbrev</th>\n",
       "      <th>code</th>\n",
       "    </tr>\n",
       "  </thead>\n",
       "  <tbody>\n",
       "    <tr>\n",
       "      <th>0</th>\n",
       "      <td>Alabama</td>\n",
       "      <td>Ala.</td>\n",
       "      <td>AL</td>\n",
       "    </tr>\n",
       "    <tr>\n",
       "      <th>1</th>\n",
       "      <td>Alaska</td>\n",
       "      <td>Alaska</td>\n",
       "      <td>AK</td>\n",
       "    </tr>\n",
       "    <tr>\n",
       "      <th>2</th>\n",
       "      <td>Arizona</td>\n",
       "      <td>Ariz.</td>\n",
       "      <td>AZ</td>\n",
       "    </tr>\n",
       "    <tr>\n",
       "      <th>3</th>\n",
       "      <td>Arkansas</td>\n",
       "      <td>Ark.</td>\n",
       "      <td>AR</td>\n",
       "    </tr>\n",
       "    <tr>\n",
       "      <th>4</th>\n",
       "      <td>California</td>\n",
       "      <td>Calif.</td>\n",
       "      <td>CA</td>\n",
       "    </tr>\n",
       "  </tbody>\n",
       "</table>\n",
       "</div>"
      ],
      "text/plain": [
       "        state  abbrev code\n",
       "0     Alabama    Ala.   AL\n",
       "1      Alaska  Alaska   AK\n",
       "2     Arizona   Ariz.   AZ\n",
       "3    Arkansas    Ark.   AR\n",
       "4  California  Calif.   CA"
      ]
     },
     "execution_count": 49,
     "metadata": {},
     "output_type": "execute_result"
    }
   ],
   "source": [
    "abbr.columns= abbr.columns.str.lower()\n",
    "\n",
    "#abbr.rename(columns={\"State\":\"state\",\"Abbrev\":\"abbrev\",\"Code\":\"code\"}, inplace = True)\n",
    "\n",
    "abbr.head()"
   ]
  },
  {
   "cell_type": "code",
   "execution_count": 50,
   "id": "4df95e1e",
   "metadata": {},
   "outputs": [
    {
     "data": {
      "text/html": [
       "<div>\n",
       "<style scoped>\n",
       "    .dataframe tbody tr th:only-of-type {\n",
       "        vertical-align: middle;\n",
       "    }\n",
       "\n",
       "    .dataframe tbody tr th {\n",
       "        vertical-align: top;\n",
       "    }\n",
       "\n",
       "    .dataframe thead th {\n",
       "        text-align: right;\n",
       "    }\n",
       "</style>\n",
       "<table border=\"1\" class=\"dataframe\">\n",
       "  <thead>\n",
       "    <tr style=\"text-align: right;\">\n",
       "      <th></th>\n",
       "      <th>state_abbr</th>\n",
       "      <th>county</th>\n",
       "      <th>total_population</th>\n",
       "      <th>pop_one_race</th>\n",
       "      <th>white</th>\n",
       "      <th>black</th>\n",
       "      <th>amarican_indian</th>\n",
       "      <th>asian</th>\n",
       "      <th>hawaiian</th>\n",
       "      <th>other</th>\n",
       "      <th>sum</th>\n",
       "    </tr>\n",
       "  </thead>\n",
       "  <tbody>\n",
       "    <tr>\n",
       "      <th>0</th>\n",
       "      <td>CT</td>\n",
       "      <td>Fairfield County</td>\n",
       "      <td>957419</td>\n",
       "      <td>854584</td>\n",
       "      <td>584184</td>\n",
       "      <td>106756</td>\n",
       "      <td>4369</td>\n",
       "      <td>51341</td>\n",
       "      <td>347</td>\n",
       "      <td>107587</td>\n",
       "      <td>854584</td>\n",
       "    </tr>\n",
       "    <tr>\n",
       "      <th>1</th>\n",
       "      <td>CT</td>\n",
       "      <td>Hartford County</td>\n",
       "      <td>899498</td>\n",
       "      <td>819125</td>\n",
       "      <td>554184</td>\n",
       "      <td>127194</td>\n",
       "      <td>3145</td>\n",
       "      <td>53844</td>\n",
       "      <td>328</td>\n",
       "      <td>80430</td>\n",
       "      <td>819125</td>\n",
       "    </tr>\n",
       "    <tr>\n",
       "      <th>2</th>\n",
       "      <td>CT</td>\n",
       "      <td>Litchfield County</td>\n",
       "      <td>185186</td>\n",
       "      <td>172181</td>\n",
       "      <td>158774</td>\n",
       "      <td>3348</td>\n",
       "      <td>511</td>\n",
       "      <td>3486</td>\n",
       "      <td>67</td>\n",
       "      <td>5995</td>\n",
       "      <td>172181</td>\n",
       "    </tr>\n",
       "    <tr>\n",
       "      <th>3</th>\n",
       "      <td>CT</td>\n",
       "      <td>Middlesex County</td>\n",
       "      <td>164245</td>\n",
       "      <td>152898</td>\n",
       "      <td>134715</td>\n",
       "      <td>8565</td>\n",
       "      <td>392</td>\n",
       "      <td>4987</td>\n",
       "      <td>50</td>\n",
       "      <td>4189</td>\n",
       "      <td>152898</td>\n",
       "    </tr>\n",
       "    <tr>\n",
       "      <th>4</th>\n",
       "      <td>CT</td>\n",
       "      <td>New Haven County</td>\n",
       "      <td>864835</td>\n",
       "      <td>782472</td>\n",
       "      <td>543831</td>\n",
       "      <td>118933</td>\n",
       "      <td>4058</td>\n",
       "      <td>37520</td>\n",
       "      <td>470</td>\n",
       "      <td>77660</td>\n",
       "      <td>782472</td>\n",
       "    </tr>\n",
       "  </tbody>\n",
       "</table>\n",
       "</div>"
      ],
      "text/plain": [
       "  state_abbr             county  total_population  pop_one_race   white  \\\n",
       "0         CT   Fairfield County            957419        854584  584184   \n",
       "1         CT    Hartford County            899498        819125  554184   \n",
       "2         CT  Litchfield County            185186        172181  158774   \n",
       "3         CT   Middlesex County            164245        152898  134715   \n",
       "4         CT   New Haven County            864835        782472  543831   \n",
       "\n",
       "    black  amarican_indian  asian  hawaiian   other     sum  \n",
       "0  106756             4369  51341       347  107587  854584  \n",
       "1  127194             3145  53844       328   80430  819125  \n",
       "2    3348              511   3486        67    5995  172181  \n",
       "3    8565              392   4987        50    4189  152898  \n",
       "4  118933             4058  37520       470   77660  782472  "
      ]
     },
     "execution_count": 50,
     "metadata": {},
     "output_type": "execute_result"
    }
   ],
   "source": [
    "population.head()"
   ]
  },
  {
   "cell_type": "code",
   "execution_count": 51,
   "id": "3f0e43eb",
   "metadata": {},
   "outputs": [
    {
     "data": {
      "text/html": [
       "<div>\n",
       "<style scoped>\n",
       "    .dataframe tbody tr th:only-of-type {\n",
       "        vertical-align: middle;\n",
       "    }\n",
       "\n",
       "    .dataframe tbody tr th {\n",
       "        vertical-align: top;\n",
       "    }\n",
       "\n",
       "    .dataframe thead th {\n",
       "        text-align: right;\n",
       "    }\n",
       "</style>\n",
       "<table border=\"1\" class=\"dataframe\">\n",
       "  <thead>\n",
       "    <tr style=\"text-align: right;\">\n",
       "      <th></th>\n",
       "      <th>county</th>\n",
       "      <th>state</th>\n",
       "      <th>fips</th>\n",
       "      <th>cases</th>\n",
       "      <th>deaths</th>\n",
       "    </tr>\n",
       "    <tr>\n",
       "      <th>date</th>\n",
       "      <th></th>\n",
       "      <th></th>\n",
       "      <th></th>\n",
       "      <th></th>\n",
       "      <th></th>\n",
       "    </tr>\n",
       "  </thead>\n",
       "  <tbody>\n",
       "    <tr>\n",
       "      <th>2020-01-21</th>\n",
       "      <td>Snohomish</td>\n",
       "      <td>Washington</td>\n",
       "      <td>53061.0</td>\n",
       "      <td>1</td>\n",
       "      <td>0.0</td>\n",
       "    </tr>\n",
       "    <tr>\n",
       "      <th>2020-01-22</th>\n",
       "      <td>Snohomish</td>\n",
       "      <td>Washington</td>\n",
       "      <td>53061.0</td>\n",
       "      <td>1</td>\n",
       "      <td>0.0</td>\n",
       "    </tr>\n",
       "    <tr>\n",
       "      <th>2020-01-23</th>\n",
       "      <td>Snohomish</td>\n",
       "      <td>Washington</td>\n",
       "      <td>53061.0</td>\n",
       "      <td>1</td>\n",
       "      <td>0.0</td>\n",
       "    </tr>\n",
       "    <tr>\n",
       "      <th>2020-01-24</th>\n",
       "      <td>Cook</td>\n",
       "      <td>Illinois</td>\n",
       "      <td>17031.0</td>\n",
       "      <td>1</td>\n",
       "      <td>0.0</td>\n",
       "    </tr>\n",
       "    <tr>\n",
       "      <th>2020-01-24</th>\n",
       "      <td>Snohomish</td>\n",
       "      <td>Washington</td>\n",
       "      <td>53061.0</td>\n",
       "      <td>1</td>\n",
       "      <td>0.0</td>\n",
       "    </tr>\n",
       "  </tbody>\n",
       "</table>\n",
       "</div>"
      ],
      "text/plain": [
       "               county       state     fips  cases  deaths\n",
       "date                                                     \n",
       "2020-01-21  Snohomish  Washington  53061.0      1     0.0\n",
       "2020-01-22  Snohomish  Washington  53061.0      1     0.0\n",
       "2020-01-23  Snohomish  Washington  53061.0      1     0.0\n",
       "2020-01-24       Cook    Illinois  17031.0      1     0.0\n",
       "2020-01-24  Snohomish  Washington  53061.0      1     0.0"
      ]
     },
     "execution_count": 51,
     "metadata": {},
     "output_type": "execute_result"
    }
   ],
   "source": [
    "df.head()"
   ]
  },
  {
   "cell_type": "markdown",
   "id": "100e1a6c",
   "metadata": {},
   "source": [
    "Q20: Using the population and us_state_abbreviations datasets, write Python code to add the 'total_population' to the Covid-19 dataset."
   ]
  },
  {
   "cell_type": "code",
   "execution_count": 52,
   "id": "4671886e",
   "metadata": {},
   "outputs": [],
   "source": [
    "df_index = df.index"
   ]
  },
  {
   "cell_type": "code",
   "execution_count": 53,
   "id": "a02a3715",
   "metadata": {},
   "outputs": [],
   "source": [
    "df = pd.merge(df,abbr[['state','code']], how='left', on='state')\n",
    "df.index = df_index"
   ]
  },
  {
   "cell_type": "code",
   "execution_count": 54,
   "id": "04f93938",
   "metadata": {},
   "outputs": [
    {
     "data": {
      "text/html": [
       "<div>\n",
       "<style scoped>\n",
       "    .dataframe tbody tr th:only-of-type {\n",
       "        vertical-align: middle;\n",
       "    }\n",
       "\n",
       "    .dataframe tbody tr th {\n",
       "        vertical-align: top;\n",
       "    }\n",
       "\n",
       "    .dataframe thead th {\n",
       "        text-align: right;\n",
       "    }\n",
       "</style>\n",
       "<table border=\"1\" class=\"dataframe\">\n",
       "  <thead>\n",
       "    <tr style=\"text-align: right;\">\n",
       "      <th></th>\n",
       "      <th>county</th>\n",
       "      <th>state</th>\n",
       "      <th>fips</th>\n",
       "      <th>cases</th>\n",
       "      <th>deaths</th>\n",
       "      <th>code</th>\n",
       "    </tr>\n",
       "    <tr>\n",
       "      <th>date</th>\n",
       "      <th></th>\n",
       "      <th></th>\n",
       "      <th></th>\n",
       "      <th></th>\n",
       "      <th></th>\n",
       "      <th></th>\n",
       "    </tr>\n",
       "  </thead>\n",
       "  <tbody>\n",
       "    <tr>\n",
       "      <th>2020-01-21</th>\n",
       "      <td>Snohomish</td>\n",
       "      <td>Washington</td>\n",
       "      <td>53061.0</td>\n",
       "      <td>1</td>\n",
       "      <td>0.0</td>\n",
       "      <td>WA</td>\n",
       "    </tr>\n",
       "    <tr>\n",
       "      <th>2020-01-22</th>\n",
       "      <td>Snohomish</td>\n",
       "      <td>Washington</td>\n",
       "      <td>53061.0</td>\n",
       "      <td>1</td>\n",
       "      <td>0.0</td>\n",
       "      <td>WA</td>\n",
       "    </tr>\n",
       "    <tr>\n",
       "      <th>2020-01-23</th>\n",
       "      <td>Snohomish</td>\n",
       "      <td>Washington</td>\n",
       "      <td>53061.0</td>\n",
       "      <td>1</td>\n",
       "      <td>0.0</td>\n",
       "      <td>WA</td>\n",
       "    </tr>\n",
       "    <tr>\n",
       "      <th>2020-01-24</th>\n",
       "      <td>Cook</td>\n",
       "      <td>Illinois</td>\n",
       "      <td>17031.0</td>\n",
       "      <td>1</td>\n",
       "      <td>0.0</td>\n",
       "      <td>IL</td>\n",
       "    </tr>\n",
       "    <tr>\n",
       "      <th>2020-01-24</th>\n",
       "      <td>Snohomish</td>\n",
       "      <td>Washington</td>\n",
       "      <td>53061.0</td>\n",
       "      <td>1</td>\n",
       "      <td>0.0</td>\n",
       "      <td>WA</td>\n",
       "    </tr>\n",
       "  </tbody>\n",
       "</table>\n",
       "</div>"
      ],
      "text/plain": [
       "               county       state     fips  cases  deaths code\n",
       "date                                                          \n",
       "2020-01-21  Snohomish  Washington  53061.0      1     0.0   WA\n",
       "2020-01-22  Snohomish  Washington  53061.0      1     0.0   WA\n",
       "2020-01-23  Snohomish  Washington  53061.0      1     0.0   WA\n",
       "2020-01-24       Cook    Illinois  17031.0      1     0.0   IL\n",
       "2020-01-24  Snohomish  Washington  53061.0      1     0.0   WA"
      ]
     },
     "execution_count": 54,
     "metadata": {},
     "output_type": "execute_result"
    }
   ],
   "source": [
    "df.head()"
   ]
  },
  {
   "cell_type": "code",
   "execution_count": 55,
   "id": "26abb498",
   "metadata": {},
   "outputs": [
    {
     "data": {
      "text/html": [
       "<div>\n",
       "<style scoped>\n",
       "    .dataframe tbody tr th:only-of-type {\n",
       "        vertical-align: middle;\n",
       "    }\n",
       "\n",
       "    .dataframe tbody tr th {\n",
       "        vertical-align: top;\n",
       "    }\n",
       "\n",
       "    .dataframe thead th {\n",
       "        text-align: right;\n",
       "    }\n",
       "</style>\n",
       "<table border=\"1\" class=\"dataframe\">\n",
       "  <thead>\n",
       "    <tr style=\"text-align: right;\">\n",
       "      <th></th>\n",
       "      <th>state_abbr</th>\n",
       "      <th>county</th>\n",
       "      <th>total_population</th>\n",
       "      <th>pop_one_race</th>\n",
       "      <th>white</th>\n",
       "      <th>black</th>\n",
       "      <th>amarican_indian</th>\n",
       "      <th>asian</th>\n",
       "      <th>hawaiian</th>\n",
       "      <th>other</th>\n",
       "      <th>sum</th>\n",
       "    </tr>\n",
       "  </thead>\n",
       "  <tbody>\n",
       "    <tr>\n",
       "      <th>0</th>\n",
       "      <td>CT</td>\n",
       "      <td>Fairfield County</td>\n",
       "      <td>957419</td>\n",
       "      <td>854584</td>\n",
       "      <td>584184</td>\n",
       "      <td>106756</td>\n",
       "      <td>4369</td>\n",
       "      <td>51341</td>\n",
       "      <td>347</td>\n",
       "      <td>107587</td>\n",
       "      <td>854584</td>\n",
       "    </tr>\n",
       "    <tr>\n",
       "      <th>1</th>\n",
       "      <td>CT</td>\n",
       "      <td>Hartford County</td>\n",
       "      <td>899498</td>\n",
       "      <td>819125</td>\n",
       "      <td>554184</td>\n",
       "      <td>127194</td>\n",
       "      <td>3145</td>\n",
       "      <td>53844</td>\n",
       "      <td>328</td>\n",
       "      <td>80430</td>\n",
       "      <td>819125</td>\n",
       "    </tr>\n",
       "    <tr>\n",
       "      <th>2</th>\n",
       "      <td>CT</td>\n",
       "      <td>Litchfield County</td>\n",
       "      <td>185186</td>\n",
       "      <td>172181</td>\n",
       "      <td>158774</td>\n",
       "      <td>3348</td>\n",
       "      <td>511</td>\n",
       "      <td>3486</td>\n",
       "      <td>67</td>\n",
       "      <td>5995</td>\n",
       "      <td>172181</td>\n",
       "    </tr>\n",
       "    <tr>\n",
       "      <th>3</th>\n",
       "      <td>CT</td>\n",
       "      <td>Middlesex County</td>\n",
       "      <td>164245</td>\n",
       "      <td>152898</td>\n",
       "      <td>134715</td>\n",
       "      <td>8565</td>\n",
       "      <td>392</td>\n",
       "      <td>4987</td>\n",
       "      <td>50</td>\n",
       "      <td>4189</td>\n",
       "      <td>152898</td>\n",
       "    </tr>\n",
       "    <tr>\n",
       "      <th>4</th>\n",
       "      <td>CT</td>\n",
       "      <td>New Haven County</td>\n",
       "      <td>864835</td>\n",
       "      <td>782472</td>\n",
       "      <td>543831</td>\n",
       "      <td>118933</td>\n",
       "      <td>4058</td>\n",
       "      <td>37520</td>\n",
       "      <td>470</td>\n",
       "      <td>77660</td>\n",
       "      <td>782472</td>\n",
       "    </tr>\n",
       "  </tbody>\n",
       "</table>\n",
       "</div>"
      ],
      "text/plain": [
       "  state_abbr             county  total_population  pop_one_race   white  \\\n",
       "0         CT   Fairfield County            957419        854584  584184   \n",
       "1         CT    Hartford County            899498        819125  554184   \n",
       "2         CT  Litchfield County            185186        172181  158774   \n",
       "3         CT   Middlesex County            164245        152898  134715   \n",
       "4         CT   New Haven County            864835        782472  543831   \n",
       "\n",
       "    black  amarican_indian  asian  hawaiian   other     sum  \n",
       "0  106756             4369  51341       347  107587  854584  \n",
       "1  127194             3145  53844       328   80430  819125  \n",
       "2    3348              511   3486        67    5995  172181  \n",
       "3    8565              392   4987        50    4189  152898  \n",
       "4  118933             4058  37520       470   77660  782472  "
      ]
     },
     "execution_count": 55,
     "metadata": {},
     "output_type": "execute_result"
    }
   ],
   "source": [
    "population.head()"
   ]
  },
  {
   "cell_type": "markdown",
   "id": "e8a2a5ba",
   "metadata": {},
   "source": [
    "#### Removing 'County' from the county names of the **population** data set."
   ]
  },
  {
   "cell_type": "code",
   "execution_count": 56,
   "id": "14da80f3",
   "metadata": {},
   "outputs": [],
   "source": [
    "# https://stackoverflow.com/questions/13682044/remove-unwanted-parts-from-strings-in-a-column\n",
    "population['county'] = population['county'].map(lambda x: x.rstrip(' County'))"
   ]
  },
  {
   "cell_type": "code",
   "execution_count": 57,
   "id": "e8b5940e",
   "metadata": {},
   "outputs": [
    {
     "data": {
      "text/plain": [
       "1932"
      ]
     },
     "execution_count": 57,
     "metadata": {},
     "output_type": "execute_result"
    }
   ],
   "source": [
    "# The number of unique county names in population\n",
    "population.county.unique().size"
   ]
  },
  {
   "cell_type": "code",
   "execution_count": 58,
   "id": "ca185bbb",
   "metadata": {},
   "outputs": [
    {
     "data": {
      "text/plain": [
       "1852"
      ]
     },
     "execution_count": 58,
     "metadata": {},
     "output_type": "execute_result"
    }
   ],
   "source": [
    "# The number of unique county names in Covid-19 data\n",
    "df.county.unique().size"
   ]
  },
  {
   "cell_type": "code",
   "execution_count": 59,
   "id": "b6042816",
   "metadata": {},
   "outputs": [
    {
     "data": {
      "text/html": [
       "<div>\n",
       "<style scoped>\n",
       "    .dataframe tbody tr th:only-of-type {\n",
       "        vertical-align: middle;\n",
       "    }\n",
       "\n",
       "    .dataframe tbody tr th {\n",
       "        vertical-align: top;\n",
       "    }\n",
       "\n",
       "    .dataframe thead th {\n",
       "        text-align: right;\n",
       "    }\n",
       "</style>\n",
       "<table border=\"1\" class=\"dataframe\">\n",
       "  <thead>\n",
       "    <tr style=\"text-align: right;\">\n",
       "      <th></th>\n",
       "      <th>county</th>\n",
       "      <th>state</th>\n",
       "      <th>fips</th>\n",
       "      <th>cases</th>\n",
       "      <th>deaths</th>\n",
       "      <th>code</th>\n",
       "    </tr>\n",
       "    <tr>\n",
       "      <th>date</th>\n",
       "      <th></th>\n",
       "      <th></th>\n",
       "      <th></th>\n",
       "      <th></th>\n",
       "      <th></th>\n",
       "      <th></th>\n",
       "    </tr>\n",
       "  </thead>\n",
       "  <tbody>\n",
       "    <tr>\n",
       "      <th>2020-01-21</th>\n",
       "      <td>Snohomish</td>\n",
       "      <td>Washington</td>\n",
       "      <td>53061.0</td>\n",
       "      <td>1</td>\n",
       "      <td>0.0</td>\n",
       "      <td>WA</td>\n",
       "    </tr>\n",
       "    <tr>\n",
       "      <th>2020-01-22</th>\n",
       "      <td>Snohomish</td>\n",
       "      <td>Washington</td>\n",
       "      <td>53061.0</td>\n",
       "      <td>1</td>\n",
       "      <td>0.0</td>\n",
       "      <td>WA</td>\n",
       "    </tr>\n",
       "    <tr>\n",
       "      <th>2020-01-23</th>\n",
       "      <td>Snohomish</td>\n",
       "      <td>Washington</td>\n",
       "      <td>53061.0</td>\n",
       "      <td>1</td>\n",
       "      <td>0.0</td>\n",
       "      <td>WA</td>\n",
       "    </tr>\n",
       "    <tr>\n",
       "      <th>2020-01-24</th>\n",
       "      <td>Cook</td>\n",
       "      <td>Illinois</td>\n",
       "      <td>17031.0</td>\n",
       "      <td>1</td>\n",
       "      <td>0.0</td>\n",
       "      <td>IL</td>\n",
       "    </tr>\n",
       "    <tr>\n",
       "      <th>2020-01-24</th>\n",
       "      <td>Snohomish</td>\n",
       "      <td>Washington</td>\n",
       "      <td>53061.0</td>\n",
       "      <td>1</td>\n",
       "      <td>0.0</td>\n",
       "      <td>WA</td>\n",
       "    </tr>\n",
       "  </tbody>\n",
       "</table>\n",
       "</div>"
      ],
      "text/plain": [
       "               county       state     fips  cases  deaths code\n",
       "date                                                          \n",
       "2020-01-21  Snohomish  Washington  53061.0      1     0.0   WA\n",
       "2020-01-22  Snohomish  Washington  53061.0      1     0.0   WA\n",
       "2020-01-23  Snohomish  Washington  53061.0      1     0.0   WA\n",
       "2020-01-24       Cook    Illinois  17031.0      1     0.0   IL\n",
       "2020-01-24  Snohomish  Washington  53061.0      1     0.0   WA"
      ]
     },
     "execution_count": 59,
     "metadata": {},
     "output_type": "execute_result"
    }
   ],
   "source": [
    "df.head()"
   ]
  },
  {
   "cell_type": "code",
   "execution_count": 60,
   "id": "5be10e6b",
   "metadata": {},
   "outputs": [],
   "source": [
    "# df.drop(columns=['total_population_x','total_population_y'], inplace = True)"
   ]
  },
  {
   "cell_type": "code",
   "execution_count": 61,
   "id": "c67282ee",
   "metadata": {},
   "outputs": [
    {
     "data": {
      "text/plain": [
       "Index(['county', 'state', 'fips', 'cases', 'deaths', 'code'], dtype='object')"
      ]
     },
     "execution_count": 61,
     "metadata": {},
     "output_type": "execute_result"
    }
   ],
   "source": [
    "df.columns"
   ]
  },
  {
   "cell_type": "code",
   "execution_count": 62,
   "id": "b699e462",
   "metadata": {},
   "outputs": [
    {
     "name": "stdout",
     "output_type": "stream",
     "text": [
      "(2179691, 6)\n"
     ]
    },
    {
     "data": {
      "text/html": [
       "<div>\n",
       "<style scoped>\n",
       "    .dataframe tbody tr th:only-of-type {\n",
       "        vertical-align: middle;\n",
       "    }\n",
       "\n",
       "    .dataframe tbody tr th {\n",
       "        vertical-align: top;\n",
       "    }\n",
       "\n",
       "    .dataframe thead th {\n",
       "        text-align: right;\n",
       "    }\n",
       "</style>\n",
       "<table border=\"1\" class=\"dataframe\">\n",
       "  <thead>\n",
       "    <tr style=\"text-align: right;\">\n",
       "      <th></th>\n",
       "      <th>county</th>\n",
       "      <th>state</th>\n",
       "      <th>fips</th>\n",
       "      <th>cases</th>\n",
       "      <th>deaths</th>\n",
       "      <th>code</th>\n",
       "    </tr>\n",
       "    <tr>\n",
       "      <th>date</th>\n",
       "      <th></th>\n",
       "      <th></th>\n",
       "      <th></th>\n",
       "      <th></th>\n",
       "      <th></th>\n",
       "      <th></th>\n",
       "    </tr>\n",
       "  </thead>\n",
       "  <tbody>\n",
       "    <tr>\n",
       "      <th>2020-01-21</th>\n",
       "      <td>Snohomish</td>\n",
       "      <td>Washington</td>\n",
       "      <td>53061.0</td>\n",
       "      <td>1</td>\n",
       "      <td>0.0</td>\n",
       "      <td>WA</td>\n",
       "    </tr>\n",
       "    <tr>\n",
       "      <th>2020-01-22</th>\n",
       "      <td>Snohomish</td>\n",
       "      <td>Washington</td>\n",
       "      <td>53061.0</td>\n",
       "      <td>1</td>\n",
       "      <td>0.0</td>\n",
       "      <td>WA</td>\n",
       "    </tr>\n",
       "    <tr>\n",
       "      <th>2020-01-23</th>\n",
       "      <td>Snohomish</td>\n",
       "      <td>Washington</td>\n",
       "      <td>53061.0</td>\n",
       "      <td>1</td>\n",
       "      <td>0.0</td>\n",
       "      <td>WA</td>\n",
       "    </tr>\n",
       "    <tr>\n",
       "      <th>2020-01-24</th>\n",
       "      <td>Cook</td>\n",
       "      <td>Illinois</td>\n",
       "      <td>17031.0</td>\n",
       "      <td>1</td>\n",
       "      <td>0.0</td>\n",
       "      <td>IL</td>\n",
       "    </tr>\n",
       "    <tr>\n",
       "      <th>2020-01-24</th>\n",
       "      <td>Snohomish</td>\n",
       "      <td>Washington</td>\n",
       "      <td>53061.0</td>\n",
       "      <td>1</td>\n",
       "      <td>0.0</td>\n",
       "      <td>WA</td>\n",
       "    </tr>\n",
       "  </tbody>\n",
       "</table>\n",
       "</div>"
      ],
      "text/plain": [
       "               county       state     fips  cases  deaths code\n",
       "date                                                          \n",
       "2020-01-21  Snohomish  Washington  53061.0      1     0.0   WA\n",
       "2020-01-22  Snohomish  Washington  53061.0      1     0.0   WA\n",
       "2020-01-23  Snohomish  Washington  53061.0      1     0.0   WA\n",
       "2020-01-24       Cook    Illinois  17031.0      1     0.0   IL\n",
       "2020-01-24  Snohomish  Washington  53061.0      1     0.0   WA"
      ]
     },
     "execution_count": 62,
     "metadata": {},
     "output_type": "execute_result"
    }
   ],
   "source": [
    "print(df.shape)\n",
    "df.head()"
   ]
  },
  {
   "cell_type": "code",
   "execution_count": 63,
   "id": "e5102909",
   "metadata": {},
   "outputs": [
    {
     "data": {
      "text/html": [
       "<div>\n",
       "<style scoped>\n",
       "    .dataframe tbody tr th:only-of-type {\n",
       "        vertical-align: middle;\n",
       "    }\n",
       "\n",
       "    .dataframe tbody tr th {\n",
       "        vertical-align: top;\n",
       "    }\n",
       "\n",
       "    .dataframe thead th {\n",
       "        text-align: right;\n",
       "    }\n",
       "</style>\n",
       "<table border=\"1\" class=\"dataframe\">\n",
       "  <thead>\n",
       "    <tr style=\"text-align: right;\">\n",
       "      <th></th>\n",
       "      <th>state_abbr</th>\n",
       "      <th>county</th>\n",
       "      <th>total_population</th>\n",
       "      <th>pop_one_race</th>\n",
       "      <th>white</th>\n",
       "      <th>black</th>\n",
       "      <th>amarican_indian</th>\n",
       "      <th>asian</th>\n",
       "      <th>hawaiian</th>\n",
       "      <th>other</th>\n",
       "      <th>sum</th>\n",
       "    </tr>\n",
       "  </thead>\n",
       "  <tbody>\n",
       "    <tr>\n",
       "      <th>0</th>\n",
       "      <td>CT</td>\n",
       "      <td>Fairfield</td>\n",
       "      <td>957419</td>\n",
       "      <td>854584</td>\n",
       "      <td>584184</td>\n",
       "      <td>106756</td>\n",
       "      <td>4369</td>\n",
       "      <td>51341</td>\n",
       "      <td>347</td>\n",
       "      <td>107587</td>\n",
       "      <td>854584</td>\n",
       "    </tr>\n",
       "    <tr>\n",
       "      <th>1</th>\n",
       "      <td>CT</td>\n",
       "      <td>Hartford</td>\n",
       "      <td>899498</td>\n",
       "      <td>819125</td>\n",
       "      <td>554184</td>\n",
       "      <td>127194</td>\n",
       "      <td>3145</td>\n",
       "      <td>53844</td>\n",
       "      <td>328</td>\n",
       "      <td>80430</td>\n",
       "      <td>819125</td>\n",
       "    </tr>\n",
       "    <tr>\n",
       "      <th>2</th>\n",
       "      <td>CT</td>\n",
       "      <td>Litchfield</td>\n",
       "      <td>185186</td>\n",
       "      <td>172181</td>\n",
       "      <td>158774</td>\n",
       "      <td>3348</td>\n",
       "      <td>511</td>\n",
       "      <td>3486</td>\n",
       "      <td>67</td>\n",
       "      <td>5995</td>\n",
       "      <td>172181</td>\n",
       "    </tr>\n",
       "    <tr>\n",
       "      <th>3</th>\n",
       "      <td>CT</td>\n",
       "      <td>Middlesex</td>\n",
       "      <td>164245</td>\n",
       "      <td>152898</td>\n",
       "      <td>134715</td>\n",
       "      <td>8565</td>\n",
       "      <td>392</td>\n",
       "      <td>4987</td>\n",
       "      <td>50</td>\n",
       "      <td>4189</td>\n",
       "      <td>152898</td>\n",
       "    </tr>\n",
       "    <tr>\n",
       "      <th>4</th>\n",
       "      <td>CT</td>\n",
       "      <td>New Have</td>\n",
       "      <td>864835</td>\n",
       "      <td>782472</td>\n",
       "      <td>543831</td>\n",
       "      <td>118933</td>\n",
       "      <td>4058</td>\n",
       "      <td>37520</td>\n",
       "      <td>470</td>\n",
       "      <td>77660</td>\n",
       "      <td>782472</td>\n",
       "    </tr>\n",
       "  </tbody>\n",
       "</table>\n",
       "</div>"
      ],
      "text/plain": [
       "  state_abbr      county  total_population  pop_one_race   white   black  \\\n",
       "0         CT   Fairfield            957419        854584  584184  106756   \n",
       "1         CT    Hartford            899498        819125  554184  127194   \n",
       "2         CT  Litchfield            185186        172181  158774    3348   \n",
       "3         CT   Middlesex            164245        152898  134715    8565   \n",
       "4         CT    New Have            864835        782472  543831  118933   \n",
       "\n",
       "   amarican_indian  asian  hawaiian   other     sum  \n",
       "0             4369  51341       347  107587  854584  \n",
       "1             3145  53844       328   80430  819125  \n",
       "2              511   3486        67    5995  172181  \n",
       "3              392   4987        50    4189  152898  \n",
       "4             4058  37520       470   77660  782472  "
      ]
     },
     "execution_count": 63,
     "metadata": {},
     "output_type": "execute_result"
    }
   ],
   "source": [
    "population.head()"
   ]
  },
  {
   "cell_type": "code",
   "execution_count": 64,
   "id": "280116f6",
   "metadata": {},
   "outputs": [],
   "source": [
    "# df = pd.merge(df,population[['county','code','total_population']], how='inner',on=['county','code'])"
   ]
  },
  {
   "cell_type": "code",
   "execution_count": 65,
   "id": "ffb53265",
   "metadata": {},
   "outputs": [],
   "source": [
    "# df = pd.merge(df,population[['code','county','total_population']], how='left',left_on=['county','code'], right_on=['county','code'])"
   ]
  },
  {
   "cell_type": "code",
   "execution_count": 66,
   "id": "80ee17f1",
   "metadata": {},
   "outputs": [],
   "source": [
    "# df = pd.merge(df,population[['county','total_population']], how='left', on='county')"
   ]
  },
  {
   "cell_type": "markdown",
   "id": "64c81195",
   "metadata": {},
   "source": [
    "#### Merging two DataFrames\n",
    "\n",
    "To add total population, rename the column **state_abbr** of the DataFrame population to **code** for merging "
   ]
  },
  {
   "cell_type": "code",
   "execution_count": 67,
   "id": "f0978c04",
   "metadata": {},
   "outputs": [],
   "source": [
    "#abbr.rename(columns={\"State\":\"state\",\"Abbrev\":\"abbrev\",\"Code\":\"code\"}, inplace = True)\n",
    "\n",
    "population.rename(columns={\"state_abbr\":\"code\"}, inplace = True)"
   ]
  },
  {
   "cell_type": "code",
   "execution_count": 68,
   "id": "f81b7d27",
   "metadata": {},
   "outputs": [
    {
     "name": "stdout",
     "output_type": "stream",
     "text": [
      "  code      county  total_population  pop_one_race   white   black  \\\n",
      "0   CT   Fairfield            957419        854584  584184  106756   \n",
      "1   CT    Hartford            899498        819125  554184  127194   \n",
      "2   CT  Litchfield            185186        172181  158774    3348   \n",
      "3   CT   Middlesex            164245        152898  134715    8565   \n",
      "4   CT    New Have            864835        782472  543831  118933   \n",
      "\n",
      "   amarican_indian  asian  hawaiian   other     sum  \n",
      "0             4369  51341       347  107587  854584  \n",
      "1             3145  53844       328   80430  819125  \n",
      "2              511   3486        67    5995  172181  \n",
      "3              392   4987        50    4189  152898  \n",
      "4             4058  37520       470   77660  782472  \n",
      "           code     county\n",
      "date                      \n",
      "2020-01-21   WA  Snohomish\n",
      "2020-01-22   WA  Snohomish\n",
      "2020-01-23   WA  Snohomish\n",
      "2020-01-24   IL       Cook\n",
      "2020-01-24   WA  Snohomish\n"
     ]
    }
   ],
   "source": [
    "print(population.head())\n",
    "\n",
    "print(df[['code','county']].head())"
   ]
  },
  {
   "cell_type": "code",
   "execution_count": 69,
   "id": "c01f1a2d",
   "metadata": {},
   "outputs": [
    {
     "name": "stdout",
     "output_type": "stream",
     "text": [
      "Index(['county', 'state', 'fips', 'cases', 'deaths', 'code'], dtype='object')\n"
     ]
    },
    {
     "data": {
      "text/plain": [
       "(2179691, 6)"
      ]
     },
     "execution_count": 69,
     "metadata": {},
     "output_type": "execute_result"
    }
   ],
   "source": [
    "print(df.columns)\n",
    "df.shape"
   ]
  },
  {
   "cell_type": "code",
   "execution_count": 70,
   "id": "cdfe6115",
   "metadata": {},
   "outputs": [
    {
     "name": "stdout",
     "output_type": "stream",
     "text": [
      "Index(['code', 'county', 'total_population', 'pop_one_race', 'white', 'black',\n",
      "       'amarican_indian', 'asian', 'hawaiian', 'other', 'sum'],\n",
      "      dtype='object')\n"
     ]
    },
    {
     "data": {
      "text/plain": [
       "(3221, 11)"
      ]
     },
     "execution_count": 70,
     "metadata": {},
     "output_type": "execute_result"
    }
   ],
   "source": [
    "print(population.columns)\n",
    "population.shape"
   ]
  },
  {
   "cell_type": "code",
   "execution_count": 71,
   "id": "d208d656",
   "metadata": {},
   "outputs": [
    {
     "data": {
      "text/plain": [
       "64"
      ]
     },
     "execution_count": 71,
     "metadata": {},
     "output_type": "execute_result"
    }
   ],
   "source": [
    "len(population.query('code == \"CO\"').county.unique())"
   ]
  },
  {
   "cell_type": "code",
   "execution_count": 72,
   "id": "0000f7e0",
   "metadata": {},
   "outputs": [
    {
     "data": {
      "text/plain": [
       "64"
      ]
     },
     "execution_count": 72,
     "metadata": {},
     "output_type": "execute_result"
    }
   ],
   "source": [
    "len(df.query('code == \"CO\"').county.unique())"
   ]
  },
  {
   "cell_type": "code",
   "execution_count": 73,
   "id": "0e17229a",
   "metadata": {},
   "outputs": [
    {
     "data": {
      "text/plain": [
       "(2179691, 6)"
      ]
     },
     "execution_count": 73,
     "metadata": {},
     "output_type": "execute_result"
    }
   ],
   "source": [
    "df.shape"
   ]
  },
  {
   "cell_type": "code",
   "execution_count": 74,
   "id": "217851e5",
   "metadata": {},
   "outputs": [],
   "source": [
    "df['date'] = df.index"
   ]
  },
  {
   "cell_type": "code",
   "execution_count": 75,
   "id": "8cec6447",
   "metadata": {},
   "outputs": [
    {
     "data": {
      "text/html": [
       "<div>\n",
       "<style scoped>\n",
       "    .dataframe tbody tr th:only-of-type {\n",
       "        vertical-align: middle;\n",
       "    }\n",
       "\n",
       "    .dataframe tbody tr th {\n",
       "        vertical-align: top;\n",
       "    }\n",
       "\n",
       "    .dataframe thead th {\n",
       "        text-align: right;\n",
       "    }\n",
       "</style>\n",
       "<table border=\"1\" class=\"dataframe\">\n",
       "  <thead>\n",
       "    <tr style=\"text-align: right;\">\n",
       "      <th></th>\n",
       "      <th>county</th>\n",
       "      <th>state</th>\n",
       "      <th>fips</th>\n",
       "      <th>cases</th>\n",
       "      <th>deaths</th>\n",
       "      <th>code</th>\n",
       "      <th>date</th>\n",
       "    </tr>\n",
       "    <tr>\n",
       "      <th>date</th>\n",
       "      <th></th>\n",
       "      <th></th>\n",
       "      <th></th>\n",
       "      <th></th>\n",
       "      <th></th>\n",
       "      <th></th>\n",
       "      <th></th>\n",
       "    </tr>\n",
       "  </thead>\n",
       "  <tbody>\n",
       "    <tr>\n",
       "      <th>2020-01-21</th>\n",
       "      <td>Snohomish</td>\n",
       "      <td>Washington</td>\n",
       "      <td>53061.0</td>\n",
       "      <td>1</td>\n",
       "      <td>0.0</td>\n",
       "      <td>WA</td>\n",
       "      <td>2020-01-21</td>\n",
       "    </tr>\n",
       "    <tr>\n",
       "      <th>2020-01-22</th>\n",
       "      <td>Snohomish</td>\n",
       "      <td>Washington</td>\n",
       "      <td>53061.0</td>\n",
       "      <td>1</td>\n",
       "      <td>0.0</td>\n",
       "      <td>WA</td>\n",
       "      <td>2020-01-22</td>\n",
       "    </tr>\n",
       "    <tr>\n",
       "      <th>2020-01-23</th>\n",
       "      <td>Snohomish</td>\n",
       "      <td>Washington</td>\n",
       "      <td>53061.0</td>\n",
       "      <td>1</td>\n",
       "      <td>0.0</td>\n",
       "      <td>WA</td>\n",
       "      <td>2020-01-23</td>\n",
       "    </tr>\n",
       "    <tr>\n",
       "      <th>2020-01-24</th>\n",
       "      <td>Cook</td>\n",
       "      <td>Illinois</td>\n",
       "      <td>17031.0</td>\n",
       "      <td>1</td>\n",
       "      <td>0.0</td>\n",
       "      <td>IL</td>\n",
       "      <td>2020-01-24</td>\n",
       "    </tr>\n",
       "    <tr>\n",
       "      <th>2020-01-24</th>\n",
       "      <td>Snohomish</td>\n",
       "      <td>Washington</td>\n",
       "      <td>53061.0</td>\n",
       "      <td>1</td>\n",
       "      <td>0.0</td>\n",
       "      <td>WA</td>\n",
       "      <td>2020-01-24</td>\n",
       "    </tr>\n",
       "  </tbody>\n",
       "</table>\n",
       "</div>"
      ],
      "text/plain": [
       "               county       state     fips  cases  deaths code       date\n",
       "date                                                                     \n",
       "2020-01-21  Snohomish  Washington  53061.0      1     0.0   WA 2020-01-21\n",
       "2020-01-22  Snohomish  Washington  53061.0      1     0.0   WA 2020-01-22\n",
       "2020-01-23  Snohomish  Washington  53061.0      1     0.0   WA 2020-01-23\n",
       "2020-01-24       Cook    Illinois  17031.0      1     0.0   IL 2020-01-24\n",
       "2020-01-24  Snohomish  Washington  53061.0      1     0.0   WA 2020-01-24"
      ]
     },
     "execution_count": 75,
     "metadata": {},
     "output_type": "execute_result"
    }
   ],
   "source": [
    "df.head()"
   ]
  },
  {
   "cell_type": "code",
   "execution_count": 76,
   "id": "21d9cff1",
   "metadata": {},
   "outputs": [],
   "source": [
    "temp = pd.merge(df,population[['code','county','total_population']], how='left', on=['county','code'])"
   ]
  },
  {
   "cell_type": "code",
   "execution_count": 77,
   "id": "127ae776",
   "metadata": {},
   "outputs": [
    {
     "data": {
      "text/plain": [
       "(2181095, 8)"
      ]
     },
     "execution_count": 77,
     "metadata": {},
     "output_type": "execute_result"
    }
   ],
   "source": [
    "temp.shape"
   ]
  },
  {
   "cell_type": "code",
   "execution_count": 78,
   "id": "77dc675a",
   "metadata": {},
   "outputs": [],
   "source": [
    "temp.dropna(inplace = True)"
   ]
  },
  {
   "cell_type": "code",
   "execution_count": 79,
   "id": "9f334d19",
   "metadata": {},
   "outputs": [
    {
     "data": {
      "text/plain": [
       "(1312449, 8)"
      ]
     },
     "execution_count": 79,
     "metadata": {},
     "output_type": "execute_result"
    }
   ],
   "source": [
    "temp.shape"
   ]
  },
  {
   "cell_type": "code",
   "execution_count": 80,
   "id": "d1cbd1e9",
   "metadata": {},
   "outputs": [],
   "source": [
    "# pd.merge(df,population[['code','county','total_population']], how='left', on=['county','code'])\n",
    "\n",
    "df_merged = pd.merge(df,population[['code','county','total_population']], how='inner', on=['county','code'])\n",
    "#df.index = df_index"
   ]
  },
  {
   "cell_type": "markdown",
   "id": "b23c41f7",
   "metadata": {},
   "source": [
    "#### Answer when merging DataFrames"
   ]
  },
  {
   "cell_type": "code",
   "execution_count": 81,
   "id": "b702fd6b",
   "metadata": {},
   "outputs": [
    {
     "name": "stdout",
     "output_type": "stream",
     "text": [
      "      county       state     fips  cases  deaths code       date  \\\n",
      "0  Snohomish  Washington  53061.0      1     0.0   WA 2020-01-21   \n",
      "1  Snohomish  Washington  53061.0      1     0.0   WA 2020-01-22   \n",
      "2  Snohomish  Washington  53061.0      1     0.0   WA 2020-01-23   \n",
      "3  Snohomish  Washington  53061.0      1     0.0   WA 2020-01-24   \n",
      "4  Snohomish  Washington  53061.0      1     0.0   WA 2020-01-25   \n",
      "\n",
      "   total_population  \n",
      "0            827957  \n",
      "1            827957  \n",
      "2            827957  \n",
      "3            827957  \n",
      "4            827957  \n"
     ]
    },
    {
     "data": {
      "text/plain": [
       "county              0\n",
       "state               0\n",
       "fips                0\n",
       "cases               0\n",
       "deaths              0\n",
       "code                0\n",
       "date                0\n",
       "total_population    0\n",
       "dtype: int64"
      ]
     },
     "execution_count": 81,
     "metadata": {},
     "output_type": "execute_result"
    }
   ],
   "source": [
    "print(df_merged.head())\n",
    "\n",
    "df_merged.isnull().sum()"
   ]
  },
  {
   "cell_type": "code",
   "execution_count": 82,
   "id": "447250bf",
   "metadata": {},
   "outputs": [
    {
     "data": {
      "text/plain": [
       "(1312449, 8)"
      ]
     },
     "execution_count": 82,
     "metadata": {},
     "output_type": "execute_result"
    }
   ],
   "source": [
    "df_merged.shape"
   ]
  },
  {
   "cell_type": "code",
   "execution_count": 83,
   "id": "91d88d79",
   "metadata": {},
   "outputs": [
    {
     "data": {
      "text/plain": [
       "Index(['county', 'state', 'fips', 'cases', 'deaths', 'code', 'date',\n",
       "       'total_population'],\n",
       "      dtype='object')"
      ]
     },
     "execution_count": 83,
     "metadata": {},
     "output_type": "execute_result"
    }
   ],
   "source": [
    "df_merged.columns"
   ]
  },
  {
   "cell_type": "code",
   "execution_count": 84,
   "id": "de8a6b45",
   "metadata": {},
   "outputs": [
    {
     "data": {
      "text/plain": [
       "['county',\n",
       " 'state',\n",
       " 'fips',\n",
       " 'cases',\n",
       " 'deaths',\n",
       " 'code',\n",
       " 'date',\n",
       " 'total_population']"
      ]
     },
     "execution_count": 84,
     "metadata": {},
     "output_type": "execute_result"
    }
   ],
   "source": [
    "list(df_merged.columns.values)"
   ]
  },
  {
   "cell_type": "code",
   "execution_count": 85,
   "id": "a3b420dc",
   "metadata": {},
   "outputs": [],
   "source": [
    "df_merged = df_merged[[ 'date','county', 'code','state', 'fips', 'cases', 'deaths','total_population']]"
   ]
  },
  {
   "cell_type": "code",
   "execution_count": 86,
   "id": "52cfcac2",
   "metadata": {},
   "outputs": [
    {
     "data": {
      "text/html": [
       "<div>\n",
       "<style scoped>\n",
       "    .dataframe tbody tr th:only-of-type {\n",
       "        vertical-align: middle;\n",
       "    }\n",
       "\n",
       "    .dataframe tbody tr th {\n",
       "        vertical-align: top;\n",
       "    }\n",
       "\n",
       "    .dataframe thead th {\n",
       "        text-align: right;\n",
       "    }\n",
       "</style>\n",
       "<table border=\"1\" class=\"dataframe\">\n",
       "  <thead>\n",
       "    <tr style=\"text-align: right;\">\n",
       "      <th></th>\n",
       "      <th>date</th>\n",
       "      <th>county</th>\n",
       "      <th>code</th>\n",
       "      <th>state</th>\n",
       "      <th>fips</th>\n",
       "      <th>cases</th>\n",
       "      <th>deaths</th>\n",
       "      <th>total_population</th>\n",
       "    </tr>\n",
       "  </thead>\n",
       "  <tbody>\n",
       "    <tr>\n",
       "      <th>0</th>\n",
       "      <td>2020-01-21</td>\n",
       "      <td>Snohomish</td>\n",
       "      <td>WA</td>\n",
       "      <td>Washington</td>\n",
       "      <td>53061.0</td>\n",
       "      <td>1</td>\n",
       "      <td>0.0</td>\n",
       "      <td>827957</td>\n",
       "    </tr>\n",
       "    <tr>\n",
       "      <th>1</th>\n",
       "      <td>2020-01-22</td>\n",
       "      <td>Snohomish</td>\n",
       "      <td>WA</td>\n",
       "      <td>Washington</td>\n",
       "      <td>53061.0</td>\n",
       "      <td>1</td>\n",
       "      <td>0.0</td>\n",
       "      <td>827957</td>\n",
       "    </tr>\n",
       "    <tr>\n",
       "      <th>2</th>\n",
       "      <td>2020-01-23</td>\n",
       "      <td>Snohomish</td>\n",
       "      <td>WA</td>\n",
       "      <td>Washington</td>\n",
       "      <td>53061.0</td>\n",
       "      <td>1</td>\n",
       "      <td>0.0</td>\n",
       "      <td>827957</td>\n",
       "    </tr>\n",
       "    <tr>\n",
       "      <th>3</th>\n",
       "      <td>2020-01-24</td>\n",
       "      <td>Snohomish</td>\n",
       "      <td>WA</td>\n",
       "      <td>Washington</td>\n",
       "      <td>53061.0</td>\n",
       "      <td>1</td>\n",
       "      <td>0.0</td>\n",
       "      <td>827957</td>\n",
       "    </tr>\n",
       "    <tr>\n",
       "      <th>4</th>\n",
       "      <td>2020-01-25</td>\n",
       "      <td>Snohomish</td>\n",
       "      <td>WA</td>\n",
       "      <td>Washington</td>\n",
       "      <td>53061.0</td>\n",
       "      <td>1</td>\n",
       "      <td>0.0</td>\n",
       "      <td>827957</td>\n",
       "    </tr>\n",
       "    <tr>\n",
       "      <th>...</th>\n",
       "      <td>...</td>\n",
       "      <td>...</td>\n",
       "      <td>...</td>\n",
       "      <td>...</td>\n",
       "      <td>...</td>\n",
       "      <td>...</td>\n",
       "      <td>...</td>\n",
       "      <td>...</td>\n",
       "    </tr>\n",
       "    <tr>\n",
       "      <th>1312444</th>\n",
       "      <td>2022-02-21</td>\n",
       "      <td>Loving</td>\n",
       "      <td>TX</td>\n",
       "      <td>Texas</td>\n",
       "      <td>48301.0</td>\n",
       "      <td>157</td>\n",
       "      <td>0.0</td>\n",
       "      <td>64</td>\n",
       "    </tr>\n",
       "    <tr>\n",
       "      <th>1312445</th>\n",
       "      <td>2022-02-22</td>\n",
       "      <td>Loving</td>\n",
       "      <td>TX</td>\n",
       "      <td>Texas</td>\n",
       "      <td>48301.0</td>\n",
       "      <td>162</td>\n",
       "      <td>0.0</td>\n",
       "      <td>64</td>\n",
       "    </tr>\n",
       "    <tr>\n",
       "      <th>1312446</th>\n",
       "      <td>2022-02-23</td>\n",
       "      <td>Loving</td>\n",
       "      <td>TX</td>\n",
       "      <td>Texas</td>\n",
       "      <td>48301.0</td>\n",
       "      <td>163</td>\n",
       "      <td>0.0</td>\n",
       "      <td>64</td>\n",
       "    </tr>\n",
       "    <tr>\n",
       "      <th>1312447</th>\n",
       "      <td>2022-02-24</td>\n",
       "      <td>Loving</td>\n",
       "      <td>TX</td>\n",
       "      <td>Texas</td>\n",
       "      <td>48301.0</td>\n",
       "      <td>164</td>\n",
       "      <td>0.0</td>\n",
       "      <td>64</td>\n",
       "    </tr>\n",
       "    <tr>\n",
       "      <th>1312448</th>\n",
       "      <td>2022-02-25</td>\n",
       "      <td>Loving</td>\n",
       "      <td>TX</td>\n",
       "      <td>Texas</td>\n",
       "      <td>48301.0</td>\n",
       "      <td>164</td>\n",
       "      <td>0.0</td>\n",
       "      <td>64</td>\n",
       "    </tr>\n",
       "  </tbody>\n",
       "</table>\n",
       "<p>1312449 rows × 8 columns</p>\n",
       "</div>"
      ],
      "text/plain": [
       "              date     county code       state     fips  cases  deaths  \\\n",
       "0       2020-01-21  Snohomish   WA  Washington  53061.0      1     0.0   \n",
       "1       2020-01-22  Snohomish   WA  Washington  53061.0      1     0.0   \n",
       "2       2020-01-23  Snohomish   WA  Washington  53061.0      1     0.0   \n",
       "3       2020-01-24  Snohomish   WA  Washington  53061.0      1     0.0   \n",
       "4       2020-01-25  Snohomish   WA  Washington  53061.0      1     0.0   \n",
       "...            ...        ...  ...         ...      ...    ...     ...   \n",
       "1312444 2022-02-21     Loving   TX       Texas  48301.0    157     0.0   \n",
       "1312445 2022-02-22     Loving   TX       Texas  48301.0    162     0.0   \n",
       "1312446 2022-02-23     Loving   TX       Texas  48301.0    163     0.0   \n",
       "1312447 2022-02-24     Loving   TX       Texas  48301.0    164     0.0   \n",
       "1312448 2022-02-25     Loving   TX       Texas  48301.0    164     0.0   \n",
       "\n",
       "         total_population  \n",
       "0                  827957  \n",
       "1                  827957  \n",
       "2                  827957  \n",
       "3                  827957  \n",
       "4                  827957  \n",
       "...                   ...  \n",
       "1312444                64  \n",
       "1312445                64  \n",
       "1312446                64  \n",
       "1312447                64  \n",
       "1312448                64  \n",
       "\n",
       "[1312449 rows x 8 columns]"
      ]
     },
     "execution_count": 86,
     "metadata": {},
     "output_type": "execute_result"
    }
   ],
   "source": [
    "df_merged"
   ]
  },
  {
   "cell_type": "code",
   "execution_count": 87,
   "id": "5a2c8e7e",
   "metadata": {},
   "outputs": [
    {
     "data": {
      "text/plain": [
       "1197"
      ]
     },
     "execution_count": 87,
     "metadata": {},
     "output_type": "execute_result"
    }
   ],
   "source": [
    "len(df_merged.county.unique())"
   ]
  },
  {
   "cell_type": "code",
   "execution_count": 88,
   "id": "24976b28",
   "metadata": {},
   "outputs": [
    {
     "data": {
      "text/plain": [
       "array(['WA', 'IL', 'CA', 'AZ', 'MA', 'WI', 'TX', 'NE', 'UT', 'FL', 'NC',\n",
       "       'NY', 'CO', 'NV', 'GA', 'KY', 'OK', 'PA', 'SC', 'DC', 'MO', 'NH',\n",
       "       'OR', 'VA', 'CT', 'IN', 'MD', 'MN', 'NJ', 'IA', 'OH', 'MI', 'SD',\n",
       "       'DE', 'NM', 'ND', 'AR', 'KS', 'TN', 'AL', 'ID', 'ME', 'MS', 'MT',\n",
       "       'HI', 'VT', 'AK', 'WY', 'WV', 'RI'], dtype=object)"
      ]
     },
     "execution_count": 88,
     "metadata": {},
     "output_type": "execute_result"
    }
   ],
   "source": [
    "df_merged.code.unique()"
   ]
  },
  {
   "cell_type": "code",
   "execution_count": 89,
   "id": "b6b1a626",
   "metadata": {},
   "outputs": [
    {
     "data": {
      "text/plain": [
       "array([53061., 17031.,  6059., ..., 48269., 32009., 48301.])"
      ]
     },
     "execution_count": 89,
     "metadata": {},
     "output_type": "execute_result"
    }
   ],
   "source": [
    "df_merged.fips.unique()"
   ]
  },
  {
   "cell_type": "code",
   "execution_count": 145,
   "id": "d871b50b",
   "metadata": {},
   "outputs": [
    {
     "data": {
      "text/plain": [
       "array([2090., 2130., 2122., 2110., 2170., 2290., 2240., 2195., 2050.,\n",
       "       2198., 2180., 2150., 2220., 2188., 2185., 2070., 2016., 2275.,\n",
       "       2013., 2100., 2068., 2158.])"
      ]
     },
     "execution_count": 145,
     "metadata": {},
     "output_type": "execute_result"
    }
   ],
   "source": [
    "# check\n",
    "\n",
    "df_merged.query('state == \"Alaska\"').fips.unique()"
   ]
  },
  {
   "cell_type": "code",
   "execution_count": 148,
   "id": "4809e012",
   "metadata": {},
   "outputs": [
    {
     "data": {
      "text/plain": [
       "192     Churchill\n",
       "193         Clark\n",
       "194       Douglas\n",
       "195           Elk\n",
       "196     Esmeralda\n",
       "197        Eureka\n",
       "198       Humbold\n",
       "199        Lander\n",
       "200        Lincol\n",
       "201             L\n",
       "202       Mineral\n",
       "203           Nye\n",
       "204      Pershing\n",
       "205         Store\n",
       "206        Washoe\n",
       "207    White Pine\n",
       "208     Carson Ci\n",
       "Name: county, dtype: object"
      ]
     },
     "execution_count": 148,
     "metadata": {},
     "output_type": "execute_result"
    }
   ],
   "source": [
    "population.query('code == \"NV\"').county"
   ]
  },
  {
   "cell_type": "code",
   "execution_count": 147,
   "id": "b6402364",
   "metadata": {},
   "outputs": [
    {
     "data": {
      "text/html": [
       "<div>\n",
       "<style scoped>\n",
       "    .dataframe tbody tr th:only-of-type {\n",
       "        vertical-align: middle;\n",
       "    }\n",
       "\n",
       "    .dataframe tbody tr th {\n",
       "        vertical-align: top;\n",
       "    }\n",
       "\n",
       "    .dataframe thead th {\n",
       "        text-align: right;\n",
       "    }\n",
       "</style>\n",
       "<table border=\"1\" class=\"dataframe\">\n",
       "  <thead>\n",
       "    <tr style=\"text-align: right;\">\n",
       "      <th></th>\n",
       "      <th>code</th>\n",
       "      <th>county</th>\n",
       "      <th>total_population</th>\n",
       "      <th>pop_one_race</th>\n",
       "      <th>white</th>\n",
       "      <th>black</th>\n",
       "      <th>amarican_indian</th>\n",
       "      <th>asian</th>\n",
       "      <th>hawaiian</th>\n",
       "      <th>other</th>\n",
       "      <th>sum</th>\n",
       "    </tr>\n",
       "  </thead>\n",
       "  <tbody>\n",
       "    <tr>\n",
       "      <th>1201</th>\n",
       "      <td>AK</td>\n",
       "      <td>Aleutians East Borough</td>\n",
       "      <td>3420</td>\n",
       "      <td>3212</td>\n",
       "      <td>684</td>\n",
       "      <td>297</td>\n",
       "      <td>802</td>\n",
       "      <td>771</td>\n",
       "      <td>32</td>\n",
       "      <td>626</td>\n",
       "      <td>3212</td>\n",
       "    </tr>\n",
       "    <tr>\n",
       "      <th>1202</th>\n",
       "      <td>AK</td>\n",
       "      <td>Aleutians West Census Area</td>\n",
       "      <td>5232</td>\n",
       "      <td>4858</td>\n",
       "      <td>1667</td>\n",
       "      <td>259</td>\n",
       "      <td>728</td>\n",
       "      <td>1513</td>\n",
       "      <td>239</td>\n",
       "      <td>452</td>\n",
       "      <td>4858</td>\n",
       "    </tr>\n",
       "    <tr>\n",
       "      <th>1203</th>\n",
       "      <td>AK</td>\n",
       "      <td>Anchorage Municipali</td>\n",
       "      <td>291247</td>\n",
       "      <td>250445</td>\n",
       "      <td>164446</td>\n",
       "      <td>14576</td>\n",
       "      <td>23661</td>\n",
       "      <td>27646</td>\n",
       "      <td>10001</td>\n",
       "      <td>10115</td>\n",
       "      <td>250445</td>\n",
       "    </tr>\n",
       "    <tr>\n",
       "      <th>1204</th>\n",
       "      <td>AK</td>\n",
       "      <td>Bethel Census Area</td>\n",
       "      <td>18666</td>\n",
       "      <td>17650</td>\n",
       "      <td>1665</td>\n",
       "      <td>85</td>\n",
       "      <td>15632</td>\n",
       "      <td>202</td>\n",
       "      <td>2</td>\n",
       "      <td>64</td>\n",
       "      <td>17650</td>\n",
       "    </tr>\n",
       "    <tr>\n",
       "      <th>1205</th>\n",
       "      <td>AK</td>\n",
       "      <td>Bristol Bay Borough</td>\n",
       "      <td>844</td>\n",
       "      <td>701</td>\n",
       "      <td>370</td>\n",
       "      <td>6</td>\n",
       "      <td>305</td>\n",
       "      <td>5</td>\n",
       "      <td>3</td>\n",
       "      <td>12</td>\n",
       "      <td>701</td>\n",
       "    </tr>\n",
       "    <tr>\n",
       "      <th>1206</th>\n",
       "      <td>AK</td>\n",
       "      <td>Chugach Census Area</td>\n",
       "      <td>7102</td>\n",
       "      <td>6342</td>\n",
       "      <td>4907</td>\n",
       "      <td>49</td>\n",
       "      <td>669</td>\n",
       "      <td>529</td>\n",
       "      <td>62</td>\n",
       "      <td>126</td>\n",
       "      <td>6342</td>\n",
       "    </tr>\n",
       "    <tr>\n",
       "      <th>1207</th>\n",
       "      <td>AK</td>\n",
       "      <td>Copper River Census Area</td>\n",
       "      <td>2617</td>\n",
       "      <td>2335</td>\n",
       "      <td>1611</td>\n",
       "      <td>8</td>\n",
       "      <td>663</td>\n",
       "      <td>17</td>\n",
       "      <td>10</td>\n",
       "      <td>26</td>\n",
       "      <td>2335</td>\n",
       "    </tr>\n",
       "    <tr>\n",
       "      <th>1208</th>\n",
       "      <td>AK</td>\n",
       "      <td>Denali Borough</td>\n",
       "      <td>1619</td>\n",
       "      <td>1480</td>\n",
       "      <td>1382</td>\n",
       "      <td>11</td>\n",
       "      <td>61</td>\n",
       "      <td>13</td>\n",
       "      <td>5</td>\n",
       "      <td>8</td>\n",
       "      <td>1480</td>\n",
       "    </tr>\n",
       "    <tr>\n",
       "      <th>1209</th>\n",
       "      <td>AK</td>\n",
       "      <td>Dillingham Census Area</td>\n",
       "      <td>4857</td>\n",
       "      <td>4361</td>\n",
       "      <td>799</td>\n",
       "      <td>25</td>\n",
       "      <td>3453</td>\n",
       "      <td>48</td>\n",
       "      <td>9</td>\n",
       "      <td>27</td>\n",
       "      <td>4361</td>\n",
       "    </tr>\n",
       "    <tr>\n",
       "      <th>1210</th>\n",
       "      <td>AK</td>\n",
       "      <td>Fairbanks North Star Borough</td>\n",
       "      <td>95655</td>\n",
       "      <td>83485</td>\n",
       "      <td>65971</td>\n",
       "      <td>4014</td>\n",
       "      <td>7555</td>\n",
       "      <td>3104</td>\n",
       "      <td>604</td>\n",
       "      <td>2237</td>\n",
       "      <td>83485</td>\n",
       "    </tr>\n",
       "    <tr>\n",
       "      <th>1211</th>\n",
       "      <td>AK</td>\n",
       "      <td>Haines Borough</td>\n",
       "      <td>2080</td>\n",
       "      <td>1838</td>\n",
       "      <td>1589</td>\n",
       "      <td>2</td>\n",
       "      <td>214</td>\n",
       "      <td>14</td>\n",
       "      <td>2</td>\n",
       "      <td>17</td>\n",
       "      <td>1838</td>\n",
       "    </tr>\n",
       "    <tr>\n",
       "      <th>1212</th>\n",
       "      <td>AK</td>\n",
       "      <td>Hoonah-Angoon Census Area</td>\n",
       "      <td>2365</td>\n",
       "      <td>2081</td>\n",
       "      <td>1147</td>\n",
       "      <td>6</td>\n",
       "      <td>878</td>\n",
       "      <td>16</td>\n",
       "      <td>5</td>\n",
       "      <td>29</td>\n",
       "      <td>2081</td>\n",
       "    </tr>\n",
       "    <tr>\n",
       "      <th>1213</th>\n",
       "      <td>AK</td>\n",
       "      <td>Juneau City and Borough</td>\n",
       "      <td>32255</td>\n",
       "      <td>27318</td>\n",
       "      <td>20124</td>\n",
       "      <td>350</td>\n",
       "      <td>3614</td>\n",
       "      <td>2101</td>\n",
       "      <td>476</td>\n",
       "      <td>653</td>\n",
       "      <td>27318</td>\n",
       "    </tr>\n",
       "    <tr>\n",
       "      <th>1214</th>\n",
       "      <td>AK</td>\n",
       "      <td>Kenai Peninsula Borough</td>\n",
       "      <td>58799</td>\n",
       "      <td>52811</td>\n",
       "      <td>46382</td>\n",
       "      <td>386</td>\n",
       "      <td>4228</td>\n",
       "      <td>809</td>\n",
       "      <td>182</td>\n",
       "      <td>824</td>\n",
       "      <td>52811</td>\n",
       "    </tr>\n",
       "    <tr>\n",
       "      <th>1215</th>\n",
       "      <td>AK</td>\n",
       "      <td>Ketchikan Gateway Borough</td>\n",
       "      <td>13948</td>\n",
       "      <td>12246</td>\n",
       "      <td>8430</td>\n",
       "      <td>103</td>\n",
       "      <td>2334</td>\n",
       "      <td>1129</td>\n",
       "      <td>26</td>\n",
       "      <td>224</td>\n",
       "      <td>12246</td>\n",
       "    </tr>\n",
       "    <tr>\n",
       "      <th>1216</th>\n",
       "      <td>AK</td>\n",
       "      <td>Kodiak Island Borough</td>\n",
       "      <td>13101</td>\n",
       "      <td>11794</td>\n",
       "      <td>6570</td>\n",
       "      <td>90</td>\n",
       "      <td>1826</td>\n",
       "      <td>2803</td>\n",
       "      <td>117</td>\n",
       "      <td>388</td>\n",
       "      <td>11794</td>\n",
       "    </tr>\n",
       "    <tr>\n",
       "      <th>1217</th>\n",
       "      <td>AK</td>\n",
       "      <td>Kusilvak Census Area</td>\n",
       "      <td>8368</td>\n",
       "      <td>8176</td>\n",
       "      <td>173</td>\n",
       "      <td>16</td>\n",
       "      <td>7946</td>\n",
       "      <td>23</td>\n",
       "      <td>0</td>\n",
       "      <td>18</td>\n",
       "      <td>8176</td>\n",
       "    </tr>\n",
       "    <tr>\n",
       "      <th>1218</th>\n",
       "      <td>AK</td>\n",
       "      <td>Lake and Peninsula Borough</td>\n",
       "      <td>1476</td>\n",
       "      <td>1309</td>\n",
       "      <td>303</td>\n",
       "      <td>2</td>\n",
       "      <td>994</td>\n",
       "      <td>9</td>\n",
       "      <td>1</td>\n",
       "      <td>0</td>\n",
       "      <td>1309</td>\n",
       "    </tr>\n",
       "    <tr>\n",
       "      <th>1219</th>\n",
       "      <td>AK</td>\n",
       "      <td>Matanuska-Susitna Borough</td>\n",
       "      <td>107081</td>\n",
       "      <td>94782</td>\n",
       "      <td>83035</td>\n",
       "      <td>1121</td>\n",
       "      <td>6844</td>\n",
       "      <td>1559</td>\n",
       "      <td>506</td>\n",
       "      <td>1717</td>\n",
       "      <td>94782</td>\n",
       "    </tr>\n",
       "    <tr>\n",
       "      <th>1220</th>\n",
       "      <td>AK</td>\n",
       "      <td>Nome Census Area</td>\n",
       "      <td>10046</td>\n",
       "      <td>9205</td>\n",
       "      <td>1422</td>\n",
       "      <td>55</td>\n",
       "      <td>7556</td>\n",
       "      <td>111</td>\n",
       "      <td>5</td>\n",
       "      <td>56</td>\n",
       "      <td>9205</td>\n",
       "    </tr>\n",
       "    <tr>\n",
       "      <th>1221</th>\n",
       "      <td>AK</td>\n",
       "      <td>North Slope Borough</td>\n",
       "      <td>11031</td>\n",
       "      <td>10072</td>\n",
       "      <td>3082</td>\n",
       "      <td>162</td>\n",
       "      <td>5748</td>\n",
       "      <td>641</td>\n",
       "      <td>321</td>\n",
       "      <td>118</td>\n",
       "      <td>10072</td>\n",
       "    </tr>\n",
       "    <tr>\n",
       "      <th>1222</th>\n",
       "      <td>AK</td>\n",
       "      <td>Northwest Arctic Borough</td>\n",
       "      <td>7793</td>\n",
       "      <td>7331</td>\n",
       "      <td>700</td>\n",
       "      <td>72</td>\n",
       "      <td>6469</td>\n",
       "      <td>55</td>\n",
       "      <td>12</td>\n",
       "      <td>23</td>\n",
       "      <td>7331</td>\n",
       "    </tr>\n",
       "    <tr>\n",
       "      <th>1223</th>\n",
       "      <td>AK</td>\n",
       "      <td>Petersburg Borough</td>\n",
       "      <td>3398</td>\n",
       "      <td>2962</td>\n",
       "      <td>2470</td>\n",
       "      <td>49</td>\n",
       "      <td>247</td>\n",
       "      <td>123</td>\n",
       "      <td>12</td>\n",
       "      <td>61</td>\n",
       "      <td>2962</td>\n",
       "    </tr>\n",
       "    <tr>\n",
       "      <th>1224</th>\n",
       "      <td>AK</td>\n",
       "      <td>Prince of Wales-Hyder Census Area</td>\n",
       "      <td>5753</td>\n",
       "      <td>5095</td>\n",
       "      <td>2403</td>\n",
       "      <td>22</td>\n",
       "      <td>2584</td>\n",
       "      <td>27</td>\n",
       "      <td>30</td>\n",
       "      <td>29</td>\n",
       "      <td>5095</td>\n",
       "    </tr>\n",
       "    <tr>\n",
       "      <th>1225</th>\n",
       "      <td>AK</td>\n",
       "      <td>Sitka City and Borough</td>\n",
       "      <td>8458</td>\n",
       "      <td>7261</td>\n",
       "      <td>5174</td>\n",
       "      <td>37</td>\n",
       "      <td>1248</td>\n",
       "      <td>573</td>\n",
       "      <td>14</td>\n",
       "      <td>215</td>\n",
       "      <td>7261</td>\n",
       "    </tr>\n",
       "    <tr>\n",
       "      <th>1226</th>\n",
       "      <td>AK</td>\n",
       "      <td>Skagway Municipali</td>\n",
       "      <td>1240</td>\n",
       "      <td>1160</td>\n",
       "      <td>1070</td>\n",
       "      <td>10</td>\n",
       "      <td>32</td>\n",
       "      <td>39</td>\n",
       "      <td>0</td>\n",
       "      <td>9</td>\n",
       "      <td>1160</td>\n",
       "    </tr>\n",
       "    <tr>\n",
       "      <th>1227</th>\n",
       "      <td>AK</td>\n",
       "      <td>Southeast Fairbanks Census Area</td>\n",
       "      <td>6808</td>\n",
       "      <td>6216</td>\n",
       "      <td>5085</td>\n",
       "      <td>74</td>\n",
       "      <td>817</td>\n",
       "      <td>87</td>\n",
       "      <td>16</td>\n",
       "      <td>137</td>\n",
       "      <td>6216</td>\n",
       "    </tr>\n",
       "    <tr>\n",
       "      <th>1228</th>\n",
       "      <td>AK</td>\n",
       "      <td>Wrangell City and Borough</td>\n",
       "      <td>2127</td>\n",
       "      <td>1789</td>\n",
       "      <td>1352</td>\n",
       "      <td>0</td>\n",
       "      <td>380</td>\n",
       "      <td>25</td>\n",
       "      <td>2</td>\n",
       "      <td>30</td>\n",
       "      <td>1789</td>\n",
       "    </tr>\n",
       "    <tr>\n",
       "      <th>1229</th>\n",
       "      <td>AK</td>\n",
       "      <td>Yakutat City and Borough</td>\n",
       "      <td>662</td>\n",
       "      <td>544</td>\n",
       "      <td>249</td>\n",
       "      <td>4</td>\n",
       "      <td>255</td>\n",
       "      <td>32</td>\n",
       "      <td>1</td>\n",
       "      <td>3</td>\n",
       "      <td>544</td>\n",
       "    </tr>\n",
       "    <tr>\n",
       "      <th>1230</th>\n",
       "      <td>AK</td>\n",
       "      <td>Yukon-Koyukuk Census Area</td>\n",
       "      <td>5343</td>\n",
       "      <td>5008</td>\n",
       "      <td>1130</td>\n",
       "      <td>7</td>\n",
       "      <td>3832</td>\n",
       "      <td>8</td>\n",
       "      <td>3</td>\n",
       "      <td>28</td>\n",
       "      <td>5008</td>\n",
       "    </tr>\n",
       "  </tbody>\n",
       "</table>\n",
       "</div>"
      ],
      "text/plain": [
       "     code                             county  total_population  pop_one_race  \\\n",
       "1201   AK             Aleutians East Borough              3420          3212   \n",
       "1202   AK         Aleutians West Census Area              5232          4858   \n",
       "1203   AK               Anchorage Municipali            291247        250445   \n",
       "1204   AK                 Bethel Census Area             18666         17650   \n",
       "1205   AK                Bristol Bay Borough               844           701   \n",
       "1206   AK                Chugach Census Area              7102          6342   \n",
       "1207   AK           Copper River Census Area              2617          2335   \n",
       "1208   AK                     Denali Borough              1619          1480   \n",
       "1209   AK             Dillingham Census Area              4857          4361   \n",
       "1210   AK       Fairbanks North Star Borough             95655         83485   \n",
       "1211   AK                     Haines Borough              2080          1838   \n",
       "1212   AK          Hoonah-Angoon Census Area              2365          2081   \n",
       "1213   AK            Juneau City and Borough             32255         27318   \n",
       "1214   AK            Kenai Peninsula Borough             58799         52811   \n",
       "1215   AK          Ketchikan Gateway Borough             13948         12246   \n",
       "1216   AK              Kodiak Island Borough             13101         11794   \n",
       "1217   AK               Kusilvak Census Area              8368          8176   \n",
       "1218   AK         Lake and Peninsula Borough              1476          1309   \n",
       "1219   AK          Matanuska-Susitna Borough            107081         94782   \n",
       "1220   AK                   Nome Census Area             10046          9205   \n",
       "1221   AK                North Slope Borough             11031         10072   \n",
       "1222   AK           Northwest Arctic Borough              7793          7331   \n",
       "1223   AK                 Petersburg Borough              3398          2962   \n",
       "1224   AK  Prince of Wales-Hyder Census Area              5753          5095   \n",
       "1225   AK             Sitka City and Borough              8458          7261   \n",
       "1226   AK                 Skagway Municipali              1240          1160   \n",
       "1227   AK    Southeast Fairbanks Census Area              6808          6216   \n",
       "1228   AK          Wrangell City and Borough              2127          1789   \n",
       "1229   AK           Yakutat City and Borough               662           544   \n",
       "1230   AK          Yukon-Koyukuk Census Area              5343          5008   \n",
       "\n",
       "       white  black  amarican_indian  asian  hawaiian  other     sum  \n",
       "1201     684    297              802    771        32    626    3212  \n",
       "1202    1667    259              728   1513       239    452    4858  \n",
       "1203  164446  14576            23661  27646     10001  10115  250445  \n",
       "1204    1665     85            15632    202         2     64   17650  \n",
       "1205     370      6              305      5         3     12     701  \n",
       "1206    4907     49              669    529        62    126    6342  \n",
       "1207    1611      8              663     17        10     26    2335  \n",
       "1208    1382     11               61     13         5      8    1480  \n",
       "1209     799     25             3453     48         9     27    4361  \n",
       "1210   65971   4014             7555   3104       604   2237   83485  \n",
       "1211    1589      2              214     14         2     17    1838  \n",
       "1212    1147      6              878     16         5     29    2081  \n",
       "1213   20124    350             3614   2101       476    653   27318  \n",
       "1214   46382    386             4228    809       182    824   52811  \n",
       "1215    8430    103             2334   1129        26    224   12246  \n",
       "1216    6570     90             1826   2803       117    388   11794  \n",
       "1217     173     16             7946     23         0     18    8176  \n",
       "1218     303      2              994      9         1      0    1309  \n",
       "1219   83035   1121             6844   1559       506   1717   94782  \n",
       "1220    1422     55             7556    111         5     56    9205  \n",
       "1221    3082    162             5748    641       321    118   10072  \n",
       "1222     700     72             6469     55        12     23    7331  \n",
       "1223    2470     49              247    123        12     61    2962  \n",
       "1224    2403     22             2584     27        30     29    5095  \n",
       "1225    5174     37             1248    573        14    215    7261  \n",
       "1226    1070     10               32     39         0      9    1160  \n",
       "1227    5085     74              817     87        16    137    6216  \n",
       "1228    1352      0              380     25         2     30    1789  \n",
       "1229     249      4              255     32         1      3     544  \n",
       "1230    1130      7             3832      8         3     28    5008  "
      ]
     },
     "execution_count": 147,
     "metadata": {},
     "output_type": "execute_result"
    }
   ],
   "source": [
    "population.query('code == \"AK\"')"
   ]
  },
  {
   "cell_type": "code",
   "execution_count": 93,
   "id": "ab4cabbb",
   "metadata": {},
   "outputs": [
    {
     "data": {
      "text/html": [
       "<div>\n",
       "<style scoped>\n",
       "    .dataframe tbody tr th:only-of-type {\n",
       "        vertical-align: middle;\n",
       "    }\n",
       "\n",
       "    .dataframe tbody tr th {\n",
       "        vertical-align: top;\n",
       "    }\n",
       "\n",
       "    .dataframe thead th {\n",
       "        text-align: right;\n",
       "    }\n",
       "</style>\n",
       "<table border=\"1\" class=\"dataframe\">\n",
       "  <thead>\n",
       "    <tr style=\"text-align: right;\">\n",
       "      <th></th>\n",
       "      <th>code</th>\n",
       "      <th>county</th>\n",
       "      <th>total_population</th>\n",
       "      <th>pop_one_race</th>\n",
       "      <th>white</th>\n",
       "      <th>black</th>\n",
       "      <th>amarican_indian</th>\n",
       "      <th>asian</th>\n",
       "      <th>hawaiian</th>\n",
       "      <th>other</th>\n",
       "      <th>sum</th>\n",
       "    </tr>\n",
       "  </thead>\n",
       "  <tbody>\n",
       "    <tr>\n",
       "      <th>3081</th>\n",
       "      <td>DC</td>\n",
       "      <td>District of Columbia</td>\n",
       "      <td>689545</td>\n",
       "      <td>633468</td>\n",
       "      <td>273194</td>\n",
       "      <td>285810</td>\n",
       "      <td>3193</td>\n",
       "      <td>33545</td>\n",
       "      <td>432</td>\n",
       "      <td>37294</td>\n",
       "      <td>633468</td>\n",
       "    </tr>\n",
       "  </tbody>\n",
       "</table>\n",
       "</div>"
      ],
      "text/plain": [
       "     code                county  total_population  pop_one_race   white  \\\n",
       "3081   DC  District of Columbia            689545        633468  273194   \n",
       "\n",
       "       black  amarican_indian  asian  hawaiian  other     sum  \n",
       "3081  285810             3193  33545       432  37294  633468  "
      ]
     },
     "execution_count": 93,
     "metadata": {},
     "output_type": "execute_result"
    }
   ],
   "source": [
    "population.query('county ==\"District of Columbia\"').head()"
   ]
  },
  {
   "cell_type": "code",
   "execution_count": 149,
   "id": "59006bd5",
   "metadata": {},
   "outputs": [
    {
     "data": {
      "text/html": [
       "<div>\n",
       "<style scoped>\n",
       "    .dataframe tbody tr th:only-of-type {\n",
       "        vertical-align: middle;\n",
       "    }\n",
       "\n",
       "    .dataframe tbody tr th {\n",
       "        vertical-align: top;\n",
       "    }\n",
       "\n",
       "    .dataframe thead th {\n",
       "        text-align: right;\n",
       "    }\n",
       "</style>\n",
       "<table border=\"1\" class=\"dataframe\">\n",
       "  <thead>\n",
       "    <tr style=\"text-align: right;\">\n",
       "      <th></th>\n",
       "      <th>code</th>\n",
       "      <th>county</th>\n",
       "      <th>total_population</th>\n",
       "      <th>pop_one_race</th>\n",
       "      <th>white</th>\n",
       "      <th>black</th>\n",
       "      <th>amarican_indian</th>\n",
       "      <th>asian</th>\n",
       "      <th>hawaiian</th>\n",
       "      <th>other</th>\n",
       "      <th>sum</th>\n",
       "    </tr>\n",
       "  </thead>\n",
       "  <tbody>\n",
       "    <tr>\n",
       "      <th>208</th>\n",
       "      <td>NV</td>\n",
       "      <td>Carson Ci</td>\n",
       "      <td>58639</td>\n",
       "      <td>51097</td>\n",
       "      <td>39852</td>\n",
       "      <td>1142</td>\n",
       "      <td>1459</td>\n",
       "      <td>1416</td>\n",
       "      <td>135</td>\n",
       "      <td>7093</td>\n",
       "      <td>51097</td>\n",
       "    </tr>\n",
       "  </tbody>\n",
       "</table>\n",
       "</div>"
      ],
      "text/plain": [
       "    code     county  total_population  pop_one_race  white  black  \\\n",
       "208   NV  Carson Ci             58639         51097  39852   1142   \n",
       "\n",
       "     amarican_indian  asian  hawaiian  other    sum  \n",
       "208             1459   1416       135   7093  51097  "
      ]
     },
     "execution_count": 149,
     "metadata": {},
     "output_type": "execute_result"
    }
   ],
   "source": [
    "population.query('code == \"NV\" & county ==\"Carson Ci\"').head()"
   ]
  },
  {
   "cell_type": "code",
   "execution_count": 144,
   "id": "0cd16349",
   "metadata": {},
   "outputs": [
    {
     "data": {
      "text/html": [
       "<div>\n",
       "<style scoped>\n",
       "    .dataframe tbody tr th:only-of-type {\n",
       "        vertical-align: middle;\n",
       "    }\n",
       "\n",
       "    .dataframe tbody tr th {\n",
       "        vertical-align: top;\n",
       "    }\n",
       "\n",
       "    .dataframe thead th {\n",
       "        text-align: right;\n",
       "    }\n",
       "</style>\n",
       "<table border=\"1\" class=\"dataframe\">\n",
       "  <thead>\n",
       "    <tr style=\"text-align: right;\">\n",
       "      <th></th>\n",
       "      <th>date</th>\n",
       "      <th>county</th>\n",
       "      <th>code</th>\n",
       "      <th>state</th>\n",
       "      <th>fips</th>\n",
       "      <th>cases</th>\n",
       "      <th>deaths</th>\n",
       "      <th>total_population</th>\n",
       "    </tr>\n",
       "  </thead>\n",
       "  <tbody>\n",
       "  </tbody>\n",
       "</table>\n",
       "</div>"
      ],
      "text/plain": [
       "Empty DataFrame\n",
       "Columns: [date, county, code, state, fips, cases, deaths, total_population]\n",
       "Index: []"
      ]
     },
     "execution_count": 144,
     "metadata": {},
     "output_type": "execute_result"
    }
   ],
   "source": [
    "df_merged.query('state == \"Alaska\" & county == \"Skagway Municipali\"')"
   ]
  },
  {
   "cell_type": "code",
   "execution_count": 96,
   "id": "3d56485e",
   "metadata": {},
   "outputs": [
    {
     "data": {
      "text/html": [
       "<div>\n",
       "<style scoped>\n",
       "    .dataframe tbody tr th:only-of-type {\n",
       "        vertical-align: middle;\n",
       "    }\n",
       "\n",
       "    .dataframe tbody tr th {\n",
       "        vertical-align: top;\n",
       "    }\n",
       "\n",
       "    .dataframe thead th {\n",
       "        text-align: right;\n",
       "    }\n",
       "</style>\n",
       "<table border=\"1\" class=\"dataframe\">\n",
       "  <thead>\n",
       "    <tr style=\"text-align: right;\">\n",
       "      <th></th>\n",
       "      <th>date</th>\n",
       "      <th>county</th>\n",
       "      <th>code</th>\n",
       "      <th>state</th>\n",
       "      <th>fips</th>\n",
       "      <th>cases</th>\n",
       "      <th>deaths</th>\n",
       "      <th>total_population</th>\n",
       "    </tr>\n",
       "  </thead>\n",
       "  <tbody>\n",
       "  </tbody>\n",
       "</table>\n",
       "</div>"
      ],
      "text/plain": [
       "Empty DataFrame\n",
       "Columns: [date, county, code, state, fips, cases, deaths, total_population]\n",
       "Index: []"
      ]
     },
     "execution_count": 96,
     "metadata": {},
     "output_type": "execute_result"
    }
   ],
   "source": [
    "df_merged.query('fips == 58639.').head()"
   ]
  },
  {
   "cell_type": "code",
   "execution_count": 97,
   "id": "373f1c07",
   "metadata": {},
   "outputs": [
    {
     "data": {
      "text/html": [
       "<div>\n",
       "<style scoped>\n",
       "    .dataframe tbody tr th:only-of-type {\n",
       "        vertical-align: middle;\n",
       "    }\n",
       "\n",
       "    .dataframe tbody tr th {\n",
       "        vertical-align: top;\n",
       "    }\n",
       "\n",
       "    .dataframe thead th {\n",
       "        text-align: right;\n",
       "    }\n",
       "</style>\n",
       "<table border=\"1\" class=\"dataframe\">\n",
       "  <thead>\n",
       "    <tr style=\"text-align: right;\">\n",
       "      <th></th>\n",
       "      <th>date</th>\n",
       "      <th>county</th>\n",
       "      <th>code</th>\n",
       "      <th>state</th>\n",
       "      <th>fips</th>\n",
       "      <th>cases</th>\n",
       "      <th>deaths</th>\n",
       "      <th>total_population</th>\n",
       "    </tr>\n",
       "  </thead>\n",
       "  <tbody>\n",
       "    <tr>\n",
       "      <th>48069</th>\n",
       "      <td>2020-03-08</td>\n",
       "      <td>Harford</td>\n",
       "      <td>MD</td>\n",
       "      <td>Maryland</td>\n",
       "      <td>24025.0</td>\n",
       "      <td>1</td>\n",
       "      <td>0.0</td>\n",
       "      <td>260924</td>\n",
       "    </tr>\n",
       "    <tr>\n",
       "      <th>48070</th>\n",
       "      <td>2020-03-09</td>\n",
       "      <td>Harford</td>\n",
       "      <td>MD</td>\n",
       "      <td>Maryland</td>\n",
       "      <td>24025.0</td>\n",
       "      <td>1</td>\n",
       "      <td>0.0</td>\n",
       "      <td>260924</td>\n",
       "    </tr>\n",
       "    <tr>\n",
       "      <th>48071</th>\n",
       "      <td>2020-03-10</td>\n",
       "      <td>Harford</td>\n",
       "      <td>MD</td>\n",
       "      <td>Maryland</td>\n",
       "      <td>24025.0</td>\n",
       "      <td>1</td>\n",
       "      <td>0.0</td>\n",
       "      <td>260924</td>\n",
       "    </tr>\n",
       "    <tr>\n",
       "      <th>48072</th>\n",
       "      <td>2020-03-11</td>\n",
       "      <td>Harford</td>\n",
       "      <td>MD</td>\n",
       "      <td>Maryland</td>\n",
       "      <td>24025.0</td>\n",
       "      <td>1</td>\n",
       "      <td>0.0</td>\n",
       "      <td>260924</td>\n",
       "    </tr>\n",
       "    <tr>\n",
       "      <th>48073</th>\n",
       "      <td>2020-03-12</td>\n",
       "      <td>Harford</td>\n",
       "      <td>MD</td>\n",
       "      <td>Maryland</td>\n",
       "      <td>24025.0</td>\n",
       "      <td>1</td>\n",
       "      <td>0.0</td>\n",
       "      <td>260924</td>\n",
       "    </tr>\n",
       "    <tr>\n",
       "      <th>...</th>\n",
       "      <td>...</td>\n",
       "      <td>...</td>\n",
       "      <td>...</td>\n",
       "      <td>...</td>\n",
       "      <td>...</td>\n",
       "      <td>...</td>\n",
       "      <td>...</td>\n",
       "      <td>...</td>\n",
       "    </tr>\n",
       "    <tr>\n",
       "      <th>48164</th>\n",
       "      <td>2020-06-11</td>\n",
       "      <td>Harford</td>\n",
       "      <td>MD</td>\n",
       "      <td>Maryland</td>\n",
       "      <td>24025.0</td>\n",
       "      <td>993</td>\n",
       "      <td>57.0</td>\n",
       "      <td>260924</td>\n",
       "    </tr>\n",
       "    <tr>\n",
       "      <th>48165</th>\n",
       "      <td>2020-06-12</td>\n",
       "      <td>Harford</td>\n",
       "      <td>MD</td>\n",
       "      <td>Maryland</td>\n",
       "      <td>24025.0</td>\n",
       "      <td>994</td>\n",
       "      <td>58.0</td>\n",
       "      <td>260924</td>\n",
       "    </tr>\n",
       "    <tr>\n",
       "      <th>48166</th>\n",
       "      <td>2020-06-13</td>\n",
       "      <td>Harford</td>\n",
       "      <td>MD</td>\n",
       "      <td>Maryland</td>\n",
       "      <td>24025.0</td>\n",
       "      <td>1007</td>\n",
       "      <td>58.0</td>\n",
       "      <td>260924</td>\n",
       "    </tr>\n",
       "    <tr>\n",
       "      <th>48167</th>\n",
       "      <td>2020-06-14</td>\n",
       "      <td>Harford</td>\n",
       "      <td>MD</td>\n",
       "      <td>Maryland</td>\n",
       "      <td>24025.0</td>\n",
       "      <td>1012</td>\n",
       "      <td>58.0</td>\n",
       "      <td>260924</td>\n",
       "    </tr>\n",
       "    <tr>\n",
       "      <th>48168</th>\n",
       "      <td>2020-06-15</td>\n",
       "      <td>Harford</td>\n",
       "      <td>MD</td>\n",
       "      <td>Maryland</td>\n",
       "      <td>24025.0</td>\n",
       "      <td>1022</td>\n",
       "      <td>58.0</td>\n",
       "      <td>260924</td>\n",
       "    </tr>\n",
       "  </tbody>\n",
       "</table>\n",
       "<p>100 rows × 8 columns</p>\n",
       "</div>"
      ],
      "text/plain": [
       "            date   county code     state     fips  cases  deaths  \\\n",
       "48069 2020-03-08  Harford   MD  Maryland  24025.0      1     0.0   \n",
       "48070 2020-03-09  Harford   MD  Maryland  24025.0      1     0.0   \n",
       "48071 2020-03-10  Harford   MD  Maryland  24025.0      1     0.0   \n",
       "48072 2020-03-11  Harford   MD  Maryland  24025.0      1     0.0   \n",
       "48073 2020-03-12  Harford   MD  Maryland  24025.0      1     0.0   \n",
       "...          ...      ...  ...       ...      ...    ...     ...   \n",
       "48164 2020-06-11  Harford   MD  Maryland  24025.0    993    57.0   \n",
       "48165 2020-06-12  Harford   MD  Maryland  24025.0    994    58.0   \n",
       "48166 2020-06-13  Harford   MD  Maryland  24025.0   1007    58.0   \n",
       "48167 2020-06-14  Harford   MD  Maryland  24025.0   1012    58.0   \n",
       "48168 2020-06-15  Harford   MD  Maryland  24025.0   1022    58.0   \n",
       "\n",
       "       total_population  \n",
       "48069            260924  \n",
       "48070            260924  \n",
       "48071            260924  \n",
       "48072            260924  \n",
       "48073            260924  \n",
       "...                 ...  \n",
       "48164            260924  \n",
       "48165            260924  \n",
       "48166            260924  \n",
       "48167            260924  \n",
       "48168            260924  \n",
       "\n",
       "[100 rows x 8 columns]"
      ]
     },
     "execution_count": 97,
     "metadata": {},
     "output_type": "execute_result"
    }
   ],
   "source": [
    "df_merged.query('state == \"Maryland\"').head(100)"
   ]
  },
  {
   "cell_type": "code",
   "execution_count": 98,
   "id": "24e19981",
   "metadata": {},
   "outputs": [
    {
     "data": {
      "text/html": [
       "<div>\n",
       "<style scoped>\n",
       "    .dataframe tbody tr th:only-of-type {\n",
       "        vertical-align: middle;\n",
       "    }\n",
       "\n",
       "    .dataframe tbody tr th {\n",
       "        vertical-align: top;\n",
       "    }\n",
       "\n",
       "    .dataframe thead th {\n",
       "        text-align: right;\n",
       "    }\n",
       "</style>\n",
       "<table border=\"1\" class=\"dataframe\">\n",
       "  <thead>\n",
       "    <tr style=\"text-align: right;\">\n",
       "      <th></th>\n",
       "      <th>code</th>\n",
       "      <th>county</th>\n",
       "      <th>total_population</th>\n",
       "      <th>pop_one_race</th>\n",
       "      <th>white</th>\n",
       "      <th>black</th>\n",
       "      <th>amarican_indian</th>\n",
       "      <th>asian</th>\n",
       "      <th>hawaiian</th>\n",
       "      <th>other</th>\n",
       "      <th>sum</th>\n",
       "    </tr>\n",
       "  </thead>\n",
       "  <tbody>\n",
       "  </tbody>\n",
       "</table>\n",
       "</div>"
      ],
      "text/plain": [
       "Empty DataFrame\n",
       "Columns: [code, county, total_population, pop_one_race, white, black, amarican_indian, asian, hawaiian, other, sum]\n",
       "Index: []"
      ]
     },
     "execution_count": 98,
     "metadata": {},
     "output_type": "execute_result"
    }
   ],
   "source": [
    "#population.columns\n",
    "population.query('county == \"Cook County\"')"
   ]
  },
  {
   "cell_type": "code",
   "execution_count": 99,
   "id": "3ae2c508",
   "metadata": {},
   "outputs": [
    {
     "data": {
      "text/html": [
       "<div>\n",
       "<style scoped>\n",
       "    .dataframe tbody tr th:only-of-type {\n",
       "        vertical-align: middle;\n",
       "    }\n",
       "\n",
       "    .dataframe tbody tr th {\n",
       "        vertical-align: top;\n",
       "    }\n",
       "\n",
       "    .dataframe thead th {\n",
       "        text-align: right;\n",
       "    }\n",
       "</style>\n",
       "<table border=\"1\" class=\"dataframe\">\n",
       "  <thead>\n",
       "    <tr style=\"text-align: right;\">\n",
       "      <th></th>\n",
       "      <th>code</th>\n",
       "      <th>county</th>\n",
       "      <th>total_population</th>\n",
       "      <th>pop_one_race</th>\n",
       "      <th>white</th>\n",
       "      <th>black</th>\n",
       "      <th>amarican_indian</th>\n",
       "      <th>asian</th>\n",
       "      <th>hawaiian</th>\n",
       "      <th>other</th>\n",
       "      <th>sum</th>\n",
       "    </tr>\n",
       "  </thead>\n",
       "  <tbody>\n",
       "    <tr>\n",
       "      <th>23</th>\n",
       "      <td>MN</td>\n",
       "      <td>Cook</td>\n",
       "      <td>5600</td>\n",
       "      <td>5269</td>\n",
       "      <td>4686</td>\n",
       "      <td>25</td>\n",
       "      <td>458</td>\n",
       "      <td>49</td>\n",
       "      <td>1</td>\n",
       "      <td>50</td>\n",
       "      <td>5269</td>\n",
       "    </tr>\n",
       "    <tr>\n",
       "      <th>510</th>\n",
       "      <td>GA</td>\n",
       "      <td>Cook</td>\n",
       "      <td>17229</td>\n",
       "      <td>16470</td>\n",
       "      <td>10975</td>\n",
       "      <td>4772</td>\n",
       "      <td>73</td>\n",
       "      <td>101</td>\n",
       "      <td>9</td>\n",
       "      <td>540</td>\n",
       "      <td>16470</td>\n",
       "    </tr>\n",
       "    <tr>\n",
       "      <th>2353</th>\n",
       "      <td>IL</td>\n",
       "      <td>Cook</td>\n",
       "      <td>5275541</td>\n",
       "      <td>4728989</td>\n",
       "      <td>2345983</td>\n",
       "      <td>1205824</td>\n",
       "      <td>56894</td>\n",
       "      <td>413271</td>\n",
       "      <td>1864</td>\n",
       "      <td>705153</td>\n",
       "      <td>4728989</td>\n",
       "    </tr>\n",
       "  </tbody>\n",
       "</table>\n",
       "</div>"
      ],
      "text/plain": [
       "     code county  total_population  pop_one_race    white    black  \\\n",
       "23     MN   Cook              5600          5269     4686       25   \n",
       "510    GA   Cook             17229         16470    10975     4772   \n",
       "2353   IL   Cook           5275541       4728989  2345983  1205824   \n",
       "\n",
       "      amarican_indian   asian  hawaiian   other      sum  \n",
       "23                458      49         1      50     5269  \n",
       "510                73     101         9     540    16470  \n",
       "2353            56894  413271      1864  705153  4728989  "
      ]
     },
     "execution_count": 99,
     "metadata": {},
     "output_type": "execute_result"
    }
   ],
   "source": [
    "population.query('county == \"Cook\"')"
   ]
  },
  {
   "cell_type": "code",
   "execution_count": 100,
   "id": "a645592e",
   "metadata": {},
   "outputs": [
    {
     "data": {
      "text/html": [
       "<div>\n",
       "<style scoped>\n",
       "    .dataframe tbody tr th:only-of-type {\n",
       "        vertical-align: middle;\n",
       "    }\n",
       "\n",
       "    .dataframe tbody tr th {\n",
       "        vertical-align: top;\n",
       "    }\n",
       "\n",
       "    .dataframe thead th {\n",
       "        text-align: right;\n",
       "    }\n",
       "</style>\n",
       "<table border=\"1\" class=\"dataframe\">\n",
       "  <thead>\n",
       "    <tr style=\"text-align: right;\">\n",
       "      <th></th>\n",
       "      <th>county</th>\n",
       "      <th>state</th>\n",
       "      <th>fips</th>\n",
       "      <th>cases</th>\n",
       "      <th>deaths</th>\n",
       "      <th>code</th>\n",
       "      <th>date</th>\n",
       "    </tr>\n",
       "    <tr>\n",
       "      <th>date</th>\n",
       "      <th></th>\n",
       "      <th></th>\n",
       "      <th></th>\n",
       "      <th></th>\n",
       "      <th></th>\n",
       "      <th></th>\n",
       "      <th></th>\n",
       "    </tr>\n",
       "  </thead>\n",
       "  <tbody>\n",
       "    <tr>\n",
       "      <th>2020-03-27</th>\n",
       "      <td>Galax city</td>\n",
       "      <td>Virginia</td>\n",
       "      <td>51640.0</td>\n",
       "      <td>1</td>\n",
       "      <td>0.0</td>\n",
       "      <td>VA</td>\n",
       "      <td>2020-03-27</td>\n",
       "    </tr>\n",
       "    <tr>\n",
       "      <th>2020-03-28</th>\n",
       "      <td>Galax city</td>\n",
       "      <td>Virginia</td>\n",
       "      <td>51640.0</td>\n",
       "      <td>1</td>\n",
       "      <td>0.0</td>\n",
       "      <td>VA</td>\n",
       "      <td>2020-03-28</td>\n",
       "    </tr>\n",
       "    <tr>\n",
       "      <th>2020-03-29</th>\n",
       "      <td>Galax city</td>\n",
       "      <td>Virginia</td>\n",
       "      <td>51640.0</td>\n",
       "      <td>1</td>\n",
       "      <td>0.0</td>\n",
       "      <td>VA</td>\n",
       "      <td>2020-03-29</td>\n",
       "    </tr>\n",
       "    <tr>\n",
       "      <th>2020-03-30</th>\n",
       "      <td>Galax city</td>\n",
       "      <td>Virginia</td>\n",
       "      <td>51640.0</td>\n",
       "      <td>1</td>\n",
       "      <td>0.0</td>\n",
       "      <td>VA</td>\n",
       "      <td>2020-03-30</td>\n",
       "    </tr>\n",
       "    <tr>\n",
       "      <th>2020-03-31</th>\n",
       "      <td>Galax city</td>\n",
       "      <td>Virginia</td>\n",
       "      <td>51640.0</td>\n",
       "      <td>1</td>\n",
       "      <td>0.0</td>\n",
       "      <td>VA</td>\n",
       "      <td>2020-03-31</td>\n",
       "    </tr>\n",
       "    <tr>\n",
       "      <th>...</th>\n",
       "      <td>...</td>\n",
       "      <td>...</td>\n",
       "      <td>...</td>\n",
       "      <td>...</td>\n",
       "      <td>...</td>\n",
       "      <td>...</td>\n",
       "      <td>...</td>\n",
       "    </tr>\n",
       "    <tr>\n",
       "      <th>2022-02-21</th>\n",
       "      <td>Galax city</td>\n",
       "      <td>Virginia</td>\n",
       "      <td>51640.0</td>\n",
       "      <td>2498</td>\n",
       "      <td>72.0</td>\n",
       "      <td>VA</td>\n",
       "      <td>2022-02-21</td>\n",
       "    </tr>\n",
       "    <tr>\n",
       "      <th>2022-02-22</th>\n",
       "      <td>Galax city</td>\n",
       "      <td>Virginia</td>\n",
       "      <td>51640.0</td>\n",
       "      <td>2499</td>\n",
       "      <td>72.0</td>\n",
       "      <td>VA</td>\n",
       "      <td>2022-02-22</td>\n",
       "    </tr>\n",
       "    <tr>\n",
       "      <th>2022-02-23</th>\n",
       "      <td>Galax city</td>\n",
       "      <td>Virginia</td>\n",
       "      <td>51640.0</td>\n",
       "      <td>2506</td>\n",
       "      <td>72.0</td>\n",
       "      <td>VA</td>\n",
       "      <td>2022-02-23</td>\n",
       "    </tr>\n",
       "    <tr>\n",
       "      <th>2022-02-24</th>\n",
       "      <td>Galax city</td>\n",
       "      <td>Virginia</td>\n",
       "      <td>51640.0</td>\n",
       "      <td>2515</td>\n",
       "      <td>74.0</td>\n",
       "      <td>VA</td>\n",
       "      <td>2022-02-24</td>\n",
       "    </tr>\n",
       "    <tr>\n",
       "      <th>2022-02-25</th>\n",
       "      <td>Galax city</td>\n",
       "      <td>Virginia</td>\n",
       "      <td>51640.0</td>\n",
       "      <td>2518</td>\n",
       "      <td>75.0</td>\n",
       "      <td>VA</td>\n",
       "      <td>2022-02-25</td>\n",
       "    </tr>\n",
       "  </tbody>\n",
       "</table>\n",
       "<p>701 rows × 7 columns</p>\n",
       "</div>"
      ],
      "text/plain": [
       "                county     state     fips  cases  deaths code       date\n",
       "date                                                                    \n",
       "2020-03-27  Galax city  Virginia  51640.0      1     0.0   VA 2020-03-27\n",
       "2020-03-28  Galax city  Virginia  51640.0      1     0.0   VA 2020-03-28\n",
       "2020-03-29  Galax city  Virginia  51640.0      1     0.0   VA 2020-03-29\n",
       "2020-03-30  Galax city  Virginia  51640.0      1     0.0   VA 2020-03-30\n",
       "2020-03-31  Galax city  Virginia  51640.0      1     0.0   VA 2020-03-31\n",
       "...                ...       ...      ...    ...     ...  ...        ...\n",
       "2022-02-21  Galax city  Virginia  51640.0   2498    72.0   VA 2022-02-21\n",
       "2022-02-22  Galax city  Virginia  51640.0   2499    72.0   VA 2022-02-22\n",
       "2022-02-23  Galax city  Virginia  51640.0   2506    72.0   VA 2022-02-23\n",
       "2022-02-24  Galax city  Virginia  51640.0   2515    74.0   VA 2022-02-24\n",
       "2022-02-25  Galax city  Virginia  51640.0   2518    75.0   VA 2022-02-25\n",
       "\n",
       "[701 rows x 7 columns]"
      ]
     },
     "execution_count": 100,
     "metadata": {},
     "output_type": "execute_result"
    }
   ],
   "source": [
    "df.query('county == \"Galax city\"')\n",
    "#df.columns"
   ]
  },
  {
   "cell_type": "code",
   "execution_count": 101,
   "id": "bec90d05",
   "metadata": {},
   "outputs": [
    {
     "data": {
      "text/plain": [
       "array(['Fairfax', 'Hanover', 'Prince Edward', 'Prince William',\n",
       "       'Chesterfield', 'Spotsylvania', 'Stafford', 'York', 'Goochland',\n",
       "       'Accomack', 'Gloucester', 'Albemarle', 'Mecklenburg', 'Bedford',\n",
       "       'Culpeper', 'Fluvanna', 'Lee', 'Louisa', 'Rockingham',\n",
       "       'Rockbridge', 'Halifax', 'Frederick', 'Mathews', 'Orange',\n",
       "       'Roanoke', 'Shenandoah', 'Amelia', 'Fauquier', 'Greene',\n",
       "       'King George', 'Pittsylvania', 'Prince George', 'Lancaster',\n",
       "       'Northumberland', 'Greensville', 'Tazewell', 'Wythe',\n",
       "       'King William', 'Smyth', 'Brunswick', 'Buckingham', 'Campbell',\n",
       "       'Carroll', 'Clarke', 'Page', 'Augusta', 'Sussex', 'Cumberland',\n",
       "       'Caroline', 'Pulaski', 'Richmond', 'Westmoreland', 'Wise',\n",
       "       'Charlotte', 'Appomattox', 'Giles', 'Russell', 'Craig',\n",
       "       'Dinwiddie', 'Lunenburg', 'Rappahannock', 'Floyd', 'Middlesex',\n",
       "       'Essex', 'Patrick', 'Highland', 'Bland', 'Bath'], dtype=object)"
      ]
     },
     "execution_count": 101,
     "metadata": {},
     "output_type": "execute_result"
    }
   ],
   "source": [
    "df_merged.query('state == \"Virginia\"').county.unique()"
   ]
  },
  {
   "cell_type": "code",
   "execution_count": 102,
   "id": "9427e772",
   "metadata": {},
   "outputs": [
    {
     "data": {
      "text/html": [
       "<div>\n",
       "<style scoped>\n",
       "    .dataframe tbody tr th:only-of-type {\n",
       "        vertical-align: middle;\n",
       "    }\n",
       "\n",
       "    .dataframe tbody tr th {\n",
       "        vertical-align: top;\n",
       "    }\n",
       "\n",
       "    .dataframe thead th {\n",
       "        text-align: right;\n",
       "    }\n",
       "</style>\n",
       "<table border=\"1\" class=\"dataframe\">\n",
       "  <thead>\n",
       "    <tr style=\"text-align: right;\">\n",
       "      <th></th>\n",
       "      <th>date</th>\n",
       "      <th>county</th>\n",
       "      <th>code</th>\n",
       "      <th>state</th>\n",
       "      <th>fips</th>\n",
       "      <th>cases</th>\n",
       "      <th>deaths</th>\n",
       "      <th>total_population</th>\n",
       "    </tr>\n",
       "  </thead>\n",
       "  <tbody>\n",
       "    <tr>\n",
       "      <th>45909</th>\n",
       "      <td>2020-03-08</td>\n",
       "      <td>Fairfield</td>\n",
       "      <td>CT</td>\n",
       "      <td>Connecticut</td>\n",
       "      <td>9001.0</td>\n",
       "      <td>1</td>\n",
       "      <td>0.0</td>\n",
       "      <td>957419</td>\n",
       "    </tr>\n",
       "    <tr>\n",
       "      <th>45910</th>\n",
       "      <td>2020-03-09</td>\n",
       "      <td>Fairfield</td>\n",
       "      <td>CT</td>\n",
       "      <td>Connecticut</td>\n",
       "      <td>9001.0</td>\n",
       "      <td>2</td>\n",
       "      <td>0.0</td>\n",
       "      <td>957419</td>\n",
       "    </tr>\n",
       "    <tr>\n",
       "      <th>45911</th>\n",
       "      <td>2020-03-10</td>\n",
       "      <td>Fairfield</td>\n",
       "      <td>CT</td>\n",
       "      <td>Connecticut</td>\n",
       "      <td>9001.0</td>\n",
       "      <td>2</td>\n",
       "      <td>0.0</td>\n",
       "      <td>957419</td>\n",
       "    </tr>\n",
       "    <tr>\n",
       "      <th>45912</th>\n",
       "      <td>2020-03-11</td>\n",
       "      <td>Fairfield</td>\n",
       "      <td>CT</td>\n",
       "      <td>Connecticut</td>\n",
       "      <td>9001.0</td>\n",
       "      <td>3</td>\n",
       "      <td>0.0</td>\n",
       "      <td>957419</td>\n",
       "    </tr>\n",
       "    <tr>\n",
       "      <th>45913</th>\n",
       "      <td>2020-03-12</td>\n",
       "      <td>Fairfield</td>\n",
       "      <td>CT</td>\n",
       "      <td>Connecticut</td>\n",
       "      <td>9001.0</td>\n",
       "      <td>5</td>\n",
       "      <td>0.0</td>\n",
       "      <td>957419</td>\n",
       "    </tr>\n",
       "  </tbody>\n",
       "</table>\n",
       "</div>"
      ],
      "text/plain": [
       "            date     county code        state    fips  cases  deaths  \\\n",
       "45909 2020-03-08  Fairfield   CT  Connecticut  9001.0      1     0.0   \n",
       "45910 2020-03-09  Fairfield   CT  Connecticut  9001.0      2     0.0   \n",
       "45911 2020-03-10  Fairfield   CT  Connecticut  9001.0      2     0.0   \n",
       "45912 2020-03-11  Fairfield   CT  Connecticut  9001.0      3     0.0   \n",
       "45913 2020-03-12  Fairfield   CT  Connecticut  9001.0      5     0.0   \n",
       "\n",
       "       total_population  \n",
       "45909            957419  \n",
       "45910            957419  \n",
       "45911            957419  \n",
       "45912            957419  \n",
       "45913            957419  "
      ]
     },
     "execution_count": 102,
     "metadata": {},
     "output_type": "execute_result"
    }
   ],
   "source": [
    "df_merged.query('code == \"CT\"').head()"
   ]
  },
  {
   "cell_type": "code",
   "execution_count": 103,
   "id": "cfa34e67",
   "metadata": {},
   "outputs": [],
   "source": [
    "df_merged.to_csv('/Users/Kaemyuijang/SCMA248/Data/US_covid19_part2.csv')"
   ]
  },
  {
   "cell_type": "code",
   "execution_count": 104,
   "id": "1672ec2f",
   "metadata": {},
   "outputs": [],
   "source": [
    "path = '/Users/Kaemyuijang/SCMA248/Data/US_covid19_part2.csv'\n",
    "\n",
    "final = pd.read_csv(path, parse_dates=True, index_col = 'date')"
   ]
  },
  {
   "cell_type": "code",
   "execution_count": 105,
   "id": "fa802d68",
   "metadata": {},
   "outputs": [
    {
     "data": {
      "text/plain": [
       "Unnamed: 0          0\n",
       "county              0\n",
       "code                0\n",
       "state               0\n",
       "fips                0\n",
       "cases               0\n",
       "deaths              0\n",
       "total_population    0\n",
       "dtype: int64"
      ]
     },
     "execution_count": 105,
     "metadata": {},
     "output_type": "execute_result"
    }
   ],
   "source": [
    "final.isnull().sum()"
   ]
  },
  {
   "cell_type": "code",
   "execution_count": null,
   "id": "84e24c64",
   "metadata": {},
   "outputs": [],
   "source": []
  },
  {
   "cell_type": "code",
   "execution_count": null,
   "id": "d3269597",
   "metadata": {},
   "outputs": [],
   "source": []
  },
  {
   "cell_type": "code",
   "execution_count": null,
   "id": "6fe41611",
   "metadata": {},
   "outputs": [],
   "source": []
  },
  {
   "cell_type": "markdown",
   "id": "a302a117",
   "metadata": {},
   "source": [
    "#### Working on the merged DataFrame"
   ]
  },
  {
   "cell_type": "code",
   "execution_count": 106,
   "id": "f3fe0d20",
   "metadata": {},
   "outputs": [],
   "source": [
    "df = df_merged"
   ]
  },
  {
   "cell_type": "code",
   "execution_count": 107,
   "id": "a9b3519c",
   "metadata": {},
   "outputs": [
    {
     "data": {
      "text/html": [
       "<div>\n",
       "<style scoped>\n",
       "    .dataframe tbody tr th:only-of-type {\n",
       "        vertical-align: middle;\n",
       "    }\n",
       "\n",
       "    .dataframe tbody tr th {\n",
       "        vertical-align: top;\n",
       "    }\n",
       "\n",
       "    .dataframe thead th {\n",
       "        text-align: right;\n",
       "    }\n",
       "</style>\n",
       "<table border=\"1\" class=\"dataframe\">\n",
       "  <thead>\n",
       "    <tr style=\"text-align: right;\">\n",
       "      <th></th>\n",
       "      <th>county</th>\n",
       "      <th>code</th>\n",
       "      <th>state</th>\n",
       "      <th>fips</th>\n",
       "      <th>cases</th>\n",
       "      <th>deaths</th>\n",
       "      <th>total_population</th>\n",
       "    </tr>\n",
       "    <tr>\n",
       "      <th>date</th>\n",
       "      <th></th>\n",
       "      <th></th>\n",
       "      <th></th>\n",
       "      <th></th>\n",
       "      <th></th>\n",
       "      <th></th>\n",
       "      <th></th>\n",
       "    </tr>\n",
       "  </thead>\n",
       "  <tbody>\n",
       "    <tr>\n",
       "      <th>2020-01-21</th>\n",
       "      <td>Snohomish</td>\n",
       "      <td>WA</td>\n",
       "      <td>Washington</td>\n",
       "      <td>53061.0</td>\n",
       "      <td>1</td>\n",
       "      <td>0.0</td>\n",
       "      <td>827957</td>\n",
       "    </tr>\n",
       "    <tr>\n",
       "      <th>2020-01-22</th>\n",
       "      <td>Snohomish</td>\n",
       "      <td>WA</td>\n",
       "      <td>Washington</td>\n",
       "      <td>53061.0</td>\n",
       "      <td>1</td>\n",
       "      <td>0.0</td>\n",
       "      <td>827957</td>\n",
       "    </tr>\n",
       "    <tr>\n",
       "      <th>2020-01-23</th>\n",
       "      <td>Snohomish</td>\n",
       "      <td>WA</td>\n",
       "      <td>Washington</td>\n",
       "      <td>53061.0</td>\n",
       "      <td>1</td>\n",
       "      <td>0.0</td>\n",
       "      <td>827957</td>\n",
       "    </tr>\n",
       "    <tr>\n",
       "      <th>2020-01-24</th>\n",
       "      <td>Snohomish</td>\n",
       "      <td>WA</td>\n",
       "      <td>Washington</td>\n",
       "      <td>53061.0</td>\n",
       "      <td>1</td>\n",
       "      <td>0.0</td>\n",
       "      <td>827957</td>\n",
       "    </tr>\n",
       "    <tr>\n",
       "      <th>2020-01-25</th>\n",
       "      <td>Snohomish</td>\n",
       "      <td>WA</td>\n",
       "      <td>Washington</td>\n",
       "      <td>53061.0</td>\n",
       "      <td>1</td>\n",
       "      <td>0.0</td>\n",
       "      <td>827957</td>\n",
       "    </tr>\n",
       "    <tr>\n",
       "      <th>...</th>\n",
       "      <td>...</td>\n",
       "      <td>...</td>\n",
       "      <td>...</td>\n",
       "      <td>...</td>\n",
       "      <td>...</td>\n",
       "      <td>...</td>\n",
       "      <td>...</td>\n",
       "    </tr>\n",
       "    <tr>\n",
       "      <th>2022-02-21</th>\n",
       "      <td>Loving</td>\n",
       "      <td>TX</td>\n",
       "      <td>Texas</td>\n",
       "      <td>48301.0</td>\n",
       "      <td>157</td>\n",
       "      <td>0.0</td>\n",
       "      <td>64</td>\n",
       "    </tr>\n",
       "    <tr>\n",
       "      <th>2022-02-22</th>\n",
       "      <td>Loving</td>\n",
       "      <td>TX</td>\n",
       "      <td>Texas</td>\n",
       "      <td>48301.0</td>\n",
       "      <td>162</td>\n",
       "      <td>0.0</td>\n",
       "      <td>64</td>\n",
       "    </tr>\n",
       "    <tr>\n",
       "      <th>2022-02-23</th>\n",
       "      <td>Loving</td>\n",
       "      <td>TX</td>\n",
       "      <td>Texas</td>\n",
       "      <td>48301.0</td>\n",
       "      <td>163</td>\n",
       "      <td>0.0</td>\n",
       "      <td>64</td>\n",
       "    </tr>\n",
       "    <tr>\n",
       "      <th>2022-02-24</th>\n",
       "      <td>Loving</td>\n",
       "      <td>TX</td>\n",
       "      <td>Texas</td>\n",
       "      <td>48301.0</td>\n",
       "      <td>164</td>\n",
       "      <td>0.0</td>\n",
       "      <td>64</td>\n",
       "    </tr>\n",
       "    <tr>\n",
       "      <th>2022-02-25</th>\n",
       "      <td>Loving</td>\n",
       "      <td>TX</td>\n",
       "      <td>Texas</td>\n",
       "      <td>48301.0</td>\n",
       "      <td>164</td>\n",
       "      <td>0.0</td>\n",
       "      <td>64</td>\n",
       "    </tr>\n",
       "  </tbody>\n",
       "</table>\n",
       "<p>1312449 rows × 7 columns</p>\n",
       "</div>"
      ],
      "text/plain": [
       "               county code       state     fips  cases  deaths  \\\n",
       "date                                                             \n",
       "2020-01-21  Snohomish   WA  Washington  53061.0      1     0.0   \n",
       "2020-01-22  Snohomish   WA  Washington  53061.0      1     0.0   \n",
       "2020-01-23  Snohomish   WA  Washington  53061.0      1     0.0   \n",
       "2020-01-24  Snohomish   WA  Washington  53061.0      1     0.0   \n",
       "2020-01-25  Snohomish   WA  Washington  53061.0      1     0.0   \n",
       "...               ...  ...         ...      ...    ...     ...   \n",
       "2022-02-21     Loving   TX       Texas  48301.0    157     0.0   \n",
       "2022-02-22     Loving   TX       Texas  48301.0    162     0.0   \n",
       "2022-02-23     Loving   TX       Texas  48301.0    163     0.0   \n",
       "2022-02-24     Loving   TX       Texas  48301.0    164     0.0   \n",
       "2022-02-25     Loving   TX       Texas  48301.0    164     0.0   \n",
       "\n",
       "            total_population  \n",
       "date                          \n",
       "2020-01-21            827957  \n",
       "2020-01-22            827957  \n",
       "2020-01-23            827957  \n",
       "2020-01-24            827957  \n",
       "2020-01-25            827957  \n",
       "...                      ...  \n",
       "2022-02-21                64  \n",
       "2022-02-22                64  \n",
       "2022-02-23                64  \n",
       "2022-02-24                64  \n",
       "2022-02-25                64  \n",
       "\n",
       "[1312449 rows x 7 columns]"
      ]
     },
     "execution_count": 107,
     "metadata": {},
     "output_type": "execute_result"
    }
   ],
   "source": [
    "df.set_index('date')"
   ]
  },
  {
   "cell_type": "markdown",
   "id": "4bb53f58",
   "metadata": {},
   "source": [
    "Q: Write Python to check for NaN values after adding 'total_population' to the Covid-19 dataset."
   ]
  },
  {
   "cell_type": "code",
   "execution_count": 108,
   "id": "68ffc01b",
   "metadata": {},
   "outputs": [
    {
     "data": {
      "text/plain": [
       "date                0\n",
       "county              0\n",
       "code                0\n",
       "state               0\n",
       "fips                0\n",
       "cases               0\n",
       "deaths              0\n",
       "total_population    0\n",
       "dtype: int64"
      ]
     },
     "execution_count": 108,
     "metadata": {},
     "output_type": "execute_result"
    }
   ],
   "source": [
    "df.isnull().sum()"
   ]
  },
  {
   "cell_type": "code",
   "execution_count": 109,
   "id": "8136d8d6",
   "metadata": {},
   "outputs": [
    {
     "data": {
      "text/html": [
       "<div>\n",
       "<style scoped>\n",
       "    .dataframe tbody tr th:only-of-type {\n",
       "        vertical-align: middle;\n",
       "    }\n",
       "\n",
       "    .dataframe tbody tr th {\n",
       "        vertical-align: top;\n",
       "    }\n",
       "\n",
       "    .dataframe thead th {\n",
       "        text-align: right;\n",
       "    }\n",
       "</style>\n",
       "<table border=\"1\" class=\"dataframe\">\n",
       "  <thead>\n",
       "    <tr style=\"text-align: right;\">\n",
       "      <th></th>\n",
       "      <th>date</th>\n",
       "      <th>county</th>\n",
       "      <th>code</th>\n",
       "      <th>state</th>\n",
       "      <th>fips</th>\n",
       "      <th>cases</th>\n",
       "      <th>deaths</th>\n",
       "      <th>total_population</th>\n",
       "    </tr>\n",
       "  </thead>\n",
       "  <tbody>\n",
       "    <tr>\n",
       "      <th>0</th>\n",
       "      <td>2020-01-21</td>\n",
       "      <td>Snohomish</td>\n",
       "      <td>WA</td>\n",
       "      <td>Washington</td>\n",
       "      <td>53061.0</td>\n",
       "      <td>1</td>\n",
       "      <td>0.0</td>\n",
       "      <td>827957</td>\n",
       "    </tr>\n",
       "    <tr>\n",
       "      <th>1</th>\n",
       "      <td>2020-01-22</td>\n",
       "      <td>Snohomish</td>\n",
       "      <td>WA</td>\n",
       "      <td>Washington</td>\n",
       "      <td>53061.0</td>\n",
       "      <td>1</td>\n",
       "      <td>0.0</td>\n",
       "      <td>827957</td>\n",
       "    </tr>\n",
       "    <tr>\n",
       "      <th>2</th>\n",
       "      <td>2020-01-23</td>\n",
       "      <td>Snohomish</td>\n",
       "      <td>WA</td>\n",
       "      <td>Washington</td>\n",
       "      <td>53061.0</td>\n",
       "      <td>1</td>\n",
       "      <td>0.0</td>\n",
       "      <td>827957</td>\n",
       "    </tr>\n",
       "    <tr>\n",
       "      <th>3</th>\n",
       "      <td>2020-01-24</td>\n",
       "      <td>Snohomish</td>\n",
       "      <td>WA</td>\n",
       "      <td>Washington</td>\n",
       "      <td>53061.0</td>\n",
       "      <td>1</td>\n",
       "      <td>0.0</td>\n",
       "      <td>827957</td>\n",
       "    </tr>\n",
       "    <tr>\n",
       "      <th>4</th>\n",
       "      <td>2020-01-25</td>\n",
       "      <td>Snohomish</td>\n",
       "      <td>WA</td>\n",
       "      <td>Washington</td>\n",
       "      <td>53061.0</td>\n",
       "      <td>1</td>\n",
       "      <td>0.0</td>\n",
       "      <td>827957</td>\n",
       "    </tr>\n",
       "  </tbody>\n",
       "</table>\n",
       "</div>"
      ],
      "text/plain": [
       "        date     county code       state     fips  cases  deaths  \\\n",
       "0 2020-01-21  Snohomish   WA  Washington  53061.0      1     0.0   \n",
       "1 2020-01-22  Snohomish   WA  Washington  53061.0      1     0.0   \n",
       "2 2020-01-23  Snohomish   WA  Washington  53061.0      1     0.0   \n",
       "3 2020-01-24  Snohomish   WA  Washington  53061.0      1     0.0   \n",
       "4 2020-01-25  Snohomish   WA  Washington  53061.0      1     0.0   \n",
       "\n",
       "   total_population  \n",
       "0            827957  \n",
       "1            827957  \n",
       "2            827957  \n",
       "3            827957  \n",
       "4            827957  "
      ]
     },
     "execution_count": 109,
     "metadata": {},
     "output_type": "execute_result"
    }
   ],
   "source": [
    "df.head()"
   ]
  },
  {
   "cell_type": "code",
   "execution_count": 110,
   "id": "7db15f52",
   "metadata": {},
   "outputs": [
    {
     "data": {
      "text/plain": [
       "35"
      ]
     },
     "execution_count": 110,
     "metadata": {},
     "output_type": "execute_result"
    }
   ],
   "source": [
    "len(df.query('code == \"CA\"').county.unique())"
   ]
  },
  {
   "cell_type": "code",
   "execution_count": null,
   "id": "ba28298f",
   "metadata": {},
   "outputs": [],
   "source": []
  },
  {
   "cell_type": "code",
   "execution_count": null,
   "id": "9afb532a",
   "metadata": {},
   "outputs": [],
   "source": []
  },
  {
   "cell_type": "code",
   "execution_count": null,
   "id": "eb489bd9",
   "metadata": {},
   "outputs": [],
   "source": []
  },
  {
   "cell_type": "code",
   "execution_count": 111,
   "id": "78d0b2ed",
   "metadata": {},
   "outputs": [
    {
     "name": "stdout",
     "output_type": "stream",
     "text": [
      "<class 'pandas.core.frame.DataFrame'>\n",
      "Int64Index: 1312449 entries, 0 to 1312448\n",
      "Data columns (total 8 columns):\n",
      " #   Column            Non-Null Count    Dtype         \n",
      "---  ------            --------------    -----         \n",
      " 0   date              1312449 non-null  datetime64[ns]\n",
      " 1   county            1312449 non-null  object        \n",
      " 2   code              1312449 non-null  object        \n",
      " 3   state             1312449 non-null  object        \n",
      " 4   fips              1312449 non-null  float64       \n",
      " 5   cases             1312449 non-null  int64         \n",
      " 6   deaths            1312449 non-null  float64       \n",
      " 7   total_population  1312449 non-null  int64         \n",
      "dtypes: datetime64[ns](1), float64(2), int64(2), object(3)\n",
      "memory usage: 90.1+ MB\n"
     ]
    }
   ],
   "source": [
    "df.info()"
   ]
  },
  {
   "cell_type": "code",
   "execution_count": 112,
   "id": "6df6f382",
   "metadata": {},
   "outputs": [
    {
     "data": {
      "text/plain": [
       "Int64Index([      0,       1,       2,       3,       4,       5,       6,\n",
       "                  7,       8,       9,\n",
       "            ...\n",
       "            1312439, 1312440, 1312441, 1312442, 1312443, 1312444, 1312445,\n",
       "            1312446, 1312447, 1312448],\n",
       "           dtype='int64', length=1312449)"
      ]
     },
     "execution_count": 112,
     "metadata": {},
     "output_type": "execute_result"
    }
   ],
   "source": [
    "df.index"
   ]
  },
  {
   "cell_type": "code",
   "execution_count": 113,
   "id": "741330d5",
   "metadata": {},
   "outputs": [
    {
     "data": {
      "image/png": "[encoded data removed]",
      "text/plain": [
       "<Figure size 640x480 with 1 Axes>"
      ]
     },
     "metadata": {},
     "output_type": "display_data"
    },
    {
     "data": {
      "text/plain": [
       "<ggplot: (311076877)>"
      ]
     },
     "execution_count": 113,
     "metadata": {},
     "output_type": "execute_result"
    }
   ],
   "source": [
    "df_Snohomish = df.query('county == \"Snohomish\"')\n",
    "\n",
    "\n",
    "df_Snohomish['lag'] = df_Snohomish.cases.shift(1).fillna(0)\n",
    "df_Snohomish['daily_cases'] = df_Snohomish.cases - df_Snohomish.lag\n",
    "\n",
    "(\n",
    "    ggplot(df_Snohomish) \n",
    "    + aes(x = df_Snohomish.index, y = 'cases') \n",
    "    + geom_line() \n",
    "    + theme(axis_text_x=element_text(rotation=90, hjust=1)) \n",
    "    + labs(x = \"Cases\", y = \"Total Coronavirus Cases\", title =\"Total Coronavirus Cases in Snohomish\")\n",
    ")\n",
    "\n",
    "#print(df_Snohomish.tail(10))\n",
    "\n",
    "#df_Snohomish.query('daily_cases<0')"
   ]
  },
  {
   "cell_type": "code",
   "execution_count": 114,
   "id": "253d948d",
   "metadata": {},
   "outputs": [
    {
     "data": {
      "image/png": "[encoded data removed]",
      "text/plain": [
       "<Figure size 640x480 with 1 Axes>"
      ]
     },
     "metadata": {},
     "output_type": "display_data"
    },
    {
     "data": {
      "text/plain": [
       "<ggplot: (298562257)>"
      ]
     },
     "execution_count": 114,
     "metadata": {},
     "output_type": "execute_result"
    }
   ],
   "source": [
    "(\n",
    "    ggplot(df_Snohomish) \n",
    "    + aes(x = df_Snohomish.index, y = 'cases') \n",
    "    + geom_line() \n",
    "    + theme(axis_text_x=element_text(rotation=90, hjust=1)) \n",
    "    + labs(x = \"Cases\", y = \"Total Coronavirus Cases\", title =\"Total Coronavirus Cases in Snohomish \\n (logarithmic scale)\")\n",
    "    + scale_y_continuous(trans = \"log10\")\n",
    ")\n"
   ]
  },
  {
   "cell_type": "code",
   "execution_count": 115,
   "id": "63c0671b",
   "metadata": {},
   "outputs": [
    {
     "data": {
      "image/png": "[encoded data removed]",
      "text/plain": [
       "<Figure size 640x480 with 1 Axes>"
      ]
     },
     "metadata": {},
     "output_type": "display_data"
    },
    {
     "data": {
      "text/plain": [
       "<ggplot: (311083657)>"
      ]
     },
     "execution_count": 115,
     "metadata": {},
     "output_type": "execute_result"
    }
   ],
   "source": [
    "(\n",
    "    ggplot(df_Snohomish) \n",
    "    + aes(x = df_Snohomish.index, y = 'daily_cases') \n",
    "    + geom_line() \n",
    "    + theme(axis_text_x=element_text(rotation=90, hjust=1)) \n",
    "    + labs(x = \"Cases\", y = \"New Coronavirus Daily Cases\", title =\"Daily New Cases in Snohomish\")\n",
    ")"
   ]
  },
  {
   "cell_type": "code",
   "execution_count": 116,
   "id": "19f6fa97",
   "metadata": {},
   "outputs": [
    {
     "data": {
      "text/plain": [
       "67       -1.0\n",
       "138      -1.0\n",
       "755   -1870.0\n",
       "757    -499.0\n",
       "759    -159.0\n",
       "Name: daily_cases, dtype: float64"
      ]
     },
     "execution_count": 116,
     "metadata": {},
     "output_type": "execute_result"
    }
   ],
   "source": [
    "df_Snohomish.daily_cases[df_Snohomish.daily_cases < 0]"
   ]
  },
  {
   "cell_type": "code",
   "execution_count": 117,
   "id": "1ec87774",
   "metadata": {},
   "outputs": [
    {
     "data": {
      "text/html": [
       "<div>\n",
       "<style scoped>\n",
       "    .dataframe tbody tr th:only-of-type {\n",
       "        vertical-align: middle;\n",
       "    }\n",
       "\n",
       "    .dataframe tbody tr th {\n",
       "        vertical-align: top;\n",
       "    }\n",
       "\n",
       "    .dataframe thead th {\n",
       "        text-align: right;\n",
       "    }\n",
       "</style>\n",
       "<table border=\"1\" class=\"dataframe\">\n",
       "  <thead>\n",
       "    <tr style=\"text-align: right;\">\n",
       "      <th></th>\n",
       "      <th>date</th>\n",
       "      <th>county</th>\n",
       "      <th>code</th>\n",
       "      <th>state</th>\n",
       "      <th>fips</th>\n",
       "      <th>cases</th>\n",
       "      <th>deaths</th>\n",
       "      <th>total_population</th>\n",
       "      <th>lag</th>\n",
       "      <th>daily_cases</th>\n",
       "    </tr>\n",
       "  </thead>\n",
       "  <tbody>\n",
       "  </tbody>\n",
       "</table>\n",
       "</div>"
      ],
      "text/plain": [
       "Empty DataFrame\n",
       "Columns: [date, county, code, state, fips, cases, deaths, total_population, lag, daily_cases]\n",
       "Index: []"
      ]
     },
     "execution_count": 117,
     "metadata": {},
     "output_type": "execute_result"
    }
   ],
   "source": [
    "df_Snohomish.loc['2022-02-01':'2022-02-18']"
   ]
  },
  {
   "cell_type": "code",
   "execution_count": 118,
   "id": "d74c7579",
   "metadata": {},
   "outputs": [
    {
     "data": {
      "text/html": [
       "<div>\n",
       "<style scoped>\n",
       "    .dataframe tbody tr th:only-of-type {\n",
       "        vertical-align: middle;\n",
       "    }\n",
       "\n",
       "    .dataframe tbody tr th {\n",
       "        vertical-align: top;\n",
       "    }\n",
       "\n",
       "    .dataframe thead th {\n",
       "        text-align: right;\n",
       "    }\n",
       "</style>\n",
       "<table border=\"1\" class=\"dataframe\">\n",
       "  <thead>\n",
       "    <tr style=\"text-align: right;\">\n",
       "      <th></th>\n",
       "      <th>date</th>\n",
       "      <th>county</th>\n",
       "      <th>code</th>\n",
       "      <th>state</th>\n",
       "      <th>fips</th>\n",
       "      <th>cases</th>\n",
       "      <th>deaths</th>\n",
       "      <th>total_population</th>\n",
       "    </tr>\n",
       "  </thead>\n",
       "  <tbody>\n",
       "    <tr>\n",
       "      <th>0</th>\n",
       "      <td>2020-01-21</td>\n",
       "      <td>Snohomish</td>\n",
       "      <td>WA</td>\n",
       "      <td>Washington</td>\n",
       "      <td>53061.0</td>\n",
       "      <td>1</td>\n",
       "      <td>0.0</td>\n",
       "      <td>827957</td>\n",
       "    </tr>\n",
       "    <tr>\n",
       "      <th>1</th>\n",
       "      <td>2020-01-22</td>\n",
       "      <td>Snohomish</td>\n",
       "      <td>WA</td>\n",
       "      <td>Washington</td>\n",
       "      <td>53061.0</td>\n",
       "      <td>1</td>\n",
       "      <td>0.0</td>\n",
       "      <td>827957</td>\n",
       "    </tr>\n",
       "    <tr>\n",
       "      <th>2</th>\n",
       "      <td>2020-01-23</td>\n",
       "      <td>Snohomish</td>\n",
       "      <td>WA</td>\n",
       "      <td>Washington</td>\n",
       "      <td>53061.0</td>\n",
       "      <td>1</td>\n",
       "      <td>0.0</td>\n",
       "      <td>827957</td>\n",
       "    </tr>\n",
       "    <tr>\n",
       "      <th>3</th>\n",
       "      <td>2020-01-24</td>\n",
       "      <td>Snohomish</td>\n",
       "      <td>WA</td>\n",
       "      <td>Washington</td>\n",
       "      <td>53061.0</td>\n",
       "      <td>1</td>\n",
       "      <td>0.0</td>\n",
       "      <td>827957</td>\n",
       "    </tr>\n",
       "    <tr>\n",
       "      <th>4</th>\n",
       "      <td>2020-01-25</td>\n",
       "      <td>Snohomish</td>\n",
       "      <td>WA</td>\n",
       "      <td>Washington</td>\n",
       "      <td>53061.0</td>\n",
       "      <td>1</td>\n",
       "      <td>0.0</td>\n",
       "      <td>827957</td>\n",
       "    </tr>\n",
       "    <tr>\n",
       "      <th>5</th>\n",
       "      <td>2020-01-26</td>\n",
       "      <td>Snohomish</td>\n",
       "      <td>WA</td>\n",
       "      <td>Washington</td>\n",
       "      <td>53061.0</td>\n",
       "      <td>1</td>\n",
       "      <td>0.0</td>\n",
       "      <td>827957</td>\n",
       "    </tr>\n",
       "    <tr>\n",
       "      <th>6</th>\n",
       "      <td>2020-01-27</td>\n",
       "      <td>Snohomish</td>\n",
       "      <td>WA</td>\n",
       "      <td>Washington</td>\n",
       "      <td>53061.0</td>\n",
       "      <td>1</td>\n",
       "      <td>0.0</td>\n",
       "      <td>827957</td>\n",
       "    </tr>\n",
       "    <tr>\n",
       "      <th>7</th>\n",
       "      <td>2020-01-28</td>\n",
       "      <td>Snohomish</td>\n",
       "      <td>WA</td>\n",
       "      <td>Washington</td>\n",
       "      <td>53061.0</td>\n",
       "      <td>1</td>\n",
       "      <td>0.0</td>\n",
       "      <td>827957</td>\n",
       "    </tr>\n",
       "    <tr>\n",
       "      <th>8</th>\n",
       "      <td>2020-01-29</td>\n",
       "      <td>Snohomish</td>\n",
       "      <td>WA</td>\n",
       "      <td>Washington</td>\n",
       "      <td>53061.0</td>\n",
       "      <td>1</td>\n",
       "      <td>0.0</td>\n",
       "      <td>827957</td>\n",
       "    </tr>\n",
       "    <tr>\n",
       "      <th>9</th>\n",
       "      <td>2020-01-30</td>\n",
       "      <td>Snohomish</td>\n",
       "      <td>WA</td>\n",
       "      <td>Washington</td>\n",
       "      <td>53061.0</td>\n",
       "      <td>1</td>\n",
       "      <td>0.0</td>\n",
       "      <td>827957</td>\n",
       "    </tr>\n",
       "    <tr>\n",
       "      <th>10</th>\n",
       "      <td>2020-01-31</td>\n",
       "      <td>Snohomish</td>\n",
       "      <td>WA</td>\n",
       "      <td>Washington</td>\n",
       "      <td>53061.0</td>\n",
       "      <td>1</td>\n",
       "      <td>0.0</td>\n",
       "      <td>827957</td>\n",
       "    </tr>\n",
       "    <tr>\n",
       "      <th>11</th>\n",
       "      <td>2020-02-01</td>\n",
       "      <td>Snohomish</td>\n",
       "      <td>WA</td>\n",
       "      <td>Washington</td>\n",
       "      <td>53061.0</td>\n",
       "      <td>1</td>\n",
       "      <td>0.0</td>\n",
       "      <td>827957</td>\n",
       "    </tr>\n",
       "    <tr>\n",
       "      <th>12</th>\n",
       "      <td>2020-02-02</td>\n",
       "      <td>Snohomish</td>\n",
       "      <td>WA</td>\n",
       "      <td>Washington</td>\n",
       "      <td>53061.0</td>\n",
       "      <td>1</td>\n",
       "      <td>0.0</td>\n",
       "      <td>827957</td>\n",
       "    </tr>\n",
       "    <tr>\n",
       "      <th>13</th>\n",
       "      <td>2020-02-03</td>\n",
       "      <td>Snohomish</td>\n",
       "      <td>WA</td>\n",
       "      <td>Washington</td>\n",
       "      <td>53061.0</td>\n",
       "      <td>1</td>\n",
       "      <td>0.0</td>\n",
       "      <td>827957</td>\n",
       "    </tr>\n",
       "    <tr>\n",
       "      <th>14</th>\n",
       "      <td>2020-02-04</td>\n",
       "      <td>Snohomish</td>\n",
       "      <td>WA</td>\n",
       "      <td>Washington</td>\n",
       "      <td>53061.0</td>\n",
       "      <td>1</td>\n",
       "      <td>0.0</td>\n",
       "      <td>827957</td>\n",
       "    </tr>\n",
       "    <tr>\n",
       "      <th>15</th>\n",
       "      <td>2020-02-05</td>\n",
       "      <td>Snohomish</td>\n",
       "      <td>WA</td>\n",
       "      <td>Washington</td>\n",
       "      <td>53061.0</td>\n",
       "      <td>1</td>\n",
       "      <td>0.0</td>\n",
       "      <td>827957</td>\n",
       "    </tr>\n",
       "    <tr>\n",
       "      <th>16</th>\n",
       "      <td>2020-02-06</td>\n",
       "      <td>Snohomish</td>\n",
       "      <td>WA</td>\n",
       "      <td>Washington</td>\n",
       "      <td>53061.0</td>\n",
       "      <td>1</td>\n",
       "      <td>0.0</td>\n",
       "      <td>827957</td>\n",
       "    </tr>\n",
       "    <tr>\n",
       "      <th>17</th>\n",
       "      <td>2020-02-07</td>\n",
       "      <td>Snohomish</td>\n",
       "      <td>WA</td>\n",
       "      <td>Washington</td>\n",
       "      <td>53061.0</td>\n",
       "      <td>1</td>\n",
       "      <td>0.0</td>\n",
       "      <td>827957</td>\n",
       "    </tr>\n",
       "    <tr>\n",
       "      <th>18</th>\n",
       "      <td>2020-02-08</td>\n",
       "      <td>Snohomish</td>\n",
       "      <td>WA</td>\n",
       "      <td>Washington</td>\n",
       "      <td>53061.0</td>\n",
       "      <td>1</td>\n",
       "      <td>0.0</td>\n",
       "      <td>827957</td>\n",
       "    </tr>\n",
       "    <tr>\n",
       "      <th>19</th>\n",
       "      <td>2020-02-09</td>\n",
       "      <td>Snohomish</td>\n",
       "      <td>WA</td>\n",
       "      <td>Washington</td>\n",
       "      <td>53061.0</td>\n",
       "      <td>1</td>\n",
       "      <td>0.0</td>\n",
       "      <td>827957</td>\n",
       "    </tr>\n",
       "  </tbody>\n",
       "</table>\n",
       "</div>"
      ],
      "text/plain": [
       "         date     county code       state     fips  cases  deaths  \\\n",
       "0  2020-01-21  Snohomish   WA  Washington  53061.0      1     0.0   \n",
       "1  2020-01-22  Snohomish   WA  Washington  53061.0      1     0.0   \n",
       "2  2020-01-23  Snohomish   WA  Washington  53061.0      1     0.0   \n",
       "3  2020-01-24  Snohomish   WA  Washington  53061.0      1     0.0   \n",
       "4  2020-01-25  Snohomish   WA  Washington  53061.0      1     0.0   \n",
       "5  2020-01-26  Snohomish   WA  Washington  53061.0      1     0.0   \n",
       "6  2020-01-27  Snohomish   WA  Washington  53061.0      1     0.0   \n",
       "7  2020-01-28  Snohomish   WA  Washington  53061.0      1     0.0   \n",
       "8  2020-01-29  Snohomish   WA  Washington  53061.0      1     0.0   \n",
       "9  2020-01-30  Snohomish   WA  Washington  53061.0      1     0.0   \n",
       "10 2020-01-31  Snohomish   WA  Washington  53061.0      1     0.0   \n",
       "11 2020-02-01  Snohomish   WA  Washington  53061.0      1     0.0   \n",
       "12 2020-02-02  Snohomish   WA  Washington  53061.0      1     0.0   \n",
       "13 2020-02-03  Snohomish   WA  Washington  53061.0      1     0.0   \n",
       "14 2020-02-04  Snohomish   WA  Washington  53061.0      1     0.0   \n",
       "15 2020-02-05  Snohomish   WA  Washington  53061.0      1     0.0   \n",
       "16 2020-02-06  Snohomish   WA  Washington  53061.0      1     0.0   \n",
       "17 2020-02-07  Snohomish   WA  Washington  53061.0      1     0.0   \n",
       "18 2020-02-08  Snohomish   WA  Washington  53061.0      1     0.0   \n",
       "19 2020-02-09  Snohomish   WA  Washington  53061.0      1     0.0   \n",
       "\n",
       "    total_population  \n",
       "0             827957  \n",
       "1             827957  \n",
       "2             827957  \n",
       "3             827957  \n",
       "4             827957  \n",
       "5             827957  \n",
       "6             827957  \n",
       "7             827957  \n",
       "8             827957  \n",
       "9             827957  \n",
       "10            827957  \n",
       "11            827957  \n",
       "12            827957  \n",
       "13            827957  \n",
       "14            827957  \n",
       "15            827957  \n",
       "16            827957  \n",
       "17            827957  \n",
       "18            827957  \n",
       "19            827957  "
      ]
     },
     "execution_count": 118,
     "metadata": {},
     "output_type": "execute_result"
    }
   ],
   "source": [
    "df.query('state==\"Washington\"').head(20)"
   ]
  },
  {
   "cell_type": "code",
   "execution_count": null,
   "id": "6c1655a4",
   "metadata": {},
   "outputs": [],
   "source": []
  },
  {
   "cell_type": "code",
   "execution_count": 119,
   "id": "f3c0af7f",
   "metadata": {},
   "outputs": [],
   "source": [
    "path = '/Users/Kaemyuijang/SCMA248/Data/us-counties.csv'\n",
    "\n",
    "#df = pd.read_csv(path, parse_dates=True, index_col = 'date')\n",
    "\n",
    "df = pd.read_csv(path, parse_dates=['date'])"
   ]
  },
  {
   "cell_type": "code",
   "execution_count": 120,
   "id": "f6a89e4f",
   "metadata": {},
   "outputs": [],
   "source": [
    "df_Snohomish = df.query('county == \"Snohomish\"')\n",
    "\n",
    "df_Snohomish['lag'] = df_Snohomish.cases.shift(1).fillna(0)\n",
    "df_Snohomish['daily_cases'] = df_Snohomish.cases - df_Snohomish.lag"
   ]
  },
  {
   "cell_type": "code",
   "execution_count": 121,
   "id": "81f7c302",
   "metadata": {},
   "outputs": [],
   "source": [
    "pd_merge = pd.merge(df,df_Snohomish, how = 'left', on = ['date','county'])"
   ]
  },
  {
   "cell_type": "code",
   "execution_count": 122,
   "id": "4396849a",
   "metadata": {},
   "outputs": [
    {
     "data": {
      "text/html": [
       "<div>\n",
       "<style scoped>\n",
       "    .dataframe tbody tr th:only-of-type {\n",
       "        vertical-align: middle;\n",
       "    }\n",
       "\n",
       "    .dataframe tbody tr th {\n",
       "        vertical-align: top;\n",
       "    }\n",
       "\n",
       "    .dataframe thead th {\n",
       "        text-align: right;\n",
       "    }\n",
       "</style>\n",
       "<table border=\"1\" class=\"dataframe\">\n",
       "  <thead>\n",
       "    <tr style=\"text-align: right;\">\n",
       "      <th></th>\n",
       "      <th>date</th>\n",
       "      <th>county</th>\n",
       "      <th>state_x</th>\n",
       "      <th>fips_x</th>\n",
       "      <th>cases_x</th>\n",
       "      <th>deaths_x</th>\n",
       "      <th>state_y</th>\n",
       "      <th>fips_y</th>\n",
       "      <th>cases_y</th>\n",
       "      <th>deaths_y</th>\n",
       "      <th>lag</th>\n",
       "      <th>daily_cases</th>\n",
       "    </tr>\n",
       "  </thead>\n",
       "  <tbody>\n",
       "    <tr>\n",
       "      <th>0</th>\n",
       "      <td>2020-01-21</td>\n",
       "      <td>Snohomish</td>\n",
       "      <td>Washington</td>\n",
       "      <td>53061.0</td>\n",
       "      <td>1</td>\n",
       "      <td>0.0</td>\n",
       "      <td>Washington</td>\n",
       "      <td>53061.0</td>\n",
       "      <td>1.0</td>\n",
       "      <td>0.0</td>\n",
       "      <td>0.0</td>\n",
       "      <td>1.0</td>\n",
       "    </tr>\n",
       "    <tr>\n",
       "      <th>1</th>\n",
       "      <td>2020-01-22</td>\n",
       "      <td>Snohomish</td>\n",
       "      <td>Washington</td>\n",
       "      <td>53061.0</td>\n",
       "      <td>1</td>\n",
       "      <td>0.0</td>\n",
       "      <td>Washington</td>\n",
       "      <td>53061.0</td>\n",
       "      <td>1.0</td>\n",
       "      <td>0.0</td>\n",
       "      <td>1.0</td>\n",
       "      <td>0.0</td>\n",
       "    </tr>\n",
       "    <tr>\n",
       "      <th>2</th>\n",
       "      <td>2020-01-23</td>\n",
       "      <td>Snohomish</td>\n",
       "      <td>Washington</td>\n",
       "      <td>53061.0</td>\n",
       "      <td>1</td>\n",
       "      <td>0.0</td>\n",
       "      <td>Washington</td>\n",
       "      <td>53061.0</td>\n",
       "      <td>1.0</td>\n",
       "      <td>0.0</td>\n",
       "      <td>1.0</td>\n",
       "      <td>0.0</td>\n",
       "    </tr>\n",
       "    <tr>\n",
       "      <th>4</th>\n",
       "      <td>2020-01-24</td>\n",
       "      <td>Snohomish</td>\n",
       "      <td>Washington</td>\n",
       "      <td>53061.0</td>\n",
       "      <td>1</td>\n",
       "      <td>0.0</td>\n",
       "      <td>Washington</td>\n",
       "      <td>53061.0</td>\n",
       "      <td>1.0</td>\n",
       "      <td>0.0</td>\n",
       "      <td>1.0</td>\n",
       "      <td>0.0</td>\n",
       "    </tr>\n",
       "    <tr>\n",
       "      <th>7</th>\n",
       "      <td>2020-01-25</td>\n",
       "      <td>Snohomish</td>\n",
       "      <td>Washington</td>\n",
       "      <td>53061.0</td>\n",
       "      <td>1</td>\n",
       "      <td>0.0</td>\n",
       "      <td>Washington</td>\n",
       "      <td>53061.0</td>\n",
       "      <td>1.0</td>\n",
       "      <td>0.0</td>\n",
       "      <td>1.0</td>\n",
       "      <td>0.0</td>\n",
       "    </tr>\n",
       "    <tr>\n",
       "      <th>...</th>\n",
       "      <td>...</td>\n",
       "      <td>...</td>\n",
       "      <td>...</td>\n",
       "      <td>...</td>\n",
       "      <td>...</td>\n",
       "      <td>...</td>\n",
       "      <td>...</td>\n",
       "      <td>...</td>\n",
       "      <td>...</td>\n",
       "      <td>...</td>\n",
       "      <td>...</td>\n",
       "      <td>...</td>\n",
       "    </tr>\n",
       "    <tr>\n",
       "      <th>2239078</th>\n",
       "      <td>2022-02-21</td>\n",
       "      <td>Snohomish</td>\n",
       "      <td>Washington</td>\n",
       "      <td>53061.0</td>\n",
       "      <td>145694</td>\n",
       "      <td>1034.0</td>\n",
       "      <td>Washington</td>\n",
       "      <td>53061.0</td>\n",
       "      <td>145694.0</td>\n",
       "      <td>1034.0</td>\n",
       "      <td>145694.0</td>\n",
       "      <td>0.0</td>\n",
       "    </tr>\n",
       "    <tr>\n",
       "      <th>2242330</th>\n",
       "      <td>2022-02-22</td>\n",
       "      <td>Snohomish</td>\n",
       "      <td>Washington</td>\n",
       "      <td>53061.0</td>\n",
       "      <td>145694</td>\n",
       "      <td>1034.0</td>\n",
       "      <td>Washington</td>\n",
       "      <td>53061.0</td>\n",
       "      <td>145694.0</td>\n",
       "      <td>1034.0</td>\n",
       "      <td>145694.0</td>\n",
       "      <td>0.0</td>\n",
       "    </tr>\n",
       "    <tr>\n",
       "      <th>2245582</th>\n",
       "      <td>2022-02-23</td>\n",
       "      <td>Snohomish</td>\n",
       "      <td>Washington</td>\n",
       "      <td>53061.0</td>\n",
       "      <td>146253</td>\n",
       "      <td>1046.0</td>\n",
       "      <td>Washington</td>\n",
       "      <td>53061.0</td>\n",
       "      <td>146253.0</td>\n",
       "      <td>1046.0</td>\n",
       "      <td>145694.0</td>\n",
       "      <td>559.0</td>\n",
       "    </tr>\n",
       "    <tr>\n",
       "      <th>2248834</th>\n",
       "      <td>2022-02-24</td>\n",
       "      <td>Snohomish</td>\n",
       "      <td>Washington</td>\n",
       "      <td>53061.0</td>\n",
       "      <td>146253</td>\n",
       "      <td>1046.0</td>\n",
       "      <td>Washington</td>\n",
       "      <td>53061.0</td>\n",
       "      <td>146253.0</td>\n",
       "      <td>1046.0</td>\n",
       "      <td>146253.0</td>\n",
       "      <td>0.0</td>\n",
       "    </tr>\n",
       "    <tr>\n",
       "      <th>2252086</th>\n",
       "      <td>2022-02-25</td>\n",
       "      <td>Snohomish</td>\n",
       "      <td>Washington</td>\n",
       "      <td>53061.0</td>\n",
       "      <td>146553</td>\n",
       "      <td>1054.0</td>\n",
       "      <td>Washington</td>\n",
       "      <td>53061.0</td>\n",
       "      <td>146553.0</td>\n",
       "      <td>1054.0</td>\n",
       "      <td>146253.0</td>\n",
       "      <td>300.0</td>\n",
       "    </tr>\n",
       "  </tbody>\n",
       "</table>\n",
       "<p>767 rows × 12 columns</p>\n",
       "</div>"
      ],
      "text/plain": [
       "              date     county     state_x   fips_x  cases_x  deaths_x  \\\n",
       "0       2020-01-21  Snohomish  Washington  53061.0        1       0.0   \n",
       "1       2020-01-22  Snohomish  Washington  53061.0        1       0.0   \n",
       "2       2020-01-23  Snohomish  Washington  53061.0        1       0.0   \n",
       "4       2020-01-24  Snohomish  Washington  53061.0        1       0.0   \n",
       "7       2020-01-25  Snohomish  Washington  53061.0        1       0.0   \n",
       "...            ...        ...         ...      ...      ...       ...   \n",
       "2239078 2022-02-21  Snohomish  Washington  53061.0   145694    1034.0   \n",
       "2242330 2022-02-22  Snohomish  Washington  53061.0   145694    1034.0   \n",
       "2245582 2022-02-23  Snohomish  Washington  53061.0   146253    1046.0   \n",
       "2248834 2022-02-24  Snohomish  Washington  53061.0   146253    1046.0   \n",
       "2252086 2022-02-25  Snohomish  Washington  53061.0   146553    1054.0   \n",
       "\n",
       "            state_y   fips_y   cases_y  deaths_y       lag  daily_cases  \n",
       "0        Washington  53061.0       1.0       0.0       0.0          1.0  \n",
       "1        Washington  53061.0       1.0       0.0       1.0          0.0  \n",
       "2        Washington  53061.0       1.0       0.0       1.0          0.0  \n",
       "4        Washington  53061.0       1.0       0.0       1.0          0.0  \n",
       "7        Washington  53061.0       1.0       0.0       1.0          0.0  \n",
       "...             ...      ...       ...       ...       ...          ...  \n",
       "2239078  Washington  53061.0  145694.0    1034.0  145694.0          0.0  \n",
       "2242330  Washington  53061.0  145694.0    1034.0  145694.0          0.0  \n",
       "2245582  Washington  53061.0  146253.0    1046.0  145694.0        559.0  \n",
       "2248834  Washington  53061.0  146253.0    1046.0  146253.0          0.0  \n",
       "2252086  Washington  53061.0  146553.0    1054.0  146253.0        300.0  \n",
       "\n",
       "[767 rows x 12 columns]"
      ]
     },
     "execution_count": 122,
     "metadata": {},
     "output_type": "execute_result"
    }
   ],
   "source": [
    "pd_merge.query('county == \"Snohomish\"')"
   ]
  },
  {
   "cell_type": "code",
   "execution_count": null,
   "id": "8807fc4f",
   "metadata": {},
   "outputs": [],
   "source": []
  },
  {
   "cell_type": "code",
   "execution_count": null,
   "id": "c5e79add",
   "metadata": {},
   "outputs": [],
   "source": []
  },
  {
   "cell_type": "code",
   "execution_count": null,
   "id": "1cf8e22d",
   "metadata": {},
   "outputs": [],
   "source": []
  },
  {
   "cell_type": "code",
   "execution_count": 123,
   "id": "8b23420c",
   "metadata": {},
   "outputs": [],
   "source": [
    "%matplotlib inline \n",
    "import matplotlib.pyplot as plt"
   ]
  },
  {
   "cell_type": "code",
   "execution_count": 124,
   "id": "93f2f60a",
   "metadata": {},
   "outputs": [],
   "source": [
    "df = pd.read_csv(path, parse_dates=['date'], index_col = 'date')\n",
    "\n",
    "df = df.query('county in [\"Snohomish\",\"Cook\"]')\n",
    "#df = df.query('county in [\"Snohomish\"]')"
   ]
  },
  {
   "cell_type": "code",
   "execution_count": 125,
   "id": "1dfaeea9",
   "metadata": {},
   "outputs": [
    {
     "data": {
      "text/html": [
       "<div>\n",
       "<style scoped>\n",
       "    .dataframe tbody tr th:only-of-type {\n",
       "        vertical-align: middle;\n",
       "    }\n",
       "\n",
       "    .dataframe tbody tr th {\n",
       "        vertical-align: top;\n",
       "    }\n",
       "\n",
       "    .dataframe thead th {\n",
       "        text-align: right;\n",
       "    }\n",
       "</style>\n",
       "<table border=\"1\" class=\"dataframe\">\n",
       "  <thead>\n",
       "    <tr style=\"text-align: right;\">\n",
       "      <th></th>\n",
       "      <th>county</th>\n",
       "      <th>state</th>\n",
       "      <th>fips</th>\n",
       "      <th>cases</th>\n",
       "      <th>deaths</th>\n",
       "    </tr>\n",
       "    <tr>\n",
       "      <th>date</th>\n",
       "      <th></th>\n",
       "      <th></th>\n",
       "      <th></th>\n",
       "      <th></th>\n",
       "      <th></th>\n",
       "    </tr>\n",
       "  </thead>\n",
       "  <tbody>\n",
       "    <tr>\n",
       "      <th>2022-02-01</th>\n",
       "      <td>Cook</td>\n",
       "      <td>Georgia</td>\n",
       "      <td>13075.0</td>\n",
       "      <td>4744</td>\n",
       "      <td>66.0</td>\n",
       "    </tr>\n",
       "    <tr>\n",
       "      <th>2022-02-01</th>\n",
       "      <td>Cook</td>\n",
       "      <td>Illinois</td>\n",
       "      <td>17031.0</td>\n",
       "      <td>1082395</td>\n",
       "      <td>13970.0</td>\n",
       "    </tr>\n",
       "    <tr>\n",
       "      <th>2022-02-01</th>\n",
       "      <td>Cook</td>\n",
       "      <td>Minnesota</td>\n",
       "      <td>27031.0</td>\n",
       "      <td>507</td>\n",
       "      <td>2.0</td>\n",
       "    </tr>\n",
       "    <tr>\n",
       "      <th>2022-02-01</th>\n",
       "      <td>Snohomish</td>\n",
       "      <td>Washington</td>\n",
       "      <td>53061.0</td>\n",
       "      <td>139881</td>\n",
       "      <td>948.0</td>\n",
       "    </tr>\n",
       "    <tr>\n",
       "      <th>2022-02-02</th>\n",
       "      <td>Cook</td>\n",
       "      <td>Georgia</td>\n",
       "      <td>13075.0</td>\n",
       "      <td>4764</td>\n",
       "      <td>66.0</td>\n",
       "    </tr>\n",
       "    <tr>\n",
       "      <th>...</th>\n",
       "      <td>...</td>\n",
       "      <td>...</td>\n",
       "      <td>...</td>\n",
       "      <td>...</td>\n",
       "      <td>...</td>\n",
       "    </tr>\n",
       "    <tr>\n",
       "      <th>2022-02-17</th>\n",
       "      <td>Snohomish</td>\n",
       "      <td>Washington</td>\n",
       "      <td>53061.0</td>\n",
       "      <td>145853</td>\n",
       "      <td>1018.0</td>\n",
       "    </tr>\n",
       "    <tr>\n",
       "      <th>2022-02-18</th>\n",
       "      <td>Cook</td>\n",
       "      <td>Georgia</td>\n",
       "      <td>13075.0</td>\n",
       "      <td>4855</td>\n",
       "      <td>68.0</td>\n",
       "    </tr>\n",
       "    <tr>\n",
       "      <th>2022-02-18</th>\n",
       "      <td>Cook</td>\n",
       "      <td>Illinois</td>\n",
       "      <td>17031.0</td>\n",
       "      <td>1105263</td>\n",
       "      <td>14439.0</td>\n",
       "    </tr>\n",
       "    <tr>\n",
       "      <th>2022-02-18</th>\n",
       "      <td>Cook</td>\n",
       "      <td>Minnesota</td>\n",
       "      <td>27031.0</td>\n",
       "      <td>533</td>\n",
       "      <td>4.0</td>\n",
       "    </tr>\n",
       "    <tr>\n",
       "      <th>2022-02-18</th>\n",
       "      <td>Snohomish</td>\n",
       "      <td>Washington</td>\n",
       "      <td>53061.0</td>\n",
       "      <td>145694</td>\n",
       "      <td>1034.0</td>\n",
       "    </tr>\n",
       "  </tbody>\n",
       "</table>\n",
       "<p>72 rows × 5 columns</p>\n",
       "</div>"
      ],
      "text/plain": [
       "               county       state     fips    cases   deaths\n",
       "date                                                        \n",
       "2022-02-01       Cook     Georgia  13075.0     4744     66.0\n",
       "2022-02-01       Cook    Illinois  17031.0  1082395  13970.0\n",
       "2022-02-01       Cook   Minnesota  27031.0      507      2.0\n",
       "2022-02-01  Snohomish  Washington  53061.0   139881    948.0\n",
       "2022-02-02       Cook     Georgia  13075.0     4764     66.0\n",
       "...               ...         ...      ...      ...      ...\n",
       "2022-02-17  Snohomish  Washington  53061.0   145853   1018.0\n",
       "2022-02-18       Cook     Georgia  13075.0     4855     68.0\n",
       "2022-02-18       Cook    Illinois  17031.0  1105263  14439.0\n",
       "2022-02-18       Cook   Minnesota  27031.0      533      4.0\n",
       "2022-02-18  Snohomish  Washington  53061.0   145694   1034.0\n",
       "\n",
       "[72 rows x 5 columns]"
      ]
     },
     "execution_count": 125,
     "metadata": {},
     "output_type": "execute_result"
    }
   ],
   "source": [
    "df.loc['2022-02-01':'2022-02-18']"
   ]
  },
  {
   "cell_type": "code",
   "execution_count": 126,
   "id": "4a04caa2",
   "metadata": {},
   "outputs": [],
   "source": [
    "# https://stackoverflow.com/questions/20625582/how-to-deal-with-settingwithcopywarning-in-pandas\n",
    "\n",
    "pd.options.mode.chained_assignment = None\n"
   ]
  },
  {
   "cell_type": "code",
   "execution_count": 127,
   "id": "9aacd9c2",
   "metadata": {},
   "outputs": [
    {
     "name": "stdout",
     "output_type": "stream",
     "text": [
      "53061.0\n",
      "17031.0\n",
      "13075.0\n",
      "27031.0\n"
     ]
    },
    {
     "data": {
      "image/png": "[encoded data removed]",
      "text/plain": [
       "<Figure size 432x288 with 1 Axes>"
      ]
     },
     "metadata": {
      "needs_background": "light"
     },
     "output_type": "display_data"
    }
   ],
   "source": [
    "df_new = pd.DataFrame()\n",
    "\n",
    "for id in df['fips'].unique():\n",
    "    print(id)\n",
    "    temp = df.query('fips == @id')\n",
    "    temp['lag'] = temp.cases.shift(1).fillna(0)\n",
    "    temp['daily_cases'] = temp.cases - temp.lag\n",
    "    temp.drop(columns=['lag'], inplace = True)\n",
    "    #print(temp)\n",
    "    \n",
    "    plt.plot(temp.index,temp.daily_cases)\n",
    "    #print(temp.query('county == @ct'))\n",
    "    #df_new = pd.concat([df_new,temp])\n",
    "    \n",
    "    #print(temp)\n",
    "    #df = pd.merge(df,temp, how = 'left', on =  ['date','county','state','fips','cases','deaths'])\n",
    "    #df.drop(columns=['lag'], inplace = True)\n",
    "    #print(df.columns)"
   ]
  },
  {
   "cell_type": "code",
   "execution_count": 128,
   "id": "24b07e3a",
   "metadata": {},
   "outputs": [
    {
     "name": "stdout",
     "output_type": "stream",
     "text": [
      "53061.0\n",
      "17031.0\n",
      "13075.0\n",
      "27031.0\n"
     ]
    },
    {
     "data": {
      "image/png": "[encoded data removed]",
      "text/plain": [
       "<Figure size 640x480 with 4 Axes>"
      ]
     },
     "metadata": {},
     "output_type": "display_data"
    },
    {
     "data": {
      "text/plain": [
       "<ggplot: (310984517)>"
      ]
     },
     "execution_count": 128,
     "metadata": {},
     "output_type": "execute_result"
    }
   ],
   "source": [
    "# subplots_adjust ignores hspace, wspace #185\n",
    "# https://github.com/has2k1/plotnine/issues/185\n",
    "\n",
    "df_new = pd.DataFrame()\n",
    "\n",
    "for id in df['fips'].unique():\n",
    "    print(id)\n",
    "    temp = df.query('fips == @id')\n",
    "    temp['lag'] = temp.cases.shift(1).fillna(0)\n",
    "    temp['daily_cases'] = temp.cases - temp.lag\n",
    "    temp.drop(columns=['lag'], inplace = True)\n",
    "    \n",
    "    rolling = temp.daily_cases.rolling(7, center=True)\n",
    "    #print(rolling.mean().shape)\n",
    "    #print(temp.shape)\n",
    "    \n",
    "    temp['rolling_mean'] = rolling.mean()\n",
    "    #print(temp)\n",
    "    \n",
    "    df_new = pd.concat([df_new,temp])\n",
    "    \n",
    "    #print(temp)\n",
    "    #df = pd.merge(df,temp, how = 'left', on =  ['date','county','state','fips','cases','deaths'])\n",
    "    #df.drop(columns=['lag'], inplace = True)\n",
    "    #print(df.columns)\n",
    "\n",
    "(\n",
    "    ggplot(df_new) + aes(x = df_new.index, y = 'daily_cases') + geom_line() +    \n",
    "    theme(axis_text_x=element_text(rotation=90, hjust=1)) + \n",
    "    #facet_grid('~fips', scales = \"free_y\")\n",
    "    facet_wrap('fips', scales = \"free_y\") +\n",
    "    theme(subplots_adjust={'wspace': 0.5,'hspace': 0.2})\n",
    ")"
   ]
  },
  {
   "cell_type": "code",
   "execution_count": 129,
   "id": "03b49a65",
   "metadata": {},
   "outputs": [
    {
     "data": {
      "text/html": [
       "<div>\n",
       "<style scoped>\n",
       "    .dataframe tbody tr th:only-of-type {\n",
       "        vertical-align: middle;\n",
       "    }\n",
       "\n",
       "    .dataframe tbody tr th {\n",
       "        vertical-align: top;\n",
       "    }\n",
       "\n",
       "    .dataframe thead th {\n",
       "        text-align: right;\n",
       "    }\n",
       "</style>\n",
       "<table border=\"1\" class=\"dataframe\">\n",
       "  <thead>\n",
       "    <tr style=\"text-align: right;\">\n",
       "      <th></th>\n",
       "      <th>county</th>\n",
       "      <th>state</th>\n",
       "      <th>fips</th>\n",
       "      <th>cases</th>\n",
       "      <th>deaths</th>\n",
       "      <th>daily_cases</th>\n",
       "      <th>rolling_mean</th>\n",
       "    </tr>\n",
       "    <tr>\n",
       "      <th>date</th>\n",
       "      <th></th>\n",
       "      <th></th>\n",
       "      <th></th>\n",
       "      <th></th>\n",
       "      <th></th>\n",
       "      <th></th>\n",
       "      <th></th>\n",
       "    </tr>\n",
       "  </thead>\n",
       "  <tbody>\n",
       "    <tr>\n",
       "      <th>2022-02-01</th>\n",
       "      <td>Cook</td>\n",
       "      <td>Georgia</td>\n",
       "      <td>13075.0</td>\n",
       "      <td>4744</td>\n",
       "      <td>66.0</td>\n",
       "      <td>25.0</td>\n",
       "      <td>16.428571</td>\n",
       "    </tr>\n",
       "    <tr>\n",
       "      <th>2022-02-02</th>\n",
       "      <td>Cook</td>\n",
       "      <td>Georgia</td>\n",
       "      <td>13075.0</td>\n",
       "      <td>4764</td>\n",
       "      <td>66.0</td>\n",
       "      <td>20.0</td>\n",
       "      <td>16.428571</td>\n",
       "    </tr>\n",
       "    <tr>\n",
       "      <th>2022-02-03</th>\n",
       "      <td>Cook</td>\n",
       "      <td>Georgia</td>\n",
       "      <td>13075.0</td>\n",
       "      <td>4778</td>\n",
       "      <td>66.0</td>\n",
       "      <td>14.0</td>\n",
       "      <td>16.428571</td>\n",
       "    </tr>\n",
       "    <tr>\n",
       "      <th>2022-02-04</th>\n",
       "      <td>Cook</td>\n",
       "      <td>Georgia</td>\n",
       "      <td>13075.0</td>\n",
       "      <td>4787</td>\n",
       "      <td>66.0</td>\n",
       "      <td>9.0</td>\n",
       "      <td>13.285714</td>\n",
       "    </tr>\n",
       "    <tr>\n",
       "      <th>2022-02-05</th>\n",
       "      <td>Cook</td>\n",
       "      <td>Georgia</td>\n",
       "      <td>13075.0</td>\n",
       "      <td>4787</td>\n",
       "      <td>66.0</td>\n",
       "      <td>0.0</td>\n",
       "      <td>11.285714</td>\n",
       "    </tr>\n",
       "    <tr>\n",
       "      <th>2022-02-06</th>\n",
       "      <td>Cook</td>\n",
       "      <td>Georgia</td>\n",
       "      <td>13075.0</td>\n",
       "      <td>4787</td>\n",
       "      <td>66.0</td>\n",
       "      <td>0.0</td>\n",
       "      <td>9.142857</td>\n",
       "    </tr>\n",
       "    <tr>\n",
       "      <th>2022-02-07</th>\n",
       "      <td>Cook</td>\n",
       "      <td>Georgia</td>\n",
       "      <td>13075.0</td>\n",
       "      <td>4812</td>\n",
       "      <td>67.0</td>\n",
       "      <td>25.0</td>\n",
       "      <td>8.428571</td>\n",
       "    </tr>\n",
       "    <tr>\n",
       "      <th>2022-02-08</th>\n",
       "      <td>Cook</td>\n",
       "      <td>Georgia</td>\n",
       "      <td>13075.0</td>\n",
       "      <td>4823</td>\n",
       "      <td>67.0</td>\n",
       "      <td>11.0</td>\n",
       "      <td>8.142857</td>\n",
       "    </tr>\n",
       "    <tr>\n",
       "      <th>2022-02-09</th>\n",
       "      <td>Cook</td>\n",
       "      <td>Georgia</td>\n",
       "      <td>13075.0</td>\n",
       "      <td>4828</td>\n",
       "      <td>67.0</td>\n",
       "      <td>5.0</td>\n",
       "      <td>8.142857</td>\n",
       "    </tr>\n",
       "    <tr>\n",
       "      <th>2022-02-10</th>\n",
       "      <td>Cook</td>\n",
       "      <td>Georgia</td>\n",
       "      <td>13075.0</td>\n",
       "      <td>4837</td>\n",
       "      <td>67.0</td>\n",
       "      <td>9.0</td>\n",
       "      <td>8.142857</td>\n",
       "    </tr>\n",
       "    <tr>\n",
       "      <th>2022-02-11</th>\n",
       "      <td>Cook</td>\n",
       "      <td>Georgia</td>\n",
       "      <td>13075.0</td>\n",
       "      <td>4844</td>\n",
       "      <td>67.0</td>\n",
       "      <td>7.0</td>\n",
       "      <td>5.571429</td>\n",
       "    </tr>\n",
       "    <tr>\n",
       "      <th>2022-02-12</th>\n",
       "      <td>Cook</td>\n",
       "      <td>Georgia</td>\n",
       "      <td>13075.0</td>\n",
       "      <td>4844</td>\n",
       "      <td>67.0</td>\n",
       "      <td>0.0</td>\n",
       "      <td>4.142857</td>\n",
       "    </tr>\n",
       "    <tr>\n",
       "      <th>2022-02-13</th>\n",
       "      <td>Cook</td>\n",
       "      <td>Georgia</td>\n",
       "      <td>13075.0</td>\n",
       "      <td>4844</td>\n",
       "      <td>67.0</td>\n",
       "      <td>0.0</td>\n",
       "      <td>4.000000</td>\n",
       "    </tr>\n",
       "    <tr>\n",
       "      <th>2022-02-14</th>\n",
       "      <td>Cook</td>\n",
       "      <td>Georgia</td>\n",
       "      <td>13075.0</td>\n",
       "      <td>4851</td>\n",
       "      <td>68.0</td>\n",
       "      <td>7.0</td>\n",
       "      <td>2.714286</td>\n",
       "    </tr>\n",
       "    <tr>\n",
       "      <th>2022-02-15</th>\n",
       "      <td>Cook</td>\n",
       "      <td>Georgia</td>\n",
       "      <td>13075.0</td>\n",
       "      <td>4852</td>\n",
       "      <td>68.0</td>\n",
       "      <td>1.0</td>\n",
       "      <td>1.571429</td>\n",
       "    </tr>\n",
       "    <tr>\n",
       "      <th>2022-02-16</th>\n",
       "      <td>Cook</td>\n",
       "      <td>Georgia</td>\n",
       "      <td>13075.0</td>\n",
       "      <td>4856</td>\n",
       "      <td>68.0</td>\n",
       "      <td>4.0</td>\n",
       "      <td>1.571429</td>\n",
       "    </tr>\n",
       "    <tr>\n",
       "      <th>2022-02-17</th>\n",
       "      <td>Cook</td>\n",
       "      <td>Georgia</td>\n",
       "      <td>13075.0</td>\n",
       "      <td>4856</td>\n",
       "      <td>68.0</td>\n",
       "      <td>0.0</td>\n",
       "      <td>1.571429</td>\n",
       "    </tr>\n",
       "    <tr>\n",
       "      <th>2022-02-18</th>\n",
       "      <td>Cook</td>\n",
       "      <td>Georgia</td>\n",
       "      <td>13075.0</td>\n",
       "      <td>4855</td>\n",
       "      <td>68.0</td>\n",
       "      <td>-1.0</td>\n",
       "      <td>1.142857</td>\n",
       "    </tr>\n",
       "  </tbody>\n",
       "</table>\n",
       "</div>"
      ],
      "text/plain": [
       "           county    state     fips  cases  deaths  daily_cases  rolling_mean\n",
       "date                                                                         \n",
       "2022-02-01   Cook  Georgia  13075.0   4744    66.0         25.0     16.428571\n",
       "2022-02-02   Cook  Georgia  13075.0   4764    66.0         20.0     16.428571\n",
       "2022-02-03   Cook  Georgia  13075.0   4778    66.0         14.0     16.428571\n",
       "2022-02-04   Cook  Georgia  13075.0   4787    66.0          9.0     13.285714\n",
       "2022-02-05   Cook  Georgia  13075.0   4787    66.0          0.0     11.285714\n",
       "2022-02-06   Cook  Georgia  13075.0   4787    66.0          0.0      9.142857\n",
       "2022-02-07   Cook  Georgia  13075.0   4812    67.0         25.0      8.428571\n",
       "2022-02-08   Cook  Georgia  13075.0   4823    67.0         11.0      8.142857\n",
       "2022-02-09   Cook  Georgia  13075.0   4828    67.0          5.0      8.142857\n",
       "2022-02-10   Cook  Georgia  13075.0   4837    67.0          9.0      8.142857\n",
       "2022-02-11   Cook  Georgia  13075.0   4844    67.0          7.0      5.571429\n",
       "2022-02-12   Cook  Georgia  13075.0   4844    67.0          0.0      4.142857\n",
       "2022-02-13   Cook  Georgia  13075.0   4844    67.0          0.0      4.000000\n",
       "2022-02-14   Cook  Georgia  13075.0   4851    68.0          7.0      2.714286\n",
       "2022-02-15   Cook  Georgia  13075.0   4852    68.0          1.0      1.571429\n",
       "2022-02-16   Cook  Georgia  13075.0   4856    68.0          4.0      1.571429\n",
       "2022-02-17   Cook  Georgia  13075.0   4856    68.0          0.0      1.571429\n",
       "2022-02-18   Cook  Georgia  13075.0   4855    68.0         -1.0      1.142857"
      ]
     },
     "execution_count": 129,
     "metadata": {},
     "output_type": "execute_result"
    }
   ],
   "source": [
    "df_new.loc[df_new['fips'] == 13075.]['2022-02-01':'2022-02-18']"
   ]
  },
  {
   "cell_type": "code",
   "execution_count": 130,
   "id": "6819b717",
   "metadata": {},
   "outputs": [
    {
     "name": "stderr",
     "output_type": "stream",
     "text": [
      "/Users/Kaemyuijang/opt/anaconda3/lib/python3.7/site-packages/plotnine/geoms/geom_path.py:75: PlotnineWarning: geom_path: Removed 6 rows containing missing values.\n"
     ]
    },
    {
     "data": {
      "image/png": "[encoded data removed]",
      "text/plain": [
       "<Figure size 640x480 with 1 Axes>"
      ]
     },
     "metadata": {},
     "output_type": "display_data"
    },
    {
     "data": {
      "text/plain": [
       "<ggplot: (314573565)>"
      ]
     },
     "execution_count": 130,
     "metadata": {},
     "output_type": "execute_result"
    }
   ],
   "source": [
    "#df_new13075 = df_new.loc[df_new['fips'] == 13075.]['2021-07-01':'2022-02-18']\n",
    "\n",
    "df_new13075 = df_new.query('fips == 13075.')\n",
    "#print(df_new13075.head(10))\n",
    "(\n",
    "    ggplot(df_new13075.query('fips == 13075.')) +\n",
    "    geom_line(aes(x = df_new13075.index, y = 'daily_cases'), alpha = 0.5) +\n",
    "    geom_line(aes(x = df_new13075.index, y = 'rolling_mean'), color='red',alpha=0.8) +\n",
    "        theme(axis_text_x=element_text(rotation=90, hjust=1)) \n",
    ")"
   ]
  },
  {
   "cell_type": "code",
   "execution_count": 131,
   "id": "5f6f4c08",
   "metadata": {},
   "outputs": [
    {
     "data": {
      "image/png": "[encoded data removed]",
      "text/plain": [
       "<Figure size 640x480 with 1 Axes>"
      ]
     },
     "metadata": {},
     "output_type": "display_data"
    },
    {
     "data": {
      "text/plain": [
       "<ggplot: (314735525)>"
      ]
     },
     "execution_count": 131,
     "metadata": {},
     "output_type": "execute_result"
    }
   ],
   "source": [
    "df_new17031 = df_new.query('fips == 17031.')\n",
    "\n",
    "ggplot(df_new17031.query('fips == 17031.')) + aes(x = df_new17031.index, y = 'daily_cases') + geom_line()"
   ]
  },
  {
   "cell_type": "code",
   "execution_count": null,
   "id": "8914317e",
   "metadata": {},
   "outputs": [],
   "source": []
  },
  {
   "cell_type": "markdown",
   "id": "b49d6fe8",
   "metadata": {},
   "source": [
    "#### Query by state"
   ]
  },
  {
   "cell_type": "code",
   "execution_count": 132,
   "id": "15753f13",
   "metadata": {},
   "outputs": [
    {
     "name": "stdout",
     "output_type": "stream",
     "text": [
      "['Snohomish' 'Spokane' 'King' 'Walla Walla' 'Chelan' 'Clark' 'Jefferson'\n",
      " 'Pierce' 'Kittitas' 'Kitsap' 'Skagit' 'Whatcom' 'Island' 'Thurston'\n",
      " 'Columbia' 'Grays Harbor' 'Yakima' 'Grant' 'Klickitat' 'Lewis' 'Lincoln'\n",
      " 'Franklin' 'Mason' 'Benton' 'Clallam' 'Cowlitz' 'San Juan' 'Stevens'\n",
      " 'Whitman' 'Adams' 'Douglas' 'Unknown' 'Ferry' 'Okanogan' 'Skamania'\n",
      " 'Pend Oreille' 'Asotin' 'Wahkiakum' 'Pacific' 'Garfield']\n"
     ]
    }
   ],
   "source": [
    "df = pd.read_csv(path, parse_dates=['date'], index_col = 'date')\n",
    "\n",
    "df = df.query('state in [\"Washington\"]')\n",
    "#df = df.query('county in [\"Snohomish\"]')\n",
    "\n",
    "print(df.county.unique())"
   ]
  },
  {
   "cell_type": "code",
   "execution_count": 133,
   "id": "a2f7f856",
   "metadata": {},
   "outputs": [
    {
     "name": "stdout",
     "output_type": "stream",
     "text": [
      "53061.0\n",
      "53063.0\n",
      "53033.0\n",
      "53071.0\n",
      "53007.0\n",
      "53011.0\n",
      "53031.0\n",
      "53053.0\n",
      "53037.0\n",
      "53035.0\n",
      "53057.0\n",
      "53073.0\n",
      "53029.0\n",
      "53067.0\n",
      "53013.0\n",
      "53027.0\n",
      "53077.0\n",
      "53025.0\n",
      "53039.0\n",
      "53041.0\n",
      "53043.0\n",
      "53021.0\n",
      "53045.0\n",
      "53005.0\n",
      "53009.0\n",
      "53015.0\n",
      "53055.0\n",
      "53065.0\n",
      "53075.0\n",
      "53001.0\n",
      "53017.0\n",
      "nan\n",
      "53019.0\n",
      "53047.0\n",
      "53059.0\n",
      "53051.0\n",
      "53003.0\n",
      "53069.0\n",
      "53049.0\n",
      "53023.0\n"
     ]
    }
   ],
   "source": [
    "df_new = pd.DataFrame()\n",
    "\n",
    "for id in df['fips'].unique():\n",
    "    print(id)\n",
    "    temp = df.query('fips == @id')\n",
    "    temp['lag'] = temp.cases.shift(1).fillna(0)\n",
    "    temp['daily_cases'] = temp.cases - temp.lag\n",
    "    temp.drop(columns=['lag'], inplace = True)\n",
    "    \n",
    "    rolling = temp.daily_cases.rolling(7, center=True)\n",
    "    #print(rolling.mean().shape)\n",
    "    #print(temp.shape)\n",
    "    \n",
    "    temp['rolling_mean'] = rolling.mean()\n",
    "    #print(temp)\n",
    "    \n",
    "    df_new = pd.concat([df_new,temp])\n",
    "    \n",
    "    #print(temp)\n",
    "    #df = pd.merge(df,temp, how = 'left', on =  ['date','county','state','fips','cases','deaths'])\n",
    "    #df.drop(columns=['lag'], inplace = True)\n",
    "    #print(df.columns)"
   ]
  },
  {
   "cell_type": "code",
   "execution_count": 134,
   "id": "adcdd5c3",
   "metadata": {},
   "outputs": [
    {
     "data": {
      "text/plain": [
       "array(['Snohomish', 'Spokane', 'King', 'Walla Walla', 'Chelan', 'Clark',\n",
       "       'Jefferson', 'Pierce', 'Kittitas', 'Kitsap', 'Skagit', 'Whatcom',\n",
       "       'Island', 'Thurston', 'Columbia', 'Grays Harbor', 'Yakima',\n",
       "       'Grant', 'Klickitat', 'Lewis', 'Lincoln', 'Franklin', 'Mason',\n",
       "       'Benton', 'Clallam', 'Cowlitz', 'San Juan', 'Stevens', 'Whitman',\n",
       "       'Adams', 'Douglas', 'Ferry', 'Okanogan', 'Skamania',\n",
       "       'Pend Oreille', 'Asotin', 'Wahkiakum', 'Pacific', 'Garfield'],\n",
       "      dtype=object)"
      ]
     },
     "execution_count": 134,
     "metadata": {},
     "output_type": "execute_result"
    }
   ],
   "source": [
    "df_new.county.unique()"
   ]
  },
  {
   "cell_type": "code",
   "execution_count": 135,
   "id": "68f7b141",
   "metadata": {},
   "outputs": [
    {
     "data": {
      "image/png": "[encoded data removed]",
      "text/plain": [
       "<Figure size 640x480 with 2 Axes>"
      ]
     },
     "metadata": {},
     "output_type": "display_data"
    },
    {
     "data": {
      "text/plain": [
       "<ggplot: (328691209)>"
      ]
     },
     "execution_count": 135,
     "metadata": {},
     "output_type": "execute_result"
    }
   ],
   "source": [
    "fips_list = [53001., 53003.]\n",
    "\n",
    "df_subset = df_new.query('fips in @fips_list')\n",
    "\n",
    "(\n",
    "    ggplot(df_subset) + aes(x = df_subset.index, y = 'daily_cases') + \n",
    "    geom_line() +    \n",
    "    theme(axis_text_x=element_text(rotation=90, hjust=1)) + \n",
    "    facet_wrap('fips', nrow = 2, ncol = 1) +\n",
    "    theme(subplots_adjust={'wspace': 0.5,'hspace': 0.2})\n",
    ")"
   ]
  },
  {
   "cell_type": "code",
   "execution_count": 136,
   "id": "b50e8d84",
   "metadata": {},
   "outputs": [],
   "source": [
    "#(\n",
    "#    ggplot(df_new) + aes(x = df_new.index, y = 'daily_cases') + geom_line() +    \n",
    "#    theme(axis_text_x=element_text(rotation=90, hjust=1)) + \n",
    "#    facet_wrap('fips', nrow = 15, ncol = 3) +\n",
    "#    theme(subplots_adjust={'wspace': 0.5,'hspace': 0.2})\n",
    "#)"
   ]
  },
  {
   "cell_type": "code",
   "execution_count": 137,
   "id": "c110a437",
   "metadata": {},
   "outputs": [
    {
     "name": "stderr",
     "output_type": "stream",
     "text": [
      "/Users/Kaemyuijang/opt/anaconda3/lib/python3.7/site-packages/plotnine/geoms/geom_path.py:75: PlotnineWarning: geom_path: Removed 6 rows containing missing values.\n"
     ]
    },
    {
     "data": {
      "image/png": "[encoded data removed]",
      "text/plain": [
       "<Figure size 640x480 with 2 Axes>"
      ]
     },
     "metadata": {},
     "output_type": "display_data"
    },
    {
     "data": {
      "text/plain": [
       "<ggplot: (298563541)>"
      ]
     },
     "execution_count": 137,
     "metadata": {},
     "output_type": "execute_result"
    }
   ],
   "source": [
    "df_subset = df_new.query('fips in @fips_list')\n",
    "\n",
    "(\n",
    "    ggplot(df_subset) + geom_line(aes(x = df_subset.index, y = 'daily_cases'), alpha = 0.3) +    \n",
    "    geom_line(aes(x = df_subset.index, y = 'rolling_mean'),color='red', alpha = 0.8) +    \n",
    "    theme(axis_text_x=element_text(rotation=90, hjust=1)) +  \n",
    "        facet_wrap('fips', nrow = 2, ncol = 1) +\n",
    "    theme(subplots_adjust={'wspace': 0.5,'hspace': 0.2})\n",
    ")"
   ]
  },
  {
   "cell_type": "code",
   "execution_count": 138,
   "id": "fd2dd815",
   "metadata": {},
   "outputs": [
    {
     "name": "stderr",
     "output_type": "stream",
     "text": [
      "/Users/Kaemyuijang/opt/anaconda3/lib/python3.7/site-packages/plotnine/geoms/geom_path.py:75: PlotnineWarning: geom_path: Removed 6 rows containing missing values.\n"
     ]
    },
    {
     "data": {
      "image/png": "[encoded data removed]",
      "text/plain": [
       "<Figure size 640x480 with 1 Axes>"
      ]
     },
     "metadata": {},
     "output_type": "display_data"
    },
    {
     "data": {
      "text/plain": [
       "<ggplot: (309523373)>"
      ]
     },
     "execution_count": 138,
     "metadata": {},
     "output_type": "execute_result"
    }
   ],
   "source": [
    "fips_id = 53023.0\n",
    "\n",
    "df_subset = df_new.query('fips==@fips_id')\n",
    "\n",
    "(\n",
    "    ggplot(df_subset) + geom_line(aes(x = df_subset.index, y = 'daily_cases'), alpha = 0.3) +    \n",
    "    geom_line(aes(x = df_subset.index, y = 'rolling_mean'),color='red', alpha = 0.8) +    \n",
    "    theme(axis_text_x=element_text(rotation=90, hjust=1)) \n",
    ")"
   ]
  },
  {
   "cell_type": "code",
   "execution_count": null,
   "id": "fe437f8a",
   "metadata": {},
   "outputs": [],
   "source": []
  },
  {
   "cell_type": "code",
   "execution_count": null,
   "id": "87aa82ec",
   "metadata": {},
   "outputs": [],
   "source": []
  }
 ],
 "metadata": {
  "kernelspec": {
   "display_name": "Python 3 (ipykernel)",
   "language": "python",
   "name": "python3"
  },
  "language_info": {
   "codemirror_mode": {
    "name": "ipython",
    "version": 3
   },
   "file_extension": ".py",
   "mimetype": "text/x-python",
   "name": "python",
   "nbconvert_exporter": "python",
   "pygments_lexer": "ipython3",
   "version": "3.7.11"
  }
 },
 "nbformat": 4,
 "nbformat_minor": 5
}
