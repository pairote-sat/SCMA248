{
 "cells": [
  {
   "cell_type": "markdown",
   "id": "9205995d",
   "metadata": {},
   "source": [
    "# Midterm Examination: Part 1 \n",
    "\n",
    "Due date: 15 March 2022 before 10 am.\n",
    "\n",
    "Points: 15 for Part 1 (from 21 questions)\n",
    "\n",
    "Do not alter this file.\n",
    "\n",
    "Duplicate this file and move it into the Personal folder. Rename the file as Midterm_id (id is your student ID number, e.g. Midterm_Part1_6305001).\n",
    "\n",
    "Write Python commands to answer each of the questions. For each question that requires numerical values (not list or dataframe), you also need to assign the variable e.g. ans1 to store the numerical answer for question 1. If there is more than 1 answer required, you must create more variables e.g. ans1_1, ans1_2 to store the values of the answers.\n",
    "\n",
    "When you want to submit your file, you simply share access with me using my email pairote.sat@mahidol.edu and my TA p.pooy.pui.i@gmail.com. Do not move your file into the DS@MathMahidol team."
   ]
  },
  {
   "cell_type": "code",
   "execution_count": 1,
   "id": "283f7d92",
   "metadata": {},
   "outputs": [],
   "source": [
    "import pandas as pd\n",
    "import numpy as np"
   ]
  },
  {
   "cell_type": "code",
   "execution_count": 2,
   "id": "45df1790",
   "metadata": {},
   "outputs": [],
   "source": [
    "# https://stackoverflow.com/questions/20625582/how-to-deal-with-settingwithcopywarning-in-pandas\n",
    "\n",
    "pd.options.mode.chained_assignment = None"
   ]
  },
  {
   "cell_type": "code",
   "execution_count": 3,
   "id": "d990e622",
   "metadata": {},
   "outputs": [],
   "source": [
    "from plotnine import *"
   ]
  },
  {
   "cell_type": "code",
   "execution_count": 139,
   "id": "420b6699",
   "metadata": {},
   "outputs": [],
   "source": [
    "id = 888"
   ]
  },
  {
   "cell_type": "markdown",
   "id": "da4017c1",
   "metadata": {},
   "source": [
    "## Population Dataset: 2020 Census Demographic Data by County.\n",
    "\n",
    "We begin with the first dataset, which we obtained from \n",
    "\n",
    "https://www.dataemporium.com/dataset/254/?gclid=CjwKCAiAg6yRBhBNEiwAeVyL0Jl9xZg-nt9evBLB04fAZPc-TPTEmrW9kMfoIqMhBJvHjXQ-GV5fPBoChYIQAvD_BwE\n",
    "\n",
    "This dataset was created from the 2020 Census. It contains one row per county with the total population and a breakdown by race."
   ]
  },
  {
   "cell_type": "code",
   "execution_count": 140,
   "id": "1b24b137",
   "metadata": {},
   "outputs": [],
   "source": [
    "path = '/Users/Kaemyuijang/SCMA248/Data/US_population.csv'\n",
    "\n",
    "#df = pd.read_csv(path, parse_dates=True, index_col = 'date')\n",
    "\n",
    "population = pd.read_csv(path)"
   ]
  },
  {
   "cell_type": "markdown",
   "id": "3faa42fd",
   "metadata": {},
   "source": [
    "#### Detailed description\n",
    "\n",
    "This table breaks down the total population and population by race for each county in the United States, based on the 2020 Census.\n",
    "\n",
    "**Some Terminology**.\n",
    "\n",
    "* A city is created by any population that has its own system of government and a semblance of a legal system. Cities are located within a county, within a state. \n",
    "\n",
    "* A county is a geographic unit created for political purposes within a state.\n",
    "\n",
    "Read more : Difference between city and county \n",
    "http://www.differencebetween.net/miscellaneous/difference-between-city-and-county/#ixzz7NKcARPB5\n",
    "\n",
    "**This table only includes numbers for people who checked off a single race in the census**. This is the majority of people. You can see the number of people who belong to two or more races by subtracting POP_ONE_RACE from TOTAL_POPULATION. \n",
    "\n",
    "Before proceeding to the next step, make sure you understand the difference between POP_ONE_RACE from TOTAL_POPULATION."
   ]
  },
  {
   "cell_type": "code",
   "execution_count": 141,
   "id": "ed7067fe",
   "metadata": {},
   "outputs": [
    {
     "data": {
      "text/html": [
       "<div>\n",
       "<style scoped>\n",
       "    .dataframe tbody tr th:only-of-type {\n",
       "        vertical-align: middle;\n",
       "    }\n",
       "\n",
       "    .dataframe tbody tr th {\n",
       "        vertical-align: top;\n",
       "    }\n",
       "\n",
       "    .dataframe thead th {\n",
       "        text-align: right;\n",
       "    }\n",
       "</style>\n",
       "<table border=\"1\" class=\"dataframe\">\n",
       "  <thead>\n",
       "    <tr style=\"text-align: right;\">\n",
       "      <th></th>\n",
       "      <th>state_abbr</th>\n",
       "      <th>county</th>\n",
       "      <th>total_population</th>\n",
       "      <th>pop_one_race</th>\n",
       "      <th>white</th>\n",
       "      <th>black</th>\n",
       "      <th>amarican_indian</th>\n",
       "      <th>asian</th>\n",
       "      <th>hawaiian</th>\n",
       "      <th>other</th>\n",
       "    </tr>\n",
       "  </thead>\n",
       "  <tbody>\n",
       "    <tr>\n",
       "      <th>0</th>\n",
       "      <td>CT</td>\n",
       "      <td>Fairfield County</td>\n",
       "      <td>957419</td>\n",
       "      <td>854584</td>\n",
       "      <td>584184</td>\n",
       "      <td>106756</td>\n",
       "      <td>4369</td>\n",
       "      <td>51341</td>\n",
       "      <td>347</td>\n",
       "      <td>107587</td>\n",
       "    </tr>\n",
       "    <tr>\n",
       "      <th>1</th>\n",
       "      <td>CT</td>\n",
       "      <td>Hartford County</td>\n",
       "      <td>899498</td>\n",
       "      <td>819125</td>\n",
       "      <td>554184</td>\n",
       "      <td>127194</td>\n",
       "      <td>3145</td>\n",
       "      <td>53844</td>\n",
       "      <td>328</td>\n",
       "      <td>80430</td>\n",
       "    </tr>\n",
       "    <tr>\n",
       "      <th>2</th>\n",
       "      <td>CT</td>\n",
       "      <td>Litchfield County</td>\n",
       "      <td>185186</td>\n",
       "      <td>172181</td>\n",
       "      <td>158774</td>\n",
       "      <td>3348</td>\n",
       "      <td>511</td>\n",
       "      <td>3486</td>\n",
       "      <td>67</td>\n",
       "      <td>5995</td>\n",
       "    </tr>\n",
       "    <tr>\n",
       "      <th>3</th>\n",
       "      <td>CT</td>\n",
       "      <td>Middlesex County</td>\n",
       "      <td>164245</td>\n",
       "      <td>152898</td>\n",
       "      <td>134715</td>\n",
       "      <td>8565</td>\n",
       "      <td>392</td>\n",
       "      <td>4987</td>\n",
       "      <td>50</td>\n",
       "      <td>4189</td>\n",
       "    </tr>\n",
       "    <tr>\n",
       "      <th>4</th>\n",
       "      <td>CT</td>\n",
       "      <td>New Haven County</td>\n",
       "      <td>864835</td>\n",
       "      <td>782472</td>\n",
       "      <td>543831</td>\n",
       "      <td>118933</td>\n",
       "      <td>4058</td>\n",
       "      <td>37520</td>\n",
       "      <td>470</td>\n",
       "      <td>77660</td>\n",
       "    </tr>\n",
       "  </tbody>\n",
       "</table>\n",
       "</div>"
      ],
      "text/plain": [
       "  state_abbr             county  total_population  pop_one_race   white  \\\n",
       "0         CT   Fairfield County            957419        854584  584184   \n",
       "1         CT    Hartford County            899498        819125  554184   \n",
       "2         CT  Litchfield County            185186        172181  158774   \n",
       "3         CT   Middlesex County            164245        152898  134715   \n",
       "4         CT   New Haven County            864835        782472  543831   \n",
       "\n",
       "    black  amarican_indian  asian  hawaiian   other  \n",
       "0  106756             4369  51341       347  107587  \n",
       "1  127194             3145  53844       328   80430  \n",
       "2    3348              511   3486        67    5995  \n",
       "3    8565              392   4987        50    4189  \n",
       "4  118933             4058  37520       470   77660  "
      ]
     },
     "execution_count": 141,
     "metadata": {},
     "output_type": "execute_result"
    }
   ],
   "source": [
    "population.columns= population.columns.str.lower()\n",
    "\n",
    "population.head()"
   ]
  },
  {
   "cell_type": "markdown",
   "id": "22a3e468",
   "metadata": {},
   "source": [
    "Q: Verify that the sum of counts in the columns ['white','black','amarican_indian','asian','hawaiian','other'] is equal to the count in the column 'pop_one_race'."
   ]
  },
  {
   "cell_type": "markdown",
   "id": "d90283ec",
   "metadata": {},
   "source": [
    "Q: How many counties are included in this dataset?"
   ]
  },
  {
   "cell_type": "code",
   "execution_count": 7,
   "id": "637763df",
   "metadata": {},
   "outputs": [
    {
     "data": {
      "text/plain": [
       "3221"
      ]
     },
     "execution_count": 7,
     "metadata": {},
     "output_type": "execute_result"
    }
   ],
   "source": [
    "population.county.size"
   ]
  },
  {
   "cell_type": "markdown",
   "id": "31b57d88",
   "metadata": {},
   "source": [
    "Q: How many unique county names are there?"
   ]
  },
  {
   "cell_type": "code",
   "execution_count": 8,
   "id": "ef0f91c9",
   "metadata": {},
   "outputs": [
    {
     "data": {
      "text/plain": [
       "1956"
      ]
     },
     "execution_count": 8,
     "metadata": {},
     "output_type": "execute_result"
    }
   ],
   "source": [
    "population.county.unique().size"
   ]
  },
  {
   "cell_type": "markdown",
   "id": "aa82a184",
   "metadata": {},
   "source": [
    "Q: What can be concluded from the difference between the number of counties and the number of unique county names?"
   ]
  },
  {
   "cell_type": "code",
   "execution_count": 104,
   "id": "3998f6bc",
   "metadata": {},
   "outputs": [
    {
     "data": {
      "text/plain": [
       "(3221, 10)"
      ]
     },
     "execution_count": 104,
     "metadata": {},
     "output_type": "execute_result"
    }
   ],
   "source": [
    "population.shape"
   ]
  },
  {
   "cell_type": "markdown",
   "id": "71cf2e03",
   "metadata": {},
   "source": [
    "Q: Create a table with the number of counties in each U.S. state."
   ]
  },
  {
   "cell_type": "code",
   "execution_count": 105,
   "id": "6dda6cf2",
   "metadata": {},
   "outputs": [
    {
     "data": {
      "text/plain": [
       "state_abbr\n",
       "AK     30\n",
       "AL     67\n",
       "AR     75\n",
       "AZ     15\n",
       "CA     58\n",
       "CO     64\n",
       "CT      8\n",
       "DC      1\n",
       "DE      3\n",
       "FL     67\n",
       "GA    159\n",
       "HI      5\n",
       "IA     99\n",
       "ID     44\n",
       "IL    102\n",
       "IN     92\n",
       "KS    105\n",
       "KY    120\n",
       "LA     64\n",
       "MA     14\n",
       "MD     24\n",
       "ME     16\n",
       "MI     83\n",
       "MN     87\n",
       "MO    115\n",
       "MS     82\n",
       "MT     56\n",
       "NC    100\n",
       "ND     53\n",
       "NE     93\n",
       "NH     10\n",
       "NJ     21\n",
       "NM     33\n",
       "NV     17\n",
       "NY     62\n",
       "OH     88\n",
       "OK     77\n",
       "OR     36\n",
       "PA     67\n",
       "PR     78\n",
       "RI      5\n",
       "SC     46\n",
       "SD     66\n",
       "TN     95\n",
       "TX    254\n",
       "UT     29\n",
       "VA    133\n",
       "VT     14\n",
       "WA     39\n",
       "WI     72\n",
       "WV     55\n",
       "WY     23\n",
       "dtype: int64"
      ]
     },
     "execution_count": 105,
     "metadata": {},
     "output_type": "execute_result"
    }
   ],
   "source": [
    "population.groupby('state_abbr').size()"
   ]
  },
  {
   "cell_type": "markdown",
   "id": "5a407f81",
   "metadata": {},
   "source": [
    "Q: The following Python command uses `np.random.seed(id)` to set the seed number of your student ID. Complete the following command to create the variable 'state_given', which stores a randomly selected US state."
   ]
  },
  {
   "cell_type": "code",
   "execution_count": 9,
   "id": "78ae8aa8",
   "metadata": {},
   "outputs": [
    {
     "name": "stdout",
     "output_type": "stream",
     "text": [
      "['MI']\n"
     ]
    }
   ],
   "source": [
    "np.random.seed(id)\n",
    "states_given = np.random.choice(population.state_abbr.unique(), 1).tolist()\n",
    "print(states_given)"
   ]
  },
  {
   "cell_type": "markdown",
   "id": "32789aed",
   "metadata": {},
   "source": [
    "Q: List all counties in the randomly selected US state defined by `states_given`."
   ]
  },
  {
   "cell_type": "code",
   "execution_count": 10,
   "id": "34363543",
   "metadata": {},
   "outputs": [
    {
     "data": {
      "text/html": [
       "<div>\n",
       "<style scoped>\n",
       "    .dataframe tbody tr th:only-of-type {\n",
       "        vertical-align: middle;\n",
       "    }\n",
       "\n",
       "    .dataframe tbody tr th {\n",
       "        vertical-align: top;\n",
       "    }\n",
       "\n",
       "    .dataframe thead th {\n",
       "        text-align: right;\n",
       "    }\n",
       "</style>\n",
       "<table border=\"1\" class=\"dataframe\">\n",
       "  <thead>\n",
       "    <tr style=\"text-align: right;\">\n",
       "      <th></th>\n",
       "      <th>state_abbr</th>\n",
       "      <th>county</th>\n",
       "      <th>total_population</th>\n",
       "      <th>pop_one_race</th>\n",
       "      <th>white</th>\n",
       "      <th>black</th>\n",
       "      <th>amarican_indian</th>\n",
       "      <th>asian</th>\n",
       "      <th>hawaiian</th>\n",
       "      <th>other</th>\n",
       "    </tr>\n",
       "  </thead>\n",
       "  <tbody>\n",
       "    <tr>\n",
       "      <th>1511</th>\n",
       "      <td>MI</td>\n",
       "      <td>Alcona County</td>\n",
       "      <td>10167</td>\n",
       "      <td>9785</td>\n",
       "      <td>9644</td>\n",
       "      <td>23</td>\n",
       "      <td>61</td>\n",
       "      <td>14</td>\n",
       "      <td>1</td>\n",
       "      <td>42</td>\n",
       "    </tr>\n",
       "    <tr>\n",
       "      <th>1512</th>\n",
       "      <td>MI</td>\n",
       "      <td>Alger County</td>\n",
       "      <td>8842</td>\n",
       "      <td>8351</td>\n",
       "      <td>7363</td>\n",
       "      <td>587</td>\n",
       "      <td>328</td>\n",
       "      <td>26</td>\n",
       "      <td>1</td>\n",
       "      <td>46</td>\n",
       "    </tr>\n",
       "    <tr>\n",
       "      <th>1513</th>\n",
       "      <td>MI</td>\n",
       "      <td>Allegan County</td>\n",
       "      <td>120502</td>\n",
       "      <td>112970</td>\n",
       "      <td>105564</td>\n",
       "      <td>1584</td>\n",
       "      <td>799</td>\n",
       "      <td>874</td>\n",
       "      <td>22</td>\n",
       "      <td>4127</td>\n",
       "    </tr>\n",
       "    <tr>\n",
       "      <th>1514</th>\n",
       "      <td>MI</td>\n",
       "      <td>Alpena County</td>\n",
       "      <td>28907</td>\n",
       "      <td>27656</td>\n",
       "      <td>27177</td>\n",
       "      <td>99</td>\n",
       "      <td>122</td>\n",
       "      <td>119</td>\n",
       "      <td>12</td>\n",
       "      <td>127</td>\n",
       "    </tr>\n",
       "    <tr>\n",
       "      <th>1515</th>\n",
       "      <td>MI</td>\n",
       "      <td>Antrim County</td>\n",
       "      <td>23431</td>\n",
       "      <td>22372</td>\n",
       "      <td>21902</td>\n",
       "      <td>39</td>\n",
       "      <td>201</td>\n",
       "      <td>72</td>\n",
       "      <td>20</td>\n",
       "      <td>138</td>\n",
       "    </tr>\n",
       "    <tr>\n",
       "      <th>...</th>\n",
       "      <td>...</td>\n",
       "      <td>...</td>\n",
       "      <td>...</td>\n",
       "      <td>...</td>\n",
       "      <td>...</td>\n",
       "      <td>...</td>\n",
       "      <td>...</td>\n",
       "      <td>...</td>\n",
       "      <td>...</td>\n",
       "      <td>...</td>\n",
       "    </tr>\n",
       "    <tr>\n",
       "      <th>1589</th>\n",
       "      <td>MI</td>\n",
       "      <td>Tuscola County</td>\n",
       "      <td>53323</td>\n",
       "      <td>50650</td>\n",
       "      <td>49413</td>\n",
       "      <td>413</td>\n",
       "      <td>200</td>\n",
       "      <td>157</td>\n",
       "      <td>15</td>\n",
       "      <td>452</td>\n",
       "    </tr>\n",
       "    <tr>\n",
       "      <th>1590</th>\n",
       "      <td>MI</td>\n",
       "      <td>Van Buren County</td>\n",
       "      <td>75587</td>\n",
       "      <td>69415</td>\n",
       "      <td>61345</td>\n",
       "      <td>2428</td>\n",
       "      <td>819</td>\n",
       "      <td>386</td>\n",
       "      <td>40</td>\n",
       "      <td>4397</td>\n",
       "    </tr>\n",
       "    <tr>\n",
       "      <th>1591</th>\n",
       "      <td>MI</td>\n",
       "      <td>Washtenaw County</td>\n",
       "      <td>372258</td>\n",
       "      <td>342959</td>\n",
       "      <td>257688</td>\n",
       "      <td>42819</td>\n",
       "      <td>1190</td>\n",
       "      <td>33632</td>\n",
       "      <td>201</td>\n",
       "      <td>7429</td>\n",
       "    </tr>\n",
       "    <tr>\n",
       "      <th>1592</th>\n",
       "      <td>MI</td>\n",
       "      <td>Wayne County</td>\n",
       "      <td>1793561</td>\n",
       "      <td>1682836</td>\n",
       "      <td>882484</td>\n",
       "      <td>674782</td>\n",
       "      <td>7218</td>\n",
       "      <td>64947</td>\n",
       "      <td>433</td>\n",
       "      <td>52972</td>\n",
       "    </tr>\n",
       "    <tr>\n",
       "      <th>1593</th>\n",
       "      <td>MI</td>\n",
       "      <td>Wexford County</td>\n",
       "      <td>33673</td>\n",
       "      <td>31912</td>\n",
       "      <td>31124</td>\n",
       "      <td>193</td>\n",
       "      <td>178</td>\n",
       "      <td>186</td>\n",
       "      <td>1</td>\n",
       "      <td>230</td>\n",
       "    </tr>\n",
       "  </tbody>\n",
       "</table>\n",
       "<p>83 rows × 10 columns</p>\n",
       "</div>"
      ],
      "text/plain": [
       "     state_abbr            county  total_population  pop_one_race   white  \\\n",
       "1511         MI     Alcona County             10167          9785    9644   \n",
       "1512         MI      Alger County              8842          8351    7363   \n",
       "1513         MI    Allegan County            120502        112970  105564   \n",
       "1514         MI     Alpena County             28907         27656   27177   \n",
       "1515         MI     Antrim County             23431         22372   21902   \n",
       "...         ...               ...               ...           ...     ...   \n",
       "1589         MI    Tuscola County             53323         50650   49413   \n",
       "1590         MI  Van Buren County             75587         69415   61345   \n",
       "1591         MI  Washtenaw County            372258        342959  257688   \n",
       "1592         MI      Wayne County           1793561       1682836  882484   \n",
       "1593         MI    Wexford County             33673         31912   31124   \n",
       "\n",
       "       black  amarican_indian  asian  hawaiian  other  \n",
       "1511      23               61     14         1     42  \n",
       "1512     587              328     26         1     46  \n",
       "1513    1584              799    874        22   4127  \n",
       "1514      99              122    119        12    127  \n",
       "1515      39              201     72        20    138  \n",
       "...      ...              ...    ...       ...    ...  \n",
       "1589     413              200    157        15    452  \n",
       "1590    2428              819    386        40   4397  \n",
       "1591   42819             1190  33632       201   7429  \n",
       "1592  674782             7218  64947       433  52972  \n",
       "1593     193              178    186         1    230  \n",
       "\n",
       "[83 rows x 10 columns]"
      ]
     },
     "execution_count": 10,
     "metadata": {},
     "output_type": "execute_result"
    }
   ],
   "source": [
    "population.query('state_abbr == @states_given')"
   ]
  },
  {
   "cell_type": "code",
   "execution_count": 11,
   "id": "f723d674",
   "metadata": {},
   "outputs": [
    {
     "name": "stdout",
     "output_type": "stream",
     "text": [
      "TX\n",
      "               county\n",
      "2440  Anderson County\n",
      "2441   Andrews County\n",
      "2442  Angelina County\n",
      "2443   Aransas County\n",
      "2444    Archer County\n",
      "...               ...\n",
      "2689      Wood County\n",
      "2690    Yoakum County\n",
      "2691     Young County\n",
      "2692    Zapata County\n",
      "2693    Zavala County\n",
      "\n",
      "[254 rows x 1 columns]\n",
      "WY\n",
      "                 county\n",
      "95        Albany County\n",
      "96      Big Horn County\n",
      "97      Campbell County\n",
      "98        Carbon County\n",
      "99      Converse County\n",
      "100        Crook County\n",
      "101      Fremont County\n",
      "102       Goshen County\n",
      "103  Hot Springs County\n",
      "104      Johnson County\n",
      "105      Laramie County\n",
      "106      Lincoln County\n",
      "107      Natrona County\n",
      "108     Niobrara County\n",
      "109         Park County\n",
      "110       Platte County\n",
      "111     Sheridan County\n",
      "112     Sublette County\n",
      "113   Sweetwater County\n",
      "114        Teton County\n",
      "115        Uinta County\n",
      "116     Washakie County\n",
      "117       Weston County\n"
     ]
    }
   ],
   "source": [
    "# How to use loop variable inside pandas df.query()\n",
    "# https://stackoverflow.com/questions/64828539/how-to-use-loop-variable-inside-pandas-df-query\n",
    "\n",
    "states_list = [\"TX\",\"WY\"]\n",
    "\n",
    "#print(population.query('states_list == \"AL\"')[['county']])\n",
    "\n",
    "for st in states_list:\n",
    "    print(st)\n",
    "    #print('states_list ==' + str(st))\n",
    "       \n",
    "    print(population.query('state_abbr ==@st')[['county']])"
   ]
  },
  {
   "cell_type": "code",
   "execution_count": 109,
   "id": "5e365b8e",
   "metadata": {},
   "outputs": [
    {
     "data": {
      "text/plain": [
       "array(['CT', 'MN', 'WY', 'NJ', 'ND', 'NV', 'MD', 'NH', 'ME', 'MT', 'MS',\n",
       "       'OK', 'GA', 'KY', 'PA', 'SC', 'KS', 'CO', 'SD', 'NC', 'AK', 'UT',\n",
       "       'OH', 'ID', 'LA', 'WV', 'MI', 'MO', 'AL', 'RI', 'DE', 'VT', 'MA',\n",
       "       'VA', 'AR', 'NM', 'CA', 'AZ', 'TN', 'WA', 'PR', 'IL', 'TX', 'OR',\n",
       "       'IA', 'HI', 'NE', 'NY', 'IN', 'DC', 'FL', 'WI'], dtype=object)"
      ]
     },
     "execution_count": 109,
     "metadata": {},
     "output_type": "execute_result"
    }
   ],
   "source": [
    "population.state_abbr.unique()"
   ]
  },
  {
   "cell_type": "markdown",
   "id": "9179ce32",
   "metadata": {},
   "source": [
    "Q: Write Python code to select two random US states and include them in a list named **states_list**. Do not forget to use np.random.seed to set the random value to your ID."
   ]
  },
  {
   "cell_type": "code",
   "execution_count": 12,
   "id": "19bbbefe",
   "metadata": {},
   "outputs": [],
   "source": [
    "np.random.seed(id)\n",
    "states_list = np.random.choice(population.state_abbr.unique(), 2, replace = True).tolist()"
   ]
  },
  {
   "cell_type": "markdown",
   "id": "843b6690",
   "metadata": {},
   "source": [
    "Q: List all counties for each state in the **states_list**."
   ]
  },
  {
   "cell_type": "code",
   "execution_count": 13,
   "id": "42eeff3a",
   "metadata": {},
   "outputs": [
    {
     "name": "stdout",
     "output_type": "stream",
     "text": [
      "MI\n",
      "     state_abbr            county  total_population  pop_one_race   white  \\\n",
      "1511         MI     Alcona County             10167          9785    9644   \n",
      "1512         MI      Alger County              8842          8351    7363   \n",
      "1513         MI    Allegan County            120502        112970  105564   \n",
      "1514         MI     Alpena County             28907         27656   27177   \n",
      "1515         MI     Antrim County             23431         22372   21902   \n",
      "...         ...               ...               ...           ...     ...   \n",
      "1589         MI    Tuscola County             53323         50650   49413   \n",
      "1590         MI  Van Buren County             75587         69415   61345   \n",
      "1591         MI  Washtenaw County            372258        342959  257688   \n",
      "1592         MI      Wayne County           1793561       1682836  882484   \n",
      "1593         MI    Wexford County             33673         31912   31124   \n",
      "\n",
      "       black  amarican_indian  asian  hawaiian  other  \n",
      "1511      23               61     14         1     42  \n",
      "1512     587              328     26         1     46  \n",
      "1513    1584              799    874        22   4127  \n",
      "1514      99              122    119        12    127  \n",
      "1515      39              201     72        20    138  \n",
      "...      ...              ...    ...       ...    ...  \n",
      "1589     413              200    157        15    452  \n",
      "1590    2428              819    386        40   4397  \n",
      "1591   42819             1190  33632       201   7429  \n",
      "1592  674782             7218  64947       433  52972  \n",
      "1593     193              178    186         1    230  \n",
      "\n",
      "[83 rows x 10 columns]\n",
      "HI\n",
      "     state_abbr           county  total_population  pop_one_race   white  \\\n",
      "2829         HI    Hawaii County            200629        141384   67365   \n",
      "2830         HI  Honolulu County           1016508        767822  188462   \n",
      "2831         HI   Kalawao County                82            60      27   \n",
      "2832         HI     Kauai County             73298         53290   23204   \n",
      "2833         HI      Maui County            164754        124586   54203   \n",
      "\n",
      "      black  amarican_indian   asian  hawaiian  other  \n",
      "2829   1251             1027   39607     28096   4038  \n",
      "2830  20723             2278  436853    102099  17407  \n",
      "2831      2                0      12        15      4  \n",
      "2832    376              287   21102      7227   1094  \n",
      "2833   1065              778   44328     20008   4204  \n"
     ]
    }
   ],
   "source": [
    "for st in states_list:\n",
    "    print(st)\n",
    "    #print('states_list ==' + str(st))\n",
    "       \n",
    "    #print(population.query('state_abbr ==@st')[['county']])\n",
    "    print(population.query('state_abbr ==@st'))"
   ]
  },
  {
   "cell_type": "code",
   "execution_count": null,
   "id": "e580733f",
   "metadata": {},
   "outputs": [],
   "source": []
  },
  {
   "cell_type": "markdown",
   "id": "0ec3c024",
   "metadata": {},
   "source": [
    "#### Population by US states"
   ]
  },
  {
   "cell_type": "markdown",
   "id": "a6777f8d",
   "metadata": {},
   "source": [
    "Q: Write Python code to create a table including the population for each U.S. state. The table should include total population, pop_one_race, white, black, etc. for each state."
   ]
  },
  {
   "cell_type": "code",
   "execution_count": 112,
   "id": "c8381bac",
   "metadata": {},
   "outputs": [],
   "source": [
    "population_state = population.groupby('state_abbr').sum()"
   ]
  },
  {
   "cell_type": "code",
   "execution_count": 113,
   "id": "76266555",
   "metadata": {},
   "outputs": [
    {
     "data": {
      "text/html": [
       "<div>\n",
       "<style scoped>\n",
       "    .dataframe tbody tr th:only-of-type {\n",
       "        vertical-align: middle;\n",
       "    }\n",
       "\n",
       "    .dataframe tbody tr th {\n",
       "        vertical-align: top;\n",
       "    }\n",
       "\n",
       "    .dataframe thead th {\n",
       "        text-align: right;\n",
       "    }\n",
       "</style>\n",
       "<table border=\"1\" class=\"dataframe\">\n",
       "  <thead>\n",
       "    <tr style=\"text-align: right;\">\n",
       "      <th></th>\n",
       "      <th>total_population</th>\n",
       "      <th>pop_one_race</th>\n",
       "      <th>white</th>\n",
       "      <th>black</th>\n",
       "      <th>amarican_indian</th>\n",
       "      <th>asian</th>\n",
       "      <th>hawaiian</th>\n",
       "      <th>other</th>\n",
       "    </tr>\n",
       "    <tr>\n",
       "      <th>state_abbr</th>\n",
       "      <th></th>\n",
       "      <th></th>\n",
       "      <th></th>\n",
       "      <th></th>\n",
       "      <th></th>\n",
       "      <th></th>\n",
       "      <th></th>\n",
       "      <th></th>\n",
       "    </tr>\n",
       "  </thead>\n",
       "  <tbody>\n",
       "    <tr>\n",
       "      <th>AK</th>\n",
       "      <td>733391</td>\n",
       "      <td>643867</td>\n",
       "      <td>435392</td>\n",
       "      <td>21898</td>\n",
       "      <td>111575</td>\n",
       "      <td>44032</td>\n",
       "      <td>12698</td>\n",
       "      <td>18272</td>\n",
       "    </tr>\n",
       "    <tr>\n",
       "      <th>AL</th>\n",
       "      <td>5024279</td>\n",
       "      <td>4767326</td>\n",
       "      <td>3220452</td>\n",
       "      <td>1296162</td>\n",
       "      <td>33625</td>\n",
       "      <td>76660</td>\n",
       "      <td>2984</td>\n",
       "      <td>137443</td>\n",
       "    </tr>\n",
       "    <tr>\n",
       "      <th>AR</th>\n",
       "      <td>3011524</td>\n",
       "      <td>2797949</td>\n",
       "      <td>2114512</td>\n",
       "      <td>453783</td>\n",
       "      <td>27177</td>\n",
       "      <td>51839</td>\n",
       "      <td>14533</td>\n",
       "      <td>136105</td>\n",
       "    </tr>\n",
       "    <tr>\n",
       "      <th>AZ</th>\n",
       "      <td>7151502</td>\n",
       "      <td>6154696</td>\n",
       "      <td>4322337</td>\n",
       "      <td>339150</td>\n",
       "      <td>319512</td>\n",
       "      <td>257430</td>\n",
       "      <td>16397</td>\n",
       "      <td>899870</td>\n",
       "    </tr>\n",
       "    <tr>\n",
       "      <th>CA</th>\n",
       "      <td>39538223</td>\n",
       "      <td>33777988</td>\n",
       "      <td>16296122</td>\n",
       "      <td>2237044</td>\n",
       "      <td>631016</td>\n",
       "      <td>6085947</td>\n",
       "      <td>157263</td>\n",
       "      <td>8370596</td>\n",
       "    </tr>\n",
       "  </tbody>\n",
       "</table>\n",
       "</div>"
      ],
      "text/plain": [
       "            total_population  pop_one_race     white    black  \\\n",
       "state_abbr                                                      \n",
       "AK                    733391        643867    435392    21898   \n",
       "AL                   5024279       4767326   3220452  1296162   \n",
       "AR                   3011524       2797949   2114512   453783   \n",
       "AZ                   7151502       6154696   4322337   339150   \n",
       "CA                  39538223      33777988  16296122  2237044   \n",
       "\n",
       "            amarican_indian    asian  hawaiian    other  \n",
       "state_abbr                                               \n",
       "AK                   111575    44032     12698    18272  \n",
       "AL                    33625    76660      2984   137443  \n",
       "AR                    27177    51839     14533   136105  \n",
       "AZ                   319512   257430     16397   899870  \n",
       "CA                   631016  6085947    157263  8370596  "
      ]
     },
     "execution_count": 113,
     "metadata": {},
     "output_type": "execute_result"
    }
   ],
   "source": [
    "population_state.head()"
   ]
  },
  {
   "cell_type": "markdown",
   "id": "11348742",
   "metadata": {},
   "source": [
    "Q: From the table of population by race for each US state created above, write Python code to calculate the (row) percentages (for each US state) of the following variables \n",
    "**'white','black','amarican_indian','asian','hawaiian','other'**."
   ]
  },
  {
   "cell_type": "code",
   "execution_count": 114,
   "id": "645864a7",
   "metadata": {},
   "outputs": [],
   "source": [
    "races_list = ['white','black','amarican_indian','asian','hawaiian','other']\n",
    "\n",
    "population_state[races_list] = population_state[races_list].apply(lambda x: x/x.sum(), axis=1)"
   ]
  },
  {
   "cell_type": "code",
   "execution_count": 115,
   "id": "ace6a53a",
   "metadata": {},
   "outputs": [
    {
     "data": {
      "text/html": [
       "<div>\n",
       "<style scoped>\n",
       "    .dataframe tbody tr th:only-of-type {\n",
       "        vertical-align: middle;\n",
       "    }\n",
       "\n",
       "    .dataframe tbody tr th {\n",
       "        vertical-align: top;\n",
       "    }\n",
       "\n",
       "    .dataframe thead th {\n",
       "        text-align: right;\n",
       "    }\n",
       "</style>\n",
       "<table border=\"1\" class=\"dataframe\">\n",
       "  <thead>\n",
       "    <tr style=\"text-align: right;\">\n",
       "      <th></th>\n",
       "      <th>total_population</th>\n",
       "      <th>pop_one_race</th>\n",
       "      <th>white</th>\n",
       "      <th>black</th>\n",
       "      <th>amarican_indian</th>\n",
       "      <th>asian</th>\n",
       "      <th>hawaiian</th>\n",
       "      <th>other</th>\n",
       "    </tr>\n",
       "    <tr>\n",
       "      <th>state_abbr</th>\n",
       "      <th></th>\n",
       "      <th></th>\n",
       "      <th></th>\n",
       "      <th></th>\n",
       "      <th></th>\n",
       "      <th></th>\n",
       "      <th></th>\n",
       "      <th></th>\n",
       "    </tr>\n",
       "  </thead>\n",
       "  <tbody>\n",
       "    <tr>\n",
       "      <th>AK</th>\n",
       "      <td>733391</td>\n",
       "      <td>643867</td>\n",
       "      <td>0.676214</td>\n",
       "      <td>0.034010</td>\n",
       "      <td>0.173289</td>\n",
       "      <td>0.068387</td>\n",
       "      <td>0.019721</td>\n",
       "      <td>0.028379</td>\n",
       "    </tr>\n",
       "    <tr>\n",
       "      <th>AL</th>\n",
       "      <td>5024279</td>\n",
       "      <td>4767326</td>\n",
       "      <td>0.675526</td>\n",
       "      <td>0.271884</td>\n",
       "      <td>0.007053</td>\n",
       "      <td>0.016080</td>\n",
       "      <td>0.000626</td>\n",
       "      <td>0.028830</td>\n",
       "    </tr>\n",
       "    <tr>\n",
       "      <th>AR</th>\n",
       "      <td>3011524</td>\n",
       "      <td>2797949</td>\n",
       "      <td>0.755736</td>\n",
       "      <td>0.162184</td>\n",
       "      <td>0.009713</td>\n",
       "      <td>0.018527</td>\n",
       "      <td>0.005194</td>\n",
       "      <td>0.048645</td>\n",
       "    </tr>\n",
       "    <tr>\n",
       "      <th>AZ</th>\n",
       "      <td>7151502</td>\n",
       "      <td>6154696</td>\n",
       "      <td>0.702283</td>\n",
       "      <td>0.055104</td>\n",
       "      <td>0.051914</td>\n",
       "      <td>0.041827</td>\n",
       "      <td>0.002664</td>\n",
       "      <td>0.146209</td>\n",
       "    </tr>\n",
       "    <tr>\n",
       "      <th>CA</th>\n",
       "      <td>39538223</td>\n",
       "      <td>33777988</td>\n",
       "      <td>0.482448</td>\n",
       "      <td>0.066228</td>\n",
       "      <td>0.018681</td>\n",
       "      <td>0.180175</td>\n",
       "      <td>0.004656</td>\n",
       "      <td>0.247812</td>\n",
       "    </tr>\n",
       "  </tbody>\n",
       "</table>\n",
       "</div>"
      ],
      "text/plain": [
       "            total_population  pop_one_race     white     black  \\\n",
       "state_abbr                                                       \n",
       "AK                    733391        643867  0.676214  0.034010   \n",
       "AL                   5024279       4767326  0.675526  0.271884   \n",
       "AR                   3011524       2797949  0.755736  0.162184   \n",
       "AZ                   7151502       6154696  0.702283  0.055104   \n",
       "CA                  39538223      33777988  0.482448  0.066228   \n",
       "\n",
       "            amarican_indian     asian  hawaiian     other  \n",
       "state_abbr                                                 \n",
       "AK                 0.173289  0.068387  0.019721  0.028379  \n",
       "AL                 0.007053  0.016080  0.000626  0.028830  \n",
       "AR                 0.009713  0.018527  0.005194  0.048645  \n",
       "AZ                 0.051914  0.041827  0.002664  0.146209  \n",
       "CA                 0.018681  0.180175  0.004656  0.247812  "
      ]
     },
     "execution_count": 115,
     "metadata": {},
     "output_type": "execute_result"
    }
   ],
   "source": [
    "population_state.head()"
   ]
  },
  {
   "cell_type": "code",
   "execution_count": 116,
   "id": "17742403",
   "metadata": {},
   "outputs": [],
   "source": [
    "population_state['state_abbr'] = population_state.index"
   ]
  },
  {
   "cell_type": "code",
   "execution_count": 117,
   "id": "e1af4da6",
   "metadata": {},
   "outputs": [
    {
     "data": {
      "text/html": [
       "<div>\n",
       "<style scoped>\n",
       "    .dataframe tbody tr th:only-of-type {\n",
       "        vertical-align: middle;\n",
       "    }\n",
       "\n",
       "    .dataframe tbody tr th {\n",
       "        vertical-align: top;\n",
       "    }\n",
       "\n",
       "    .dataframe thead th {\n",
       "        text-align: right;\n",
       "    }\n",
       "</style>\n",
       "<table border=\"1\" class=\"dataframe\">\n",
       "  <thead>\n",
       "    <tr style=\"text-align: right;\">\n",
       "      <th></th>\n",
       "      <th>total_population</th>\n",
       "      <th>pop_one_race</th>\n",
       "      <th>white</th>\n",
       "      <th>black</th>\n",
       "      <th>amarican_indian</th>\n",
       "      <th>asian</th>\n",
       "      <th>hawaiian</th>\n",
       "      <th>other</th>\n",
       "      <th>state_abbr</th>\n",
       "    </tr>\n",
       "    <tr>\n",
       "      <th>state_abbr</th>\n",
       "      <th></th>\n",
       "      <th></th>\n",
       "      <th></th>\n",
       "      <th></th>\n",
       "      <th></th>\n",
       "      <th></th>\n",
       "      <th></th>\n",
       "      <th></th>\n",
       "      <th></th>\n",
       "    </tr>\n",
       "  </thead>\n",
       "  <tbody>\n",
       "    <tr>\n",
       "      <th>AK</th>\n",
       "      <td>733391</td>\n",
       "      <td>643867</td>\n",
       "      <td>0.676214</td>\n",
       "      <td>0.034010</td>\n",
       "      <td>0.173289</td>\n",
       "      <td>0.068387</td>\n",
       "      <td>0.019721</td>\n",
       "      <td>0.028379</td>\n",
       "      <td>AK</td>\n",
       "    </tr>\n",
       "    <tr>\n",
       "      <th>AL</th>\n",
       "      <td>5024279</td>\n",
       "      <td>4767326</td>\n",
       "      <td>0.675526</td>\n",
       "      <td>0.271884</td>\n",
       "      <td>0.007053</td>\n",
       "      <td>0.016080</td>\n",
       "      <td>0.000626</td>\n",
       "      <td>0.028830</td>\n",
       "      <td>AL</td>\n",
       "    </tr>\n",
       "    <tr>\n",
       "      <th>AR</th>\n",
       "      <td>3011524</td>\n",
       "      <td>2797949</td>\n",
       "      <td>0.755736</td>\n",
       "      <td>0.162184</td>\n",
       "      <td>0.009713</td>\n",
       "      <td>0.018527</td>\n",
       "      <td>0.005194</td>\n",
       "      <td>0.048645</td>\n",
       "      <td>AR</td>\n",
       "    </tr>\n",
       "    <tr>\n",
       "      <th>AZ</th>\n",
       "      <td>7151502</td>\n",
       "      <td>6154696</td>\n",
       "      <td>0.702283</td>\n",
       "      <td>0.055104</td>\n",
       "      <td>0.051914</td>\n",
       "      <td>0.041827</td>\n",
       "      <td>0.002664</td>\n",
       "      <td>0.146209</td>\n",
       "      <td>AZ</td>\n",
       "    </tr>\n",
       "    <tr>\n",
       "      <th>CA</th>\n",
       "      <td>39538223</td>\n",
       "      <td>33777988</td>\n",
       "      <td>0.482448</td>\n",
       "      <td>0.066228</td>\n",
       "      <td>0.018681</td>\n",
       "      <td>0.180175</td>\n",
       "      <td>0.004656</td>\n",
       "      <td>0.247812</td>\n",
       "      <td>CA</td>\n",
       "    </tr>\n",
       "    <tr>\n",
       "      <th>CO</th>\n",
       "      <td>5773714</td>\n",
       "      <td>5066044</td>\n",
       "      <td>0.805940</td>\n",
       "      <td>0.046353</td>\n",
       "      <td>0.014633</td>\n",
       "      <td>0.039444</td>\n",
       "      <td>0.002031</td>\n",
       "      <td>0.091599</td>\n",
       "      <td>CO</td>\n",
       "    </tr>\n",
       "    <tr>\n",
       "      <th>CT</th>\n",
       "      <td>3605944</td>\n",
       "      <td>3273040</td>\n",
       "      <td>0.731775</td>\n",
       "      <td>0.118750</td>\n",
       "      <td>0.004904</td>\n",
       "      <td>0.052690</td>\n",
       "      <td>0.000488</td>\n",
       "      <td>0.091393</td>\n",
       "      <td>CT</td>\n",
       "    </tr>\n",
       "    <tr>\n",
       "      <th>DC</th>\n",
       "      <td>689545</td>\n",
       "      <td>633468</td>\n",
       "      <td>0.431267</td>\n",
       "      <td>0.451183</td>\n",
       "      <td>0.005041</td>\n",
       "      <td>0.052955</td>\n",
       "      <td>0.000682</td>\n",
       "      <td>0.058873</td>\n",
       "      <td>DC</td>\n",
       "    </tr>\n",
       "    <tr>\n",
       "      <th>DE</th>\n",
       "      <td>989948</td>\n",
       "      <td>913430</td>\n",
       "      <td>0.654416</td>\n",
       "      <td>0.239645</td>\n",
       "      <td>0.005636</td>\n",
       "      <td>0.046746</td>\n",
       "      <td>0.000451</td>\n",
       "      <td>0.053106</td>\n",
       "      <td>DE</td>\n",
       "    </tr>\n",
       "    <tr>\n",
       "      <th>FL</th>\n",
       "      <td>21538187</td>\n",
       "      <td>17986115</td>\n",
       "      <td>0.690697</td>\n",
       "      <td>0.180494</td>\n",
       "      <td>0.005270</td>\n",
       "      <td>0.035788</td>\n",
       "      <td>0.000779</td>\n",
       "      <td>0.086972</td>\n",
       "      <td>FL</td>\n",
       "    </tr>\n",
       "    <tr>\n",
       "      <th>GA</th>\n",
       "      <td>10711908</td>\n",
       "      <td>9968000</td>\n",
       "      <td>0.557332</td>\n",
       "      <td>0.333117</td>\n",
       "      <td>0.005078</td>\n",
       "      <td>0.048057</td>\n",
       "      <td>0.000732</td>\n",
       "      <td>0.055684</td>\n",
       "      <td>GA</td>\n",
       "    </tr>\n",
       "    <tr>\n",
       "      <th>HI</th>\n",
       "      <td>1455271</td>\n",
       "      <td>1087142</td>\n",
       "      <td>0.306548</td>\n",
       "      <td>0.021540</td>\n",
       "      <td>0.004020</td>\n",
       "      <td>0.498465</td>\n",
       "      <td>0.144825</td>\n",
       "      <td>0.024603</td>\n",
       "      <td>HI</td>\n",
       "    </tr>\n",
       "    <tr>\n",
       "      <th>IA</th>\n",
       "      <td>3190369</td>\n",
       "      <td>3011086</td>\n",
       "      <td>0.894867</td>\n",
       "      <td>0.043829</td>\n",
       "      <td>0.004811</td>\n",
       "      <td>0.025117</td>\n",
       "      <td>0.001912</td>\n",
       "      <td>0.029464</td>\n",
       "      <td>IA</td>\n",
       "    </tr>\n",
       "    <tr>\n",
       "      <th>ID</th>\n",
       "      <td>1839106</td>\n",
       "      <td>1685901</td>\n",
       "      <td>0.895877</td>\n",
       "      <td>0.009328</td>\n",
       "      <td>0.015197</td>\n",
       "      <td>0.015918</td>\n",
       "      <td>0.002210</td>\n",
       "      <td>0.061470</td>\n",
       "      <td>ID</td>\n",
       "    </tr>\n",
       "    <tr>\n",
       "      <th>IL</th>\n",
       "      <td>12812508</td>\n",
       "      <td>11667524</td>\n",
       "      <td>0.674370</td>\n",
       "      <td>0.154983</td>\n",
       "      <td>0.008271</td>\n",
       "      <td>0.064699</td>\n",
       "      <td>0.000386</td>\n",
       "      <td>0.097291</td>\n",
       "      <td>IL</td>\n",
       "    </tr>\n",
       "    <tr>\n",
       "      <th>IN</th>\n",
       "      <td>6785528</td>\n",
       "      <td>6348802</td>\n",
       "      <td>0.825635</td>\n",
       "      <td>0.102147</td>\n",
       "      <td>0.004109</td>\n",
       "      <td>0.026455</td>\n",
       "      <td>0.000494</td>\n",
       "      <td>0.041159</td>\n",
       "      <td>IN</td>\n",
       "    </tr>\n",
       "    <tr>\n",
       "      <th>KS</th>\n",
       "      <td>2937880</td>\n",
       "      <td>2657373</td>\n",
       "      <td>0.836338</td>\n",
       "      <td>0.063525</td>\n",
       "      <td>0.011664</td>\n",
       "      <td>0.032466</td>\n",
       "      <td>0.001284</td>\n",
       "      <td>0.054724</td>\n",
       "      <td>KS</td>\n",
       "    </tr>\n",
       "    <tr>\n",
       "      <th>KY</th>\n",
       "      <td>4505836</td>\n",
       "      <td>4260996</td>\n",
       "      <td>0.870983</td>\n",
       "      <td>0.085055</td>\n",
       "      <td>0.003004</td>\n",
       "      <td>0.017467</td>\n",
       "      <td>0.000864</td>\n",
       "      <td>0.022628</td>\n",
       "      <td>KY</td>\n",
       "    </tr>\n",
       "    <tr>\n",
       "      <th>LA</th>\n",
       "      <td>4657757</td>\n",
       "      <td>4384380</td>\n",
       "      <td>0.606164</td>\n",
       "      <td>0.333918</td>\n",
       "      <td>0.007220</td>\n",
       "      <td>0.019715</td>\n",
       "      <td>0.000436</td>\n",
       "      <td>0.032547</td>\n",
       "      <td>LA</td>\n",
       "    </tr>\n",
       "    <tr>\n",
       "      <th>MA</th>\n",
       "      <td>7029917</td>\n",
       "      <td>6421050</td>\n",
       "      <td>0.762498</td>\n",
       "      <td>0.076939</td>\n",
       "      <td>0.003741</td>\n",
       "      <td>0.079105</td>\n",
       "      <td>0.000358</td>\n",
       "      <td>0.077360</td>\n",
       "      <td>MA</td>\n",
       "    </tr>\n",
       "    <tr>\n",
       "      <th>MD</th>\n",
       "      <td>6177224</td>\n",
       "      <td>5695323</td>\n",
       "      <td>0.528131</td>\n",
       "      <td>0.319643</td>\n",
       "      <td>0.005591</td>\n",
       "      <td>0.073910</td>\n",
       "      <td>0.000570</td>\n",
       "      <td>0.072154</td>\n",
       "      <td>MD</td>\n",
       "    </tr>\n",
       "    <tr>\n",
       "      <th>ME</th>\n",
       "      <td>1362359</td>\n",
       "      <td>1297649</td>\n",
       "      <td>0.953294</td>\n",
       "      <td>0.019845</td>\n",
       "      <td>0.006076</td>\n",
       "      <td>0.012945</td>\n",
       "      <td>0.000341</td>\n",
       "      <td>0.007498</td>\n",
       "      <td>ME</td>\n",
       "    </tr>\n",
       "    <tr>\n",
       "      <th>MI</th>\n",
       "      <td>10077331</td>\n",
       "      <td>9442016</td>\n",
       "      <td>0.788494</td>\n",
       "      <td>0.145793</td>\n",
       "      <td>0.006488</td>\n",
       "      <td>0.035406</td>\n",
       "      <td>0.000323</td>\n",
       "      <td>0.023496</td>\n",
       "      <td>MI</td>\n",
       "    </tr>\n",
       "    <tr>\n",
       "      <th>MN</th>\n",
       "      <td>5706494</td>\n",
       "      <td>5360773</td>\n",
       "      <td>0.825095</td>\n",
       "      <td>0.074324</td>\n",
       "      <td>0.012804</td>\n",
       "      <td>0.055811</td>\n",
       "      <td>0.000544</td>\n",
       "      <td>0.031422</td>\n",
       "      <td>MN</td>\n",
       "    </tr>\n",
       "    <tr>\n",
       "      <th>MO</th>\n",
       "      <td>6154913</td>\n",
       "      <td>5741742</td>\n",
       "      <td>0.825592</td>\n",
       "      <td>0.121886</td>\n",
       "      <td>0.005315</td>\n",
       "      <td>0.023229</td>\n",
       "      <td>0.001695</td>\n",
       "      <td>0.022283</td>\n",
       "      <td>MO</td>\n",
       "    </tr>\n",
       "    <tr>\n",
       "      <th>MS</th>\n",
       "      <td>2961279</td>\n",
       "      <td>2850547</td>\n",
       "      <td>0.581956</td>\n",
       "      <td>0.380447</td>\n",
       "      <td>0.005771</td>\n",
       "      <td>0.011475</td>\n",
       "      <td>0.000405</td>\n",
       "      <td>0.019947</td>\n",
       "      <td>MS</td>\n",
       "    </tr>\n",
       "    <tr>\n",
       "      <th>MT</th>\n",
       "      <td>1084225</td>\n",
       "      <td>1012950</td>\n",
       "      <td>0.904807</td>\n",
       "      <td>0.005414</td>\n",
       "      <td>0.066748</td>\n",
       "      <td>0.008194</td>\n",
       "      <td>0.000929</td>\n",
       "      <td>0.013909</td>\n",
       "      <td>MT</td>\n",
       "    </tr>\n",
       "    <tr>\n",
       "      <th>NC</th>\n",
       "      <td>10439388</td>\n",
       "      <td>9727667</td>\n",
       "      <td>0.667011</td>\n",
       "      <td>0.220013</td>\n",
       "      <td>0.013367</td>\n",
       "      <td>0.035265</td>\n",
       "      <td>0.000876</td>\n",
       "      <td>0.063467</td>\n",
       "      <td>NC</td>\n",
       "    </tr>\n",
       "    <tr>\n",
       "      <th>ND</th>\n",
       "      <td>779094</td>\n",
       "      <td>737154</td>\n",
       "      <td>0.876259</td>\n",
       "      <td>0.036333</td>\n",
       "      <td>0.052790</td>\n",
       "      <td>0.017924</td>\n",
       "      <td>0.001253</td>\n",
       "      <td>0.015440</td>\n",
       "      <td>ND</td>\n",
       "    </tr>\n",
       "    <tr>\n",
       "      <th>NE</th>\n",
       "      <td>1961504</td>\n",
       "      <td>1817341</td>\n",
       "      <td>0.846320</td>\n",
       "      <td>0.053119</td>\n",
       "      <td>0.012712</td>\n",
       "      <td>0.029137</td>\n",
       "      <td>0.000844</td>\n",
       "      <td>0.057869</td>\n",
       "      <td>NE</td>\n",
       "    </tr>\n",
       "    <tr>\n",
       "      <th>NH</th>\n",
       "      <td>1377529</td>\n",
       "      <td>1299787</td>\n",
       "      <td>0.935694</td>\n",
       "      <td>0.015485</td>\n",
       "      <td>0.002332</td>\n",
       "      <td>0.027598</td>\n",
       "      <td>0.000349</td>\n",
       "      <td>0.018543</td>\n",
       "      <td>NH</td>\n",
       "    </tr>\n",
       "    <tr>\n",
       "      <th>NJ</th>\n",
       "      <td>9288994</td>\n",
       "      <td>8385500</td>\n",
       "      <td>0.609657</td>\n",
       "      <td>0.145462</td>\n",
       "      <td>0.006104</td>\n",
       "      <td>0.113302</td>\n",
       "      <td>0.000421</td>\n",
       "      <td>0.125054</td>\n",
       "      <td>NJ</td>\n",
       "    </tr>\n",
       "    <tr>\n",
       "      <th>NM</th>\n",
       "      <td>2117522</td>\n",
       "      <td>1695276</td>\n",
       "      <td>0.636437</td>\n",
       "      <td>0.027078</td>\n",
       "      <td>0.125196</td>\n",
       "      <td>0.022102</td>\n",
       "      <td>0.001235</td>\n",
       "      <td>0.187953</td>\n",
       "      <td>NM</td>\n",
       "    </tr>\n",
       "    <tr>\n",
       "      <th>NV</th>\n",
       "      <td>3104614</td>\n",
       "      <td>2670605</td>\n",
       "      <td>0.594795</td>\n",
       "      <td>0.114109</td>\n",
       "      <td>0.016450</td>\n",
       "      <td>0.102113</td>\n",
       "      <td>0.009365</td>\n",
       "      <td>0.163168</td>\n",
       "      <td>NV</td>\n",
       "    </tr>\n",
       "    <tr>\n",
       "      <th>NY</th>\n",
       "      <td>20201249</td>\n",
       "      <td>18433786</td>\n",
       "      <td>0.604507</td>\n",
       "      <td>0.161995</td>\n",
       "      <td>0.008120</td>\n",
       "      <td>0.104869</td>\n",
       "      <td>0.000587</td>\n",
       "      <td>0.119923</td>\n",
       "      <td>NY</td>\n",
       "    </tr>\n",
       "    <tr>\n",
       "      <th>OH</th>\n",
       "      <td>11799448</td>\n",
       "      <td>11118076</td>\n",
       "      <td>0.816750</td>\n",
       "      <td>0.133007</td>\n",
       "      <td>0.002763</td>\n",
       "      <td>0.026849</td>\n",
       "      <td>0.000453</td>\n",
       "      <td>0.020178</td>\n",
       "      <td>OH</td>\n",
       "    </tr>\n",
       "    <tr>\n",
       "      <th>OK</th>\n",
       "      <td>3959353</td>\n",
       "      <td>3451195</td>\n",
       "      <td>0.728700</td>\n",
       "      <td>0.084018</td>\n",
       "      <td>0.096428</td>\n",
       "      <td>0.026353</td>\n",
       "      <td>0.002494</td>\n",
       "      <td>0.062008</td>\n",
       "      <td>OK</td>\n",
       "    </tr>\n",
       "    <tr>\n",
       "      <th>OR</th>\n",
       "      <td>4237256</td>\n",
       "      <td>3793917</td>\n",
       "      <td>0.835310</td>\n",
       "      <td>0.021786</td>\n",
       "      <td>0.016604</td>\n",
       "      <td>0.051276</td>\n",
       "      <td>0.005062</td>\n",
       "      <td>0.069962</td>\n",
       "      <td>OR</td>\n",
       "    </tr>\n",
       "    <tr>\n",
       "      <th>PA</th>\n",
       "      <td>13002700</td>\n",
       "      <td>12228216</td>\n",
       "      <td>0.797392</td>\n",
       "      <td>0.116384</td>\n",
       "      <td>0.002539</td>\n",
       "      <td>0.041748</td>\n",
       "      <td>0.000350</td>\n",
       "      <td>0.041587</td>\n",
       "      <td>PA</td>\n",
       "    </tr>\n",
       "    <tr>\n",
       "      <th>PR</th>\n",
       "      <td>3285874</td>\n",
       "      <td>1650083</td>\n",
       "      <td>0.339736</td>\n",
       "      <td>0.138606</td>\n",
       "      <td>0.010830</td>\n",
       "      <td>0.002425</td>\n",
       "      <td>0.000359</td>\n",
       "      <td>0.508045</td>\n",
       "      <td>PR</td>\n",
       "    </tr>\n",
       "    <tr>\n",
       "      <th>RI</th>\n",
       "      <td>1097379</td>\n",
       "      <td>995585</td>\n",
       "      <td>0.786392</td>\n",
       "      <td>0.062444</td>\n",
       "      <td>0.007418</td>\n",
       "      <td>0.039134</td>\n",
       "      <td>0.000538</td>\n",
       "      <td>0.104074</td>\n",
       "      <td>RI</td>\n",
       "    </tr>\n",
       "    <tr>\n",
       "      <th>SC</th>\n",
       "      <td>5118425</td>\n",
       "      <td>4820049</td>\n",
       "      <td>0.672906</td>\n",
       "      <td>0.265668</td>\n",
       "      <td>0.005042</td>\n",
       "      <td>0.018769</td>\n",
       "      <td>0.000712</td>\n",
       "      <td>0.036903</td>\n",
       "      <td>SC</td>\n",
       "    </tr>\n",
       "    <tr>\n",
       "      <th>SD</th>\n",
       "      <td>886667</td>\n",
       "      <td>840002</td>\n",
       "      <td>0.851588</td>\n",
       "      <td>0.021240</td>\n",
       "      <td>0.092557</td>\n",
       "      <td>0.016043</td>\n",
       "      <td>0.000646</td>\n",
       "      <td>0.017925</td>\n",
       "      <td>SD</td>\n",
       "    </tr>\n",
       "    <tr>\n",
       "      <th>TN</th>\n",
       "      <td>6910840</td>\n",
       "      <td>6497942</td>\n",
       "      <td>0.768080</td>\n",
       "      <td>0.168199</td>\n",
       "      <td>0.004316</td>\n",
       "      <td>0.020870</td>\n",
       "      <td>0.000633</td>\n",
       "      <td>0.037902</td>\n",
       "      <td>TN</td>\n",
       "    </tr>\n",
       "    <tr>\n",
       "      <th>TX</th>\n",
       "      <td>29145505</td>\n",
       "      <td>24011767</td>\n",
       "      <td>0.608425</td>\n",
       "      <td>0.147969</td>\n",
       "      <td>0.011617</td>\n",
       "      <td>0.066029</td>\n",
       "      <td>0.001400</td>\n",
       "      <td>0.164560</td>\n",
       "      <td>TX</td>\n",
       "    </tr>\n",
       "    <tr>\n",
       "      <th>UT</th>\n",
       "      <td>3271616</td>\n",
       "      <td>2992603</td>\n",
       "      <td>0.859925</td>\n",
       "      <td>0.013386</td>\n",
       "      <td>0.013916</td>\n",
       "      <td>0.026879</td>\n",
       "      <td>0.012340</td>\n",
       "      <td>0.073555</td>\n",
       "      <td>UT</td>\n",
       "    </tr>\n",
       "    <tr>\n",
       "      <th>VA</th>\n",
       "      <td>8631393</td>\n",
       "      <td>7925686</td>\n",
       "      <td>0.657212</td>\n",
       "      <td>0.202832</td>\n",
       "      <td>0.005048</td>\n",
       "      <td>0.077651</td>\n",
       "      <td>0.000903</td>\n",
       "      <td>0.056355</td>\n",
       "      <td>VA</td>\n",
       "    </tr>\n",
       "    <tr>\n",
       "      <th>VT</th>\n",
       "      <td>643077</td>\n",
       "      <td>606051</td>\n",
       "      <td>0.953304</td>\n",
       "      <td>0.014906</td>\n",
       "      <td>0.003777</td>\n",
       "      <td>0.019056</td>\n",
       "      <td>0.000299</td>\n",
       "      <td>0.008658</td>\n",
       "      <td>VT</td>\n",
       "    </tr>\n",
       "    <tr>\n",
       "      <th>WA</th>\n",
       "      <td>7705281</td>\n",
       "      <td>6868622</td>\n",
       "      <td>0.747009</td>\n",
       "      <td>0.044778</td>\n",
       "      <td>0.017684</td>\n",
       "      <td>0.106367</td>\n",
       "      <td>0.009454</td>\n",
       "      <td>0.074708</td>\n",
       "      <td>WA</td>\n",
       "    </tr>\n",
       "    <tr>\n",
       "      <th>WI</th>\n",
       "      <td>5893718</td>\n",
       "      <td>5534184</td>\n",
       "      <td>0.856051</td>\n",
       "      <td>0.067988</td>\n",
       "      <td>0.010919</td>\n",
       "      <td>0.031748</td>\n",
       "      <td>0.000397</td>\n",
       "      <td>0.032896</td>\n",
       "      <td>WI</td>\n",
       "    </tr>\n",
       "    <tr>\n",
       "      <th>WV</th>\n",
       "      <td>1793716</td>\n",
       "      <td>1708772</td>\n",
       "      <td>0.942635</td>\n",
       "      <td>0.038515</td>\n",
       "      <td>0.002169</td>\n",
       "      <td>0.008842</td>\n",
       "      <td>0.000279</td>\n",
       "      <td>0.007560</td>\n",
       "      <td>WV</td>\n",
       "    </tr>\n",
       "    <tr>\n",
       "      <th>WY</th>\n",
       "      <td>576851</td>\n",
       "      <td>533378</td>\n",
       "      <td>0.915625</td>\n",
       "      <td>0.009809</td>\n",
       "      <td>0.026057</td>\n",
       "      <td>0.009772</td>\n",
       "      <td>0.001086</td>\n",
       "      <td>0.037652</td>\n",
       "      <td>WY</td>\n",
       "    </tr>\n",
       "  </tbody>\n",
       "</table>\n",
       "</div>"
      ],
      "text/plain": [
       "            total_population  pop_one_race     white     black  \\\n",
       "state_abbr                                                       \n",
       "AK                    733391        643867  0.676214  0.034010   \n",
       "AL                   5024279       4767326  0.675526  0.271884   \n",
       "AR                   3011524       2797949  0.755736  0.162184   \n",
       "AZ                   7151502       6154696  0.702283  0.055104   \n",
       "CA                  39538223      33777988  0.482448  0.066228   \n",
       "CO                   5773714       5066044  0.805940  0.046353   \n",
       "CT                   3605944       3273040  0.731775  0.118750   \n",
       "DC                    689545        633468  0.431267  0.451183   \n",
       "DE                    989948        913430  0.654416  0.239645   \n",
       "FL                  21538187      17986115  0.690697  0.180494   \n",
       "GA                  10711908       9968000  0.557332  0.333117   \n",
       "HI                   1455271       1087142  0.306548  0.021540   \n",
       "IA                   3190369       3011086  0.894867  0.043829   \n",
       "ID                   1839106       1685901  0.895877  0.009328   \n",
       "IL                  12812508      11667524  0.674370  0.154983   \n",
       "IN                   6785528       6348802  0.825635  0.102147   \n",
       "KS                   2937880       2657373  0.836338  0.063525   \n",
       "KY                   4505836       4260996  0.870983  0.085055   \n",
       "LA                   4657757       4384380  0.606164  0.333918   \n",
       "MA                   7029917       6421050  0.762498  0.076939   \n",
       "MD                   6177224       5695323  0.528131  0.319643   \n",
       "ME                   1362359       1297649  0.953294  0.019845   \n",
       "MI                  10077331       9442016  0.788494  0.145793   \n",
       "MN                   5706494       5360773  0.825095  0.074324   \n",
       "MO                   6154913       5741742  0.825592  0.121886   \n",
       "MS                   2961279       2850547  0.581956  0.380447   \n",
       "MT                   1084225       1012950  0.904807  0.005414   \n",
       "NC                  10439388       9727667  0.667011  0.220013   \n",
       "ND                    779094        737154  0.876259  0.036333   \n",
       "NE                   1961504       1817341  0.846320  0.053119   \n",
       "NH                   1377529       1299787  0.935694  0.015485   \n",
       "NJ                   9288994       8385500  0.609657  0.145462   \n",
       "NM                   2117522       1695276  0.636437  0.027078   \n",
       "NV                   3104614       2670605  0.594795  0.114109   \n",
       "NY                  20201249      18433786  0.604507  0.161995   \n",
       "OH                  11799448      11118076  0.816750  0.133007   \n",
       "OK                   3959353       3451195  0.728700  0.084018   \n",
       "OR                   4237256       3793917  0.835310  0.021786   \n",
       "PA                  13002700      12228216  0.797392  0.116384   \n",
       "PR                   3285874       1650083  0.339736  0.138606   \n",
       "RI                   1097379        995585  0.786392  0.062444   \n",
       "SC                   5118425       4820049  0.672906  0.265668   \n",
       "SD                    886667        840002  0.851588  0.021240   \n",
       "TN                   6910840       6497942  0.768080  0.168199   \n",
       "TX                  29145505      24011767  0.608425  0.147969   \n",
       "UT                   3271616       2992603  0.859925  0.013386   \n",
       "VA                   8631393       7925686  0.657212  0.202832   \n",
       "VT                    643077        606051  0.953304  0.014906   \n",
       "WA                   7705281       6868622  0.747009  0.044778   \n",
       "WI                   5893718       5534184  0.856051  0.067988   \n",
       "WV                   1793716       1708772  0.942635  0.038515   \n",
       "WY                    576851        533378  0.915625  0.009809   \n",
       "\n",
       "            amarican_indian     asian  hawaiian     other state_abbr  \n",
       "state_abbr                                                            \n",
       "AK                 0.173289  0.068387  0.019721  0.028379         AK  \n",
       "AL                 0.007053  0.016080  0.000626  0.028830         AL  \n",
       "AR                 0.009713  0.018527  0.005194  0.048645         AR  \n",
       "AZ                 0.051914  0.041827  0.002664  0.146209         AZ  \n",
       "CA                 0.018681  0.180175  0.004656  0.247812         CA  \n",
       "CO                 0.014633  0.039444  0.002031  0.091599         CO  \n",
       "CT                 0.004904  0.052690  0.000488  0.091393         CT  \n",
       "DC                 0.005041  0.052955  0.000682  0.058873         DC  \n",
       "DE                 0.005636  0.046746  0.000451  0.053106         DE  \n",
       "FL                 0.005270  0.035788  0.000779  0.086972         FL  \n",
       "GA                 0.005078  0.048057  0.000732  0.055684         GA  \n",
       "HI                 0.004020  0.498465  0.144825  0.024603         HI  \n",
       "IA                 0.004811  0.025117  0.001912  0.029464         IA  \n",
       "ID                 0.015197  0.015918  0.002210  0.061470         ID  \n",
       "IL                 0.008271  0.064699  0.000386  0.097291         IL  \n",
       "IN                 0.004109  0.026455  0.000494  0.041159         IN  \n",
       "KS                 0.011664  0.032466  0.001284  0.054724         KS  \n",
       "KY                 0.003004  0.017467  0.000864  0.022628         KY  \n",
       "LA                 0.007220  0.019715  0.000436  0.032547         LA  \n",
       "MA                 0.003741  0.079105  0.000358  0.077360         MA  \n",
       "MD                 0.005591  0.073910  0.000570  0.072154         MD  \n",
       "ME                 0.006076  0.012945  0.000341  0.007498         ME  \n",
       "MI                 0.006488  0.035406  0.000323  0.023496         MI  \n",
       "MN                 0.012804  0.055811  0.000544  0.031422         MN  \n",
       "MO                 0.005315  0.023229  0.001695  0.022283         MO  \n",
       "MS                 0.005771  0.011475  0.000405  0.019947         MS  \n",
       "MT                 0.066748  0.008194  0.000929  0.013909         MT  \n",
       "NC                 0.013367  0.035265  0.000876  0.063467         NC  \n",
       "ND                 0.052790  0.017924  0.001253  0.015440         ND  \n",
       "NE                 0.012712  0.029137  0.000844  0.057869         NE  \n",
       "NH                 0.002332  0.027598  0.000349  0.018543         NH  \n",
       "NJ                 0.006104  0.113302  0.000421  0.125054         NJ  \n",
       "NM                 0.125196  0.022102  0.001235  0.187953         NM  \n",
       "NV                 0.016450  0.102113  0.009365  0.163168         NV  \n",
       "NY                 0.008120  0.104869  0.000587  0.119923         NY  \n",
       "OH                 0.002763  0.026849  0.000453  0.020178         OH  \n",
       "OK                 0.096428  0.026353  0.002494  0.062008         OK  \n",
       "OR                 0.016604  0.051276  0.005062  0.069962         OR  \n",
       "PA                 0.002539  0.041748  0.000350  0.041587         PA  \n",
       "PR                 0.010830  0.002425  0.000359  0.508045         PR  \n",
       "RI                 0.007418  0.039134  0.000538  0.104074         RI  \n",
       "SC                 0.005042  0.018769  0.000712  0.036903         SC  \n",
       "SD                 0.092557  0.016043  0.000646  0.017925         SD  \n",
       "TN                 0.004316  0.020870  0.000633  0.037902         TN  \n",
       "TX                 0.011617  0.066029  0.001400  0.164560         TX  \n",
       "UT                 0.013916  0.026879  0.012340  0.073555         UT  \n",
       "VA                 0.005048  0.077651  0.000903  0.056355         VA  \n",
       "VT                 0.003777  0.019056  0.000299  0.008658         VT  \n",
       "WA                 0.017684  0.106367  0.009454  0.074708         WA  \n",
       "WI                 0.010919  0.031748  0.000397  0.032896         WI  \n",
       "WV                 0.002169  0.008842  0.000279  0.007560         WV  \n",
       "WY                 0.026057  0.009772  0.001086  0.037652         WY  "
      ]
     },
     "execution_count": 117,
     "metadata": {},
     "output_type": "execute_result"
    }
   ],
   "source": [
    "population_state"
   ]
  },
  {
   "cell_type": "markdown",
   "id": "4eda8a23",
   "metadata": {},
   "source": [
    "Q: List the first five states with the highest percentage of white Americans."
   ]
  },
  {
   "cell_type": "code",
   "execution_count": 118,
   "id": "1cb5e4cb",
   "metadata": {},
   "outputs": [
    {
     "data": {
      "text/html": [
       "<div>\n",
       "<style scoped>\n",
       "    .dataframe tbody tr th:only-of-type {\n",
       "        vertical-align: middle;\n",
       "    }\n",
       "\n",
       "    .dataframe tbody tr th {\n",
       "        vertical-align: top;\n",
       "    }\n",
       "\n",
       "    .dataframe thead th {\n",
       "        text-align: right;\n",
       "    }\n",
       "</style>\n",
       "<table border=\"1\" class=\"dataframe\">\n",
       "  <thead>\n",
       "    <tr style=\"text-align: right;\">\n",
       "      <th></th>\n",
       "      <th>total_population</th>\n",
       "      <th>pop_one_race</th>\n",
       "      <th>white</th>\n",
       "      <th>black</th>\n",
       "      <th>amarican_indian</th>\n",
       "      <th>asian</th>\n",
       "      <th>hawaiian</th>\n",
       "      <th>other</th>\n",
       "      <th>state_abbr</th>\n",
       "    </tr>\n",
       "    <tr>\n",
       "      <th>state_abbr</th>\n",
       "      <th></th>\n",
       "      <th></th>\n",
       "      <th></th>\n",
       "      <th></th>\n",
       "      <th></th>\n",
       "      <th></th>\n",
       "      <th></th>\n",
       "      <th></th>\n",
       "      <th></th>\n",
       "    </tr>\n",
       "  </thead>\n",
       "  <tbody>\n",
       "    <tr>\n",
       "      <th>VT</th>\n",
       "      <td>643077</td>\n",
       "      <td>606051</td>\n",
       "      <td>0.953304</td>\n",
       "      <td>0.014906</td>\n",
       "      <td>0.003777</td>\n",
       "      <td>0.019056</td>\n",
       "      <td>0.000299</td>\n",
       "      <td>0.008658</td>\n",
       "      <td>VT</td>\n",
       "    </tr>\n",
       "    <tr>\n",
       "      <th>ME</th>\n",
       "      <td>1362359</td>\n",
       "      <td>1297649</td>\n",
       "      <td>0.953294</td>\n",
       "      <td>0.019845</td>\n",
       "      <td>0.006076</td>\n",
       "      <td>0.012945</td>\n",
       "      <td>0.000341</td>\n",
       "      <td>0.007498</td>\n",
       "      <td>ME</td>\n",
       "    </tr>\n",
       "    <tr>\n",
       "      <th>WV</th>\n",
       "      <td>1793716</td>\n",
       "      <td>1708772</td>\n",
       "      <td>0.942635</td>\n",
       "      <td>0.038515</td>\n",
       "      <td>0.002169</td>\n",
       "      <td>0.008842</td>\n",
       "      <td>0.000279</td>\n",
       "      <td>0.007560</td>\n",
       "      <td>WV</td>\n",
       "    </tr>\n",
       "    <tr>\n",
       "      <th>NH</th>\n",
       "      <td>1377529</td>\n",
       "      <td>1299787</td>\n",
       "      <td>0.935694</td>\n",
       "      <td>0.015485</td>\n",
       "      <td>0.002332</td>\n",
       "      <td>0.027598</td>\n",
       "      <td>0.000349</td>\n",
       "      <td>0.018543</td>\n",
       "      <td>NH</td>\n",
       "    </tr>\n",
       "    <tr>\n",
       "      <th>WY</th>\n",
       "      <td>576851</td>\n",
       "      <td>533378</td>\n",
       "      <td>0.915625</td>\n",
       "      <td>0.009809</td>\n",
       "      <td>0.026057</td>\n",
       "      <td>0.009772</td>\n",
       "      <td>0.001086</td>\n",
       "      <td>0.037652</td>\n",
       "      <td>WY</td>\n",
       "    </tr>\n",
       "  </tbody>\n",
       "</table>\n",
       "</div>"
      ],
      "text/plain": [
       "            total_population  pop_one_race     white     black  \\\n",
       "state_abbr                                                       \n",
       "VT                    643077        606051  0.953304  0.014906   \n",
       "ME                   1362359       1297649  0.953294  0.019845   \n",
       "WV                   1793716       1708772  0.942635  0.038515   \n",
       "NH                   1377529       1299787  0.935694  0.015485   \n",
       "WY                    576851        533378  0.915625  0.009809   \n",
       "\n",
       "            amarican_indian     asian  hawaiian     other state_abbr  \n",
       "state_abbr                                                            \n",
       "VT                 0.003777  0.019056  0.000299  0.008658         VT  \n",
       "ME                 0.006076  0.012945  0.000341  0.007498         ME  \n",
       "WV                 0.002169  0.008842  0.000279  0.007560         WV  \n",
       "NH                 0.002332  0.027598  0.000349  0.018543         NH  \n",
       "WY                 0.026057  0.009772  0.001086  0.037652         WY  "
      ]
     },
     "execution_count": 118,
     "metadata": {},
     "output_type": "execute_result"
    }
   ],
   "source": [
    "population_state.sort_values(by = ['white'], ascending = False).head(5)"
   ]
  },
  {
   "cell_type": "markdown",
   "id": "d3d96022",
   "metadata": {},
   "source": [
    "Q: List the first five states with the highest percentage of black Americans."
   ]
  },
  {
   "cell_type": "code",
   "execution_count": 119,
   "id": "4bead968",
   "metadata": {},
   "outputs": [
    {
     "data": {
      "text/html": [
       "<div>\n",
       "<style scoped>\n",
       "    .dataframe tbody tr th:only-of-type {\n",
       "        vertical-align: middle;\n",
       "    }\n",
       "\n",
       "    .dataframe tbody tr th {\n",
       "        vertical-align: top;\n",
       "    }\n",
       "\n",
       "    .dataframe thead th {\n",
       "        text-align: right;\n",
       "    }\n",
       "</style>\n",
       "<table border=\"1\" class=\"dataframe\">\n",
       "  <thead>\n",
       "    <tr style=\"text-align: right;\">\n",
       "      <th></th>\n",
       "      <th>total_population</th>\n",
       "      <th>pop_one_race</th>\n",
       "      <th>white</th>\n",
       "      <th>black</th>\n",
       "      <th>amarican_indian</th>\n",
       "      <th>asian</th>\n",
       "      <th>hawaiian</th>\n",
       "      <th>other</th>\n",
       "      <th>state_abbr</th>\n",
       "    </tr>\n",
       "    <tr>\n",
       "      <th>state_abbr</th>\n",
       "      <th></th>\n",
       "      <th></th>\n",
       "      <th></th>\n",
       "      <th></th>\n",
       "      <th></th>\n",
       "      <th></th>\n",
       "      <th></th>\n",
       "      <th></th>\n",
       "      <th></th>\n",
       "    </tr>\n",
       "  </thead>\n",
       "  <tbody>\n",
       "    <tr>\n",
       "      <th>DC</th>\n",
       "      <td>689545</td>\n",
       "      <td>633468</td>\n",
       "      <td>0.431267</td>\n",
       "      <td>0.451183</td>\n",
       "      <td>0.005041</td>\n",
       "      <td>0.052955</td>\n",
       "      <td>0.000682</td>\n",
       "      <td>0.058873</td>\n",
       "      <td>DC</td>\n",
       "    </tr>\n",
       "    <tr>\n",
       "      <th>MS</th>\n",
       "      <td>2961279</td>\n",
       "      <td>2850547</td>\n",
       "      <td>0.581956</td>\n",
       "      <td>0.380447</td>\n",
       "      <td>0.005771</td>\n",
       "      <td>0.011475</td>\n",
       "      <td>0.000405</td>\n",
       "      <td>0.019947</td>\n",
       "      <td>MS</td>\n",
       "    </tr>\n",
       "    <tr>\n",
       "      <th>LA</th>\n",
       "      <td>4657757</td>\n",
       "      <td>4384380</td>\n",
       "      <td>0.606164</td>\n",
       "      <td>0.333918</td>\n",
       "      <td>0.007220</td>\n",
       "      <td>0.019715</td>\n",
       "      <td>0.000436</td>\n",
       "      <td>0.032547</td>\n",
       "      <td>LA</td>\n",
       "    </tr>\n",
       "    <tr>\n",
       "      <th>GA</th>\n",
       "      <td>10711908</td>\n",
       "      <td>9968000</td>\n",
       "      <td>0.557332</td>\n",
       "      <td>0.333117</td>\n",
       "      <td>0.005078</td>\n",
       "      <td>0.048057</td>\n",
       "      <td>0.000732</td>\n",
       "      <td>0.055684</td>\n",
       "      <td>GA</td>\n",
       "    </tr>\n",
       "    <tr>\n",
       "      <th>MD</th>\n",
       "      <td>6177224</td>\n",
       "      <td>5695323</td>\n",
       "      <td>0.528131</td>\n",
       "      <td>0.319643</td>\n",
       "      <td>0.005591</td>\n",
       "      <td>0.073910</td>\n",
       "      <td>0.000570</td>\n",
       "      <td>0.072154</td>\n",
       "      <td>MD</td>\n",
       "    </tr>\n",
       "  </tbody>\n",
       "</table>\n",
       "</div>"
      ],
      "text/plain": [
       "            total_population  pop_one_race     white     black  \\\n",
       "state_abbr                                                       \n",
       "DC                    689545        633468  0.431267  0.451183   \n",
       "MS                   2961279       2850547  0.581956  0.380447   \n",
       "LA                   4657757       4384380  0.606164  0.333918   \n",
       "GA                  10711908       9968000  0.557332  0.333117   \n",
       "MD                   6177224       5695323  0.528131  0.319643   \n",
       "\n",
       "            amarican_indian     asian  hawaiian     other state_abbr  \n",
       "state_abbr                                                            \n",
       "DC                 0.005041  0.052955  0.000682  0.058873         DC  \n",
       "MS                 0.005771  0.011475  0.000405  0.019947         MS  \n",
       "LA                 0.007220  0.019715  0.000436  0.032547         LA  \n",
       "GA                 0.005078  0.048057  0.000732  0.055684         GA  \n",
       "MD                 0.005591  0.073910  0.000570  0.072154         MD  "
      ]
     },
     "execution_count": 119,
     "metadata": {},
     "output_type": "execute_result"
    }
   ],
   "source": [
    "population_state.sort_values(by = ['black'], ascending = False).head(5)"
   ]
  },
  {
   "cell_type": "markdown",
   "id": "503e316e",
   "metadata": {},
   "source": [
    "#### Visualization of U.S. population by race and U.S. states"
   ]
  },
  {
   "cell_type": "code",
   "execution_count": 120,
   "id": "0a1d503e",
   "metadata": {},
   "outputs": [
    {
     "name": "stdout",
     "output_type": "stream",
     "text": [
      "    state_abbr   race  proportion\n",
      "0           AK  white    0.676214\n",
      "1           AL  white    0.675526\n",
      "2           AR  white    0.755736\n",
      "3           AZ  white    0.702283\n",
      "4           CA  white    0.482448\n",
      "..         ...    ...         ...\n",
      "307         VT  other    0.008658\n",
      "308         WA  other    0.074708\n",
      "309         WI  other    0.032896\n",
      "310         WV  other    0.007560\n",
      "311         WY  other    0.037652\n",
      "\n",
      "[312 rows x 3 columns]\n"
     ]
    }
   ],
   "source": [
    "popultion_melted = pd.melt(population_state[races_list+['state_abbr']], id_vars=['state_abbr'], value_vars=races_list).rename(columns={\"value\":\"proportion\",\"variable\":\"race\"})\n",
    "\n",
    "print(popultion_melted)"
   ]
  },
  {
   "cell_type": "code",
   "execution_count": 121,
   "id": "e2cee8d8",
   "metadata": {},
   "outputs": [
    {
     "data": {
      "image/png": "[encoded data removed]",
      "text/plain": [
       "<Figure size 640x480 with 1 Axes>"
      ]
     },
     "metadata": {},
     "output_type": "display_data"
    },
    {
     "data": {
      "text/plain": [
       "<ggplot: (315097693)>"
      ]
     },
     "execution_count": 121,
     "metadata": {},
     "output_type": "execute_result"
    }
   ],
   "source": [
    "(\n",
    "ggplot(popultion_melted.query('state_abbr in @states_list')) \n",
    "    + aes(x = 'state_abbr', y = 'proportion',fill = 'race')\n",
    "    + geom_col(position = \"fill\")\n",
    "    + theme(axis_text_x=element_text(rotation=90, hjust=1)) \n",
    "    #+ facet_wrap('state_abbr')\n",
    ")"
   ]
  },
  {
   "cell_type": "markdown",
   "id": "ac2908cc",
   "metadata": {},
   "source": [
    "Q: Write Python to graph the US population by race broken down by state."
   ]
  },
  {
   "cell_type": "code",
   "execution_count": 122,
   "id": "55b94107",
   "metadata": {},
   "outputs": [
    {
     "data": {
      "image/png": "[encoded data removed]",
      "text/plain": [
       "<Figure size 640x480 with 1 Axes>"
      ]
     },
     "metadata": {},
     "output_type": "display_data"
    },
    {
     "data": {
      "text/plain": [
       "<ggplot: (315355173)>"
      ]
     },
     "execution_count": 122,
     "metadata": {},
     "output_type": "execute_result"
    }
   ],
   "source": [
    "(\n",
    "ggplot(popultion_melted) \n",
    "    + aes(x = 'state_abbr', y = 'proportion',fill = 'race')\n",
    "    + geom_col(position = \"fill\")\n",
    "    + theme(axis_text_x=element_text(rotation=90, hjust=4)) \n",
    ")"
   ]
  },
  {
   "cell_type": "code",
   "execution_count": null,
   "id": "25fafc41",
   "metadata": {},
   "outputs": [],
   "source": []
  },
  {
   "cell_type": "markdown",
   "id": "d0cce614",
   "metadata": {},
   "source": [
    "## US Covid-19 Dataset"
   ]
  },
  {
   "cell_type": "markdown",
   "id": "039f97cf",
   "metadata": {},
   "source": [
    "The second dataset can be downloaded from \n",
    "\n",
    "https://www.kaggle.com/fireballbyedimyrnmom/us-counties-covid-19-dataset.\n",
    "\n",
    "Each data row contains data on cumulative coronavirus cases and deaths.\n",
    "\n",
    "The specific data here, are the data **PER US COUNTY**.\n",
    "\n",
    "We will work with this Covid-19 dataset by preprocessing data, performing statistical data analysis and presenting the results."
   ]
  },
  {
   "cell_type": "code",
   "execution_count": 142,
   "id": "6b4c239c",
   "metadata": {},
   "outputs": [],
   "source": [
    "path = '/Users/Kaemyuijang/SCMA248/Data/us-counties.csv'\n",
    "\n",
    "#df = pd.read_csv(path, parse_dates=True, index_col = 'date')\n",
    "\n",
    "df = pd.read_csv(path, parse_dates=['date'], index_col = 'date')"
   ]
  },
  {
   "cell_type": "markdown",
   "id": "2fae3c3d",
   "metadata": {},
   "source": [
    "#### Data Cleaning and Preparation: Handling Missing Values"
   ]
  },
  {
   "cell_type": "code",
   "execution_count": 224,
   "id": "9c5e5243",
   "metadata": {},
   "outputs": [
    {
     "data": {
      "text/plain": [
       "(2252245, 5)"
      ]
     },
     "execution_count": 224,
     "metadata": {},
     "output_type": "execute_result"
    }
   ],
   "source": [
    "df.shape"
   ]
  },
  {
   "cell_type": "markdown",
   "id": "062f308b",
   "metadata": {},
   "source": [
    "Q: List all variables (or columns) in this Covid-19 dataset with missing data."
   ]
  },
  {
   "cell_type": "code",
   "execution_count": 15,
   "id": "6531dfed",
   "metadata": {},
   "outputs": [
    {
     "data": {
      "text/plain": [
       "county    False\n",
       "state     False\n",
       "fips       True\n",
       "cases     False\n",
       "deaths     True\n",
       "dtype: bool"
      ]
     },
     "execution_count": 15,
     "metadata": {},
     "output_type": "execute_result"
    }
   ],
   "source": [
    "# Find columns with missing data\n",
    "# https://moonbooks.org/Articles/How-to-filter-missing-data-NAN-or-NULL-values-in-a-pandas-DataFrame-/\n",
    "\n",
    "df.isnull().any()"
   ]
  },
  {
   "cell_type": "code",
   "execution_count": 226,
   "id": "01d8f77d",
   "metadata": {},
   "outputs": [
    {
     "data": {
      "text/plain": [
       "Index(['fips', 'deaths'], dtype='object')"
      ]
     },
     "execution_count": 226,
     "metadata": {},
     "output_type": "execute_result"
    }
   ],
   "source": [
    "# Get a list of columns with missing data\n",
    "\n",
    "df.columns[df.isnull().any()]"
   ]
  },
  {
   "cell_type": "markdown",
   "id": "776e56dd",
   "metadata": {},
   "source": [
    "Q: Calculate the number of missing data for each variable (i.e. in each column)."
   ]
  },
  {
   "cell_type": "code",
   "execution_count": 227,
   "id": "da5d8001",
   "metadata": {},
   "outputs": [
    {
     "data": {
      "text/plain": [
       "county        0\n",
       "state         0\n",
       "fips      20955\n",
       "cases         0\n",
       "deaths    51599\n",
       "dtype: int64"
      ]
     },
     "execution_count": 227,
     "metadata": {},
     "output_type": "execute_result"
    }
   ],
   "source": [
    "# Get the number of missing data per column\n",
    "\n",
    "df.isnull().sum()"
   ]
  },
  {
   "cell_type": "markdown",
   "id": "24ada942",
   "metadata": {},
   "source": [
    "#### States with missing fips."
   ]
  },
  {
   "cell_type": "code",
   "execution_count": 228,
   "id": "5d5c8636",
   "metadata": {},
   "outputs": [
    {
     "data": {
      "text/plain": [
       "array(['New York', 'Rhode Island', 'New Jersey', 'Puerto Rico',\n",
       "       'Virgin Islands', 'Guam', 'Maine', 'Massachusetts', 'Louisiana',\n",
       "       'Kentucky', 'Nevada', 'Tennessee', 'Arkansas', 'Georgia',\n",
       "       'Missouri', 'Minnesota', 'California', 'Colorado', 'Florida',\n",
       "       'Hawaii', 'Illinois', 'Vermont', 'Arizona', 'Michigan', 'Texas',\n",
       "       'Virginia', 'Washington', 'Utah', 'Idaho', 'Mississippi',\n",
       "       'Northern Mariana Islands', 'Connecticut', 'Nebraska', 'Montana',\n",
       "       'Pennsylvania', 'Indiana', 'Iowa', 'Maryland', 'Oklahoma',\n",
       "       'West Virginia', 'Alaska', 'New Mexico', 'New Hampshire',\n",
       "       'South Dakota', 'Kansas', 'Wyoming', 'Delaware', 'North Dakota',\n",
       "       'Ohio', 'Wisconsin', 'South Carolina', 'Oregon', 'North Carolina',\n",
       "       'American Samoa'], dtype=object)"
      ]
     },
     "execution_count": 228,
     "metadata": {},
     "output_type": "execute_result"
    }
   ],
   "source": [
    "(df[df.fips.isnull()]).state.unique()"
   ]
  },
  {
   "cell_type": "markdown",
   "id": "441ae2c5",
   "metadata": {},
   "source": [
    "#### Filtering out Missing Data"
   ]
  },
  {
   "cell_type": "markdown",
   "id": "94f40256",
   "metadata": {},
   "source": [
    "##### Droping out row with missing fips"
   ]
  },
  {
   "cell_type": "markdown",
   "id": "2241c09d",
   "metadata": {},
   "source": [
    "Here is the list of observations with missing fips."
   ]
  },
  {
   "cell_type": "code",
   "execution_count": 16,
   "id": "d692afd0",
   "metadata": {},
   "outputs": [
    {
     "data": {
      "text/html": [
       "<div>\n",
       "<style scoped>\n",
       "    .dataframe tbody tr th:only-of-type {\n",
       "        vertical-align: middle;\n",
       "    }\n",
       "\n",
       "    .dataframe tbody tr th {\n",
       "        vertical-align: top;\n",
       "    }\n",
       "\n",
       "    .dataframe thead th {\n",
       "        text-align: right;\n",
       "    }\n",
       "</style>\n",
       "<table border=\"1\" class=\"dataframe\">\n",
       "  <thead>\n",
       "    <tr style=\"text-align: right;\">\n",
       "      <th></th>\n",
       "      <th>county</th>\n",
       "      <th>state</th>\n",
       "      <th>fips</th>\n",
       "      <th>cases</th>\n",
       "      <th>deaths</th>\n",
       "    </tr>\n",
       "    <tr>\n",
       "      <th>date</th>\n",
       "      <th></th>\n",
       "      <th></th>\n",
       "      <th></th>\n",
       "      <th></th>\n",
       "      <th></th>\n",
       "    </tr>\n",
       "  </thead>\n",
       "  <tbody>\n",
       "    <tr>\n",
       "      <th>2020-03-01</th>\n",
       "      <td>New York City</td>\n",
       "      <td>New York</td>\n",
       "      <td>NaN</td>\n",
       "      <td>1</td>\n",
       "      <td>0.0</td>\n",
       "    </tr>\n",
       "    <tr>\n",
       "      <th>2020-03-01</th>\n",
       "      <td>Unknown</td>\n",
       "      <td>Rhode Island</td>\n",
       "      <td>NaN</td>\n",
       "      <td>2</td>\n",
       "      <td>0.0</td>\n",
       "    </tr>\n",
       "    <tr>\n",
       "      <th>2020-03-02</th>\n",
       "      <td>New York City</td>\n",
       "      <td>New York</td>\n",
       "      <td>NaN</td>\n",
       "      <td>1</td>\n",
       "      <td>0.0</td>\n",
       "    </tr>\n",
       "    <tr>\n",
       "      <th>2020-03-02</th>\n",
       "      <td>Unknown</td>\n",
       "      <td>Rhode Island</td>\n",
       "      <td>NaN</td>\n",
       "      <td>2</td>\n",
       "      <td>0.0</td>\n",
       "    </tr>\n",
       "    <tr>\n",
       "      <th>2020-03-03</th>\n",
       "      <td>New York City</td>\n",
       "      <td>New York</td>\n",
       "      <td>NaN</td>\n",
       "      <td>2</td>\n",
       "      <td>0.0</td>\n",
       "    </tr>\n",
       "    <tr>\n",
       "      <th>...</th>\n",
       "      <td>...</td>\n",
       "      <td>...</td>\n",
       "      <td>...</td>\n",
       "      <td>...</td>\n",
       "      <td>...</td>\n",
       "    </tr>\n",
       "    <tr>\n",
       "      <th>2022-02-25</th>\n",
       "      <td>Unknown</td>\n",
       "      <td>Puerto Rico</td>\n",
       "      <td>NaN</td>\n",
       "      <td>16665</td>\n",
       "      <td>4101.0</td>\n",
       "    </tr>\n",
       "    <tr>\n",
       "      <th>2022-02-25</th>\n",
       "      <td>Unknown</td>\n",
       "      <td>Rhode Island</td>\n",
       "      <td>NaN</td>\n",
       "      <td>29206</td>\n",
       "      <td>12.0</td>\n",
       "    </tr>\n",
       "    <tr>\n",
       "      <th>2022-02-25</th>\n",
       "      <td>Unknown</td>\n",
       "      <td>Tennessee</td>\n",
       "      <td>NaN</td>\n",
       "      <td>23465</td>\n",
       "      <td>557.0</td>\n",
       "    </tr>\n",
       "    <tr>\n",
       "      <th>2022-02-25</th>\n",
       "      <td>Unknown</td>\n",
       "      <td>Utah</td>\n",
       "      <td>NaN</td>\n",
       "      <td>4184</td>\n",
       "      <td>75.0</td>\n",
       "    </tr>\n",
       "    <tr>\n",
       "      <th>2022-02-25</th>\n",
       "      <td>Unknown</td>\n",
       "      <td>Vermont</td>\n",
       "      <td>NaN</td>\n",
       "      <td>15364</td>\n",
       "      <td>17.0</td>\n",
       "    </tr>\n",
       "  </tbody>\n",
       "</table>\n",
       "<p>20955 rows × 5 columns</p>\n",
       "</div>"
      ],
      "text/plain": [
       "                   county         state  fips  cases  deaths\n",
       "date                                                        \n",
       "2020-03-01  New York City      New York   NaN      1     0.0\n",
       "2020-03-01        Unknown  Rhode Island   NaN      2     0.0\n",
       "2020-03-02  New York City      New York   NaN      1     0.0\n",
       "2020-03-02        Unknown  Rhode Island   NaN      2     0.0\n",
       "2020-03-03  New York City      New York   NaN      2     0.0\n",
       "...                   ...           ...   ...    ...     ...\n",
       "2022-02-25        Unknown   Puerto Rico   NaN  16665  4101.0\n",
       "2022-02-25        Unknown  Rhode Island   NaN  29206    12.0\n",
       "2022-02-25        Unknown     Tennessee   NaN  23465   557.0\n",
       "2022-02-25        Unknown          Utah   NaN   4184    75.0\n",
       "2022-02-25        Unknown       Vermont   NaN  15364    17.0\n",
       "\n",
       "[20955 rows x 5 columns]"
      ]
     },
     "execution_count": 16,
     "metadata": {},
     "output_type": "execute_result"
    }
   ],
   "source": [
    "(df[df.fips.isnull()])"
   ]
  },
  {
   "cell_type": "markdown",
   "id": "077789be",
   "metadata": {},
   "source": [
    "Q: Write Python code to drop rows only when the column 'fips' has NaN in it. How many rows are there in the resutling DataFrame."
   ]
  },
  {
   "cell_type": "code",
   "execution_count": 17,
   "id": "641d7c7a",
   "metadata": {},
   "outputs": [
    {
     "name": "stdout",
     "output_type": "stream",
     "text": [
      "                county       state     fips  cases  deaths\n",
      "date                                                      \n",
      "2020-01-21   Snohomish  Washington  53061.0      1     0.0\n",
      "2020-01-22   Snohomish  Washington  53061.0      1     0.0\n",
      "2020-01-23   Snohomish  Washington  53061.0      1     0.0\n",
      "2020-01-24        Cook    Illinois  17031.0      1     0.0\n",
      "2020-01-24   Snohomish  Washington  53061.0      1     0.0\n",
      "...                ...         ...      ...    ...     ...\n",
      "2022-02-25  Sweetwater     Wyoming  56037.0  10991   123.0\n",
      "2022-02-25       Teton     Wyoming  56039.0   9767    16.0\n",
      "2022-02-25       Uinta     Wyoming  56041.0   5616    36.0\n",
      "2022-02-25    Washakie     Wyoming  56043.0   2336    43.0\n",
      "2022-02-25      Weston     Wyoming  56045.0   1541    18.0\n",
      "\n",
      "[2231290 rows x 5 columns]\n"
     ]
    },
    {
     "data": {
      "text/plain": [
       "(2231290, 5)"
      ]
     },
     "execution_count": 17,
     "metadata": {},
     "output_type": "execute_result"
    }
   ],
   "source": [
    "print(df.dropna(subset=['fips']))\n",
    "\n",
    "df.dropna(subset=['fips']).shape"
   ]
  },
  {
   "cell_type": "markdown",
   "id": "5c528478",
   "metadata": {},
   "source": [
    "Now we can varify that we have successfully dropped rows with NaN values only in the fips column."
   ]
  },
  {
   "cell_type": "code",
   "execution_count": 18,
   "id": "d4965d0a",
   "metadata": {},
   "outputs": [
    {
     "data": {
      "text/plain": [
       "0"
      ]
     },
     "execution_count": 18,
     "metadata": {},
     "output_type": "execute_result"
    }
   ],
   "source": [
    "(df.dropna(subset=['fips'])).fips.isnull().sum()"
   ]
  },
  {
   "cell_type": "markdown",
   "id": "5e94b2db",
   "metadata": {},
   "source": [
    "Q: How many NaN values remain in the **Deaths** column in the resutling DataFrame after deleting only rows where the  'fips' column contains NaN?"
   ]
  },
  {
   "cell_type": "code",
   "execution_count": 19,
   "id": "3003fc0f",
   "metadata": {},
   "outputs": [
    {
     "data": {
      "text/plain": [
       "51599"
      ]
     },
     "execution_count": 19,
     "metadata": {},
     "output_type": "execute_result"
    }
   ],
   "source": [
    "(df.dropna(subset=['fips'])).deaths.isnull().sum()"
   ]
  },
  {
   "cell_type": "code",
   "execution_count": 20,
   "id": "738a9e74",
   "metadata": {},
   "outputs": [
    {
     "data": {
      "text/plain": [
       "(2252245, 5)"
      ]
     },
     "execution_count": 20,
     "metadata": {},
     "output_type": "execute_result"
    }
   ],
   "source": [
    "df.shape"
   ]
  },
  {
   "cell_type": "markdown",
   "id": "6459f5da",
   "metadata": {},
   "source": [
    "#### List of obeservations with NA in both **fips** and **deaths** column.\n",
    "\n",
    "We want to select only those rows from this DataFrame, where columns **fips** and **deaths** have NaN values i.e.\n",
    "\n",
    "See Select Dataframe Rows with NaN in multiple columns\n",
    "\n",
    "https://thispointer.com/pandas-select-rows-with-nan-in-column/\n"
   ]
  },
  {
   "cell_type": "code",
   "execution_count": 21,
   "id": "a94c085f",
   "metadata": {},
   "outputs": [
    {
     "data": {
      "text/html": [
       "<div>\n",
       "<style scoped>\n",
       "    .dataframe tbody tr th:only-of-type {\n",
       "        vertical-align: middle;\n",
       "    }\n",
       "\n",
       "    .dataframe tbody tr th {\n",
       "        vertical-align: top;\n",
       "    }\n",
       "\n",
       "    .dataframe thead th {\n",
       "        text-align: right;\n",
       "    }\n",
       "</style>\n",
       "<table border=\"1\" class=\"dataframe\">\n",
       "  <thead>\n",
       "    <tr style=\"text-align: right;\">\n",
       "      <th></th>\n",
       "      <th>county</th>\n",
       "      <th>state</th>\n",
       "      <th>fips</th>\n",
       "      <th>cases</th>\n",
       "      <th>deaths</th>\n",
       "    </tr>\n",
       "    <tr>\n",
       "      <th>date</th>\n",
       "      <th></th>\n",
       "      <th></th>\n",
       "      <th></th>\n",
       "      <th></th>\n",
       "      <th></th>\n",
       "    </tr>\n",
       "  </thead>\n",
       "  <tbody>\n",
       "  </tbody>\n",
       "</table>\n",
       "</div>"
      ],
      "text/plain": [
       "Empty DataFrame\n",
       "Columns: [county, state, fips, cases, deaths]\n",
       "Index: []"
      ]
     },
     "execution_count": 21,
     "metadata": {},
     "output_type": "execute_result"
    }
   ],
   "source": [
    "(df[df.fips.isnull() & df.deaths.isnull()])"
   ]
  },
  {
   "cell_type": "code",
   "execution_count": null,
   "id": "3756aea1",
   "metadata": {},
   "outputs": [],
   "source": []
  },
  {
   "cell_type": "markdown",
   "id": "de971d00",
   "metadata": {},
   "source": [
    "Q: Drop all rows with missing values in the deaths column"
   ]
  },
  {
   "cell_type": "code",
   "execution_count": 162,
   "id": "19d5d403",
   "metadata": {},
   "outputs": [],
   "source": [
    "df.dropna(inplace=True)"
   ]
  },
  {
   "cell_type": "code",
   "execution_count": 23,
   "id": "d2c88157",
   "metadata": {},
   "outputs": [
    {
     "data": {
      "text/plain": [
       "(2179691, 5)"
      ]
     },
     "execution_count": 23,
     "metadata": {},
     "output_type": "execute_result"
    }
   ],
   "source": [
    "df.shape"
   ]
  },
  {
   "cell_type": "code",
   "execution_count": null,
   "id": "eb1c326f",
   "metadata": {},
   "outputs": [],
   "source": []
  },
  {
   "cell_type": "code",
   "execution_count": 237,
   "id": "32d69796",
   "metadata": {},
   "outputs": [
    {
     "data": {
      "text/html": [
       "<div>\n",
       "<style scoped>\n",
       "    .dataframe tbody tr th:only-of-type {\n",
       "        vertical-align: middle;\n",
       "    }\n",
       "\n",
       "    .dataframe tbody tr th {\n",
       "        vertical-align: top;\n",
       "    }\n",
       "\n",
       "    .dataframe thead th {\n",
       "        text-align: right;\n",
       "    }\n",
       "</style>\n",
       "<table border=\"1\" class=\"dataframe\">\n",
       "  <thead>\n",
       "    <tr style=\"text-align: right;\">\n",
       "      <th></th>\n",
       "      <th>code</th>\n",
       "      <th>county</th>\n",
       "      <th>total_population</th>\n",
       "      <th>pop_one_race</th>\n",
       "      <th>white</th>\n",
       "      <th>black</th>\n",
       "      <th>amarican_indian</th>\n",
       "      <th>asian</th>\n",
       "      <th>hawaiian</th>\n",
       "      <th>other</th>\n",
       "    </tr>\n",
       "  </thead>\n",
       "  <tbody>\n",
       "    <tr>\n",
       "      <th>0</th>\n",
       "      <td>CT</td>\n",
       "      <td>Fairfield</td>\n",
       "      <td>957419</td>\n",
       "      <td>854584</td>\n",
       "      <td>584184</td>\n",
       "      <td>106756</td>\n",
       "      <td>4369</td>\n",
       "      <td>51341</td>\n",
       "      <td>347</td>\n",
       "      <td>107587</td>\n",
       "    </tr>\n",
       "    <tr>\n",
       "      <th>1</th>\n",
       "      <td>CT</td>\n",
       "      <td>Hartford</td>\n",
       "      <td>899498</td>\n",
       "      <td>819125</td>\n",
       "      <td>554184</td>\n",
       "      <td>127194</td>\n",
       "      <td>3145</td>\n",
       "      <td>53844</td>\n",
       "      <td>328</td>\n",
       "      <td>80430</td>\n",
       "    </tr>\n",
       "    <tr>\n",
       "      <th>2</th>\n",
       "      <td>CT</td>\n",
       "      <td>Litchfield</td>\n",
       "      <td>185186</td>\n",
       "      <td>172181</td>\n",
       "      <td>158774</td>\n",
       "      <td>3348</td>\n",
       "      <td>511</td>\n",
       "      <td>3486</td>\n",
       "      <td>67</td>\n",
       "      <td>5995</td>\n",
       "    </tr>\n",
       "    <tr>\n",
       "      <th>3</th>\n",
       "      <td>CT</td>\n",
       "      <td>Middlesex</td>\n",
       "      <td>164245</td>\n",
       "      <td>152898</td>\n",
       "      <td>134715</td>\n",
       "      <td>8565</td>\n",
       "      <td>392</td>\n",
       "      <td>4987</td>\n",
       "      <td>50</td>\n",
       "      <td>4189</td>\n",
       "    </tr>\n",
       "    <tr>\n",
       "      <th>4</th>\n",
       "      <td>CT</td>\n",
       "      <td>New Haven</td>\n",
       "      <td>864835</td>\n",
       "      <td>782472</td>\n",
       "      <td>543831</td>\n",
       "      <td>118933</td>\n",
       "      <td>4058</td>\n",
       "      <td>37520</td>\n",
       "      <td>470</td>\n",
       "      <td>77660</td>\n",
       "    </tr>\n",
       "  </tbody>\n",
       "</table>\n",
       "</div>"
      ],
      "text/plain": [
       "  code       county  total_population  pop_one_race   white   black  \\\n",
       "0   CT   Fairfield             957419        854584  584184  106756   \n",
       "1   CT    Hartford             899498        819125  554184  127194   \n",
       "2   CT  Litchfield             185186        172181  158774    3348   \n",
       "3   CT   Middlesex             164245        152898  134715    8565   \n",
       "4   CT   New Haven             864835        782472  543831  118933   \n",
       "\n",
       "   amarican_indian  asian  hawaiian   other  \n",
       "0             4369  51341       347  107587  \n",
       "1             3145  53844       328   80430  \n",
       "2              511   3486        67    5995  \n",
       "3              392   4987        50    4189  \n",
       "4             4058  37520       470   77660  "
      ]
     },
     "execution_count": 237,
     "metadata": {},
     "output_type": "execute_result"
    }
   ],
   "source": [
    "population.head()"
   ]
  },
  {
   "cell_type": "code",
   "execution_count": null,
   "id": "2d56280c",
   "metadata": {},
   "outputs": [],
   "source": []
  },
  {
   "cell_type": "markdown",
   "id": "1f72a15c",
   "metadata": {},
   "source": [
    "## Merging multiple DataFrames\n",
    "\n",
    "The Covid-19 dataset contains only data on cumulative coronavirus cases and deaths. To perform our analysis, e.g., to compare infection rates among different U.S. states, we need to add more information on the population size of each county.\n",
    "\n",
    "We will need to download another data frame that contains the list of state abbreviations. We will then combine multiple data frames by adding the 'total_population' to the Covid-19 dataset.\n",
    "\n",
    "* List of State Abbreviations: \n",
    "\n",
    "https://worldpopulationreview.com/states/state-abbreviations"
   ]
  },
  {
   "cell_type": "code",
   "execution_count": 143,
   "id": "91639a46",
   "metadata": {},
   "outputs": [],
   "source": [
    "path = '/Users/Kaemyuijang/SCMA248/Data/us_state_abbreviations.csv'\n",
    "\n",
    "abbr = pd.read_csv(path)"
   ]
  },
  {
   "cell_type": "code",
   "execution_count": 144,
   "id": "33972063",
   "metadata": {},
   "outputs": [
    {
     "data": {
      "text/html": [
       "<div>\n",
       "<style scoped>\n",
       "    .dataframe tbody tr th:only-of-type {\n",
       "        vertical-align: middle;\n",
       "    }\n",
       "\n",
       "    .dataframe tbody tr th {\n",
       "        vertical-align: top;\n",
       "    }\n",
       "\n",
       "    .dataframe thead th {\n",
       "        text-align: right;\n",
       "    }\n",
       "</style>\n",
       "<table border=\"1\" class=\"dataframe\">\n",
       "  <thead>\n",
       "    <tr style=\"text-align: right;\">\n",
       "      <th></th>\n",
       "      <th>state</th>\n",
       "      <th>abbrev</th>\n",
       "      <th>code</th>\n",
       "    </tr>\n",
       "  </thead>\n",
       "  <tbody>\n",
       "    <tr>\n",
       "      <th>0</th>\n",
       "      <td>Alabama</td>\n",
       "      <td>Ala.</td>\n",
       "      <td>AL</td>\n",
       "    </tr>\n",
       "    <tr>\n",
       "      <th>1</th>\n",
       "      <td>Alaska</td>\n",
       "      <td>Alaska</td>\n",
       "      <td>AK</td>\n",
       "    </tr>\n",
       "    <tr>\n",
       "      <th>2</th>\n",
       "      <td>Arizona</td>\n",
       "      <td>Ariz.</td>\n",
       "      <td>AZ</td>\n",
       "    </tr>\n",
       "    <tr>\n",
       "      <th>3</th>\n",
       "      <td>Arkansas</td>\n",
       "      <td>Ark.</td>\n",
       "      <td>AR</td>\n",
       "    </tr>\n",
       "    <tr>\n",
       "      <th>4</th>\n",
       "      <td>California</td>\n",
       "      <td>Calif.</td>\n",
       "      <td>CA</td>\n",
       "    </tr>\n",
       "  </tbody>\n",
       "</table>\n",
       "</div>"
      ],
      "text/plain": [
       "        state  abbrev code\n",
       "0     Alabama    Ala.   AL\n",
       "1      Alaska  Alaska   AK\n",
       "2     Arizona   Ariz.   AZ\n",
       "3    Arkansas    Ark.   AR\n",
       "4  California  Calif.   CA"
      ]
     },
     "execution_count": 144,
     "metadata": {},
     "output_type": "execute_result"
    }
   ],
   "source": [
    "abbr.columns= abbr.columns.str.lower()\n",
    "\n",
    "#abbr.rename(columns={\"State\":\"state\",\"Abbrev\":\"abbrev\",\"Code\":\"code\"}, inplace = True)\n",
    "\n",
    "abbr.head()"
   ]
  },
  {
   "cell_type": "code",
   "execution_count": 26,
   "id": "9fc5219b",
   "metadata": {},
   "outputs": [
    {
     "data": {
      "text/html": [
       "<div>\n",
       "<style scoped>\n",
       "    .dataframe tbody tr th:only-of-type {\n",
       "        vertical-align: middle;\n",
       "    }\n",
       "\n",
       "    .dataframe tbody tr th {\n",
       "        vertical-align: top;\n",
       "    }\n",
       "\n",
       "    .dataframe thead th {\n",
       "        text-align: right;\n",
       "    }\n",
       "</style>\n",
       "<table border=\"1\" class=\"dataframe\">\n",
       "  <thead>\n",
       "    <tr style=\"text-align: right;\">\n",
       "      <th></th>\n",
       "      <th>state_abbr</th>\n",
       "      <th>county</th>\n",
       "      <th>total_population</th>\n",
       "      <th>pop_one_race</th>\n",
       "      <th>white</th>\n",
       "      <th>black</th>\n",
       "      <th>amarican_indian</th>\n",
       "      <th>asian</th>\n",
       "      <th>hawaiian</th>\n",
       "      <th>other</th>\n",
       "    </tr>\n",
       "  </thead>\n",
       "  <tbody>\n",
       "    <tr>\n",
       "      <th>0</th>\n",
       "      <td>CT</td>\n",
       "      <td>Fairfield County</td>\n",
       "      <td>957419</td>\n",
       "      <td>854584</td>\n",
       "      <td>584184</td>\n",
       "      <td>106756</td>\n",
       "      <td>4369</td>\n",
       "      <td>51341</td>\n",
       "      <td>347</td>\n",
       "      <td>107587</td>\n",
       "    </tr>\n",
       "    <tr>\n",
       "      <th>1</th>\n",
       "      <td>CT</td>\n",
       "      <td>Hartford County</td>\n",
       "      <td>899498</td>\n",
       "      <td>819125</td>\n",
       "      <td>554184</td>\n",
       "      <td>127194</td>\n",
       "      <td>3145</td>\n",
       "      <td>53844</td>\n",
       "      <td>328</td>\n",
       "      <td>80430</td>\n",
       "    </tr>\n",
       "    <tr>\n",
       "      <th>2</th>\n",
       "      <td>CT</td>\n",
       "      <td>Litchfield County</td>\n",
       "      <td>185186</td>\n",
       "      <td>172181</td>\n",
       "      <td>158774</td>\n",
       "      <td>3348</td>\n",
       "      <td>511</td>\n",
       "      <td>3486</td>\n",
       "      <td>67</td>\n",
       "      <td>5995</td>\n",
       "    </tr>\n",
       "    <tr>\n",
       "      <th>3</th>\n",
       "      <td>CT</td>\n",
       "      <td>Middlesex County</td>\n",
       "      <td>164245</td>\n",
       "      <td>152898</td>\n",
       "      <td>134715</td>\n",
       "      <td>8565</td>\n",
       "      <td>392</td>\n",
       "      <td>4987</td>\n",
       "      <td>50</td>\n",
       "      <td>4189</td>\n",
       "    </tr>\n",
       "    <tr>\n",
       "      <th>4</th>\n",
       "      <td>CT</td>\n",
       "      <td>New Haven County</td>\n",
       "      <td>864835</td>\n",
       "      <td>782472</td>\n",
       "      <td>543831</td>\n",
       "      <td>118933</td>\n",
       "      <td>4058</td>\n",
       "      <td>37520</td>\n",
       "      <td>470</td>\n",
       "      <td>77660</td>\n",
       "    </tr>\n",
       "  </tbody>\n",
       "</table>\n",
       "</div>"
      ],
      "text/plain": [
       "  state_abbr             county  total_population  pop_one_race   white  \\\n",
       "0         CT   Fairfield County            957419        854584  584184   \n",
       "1         CT    Hartford County            899498        819125  554184   \n",
       "2         CT  Litchfield County            185186        172181  158774   \n",
       "3         CT   Middlesex County            164245        152898  134715   \n",
       "4         CT   New Haven County            864835        782472  543831   \n",
       "\n",
       "    black  amarican_indian  asian  hawaiian   other  \n",
       "0  106756             4369  51341       347  107587  \n",
       "1  127194             3145  53844       328   80430  \n",
       "2    3348              511   3486        67    5995  \n",
       "3    8565              392   4987        50    4189  \n",
       "4  118933             4058  37520       470   77660  "
      ]
     },
     "execution_count": 26,
     "metadata": {},
     "output_type": "execute_result"
    }
   ],
   "source": [
    "population.head()"
   ]
  },
  {
   "cell_type": "code",
   "execution_count": 27,
   "id": "9f1a871b",
   "metadata": {},
   "outputs": [
    {
     "data": {
      "text/html": [
       "<div>\n",
       "<style scoped>\n",
       "    .dataframe tbody tr th:only-of-type {\n",
       "        vertical-align: middle;\n",
       "    }\n",
       "\n",
       "    .dataframe tbody tr th {\n",
       "        vertical-align: top;\n",
       "    }\n",
       "\n",
       "    .dataframe thead th {\n",
       "        text-align: right;\n",
       "    }\n",
       "</style>\n",
       "<table border=\"1\" class=\"dataframe\">\n",
       "  <thead>\n",
       "    <tr style=\"text-align: right;\">\n",
       "      <th></th>\n",
       "      <th>county</th>\n",
       "      <th>state</th>\n",
       "      <th>fips</th>\n",
       "      <th>cases</th>\n",
       "      <th>deaths</th>\n",
       "    </tr>\n",
       "    <tr>\n",
       "      <th>date</th>\n",
       "      <th></th>\n",
       "      <th></th>\n",
       "      <th></th>\n",
       "      <th></th>\n",
       "      <th></th>\n",
       "    </tr>\n",
       "  </thead>\n",
       "  <tbody>\n",
       "    <tr>\n",
       "      <th>2020-01-21</th>\n",
       "      <td>Snohomish</td>\n",
       "      <td>Washington</td>\n",
       "      <td>53061.0</td>\n",
       "      <td>1</td>\n",
       "      <td>0.0</td>\n",
       "    </tr>\n",
       "    <tr>\n",
       "      <th>2020-01-22</th>\n",
       "      <td>Snohomish</td>\n",
       "      <td>Washington</td>\n",
       "      <td>53061.0</td>\n",
       "      <td>1</td>\n",
       "      <td>0.0</td>\n",
       "    </tr>\n",
       "    <tr>\n",
       "      <th>2020-01-23</th>\n",
       "      <td>Snohomish</td>\n",
       "      <td>Washington</td>\n",
       "      <td>53061.0</td>\n",
       "      <td>1</td>\n",
       "      <td>0.0</td>\n",
       "    </tr>\n",
       "    <tr>\n",
       "      <th>2020-01-24</th>\n",
       "      <td>Cook</td>\n",
       "      <td>Illinois</td>\n",
       "      <td>17031.0</td>\n",
       "      <td>1</td>\n",
       "      <td>0.0</td>\n",
       "    </tr>\n",
       "    <tr>\n",
       "      <th>2020-01-24</th>\n",
       "      <td>Snohomish</td>\n",
       "      <td>Washington</td>\n",
       "      <td>53061.0</td>\n",
       "      <td>1</td>\n",
       "      <td>0.0</td>\n",
       "    </tr>\n",
       "  </tbody>\n",
       "</table>\n",
       "</div>"
      ],
      "text/plain": [
       "               county       state     fips  cases  deaths\n",
       "date                                                     \n",
       "2020-01-21  Snohomish  Washington  53061.0      1     0.0\n",
       "2020-01-22  Snohomish  Washington  53061.0      1     0.0\n",
       "2020-01-23  Snohomish  Washington  53061.0      1     0.0\n",
       "2020-01-24       Cook    Illinois  17031.0      1     0.0\n",
       "2020-01-24  Snohomish  Washington  53061.0      1     0.0"
      ]
     },
     "execution_count": 27,
     "metadata": {},
     "output_type": "execute_result"
    }
   ],
   "source": [
    "df.head()"
   ]
  },
  {
   "cell_type": "markdown",
   "id": "dbef2e55",
   "metadata": {},
   "source": [
    "Q: Using the population and us_state_abbreviations datasets, write Python code to add the 'total_population' to the Covid-19 dataset."
   ]
  },
  {
   "cell_type": "code",
   "execution_count": 145,
   "id": "934b0977",
   "metadata": {},
   "outputs": [],
   "source": [
    "df_index = df.index"
   ]
  },
  {
   "cell_type": "code",
   "execution_count": 146,
   "id": "17e2d0a5",
   "metadata": {},
   "outputs": [],
   "source": [
    "df = pd.merge(df,abbr[['state','code']], how='left', on='state')\n",
    "df.index = df_index"
   ]
  },
  {
   "cell_type": "code",
   "execution_count": 147,
   "id": "91bbd0c1",
   "metadata": {},
   "outputs": [
    {
     "data": {
      "text/html": [
       "<div>\n",
       "<style scoped>\n",
       "    .dataframe tbody tr th:only-of-type {\n",
       "        vertical-align: middle;\n",
       "    }\n",
       "\n",
       "    .dataframe tbody tr th {\n",
       "        vertical-align: top;\n",
       "    }\n",
       "\n",
       "    .dataframe thead th {\n",
       "        text-align: right;\n",
       "    }\n",
       "</style>\n",
       "<table border=\"1\" class=\"dataframe\">\n",
       "  <thead>\n",
       "    <tr style=\"text-align: right;\">\n",
       "      <th></th>\n",
       "      <th>county</th>\n",
       "      <th>state</th>\n",
       "      <th>fips</th>\n",
       "      <th>cases</th>\n",
       "      <th>deaths</th>\n",
       "      <th>code</th>\n",
       "    </tr>\n",
       "    <tr>\n",
       "      <th>date</th>\n",
       "      <th></th>\n",
       "      <th></th>\n",
       "      <th></th>\n",
       "      <th></th>\n",
       "      <th></th>\n",
       "      <th></th>\n",
       "    </tr>\n",
       "  </thead>\n",
       "  <tbody>\n",
       "    <tr>\n",
       "      <th>2020-01-21</th>\n",
       "      <td>Snohomish</td>\n",
       "      <td>Washington</td>\n",
       "      <td>53061.0</td>\n",
       "      <td>1</td>\n",
       "      <td>0.0</td>\n",
       "      <td>WA</td>\n",
       "    </tr>\n",
       "    <tr>\n",
       "      <th>2020-01-22</th>\n",
       "      <td>Snohomish</td>\n",
       "      <td>Washington</td>\n",
       "      <td>53061.0</td>\n",
       "      <td>1</td>\n",
       "      <td>0.0</td>\n",
       "      <td>WA</td>\n",
       "    </tr>\n",
       "    <tr>\n",
       "      <th>2020-01-23</th>\n",
       "      <td>Snohomish</td>\n",
       "      <td>Washington</td>\n",
       "      <td>53061.0</td>\n",
       "      <td>1</td>\n",
       "      <td>0.0</td>\n",
       "      <td>WA</td>\n",
       "    </tr>\n",
       "    <tr>\n",
       "      <th>2020-01-24</th>\n",
       "      <td>Cook</td>\n",
       "      <td>Illinois</td>\n",
       "      <td>17031.0</td>\n",
       "      <td>1</td>\n",
       "      <td>0.0</td>\n",
       "      <td>IL</td>\n",
       "    </tr>\n",
       "    <tr>\n",
       "      <th>2020-01-24</th>\n",
       "      <td>Snohomish</td>\n",
       "      <td>Washington</td>\n",
       "      <td>53061.0</td>\n",
       "      <td>1</td>\n",
       "      <td>0.0</td>\n",
       "      <td>WA</td>\n",
       "    </tr>\n",
       "  </tbody>\n",
       "</table>\n",
       "</div>"
      ],
      "text/plain": [
       "               county       state     fips  cases  deaths code\n",
       "date                                                          \n",
       "2020-01-21  Snohomish  Washington  53061.0      1     0.0   WA\n",
       "2020-01-22  Snohomish  Washington  53061.0      1     0.0   WA\n",
       "2020-01-23  Snohomish  Washington  53061.0      1     0.0   WA\n",
       "2020-01-24       Cook    Illinois  17031.0      1     0.0   IL\n",
       "2020-01-24  Snohomish  Washington  53061.0      1     0.0   WA"
      ]
     },
     "execution_count": 147,
     "metadata": {},
     "output_type": "execute_result"
    }
   ],
   "source": [
    "df.head()"
   ]
  },
  {
   "cell_type": "code",
   "execution_count": 148,
   "id": "e67a6820",
   "metadata": {},
   "outputs": [
    {
     "data": {
      "text/html": [
       "<div>\n",
       "<style scoped>\n",
       "    .dataframe tbody tr th:only-of-type {\n",
       "        vertical-align: middle;\n",
       "    }\n",
       "\n",
       "    .dataframe tbody tr th {\n",
       "        vertical-align: top;\n",
       "    }\n",
       "\n",
       "    .dataframe thead th {\n",
       "        text-align: right;\n",
       "    }\n",
       "</style>\n",
       "<table border=\"1\" class=\"dataframe\">\n",
       "  <thead>\n",
       "    <tr style=\"text-align: right;\">\n",
       "      <th></th>\n",
       "      <th>state_abbr</th>\n",
       "      <th>county</th>\n",
       "      <th>total_population</th>\n",
       "      <th>pop_one_race</th>\n",
       "      <th>white</th>\n",
       "      <th>black</th>\n",
       "      <th>amarican_indian</th>\n",
       "      <th>asian</th>\n",
       "      <th>hawaiian</th>\n",
       "      <th>other</th>\n",
       "    </tr>\n",
       "  </thead>\n",
       "  <tbody>\n",
       "    <tr>\n",
       "      <th>0</th>\n",
       "      <td>CT</td>\n",
       "      <td>Fairfield County</td>\n",
       "      <td>957419</td>\n",
       "      <td>854584</td>\n",
       "      <td>584184</td>\n",
       "      <td>106756</td>\n",
       "      <td>4369</td>\n",
       "      <td>51341</td>\n",
       "      <td>347</td>\n",
       "      <td>107587</td>\n",
       "    </tr>\n",
       "    <tr>\n",
       "      <th>1</th>\n",
       "      <td>CT</td>\n",
       "      <td>Hartford County</td>\n",
       "      <td>899498</td>\n",
       "      <td>819125</td>\n",
       "      <td>554184</td>\n",
       "      <td>127194</td>\n",
       "      <td>3145</td>\n",
       "      <td>53844</td>\n",
       "      <td>328</td>\n",
       "      <td>80430</td>\n",
       "    </tr>\n",
       "    <tr>\n",
       "      <th>2</th>\n",
       "      <td>CT</td>\n",
       "      <td>Litchfield County</td>\n",
       "      <td>185186</td>\n",
       "      <td>172181</td>\n",
       "      <td>158774</td>\n",
       "      <td>3348</td>\n",
       "      <td>511</td>\n",
       "      <td>3486</td>\n",
       "      <td>67</td>\n",
       "      <td>5995</td>\n",
       "    </tr>\n",
       "    <tr>\n",
       "      <th>3</th>\n",
       "      <td>CT</td>\n",
       "      <td>Middlesex County</td>\n",
       "      <td>164245</td>\n",
       "      <td>152898</td>\n",
       "      <td>134715</td>\n",
       "      <td>8565</td>\n",
       "      <td>392</td>\n",
       "      <td>4987</td>\n",
       "      <td>50</td>\n",
       "      <td>4189</td>\n",
       "    </tr>\n",
       "    <tr>\n",
       "      <th>4</th>\n",
       "      <td>CT</td>\n",
       "      <td>New Haven County</td>\n",
       "      <td>864835</td>\n",
       "      <td>782472</td>\n",
       "      <td>543831</td>\n",
       "      <td>118933</td>\n",
       "      <td>4058</td>\n",
       "      <td>37520</td>\n",
       "      <td>470</td>\n",
       "      <td>77660</td>\n",
       "    </tr>\n",
       "  </tbody>\n",
       "</table>\n",
       "</div>"
      ],
      "text/plain": [
       "  state_abbr             county  total_population  pop_one_race   white  \\\n",
       "0         CT   Fairfield County            957419        854584  584184   \n",
       "1         CT    Hartford County            899498        819125  554184   \n",
       "2         CT  Litchfield County            185186        172181  158774   \n",
       "3         CT   Middlesex County            164245        152898  134715   \n",
       "4         CT   New Haven County            864835        782472  543831   \n",
       "\n",
       "    black  amarican_indian  asian  hawaiian   other  \n",
       "0  106756             4369  51341       347  107587  \n",
       "1  127194             3145  53844       328   80430  \n",
       "2    3348              511   3486        67    5995  \n",
       "3    8565              392   4987        50    4189  \n",
       "4  118933             4058  37520       470   77660  "
      ]
     },
     "execution_count": 148,
     "metadata": {},
     "output_type": "execute_result"
    }
   ],
   "source": [
    "population.head()"
   ]
  },
  {
   "cell_type": "markdown",
   "id": "a022d1ba",
   "metadata": {},
   "source": [
    "#### Removing 'County' from the county names of the **population** data set."
   ]
  },
  {
   "cell_type": "code",
   "execution_count": 149,
   "id": "57359c24",
   "metadata": {},
   "outputs": [],
   "source": [
    "# https://stackoverflow.com/questions/13682044/remove-unwanted-parts-from-strings-in-a-column\n",
    "population['county'] = population['county'].map(lambda x: x.rstrip(' County'))"
   ]
  },
  {
   "cell_type": "code",
   "execution_count": 150,
   "id": "4146b38f",
   "metadata": {},
   "outputs": [
    {
     "data": {
      "text/plain": [
       "1932"
      ]
     },
     "execution_count": 150,
     "metadata": {},
     "output_type": "execute_result"
    }
   ],
   "source": [
    "population.county.unique().size"
   ]
  },
  {
   "cell_type": "code",
   "execution_count": 163,
   "id": "0bce585d",
   "metadata": {},
   "outputs": [
    {
     "data": {
      "text/plain": [
       "1932"
      ]
     },
     "execution_count": 163,
     "metadata": {},
     "output_type": "execute_result"
    }
   ],
   "source": [
    "# The number of unique county names in population\n",
    "population.county.unique().size"
   ]
  },
  {
   "cell_type": "code",
   "execution_count": 164,
   "id": "6f3ae4cb",
   "metadata": {},
   "outputs": [
    {
     "data": {
      "text/plain": [
       "1847"
      ]
     },
     "execution_count": 164,
     "metadata": {},
     "output_type": "execute_result"
    }
   ],
   "source": [
    "# The number of unique county names in Covid-19 data\n",
    "df.county.unique().size"
   ]
  },
  {
   "cell_type": "code",
   "execution_count": 155,
   "id": "12e19571",
   "metadata": {},
   "outputs": [
    {
     "data": {
      "text/html": [
       "<div>\n",
       "<style scoped>\n",
       "    .dataframe tbody tr th:only-of-type {\n",
       "        vertical-align: middle;\n",
       "    }\n",
       "\n",
       "    .dataframe tbody tr th {\n",
       "        vertical-align: top;\n",
       "    }\n",
       "\n",
       "    .dataframe thead th {\n",
       "        text-align: right;\n",
       "    }\n",
       "</style>\n",
       "<table border=\"1\" class=\"dataframe\">\n",
       "  <thead>\n",
       "    <tr style=\"text-align: right;\">\n",
       "      <th></th>\n",
       "      <th>county</th>\n",
       "      <th>state</th>\n",
       "      <th>fips</th>\n",
       "      <th>cases</th>\n",
       "      <th>deaths</th>\n",
       "      <th>code</th>\n",
       "    </tr>\n",
       "    <tr>\n",
       "      <th>date</th>\n",
       "      <th></th>\n",
       "      <th></th>\n",
       "      <th></th>\n",
       "      <th></th>\n",
       "      <th></th>\n",
       "      <th></th>\n",
       "    </tr>\n",
       "  </thead>\n",
       "  <tbody>\n",
       "    <tr>\n",
       "      <th>2020-01-21</th>\n",
       "      <td>Snohomish</td>\n",
       "      <td>Washington</td>\n",
       "      <td>53061.0</td>\n",
       "      <td>1</td>\n",
       "      <td>0.0</td>\n",
       "      <td>WA</td>\n",
       "    </tr>\n",
       "    <tr>\n",
       "      <th>2020-01-22</th>\n",
       "      <td>Snohomish</td>\n",
       "      <td>Washington</td>\n",
       "      <td>53061.0</td>\n",
       "      <td>1</td>\n",
       "      <td>0.0</td>\n",
       "      <td>WA</td>\n",
       "    </tr>\n",
       "    <tr>\n",
       "      <th>2020-01-23</th>\n",
       "      <td>Snohomish</td>\n",
       "      <td>Washington</td>\n",
       "      <td>53061.0</td>\n",
       "      <td>1</td>\n",
       "      <td>0.0</td>\n",
       "      <td>WA</td>\n",
       "    </tr>\n",
       "    <tr>\n",
       "      <th>2020-01-24</th>\n",
       "      <td>Cook</td>\n",
       "      <td>Illinois</td>\n",
       "      <td>17031.0</td>\n",
       "      <td>1</td>\n",
       "      <td>0.0</td>\n",
       "      <td>IL</td>\n",
       "    </tr>\n",
       "    <tr>\n",
       "      <th>2020-01-24</th>\n",
       "      <td>Snohomish</td>\n",
       "      <td>Washington</td>\n",
       "      <td>53061.0</td>\n",
       "      <td>1</td>\n",
       "      <td>0.0</td>\n",
       "      <td>WA</td>\n",
       "    </tr>\n",
       "  </tbody>\n",
       "</table>\n",
       "</div>"
      ],
      "text/plain": [
       "               county       state     fips  cases  deaths code\n",
       "date                                                          \n",
       "2020-01-21  Snohomish  Washington  53061.0      1     0.0   WA\n",
       "2020-01-22  Snohomish  Washington  53061.0      1     0.0   WA\n",
       "2020-01-23  Snohomish  Washington  53061.0      1     0.0   WA\n",
       "2020-01-24       Cook    Illinois  17031.0      1     0.0   IL\n",
       "2020-01-24  Snohomish  Washington  53061.0      1     0.0   WA"
      ]
     },
     "execution_count": 155,
     "metadata": {},
     "output_type": "execute_result"
    }
   ],
   "source": [
    "df.head()"
   ]
  },
  {
   "cell_type": "code",
   "execution_count": 146,
   "id": "15836fc3",
   "metadata": {},
   "outputs": [],
   "source": [
    "# df.drop(columns=['total_population_x','total_population_y'], inplace = True)"
   ]
  },
  {
   "cell_type": "code",
   "execution_count": 165,
   "id": "233f8a49",
   "metadata": {},
   "outputs": [
    {
     "data": {
      "text/plain": [
       "Index(['county', 'state', 'fips', 'cases', 'deaths', 'code'], dtype='object')"
      ]
     },
     "execution_count": 165,
     "metadata": {},
     "output_type": "execute_result"
    }
   ],
   "source": [
    "df.columns"
   ]
  },
  {
   "cell_type": "code",
   "execution_count": 167,
   "id": "cbea7600",
   "metadata": {},
   "outputs": [
    {
     "name": "stdout",
     "output_type": "stream",
     "text": [
      "(2176397, 6)\n"
     ]
    },
    {
     "data": {
      "text/html": [
       "<div>\n",
       "<style scoped>\n",
       "    .dataframe tbody tr th:only-of-type {\n",
       "        vertical-align: middle;\n",
       "    }\n",
       "\n",
       "    .dataframe tbody tr th {\n",
       "        vertical-align: top;\n",
       "    }\n",
       "\n",
       "    .dataframe thead th {\n",
       "        text-align: right;\n",
       "    }\n",
       "</style>\n",
       "<table border=\"1\" class=\"dataframe\">\n",
       "  <thead>\n",
       "    <tr style=\"text-align: right;\">\n",
       "      <th></th>\n",
       "      <th>county</th>\n",
       "      <th>state</th>\n",
       "      <th>fips</th>\n",
       "      <th>cases</th>\n",
       "      <th>deaths</th>\n",
       "      <th>code</th>\n",
       "    </tr>\n",
       "    <tr>\n",
       "      <th>date</th>\n",
       "      <th></th>\n",
       "      <th></th>\n",
       "      <th></th>\n",
       "      <th></th>\n",
       "      <th></th>\n",
       "      <th></th>\n",
       "    </tr>\n",
       "  </thead>\n",
       "  <tbody>\n",
       "    <tr>\n",
       "      <th>2020-01-21</th>\n",
       "      <td>Snohomish</td>\n",
       "      <td>Washington</td>\n",
       "      <td>53061.0</td>\n",
       "      <td>1</td>\n",
       "      <td>0.0</td>\n",
       "      <td>WA</td>\n",
       "    </tr>\n",
       "    <tr>\n",
       "      <th>2020-01-22</th>\n",
       "      <td>Snohomish</td>\n",
       "      <td>Washington</td>\n",
       "      <td>53061.0</td>\n",
       "      <td>1</td>\n",
       "      <td>0.0</td>\n",
       "      <td>WA</td>\n",
       "    </tr>\n",
       "    <tr>\n",
       "      <th>2020-01-23</th>\n",
       "      <td>Snohomish</td>\n",
       "      <td>Washington</td>\n",
       "      <td>53061.0</td>\n",
       "      <td>1</td>\n",
       "      <td>0.0</td>\n",
       "      <td>WA</td>\n",
       "    </tr>\n",
       "    <tr>\n",
       "      <th>2020-01-24</th>\n",
       "      <td>Cook</td>\n",
       "      <td>Illinois</td>\n",
       "      <td>17031.0</td>\n",
       "      <td>1</td>\n",
       "      <td>0.0</td>\n",
       "      <td>IL</td>\n",
       "    </tr>\n",
       "    <tr>\n",
       "      <th>2020-01-24</th>\n",
       "      <td>Snohomish</td>\n",
       "      <td>Washington</td>\n",
       "      <td>53061.0</td>\n",
       "      <td>1</td>\n",
       "      <td>0.0</td>\n",
       "      <td>WA</td>\n",
       "    </tr>\n",
       "  </tbody>\n",
       "</table>\n",
       "</div>"
      ],
      "text/plain": [
       "               county       state     fips  cases  deaths code\n",
       "date                                                          \n",
       "2020-01-21  Snohomish  Washington  53061.0      1     0.0   WA\n",
       "2020-01-22  Snohomish  Washington  53061.0      1     0.0   WA\n",
       "2020-01-23  Snohomish  Washington  53061.0      1     0.0   WA\n",
       "2020-01-24       Cook    Illinois  17031.0      1     0.0   IL\n",
       "2020-01-24  Snohomish  Washington  53061.0      1     0.0   WA"
      ]
     },
     "execution_count": 167,
     "metadata": {},
     "output_type": "execute_result"
    }
   ],
   "source": [
    "print(df.shape)\n",
    "df.head()"
   ]
  },
  {
   "cell_type": "code",
   "execution_count": 168,
   "id": "959540de",
   "metadata": {},
   "outputs": [
    {
     "data": {
      "text/html": [
       "<div>\n",
       "<style scoped>\n",
       "    .dataframe tbody tr th:only-of-type {\n",
       "        vertical-align: middle;\n",
       "    }\n",
       "\n",
       "    .dataframe tbody tr th {\n",
       "        vertical-align: top;\n",
       "    }\n",
       "\n",
       "    .dataframe thead th {\n",
       "        text-align: right;\n",
       "    }\n",
       "</style>\n",
       "<table border=\"1\" class=\"dataframe\">\n",
       "  <thead>\n",
       "    <tr style=\"text-align: right;\">\n",
       "      <th></th>\n",
       "      <th>code</th>\n",
       "      <th>county</th>\n",
       "      <th>total_population</th>\n",
       "      <th>pop_one_race</th>\n",
       "      <th>white</th>\n",
       "      <th>black</th>\n",
       "      <th>amarican_indian</th>\n",
       "      <th>asian</th>\n",
       "      <th>hawaiian</th>\n",
       "      <th>other</th>\n",
       "    </tr>\n",
       "  </thead>\n",
       "  <tbody>\n",
       "    <tr>\n",
       "      <th>0</th>\n",
       "      <td>CT</td>\n",
       "      <td>Fairfield</td>\n",
       "      <td>957419</td>\n",
       "      <td>854584</td>\n",
       "      <td>584184</td>\n",
       "      <td>106756</td>\n",
       "      <td>4369</td>\n",
       "      <td>51341</td>\n",
       "      <td>347</td>\n",
       "      <td>107587</td>\n",
       "    </tr>\n",
       "    <tr>\n",
       "      <th>1</th>\n",
       "      <td>CT</td>\n",
       "      <td>Hartford</td>\n",
       "      <td>899498</td>\n",
       "      <td>819125</td>\n",
       "      <td>554184</td>\n",
       "      <td>127194</td>\n",
       "      <td>3145</td>\n",
       "      <td>53844</td>\n",
       "      <td>328</td>\n",
       "      <td>80430</td>\n",
       "    </tr>\n",
       "    <tr>\n",
       "      <th>2</th>\n",
       "      <td>CT</td>\n",
       "      <td>Litchfield</td>\n",
       "      <td>185186</td>\n",
       "      <td>172181</td>\n",
       "      <td>158774</td>\n",
       "      <td>3348</td>\n",
       "      <td>511</td>\n",
       "      <td>3486</td>\n",
       "      <td>67</td>\n",
       "      <td>5995</td>\n",
       "    </tr>\n",
       "    <tr>\n",
       "      <th>3</th>\n",
       "      <td>CT</td>\n",
       "      <td>Middlesex</td>\n",
       "      <td>164245</td>\n",
       "      <td>152898</td>\n",
       "      <td>134715</td>\n",
       "      <td>8565</td>\n",
       "      <td>392</td>\n",
       "      <td>4987</td>\n",
       "      <td>50</td>\n",
       "      <td>4189</td>\n",
       "    </tr>\n",
       "    <tr>\n",
       "      <th>4</th>\n",
       "      <td>CT</td>\n",
       "      <td>New Have</td>\n",
       "      <td>864835</td>\n",
       "      <td>782472</td>\n",
       "      <td>543831</td>\n",
       "      <td>118933</td>\n",
       "      <td>4058</td>\n",
       "      <td>37520</td>\n",
       "      <td>470</td>\n",
       "      <td>77660</td>\n",
       "    </tr>\n",
       "  </tbody>\n",
       "</table>\n",
       "</div>"
      ],
      "text/plain": [
       "  code      county  total_population  pop_one_race   white   black  \\\n",
       "0   CT   Fairfield            957419        854584  584184  106756   \n",
       "1   CT    Hartford            899498        819125  554184  127194   \n",
       "2   CT  Litchfield            185186        172181  158774    3348   \n",
       "3   CT   Middlesex            164245        152898  134715    8565   \n",
       "4   CT    New Have            864835        782472  543831  118933   \n",
       "\n",
       "   amarican_indian  asian  hawaiian   other  \n",
       "0             4369  51341       347  107587  \n",
       "1             3145  53844       328   80430  \n",
       "2              511   3486        67    5995  \n",
       "3              392   4987        50    4189  \n",
       "4             4058  37520       470   77660  "
      ]
     },
     "execution_count": 168,
     "metadata": {},
     "output_type": "execute_result"
    }
   ],
   "source": [
    "population.head()"
   ]
  },
  {
   "cell_type": "code",
   "execution_count": 167,
   "id": "0e136c35",
   "metadata": {},
   "outputs": [],
   "source": [
    "# df = pd.merge(df,population[['county','code','total_population']], how='inner',on=['county','code'])"
   ]
  },
  {
   "cell_type": "code",
   "execution_count": null,
   "id": "73ebc2c7",
   "metadata": {},
   "outputs": [],
   "source": [
    "# df = pd.merge(df,population[['code','county','total_population']], how='left',left_on=['county','code'], right_on=['county','code'])"
   ]
  },
  {
   "cell_type": "code",
   "execution_count": null,
   "id": "96721a8e",
   "metadata": {},
   "outputs": [],
   "source": [
    "# df = pd.merge(df,population[['county','total_population']], how='left', on='county')"
   ]
  },
  {
   "cell_type": "markdown",
   "id": "885d4923",
   "metadata": {},
   "source": [
    "#### Merging two DataFrames\n",
    "\n",
    "To add total population, rename the column **state_abbr** of the DataFrame population to **code** for merging "
   ]
  },
  {
   "cell_type": "code",
   "execution_count": 159,
   "id": "9a8dc9a5",
   "metadata": {},
   "outputs": [],
   "source": [
    "#abbr.rename(columns={\"State\":\"state\",\"Abbrev\":\"abbrev\",\"Code\":\"code\"}, inplace = True)\n",
    "\n",
    "population.rename(columns={\"state_abbr\":\"code\"}, inplace = True)"
   ]
  },
  {
   "cell_type": "code",
   "execution_count": 170,
   "id": "7aef460b",
   "metadata": {},
   "outputs": [
    {
     "name": "stdout",
     "output_type": "stream",
     "text": [
      "  code      county  total_population  pop_one_race   white   black  \\\n",
      "0   CT   Fairfield            957419        854584  584184  106756   \n",
      "1   CT    Hartford            899498        819125  554184  127194   \n",
      "2   CT  Litchfield            185186        172181  158774    3348   \n",
      "3   CT   Middlesex            164245        152898  134715    8565   \n",
      "4   CT    New Have            864835        782472  543831  118933   \n",
      "\n",
      "   amarican_indian  asian  hawaiian   other  \n",
      "0             4369  51341       347  107587  \n",
      "1             3145  53844       328   80430  \n",
      "2              511   3486        67    5995  \n",
      "3              392   4987        50    4189  \n",
      "4             4058  37520       470   77660  \n",
      "           code     county\n",
      "date                      \n",
      "2020-01-21   WA  Snohomish\n",
      "2020-01-22   WA  Snohomish\n",
      "2020-01-23   WA  Snohomish\n",
      "2020-01-24   IL       Cook\n",
      "2020-01-24   WA  Snohomish\n"
     ]
    }
   ],
   "source": [
    "print(population.head())\n",
    "\n",
    "print(df[['code','county']].head())"
   ]
  },
  {
   "cell_type": "code",
   "execution_count": 171,
   "id": "fea8c133",
   "metadata": {},
   "outputs": [
    {
     "name": "stdout",
     "output_type": "stream",
     "text": [
      "Index(['county', 'state', 'fips', 'cases', 'deaths', 'code'], dtype='object')\n"
     ]
    },
    {
     "data": {
      "text/plain": [
       "(2176397, 6)"
      ]
     },
     "execution_count": 171,
     "metadata": {},
     "output_type": "execute_result"
    }
   ],
   "source": [
    "print(df.columns)\n",
    "df.shape"
   ]
  },
  {
   "cell_type": "code",
   "execution_count": 172,
   "id": "ab5c3efc",
   "metadata": {},
   "outputs": [
    {
     "name": "stdout",
     "output_type": "stream",
     "text": [
      "Index(['code', 'county', 'total_population', 'pop_one_race', 'white', 'black',\n",
      "       'amarican_indian', 'asian', 'hawaiian', 'other'],\n",
      "      dtype='object')\n"
     ]
    },
    {
     "data": {
      "text/plain": [
       "(3221, 10)"
      ]
     },
     "execution_count": 172,
     "metadata": {},
     "output_type": "execute_result"
    }
   ],
   "source": [
    "print(population.columns)\n",
    "population.shape"
   ]
  },
  {
   "cell_type": "code",
   "execution_count": 180,
   "id": "450b1817",
   "metadata": {},
   "outputs": [
    {
     "data": {
      "text/plain": [
       "64"
      ]
     },
     "execution_count": 180,
     "metadata": {},
     "output_type": "execute_result"
    }
   ],
   "source": [
    "len(population.query('code == \"CO\"').county.unique())"
   ]
  },
  {
   "cell_type": "code",
   "execution_count": 181,
   "id": "4094248c",
   "metadata": {},
   "outputs": [
    {
     "data": {
      "text/plain": [
       "64"
      ]
     },
     "execution_count": 181,
     "metadata": {},
     "output_type": "execute_result"
    }
   ],
   "source": [
    "len(df.query('code == \"CO\"').county.unique())"
   ]
  },
  {
   "cell_type": "code",
   "execution_count": 182,
   "id": "89d0691e",
   "metadata": {},
   "outputs": [
    {
     "data": {
      "text/plain": [
       "(2176397, 6)"
      ]
     },
     "execution_count": 182,
     "metadata": {},
     "output_type": "execute_result"
    }
   ],
   "source": [
    "df.shape"
   ]
  },
  {
   "cell_type": "code",
   "execution_count": 183,
   "id": "b1a2ec42",
   "metadata": {},
   "outputs": [],
   "source": [
    "df['date'] = df.index"
   ]
  },
  {
   "cell_type": "code",
   "execution_count": 184,
   "id": "31f3c170",
   "metadata": {},
   "outputs": [
    {
     "data": {
      "text/html": [
       "<div>\n",
       "<style scoped>\n",
       "    .dataframe tbody tr th:only-of-type {\n",
       "        vertical-align: middle;\n",
       "    }\n",
       "\n",
       "    .dataframe tbody tr th {\n",
       "        vertical-align: top;\n",
       "    }\n",
       "\n",
       "    .dataframe thead th {\n",
       "        text-align: right;\n",
       "    }\n",
       "</style>\n",
       "<table border=\"1\" class=\"dataframe\">\n",
       "  <thead>\n",
       "    <tr style=\"text-align: right;\">\n",
       "      <th></th>\n",
       "      <th>county</th>\n",
       "      <th>state</th>\n",
       "      <th>fips</th>\n",
       "      <th>cases</th>\n",
       "      <th>deaths</th>\n",
       "      <th>code</th>\n",
       "      <th>date</th>\n",
       "    </tr>\n",
       "    <tr>\n",
       "      <th>date</th>\n",
       "      <th></th>\n",
       "      <th></th>\n",
       "      <th></th>\n",
       "      <th></th>\n",
       "      <th></th>\n",
       "      <th></th>\n",
       "      <th></th>\n",
       "    </tr>\n",
       "  </thead>\n",
       "  <tbody>\n",
       "    <tr>\n",
       "      <th>2020-01-21</th>\n",
       "      <td>Snohomish</td>\n",
       "      <td>Washington</td>\n",
       "      <td>53061.0</td>\n",
       "      <td>1</td>\n",
       "      <td>0.0</td>\n",
       "      <td>WA</td>\n",
       "      <td>2020-01-21</td>\n",
       "    </tr>\n",
       "    <tr>\n",
       "      <th>2020-01-22</th>\n",
       "      <td>Snohomish</td>\n",
       "      <td>Washington</td>\n",
       "      <td>53061.0</td>\n",
       "      <td>1</td>\n",
       "      <td>0.0</td>\n",
       "      <td>WA</td>\n",
       "      <td>2020-01-22</td>\n",
       "    </tr>\n",
       "    <tr>\n",
       "      <th>2020-01-23</th>\n",
       "      <td>Snohomish</td>\n",
       "      <td>Washington</td>\n",
       "      <td>53061.0</td>\n",
       "      <td>1</td>\n",
       "      <td>0.0</td>\n",
       "      <td>WA</td>\n",
       "      <td>2020-01-23</td>\n",
       "    </tr>\n",
       "    <tr>\n",
       "      <th>2020-01-24</th>\n",
       "      <td>Cook</td>\n",
       "      <td>Illinois</td>\n",
       "      <td>17031.0</td>\n",
       "      <td>1</td>\n",
       "      <td>0.0</td>\n",
       "      <td>IL</td>\n",
       "      <td>2020-01-24</td>\n",
       "    </tr>\n",
       "    <tr>\n",
       "      <th>2020-01-24</th>\n",
       "      <td>Snohomish</td>\n",
       "      <td>Washington</td>\n",
       "      <td>53061.0</td>\n",
       "      <td>1</td>\n",
       "      <td>0.0</td>\n",
       "      <td>WA</td>\n",
       "      <td>2020-01-24</td>\n",
       "    </tr>\n",
       "  </tbody>\n",
       "</table>\n",
       "</div>"
      ],
      "text/plain": [
       "               county       state     fips  cases  deaths code       date\n",
       "date                                                                     \n",
       "2020-01-21  Snohomish  Washington  53061.0      1     0.0   WA 2020-01-21\n",
       "2020-01-22  Snohomish  Washington  53061.0      1     0.0   WA 2020-01-22\n",
       "2020-01-23  Snohomish  Washington  53061.0      1     0.0   WA 2020-01-23\n",
       "2020-01-24       Cook    Illinois  17031.0      1     0.0   IL 2020-01-24\n",
       "2020-01-24  Snohomish  Washington  53061.0      1     0.0   WA 2020-01-24"
      ]
     },
     "execution_count": 184,
     "metadata": {},
     "output_type": "execute_result"
    }
   ],
   "source": [
    "df.head()"
   ]
  },
  {
   "cell_type": "code",
   "execution_count": 198,
   "id": "68f1abd9",
   "metadata": {},
   "outputs": [],
   "source": [
    "temp = pd.merge(df,population[['code','county','total_population']], how='left', on=['county','code'])"
   ]
  },
  {
   "cell_type": "code",
   "execution_count": 187,
   "id": "a997a54b",
   "metadata": {},
   "outputs": [
    {
     "data": {
      "text/plain": [
       "(2177801, 8)"
      ]
     },
     "execution_count": 187,
     "metadata": {},
     "output_type": "execute_result"
    }
   ],
   "source": [
    "temp.shape"
   ]
  },
  {
   "cell_type": "code",
   "execution_count": 199,
   "id": "f50245a5",
   "metadata": {},
   "outputs": [],
   "source": [
    "temp.dropna(inplace = True)"
   ]
  },
  {
   "cell_type": "code",
   "execution_count": 200,
   "id": "5d2069df",
   "metadata": {},
   "outputs": [
    {
     "data": {
      "text/plain": [
       "(1312449, 8)"
      ]
     },
     "execution_count": 200,
     "metadata": {},
     "output_type": "execute_result"
    }
   ],
   "source": [
    "temp.shape"
   ]
  },
  {
   "cell_type": "code",
   "execution_count": 201,
   "id": "535dec7c",
   "metadata": {},
   "outputs": [],
   "source": [
    "# pd.merge(df,population[['code','county','total_population']], how='left', on=['county','code'])\n",
    "\n",
    "df_merged = pd.merge(df,population[['code','county','total_population']], how='inner', on=['county','code'])\n",
    "#df.index = df_index"
   ]
  },
  {
   "cell_type": "code",
   "execution_count": 202,
   "id": "10a87b3a",
   "metadata": {},
   "outputs": [
    {
     "name": "stdout",
     "output_type": "stream",
     "text": [
      "      county       state     fips  cases  deaths code       date  \\\n",
      "0  Snohomish  Washington  53061.0      1     0.0   WA 2020-01-21   \n",
      "1  Snohomish  Washington  53061.0      1     0.0   WA 2020-01-22   \n",
      "2  Snohomish  Washington  53061.0      1     0.0   WA 2020-01-23   \n",
      "3  Snohomish  Washington  53061.0      1     0.0   WA 2020-01-24   \n",
      "4  Snohomish  Washington  53061.0      1     0.0   WA 2020-01-25   \n",
      "\n",
      "   total_population  \n",
      "0            827957  \n",
      "1            827957  \n",
      "2            827957  \n",
      "3            827957  \n",
      "4            827957  \n"
     ]
    },
    {
     "data": {
      "text/plain": [
       "county              0\n",
       "state               0\n",
       "fips                0\n",
       "cases               0\n",
       "deaths              0\n",
       "code                0\n",
       "date                0\n",
       "total_population    0\n",
       "dtype: int64"
      ]
     },
     "execution_count": 202,
     "metadata": {},
     "output_type": "execute_result"
    }
   ],
   "source": [
    "print(df_merged.head())\n",
    "\n",
    "df_merged.isnull().sum()"
   ]
  },
  {
   "cell_type": "code",
   "execution_count": 204,
   "id": "113e5395",
   "metadata": {},
   "outputs": [
    {
     "data": {
      "text/plain": [
       "(1312449, 8)"
      ]
     },
     "execution_count": 204,
     "metadata": {},
     "output_type": "execute_result"
    }
   ],
   "source": [
    "df_merged.shape"
   ]
  },
  {
   "cell_type": "code",
   "execution_count": 205,
   "id": "a446c438",
   "metadata": {},
   "outputs": [
    {
     "data": {
      "text/plain": [
       "Index(['county', 'state', 'fips', 'cases', 'deaths', 'code', 'date',\n",
       "       'total_population'],\n",
       "      dtype='object')"
      ]
     },
     "execution_count": 205,
     "metadata": {},
     "output_type": "execute_result"
    }
   ],
   "source": [
    "df_merged.columns"
   ]
  },
  {
   "cell_type": "code",
   "execution_count": 206,
   "id": "5c67e546",
   "metadata": {},
   "outputs": [
    {
     "data": {
      "text/plain": [
       "['county',\n",
       " 'state',\n",
       " 'fips',\n",
       " 'cases',\n",
       " 'deaths',\n",
       " 'code',\n",
       " 'date',\n",
       " 'total_population']"
      ]
     },
     "execution_count": 206,
     "metadata": {},
     "output_type": "execute_result"
    }
   ],
   "source": [
    "list(df_merged.columns.values)"
   ]
  },
  {
   "cell_type": "code",
   "execution_count": 207,
   "id": "dd799aa3",
   "metadata": {},
   "outputs": [],
   "source": [
    "df_merged = df_merged[[ 'date','county', 'code','state', 'fips', 'cases', 'deaths','total_population']]"
   ]
  },
  {
   "cell_type": "code",
   "execution_count": 208,
   "id": "f50ac4d9",
   "metadata": {},
   "outputs": [
    {
     "data": {
      "text/html": [
       "<div>\n",
       "<style scoped>\n",
       "    .dataframe tbody tr th:only-of-type {\n",
       "        vertical-align: middle;\n",
       "    }\n",
       "\n",
       "    .dataframe tbody tr th {\n",
       "        vertical-align: top;\n",
       "    }\n",
       "\n",
       "    .dataframe thead th {\n",
       "        text-align: right;\n",
       "    }\n",
       "</style>\n",
       "<table border=\"1\" class=\"dataframe\">\n",
       "  <thead>\n",
       "    <tr style=\"text-align: right;\">\n",
       "      <th></th>\n",
       "      <th>date</th>\n",
       "      <th>county</th>\n",
       "      <th>code</th>\n",
       "      <th>state</th>\n",
       "      <th>fips</th>\n",
       "      <th>cases</th>\n",
       "      <th>deaths</th>\n",
       "      <th>total_population</th>\n",
       "    </tr>\n",
       "  </thead>\n",
       "  <tbody>\n",
       "    <tr>\n",
       "      <th>0</th>\n",
       "      <td>2020-01-21</td>\n",
       "      <td>Snohomish</td>\n",
       "      <td>WA</td>\n",
       "      <td>Washington</td>\n",
       "      <td>53061.0</td>\n",
       "      <td>1</td>\n",
       "      <td>0.0</td>\n",
       "      <td>827957</td>\n",
       "    </tr>\n",
       "    <tr>\n",
       "      <th>1</th>\n",
       "      <td>2020-01-22</td>\n",
       "      <td>Snohomish</td>\n",
       "      <td>WA</td>\n",
       "      <td>Washington</td>\n",
       "      <td>53061.0</td>\n",
       "      <td>1</td>\n",
       "      <td>0.0</td>\n",
       "      <td>827957</td>\n",
       "    </tr>\n",
       "    <tr>\n",
       "      <th>2</th>\n",
       "      <td>2020-01-23</td>\n",
       "      <td>Snohomish</td>\n",
       "      <td>WA</td>\n",
       "      <td>Washington</td>\n",
       "      <td>53061.0</td>\n",
       "      <td>1</td>\n",
       "      <td>0.0</td>\n",
       "      <td>827957</td>\n",
       "    </tr>\n",
       "    <tr>\n",
       "      <th>3</th>\n",
       "      <td>2020-01-24</td>\n",
       "      <td>Snohomish</td>\n",
       "      <td>WA</td>\n",
       "      <td>Washington</td>\n",
       "      <td>53061.0</td>\n",
       "      <td>1</td>\n",
       "      <td>0.0</td>\n",
       "      <td>827957</td>\n",
       "    </tr>\n",
       "    <tr>\n",
       "      <th>4</th>\n",
       "      <td>2020-01-25</td>\n",
       "      <td>Snohomish</td>\n",
       "      <td>WA</td>\n",
       "      <td>Washington</td>\n",
       "      <td>53061.0</td>\n",
       "      <td>1</td>\n",
       "      <td>0.0</td>\n",
       "      <td>827957</td>\n",
       "    </tr>\n",
       "    <tr>\n",
       "      <th>...</th>\n",
       "      <td>...</td>\n",
       "      <td>...</td>\n",
       "      <td>...</td>\n",
       "      <td>...</td>\n",
       "      <td>...</td>\n",
       "      <td>...</td>\n",
       "      <td>...</td>\n",
       "      <td>...</td>\n",
       "    </tr>\n",
       "    <tr>\n",
       "      <th>1312444</th>\n",
       "      <td>2022-02-21</td>\n",
       "      <td>Loving</td>\n",
       "      <td>TX</td>\n",
       "      <td>Texas</td>\n",
       "      <td>48301.0</td>\n",
       "      <td>157</td>\n",
       "      <td>0.0</td>\n",
       "      <td>64</td>\n",
       "    </tr>\n",
       "    <tr>\n",
       "      <th>1312445</th>\n",
       "      <td>2022-02-22</td>\n",
       "      <td>Loving</td>\n",
       "      <td>TX</td>\n",
       "      <td>Texas</td>\n",
       "      <td>48301.0</td>\n",
       "      <td>162</td>\n",
       "      <td>0.0</td>\n",
       "      <td>64</td>\n",
       "    </tr>\n",
       "    <tr>\n",
       "      <th>1312446</th>\n",
       "      <td>2022-02-23</td>\n",
       "      <td>Loving</td>\n",
       "      <td>TX</td>\n",
       "      <td>Texas</td>\n",
       "      <td>48301.0</td>\n",
       "      <td>163</td>\n",
       "      <td>0.0</td>\n",
       "      <td>64</td>\n",
       "    </tr>\n",
       "    <tr>\n",
       "      <th>1312447</th>\n",
       "      <td>2022-02-24</td>\n",
       "      <td>Loving</td>\n",
       "      <td>TX</td>\n",
       "      <td>Texas</td>\n",
       "      <td>48301.0</td>\n",
       "      <td>164</td>\n",
       "      <td>0.0</td>\n",
       "      <td>64</td>\n",
       "    </tr>\n",
       "    <tr>\n",
       "      <th>1312448</th>\n",
       "      <td>2022-02-25</td>\n",
       "      <td>Loving</td>\n",
       "      <td>TX</td>\n",
       "      <td>Texas</td>\n",
       "      <td>48301.0</td>\n",
       "      <td>164</td>\n",
       "      <td>0.0</td>\n",
       "      <td>64</td>\n",
       "    </tr>\n",
       "  </tbody>\n",
       "</table>\n",
       "<p>1312449 rows × 8 columns</p>\n",
       "</div>"
      ],
      "text/plain": [
       "              date     county code       state     fips  cases  deaths  \\\n",
       "0       2020-01-21  Snohomish   WA  Washington  53061.0      1     0.0   \n",
       "1       2020-01-22  Snohomish   WA  Washington  53061.0      1     0.0   \n",
       "2       2020-01-23  Snohomish   WA  Washington  53061.0      1     0.0   \n",
       "3       2020-01-24  Snohomish   WA  Washington  53061.0      1     0.0   \n",
       "4       2020-01-25  Snohomish   WA  Washington  53061.0      1     0.0   \n",
       "...            ...        ...  ...         ...      ...    ...     ...   \n",
       "1312444 2022-02-21     Loving   TX       Texas  48301.0    157     0.0   \n",
       "1312445 2022-02-22     Loving   TX       Texas  48301.0    162     0.0   \n",
       "1312446 2022-02-23     Loving   TX       Texas  48301.0    163     0.0   \n",
       "1312447 2022-02-24     Loving   TX       Texas  48301.0    164     0.0   \n",
       "1312448 2022-02-25     Loving   TX       Texas  48301.0    164     0.0   \n",
       "\n",
       "         total_population  \n",
       "0                  827957  \n",
       "1                  827957  \n",
       "2                  827957  \n",
       "3                  827957  \n",
       "4                  827957  \n",
       "...                   ...  \n",
       "1312444                64  \n",
       "1312445                64  \n",
       "1312446                64  \n",
       "1312447                64  \n",
       "1312448                64  \n",
       "\n",
       "[1312449 rows x 8 columns]"
      ]
     },
     "execution_count": 208,
     "metadata": {},
     "output_type": "execute_result"
    }
   ],
   "source": [
    "df_merged"
   ]
  },
  {
   "cell_type": "code",
   "execution_count": 209,
   "id": "584d0168",
   "metadata": {},
   "outputs": [
    {
     "data": {
      "text/plain": [
       "1197"
      ]
     },
     "execution_count": 209,
     "metadata": {},
     "output_type": "execute_result"
    }
   ],
   "source": [
    "len(df_merged.county.unique())"
   ]
  },
  {
   "cell_type": "code",
   "execution_count": 210,
   "id": "4019bd2b",
   "metadata": {},
   "outputs": [],
   "source": [
    "df_merged.to_csv('/Users/Kaemyuijang/SCMA248/Data/US_covid19_part2.csv')"
   ]
  },
  {
   "cell_type": "code",
   "execution_count": 211,
   "id": "64f63c6e",
   "metadata": {},
   "outputs": [],
   "source": [
    "path = '/Users/Kaemyuijang/SCMA248/Data/US_covid19_part2.csv'\n",
    "\n",
    "final = pd.read_csv(path, parse_dates=True, index_col = 'date')"
   ]
  },
  {
   "cell_type": "code",
   "execution_count": 215,
   "id": "2d2bc5af",
   "metadata": {},
   "outputs": [
    {
     "data": {
      "text/plain": [
       "Unnamed: 0          0\n",
       "county              0\n",
       "code                0\n",
       "state               0\n",
       "fips                0\n",
       "cases               0\n",
       "deaths              0\n",
       "total_population    0\n",
       "dtype: int64"
      ]
     },
     "execution_count": 215,
     "metadata": {},
     "output_type": "execute_result"
    }
   ],
   "source": [
    "final.isnull().sum()"
   ]
  },
  {
   "cell_type": "code",
   "execution_count": null,
   "id": "fd5c3d33",
   "metadata": {},
   "outputs": [],
   "source": []
  },
  {
   "cell_type": "code",
   "execution_count": null,
   "id": "5c4d7783",
   "metadata": {},
   "outputs": [],
   "source": []
  },
  {
   "cell_type": "code",
   "execution_count": null,
   "id": "1baa6677",
   "metadata": {},
   "outputs": [],
   "source": []
  },
  {
   "cell_type": "markdown",
   "id": "b1dfbe2c",
   "metadata": {},
   "source": [
    "#### Working on the merged DataFrame"
   ]
  },
  {
   "cell_type": "code",
   "execution_count": 104,
   "id": "72287e97",
   "metadata": {},
   "outputs": [],
   "source": [
    "df = df_merged"
   ]
  },
  {
   "cell_type": "code",
   "execution_count": 105,
   "id": "3f3fa4ea",
   "metadata": {},
   "outputs": [
    {
     "data": {
      "text/html": [
       "<div>\n",
       "<style scoped>\n",
       "    .dataframe tbody tr th:only-of-type {\n",
       "        vertical-align: middle;\n",
       "    }\n",
       "\n",
       "    .dataframe tbody tr th {\n",
       "        vertical-align: top;\n",
       "    }\n",
       "\n",
       "    .dataframe thead th {\n",
       "        text-align: right;\n",
       "    }\n",
       "</style>\n",
       "<table border=\"1\" class=\"dataframe\">\n",
       "  <thead>\n",
       "    <tr style=\"text-align: right;\">\n",
       "      <th></th>\n",
       "      <th>county</th>\n",
       "      <th>code</th>\n",
       "      <th>state</th>\n",
       "      <th>fips</th>\n",
       "      <th>cases</th>\n",
       "      <th>deaths</th>\n",
       "      <th>total_population</th>\n",
       "    </tr>\n",
       "    <tr>\n",
       "      <th>date</th>\n",
       "      <th></th>\n",
       "      <th></th>\n",
       "      <th></th>\n",
       "      <th></th>\n",
       "      <th></th>\n",
       "      <th></th>\n",
       "      <th></th>\n",
       "    </tr>\n",
       "  </thead>\n",
       "  <tbody>\n",
       "    <tr>\n",
       "      <th>2020-01-21</th>\n",
       "      <td>Snohomish</td>\n",
       "      <td>WA</td>\n",
       "      <td>Washington</td>\n",
       "      <td>53061.0</td>\n",
       "      <td>1</td>\n",
       "      <td>0.0</td>\n",
       "      <td>827957</td>\n",
       "    </tr>\n",
       "    <tr>\n",
       "      <th>2020-01-22</th>\n",
       "      <td>Snohomish</td>\n",
       "      <td>WA</td>\n",
       "      <td>Washington</td>\n",
       "      <td>53061.0</td>\n",
       "      <td>1</td>\n",
       "      <td>0.0</td>\n",
       "      <td>827957</td>\n",
       "    </tr>\n",
       "    <tr>\n",
       "      <th>2020-01-23</th>\n",
       "      <td>Snohomish</td>\n",
       "      <td>WA</td>\n",
       "      <td>Washington</td>\n",
       "      <td>53061.0</td>\n",
       "      <td>1</td>\n",
       "      <td>0.0</td>\n",
       "      <td>827957</td>\n",
       "    </tr>\n",
       "    <tr>\n",
       "      <th>2020-01-24</th>\n",
       "      <td>Snohomish</td>\n",
       "      <td>WA</td>\n",
       "      <td>Washington</td>\n",
       "      <td>53061.0</td>\n",
       "      <td>1</td>\n",
       "      <td>0.0</td>\n",
       "      <td>827957</td>\n",
       "    </tr>\n",
       "    <tr>\n",
       "      <th>2020-01-25</th>\n",
       "      <td>Snohomish</td>\n",
       "      <td>WA</td>\n",
       "      <td>Washington</td>\n",
       "      <td>53061.0</td>\n",
       "      <td>1</td>\n",
       "      <td>0.0</td>\n",
       "      <td>827957</td>\n",
       "    </tr>\n",
       "    <tr>\n",
       "      <th>...</th>\n",
       "      <td>...</td>\n",
       "      <td>...</td>\n",
       "      <td>...</td>\n",
       "      <td>...</td>\n",
       "      <td>...</td>\n",
       "      <td>...</td>\n",
       "      <td>...</td>\n",
       "    </tr>\n",
       "    <tr>\n",
       "      <th>2022-02-21</th>\n",
       "      <td>Loving</td>\n",
       "      <td>TX</td>\n",
       "      <td>Texas</td>\n",
       "      <td>48301.0</td>\n",
       "      <td>157</td>\n",
       "      <td>0.0</td>\n",
       "      <td>64</td>\n",
       "    </tr>\n",
       "    <tr>\n",
       "      <th>2022-02-22</th>\n",
       "      <td>Loving</td>\n",
       "      <td>TX</td>\n",
       "      <td>Texas</td>\n",
       "      <td>48301.0</td>\n",
       "      <td>162</td>\n",
       "      <td>0.0</td>\n",
       "      <td>64</td>\n",
       "    </tr>\n",
       "    <tr>\n",
       "      <th>2022-02-23</th>\n",
       "      <td>Loving</td>\n",
       "      <td>TX</td>\n",
       "      <td>Texas</td>\n",
       "      <td>48301.0</td>\n",
       "      <td>163</td>\n",
       "      <td>0.0</td>\n",
       "      <td>64</td>\n",
       "    </tr>\n",
       "    <tr>\n",
       "      <th>2022-02-24</th>\n",
       "      <td>Loving</td>\n",
       "      <td>TX</td>\n",
       "      <td>Texas</td>\n",
       "      <td>48301.0</td>\n",
       "      <td>164</td>\n",
       "      <td>0.0</td>\n",
       "      <td>64</td>\n",
       "    </tr>\n",
       "    <tr>\n",
       "      <th>2022-02-25</th>\n",
       "      <td>Loving</td>\n",
       "      <td>TX</td>\n",
       "      <td>Texas</td>\n",
       "      <td>48301.0</td>\n",
       "      <td>164</td>\n",
       "      <td>0.0</td>\n",
       "      <td>64</td>\n",
       "    </tr>\n",
       "  </tbody>\n",
       "</table>\n",
       "<p>1312449 rows × 7 columns</p>\n",
       "</div>"
      ],
      "text/plain": [
       "               county code       state     fips  cases  deaths  \\\n",
       "date                                                             \n",
       "2020-01-21  Snohomish   WA  Washington  53061.0      1     0.0   \n",
       "2020-01-22  Snohomish   WA  Washington  53061.0      1     0.0   \n",
       "2020-01-23  Snohomish   WA  Washington  53061.0      1     0.0   \n",
       "2020-01-24  Snohomish   WA  Washington  53061.0      1     0.0   \n",
       "2020-01-25  Snohomish   WA  Washington  53061.0      1     0.0   \n",
       "...               ...  ...         ...      ...    ...     ...   \n",
       "2022-02-21     Loving   TX       Texas  48301.0    157     0.0   \n",
       "2022-02-22     Loving   TX       Texas  48301.0    162     0.0   \n",
       "2022-02-23     Loving   TX       Texas  48301.0    163     0.0   \n",
       "2022-02-24     Loving   TX       Texas  48301.0    164     0.0   \n",
       "2022-02-25     Loving   TX       Texas  48301.0    164     0.0   \n",
       "\n",
       "            total_population  \n",
       "date                          \n",
       "2020-01-21            827957  \n",
       "2020-01-22            827957  \n",
       "2020-01-23            827957  \n",
       "2020-01-24            827957  \n",
       "2020-01-25            827957  \n",
       "...                      ...  \n",
       "2022-02-21                64  \n",
       "2022-02-22                64  \n",
       "2022-02-23                64  \n",
       "2022-02-24                64  \n",
       "2022-02-25                64  \n",
       "\n",
       "[1312449 rows x 7 columns]"
      ]
     },
     "execution_count": 105,
     "metadata": {},
     "output_type": "execute_result"
    }
   ],
   "source": [
    "df.set_index('date')"
   ]
  },
  {
   "cell_type": "markdown",
   "id": "68bac119",
   "metadata": {},
   "source": [
    "Q: Write Python to check for NaN values after adding 'total_population' to the Covid-19 dataset."
   ]
  },
  {
   "cell_type": "code",
   "execution_count": 107,
   "id": "5af56575",
   "metadata": {},
   "outputs": [
    {
     "data": {
      "text/plain": [
       "date                0\n",
       "county              0\n",
       "code                0\n",
       "state               0\n",
       "fips                0\n",
       "cases               0\n",
       "deaths              0\n",
       "total_population    0\n",
       "dtype: int64"
      ]
     },
     "execution_count": 107,
     "metadata": {},
     "output_type": "execute_result"
    }
   ],
   "source": [
    "df.isnull().sum()"
   ]
  },
  {
   "cell_type": "code",
   "execution_count": 110,
   "id": "ec6a95ae",
   "metadata": {},
   "outputs": [
    {
     "data": {
      "text/html": [
       "<div>\n",
       "<style scoped>\n",
       "    .dataframe tbody tr th:only-of-type {\n",
       "        vertical-align: middle;\n",
       "    }\n",
       "\n",
       "    .dataframe tbody tr th {\n",
       "        vertical-align: top;\n",
       "    }\n",
       "\n",
       "    .dataframe thead th {\n",
       "        text-align: right;\n",
       "    }\n",
       "</style>\n",
       "<table border=\"1\" class=\"dataframe\">\n",
       "  <thead>\n",
       "    <tr style=\"text-align: right;\">\n",
       "      <th></th>\n",
       "      <th>date</th>\n",
       "      <th>county</th>\n",
       "      <th>code</th>\n",
       "      <th>state</th>\n",
       "      <th>fips</th>\n",
       "      <th>cases</th>\n",
       "      <th>deaths</th>\n",
       "      <th>total_population</th>\n",
       "    </tr>\n",
       "  </thead>\n",
       "  <tbody>\n",
       "    <tr>\n",
       "      <th>0</th>\n",
       "      <td>2020-01-21</td>\n",
       "      <td>Snohomish</td>\n",
       "      <td>WA</td>\n",
       "      <td>Washington</td>\n",
       "      <td>53061.0</td>\n",
       "      <td>1</td>\n",
       "      <td>0.0</td>\n",
       "      <td>827957</td>\n",
       "    </tr>\n",
       "    <tr>\n",
       "      <th>1</th>\n",
       "      <td>2020-01-22</td>\n",
       "      <td>Snohomish</td>\n",
       "      <td>WA</td>\n",
       "      <td>Washington</td>\n",
       "      <td>53061.0</td>\n",
       "      <td>1</td>\n",
       "      <td>0.0</td>\n",
       "      <td>827957</td>\n",
       "    </tr>\n",
       "    <tr>\n",
       "      <th>2</th>\n",
       "      <td>2020-01-23</td>\n",
       "      <td>Snohomish</td>\n",
       "      <td>WA</td>\n",
       "      <td>Washington</td>\n",
       "      <td>53061.0</td>\n",
       "      <td>1</td>\n",
       "      <td>0.0</td>\n",
       "      <td>827957</td>\n",
       "    </tr>\n",
       "    <tr>\n",
       "      <th>3</th>\n",
       "      <td>2020-01-24</td>\n",
       "      <td>Snohomish</td>\n",
       "      <td>WA</td>\n",
       "      <td>Washington</td>\n",
       "      <td>53061.0</td>\n",
       "      <td>1</td>\n",
       "      <td>0.0</td>\n",
       "      <td>827957</td>\n",
       "    </tr>\n",
       "    <tr>\n",
       "      <th>4</th>\n",
       "      <td>2020-01-25</td>\n",
       "      <td>Snohomish</td>\n",
       "      <td>WA</td>\n",
       "      <td>Washington</td>\n",
       "      <td>53061.0</td>\n",
       "      <td>1</td>\n",
       "      <td>0.0</td>\n",
       "      <td>827957</td>\n",
       "    </tr>\n",
       "  </tbody>\n",
       "</table>\n",
       "</div>"
      ],
      "text/plain": [
       "        date     county code       state     fips  cases  deaths  \\\n",
       "0 2020-01-21  Snohomish   WA  Washington  53061.0      1     0.0   \n",
       "1 2020-01-22  Snohomish   WA  Washington  53061.0      1     0.0   \n",
       "2 2020-01-23  Snohomish   WA  Washington  53061.0      1     0.0   \n",
       "3 2020-01-24  Snohomish   WA  Washington  53061.0      1     0.0   \n",
       "4 2020-01-25  Snohomish   WA  Washington  53061.0      1     0.0   \n",
       "\n",
       "   total_population  \n",
       "0            827957  \n",
       "1            827957  \n",
       "2            827957  \n",
       "3            827957  \n",
       "4            827957  "
      ]
     },
     "execution_count": 110,
     "metadata": {},
     "output_type": "execute_result"
    }
   ],
   "source": [
    "df.head()"
   ]
  },
  {
   "cell_type": "code",
   "execution_count": 130,
   "id": "ee32481c",
   "metadata": {},
   "outputs": [
    {
     "data": {
      "text/plain": [
       "35"
      ]
     },
     "execution_count": 130,
     "metadata": {},
     "output_type": "execute_result"
    }
   ],
   "source": [
    "len(df.query('code == \"CA\"').county.unique())"
   ]
  },
  {
   "cell_type": "code",
   "execution_count": null,
   "id": "d76b56e7",
   "metadata": {},
   "outputs": [],
   "source": []
  },
  {
   "cell_type": "code",
   "execution_count": null,
   "id": "42a07283",
   "metadata": {},
   "outputs": [],
   "source": []
  },
  {
   "cell_type": "code",
   "execution_count": null,
   "id": "01c20837",
   "metadata": {},
   "outputs": [],
   "source": []
  },
  {
   "cell_type": "code",
   "execution_count": 131,
   "id": "6d504eb3",
   "metadata": {},
   "outputs": [
    {
     "name": "stdout",
     "output_type": "stream",
     "text": [
      "<class 'pandas.core.frame.DataFrame'>\n",
      "Int64Index: 1312449 entries, 0 to 1312448\n",
      "Data columns (total 8 columns):\n",
      " #   Column            Non-Null Count    Dtype         \n",
      "---  ------            --------------    -----         \n",
      " 0   date              1312449 non-null  datetime64[ns]\n",
      " 1   county            1312449 non-null  object        \n",
      " 2   code              1312449 non-null  object        \n",
      " 3   state             1312449 non-null  object        \n",
      " 4   fips              1312449 non-null  float64       \n",
      " 5   cases             1312449 non-null  int64         \n",
      " 6   deaths            1312449 non-null  float64       \n",
      " 7   total_population  1312449 non-null  int64         \n",
      "dtypes: datetime64[ns](1), float64(2), int64(2), object(3)\n",
      "memory usage: 122.4+ MB\n"
     ]
    }
   ],
   "source": [
    "df.info()"
   ]
  },
  {
   "cell_type": "code",
   "execution_count": 169,
   "id": "262e0d33",
   "metadata": {},
   "outputs": [
    {
     "data": {
      "text/plain": [
       "Int64Index([    0,     1,     2,     3,     4,     5,     6,     7,     8,\n",
       "                9,\n",
       "            ...\n",
       "            15394, 15395, 15396, 15397, 15398, 15399, 15400, 15401, 15402,\n",
       "            15403],\n",
       "           dtype='int64', length=15404)"
      ]
     },
     "execution_count": 169,
     "metadata": {},
     "output_type": "execute_result"
    }
   ],
   "source": [
    "df.index"
   ]
  },
  {
   "cell_type": "code",
   "execution_count": 132,
   "id": "cb6f449d",
   "metadata": {},
   "outputs": [
    {
     "data": {
      "image/png": "[encoded data removed]",
      "text/plain": [
       "<Figure size 640x480 with 1 Axes>"
      ]
     },
     "metadata": {},
     "output_type": "display_data"
    },
    {
     "data": {
      "text/plain": [
       "<ggplot: (310065953)>"
      ]
     },
     "execution_count": 132,
     "metadata": {},
     "output_type": "execute_result"
    }
   ],
   "source": [
    "df_Snohomish = df.query('county == \"Snohomish\"')\n",
    "\n",
    "\n",
    "df_Snohomish['lag'] = df_Snohomish.cases.shift(1).fillna(0)\n",
    "df_Snohomish['daily_cases'] = df_Snohomish.cases - df_Snohomish.lag\n",
    "\n",
    "(\n",
    "    ggplot(df_Snohomish) \n",
    "    + aes(x = df_Snohomish.index, y = 'cases') \n",
    "    + geom_line() \n",
    "    + theme(axis_text_x=element_text(rotation=90, hjust=1)) \n",
    "    + labs(x = \"Cases\", y = \"Total Coronavirus Cases\", title =\"Total Coronavirus Cases in Snohomish\")\n",
    ")\n",
    "\n",
    "#print(df_Snohomish.tail(10))\n",
    "\n",
    "#df_Snohomish.query('daily_cases<0')"
   ]
  },
  {
   "cell_type": "code",
   "execution_count": 133,
   "id": "f29fb694",
   "metadata": {},
   "outputs": [
    {
     "data": {
      "image/png": "[encoded data removed]",
      "text/plain": [
       "<Figure size 640x480 with 1 Axes>"
      ]
     },
     "metadata": {},
     "output_type": "display_data"
    },
    {
     "data": {
      "text/plain": [
       "<ggplot: (309993957)>"
      ]
     },
     "execution_count": 133,
     "metadata": {},
     "output_type": "execute_result"
    }
   ],
   "source": [
    "(\n",
    "    ggplot(df_Snohomish) \n",
    "    + aes(x = df_Snohomish.index, y = 'cases') \n",
    "    + geom_line() \n",
    "    + theme(axis_text_x=element_text(rotation=90, hjust=1)) \n",
    "    + labs(x = \"Cases\", y = \"Total Coronavirus Cases\", title =\"Total Coronavirus Cases in Snohomish \\n (logarithmic scale)\")\n",
    "    + scale_y_continuous(trans = \"log10\")\n",
    ")\n"
   ]
  },
  {
   "cell_type": "code",
   "execution_count": 134,
   "id": "61c09b9a",
   "metadata": {},
   "outputs": [
    {
     "data": {
      "image/png": "[encoded data removed]",
      "text/plain": [
       "<Figure size 640x480 with 1 Axes>"
      ]
     },
     "metadata": {},
     "output_type": "display_data"
    },
    {
     "data": {
      "text/plain": [
       "<ggplot: (311651833)>"
      ]
     },
     "execution_count": 134,
     "metadata": {},
     "output_type": "execute_result"
    }
   ],
   "source": [
    "(\n",
    "    ggplot(df_Snohomish) \n",
    "    + aes(x = df_Snohomish.index, y = 'daily_cases') \n",
    "    + geom_line() \n",
    "    + theme(axis_text_x=element_text(rotation=90, hjust=1)) \n",
    "    + labs(x = \"Cases\", y = \"New Coronavirus Daily Cases\", title =\"Daily New Cases in Snohomish\")\n",
    ")"
   ]
  },
  {
   "cell_type": "code",
   "execution_count": 135,
   "id": "17482a70",
   "metadata": {},
   "outputs": [
    {
     "data": {
      "text/plain": [
       "67       -1.0\n",
       "138      -1.0\n",
       "755   -1870.0\n",
       "757    -499.0\n",
       "759    -159.0\n",
       "Name: daily_cases, dtype: float64"
      ]
     },
     "execution_count": 135,
     "metadata": {},
     "output_type": "execute_result"
    }
   ],
   "source": [
    "df_Snohomish.daily_cases[df_Snohomish.daily_cases < 0]"
   ]
  },
  {
   "cell_type": "code",
   "execution_count": 136,
   "id": "581d2fed",
   "metadata": {},
   "outputs": [
    {
     "data": {
      "text/html": [
       "<div>\n",
       "<style scoped>\n",
       "    .dataframe tbody tr th:only-of-type {\n",
       "        vertical-align: middle;\n",
       "    }\n",
       "\n",
       "    .dataframe tbody tr th {\n",
       "        vertical-align: top;\n",
       "    }\n",
       "\n",
       "    .dataframe thead th {\n",
       "        text-align: right;\n",
       "    }\n",
       "</style>\n",
       "<table border=\"1\" class=\"dataframe\">\n",
       "  <thead>\n",
       "    <tr style=\"text-align: right;\">\n",
       "      <th></th>\n",
       "      <th>date</th>\n",
       "      <th>county</th>\n",
       "      <th>code</th>\n",
       "      <th>state</th>\n",
       "      <th>fips</th>\n",
       "      <th>cases</th>\n",
       "      <th>deaths</th>\n",
       "      <th>total_population</th>\n",
       "      <th>lag</th>\n",
       "      <th>daily_cases</th>\n",
       "    </tr>\n",
       "  </thead>\n",
       "  <tbody>\n",
       "  </tbody>\n",
       "</table>\n",
       "</div>"
      ],
      "text/plain": [
       "Empty DataFrame\n",
       "Columns: [date, county, code, state, fips, cases, deaths, total_population, lag, daily_cases]\n",
       "Index: []"
      ]
     },
     "execution_count": 136,
     "metadata": {},
     "output_type": "execute_result"
    }
   ],
   "source": [
    "df_Snohomish.loc['2022-02-01':'2022-02-18']"
   ]
  },
  {
   "cell_type": "code",
   "execution_count": null,
   "id": "67bd86a3",
   "metadata": {},
   "outputs": [],
   "source": [
    "df.query('state==\"Washington\"').head(20)"
   ]
  },
  {
   "cell_type": "code",
   "execution_count": null,
   "id": "3962bef0",
   "metadata": {},
   "outputs": [],
   "source": []
  },
  {
   "cell_type": "code",
   "execution_count": null,
   "id": "6857dd8d",
   "metadata": {},
   "outputs": [],
   "source": [
    "path = '/Users/Kaemyuijang/SCMA248/Data/us-counties.csv'\n",
    "\n",
    "#df = pd.read_csv(path, parse_dates=True, index_col = 'date')\n",
    "\n",
    "df = pd.read_csv(path, parse_dates=['date'])"
   ]
  },
  {
   "cell_type": "code",
   "execution_count": null,
   "id": "b12c5f15",
   "metadata": {},
   "outputs": [],
   "source": [
    "df_Snohomish = df.query('county == \"Snohomish\"')\n",
    "\n",
    "df_Snohomish['lag'] = df_Snohomish.cases.shift(1).fillna(0)\n",
    "df_Snohomish['daily_cases'] = df_Snohomish.cases - df_Snohomish.lag"
   ]
  },
  {
   "cell_type": "code",
   "execution_count": null,
   "id": "90d0cfde",
   "metadata": {},
   "outputs": [],
   "source": [
    "pd_merge = pd.merge(df,df_Snohomish, how = 'left', on = ['date','county'])"
   ]
  },
  {
   "cell_type": "code",
   "execution_count": null,
   "id": "bbd63f84",
   "metadata": {},
   "outputs": [],
   "source": [
    "pd_merge.query('county == \"Snohomish\"')"
   ]
  },
  {
   "cell_type": "code",
   "execution_count": null,
   "id": "be7c3010",
   "metadata": {},
   "outputs": [],
   "source": []
  },
  {
   "cell_type": "code",
   "execution_count": null,
   "id": "5d5cbd8b",
   "metadata": {},
   "outputs": [],
   "source": []
  },
  {
   "cell_type": "code",
   "execution_count": null,
   "id": "af185bf2",
   "metadata": {},
   "outputs": [],
   "source": []
  },
  {
   "cell_type": "code",
   "execution_count": null,
   "id": "899b5f09",
   "metadata": {},
   "outputs": [],
   "source": [
    "%matplotlib inline \n",
    "import matplotlib.pyplot as plt"
   ]
  },
  {
   "cell_type": "code",
   "execution_count": null,
   "id": "166fa95d",
   "metadata": {},
   "outputs": [],
   "source": [
    "df = pd.read_csv(path, parse_dates=['date'], index_col = 'date')\n",
    "\n",
    "df = df.query('county in [\"Snohomish\",\"Cook\"]')\n",
    "#df = df.query('county in [\"Snohomish\"]')"
   ]
  },
  {
   "cell_type": "code",
   "execution_count": null,
   "id": "0ce9de38",
   "metadata": {},
   "outputs": [],
   "source": [
    "df.loc['2022-02-01':'2022-02-18']"
   ]
  },
  {
   "cell_type": "code",
   "execution_count": null,
   "id": "116b4fc6",
   "metadata": {},
   "outputs": [],
   "source": [
    "# https://stackoverflow.com/questions/20625582/how-to-deal-with-settingwithcopywarning-in-pandas\n",
    "\n",
    "pd.options.mode.chained_assignment = None\n"
   ]
  },
  {
   "cell_type": "code",
   "execution_count": null,
   "id": "2b8f5234",
   "metadata": {},
   "outputs": [],
   "source": [
    "df_new = pd.DataFrame()\n",
    "\n",
    "for id in df['fips'].unique():\n",
    "    print(id)\n",
    "    temp = df.query('fips == @id')\n",
    "    temp['lag'] = temp.cases.shift(1).fillna(0)\n",
    "    temp['daily_cases'] = temp.cases - temp.lag\n",
    "    temp.drop(columns=['lag'], inplace = True)\n",
    "    #print(temp)\n",
    "    \n",
    "    plt.plot(temp.index,temp.daily_cases)\n",
    "    #print(temp.query('county == @ct'))\n",
    "    #df_new = pd.concat([df_new,temp])\n",
    "    \n",
    "    #print(temp)\n",
    "    #df = pd.merge(df,temp, how = 'left', on =  ['date','county','state','fips','cases','deaths'])\n",
    "    #df.drop(columns=['lag'], inplace = True)\n",
    "    #print(df.columns)"
   ]
  },
  {
   "cell_type": "code",
   "execution_count": null,
   "id": "747d843e",
   "metadata": {},
   "outputs": [],
   "source": [
    "# subplots_adjust ignores hspace, wspace #185\n",
    "# https://github.com/has2k1/plotnine/issues/185\n",
    "\n",
    "df_new = pd.DataFrame()\n",
    "\n",
    "for id in df['fips'].unique():\n",
    "    print(id)\n",
    "    temp = df.query('fips == @id')\n",
    "    temp['lag'] = temp.cases.shift(1).fillna(0)\n",
    "    temp['daily_cases'] = temp.cases - temp.lag\n",
    "    temp.drop(columns=['lag'], inplace = True)\n",
    "    \n",
    "    rolling = temp.daily_cases.rolling(7, center=True)\n",
    "    #print(rolling.mean().shape)\n",
    "    #print(temp.shape)\n",
    "    \n",
    "    temp['rolling_mean'] = rolling.mean()\n",
    "    #print(temp)\n",
    "    \n",
    "    df_new = pd.concat([df_new,temp])\n",
    "    \n",
    "    #print(temp)\n",
    "    #df = pd.merge(df,temp, how = 'left', on =  ['date','county','state','fips','cases','deaths'])\n",
    "    #df.drop(columns=['lag'], inplace = True)\n",
    "    #print(df.columns)\n",
    "\n",
    "(\n",
    "    ggplot(df_new) + aes(x = df_new.index, y = 'daily_cases') + geom_line() +    \n",
    "    theme(axis_text_x=element_text(rotation=90, hjust=1)) + \n",
    "    #facet_grid('~fips', scales = \"free_y\")\n",
    "    facet_wrap('fips', scales = \"free_y\") +\n",
    "    theme(subplots_adjust={'wspace': 0.5,'hspace': 0.2})\n",
    ")"
   ]
  },
  {
   "cell_type": "code",
   "execution_count": null,
   "id": "0d6104cd",
   "metadata": {},
   "outputs": [],
   "source": [
    "df_new.loc[df_new['fips'] == 13075.]['2022-02-01':'2022-02-18']"
   ]
  },
  {
   "cell_type": "code",
   "execution_count": null,
   "id": "5c406993",
   "metadata": {},
   "outputs": [],
   "source": [
    "#df_new13075 = df_new.loc[df_new['fips'] == 13075.]['2021-07-01':'2022-02-18']\n",
    "\n",
    "df_new13075 = df_new.query('fips == 13075.')\n",
    "#print(df_new13075.head(10))\n",
    "(\n",
    "    ggplot(df_new13075.query('fips == 13075.')) +\n",
    "    geom_line(aes(x = df_new13075.index, y = 'daily_cases'), alpha = 0.5) +\n",
    "    geom_line(aes(x = df_new13075.index, y = 'rolling_mean'), color='red',alpha=0.8) +\n",
    "        theme(axis_text_x=element_text(rotation=90, hjust=1)) \n",
    ")"
   ]
  },
  {
   "cell_type": "code",
   "execution_count": null,
   "id": "44857433",
   "metadata": {},
   "outputs": [],
   "source": [
    "df_new17031 = df_new.query('fips == 17031.')\n",
    "\n",
    "ggplot(df_new17031.query('fips == 17031.')) + aes(x = df_new17031.index, y = 'daily_cases') + geom_line()"
   ]
  },
  {
   "cell_type": "code",
   "execution_count": null,
   "id": "0726482c",
   "metadata": {},
   "outputs": [],
   "source": []
  },
  {
   "cell_type": "markdown",
   "id": "166624c0",
   "metadata": {},
   "source": [
    "#### Query by state"
   ]
  },
  {
   "cell_type": "code",
   "execution_count": null,
   "id": "4b96321c",
   "metadata": {},
   "outputs": [],
   "source": [
    "df = pd.read_csv(path, parse_dates=['date'], index_col = 'date')\n",
    "\n",
    "df = df.query('state in [\"Washington\"]')\n",
    "#df = df.query('county in [\"Snohomish\"]')\n",
    "\n",
    "print(df.county.unique())"
   ]
  },
  {
   "cell_type": "code",
   "execution_count": null,
   "id": "5de9d312",
   "metadata": {},
   "outputs": [],
   "source": [
    "df_new = pd.DataFrame()\n",
    "\n",
    "for id in df['fips'].unique():\n",
    "    print(id)\n",
    "    temp = df.query('fips == @id')\n",
    "    temp['lag'] = temp.cases.shift(1).fillna(0)\n",
    "    temp['daily_cases'] = temp.cases - temp.lag\n",
    "    temp.drop(columns=['lag'], inplace = True)\n",
    "    \n",
    "    rolling = temp.daily_cases.rolling(7, center=True)\n",
    "    #print(rolling.mean().shape)\n",
    "    #print(temp.shape)\n",
    "    \n",
    "    temp['rolling_mean'] = rolling.mean()\n",
    "    #print(temp)\n",
    "    \n",
    "    df_new = pd.concat([df_new,temp])\n",
    "    \n",
    "    #print(temp)\n",
    "    #df = pd.merge(df,temp, how = 'left', on =  ['date','county','state','fips','cases','deaths'])\n",
    "    #df.drop(columns=['lag'], inplace = True)\n",
    "    #print(df.columns)"
   ]
  },
  {
   "cell_type": "code",
   "execution_count": null,
   "id": "af97be63",
   "metadata": {},
   "outputs": [],
   "source": [
    "df_new.county.unique()"
   ]
  },
  {
   "cell_type": "code",
   "execution_count": null,
   "id": "332777a5",
   "metadata": {},
   "outputs": [],
   "source": [
    "fips_list = [53001., 53003.]\n",
    "\n",
    "df_subset = df_new.query('fips in @fips_list')\n",
    "\n",
    "(\n",
    "    ggplot(df_subset) + aes(x = df_subset.index, y = 'daily_cases') + \n",
    "    geom_line() +    \n",
    "    theme(axis_text_x=element_text(rotation=90, hjust=1)) + \n",
    "    facet_wrap('fips', nrow = 2, ncol = 1) +\n",
    "    theme(subplots_adjust={'wspace': 0.5,'hspace': 0.2})\n",
    ")"
   ]
  },
  {
   "cell_type": "code",
   "execution_count": null,
   "id": "1792727c",
   "metadata": {},
   "outputs": [],
   "source": [
    "#(\n",
    "#    ggplot(df_new) + aes(x = df_new.index, y = 'daily_cases') + geom_line() +    \n",
    "#    theme(axis_text_x=element_text(rotation=90, hjust=1)) + \n",
    "#    facet_wrap('fips', nrow = 15, ncol = 3) +\n",
    "#    theme(subplots_adjust={'wspace': 0.5,'hspace': 0.2})\n",
    "#)"
   ]
  },
  {
   "cell_type": "code",
   "execution_count": null,
   "id": "bf040fd8",
   "metadata": {},
   "outputs": [],
   "source": [
    "df_subset = df_new.query('fips in @fips_list')\n",
    "\n",
    "(\n",
    "    ggplot(df_subset) + geom_line(aes(x = df_subset.index, y = 'daily_cases'), alpha = 0.3) +    \n",
    "    geom_line(aes(x = df_subset.index, y = 'rolling_mean'),color='red', alpha = 0.8) +    \n",
    "    theme(axis_text_x=element_text(rotation=90, hjust=1)) +  \n",
    "        facet_wrap('fips', nrow = 2, ncol = 1) +\n",
    "    theme(subplots_adjust={'wspace': 0.5,'hspace': 0.2})\n",
    ")"
   ]
  },
  {
   "cell_type": "code",
   "execution_count": null,
   "id": "c777dc0b",
   "metadata": {},
   "outputs": [],
   "source": [
    "fips_id = 53023.0\n",
    "\n",
    "df_subset = df_new.query('fips==@fips_id')\n",
    "\n",
    "(\n",
    "    ggplot(df_subset) + geom_line(aes(x = df_subset.index, y = 'daily_cases'), alpha = 0.3) +    \n",
    "    geom_line(aes(x = df_subset.index, y = 'rolling_mean'),color='red', alpha = 0.8) +    \n",
    "    theme(axis_text_x=element_text(rotation=90, hjust=1)) \n",
    ")"
   ]
  },
  {
   "cell_type": "code",
   "execution_count": null,
   "id": "88e3c885",
   "metadata": {},
   "outputs": [],
   "source": []
  },
  {
   "cell_type": "code",
   "execution_count": null,
   "id": "bf991ccf",
   "metadata": {},
   "outputs": [],
   "source": []
  }
 ],
 "metadata": {
  "kernelspec": {
   "display_name": "Python 3 (ipykernel)",
   "language": "python",
   "name": "python3"
  },
  "language_info": {
   "codemirror_mode": {
    "name": "ipython",
    "version": 3
   },
   "file_extension": ".py",
   "mimetype": "text/x-python",
   "name": "python",
   "nbconvert_exporter": "python",
   "pygments_lexer": "ipython3",
   "version": "3.7.11"
  }
 },
 "nbformat": 4,
 "nbformat_minor": 5
}
