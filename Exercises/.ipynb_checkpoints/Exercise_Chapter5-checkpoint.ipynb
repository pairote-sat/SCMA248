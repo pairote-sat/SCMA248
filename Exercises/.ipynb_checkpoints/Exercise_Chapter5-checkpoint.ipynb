{
 "cells": [
  {
   "cell_type": "markdown",
   "id": "64d4626a",
   "metadata": {},
   "source": [
    "## Assignment 4 (Exercise for Chapters 5)\n",
    "\n",
    "Due date: 15 March 2022 before 4 pm.\n",
    "\n",
    "Points: 5 + (**4 extra points**)\n",
    "\n",
    "Do not alter this file.\n",
    "1. Form a group of two members. The group member must be different from the previous Assignments 1, 2 and 3.\n",
    "\n",
    "2. Duplicate this file and move it into the Personal folder (you may share access to your team member). Rename the file as Assignment4_id1_id2 (id1 and id2 are student ID numbers in ascending order, e.g. Assignment4_6305001_6305001).\n",
    "\n",
    "3. Write Python commands to answer each of the questions. For each question that requires numerical values (not list, table or dataframe), you also need to assign the variable e.g. ans1 to store the numerical answer for question 1. If there is more than 1 answer required, you must create more variables e.g. ans1_1, ans1_2 to store the values of the answers.\n",
    "\n",
    "4. When you want to submit your file, you simply share access with me using my email pairote.sat@mahidol.edu and my TA p.pooy.pui.i@gmail.com. Do not move your file into the DS@MathMahidol team."
   ]
  },
  {
   "cell_type": "markdown",
   "id": "5e8eacac",
   "metadata": {},
   "source": [
    "**Goals:** The purpose of this exercise is to perform simple descriptive statistics and to describe the **importance of data visualisation** before analyzing and model building."
   ]
  },
  {
   "cell_type": "markdown",
   "id": "45ca9b2a",
   "metadata": {},
   "source": [
    "0. Enter student IDs of your group."
   ]
  },
  {
   "cell_type": "markdown",
   "id": "d0eb713a",
   "metadata": {},
   "source": [
    "1. Download the following dataset from this Github link (store this data frame as a pandas DataFrame with the variable name `anscombes`): \n",
    "\n",
    "https://gist.github.com/ericbusboom/b2ac1d366c005cd2ed8c\n",
    "\n",
    "The dataset consists of values $x$ and $y$ from four different groups (I,II,III and IV which are given by the column namely `dataset`)."
   ]
  },
  {
   "cell_type": "markdown",
   "id": "d17ccfc7",
   "metadata": {},
   "source": [
    "Perform statistical data analysis of the `anscombes` dataset by answering the following questions:\n",
    "\n",
    "2. Write python code to create a table that provides a summary of the variables $x$ and $y$ for each of groups (including the mean of $x$, the sample variance of $x$, the mean of $y$, the sample variance of $y$)."
   ]
  },
  {
   "cell_type": "markdown",
   "id": "87103bee",
   "metadata": {},
   "source": [
    "2.1 Find the mean of $x$ in the group I."
   ]
  },
  {
   "cell_type": "markdown",
   "id": "9f9bb955",
   "metadata": {},
   "source": [
    "2.2 Find the mean of $x$ in the group II."
   ]
  },
  {
   "cell_type": "markdown",
   "id": "142741ac",
   "metadata": {},
   "source": [
    "2.3 Find the sample variance of $y$ in the group III."
   ]
  },
  {
   "cell_type": "markdown",
   "id": "23ab7a0d",
   "metadata": {},
   "source": [
    "2.4 Find the sample variance of $y$ in the group IV."
   ]
  },
  {
   "cell_type": "markdown",
   "id": "cbaded36",
   "metadata": {},
   "source": [
    "3. Write python code to create a grouped boxplot of the values $x$ categorized by groups (I, II, III and IV). \n",
    "\n",
    "Note that a grouped boxplot is a boxplot where categories are organized in groups and subgroups.\n",
    "\n",
    "See for detail: https://www.r-graph-gallery.com/265-grouped-boxplot-with-ggplot2.html#:~:text=A%20grouped%20boxplot%20is%20a,called%20in%20the%20fill%20argument."
   ]
  },
  {
   "cell_type": "markdown",
   "id": "10548406",
   "metadata": {},
   "source": [
    "4. Write python code to create a grouped boxplot of the values $y$ categorized by groups (I, II, III and IV). "
   ]
  },
  {
   "cell_type": "markdown",
   "id": "83583d5d",
   "metadata": {},
   "source": [
    "5. Write python code to plot (in the same figure) histograms and the kernel density estimate (KDE) of the values $x$ for each of the four datasets. (you may use `facet_wrap` in **plotnine**  to build a plot for multiple subsets of the data set) "
   ]
  },
  {
   "cell_type": "markdown",
   "id": "f0d0e274",
   "metadata": {},
   "source": [
    "6. Write python code to plot (in the same figure) histograms and the kernel density estimate (KDE) of the values $y$ for each of the groups. (you may use `facet_wrap` in **plotnine**  to build a plot for multiple subsets)"
   ]
  },
  {
   "cell_type": "markdown",
   "id": "51df61f5",
   "metadata": {},
   "source": [
    "7. Write python code that create a table that summarizes the (linear) correlation coefficient of the variables $x$ and $y$ for each of the groups."
   ]
  },
  {
   "cell_type": "markdown",
   "id": "a46c7fca",
   "metadata": {},
   "source": [
    "7.1 Find the correlation coefficient of the variables $x$ and $y$ of the dataset I."
   ]
  },
  {
   "cell_type": "markdown",
   "id": "0c75d516",
   "metadata": {},
   "source": [
    "7.2 Find the correlation coefficient of the variables $x$ and $y$ of the dataset II."
   ]
  },
  {
   "cell_type": "markdown",
   "id": "9e53c404",
   "metadata": {},
   "source": [
    "8. Write python code to graphically display the relationship of the variables $x$ and $y$ for each of groups."
   ]
  },
  {
   "cell_type": "markdown",
   "id": "7e6b5f4b",
   "metadata": {},
   "source": [
    "9. Discuss and conclude the results from the data analysis of this work."
   ]
  },
  {
   "cell_type": "markdown",
   "id": "bc007649",
   "metadata": {},
   "source": [
    "Extra questions for extra points (4 points):\n",
    "\n",
    "Complete questions 10 to earn extra points."
   ]
  },
  {
   "cell_type": "markdown",
   "id": "68dfa007",
   "metadata": {},
   "source": [
    "10. Perform regression analysis to determine the possible relationship between the variables $x$ and $y$ for each group.\n",
    "\n",
    "10.1 Find the regression line for the data in group I (for e.g. the regression line is given as 'y = a + b x' where a and b represent the y intercept and slope of the regression line).\n",
    "\n",
    "10.2 Find the regression line for the data in group II.\n",
    "\n",
    "10.3 Find the coefficient of determination (R-squared) of the dataset I.\n",
    "\n",
    "10.4 Find the coefficient of determination (R-squared) of the dataset II."
   ]
  },
  {
   "cell_type": "code",
   "execution_count": 33,
   "id": "29a68c41",
   "metadata": {},
   "outputs": [],
   "source": [
    "import numpy as np\n",
    "import pandas as pd\n",
    "from plotnine import *\n",
    "\n",
    "# Add this line so you can plot your charts into your Jupyter Notebook.\n",
    "%matplotlib inline "
   ]
  },
  {
   "cell_type": "code",
   "execution_count": 14,
   "id": "35d6b774",
   "metadata": {},
   "outputs": [],
   "source": [
    "\n",
    "anscombes = pd.read_csv('/Users/Kaemyuijang/SCMA248/Data/anscombes.csv')"
   ]
  },
  {
   "cell_type": "code",
   "execution_count": 72,
   "id": "87062143",
   "metadata": {},
   "outputs": [
    {
     "data": {
      "text/html": [
       "<div>\n",
       "<style scoped>\n",
       "    .dataframe tbody tr th:only-of-type {\n",
       "        vertical-align: middle;\n",
       "    }\n",
       "\n",
       "    .dataframe tbody tr th {\n",
       "        vertical-align: top;\n",
       "    }\n",
       "\n",
       "    .dataframe thead th {\n",
       "        text-align: right;\n",
       "    }\n",
       "</style>\n",
       "<table border=\"1\" class=\"dataframe\">\n",
       "  <thead>\n",
       "    <tr style=\"text-align: right;\">\n",
       "      <th></th>\n",
       "      <th>id</th>\n",
       "      <th>dataset</th>\n",
       "      <th>x</th>\n",
       "      <th>y</th>\n",
       "    </tr>\n",
       "  </thead>\n",
       "  <tbody>\n",
       "    <tr>\n",
       "      <th>0</th>\n",
       "      <td>0</td>\n",
       "      <td>I</td>\n",
       "      <td>10.0</td>\n",
       "      <td>8.04</td>\n",
       "    </tr>\n",
       "    <tr>\n",
       "      <th>1</th>\n",
       "      <td>1</td>\n",
       "      <td>I</td>\n",
       "      <td>8.0</td>\n",
       "      <td>6.95</td>\n",
       "    </tr>\n",
       "    <tr>\n",
       "      <th>2</th>\n",
       "      <td>2</td>\n",
       "      <td>I</td>\n",
       "      <td>13.0</td>\n",
       "      <td>7.58</td>\n",
       "    </tr>\n",
       "    <tr>\n",
       "      <th>3</th>\n",
       "      <td>3</td>\n",
       "      <td>I</td>\n",
       "      <td>9.0</td>\n",
       "      <td>8.81</td>\n",
       "    </tr>\n",
       "    <tr>\n",
       "      <th>4</th>\n",
       "      <td>4</td>\n",
       "      <td>I</td>\n",
       "      <td>11.0</td>\n",
       "      <td>8.33</td>\n",
       "    </tr>\n",
       "    <tr>\n",
       "      <th>5</th>\n",
       "      <td>5</td>\n",
       "      <td>I</td>\n",
       "      <td>14.0</td>\n",
       "      <td>9.96</td>\n",
       "    </tr>\n",
       "    <tr>\n",
       "      <th>6</th>\n",
       "      <td>6</td>\n",
       "      <td>I</td>\n",
       "      <td>6.0</td>\n",
       "      <td>7.24</td>\n",
       "    </tr>\n",
       "    <tr>\n",
       "      <th>7</th>\n",
       "      <td>7</td>\n",
       "      <td>I</td>\n",
       "      <td>4.0</td>\n",
       "      <td>4.26</td>\n",
       "    </tr>\n",
       "    <tr>\n",
       "      <th>8</th>\n",
       "      <td>8</td>\n",
       "      <td>I</td>\n",
       "      <td>12.0</td>\n",
       "      <td>10.84</td>\n",
       "    </tr>\n",
       "    <tr>\n",
       "      <th>9</th>\n",
       "      <td>9</td>\n",
       "      <td>I</td>\n",
       "      <td>7.0</td>\n",
       "      <td>4.82</td>\n",
       "    </tr>\n",
       "    <tr>\n",
       "      <th>10</th>\n",
       "      <td>10</td>\n",
       "      <td>I</td>\n",
       "      <td>5.0</td>\n",
       "      <td>5.68</td>\n",
       "    </tr>\n",
       "    <tr>\n",
       "      <th>11</th>\n",
       "      <td>11</td>\n",
       "      <td>II</td>\n",
       "      <td>10.0</td>\n",
       "      <td>9.14</td>\n",
       "    </tr>\n",
       "    <tr>\n",
       "      <th>12</th>\n",
       "      <td>12</td>\n",
       "      <td>II</td>\n",
       "      <td>8.0</td>\n",
       "      <td>8.14</td>\n",
       "    </tr>\n",
       "    <tr>\n",
       "      <th>13</th>\n",
       "      <td>13</td>\n",
       "      <td>II</td>\n",
       "      <td>13.0</td>\n",
       "      <td>8.74</td>\n",
       "    </tr>\n",
       "    <tr>\n",
       "      <th>14</th>\n",
       "      <td>14</td>\n",
       "      <td>II</td>\n",
       "      <td>9.0</td>\n",
       "      <td>8.77</td>\n",
       "    </tr>\n",
       "    <tr>\n",
       "      <th>15</th>\n",
       "      <td>15</td>\n",
       "      <td>II</td>\n",
       "      <td>11.0</td>\n",
       "      <td>9.26</td>\n",
       "    </tr>\n",
       "    <tr>\n",
       "      <th>16</th>\n",
       "      <td>16</td>\n",
       "      <td>II</td>\n",
       "      <td>14.0</td>\n",
       "      <td>8.10</td>\n",
       "    </tr>\n",
       "    <tr>\n",
       "      <th>17</th>\n",
       "      <td>17</td>\n",
       "      <td>II</td>\n",
       "      <td>6.0</td>\n",
       "      <td>6.13</td>\n",
       "    </tr>\n",
       "    <tr>\n",
       "      <th>18</th>\n",
       "      <td>18</td>\n",
       "      <td>II</td>\n",
       "      <td>4.0</td>\n",
       "      <td>3.10</td>\n",
       "    </tr>\n",
       "    <tr>\n",
       "      <th>19</th>\n",
       "      <td>19</td>\n",
       "      <td>II</td>\n",
       "      <td>12.0</td>\n",
       "      <td>9.13</td>\n",
       "    </tr>\n",
       "    <tr>\n",
       "      <th>20</th>\n",
       "      <td>20</td>\n",
       "      <td>II</td>\n",
       "      <td>7.0</td>\n",
       "      <td>7.26</td>\n",
       "    </tr>\n",
       "    <tr>\n",
       "      <th>21</th>\n",
       "      <td>21</td>\n",
       "      <td>II</td>\n",
       "      <td>5.0</td>\n",
       "      <td>4.74</td>\n",
       "    </tr>\n",
       "    <tr>\n",
       "      <th>22</th>\n",
       "      <td>22</td>\n",
       "      <td>III</td>\n",
       "      <td>10.0</td>\n",
       "      <td>7.46</td>\n",
       "    </tr>\n",
       "    <tr>\n",
       "      <th>23</th>\n",
       "      <td>23</td>\n",
       "      <td>III</td>\n",
       "      <td>8.0</td>\n",
       "      <td>6.77</td>\n",
       "    </tr>\n",
       "    <tr>\n",
       "      <th>24</th>\n",
       "      <td>24</td>\n",
       "      <td>III</td>\n",
       "      <td>13.0</td>\n",
       "      <td>12.74</td>\n",
       "    </tr>\n",
       "    <tr>\n",
       "      <th>25</th>\n",
       "      <td>25</td>\n",
       "      <td>III</td>\n",
       "      <td>9.0</td>\n",
       "      <td>7.11</td>\n",
       "    </tr>\n",
       "    <tr>\n",
       "      <th>26</th>\n",
       "      <td>26</td>\n",
       "      <td>III</td>\n",
       "      <td>11.0</td>\n",
       "      <td>7.81</td>\n",
       "    </tr>\n",
       "    <tr>\n",
       "      <th>27</th>\n",
       "      <td>27</td>\n",
       "      <td>III</td>\n",
       "      <td>14.0</td>\n",
       "      <td>8.84</td>\n",
       "    </tr>\n",
       "    <tr>\n",
       "      <th>28</th>\n",
       "      <td>28</td>\n",
       "      <td>III</td>\n",
       "      <td>6.0</td>\n",
       "      <td>6.08</td>\n",
       "    </tr>\n",
       "    <tr>\n",
       "      <th>29</th>\n",
       "      <td>29</td>\n",
       "      <td>III</td>\n",
       "      <td>4.0</td>\n",
       "      <td>5.39</td>\n",
       "    </tr>\n",
       "    <tr>\n",
       "      <th>30</th>\n",
       "      <td>30</td>\n",
       "      <td>III</td>\n",
       "      <td>12.0</td>\n",
       "      <td>8.15</td>\n",
       "    </tr>\n",
       "    <tr>\n",
       "      <th>31</th>\n",
       "      <td>31</td>\n",
       "      <td>III</td>\n",
       "      <td>7.0</td>\n",
       "      <td>6.42</td>\n",
       "    </tr>\n",
       "    <tr>\n",
       "      <th>32</th>\n",
       "      <td>32</td>\n",
       "      <td>III</td>\n",
       "      <td>5.0</td>\n",
       "      <td>5.73</td>\n",
       "    </tr>\n",
       "    <tr>\n",
       "      <th>33</th>\n",
       "      <td>33</td>\n",
       "      <td>IV</td>\n",
       "      <td>8.0</td>\n",
       "      <td>6.58</td>\n",
       "    </tr>\n",
       "    <tr>\n",
       "      <th>34</th>\n",
       "      <td>34</td>\n",
       "      <td>IV</td>\n",
       "      <td>8.0</td>\n",
       "      <td>5.76</td>\n",
       "    </tr>\n",
       "    <tr>\n",
       "      <th>35</th>\n",
       "      <td>35</td>\n",
       "      <td>IV</td>\n",
       "      <td>8.0</td>\n",
       "      <td>7.71</td>\n",
       "    </tr>\n",
       "    <tr>\n",
       "      <th>36</th>\n",
       "      <td>36</td>\n",
       "      <td>IV</td>\n",
       "      <td>8.0</td>\n",
       "      <td>8.84</td>\n",
       "    </tr>\n",
       "    <tr>\n",
       "      <th>37</th>\n",
       "      <td>37</td>\n",
       "      <td>IV</td>\n",
       "      <td>8.0</td>\n",
       "      <td>8.47</td>\n",
       "    </tr>\n",
       "    <tr>\n",
       "      <th>38</th>\n",
       "      <td>38</td>\n",
       "      <td>IV</td>\n",
       "      <td>8.0</td>\n",
       "      <td>7.04</td>\n",
       "    </tr>\n",
       "    <tr>\n",
       "      <th>39</th>\n",
       "      <td>39</td>\n",
       "      <td>IV</td>\n",
       "      <td>8.0</td>\n",
       "      <td>5.25</td>\n",
       "    </tr>\n",
       "    <tr>\n",
       "      <th>40</th>\n",
       "      <td>40</td>\n",
       "      <td>IV</td>\n",
       "      <td>19.0</td>\n",
       "      <td>12.50</td>\n",
       "    </tr>\n",
       "    <tr>\n",
       "      <th>41</th>\n",
       "      <td>41</td>\n",
       "      <td>IV</td>\n",
       "      <td>8.0</td>\n",
       "      <td>5.56</td>\n",
       "    </tr>\n",
       "    <tr>\n",
       "      <th>42</th>\n",
       "      <td>42</td>\n",
       "      <td>IV</td>\n",
       "      <td>8.0</td>\n",
       "      <td>7.91</td>\n",
       "    </tr>\n",
       "    <tr>\n",
       "      <th>43</th>\n",
       "      <td>43</td>\n",
       "      <td>IV</td>\n",
       "      <td>8.0</td>\n",
       "      <td>6.89</td>\n",
       "    </tr>\n",
       "  </tbody>\n",
       "</table>\n",
       "</div>"
      ],
      "text/plain": [
       "    id dataset     x      y\n",
       "0    0       I  10.0   8.04\n",
       "1    1       I   8.0   6.95\n",
       "2    2       I  13.0   7.58\n",
       "3    3       I   9.0   8.81\n",
       "4    4       I  11.0   8.33\n",
       "5    5       I  14.0   9.96\n",
       "6    6       I   6.0   7.24\n",
       "7    7       I   4.0   4.26\n",
       "8    8       I  12.0  10.84\n",
       "9    9       I   7.0   4.82\n",
       "10  10       I   5.0   5.68\n",
       "11  11      II  10.0   9.14\n",
       "12  12      II   8.0   8.14\n",
       "13  13      II  13.0   8.74\n",
       "14  14      II   9.0   8.77\n",
       "15  15      II  11.0   9.26\n",
       "16  16      II  14.0   8.10\n",
       "17  17      II   6.0   6.13\n",
       "18  18      II   4.0   3.10\n",
       "19  19      II  12.0   9.13\n",
       "20  20      II   7.0   7.26\n",
       "21  21      II   5.0   4.74\n",
       "22  22     III  10.0   7.46\n",
       "23  23     III   8.0   6.77\n",
       "24  24     III  13.0  12.74\n",
       "25  25     III   9.0   7.11\n",
       "26  26     III  11.0   7.81\n",
       "27  27     III  14.0   8.84\n",
       "28  28     III   6.0   6.08\n",
       "29  29     III   4.0   5.39\n",
       "30  30     III  12.0   8.15\n",
       "31  31     III   7.0   6.42\n",
       "32  32     III   5.0   5.73\n",
       "33  33      IV   8.0   6.58\n",
       "34  34      IV   8.0   5.76\n",
       "35  35      IV   8.0   7.71\n",
       "36  36      IV   8.0   8.84\n",
       "37  37      IV   8.0   8.47\n",
       "38  38      IV   8.0   7.04\n",
       "39  39      IV   8.0   5.25\n",
       "40  40      IV  19.0  12.50\n",
       "41  41      IV   8.0   5.56\n",
       "42  42      IV   8.0   7.91\n",
       "43  43      IV   8.0   6.89"
      ]
     },
     "execution_count": 72,
     "metadata": {},
     "output_type": "execute_result"
    }
   ],
   "source": [
    "#anscombes.dtypes\n",
    "anscombes"
   ]
  },
  {
   "cell_type": "code",
   "execution_count": 71,
   "id": "31357a12",
   "metadata": {},
   "outputs": [
    {
     "name": "stderr",
     "output_type": "stream",
     "text": [
      "/Users/Kaemyuijang/opt/anaconda3/lib/python3.7/site-packages/plotnine/stats/stat_bin.py:95: PlotnineWarning: 'stat_bin()' using 'bins = 7'. Pick better value with 'binwidth'.\n"
     ]
    },
    {
     "data": {
      "image/png": "[encoded data removed]",
      "text/plain": [
       "<Figure size 640x480 with 4 Axes>"
      ]
     },
     "metadata": {},
     "output_type": "display_data"
    },
    {
     "data": {
      "text/plain": [
       "<ggplot: (315019401)>"
      ]
     },
     "execution_count": 71,
     "metadata": {},
     "output_type": "execute_result"
    }
   ],
   "source": [
    "( anscombes.pipe(ggplot)  + \n",
    "     aes(x = 'y') + \n",
    "     geom_histogram(aes(y=after_stat('count'))) + \n",
    "     geom_density(aes(y=after_stat('count'))) +\n",
    "     facet_wrap('dataset') \n",
    ")                                                    "
   ]
  },
  {
   "cell_type": "code",
   "execution_count": 80,
   "id": "4bd8312d",
   "metadata": {},
   "outputs": [
    {
     "data": {
      "image/png": "[encoded data removed]",
      "text/plain": [
       "<Figure size 640x480 with 1 Axes>"
      ]
     },
     "metadata": {},
     "output_type": "display_data"
    },
    {
     "data": {
      "text/plain": [
       "<ggplot: (315348553)>"
      ]
     },
     "execution_count": 80,
     "metadata": {},
     "output_type": "execute_result"
    }
   ],
   "source": [
    "( anscombes.pipe(ggplot)  + \n",
    "     aes(x = 'dataset', y = 'y') +\n",
    "     geom_boxplot()  \n",
    ")   "
   ]
  },
  {
   "cell_type": "code",
   "execution_count": null,
   "id": "d103a133",
   "metadata": {},
   "outputs": [],
   "source": []
  }
 ],
 "metadata": {
  "kernelspec": {
   "display_name": "Python 3 (ipykernel)",
   "language": "python",
   "name": "python3"
  },
  "language_info": {
   "codemirror_mode": {
    "name": "ipython",
    "version": 3
   },
   "file_extension": ".py",
   "mimetype": "text/x-python",
   "name": "python",
   "nbconvert_exporter": "python",
   "pygments_lexer": "ipython3",
   "version": "3.7.11"
  }
 },
 "nbformat": 4,
 "nbformat_minor": 5
}
