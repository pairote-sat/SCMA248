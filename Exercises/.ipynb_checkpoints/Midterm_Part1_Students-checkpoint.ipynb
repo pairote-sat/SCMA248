{
 "cells": [
  {
   "cell_type": "markdown",
   "id": "880d9a82",
   "metadata": {},
   "source": [
    "# Midterm Examination: Part 1 \n",
    "\n",
    "Due date: 15 March 2022 before 10 am.\n",
    "\n",
    "Points: 15 for Part 1 (from 21 questions)\n",
    "\n",
    "Do not alter this file.\n",
    "\n",
    "Duplicate this file and move it into the Personal folder. Rename the file as Midterm_id (id is your student ID number, e.g. Midterm_Part1_6305001).\n",
    "\n",
    "Write Python commands to answer each of the questions. For each question that requires numerical values (not list or dataframe), you also need to assign the variable e.g. ans1 to store the numerical answer for question 1. If there is more than 1 answer required, you must create more variables e.g. ans1_1, ans1_2 to store the values of the answers.\n",
    "\n",
    "When you want to submit your file, you simply share access with me using my email pairote.sat@mahidol.edu and my TA p.pooy.pui.i@gmail.com. Do not move your file into the DS@MathMahidol team."
   ]
  },
  {
   "cell_type": "markdown",
   "id": "6ad8175b",
   "metadata": {},
   "source": [
    "## Data sets\n",
    "\n",
    "There are 3 data sets that we will work with:\n",
    "\n",
    "You can download the files from my github page:\n",
    "\n",
    "* Population dataset: \n",
    "https://raw.githubusercontent.com/pairote-sat/SCMA248/main/Data/US_population.csv\n",
    "\n",
    "* US state abbreviations\n",
    "https://raw.githubusercontent.com/pairote-sat/SCMA248/main/Data/us_state_abbreviations.csv\n",
    "\n",
    "* Covid-19 dataset:\n",
    "\n",
    "https://raw.githubusercontent.com/pairote-sat/SCMA470/master/us-counties.csv"
   ]
  },
  {
   "cell_type": "code",
   "execution_count": 10,
   "id": "47c47ed7",
   "metadata": {},
   "outputs": [],
   "source": [
    "import pandas as pd\n",
    "import numpy as np\n",
    "\n",
    "# https://stackoverflow.com/questions/20625582/how-to-deal-with-settingwithcopywarning-in-pandas\n",
    "pd.options.mode.chained_assignment = None"
   ]
  },
  {
   "cell_type": "code",
   "execution_count": 11,
   "id": "493877f7",
   "metadata": {},
   "outputs": [],
   "source": [
    "from plotnine import *"
   ]
  },
  {
   "cell_type": "markdown",
   "id": "89970207",
   "metadata": {},
   "source": [
    "0. Enter student IDs of your group."
   ]
  },
  {
   "cell_type": "code",
   "execution_count": null,
   "id": "d201ab47",
   "metadata": {},
   "outputs": [],
   "source": [
    "id = "
   ]
  },
  {
   "cell_type": "markdown",
   "id": "18e458d6",
   "metadata": {},
   "source": [
    "## Population Dataset: 2020 Census Demographic Data by County.\n",
    "\n",
    "We begin with the first dataset, which we obtained from \n",
    "\n",
    "https://www.dataemporium.com/dataset/254/?gclid=CjwKCAiAg6yRBhBNEiwAeVyL0Jl9xZg-nt9evBLB04fAZPc-TPTEmrW9kMfoIqMhBJvHjXQ-GV5fPBoChYIQAvD_BwE\n",
    "\n",
    "This dataset was created from the 2020 Census. It contains one row per county with the total population and a breakdown by race."
   ]
  },
  {
   "cell_type": "code",
   "execution_count": 12,
   "id": "d6164c2b",
   "metadata": {},
   "outputs": [],
   "source": [
    "path = '/Users/Kaemyuijang/SCMA248/Data/US_population.csv'\n",
    "\n",
    "#df = pd.read_csv(path, parse_dates=True, index_col = 'date')\n",
    "\n",
    "population = pd.read_csv(path)"
   ]
  },
  {
   "cell_type": "markdown",
   "id": "ae382a55",
   "metadata": {},
   "source": [
    "#### Detailed description\n",
    "\n",
    "This table breaks down the total population and population by race for each county in the United States, based on the 2020 Census.\n",
    "\n",
    "**Some Terminology**.\n",
    "\n",
    "* A city is created by any population that has its own system of government and a semblance of a legal system. Cities are located within a county, within a state. \n",
    "\n",
    "* A county is a geographic unit created for political purposes within a state.\n",
    "\n",
    "Read more : Difference between city and county \n",
    "http://www.differencebetween.net/miscellaneous/difference-between-city-and-county/#ixzz7NKcARPB5\n",
    "\n",
    "**This table only includes numbers for people who checked off a single race in the census**. This is the majority of people. You can see the number of people who belong to two or more races by subtracting POP_ONE_RACE from TOTAL_POPULATION. \n",
    "\n",
    "Before proceeding to the next step, make sure you understand the difference between POP_ONE_RACE from TOTAL_POPULATION."
   ]
  },
  {
   "cell_type": "markdown",
   "id": "279b7f80",
   "metadata": {},
   "source": [
    "Q1 : Verify that the sum of counts in the columns ['white','black','amarican_indian','asian','hawaiian','other'] is equal to the count in the column 'pop_one_race'."
   ]
  },
  {
   "cell_type": "code",
   "execution_count": null,
   "id": "382ba752",
   "metadata": {},
   "outputs": [],
   "source": []
  },
  {
   "cell_type": "markdown",
   "id": "946c613c",
   "metadata": {},
   "source": [
    "Q2: How many counties are included in this dataset?"
   ]
  },
  {
   "cell_type": "code",
   "execution_count": null,
   "id": "039746e9",
   "metadata": {},
   "outputs": [],
   "source": []
  },
  {
   "cell_type": "markdown",
   "id": "fc3e8e9a",
   "metadata": {},
   "source": [
    "Q3: How many unique county names are there?"
   ]
  },
  {
   "cell_type": "code",
   "execution_count": null,
   "id": "c727abc3",
   "metadata": {},
   "outputs": [],
   "source": []
  },
  {
   "cell_type": "markdown",
   "id": "feec1a9e",
   "metadata": {},
   "source": [
    "Q4: What can be concluded from the difference between the number of counties and the number of unique county names?"
   ]
  },
  {
   "cell_type": "code",
   "execution_count": null,
   "id": "b67d2e90",
   "metadata": {},
   "outputs": [],
   "source": []
  },
  {
   "cell_type": "markdown",
   "id": "a5c0b884",
   "metadata": {},
   "source": [
    "Q5: Create a table with the number of counties in each U.S. state."
   ]
  },
  {
   "cell_type": "code",
   "execution_count": null,
   "id": "dc150109",
   "metadata": {},
   "outputs": [],
   "source": []
  },
  {
   "cell_type": "markdown",
   "id": "43ecf2cb",
   "metadata": {},
   "source": [
    "Q6: The following Python command uses `np.random.seed(id)` to set the seed number of your student ID. Complete the following command to create the variable 'state_given', which stores a randomly selected US state."
   ]
  },
  {
   "cell_type": "code",
   "execution_count": 9,
   "id": "2e90ea34",
   "metadata": {},
   "outputs": [],
   "source": [
    "np.random.seed(id)\n",
    "states_given = np.random.choice(..., 1).tolist()\n",
    "print(states_given)"
   ]
  },
  {
   "cell_type": "markdown",
   "id": "0539faa9",
   "metadata": {},
   "source": [
    "Q7: List all counties in the randomly selected US state defined by `states_given`."
   ]
  },
  {
   "cell_type": "code",
   "execution_count": null,
   "id": "9b6d6aad",
   "metadata": {},
   "outputs": [],
   "source": []
  },
  {
   "cell_type": "markdown",
   "id": "7038aae2",
   "metadata": {},
   "source": [
    "Q8: Write Python code to select two random US states and include them in a list named **states_list**. Do not forget to use np.random.seed to set the random value to your ID."
   ]
  },
  {
   "cell_type": "code",
   "execution_count": 110,
   "id": "501fa855",
   "metadata": {},
   "outputs": [],
   "source": [
    "np.random.seed(id)\n",
    "states_list = np.random.choice(..., 1, replace = True).tolist()"
   ]
  },
  {
   "cell_type": "markdown",
   "id": "7ed6ec43",
   "metadata": {},
   "source": [
    "Q9: List all counties for each state in the **states_list**."
   ]
  },
  {
   "cell_type": "code",
   "execution_count": null,
   "id": "dc153c87",
   "metadata": {},
   "outputs": [],
   "source": []
  },
  {
   "cell_type": "markdown",
   "id": "cf6bc8e0",
   "metadata": {},
   "source": [
    "#### Population by US states"
   ]
  },
  {
   "cell_type": "markdown",
   "id": "08e60d43",
   "metadata": {},
   "source": [
    "Q10 : Write Python code to create a table including the population for each U.S. state. The table should include total population, pop_one_race, white, black, etc. for each state."
   ]
  },
  {
   "cell_type": "code",
   "execution_count": null,
   "id": "d8efaa5d",
   "metadata": {},
   "outputs": [],
   "source": []
  },
  {
   "cell_type": "markdown",
   "id": "9a26eb9f",
   "metadata": {},
   "source": [
    "Q11: From the table of population by race for each US state created above, write Python code to calculate the (row) percentages (for each US state) of the following variables \n",
    "**'white','black','amarican_indian','asian','hawaiian','other'**."
   ]
  },
  {
   "cell_type": "code",
   "execution_count": null,
   "id": "499e4b21",
   "metadata": {},
   "outputs": [],
   "source": [
    "races_list = ['white','black','amarican_indian','asian','hawaiian','other']\n",
    "\n"
   ]
  },
  {
   "cell_type": "markdown",
   "id": "c486eede",
   "metadata": {},
   "source": [
    "Q12: List the first five states with the highest percentage of white Americans."
   ]
  },
  {
   "cell_type": "code",
   "execution_count": null,
   "id": "17048c4f",
   "metadata": {},
   "outputs": [],
   "source": []
  },
  {
   "cell_type": "markdown",
   "id": "087c4901",
   "metadata": {},
   "source": [
    "Q13: List the first five states with the highest percentage of black Americans."
   ]
  },
  {
   "cell_type": "code",
   "execution_count": null,
   "id": "30cfa735",
   "metadata": {},
   "outputs": [],
   "source": []
  },
  {
   "cell_type": "markdown",
   "id": "14ee142d",
   "metadata": {},
   "source": [
    "#### Visualization of U.S. population by race and U.S. states"
   ]
  },
  {
   "cell_type": "markdown",
   "id": "f249b708",
   "metadata": {},
   "source": [
    "Q14: Write Python to graph the US population by race broken down by state."
   ]
  },
  {
   "cell_type": "code",
   "execution_count": null,
   "id": "0bf4f27b",
   "metadata": {},
   "outputs": [],
   "source": []
  },
  {
   "cell_type": "markdown",
   "id": "b8b0ed8f",
   "metadata": {},
   "source": [
    "## US Covid-19 Dataset"
   ]
  },
  {
   "cell_type": "markdown",
   "id": "966fdebd",
   "metadata": {},
   "source": [
    "The second dataset can be downloaded from \n",
    "\n",
    "https://www.kaggle.com/fireballbyedimyrnmom/us-counties-covid-19-dataset.\n",
    "\n",
    "Each data row contains data on cumulative coronavirus cases and deaths.\n",
    "\n",
    "The specific data here, are the data **PER US COUNTY**.\n",
    "\n",
    "We will work with this Covid-19 dataset by preprocessing data, performing statistical data analysis and presenting the results."
   ]
  },
  {
   "cell_type": "code",
   "execution_count": 223,
   "id": "93d98c05",
   "metadata": {},
   "outputs": [],
   "source": [
    "path = '/Users/Kaemyuijang/SCMA248/Data/us-counties.csv'\n",
    "\n",
    "#df = pd.read_csv(path, parse_dates=True, index_col = 'date')\n",
    "\n",
    "df = pd.read_csv(path, parse_dates=['date'], index_col = 'date')"
   ]
  },
  {
   "cell_type": "markdown",
   "id": "aacd5415",
   "metadata": {},
   "source": [
    "#### Data Cleaning and Preparation: Handling Missing Values"
   ]
  },
  {
   "cell_type": "markdown",
   "id": "d9d653c3",
   "metadata": {},
   "source": [
    "Q15: List all variables (or columns) in this Covid-19 dataset with missing data."
   ]
  },
  {
   "cell_type": "code",
   "execution_count": null,
   "id": "64c07281",
   "metadata": {},
   "outputs": [],
   "source": []
  },
  {
   "cell_type": "markdown",
   "id": "8a760466",
   "metadata": {},
   "source": [
    "Q16: Calculate the number of missing data for each variable (i.e. in each column)."
   ]
  },
  {
   "cell_type": "code",
   "execution_count": null,
   "id": "1b077986",
   "metadata": {},
   "outputs": [],
   "source": []
  },
  {
   "cell_type": "markdown",
   "id": "487efbf1",
   "metadata": {},
   "source": [
    "#### Filtering out Missing Data"
   ]
  },
  {
   "cell_type": "markdown",
   "id": "382cef05",
   "metadata": {},
   "source": [
    "Q17: Write Python code to drop rows only when the column 'fips' has NaN in it. How many rows are there in the resutling DataFrame."
   ]
  },
  {
   "cell_type": "code",
   "execution_count": null,
   "id": "75348138",
   "metadata": {},
   "outputs": [],
   "source": []
  },
  {
   "cell_type": "markdown",
   "id": "143db811",
   "metadata": {},
   "source": [
    "Q18: How many NaN values remain in the **Deaths** column in the resutling DataFrame after deleting only rows where the  'fips' column contains NaN?"
   ]
  },
  {
   "cell_type": "code",
   "execution_count": null,
   "id": "e8e10cb9",
   "metadata": {},
   "outputs": [],
   "source": []
  },
  {
   "cell_type": "markdown",
   "id": "79fe4aa1",
   "metadata": {},
   "source": [
    "Q19: Drop all rows with missing values in the deaths column"
   ]
  },
  {
   "cell_type": "code",
   "execution_count": null,
   "id": "1f40d1a7",
   "metadata": {},
   "outputs": [],
   "source": []
  },
  {
   "cell_type": "markdown",
   "id": "866bdc6b",
   "metadata": {},
   "source": [
    "## Merging multiple DataFrames\n",
    "\n",
    "The Covid-19 dataset contains only data on cumulative coronavirus cases and deaths. To perform our analysis, e.g., to compare infection rates among different U.S. states, we need to add more information on the population size of each county.\n",
    "\n",
    "We will need to download another data frame that contains the list of state abbreviations. We will then combine multiple data frames by adding the 'total_population' to the Covid-19 dataset.\n",
    "\n",
    "* List of State Abbreviations: \n",
    "\n",
    "https://worldpopulationreview.com/states/state-abbreviations"
   ]
  },
  {
   "cell_type": "code",
   "execution_count": 238,
   "id": "68b3cc0b",
   "metadata": {},
   "outputs": [],
   "source": [
    "path = '/Users/Kaemyuijang/SCMA248/Data/us_state_abbreviations.csv'\n",
    "\n",
    "abbr = pd.read_csv(path)"
   ]
  },
  {
   "cell_type": "markdown",
   "id": "6870bb0d",
   "metadata": {},
   "source": [
    "Q20: Using the population and us_state_abbreviations datasets, write Python code to add the 'total_population' to the Covid-19 dataset."
   ]
  },
  {
   "cell_type": "code",
   "execution_count": null,
   "id": "61c581c7",
   "metadata": {},
   "outputs": [],
   "source": []
  },
  {
   "cell_type": "markdown",
   "id": "b74abf96",
   "metadata": {},
   "source": [
    "Q21: Write Python to check for NaN values after adding 'total_population' to the Covid-19 dataset."
   ]
  },
  {
   "cell_type": "code",
   "execution_count": null,
   "id": "68cddf59",
   "metadata": {},
   "outputs": [],
   "source": []
  }
 ],
 "metadata": {
  "kernelspec": {
   "display_name": "Python 3 (ipykernel)",
   "language": "python",
   "name": "python3"
  },
  "language_info": {
   "codemirror_mode": {
    "name": "ipython",
    "version": 3
   },
   "file_extension": ".py",
   "mimetype": "text/x-python",
   "name": "python",
   "nbconvert_exporter": "python",
   "pygments_lexer": "ipython3",
   "version": "3.7.11"
  }
 },
 "nbformat": 4,
 "nbformat_minor": 5
}
