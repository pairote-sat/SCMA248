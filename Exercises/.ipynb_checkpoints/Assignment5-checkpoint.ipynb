{
 "cells": [
  {
   "cell_type": "markdown",
   "id": "fd64f46d",
   "metadata": {},
   "source": [
    "# Assignment 4 (Exercise for Chapter 6)\n",
    "\n",
    "Due date: 31 March 2022 before 4 pm.\n",
    "\n",
    "Points: 10 (+ 5 extra points)\n",
    "\n",
    "Do not alter this file.\n",
    "1. Form a group of two members. The group member must be different from the previous Assignments 1, 2, 3 and 4.\n",
    "\n",
    "2. Duplicate this file and move it into the Personal folder (you may share access to your team member). Rename the file as Assignment5_id1_id2 (id1 and id2 are student ID numbers in ascending order, e.g. Assignment5_6305001_6305001).\n",
    "\n",
    "3. Write Python commands to answer each of the questions. For each question that requires numerical values (not list, table or dataframe), you also need to assign the variable e.g. ans1 to store the numerical answer for question 1. If there is more than 1 answer required, you must create more variables e.g. ans1_1, ans1_2 to store the values of the answers.\n",
    "\n",
    "4. When you want to submit your file, you simply share access with me using my email pairote.sat@mahidol.edu and my TA p.pooy.pui.i@gmail.com. Do not move your file into the DS@MathMahidol team."
   ]
  },
  {
   "cell_type": "markdown",
   "id": "a6455bec",
   "metadata": {},
   "source": [
    "## Problem Statement\n",
    "\n",
    "An automobile company wants to enter the U.S. market by setting up a manufacturing plant there and producing cars locally to compete with its American and European competitors.\n",
    "\n",
    "The company has hired an automotive consulting firm to understand the factors on which car pricing depends. Specifically, the company wants to understand the factors that affect car pricing in the U.S. market, as these can be very different from those in the Chinese market. The company wants to know:\n",
    "\n",
    "What variables are important in predicting the price of a car.\n",
    "How well these variables describe the price of a car\n",
    "Based on various market surveys, the consulting firm has gathered a large data set on different types of cars in the American market."
   ]
  },
  {
   "cell_type": "markdown",
   "id": "fc681511",
   "metadata": {},
   "source": [
    "## Regression problems\n",
    "\n",
    "There are five basic steps when you implement linear regression:\n",
    "\n",
    "1. Import the packages and classes you need.\n",
    "\n",
    "2. Provide data to work with and possibly perform appropriate transformations.\n",
    "\n",
    "3. Create a regression model and fit it with the available data.\n",
    "\n",
    "4. Review the results of the model fit to know if the model is satisfactory.\n",
    "\n",
    "5. Apply the model for predictions.\n",
    "\n",
    "These steps are more or less general to most regression approaches and implementations."
   ]
  },
  {
   "cell_type": "markdown",
   "id": "42879437",
   "metadata": {},
   "source": [
    "### Step 1: Import the packages"
   ]
  },
  {
   "cell_type": "code",
   "execution_count": 5,
   "id": "de996dcb",
   "metadata": {},
   "outputs": [],
   "source": [
    "import pandas as pd\n",
    "import numpy as np\n",
    "\n",
    "import statsmodels.api as sm\n",
    "\n",
    "from scipy.stats import *\n",
    "\n",
    "import seaborn as sns\n",
    "import matplotlib.pyplot as plt\n",
    "%matplotlib inline\n",
    "import math as m\n",
    "from sklearn.linear_model import LinearRegression\n",
    "from sklearn.metrics import mean_squared_error,mean_absolute_error,r2_score\n",
    "from scipy.stats import pearsonr,spearmanr\n",
    "\n",
    "from sklearn.model_selection import train_test_split\n",
    "from sklearn.preprocessing import MinMaxScaler\n",
    "from sklearn import preprocessing\n",
    "from sklearn.base import TransformerMixin\n",
    "\n",
    "from plotnine import *"
   ]
  },
  {
   "cell_type": "markdown",
   "id": "1d1af535",
   "metadata": {},
   "source": [
    "### Step 2: Provide data to work with and possibly perform appropriate transformations."
   ]
  },
  {
   "cell_type": "markdown",
   "id": "67b2efe5",
   "metadata": {},
   "source": [
    "0. Enter student IDs of your group."
   ]
  },
  {
   "cell_type": "code",
   "execution_count": null,
   "id": "9c4b5e2e",
   "metadata": {},
   "outputs": [],
   "source": []
  },
  {
   "cell_type": "markdown",
   "id": "05b9d410",
   "metadata": {},
   "source": [
    "1. Download the following dataset, CarPrice_Assignment.csv, from this Kaggle link (save this data frame as Pandas DataFrame):\n",
    "\n",
    "https://www.kaggle.com/datasets/hellbuoy/car-price-prediction\n",
    "\n",
    "or from my personal Github page.\n",
    "\n",
    "https://raw.githubusercontent.com/pairote-sat/SCMA248/main/Data/CarPrice_Assignment.csv"
   ]
  },
  {
   "cell_type": "code",
   "execution_count": null,
   "id": "34fddb9f",
   "metadata": {},
   "outputs": [],
   "source": []
  },
  {
   "cell_type": "markdown",
   "id": "d0715a88",
   "metadata": {},
   "source": [
    "#### 2.1 Data Preprocessing and Feature Engineering\n",
    "\n",
    "**What is data preprocessing?**\n",
    "\n",
    "It is a technique used to transform raw data into more meaningful data, or data that can be understood by a machine learning model. Real-world data is often incomplete, inconsistent, and/or lacks certain behaviors or trends and is likely to contain many errors. To address this problem, data preprocessing techniques are introduced. We will talk about some of the data preprocessing techniques, namely :\n",
    "Vectorization\n",
    "Normalization\n",
    "Treatment of missing values\n",
    "\n",
    "\n",
    "**What is Feature engineering?**\n",
    "\n",
    "Feature engineering is the process of selecting, manipulating, and transforming raw data into features that can be used in supervised learning. \n",
    "\n",
    "In order for machine learning to work well on new tasks, it may be necessary to develop and train better features. \n",
    "\n",
    "Feature engineering, in simple terms, is the transformation of raw data into desired features using statistical or machine learning techniques."
   ]
  },
  {
   "cell_type": "markdown",
   "id": "a03f566a",
   "metadata": {},
   "source": [
    "#### 2.2 Missing values\n",
    "\n",
    "When it comes to preparing your data for machine learning, missing values are one of the most typical problems. Human error, data flow interruptions, privacy concerns, and other factors can lead to missing values. Missing values, for whatever reason, affect the performance of machine learning models."
   ]
  },
  {
   "cell_type": "markdown",
   "id": "67570599",
   "metadata": {},
   "source": [
    "2. Write python code to check whether any missing values are there in the dataset."
   ]
  },
  {
   "cell_type": "code",
   "execution_count": null,
   "id": "c929b5f4",
   "metadata": {},
   "outputs": [],
   "source": []
  },
  {
   "cell_type": "markdown",
   "id": "d013dffa",
   "metadata": {},
   "source": [
    "#### 2.3 Handling Outliers\n",
    "\n",
    "Outlier treatment is a technique for removing outliers from a data set. This method can be used on a variety of scales to obtain a more accurate representation of data. This has an impact on the performance of the model. Depending on the model, the impact can be large or minimal. For example, linear regression is particularly susceptible to outliers. This procedure should be completed prior to model training."
   ]
  },
  {
   "cell_type": "markdown",
   "id": "42813051",
   "metadata": {},
   "source": [
    "3. Write Python code to plot the distribution of the car prices. "
   ]
  },
  {
   "cell_type": "code",
   "execution_count": null,
   "id": "70a67642",
   "metadata": {},
   "outputs": [],
   "source": []
  },
  {
   "cell_type": "markdown",
   "id": "4da989ee",
   "metadata": {},
   "source": [
    "4. Complete the following tasks:\n",
    "\n",
    "4.1 Identify (or list) all values that are outliers. \n",
    "\n",
    "4.2 How many outliers are there?\n",
    "\n",
    "4.3 What can you say about the shape of this distribution?"
   ]
  },
  {
   "cell_type": "code",
   "execution_count": null,
   "id": "bb82d335",
   "metadata": {},
   "outputs": [],
   "source": []
  },
  {
   "cell_type": "markdown",
   "id": "872ed0e4",
   "metadata": {},
   "source": [
    "5. We will use the log transformation to convert a skewed distribution to a normal or less skewed distribution. Write Python code to add a new column called 'log_price' that contains the logarithmic base 10 of the car prices."
   ]
  },
  {
   "cell_type": "code",
   "execution_count": null,
   "id": "2a349584",
   "metadata": {},
   "outputs": [],
   "source": []
  },
  {
   "cell_type": "markdown",
   "id": "ad6b5d64",
   "metadata": {},
   "source": [
    "6. Write Python code to plot the distribution of the values of the `log_ price` variable. \n",
    "\n",
    "6.1 After log transformation, identify (or list) all values that are outliers the values of the `log_ price` variable. "
   ]
  },
  {
   "cell_type": "code",
   "execution_count": null,
   "id": "3fdac981",
   "metadata": {},
   "outputs": [],
   "source": []
  },
  {
   "cell_type": "markdown",
   "id": "a41bec91",
   "metadata": {},
   "source": [
    "#### 2.4 Scaling\n",
    "\n",
    "**Feature scaling** is one of the most common and difficult problems in machine learning, but also one of the most important if you want to do it right. \n",
    "\n",
    "To train a predictive model, we need data with a known set of features that must be scaled up or down as appropriate. \n",
    "\n",
    "If we do not have comparable scales, some of the coefficients obtained by fitting the regression model could be very large or very small compared to the other coefficients. There are two common methods of rescaling:\n",
    "\n",
    "* Min-Max scaling\n",
    "\n",
    "* Standardisation (mean-0, sigma-1).\n",
    "\n",
    "After scaling, continuous features become similar in terms of range. Although this step is not required for many algorithms, it is still a good idea to perform it. \n",
    "\n",
    "Distance-based algorithms such as k-NN and k-Means, on the other hand, require scaled continuous features as model input. \n",
    "\n",
    "Here we will use the standardisation scaling.\n",
    "\n",
    "See the following link for more details:\n",
    "https://hersanyagci.medium.com/feature-scaling-with-scikit-learn-for-data-science-8c4cbcf2daff"
   ]
  },
  {
   "cell_type": "markdown",
   "id": "036dfb96",
   "metadata": {},
   "source": [
    "7. Perform the standardisation scaling to all numeric feature variables (not the target (or response) variable, namely `price` and `log_price`."
   ]
  },
  {
   "cell_type": "code",
   "execution_count": null,
   "id": "de33a315",
   "metadata": {},
   "outputs": [],
   "source": []
  },
  {
   "cell_type": "markdown",
   "id": "10dd07cc",
   "metadata": {},
   "source": [
    "#### 2.5 Correlation Analysis"
   ]
  },
  {
   "cell_type": "markdown",
   "id": "ec9b0e1d",
   "metadata": {},
   "source": [
    "The linear correlation between variable pairs is investigated using correlation analysis. This may be accomplished by combining the `corr()` and `sns.heatmap()` functions."
   ]
  },
  {
   "cell_type": "markdown",
   "id": "09c883e0",
   "metadata": {},
   "source": [
    "8. Write Python code to create the correlation matrix of the dataset which has been completely preprocessed.\n",
    "\n"
   ]
  },
  {
   "cell_type": "code",
   "execution_count": null,
   "id": "ab296af9",
   "metadata": {},
   "outputs": [],
   "source": []
  },
  {
   "cell_type": "markdown",
   "id": "c4d59f7c",
   "metadata": {},
   "source": [
    "9. Identify (list) which numeric variables have a significant positive correlation with `log_price`."
   ]
  },
  {
   "cell_type": "code",
   "execution_count": null,
   "id": "a255cf18",
   "metadata": {},
   "outputs": [],
   "source": []
  },
  {
   "cell_type": "markdown",
   "id": "7b2a3662",
   "metadata": {},
   "source": [
    "10. Identify (list) which numeric variables have a significant negative correlation with `log_price`."
   ]
  },
  {
   "cell_type": "code",
   "execution_count": null,
   "id": "0953f422",
   "metadata": {},
   "outputs": [],
   "source": []
  },
  {
   "cell_type": "markdown",
   "id": "f073643a",
   "metadata": {},
   "source": [
    "#### 2.6 Exploratory data analysis\n",
    "\n",
    "It is now time to experiment with the data and make some visualizations.\n",
    "\n",
    "In our dataset, a **pairplot** plots pairwise relationships. The pairplot function creates a grid of Axes in which each variable in the data is shared across a single row and a single column on the y-axis.\n",
    "\n",
    "A pairs plot shows the distribution of single variables as well as the relationships between them. Pair plots are a great way to detect trends for further study, and they're simple to create in Python!"
   ]
  },
  {
   "cell_type": "markdown",
   "id": "fe250f21",
   "metadata": {},
   "source": [
    "11. Write Python code to create pair plots of the feature and target variables (you may choose to include only features which have a significant correlation (as obtained from questions 9 and 10)."
   ]
  },
  {
   "cell_type": "code",
   "execution_count": null,
   "id": "da12b5b9",
   "metadata": {},
   "outputs": [],
   "source": []
  },
  {
   "cell_type": "markdown",
   "id": "0894350c",
   "metadata": {},
   "source": [
    "12. Explain the results you obtained."
   ]
  },
  {
   "cell_type": "code",
   "execution_count": null,
   "id": "865e840f",
   "metadata": {},
   "outputs": [],
   "source": []
  },
  {
   "cell_type": "markdown",
   "id": "868c5e70",
   "metadata": {},
   "source": [
    "### Step 3: Create a regression model and fit it with the available data.\n",
    "\n",
    "Let us start with the simplest case, simple linear regression. We will use `log_price` as the dependent variable and the feature variable with highest correlation to the output `log_price` as an independent variable."
   ]
  },
  {
   "cell_type": "markdown",
   "id": "a981eadd",
   "metadata": {},
   "source": [
    "13. What is the variable with the highest correlation to the output `log_price`?"
   ]
  },
  {
   "cell_type": "code",
   "execution_count": null,
   "id": "742131bf",
   "metadata": {},
   "outputs": [],
   "source": []
  },
  {
   "cell_type": "markdown",
   "id": "836c47b8",
   "metadata": {},
   "source": [
    "#### 3.1 Split the data into training and test subset\n",
    "\n",
    "To check the performance of a model, you should test it with new (test) data, that is with observations not used to fit (train) the model. "
   ]
  },
  {
   "cell_type": "markdown",
   "id": "8f239da4",
   "metadata": {},
   "source": [
    "14. Use scikit-learn’s `train_test_split()` to split your dataset into the training and test subsets. You must specifiy the arguements `random_state=id1` and `test_size= 0.3` for the `train_test_split()` function."
   ]
  },
  {
   "cell_type": "code",
   "execution_count": null,
   "id": "71fa729f",
   "metadata": {},
   "outputs": [],
   "source": []
  },
  {
   "cell_type": "markdown",
   "id": "d30e6d52",
   "metadata": {},
   "source": [
    "14. Use scikit-learn’s `train_test_split()` to split your dataset into the training and test subsets. You must specifiy the arguements `random_state=id1` and `test_size= 0.3` for the `train_test_split()` function."
   ]
  },
  {
   "cell_type": "code",
   "execution_count": null,
   "id": "33057f44",
   "metadata": {},
   "outputs": [],
   "source": []
  },
  {
   "cell_type": "markdown",
   "id": "ace394ac",
   "metadata": {},
   "source": [
    "15. Use either `statsmodel` or `scikit-learn` libraries to create the simple linear regression model and fit it with the **training data**."
   ]
  },
  {
   "cell_type": "code",
   "execution_count": null,
   "id": "1f70fc16",
   "metadata": {},
   "outputs": [],
   "source": []
  },
  {
   "cell_type": "markdown",
   "id": "c3bcfa5a",
   "metadata": {},
   "source": [
    "### Step 4: Get results\n",
    "\n",
    "Once you have fitted your model, you can get the results to verify that the model is working satisfactorily and interpret it.\n",
    "\n",
    "We will obtain the following properties of the model."
   ]
  },
  {
   "cell_type": "markdown",
   "id": "d94b5862",
   "metadata": {},
   "source": [
    "16. Write Python to print out the coefficient of determination (R-squared)."
   ]
  },
  {
   "cell_type": "code",
   "execution_count": null,
   "id": "f67d8471",
   "metadata": {},
   "outputs": [],
   "source": []
  },
  {
   "cell_type": "markdown",
   "id": "e227cf47",
   "metadata": {},
   "source": [
    "17. Write Python to print out the intercept of the model."
   ]
  },
  {
   "cell_type": "code",
   "execution_count": null,
   "id": "e3c65a3f",
   "metadata": {},
   "outputs": [],
   "source": []
  },
  {
   "cell_type": "markdown",
   "id": "a1d2b76c",
   "metadata": {},
   "source": [
    "18.  Write Python to print out the slope (coefficient of the chosen feature) of the model."
   ]
  },
  {
   "cell_type": "code",
   "execution_count": null,
   "id": "2282cce0",
   "metadata": {},
   "outputs": [],
   "source": []
  },
  {
   "cell_type": "markdown",
   "id": "b4600fd8",
   "metadata": {},
   "source": [
    "### Step 5: Predict response\n",
    "\n",
    "Once you have a satisfactory model, you can use it for predictions with new data."
   ]
  },
  {
   "cell_type": "markdown",
   "id": "4f065bfd",
   "metadata": {},
   "source": [
    "19. Make predictions for the test set. Add a new column of prediction values to the test set. Show the first five rows of the test set of the following columns: \n",
    "\n",
    "* the feature column that used for the model,\n",
    "\n",
    "* the `log_price`, and \n",
    "\n",
    "* the predictions."
   ]
  },
  {
   "cell_type": "code",
   "execution_count": null,
   "id": "cc1afaaa",
   "metadata": {},
   "outputs": [],
   "source": []
  },
  {
   "cell_type": "markdown",
   "id": "839b2db7",
   "metadata": {},
   "source": [
    "20. For model evaluation, write Python to calculate the following quantitative measurements on **the test set**\n",
    "\n",
    "20.1 MAE, \n",
    "\n",
    "20.2 MSE, and \n",
    "\n",
    "20.3 R squared. "
   ]
  },
  {
   "cell_type": "code",
   "execution_count": null,
   "id": "87387482",
   "metadata": {},
   "outputs": [],
   "source": []
  },
  {
   "cell_type": "markdown",
   "id": "9fea9d17",
   "metadata": {},
   "source": [
    "21. (5 extra points) Write Python code to visualize the predictions of the linear regression. These may include:\n",
    "\n",
    "* Scatter plot of actual vs predicted Values\n",
    "\n",
    "* Density plot of actual vs Predicted Values\n",
    "\n",
    "* Residual plot (prediction Error)\n",
    "\n",
    "Give the graphs appropriate labels and titles."
   ]
  },
  {
   "cell_type": "code",
   "execution_count": null,
   "id": "1f7c063c",
   "metadata": {},
   "outputs": [],
   "source": []
  }
 ],
 "metadata": {
  "kernelspec": {
   "display_name": "Python 3 (ipykernel)",
   "language": "python",
   "name": "python3"
  },
  "language_info": {
   "codemirror_mode": {
    "name": "ipython",
    "version": 3
   },
   "file_extension": ".py",
   "mimetype": "text/x-python",
   "name": "python",
   "nbconvert_exporter": "python",
   "pygments_lexer": "ipython3",
   "version": "3.7.11"
  }
 },
 "nbformat": 4,
 "nbformat_minor": 5
}
