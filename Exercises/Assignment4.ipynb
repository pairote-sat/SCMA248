{
 "cells": [
  {
   "cell_type": "markdown",
   "id": "18d21722",
   "metadata": {},
   "source": [
    "## Assignment 4 (Exercise for Chapters 5)\n",
    "\n",
    "Due date: 15 March 2022 before 4 pm.\n",
    "\n",
    "Points: 5 + (**4 extra points**)\n",
    "\n",
    "Do not alter this file.\n",
    "1. Form a group of two members. The group member must be different from the previous Assignments 1, 2 and 3.\n",
    "\n",
    "2. Duplicate this file and move it into the Personal folder (you may share access to your team member). Rename the file as Assignment4_id1_id2 (id1 and id2 are student ID numbers in ascending order, e.g. Assignment4_6305001_6305001).\n",
    "\n",
    "3. Write Python commands to answer each of the questions. For each question that requires numerical values (not list, table or dataframe), you also need to assign the variable e.g. ans1 to store the numerical answer for question 1. If there is more than 1 answer required, you must create more variables e.g. ans1_1, ans1_2 to store the values of the answers.\n",
    "\n",
    "4. When you want to submit your file, you simply share access with me using my email pairote.sat@mahidol.edu and my TA p.pooy.pui.i@gmail.com. Do not move your file into the DS@MathMahidol team."
   ]
  },
  {
   "cell_type": "markdown",
   "id": "48ddbc49",
   "metadata": {},
   "source": [
    "**Goals:** The purpose of this exercise is to perform simple descriptive statistics and to describe the **importance of data visualisation** before analyzing and model building."
   ]
  },
  {
   "cell_type": "markdown",
   "id": "fb0b058b",
   "metadata": {},
   "source": [
    "0. Enter student IDs of your group."
   ]
  },
  {
   "cell_type": "markdown",
   "id": "0c2ca4eb",
   "metadata": {},
   "source": [
    "1. Download the following dataset from this Github link (store this data frame as a pandas DataFrame with the variable name `anscombes`): \n",
    "\n",
    "https://gist.github.com/ericbusboom/b2ac1d366c005cd2ed8c\n",
    "\n",
    "The dataset consists of values $x$ and $y$ from four different groups (I,II,III and IV which are given by the column namely `dataset`)."
   ]
  },
  {
   "cell_type": "markdown",
   "id": "5c0b5cf1",
   "metadata": {},
   "source": [
    "Perform statistical data analysis of the `anscombes` dataset by answering the following questions:\n",
    "\n",
    "2. Write python code to create a table that provides a summary of the variables $x$ and $y$ for each of groups (including the mean of $x$, the sample variance of $x$, the mean of $y$, the sample variance of $y$)."
   ]
  },
  {
   "cell_type": "markdown",
   "id": "fbf69481",
   "metadata": {},
   "source": [
    "2.1 Find the mean of $x$ in the group I."
   ]
  },
  {
   "cell_type": "markdown",
   "id": "2324ee6b",
   "metadata": {},
   "source": [
    "2.2 Find the mean of $x$ in the group II."
   ]
  },
  {
   "cell_type": "markdown",
   "id": "d98e55b9",
   "metadata": {},
   "source": [
    "2.3 Find the sample variance of $y$ in the group III."
   ]
  },
  {
   "cell_type": "markdown",
   "id": "88d78304",
   "metadata": {},
   "source": [
    "2.4 Find the sample variance of $y$ in the group IV."
   ]
  },
  {
   "cell_type": "markdown",
   "id": "01d51670",
   "metadata": {},
   "source": [
    "3. Write python code to create a grouped boxplot of the values $x$ categorized by groups (I, II, III and IV). \n",
    "\n",
    "Note that a grouped boxplot is a boxplot where categories are organized in groups and subgroups.\n",
    "\n",
    "See for detail: https://www.r-graph-gallery.com/265-grouped-boxplot-with-ggplot2.html#:~:text=A%20grouped%20boxplot%20is%20a,called%20in%20the%20fill%20argument."
   ]
  },
  {
   "cell_type": "markdown",
   "id": "68007b5f",
   "metadata": {},
   "source": [
    "4. Write python code to create a grouped boxplot of the values $y$ categorized by groups (I, II, III and IV). "
   ]
  },
  {
   "cell_type": "markdown",
   "id": "150f8719",
   "metadata": {},
   "source": [
    "5. Write python code to plot (in the same figure) histograms and the kernel density estimate (KDE) of the values $x$ for each of the four datasets. (you may use `facet_wrap` in **plotnine**  to build a plot for multiple subsets of the data set) "
   ]
  },
  {
   "cell_type": "markdown",
   "id": "659f3dca",
   "metadata": {},
   "source": [
    "6. Write python code to plot (in the same figure) histograms and the kernel density estimate (KDE) of the values $y$ for each of the groups. (you may use `facet_wrap` in **plotnine**  to build a plot for multiple subsets)"
   ]
  },
  {
   "cell_type": "markdown",
   "id": "4d8f44a8",
   "metadata": {},
   "source": [
    "7. Write python code that create a table that summarizes the (linear) correlation coefficient of the variables $x$ and $y$ for each of the groups."
   ]
  },
  {
   "cell_type": "markdown",
   "id": "e48080c3",
   "metadata": {},
   "source": [
    "7.1 Find the correlation coefficient of the variables $x$ and $y$ of the dataset I."
   ]
  },
  {
   "cell_type": "markdown",
   "id": "8e05bcfd",
   "metadata": {},
   "source": [
    "7.2 Find the correlation coefficient of the variables $x$ and $y$ of the dataset II."
   ]
  },
  {
   "cell_type": "markdown",
   "id": "fa8d42ac",
   "metadata": {},
   "source": [
    "8. Write python code to graphically display the relationship of the variables $x$ and $y$ for each of groups."
   ]
  },
  {
   "cell_type": "markdown",
   "id": "eb67d42f",
   "metadata": {},
   "source": [
    "9. Discuss and conclude the results from the data analysis of this work."
   ]
  },
  {
   "cell_type": "markdown",
   "id": "e7caa31d",
   "metadata": {},
   "source": [
    "Extra questions for extra points (4 points):\n",
    "\n",
    "Complete questions 10 to earn extra points."
   ]
  },
  {
   "cell_type": "markdown",
   "id": "20f4c75d",
   "metadata": {},
   "source": [
    "10. Perform regression analysis to determine the possible relationship between the variables $x$ and $y$ for each group.\n",
    "\n",
    "10.1 Find the regression line for the data in group I (for e.g. the regression line is given as 'y = a + b x' where a and b represent the y intercept and slope of the regression line).\n",
    "\n",
    "10.2 Find the regression line for the data in group II.\n",
    "\n",
    "10.3 Find the coefficient of determination (R-squared) of the dataset I.\n",
    "\n",
    "10.4 Find the coefficient of determination (R-squared) of the dataset II."
   ]
  }
 ],
 "metadata": {
  "kernelspec": {
   "display_name": "Python 3 (ipykernel)",
   "language": "python",
   "name": "python3"
  },
  "language_info": {
   "codemirror_mode": {
    "name": "ipython",
    "version": 3
   },
   "file_extension": ".py",
   "mimetype": "text/x-python",
   "name": "python",
   "nbconvert_exporter": "python",
   "pygments_lexer": "ipython3",
   "version": "3.7.11"
  }
 },
 "nbformat": 4,
 "nbformat_minor": 5
}
