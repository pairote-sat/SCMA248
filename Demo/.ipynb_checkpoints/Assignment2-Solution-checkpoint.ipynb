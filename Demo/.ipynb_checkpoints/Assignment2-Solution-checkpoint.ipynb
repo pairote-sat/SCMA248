{
 "cells": [
  {
   "cell_type": "markdown",
   "id": "b6a1d64d",
   "metadata": {},
   "source": [
    "## Exercise for Chapter 3\n",
    "\n",
    "This exercises is design to assist you how to use the pandas package to import, preprocess data and perform basic statistical analysis. Later we should see how data generating events can produce data of interest to insurance analysts.\n",
    "\n",
    "We will look at the Local Government Property Insurance Fund in this chapter. The fund insures property owned by municipal governments, such as schools and libraries.\n",
    "\n",
    "* government buildings,\n",
    "\n",
    "* educational institutions,\n",
    "\n",
    "* public libraries, and\n",
    "\n",
    "* motor vehicles.\n",
    "\n",
    "Over a thousand local government units are covered by the fund, which charges about \\\\$25 million in annual premiums and provides insurance coverage of about \\\\$75 billion."
   ]
  },
  {
   "cell_type": "markdown",
   "id": "057718be",
   "metadata": {},
   "source": [
    "## Part 2"
   ]
  },
  {
   "cell_type": "markdown",
   "id": "ebf9f5ef",
   "metadata": {},
   "source": [
    "1. Write Python code to generage a table that shows the 2010 claims frequency distribution. The table should contain the number of policies, the number of claims and the proportion (broken down by the number of claims).\n",
    "\n",
    "Goal: the table should tell us how many poicyholders and the (percentage) proportion of policyholders who did not have any claims, only one claim and so on.\n",
    "\n",
    "1.1. How many policyholders in the 2010 claims data have 9 or more claims?\n",
    "\n",
    "1.2. What is the percentage proportion of policyholders having exactly 3 claims?"
   ]
  },
  {
   "cell_type": "code",
   "execution_count": 2,
   "id": "98208333",
   "metadata": {},
   "outputs": [],
   "source": [
    "import pandas as pd\n",
    "\n",
    "#claims = pd.read_csv('/Users/Kaemyuijang/SCMA248/Data/ClaimsExperienceData.csv')\n",
    "url = 'https://raw.githubusercontent.com/pairote-sat/SCMA248/main/Data/ClaimsExperienceData.csv'\n",
    "claims = pd.read_csv(url)"
   ]
  },
  {
   "cell_type": "markdown",
   "id": "d5656ef9",
   "metadata": {},
   "source": [
    "To obtain the number of policies and number of claims categorized by claim frequency (and by year), we first group `claims` dataset by `Year` and `Freq` and apply `agg` (aggregate) function."
   ]
  },
  {
   "cell_type": "code",
   "execution_count": 3,
   "id": "abef6f61",
   "metadata": {},
   "outputs": [],
   "source": [
    "claimsFreqDist = claims.groupby(['Year','Freq']).agg({'PolicyNum' : 'count', 'Freq' : 'sum'})\n",
    "claimsFreqDist.rename(columns={'PolicyNum':'NumPolicies', 'Freq':'NumClaims'}, inplace = True)\n",
    "#claimsFreqDist"
   ]
  },
  {
   "cell_type": "markdown",
   "id": "08a73ac1",
   "metadata": {},
   "source": [
    "To determine the (percentage) proportion of policies for each claim frequency, we will first group the \"Year\" and \"Freq\".   To calculate the percentage **within each \"Year\" group**, the following command can be used groupby(level=0).apply(lambda x: 100*x/x.sum())\n",
    "\n",
    "**Note:** Because the original dataframe becomes a multiple index dataframe after grouping, the level = 0 refers to the top level index, which in our case is 'Year'.\n",
    "\n",
    "You can see the results below, which have already been sorted by percent of policies for each claim frequency by year."
   ]
  },
  {
   "cell_type": "code",
   "execution_count": 5,
   "id": "f44031a0",
   "metadata": {},
   "outputs": [],
   "source": [
    "#Table1 = claims.groupby(['Year','Freq']).agg({'PolicyNum' : 'count'}).groupby(level='Year').apply(lambda x: 100*x/x.sum())\n",
    "Table1 = claims.groupby(['Year','Freq']).agg({'PolicyNum' : 'count'}).groupby(level='Year').apply(lambda x: 100*x/x.sum())\n",
    "Table1.rename(columns={'PolicyNum':'Percentage'}, inplace = True)\n",
    "\n",
    "#Table1.loc[(2010,slice(None))]\n",
    "#Table1.loc[(slice(None),slice(None))].tail()"
   ]
  },
  {
   "cell_type": "markdown",
   "id": "d68a6432",
   "metadata": {},
   "source": [
    "The final is to merged the above two resulting tables using `pd.merge` function."
   ]
  },
  {
   "cell_type": "code",
   "execution_count": 13,
   "id": "79f9ffae",
   "metadata": {},
   "outputs": [
    {
     "data": {
      "text/html": [
       "<div>\n",
       "<style scoped>\n",
       "    .dataframe tbody tr th:only-of-type {\n",
       "        vertical-align: middle;\n",
       "    }\n",
       "\n",
       "    .dataframe tbody tr th {\n",
       "        vertical-align: top;\n",
       "    }\n",
       "\n",
       "    .dataframe thead th {\n",
       "        text-align: right;\n",
       "    }\n",
       "</style>\n",
       "<table border=\"1\" class=\"dataframe\">\n",
       "  <thead>\n",
       "    <tr style=\"text-align: right;\">\n",
       "      <th></th>\n",
       "      <th>NumClaims</th>\n",
       "      <th>NumPolicies</th>\n",
       "      <th>Percentage</th>\n",
       "    </tr>\n",
       "    <tr>\n",
       "      <th>Freq</th>\n",
       "      <th></th>\n",
       "      <th></th>\n",
       "      <th></th>\n",
       "    </tr>\n",
       "  </thead>\n",
       "  <tbody>\n",
       "    <tr>\n",
       "      <th>0</th>\n",
       "      <td>0</td>\n",
       "      <td>707</td>\n",
       "      <td>63.693694</td>\n",
       "    </tr>\n",
       "    <tr>\n",
       "      <th>1</th>\n",
       "      <td>209</td>\n",
       "      <td>209</td>\n",
       "      <td>18.828829</td>\n",
       "    </tr>\n",
       "    <tr>\n",
       "      <th>2</th>\n",
       "      <td>172</td>\n",
       "      <td>86</td>\n",
       "      <td>7.747748</td>\n",
       "    </tr>\n",
       "    <tr>\n",
       "      <th>3</th>\n",
       "      <td>120</td>\n",
       "      <td>40</td>\n",
       "      <td>3.603604</td>\n",
       "    </tr>\n",
       "    <tr>\n",
       "      <th>4</th>\n",
       "      <td>72</td>\n",
       "      <td>18</td>\n",
       "      <td>1.621622</td>\n",
       "    </tr>\n",
       "    <tr>\n",
       "      <th>5</th>\n",
       "      <td>60</td>\n",
       "      <td>12</td>\n",
       "      <td>1.081081</td>\n",
       "    </tr>\n",
       "    <tr>\n",
       "      <th>6</th>\n",
       "      <td>54</td>\n",
       "      <td>9</td>\n",
       "      <td>0.810811</td>\n",
       "    </tr>\n",
       "    <tr>\n",
       "      <th>7</th>\n",
       "      <td>28</td>\n",
       "      <td>4</td>\n",
       "      <td>0.360360</td>\n",
       "    </tr>\n",
       "    <tr>\n",
       "      <th>8</th>\n",
       "      <td>48</td>\n",
       "      <td>6</td>\n",
       "      <td>0.540541</td>\n",
       "    </tr>\n",
       "    <tr>\n",
       "      <th>9</th>\n",
       "      <td>9</td>\n",
       "      <td>1</td>\n",
       "      <td>0.090090</td>\n",
       "    </tr>\n",
       "    <tr>\n",
       "      <th>10</th>\n",
       "      <td>30</td>\n",
       "      <td>3</td>\n",
       "      <td>0.270270</td>\n",
       "    </tr>\n",
       "    <tr>\n",
       "      <th>11</th>\n",
       "      <td>22</td>\n",
       "      <td>2</td>\n",
       "      <td>0.180180</td>\n",
       "    </tr>\n",
       "    <tr>\n",
       "      <th>13</th>\n",
       "      <td>13</td>\n",
       "      <td>1</td>\n",
       "      <td>0.090090</td>\n",
       "    </tr>\n",
       "    <tr>\n",
       "      <th>14</th>\n",
       "      <td>28</td>\n",
       "      <td>2</td>\n",
       "      <td>0.180180</td>\n",
       "    </tr>\n",
       "    <tr>\n",
       "      <th>15</th>\n",
       "      <td>15</td>\n",
       "      <td>1</td>\n",
       "      <td>0.090090</td>\n",
       "    </tr>\n",
       "    <tr>\n",
       "      <th>16</th>\n",
       "      <td>32</td>\n",
       "      <td>2</td>\n",
       "      <td>0.180180</td>\n",
       "    </tr>\n",
       "    <tr>\n",
       "      <th>17</th>\n",
       "      <td>17</td>\n",
       "      <td>1</td>\n",
       "      <td>0.090090</td>\n",
       "    </tr>\n",
       "    <tr>\n",
       "      <th>18</th>\n",
       "      <td>18</td>\n",
       "      <td>1</td>\n",
       "      <td>0.090090</td>\n",
       "    </tr>\n",
       "    <tr>\n",
       "      <th>19</th>\n",
       "      <td>19</td>\n",
       "      <td>1</td>\n",
       "      <td>0.090090</td>\n",
       "    </tr>\n",
       "    <tr>\n",
       "      <th>30</th>\n",
       "      <td>30</td>\n",
       "      <td>1</td>\n",
       "      <td>0.090090</td>\n",
       "    </tr>\n",
       "    <tr>\n",
       "      <th>39</th>\n",
       "      <td>39</td>\n",
       "      <td>1</td>\n",
       "      <td>0.090090</td>\n",
       "    </tr>\n",
       "    <tr>\n",
       "      <th>103</th>\n",
       "      <td>103</td>\n",
       "      <td>1</td>\n",
       "      <td>0.090090</td>\n",
       "    </tr>\n",
       "    <tr>\n",
       "      <th>239</th>\n",
       "      <td>239</td>\n",
       "      <td>1</td>\n",
       "      <td>0.090090</td>\n",
       "    </tr>\n",
       "  </tbody>\n",
       "</table>\n",
       "</div>"
      ],
      "text/plain": [
       "      NumClaims  NumPolicies  Percentage\n",
       "Freq                                    \n",
       "0             0          707   63.693694\n",
       "1           209          209   18.828829\n",
       "2           172           86    7.747748\n",
       "3           120           40    3.603604\n",
       "4            72           18    1.621622\n",
       "5            60           12    1.081081\n",
       "6            54            9    0.810811\n",
       "7            28            4    0.360360\n",
       "8            48            6    0.540541\n",
       "9             9            1    0.090090\n",
       "10           30            3    0.270270\n",
       "11           22            2    0.180180\n",
       "13           13            1    0.090090\n",
       "14           28            2    0.180180\n",
       "15           15            1    0.090090\n",
       "16           32            2    0.180180\n",
       "17           17            1    0.090090\n",
       "18           18            1    0.090090\n",
       "19           19            1    0.090090\n",
       "30           30            1    0.090090\n",
       "39           39            1    0.090090\n",
       "103         103            1    0.090090\n",
       "239         239            1    0.090090"
      ]
     },
     "execution_count": 13,
     "metadata": {},
     "output_type": "execute_result"
    }
   ],
   "source": [
    "claimsFreqDist = pd.merge(Table1,claimsFreqDist, how = 'left', on = ['Year','Freq'])\n",
    "\n",
    "#claimsFreqDist\n",
    "\n",
    "claimsFreqDist.loc[(2010,slice(None))].sort_index(axis=1)"
   ]
  },
  {
   "cell_type": "code",
   "execution_count": 6,
   "id": "1a01f399",
   "metadata": {},
   "outputs": [],
   "source": [
    "#claimsFreqDist.loc[(2010,slice(None))].sort_index(axis=1)\n",
    "\n",
    "#claimsFreqDist.index\n",
    "#claimsFreqDist.loc[(slice(None),[1,2,5]),['Percentage','NumClaims'] ].head()"
   ]
  },
  {
   "cell_type": "markdown",
   "id": "3be683af",
   "metadata": {},
   "source": [
    "1.1. How many policyholders in the 2010 claims data have 9 or more claims?"
   ]
  },
  {
   "cell_type": "code",
   "execution_count": 58,
   "id": "9cb71150",
   "metadata": {},
   "outputs": [
    {
     "name": "stdout",
     "output_type": "stream",
     "text": [
      "Ans: The number of policyholders in the 2010 claims data having 9 or more claims is 19\n"
     ]
    }
   ],
   "source": [
    "# see for more detail: https://stackoverflow.com/questions/50608749/slicing-a-multiindex-dataframe-with-a-condition-based-on-the-index\n",
    "\n",
    "#l0 and l1 are Year and Freq levels, respectively.\n",
    "l0 = claimsFreqDist.index.get_level_values(0)\n",
    "l1 = claimsFreqDist.index.get_level_values(1)\n",
    "cond = (l0 == 2010) & (l1 >= 9)\n",
    "\n",
    "claimsFreqDist.loc[cond,'NumPolicies'].sum()\n",
    "\n",
    "ans1_1 = claimsFreqDist.loc[cond,'NumPolicies'].sum()\n",
    "\n",
    "print('Ans: The number of policyholders in the 2010 claims data having 9 or more claims is'\n",
    "      , ans1_1)"
   ]
  },
  {
   "cell_type": "code",
   "execution_count": 309,
   "id": "eb8585a0",
   "metadata": {},
   "outputs": [
    {
     "data": {
      "text/plain": [
       "19"
      ]
     },
     "execution_count": 309,
     "metadata": {},
     "output_type": "execute_result"
    }
   ],
   "source": [
    "# https://stackoverflow.com/questions/53927460/select-rows-in-pandas-multiindex-dataframe\n",
    "\n",
    "claimsFreqDist.query('Year == 2010 & Freq >= 9')['NumPolicies'].sum()"
   ]
  },
  {
   "cell_type": "markdown",
   "id": "e9dcaac5",
   "metadata": {},
   "source": [
    "1.2. What is the percentage proportion of policyholders having exactly 3 claims?"
   ]
  },
  {
   "cell_type": "code",
   "execution_count": 59,
   "id": "8023a982",
   "metadata": {},
   "outputs": [
    {
     "name": "stdout",
     "output_type": "stream",
     "text": [
      "Ans: The percentage proportion of policyholders having exactly 3 claims: 3.6036036036036037\n"
     ]
    }
   ],
   "source": [
    "claimsFreqDist.query('Year == 2010 & Freq == 3')['Percentage']\n",
    "\n",
    "ans1_2 = (claimsFreqDist.query('Year == 2010 & Freq == 3')['Percentage']).values[0]\n",
    "\n",
    "\n",
    "print('Ans: The percentage proportion of policyholders having exactly 3 claims:', ans1_2)"
   ]
  },
  {
   "cell_type": "markdown",
   "id": "e5b081bf",
   "metadata": {},
   "source": [
    "2. From those 403 policyholders who made at least one claim, create a table that provides information about the distribution of average claim amounts in year 2010.\n",
    "\n",
    "2.1. What is the mean of the average claim amounts?\n",
    "\n",
    "2.2. What is the third quartile of the average claim amounts?"
   ]
  },
  {
   "cell_type": "markdown",
   "id": "4c485cae",
   "metadata": {},
   "source": [
    "First, we add the column, namely `ClaimsAvg` representing the average cost per claim for each observation. The average cost per claim (or claim average) amount is calculated by dividing the number of claims  by the total claim amount."
   ]
  },
  {
   "cell_type": "code",
   "execution_count": 8,
   "id": "795a4f07",
   "metadata": {},
   "outputs": [],
   "source": [
    "claims['ClaimsAvg'] = claims['y']/claims['Freq']\n",
    "claims['ClaimsAvg'] = claims['ClaimsAvg'].fillna(0)\n",
    "#claims['ClaimsAvg']"
   ]
  },
  {
   "cell_type": "markdown",
   "id": "dd9edfa9",
   "metadata": {},
   "source": [
    "\n"
   ]
  },
  {
   "cell_type": "markdown",
   "id": "43f441a6",
   "metadata": {},
   "source": [
    "The information about the distribution of average claim amounts in year 2010 is given in the table below including count, mean, std, min, 25, 50, 75% percentiles and max."
   ]
  },
  {
   "cell_type": "code",
   "execution_count": 9,
   "id": "1e995296",
   "metadata": {},
   "outputs": [
    {
     "data": {
      "text/plain": [
       "count    4.030000e+02\n",
       "mean     5.633195e+04\n",
       "std      6.507344e+05\n",
       "min      1.666667e+02\n",
       "25%      2.225760e+03\n",
       "50%      4.951000e+03\n",
       "75%      1.190050e+04\n",
       "max      1.292222e+07\n",
       "Name: ClaimsAvg, dtype: float64"
      ]
     },
     "execution_count": 9,
     "metadata": {},
     "output_type": "execute_result"
    }
   ],
   "source": [
    "#claimsFreqDist.query('Year == 2010 & Freq >= 1')\n",
    "\n",
    "#claims[['Year','y','Freq']][0:10]\n",
    "#claims[(claims['Year']==2010) &  (claims['Freq'] >= 1)]['y'].describe()\n",
    "claims[(claims['Year']==2010) &  (claims['Freq'] >= 1)]['ClaimsAvg'].describe()"
   ]
  },
  {
   "cell_type": "markdown",
   "id": "8658fe94",
   "metadata": {},
   "source": [
    "2.1. What is the mean of the average claim amounts?"
   ]
  },
  {
   "cell_type": "code",
   "execution_count": 57,
   "id": "d4c0048e",
   "metadata": {},
   "outputs": [
    {
     "name": "stdout",
     "output_type": "stream",
     "text": [
      "Ans: The mean of the average claim amounts:  56331.94660006498\n"
     ]
    }
   ],
   "source": [
    "# the mean of the average claim amounts\n",
    "\n",
    "(claims[(claims['Year']==2010) &  (claims['Freq'] >= 1)]['ClaimsAvg']).mean()\n",
    "\n",
    "ans2_1 = (claims[(claims['Year']==2010) &  (claims['Freq'] >= 1)]['ClaimsAvg']).mean()\n",
    "\n",
    "print('Ans: The mean of the average claim amounts: ', ans2_1)"
   ]
  },
  {
   "cell_type": "markdown",
   "id": "358a8bd3",
   "metadata": {},
   "source": [
    "2.2 What is the third quartile of the average claim amounts?"
   ]
  },
  {
   "cell_type": "code",
   "execution_count": 60,
   "id": "19ee7ae5",
   "metadata": {},
   "outputs": [
    {
     "name": "stdout",
     "output_type": "stream",
     "text": [
      "Ans: the third quartile of the average claim amounts: 11900.5\n"
     ]
    }
   ],
   "source": [
    "# the third quartile of the average claim amounts\n",
    "(claims[(claims['Year']==2010) &  (claims['Freq'] >= 1)]['ClaimsAvg']).quantile(q = 0.75)\n",
    "\n",
    "ans2_2 = (claims[(claims['Year']==2010) &  (claims['Freq'] >= 1)]['ClaimsAvg']).quantile(q = 0.75)\n",
    "\n",
    "print('Ans: the third quartile of the average claim amounts:', ans2_2)"
   ]
  },
  {
   "cell_type": "code",
   "execution_count": 61,
   "id": "c71e136d",
   "metadata": {},
   "outputs": [],
   "source": [
    "# the mean of the average claim amounts\n",
    "\n",
    "# (claims[(claims['Year']==2010) &  (claims['Freq'] >= 1)]['yAvg']).mean()"
   ]
  },
  {
   "cell_type": "code",
   "execution_count": 62,
   "id": "bf13211b",
   "metadata": {},
   "outputs": [],
   "source": [
    "# the third quartile of the average claim amounts\n",
    "# (claims[(claims['Year']==2010) &  (claims['Freq'] >= 1)]['yAvg']).quantile(q = 0.75)"
   ]
  },
  {
   "cell_type": "markdown",
   "id": "c7d3f6f1",
   "metadata": {},
   "source": [
    "3. Consider the claims data over the 5 years between 2006-2010 inclusive. Create a table that show the average claim varies over time, average frequency, average coverage and the number of policyholders. \n",
    "\n",
    "3.1 What can you say about the number of policyholders over this period?\n",
    "\n",
    "3.2 How does the average coverage change over this period?"
   ]
  },
  {
   "cell_type": "code",
   "execution_count": 425,
   "id": "4948f56a",
   "metadata": {},
   "outputs": [
    {
     "data": {
      "text/plain": [
       "Index(['PolicyNum', 'Year', 'LnCoverage', 'BCcov', 'Premium', 'Freq', 'Deduct',\n",
       "       'y', 'lny', 'yAvg', 'lnDeduct', 'Fire5', 'NoClaimCredit', 'TypeCity',\n",
       "       'TypeCounty', 'TypeMisc', 'TypeSchool', 'TypeTown', 'TypeVillage',\n",
       "       'AC00', 'AC05', 'AC10', 'AC15', 'ClaimsAvg'],\n",
       "      dtype='object')"
      ]
     },
     "execution_count": 425,
     "metadata": {},
     "output_type": "execute_result"
    }
   ],
   "source": [
    "claims.columns"
   ]
  },
  {
   "cell_type": "code",
   "execution_count": 434,
   "id": "0e91c9e4",
   "metadata": {},
   "outputs": [
    {
     "data": {
      "text/html": [
       "<div>\n",
       "<style scoped>\n",
       "    .dataframe tbody tr th:only-of-type {\n",
       "        vertical-align: middle;\n",
       "    }\n",
       "\n",
       "    .dataframe tbody tr th {\n",
       "        vertical-align: top;\n",
       "    }\n",
       "\n",
       "    .dataframe thead th {\n",
       "        text-align: right;\n",
       "    }\n",
       "</style>\n",
       "<table border=\"1\" class=\"dataframe\">\n",
       "  <thead>\n",
       "    <tr style=\"text-align: right;\">\n",
       "      <th></th>\n",
       "      <th>Freq</th>\n",
       "      <th>ClaimsAvg</th>\n",
       "      <th>BCcov</th>\n",
       "      <th>PolicyNum</th>\n",
       "    </tr>\n",
       "    <tr>\n",
       "      <th>Year</th>\n",
       "      <th></th>\n",
       "      <th></th>\n",
       "      <th></th>\n",
       "      <th></th>\n",
       "    </tr>\n",
       "  </thead>\n",
       "  <tbody>\n",
       "    <tr>\n",
       "      <th>2006</th>\n",
       "      <td>0.951473</td>\n",
       "      <td>9694.992379</td>\n",
       "      <td>3.249819e+07</td>\n",
       "      <td>1154</td>\n",
       "    </tr>\n",
       "    <tr>\n",
       "      <th>2007</th>\n",
       "      <td>1.166960</td>\n",
       "      <td>6543.947626</td>\n",
       "      <td>3.527595e+07</td>\n",
       "      <td>1138</td>\n",
       "    </tr>\n",
       "    <tr>\n",
       "      <th>2008</th>\n",
       "      <td>0.974222</td>\n",
       "      <td>5310.505387</td>\n",
       "      <td>3.726748e+07</td>\n",
       "      <td>1125</td>\n",
       "    </tr>\n",
       "    <tr>\n",
       "      <th>2009</th>\n",
       "      <td>1.219424</td>\n",
       "      <td>4571.949986</td>\n",
       "      <td>4.035538e+07</td>\n",
       "      <td>1112</td>\n",
       "    </tr>\n",
       "    <tr>\n",
       "      <th>2010</th>\n",
       "      <td>1.240541</td>\n",
       "      <td>20452.049081</td>\n",
       "      <td>4.124207e+07</td>\n",
       "      <td>1110</td>\n",
       "    </tr>\n",
       "  </tbody>\n",
       "</table>\n",
       "</div>"
      ],
      "text/plain": [
       "          Freq     ClaimsAvg         BCcov  PolicyNum\n",
       "Year                                                 \n",
       "2006  0.951473   9694.992379  3.249819e+07       1154\n",
       "2007  1.166960   6543.947626  3.527595e+07       1138\n",
       "2008  0.974222   5310.505387  3.726748e+07       1125\n",
       "2009  1.219424   4571.949986  4.035538e+07       1112\n",
       "2010  1.240541  20452.049081  4.124207e+07       1110"
      ]
     },
     "execution_count": 434,
     "metadata": {},
     "output_type": "execute_result"
    }
   ],
   "source": [
    "claims.groupby('Year').agg({'Freq':'mean', 'ClaimsAvg':'mean', 'BCcov':'mean', 'PolicyNum':'count' })"
   ]
  },
  {
   "cell_type": "code",
   "execution_count": 63,
   "id": "b4abefce",
   "metadata": {},
   "outputs": [],
   "source": [
    "# claims.groupby('Year').agg({'Freq':'mean', 'yAvg':'mean', 'BCcov':'mean', 'PolicyNum':'count' })"
   ]
  },
  {
   "cell_type": "markdown",
   "id": "ce147d3d",
   "metadata": {},
   "source": [
    "## Conclusion\n",
    "\n",
    "1. The table shows that the average claim varies over time, especially with the high 2010 value (that we saw was due to a single large claim).\n",
    "\n",
    "2. The total number of policyholders is steadily declining and, conversely, the coverage is steadily increasing (**Answers of Questions 3.1 and 3.2**).\n",
    "\n",
    "3. The coverage variable is the amount of coverage of the property and contents. Roughly, you can think of it as the maximum possible payout of the insurer."
   ]
  },
  {
   "cell_type": "markdown",
   "id": "6463704b",
   "metadata": {},
   "source": [
    "Ans: \n",
    "\n",
    "3.1 The total number of policyholders is steadily declining and, conversely, \n",
    "\n",
    "3.2 the coverage is steadily increasing."
   ]
  },
  {
   "cell_type": "code",
   "execution_count": null,
   "id": "2e9deabd",
   "metadata": {},
   "outputs": [],
   "source": []
  }
 ],
 "metadata": {
  "kernelspec": {
   "display_name": "Python 3 (ipykernel)",
   "language": "python",
   "name": "python3"
  },
  "language_info": {
   "codemirror_mode": {
    "name": "ipython",
    "version": 3
   },
   "file_extension": ".py",
   "mimetype": "text/x-python",
   "name": "python",
   "nbconvert_exporter": "python",
   "pygments_lexer": "ipython3",
   "version": "3.7.11"
  }
 },
 "nbformat": 4,
 "nbformat_minor": 5
}
