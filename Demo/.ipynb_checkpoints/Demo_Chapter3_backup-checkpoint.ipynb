{
 "cells": [
  {
   "cell_type": "code",
   "execution_count": 2,
   "id": "6e579e46",
   "metadata": {},
   "outputs": [
    {
     "data": {
      "text/plain": [
       "PosixPath('/Users/Kaemyuijang/SCMA248')"
      ]
     },
     "execution_count": 2,
     "metadata": {},
     "output_type": "execute_result"
    }
   ],
   "source": [
    "import pathlib\n",
    "pathlib.Path().resolve()"
   ]
  },
  {
   "cell_type": "code",
   "execution_count": 12,
   "id": "b07a6364",
   "metadata": {},
   "outputs": [],
   "source": [
    "import pandas as pd"
   ]
  },
  {
   "cell_type": "code",
   "execution_count": null,
   "id": "7307529d",
   "metadata": {},
   "outputs": [],
   "source": [
    "# pip install pyreadr"
   ]
  },
  {
   "cell_type": "code",
   "execution_count": 13,
   "id": "0afd8505",
   "metadata": {},
   "outputs": [],
   "source": [
    "import pyreadr"
   ]
  },
  {
   "cell_type": "code",
   "execution_count": 24,
   "id": "eac56153",
   "metadata": {},
   "outputs": [
    {
     "name": "stdout",
     "output_type": "stream",
     "text": [
      "odict_keys(['df1', 'df2', 'char'])\n"
     ]
    }
   ],
   "source": [
    "result = pyreadr.read_r('/Users/Kaemyuijang/Documents/Github/pyreadr-master/test_data/basic/two.RData')\n",
    "# done! let's see what we got\n",
    "print(result.keys()) # let's check what objects we got\n",
    "df1 = result[\"df1\"] # extract the pandas data frame for object df1\n",
    "\n"
   ]
  },
  {
   "cell_type": "code",
   "execution_count": 25,
   "id": "02f8254c",
   "metadata": {},
   "outputs": [
    {
     "name": "stdout",
     "output_type": "stream",
     "text": [
      "odict_keys(['df1', 'df2', 'char'])\n"
     ]
    }
   ],
   "source": [
    "print(result.keys())"
   ]
  },
  {
   "cell_type": "code",
   "execution_count": 22,
   "id": "928592d1",
   "metadata": {},
   "outputs": [
    {
     "name": "stdout",
     "output_type": "stream",
     "text": [
      "odict_keys([None])\n"
     ]
    }
   ],
   "source": [
    "import pyreadr\n",
    "\n",
    "result = pyreadr.read_r('/Users/Kaemyuijang/Documents/Github/pyreadr-master/test_data/basic/one.Rds')\n",
    "\n",
    "# done! let's see what we got\n",
    "print(result.keys()) # let's check what objects we got: there is only None\n",
    "df1 = result[None] # extract the pandas data frame for the only object available"
   ]
  },
  {
   "cell_type": "code",
   "execution_count": 23,
   "id": "50ea07e1",
   "metadata": {},
   "outputs": [
    {
     "data": {
      "text/plain": [
       "array([[1.0, 1, 'a', 'james', True, Timestamp('2017-02-03 08:00:01'),\n",
       "        Timestamp('2017-02-03 08:00:01')],\n",
       "       [2.0, 2, 'b', 'cecil', True, Timestamp('2017-02-03 08:00:02'),\n",
       "        Timestamp('2017-02-03 08:00:02')],\n",
       "       [3.0, 3, 'c', 'zoe', False, Timestamp('2017-02-03 08:00:03'),\n",
       "        Timestamp('2017-02-03 08:00:03')],\n",
       "       [inf, nan, 'a', 'amber', True, NaT, NaT],\n",
       "       [nan, nan, '', nan, False, NaT, NaT],\n",
       "       [nan, nan, nan, 'rob', nan, NaT, NaT]], dtype=object)"
      ]
     },
     "execution_count": 23,
     "metadata": {},
     "output_type": "execute_result"
    }
   ],
   "source": [
    "df1.values"
   ]
  },
  {
   "cell_type": "code",
   "execution_count": 5,
   "id": "1794c6a1",
   "metadata": {},
   "outputs": [
    {
     "name": "stdout",
     "output_type": "stream",
     "text": [
      "pandas==1.3.4\n",
      "pyreadr==0.4.4\n"
     ]
    }
   ],
   "source": [
    "print('\\n'.join(f'{m.__name__}=={m.__version__}' for m in globals().values() if getattr(m, '__version__', None)))"
   ]
  },
  {
   "cell_type": "code",
   "execution_count": 36,
   "id": "cd241808",
   "metadata": {},
   "outputs": [],
   "source": [
    "result = pyreadr.read_r('~/Documents/Github/pyreadr-master/test_data/basic/myData.RData') # also works for Rds, rda\n"
   ]
  },
  {
   "cell_type": "code",
   "execution_count": 37,
   "id": "dcc47b0f",
   "metadata": {},
   "outputs": [
    {
     "name": "stdout",
     "output_type": "stream",
     "text": [
      "odict_keys(['char', '.Random.seed', 'mydata', 'freMTPL2freq', 'df1', 'df2'])\n"
     ]
    }
   ],
   "source": [
    "print(result.keys())\n"
   ]
  },
  {
   "cell_type": "code",
   "execution_count": 40,
   "id": "72f1d54c",
   "metadata": {},
   "outputs": [],
   "source": [
    "fre = result['freMTPL2freq']"
   ]
  },
  {
   "cell_type": "code",
   "execution_count": 42,
   "id": "5632fda6",
   "metadata": {},
   "outputs": [
    {
     "data": {
      "text/plain": [
       "pandas.core.frame.DataFrame"
      ]
     },
     "execution_count": 42,
     "metadata": {},
     "output_type": "execute_result"
    }
   ],
   "source": [
    "type(fre)"
   ]
  },
  {
   "cell_type": "code",
   "execution_count": 48,
   "id": "f351dbb1",
   "metadata": {},
   "outputs": [
    {
     "data": {
      "text/plain": [
       "<rpy2.robjects.functions.SignatureTranslatedFunction object at 0x135c57690> [RTYPES.CLOSXP]\n",
       "R classes: ('function',)"
      ]
     },
     "execution_count": 48,
     "metadata": {},
     "output_type": "execute_result"
    }
   ],
   "source": [
    "import rpy2.robjects as robjects\n",
    "import numpy as np\n",
    "from rpy2.robjects import pandas2ri\n",
    "pandas2ri.activate()\n",
    "\n",
    "# load your file\n",
    "robjects.r['load']('/Users/Kaemyuijang/Documents/SCMA/SCMA248/Datasets/CASdatasets/data/freMTPL2freq.rda')\n",
    "\n",
    "matrix = robjects.r['data']\n",
    "\n",
    "matrix"
   ]
  },
  {
   "cell_type": "code",
   "execution_count": null,
   "id": "8973fefc",
   "metadata": {},
   "outputs": [],
   "source": [
    "from rpy2.robjects import r, pandas2ri\n",
    "pandas2ri.activate()\n",
    "\n",
    "r.data('/Users/Kaemyuijang/Documents/SCMA/SCMA248/Datasets/CASdatasets/data/freMTPL2freq.rda')"
   ]
  },
  {
   "cell_type": "code",
   "execution_count": null,
   "id": "58bd1a8c",
   "metadata": {},
   "outputs": [],
   "source": [
    "r['freMTPL2freq'].head()"
   ]
  },
  {
   "cell_type": "code",
   "execution_count": 45,
   "id": "cc26be6e",
   "metadata": {},
   "outputs": [],
   "source": [
    "# pip install rpy2"
   ]
  },
  {
   "cell_type": "code",
   "execution_count": 49,
   "id": "9ac7c706",
   "metadata": {},
   "outputs": [],
   "source": [
    "import os\n",
    "os.environ['R_HOME'] = \"/Library/Frameworks/R.framework/Versions/4.1/Resources\""
   ]
  },
  {
   "cell_type": "code",
   "execution_count": 40,
   "id": "4a276b07",
   "metadata": {},
   "outputs": [
    {
     "ename": "ModuleNotFoundError",
     "evalue": "No module named 'robjects'",
     "output_type": "error",
     "traceback": [
      "\u001b[0;31m---------------------------------------------------------------------------\u001b[0m",
      "\u001b[0;31mModuleNotFoundError\u001b[0m                       Traceback (most recent call last)",
      "\u001b[0;32m/var/folders/kl/h_r05n_j76n32kt0dwy7kynw0000gn/T/ipykernel_2072/2286736530.py\u001b[0m in \u001b[0;36m<module>\u001b[0;34m\u001b[0m\n\u001b[0;32m----> 1\u001b[0;31m \u001b[0;32mimport\u001b[0m \u001b[0mrpy2\u001b[0m\u001b[0;34m.\u001b[0m\u001b[0mrobjects\u001b[0m \u001b[0;32mas\u001b[0m \u001b[0mr\u001b[0m\u001b[0;34m,\u001b[0m \u001b[0mrobjects\u001b[0m\u001b[0;34m\u001b[0m\u001b[0;34m\u001b[0m\u001b[0m\n\u001b[0m\u001b[1;32m      2\u001b[0m \u001b[0;32mfrom\u001b[0m \u001b[0mrpy2\u001b[0m\u001b[0;34m.\u001b[0m\u001b[0mrobjects\u001b[0m \u001b[0;32mimport\u001b[0m \u001b[0mpandas2ri\u001b[0m\u001b[0;34m\u001b[0m\u001b[0;34m\u001b[0m\u001b[0m\n\u001b[1;32m      3\u001b[0m \u001b[0;32mfrom\u001b[0m \u001b[0mrpy2\u001b[0m\u001b[0;34m.\u001b[0m\u001b[0mrobjects\u001b[0m\u001b[0;34m.\u001b[0m\u001b[0mpackages\u001b[0m \u001b[0;32mimport\u001b[0m \u001b[0mimportr\u001b[0m\u001b[0;34m\u001b[0m\u001b[0;34m\u001b[0m\u001b[0m\n\u001b[1;32m      4\u001b[0m \u001b[0;34m\u001b[0m\u001b[0m\n\u001b[1;32m      5\u001b[0m \u001b[0mpandas2ri\u001b[0m\u001b[0;34m.\u001b[0m\u001b[0mactivate\u001b[0m\u001b[0;34m(\u001b[0m\u001b[0;34m)\u001b[0m\u001b[0;34m\u001b[0m\u001b[0;34m\u001b[0m\u001b[0m\n",
      "\u001b[0;31mModuleNotFoundError\u001b[0m: No module named 'robjects'"
     ]
    }
   ],
   "source": [
    "import rpy2.robjects as r, robjects\n",
    "from rpy2.robjects import pandas2ri    \n",
    "from rpy2.robjects.packages import importr\n",
    "\n",
    "pandas2ri.activate()\n",
    "\n",
    "base = importr('base')\n",
    "base.load(\"/Users/Kaemyuijang/Documents/SCMA/SCMA248/Datasets/CASdatasets/data/freMTPL2freq.rda\") \n",
    "rdf_List = base.mget(base.ls())\n",
    "\n",
    "# ITERATE THROUGH LIST OF R DFs \n",
    "pydf_dict = {}\n",
    "\n",
    "for i,f in enumerate(base.names(rdf_List)):\n",
    "    pydf_dict[f] = pandas2ri.ri2py_vector(rdf_List[i])\n",
    "\n",
    "for k,v in pydf_dict.items():\n",
    "    print(v.head())"
   ]
  },
  {
   "cell_type": "code",
   "execution_count": 22,
   "id": "49fae130",
   "metadata": {},
   "outputs": [
    {
     "data": {
      "text/plain": [
       "module"
      ]
     },
     "execution_count": 22,
     "metadata": {},
     "output_type": "execute_result"
    }
   ],
   "source": [
    "pandas2ri.ri2py_vector"
   ]
  },
  {
   "cell_type": "code",
   "execution_count": null,
   "id": "235be8b1",
   "metadata": {},
   "outputs": [],
   "source": [
    "pandas2ri.rpy2py_dataframe"
   ]
  }
 ],
 "metadata": {
  "kernelspec": {
   "display_name": "Python 3 (ipykernel)",
   "language": "python",
   "name": "python3"
  },
  "language_info": {
   "codemirror_mode": {
    "name": "ipython",
    "version": 3
   },
   "file_extension": ".py",
   "mimetype": "text/x-python",
   "name": "python",
   "nbconvert_exporter": "python",
   "pygments_lexer": "ipython3",
   "version": "3.7.11"
  }
 },
 "nbformat": 4,
 "nbformat_minor": 5
}
