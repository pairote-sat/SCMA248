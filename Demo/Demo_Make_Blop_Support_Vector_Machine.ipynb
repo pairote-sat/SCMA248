{
 "cells": [
  {
   "cell_type": "code",
   "execution_count": 5,
   "id": "4c966d09",
   "metadata": {},
   "outputs": [],
   "source": [
    "from mlxtend.plotting import plot_decision_regions\n",
    "import matplotlib.pyplot as plt\n",
    "from sklearn import datasets\n",
    "from sklearn.svm import SVC\n",
    "\n",
    "import pandas as pd\n",
    "\n",
    "\n",
    "# Loading some example data\n",
    "X, y = datasets.make_blobs(n_samples=500, n_features=3, centers=[[2, 2, -2],[-2, -2, 2]],\n",
    "                           cluster_std=[2, 2], random_state=2)"
   ]
  },
  {
   "cell_type": "code",
   "execution_count": 29,
   "id": "227e888e",
   "metadata": {},
   "outputs": [
    {
     "name": "stdout",
     "output_type": "stream",
     "text": [
      "[[-1.78293305 -0.56264543  3.32000103]\n",
      " [-1.12705668 -0.11292487  3.03821111]\n",
      " [ 1.90444572  3.83444096  0.5516538 ]\n",
      " ...\n",
      " [-3.56123278 -2.80205379  2.96796493]\n",
      " [-5.35404282 -3.49805233 -3.02875742]\n",
      " [-1.30168475 -1.23890228 -1.20462849]]\n",
      "[1 1 0 1 0 0 0 1 0 0 1 0 0 0 1 0 0 0 0 1 1 0 0 1 1 1 1 0 1 1 1 0 1 0 1 0 1\n",
      " 1 0 0 0 1 1 1 0 1 1 0 1 0 1 1 1 1 0 1 0 0 1 0 1 1 0 0 1 0 0 1 0 0 1 0 1 1\n",
      " 0 0 0 1 0 0 0 1 0 1 0 1 0 1 1 0 0 0 1 0 0 1 0 1 1 0 0 1 1 1 1 1 1 0 1 1 1\n",
      " 1 0 1 1 1 1 1 0 0 0 0 0 0 1 1 1 1 0 0 0 1 0 0 0 0 0 0 0 0 1 1 0 0 1 0 0 1\n",
      " 0 0 1 1 1 1 0 0 0 0 0 0 1 0 0 0 1 0 1 1 0 0 1 1 1 1 0 1 1 0 1 0 0 1 0 0 0\n",
      " 1 1 1 1 0 0 0 0 0 1 0 0 0 0 1 0 0 1 0 1 0 0 0 1 0 0 1 1 1 0 1 0 0 0 0 1 0\n",
      " 1 1 1 0 0 1 1 1 0 1 0 0 1 0 0 1 1 0 1 1 0 1 0 0 0 0 1 1 0 0 1 1 0 0 0 1 0\n",
      " 0 1 0 1 0 0 0 1 1 1 1 0 1 0 1 1 0 0 0 0 0 1 1 0 1 0 0 1 1 0 1 1 0 1 1 0 1\n",
      " 0 1 0 1 0 0 1 0 0 0 0 0 1 1 1 0 1 1 1 0 0 1 1 1 0 0 1 0 0 1 0 0 1 0 0 1 0\n",
      " 0 1 1 1 1 0 0 0 0 0 0 0 1 1 1 1 0 1 0 0 1 0 0 1 0 1 1 0 0 0 0 1 1 1 1 1 0\n",
      " 1 1 1 0 1 1 0 1 1 0 0 0 0 0 0 1 1 1 1 1 0 0 1 1 1 0 0 1 1 1 1 1 0 0 1 1 0\n",
      " 0 1 0 1 0 1 1 0 1 0 0 1 0 1 1 0 1 1 0 0 1 1 1 1 1 0 1 0 0 1 0 0 1 0 1 1 1\n",
      " 1 1 0 0 0 1 0 0 0 0 1 0 1 1 0 0 1 0 1 1 0 1 0 0 1 0 1 0 0 1 0 1 1 1 1 1 1\n",
      " 1 1 0 1 0 1 0 1 0 1 1 0 1 1 0 0 0 1 0 1 0 1 1 1 0 0 1 1 0 1 1 0 1 0 1 0 0\n",
      " 1 0 1 0 1 1 0 0 0 1 1 1 0 0 0 1 0 1 1 1 1 0 1 1 0 0 0 0 1 0 1 1 1 0 0 1 0\n",
      " 1 1 1 0 0 0 0 1 1 1 1 1 1 0 0 1 1 1 0 1 1 0 0 1 0 0 0 1 1 1 0 1 1 0 0 0 0\n",
      " 1 0 1 1 0 1 1 1]\n"
     ]
    }
   ],
   "source": [
    "print(X)\n",
    "print(y)"
   ]
  },
  {
   "cell_type": "code",
   "execution_count": 6,
   "id": "c65446c0",
   "metadata": {},
   "outputs": [],
   "source": [
    "df = pd.DataFrame(X, columns = ['Column_A','Column_B','Column_C'])\n"
   ]
  },
  {
   "cell_type": "code",
   "execution_count": 11,
   "id": "9b126cd9",
   "metadata": {},
   "outputs": [
    {
     "name": "stdout",
     "output_type": "stream",
     "text": [
      "<class 'pandas.core.frame.DataFrame'>\n",
      "RangeIndex: 500 entries, 0 to 499\n",
      "Data columns (total 3 columns):\n",
      " #   Column    Non-Null Count  Dtype  \n",
      "---  ------    --------------  -----  \n",
      " 0   Column_A  500 non-null    float64\n",
      " 1   Column_B  500 non-null    float64\n",
      " 2   Column_C  500 non-null    float64\n",
      "dtypes: float64(3)\n",
      "memory usage: 11.8 KB\n"
     ]
    }
   ],
   "source": [
    "df.info()"
   ]
  },
  {
   "cell_type": "code",
   "execution_count": 7,
   "id": "703c8b2d",
   "metadata": {},
   "outputs": [
    {
     "data": {
      "text/html": [
       "<div>\n",
       "<style scoped>\n",
       "    .dataframe tbody tr th:only-of-type {\n",
       "        vertical-align: middle;\n",
       "    }\n",
       "\n",
       "    .dataframe tbody tr th {\n",
       "        vertical-align: top;\n",
       "    }\n",
       "\n",
       "    .dataframe thead th {\n",
       "        text-align: right;\n",
       "    }\n",
       "</style>\n",
       "<table border=\"1\" class=\"dataframe\">\n",
       "  <thead>\n",
       "    <tr style=\"text-align: right;\">\n",
       "      <th></th>\n",
       "      <th>Column_A</th>\n",
       "      <th>Column_B</th>\n",
       "      <th>Column_C</th>\n",
       "    </tr>\n",
       "  </thead>\n",
       "  <tbody>\n",
       "    <tr>\n",
       "      <th>0</th>\n",
       "      <td>2.117040</td>\n",
       "      <td>2.753092</td>\n",
       "      <td>-2.270960</td>\n",
       "    </tr>\n",
       "    <tr>\n",
       "      <th>1</th>\n",
       "      <td>1.485750</td>\n",
       "      <td>1.726043</td>\n",
       "      <td>2.324925</td>\n",
       "    </tr>\n",
       "    <tr>\n",
       "      <th>2</th>\n",
       "      <td>-2.893333</td>\n",
       "      <td>-1.979647</td>\n",
       "      <td>1.697220</td>\n",
       "    </tr>\n",
       "    <tr>\n",
       "      <th>3</th>\n",
       "      <td>3.358534</td>\n",
       "      <td>1.964679</td>\n",
       "      <td>-1.527918</td>\n",
       "    </tr>\n",
       "    <tr>\n",
       "      <th>4</th>\n",
       "      <td>0.547112</td>\n",
       "      <td>0.809976</td>\n",
       "      <td>1.553799</td>\n",
       "    </tr>\n",
       "  </tbody>\n",
       "</table>\n",
       "</div>"
      ],
      "text/plain": [
       "   Column_A  Column_B  Column_C\n",
       "0  2.117040  2.753092 -2.270960\n",
       "1  1.485750  1.726043  2.324925\n",
       "2 -2.893333 -1.979647  1.697220\n",
       "3  3.358534  1.964679 -1.527918\n",
       "4  0.547112  0.809976  1.553799"
      ]
     },
     "execution_count": 7,
     "metadata": {},
     "output_type": "execute_result"
    }
   ],
   "source": [
    "df.head()"
   ]
  },
  {
   "cell_type": "code",
   "execution_count": 8,
   "id": "506770ea",
   "metadata": {},
   "outputs": [
    {
     "data": {
      "text/html": [
       "<div>\n",
       "<style scoped>\n",
       "    .dataframe tbody tr th:only-of-type {\n",
       "        vertical-align: middle;\n",
       "    }\n",
       "\n",
       "    .dataframe tbody tr th {\n",
       "        vertical-align: top;\n",
       "    }\n",
       "\n",
       "    .dataframe thead th {\n",
       "        text-align: right;\n",
       "    }\n",
       "</style>\n",
       "<table border=\"1\" class=\"dataframe\">\n",
       "  <thead>\n",
       "    <tr style=\"text-align: right;\">\n",
       "      <th></th>\n",
       "      <th>Column_A</th>\n",
       "      <th>Column_B</th>\n",
       "      <th>Column_C</th>\n",
       "    </tr>\n",
       "  </thead>\n",
       "  <tbody>\n",
       "    <tr>\n",
       "      <th>count</th>\n",
       "      <td>500.000000</td>\n",
       "      <td>500.000000</td>\n",
       "      <td>500.000000</td>\n",
       "    </tr>\n",
       "    <tr>\n",
       "      <th>mean</th>\n",
       "      <td>-0.121473</td>\n",
       "      <td>-0.100377</td>\n",
       "      <td>-0.006714</td>\n",
       "    </tr>\n",
       "    <tr>\n",
       "      <th>std</th>\n",
       "      <td>2.831497</td>\n",
       "      <td>2.795274</td>\n",
       "      <td>2.922949</td>\n",
       "    </tr>\n",
       "    <tr>\n",
       "      <th>min</th>\n",
       "      <td>-8.653740</td>\n",
       "      <td>-6.622297</td>\n",
       "      <td>-7.030879</td>\n",
       "    </tr>\n",
       "    <tr>\n",
       "      <th>25%</th>\n",
       "      <td>-2.283926</td>\n",
       "      <td>-2.212662</td>\n",
       "      <td>-2.169094</td>\n",
       "    </tr>\n",
       "    <tr>\n",
       "      <th>50%</th>\n",
       "      <td>-0.111677</td>\n",
       "      <td>-0.126294</td>\n",
       "      <td>0.046902</td>\n",
       "    </tr>\n",
       "    <tr>\n",
       "      <th>75%</th>\n",
       "      <td>1.877997</td>\n",
       "      <td>1.986583</td>\n",
       "      <td>2.362219</td>\n",
       "    </tr>\n",
       "    <tr>\n",
       "      <th>max</th>\n",
       "      <td>10.217385</td>\n",
       "      <td>7.100876</td>\n",
       "      <td>8.383802</td>\n",
       "    </tr>\n",
       "  </tbody>\n",
       "</table>\n",
       "</div>"
      ],
      "text/plain": [
       "         Column_A    Column_B    Column_C\n",
       "count  500.000000  500.000000  500.000000\n",
       "mean    -0.121473   -0.100377   -0.006714\n",
       "std      2.831497    2.795274    2.922949\n",
       "min     -8.653740   -6.622297   -7.030879\n",
       "25%     -2.283926   -2.212662   -2.169094\n",
       "50%     -0.111677   -0.126294    0.046902\n",
       "75%      1.877997    1.986583    2.362219\n",
       "max     10.217385    7.100876    8.383802"
      ]
     },
     "execution_count": 8,
     "metadata": {},
     "output_type": "execute_result"
    }
   ],
   "source": [
    "df.describe()"
   ]
  },
  {
   "cell_type": "code",
   "execution_count": 27,
   "id": "62b21eb4",
   "metadata": {},
   "outputs": [
    {
     "data": {
      "image/png": "[encoded data removed]",
      "text/plain": [
       "<Figure size 432x288 with 1 Axes>"
      ]
     },
     "metadata": {
      "needs_background": "light"
     },
     "output_type": "display_data"
    }
   ],
   "source": [
    "# Loading some example data\n",
    "X, y = datasets.make_blobs(n_samples=600, n_features=3,\n",
    "                           centers=[[2, 2, -2],[-2, -2, 2]],\n",
    "                           cluster_std=[2, 2], random_state=2)\n",
    "\n",
    "# Training a classifier\n",
    "svm = SVC(gamma='auto')\n",
    "svm.fit(X, y)\n",
    "\n",
    "# Plotting decision regions\n",
    "fig, ax = plt.subplots()\n",
    "# Decision region for feature 3 = 1.5\n",
    "value = 1.5\n",
    "# Plot training sample with feature 3 = 1.5 +/- 0.75\n",
    "width = 0.02\n",
    "plot_decision_regions(X, y, clf=svm,\n",
    "                      filler_feature_values={2: value},\n",
    "                      filler_feature_ranges={2: width},\n",
    "                      legend=2, ax=ax)\n",
    "ax.set_xlabel('Feature 1')\n",
    "ax.set_ylabel('Feature 2')\n",
    "ax.set_title('Feature 3 = {}'.format(value))\n",
    "\n",
    "# Adding axes annotations\n",
    "fig.suptitle('SVM on make_blobs')\n",
    "plt.show()"
   ]
  },
  {
   "cell_type": "code",
   "execution_count": 28,
   "id": "73e73192",
   "metadata": {},
   "outputs": [
    {
     "data": {
      "text/html": [
       "<div>\n",
       "<style scoped>\n",
       "    .dataframe tbody tr th:only-of-type {\n",
       "        vertical-align: middle;\n",
       "    }\n",
       "\n",
       "    .dataframe tbody tr th {\n",
       "        vertical-align: top;\n",
       "    }\n",
       "\n",
       "    .dataframe thead th {\n",
       "        text-align: right;\n",
       "    }\n",
       "</style>\n",
       "<table border=\"1\" class=\"dataframe\">\n",
       "  <thead>\n",
       "    <tr style=\"text-align: right;\">\n",
       "      <th></th>\n",
       "      <th>Column_A</th>\n",
       "      <th>Column_B</th>\n",
       "      <th>Column_C</th>\n",
       "    </tr>\n",
       "  </thead>\n",
       "  <tbody>\n",
       "    <tr>\n",
       "      <th>189</th>\n",
       "      <td>0.026586</td>\n",
       "      <td>1.515462</td>\n",
       "      <td>-0.185333</td>\n",
       "    </tr>\n",
       "    <tr>\n",
       "      <th>196</th>\n",
       "      <td>0.497250</td>\n",
       "      <td>1.503713</td>\n",
       "      <td>-1.812856</td>\n",
       "    </tr>\n",
       "    <tr>\n",
       "      <th>93</th>\n",
       "      <td>0.985852</td>\n",
       "      <td>1.483901</td>\n",
       "      <td>-3.871738</td>\n",
       "    </tr>\n",
       "    <tr>\n",
       "      <th>9</th>\n",
       "      <td>4.311061</td>\n",
       "      <td>1.490939</td>\n",
       "      <td>-0.962150</td>\n",
       "    </tr>\n",
       "  </tbody>\n",
       "</table>\n",
       "</div>"
      ],
      "text/plain": [
       "     Column_A  Column_B  Column_C\n",
       "189  0.026586  1.515462 -0.185333\n",
       "196  0.497250  1.503713 -1.812856\n",
       "93   0.985852  1.483901 -3.871738\n",
       "9    4.311061  1.490939 -0.962150"
      ]
     },
     "execution_count": 28,
     "metadata": {},
     "output_type": "execute_result"
    }
   ],
   "source": [
    "df[(df.Column_B < 1.52) & (df.Column_B > 1.48)].sort_values(by='Column_A')"
   ]
  },
  {
   "cell_type": "code",
   "execution_count": 10,
   "id": "7932d912",
   "metadata": {},
   "outputs": [
    {
     "data": {
      "image/png": "[encoded data removed]",
      "text/plain": [
       "<Figure size 720x576 with 4 Axes>"
      ]
     },
     "metadata": {
      "needs_background": "light"
     },
     "output_type": "display_data"
    }
   ],
   "source": [
    "# Loading some example data\n",
    "X, y = datasets.make_blobs(n_samples=500, n_features=3, centers=[[2, 2, -2],[-2, -2, 2]],\n",
    "                           cluster_std=[2, 2], random_state=2)\n",
    "\n",
    "# Training a classifier\n",
    "svm = SVC(gamma='auto')\n",
    "svm.fit(X, y)\n",
    "\n",
    "# Plotting decision regions\n",
    "fig, axarr = plt.subplots(2, 2, figsize=(10,8), sharex=True, sharey=True)\n",
    "values = [-4.0, -1.0, 1.0, 4.0]\n",
    "width = 0.75\n",
    "for value, ax in zip(values, axarr.flat):\n",
    "    plot_decision_regions(X, y, clf=svm,\n",
    "                          filler_feature_values={2: value},\n",
    "                          filler_feature_ranges={2: width},\n",
    "                          legend=2, ax=ax)\n",
    "    ax.set_xlabel('Feature 1')\n",
    "    ax.set_ylabel('Feature 2')\n",
    "    ax.set_title('Feature 3 = {}'.format(value))\n",
    "\n",
    "# Adding axes annotations\n",
    "fig.suptitle('SVM on make_blobs')\n",
    "plt.show()\n"
   ]
  },
  {
   "cell_type": "code",
   "execution_count": null,
   "id": "f95431ff",
   "metadata": {},
   "outputs": [],
   "source": []
  }
 ],
 "metadata": {
  "kernelspec": {
   "display_name": "Python 3 (ipykernel)",
   "language": "python",
   "name": "python3"
  },
  "language_info": {
   "codemirror_mode": {
    "name": "ipython",
    "version": 3
   },
   "file_extension": ".py",
   "mimetype": "text/x-python",
   "name": "python",
   "nbconvert_exporter": "python",
   "pygments_lexer": "ipython3",
   "version": "3.7.11"
  }
 },
 "nbformat": 4,
 "nbformat_minor": 5
}
