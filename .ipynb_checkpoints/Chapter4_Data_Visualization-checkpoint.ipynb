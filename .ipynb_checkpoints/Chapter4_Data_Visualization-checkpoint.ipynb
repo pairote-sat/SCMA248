{
 "cells": [
  {
   "cell_type": "markdown",
   "id": "9ef793f1",
   "metadata": {},
   "source": [
    "# Data Visualization"
   ]
  },
  {
   "cell_type": "code",
   "execution_count": 64,
   "id": "04343095",
   "metadata": {},
   "outputs": [],
   "source": [
    "import numpy as np\n",
    "import pandas as pd\n",
    "\n",
    "# Add this line so you can plot your charts into your Jupyter Notebook.\n",
    "%matplotlib inline \n"
   ]
  },
  {
   "cell_type": "markdown",
   "id": "c22abbfa",
   "metadata": {},
   "source": [
    "In this section, you will learn how to use Python to create your first data visualization. We will work with the claims dataset.\n",
    "\n",
    "At its most basic level, insurance companies receive premiums in exchange for promises to compensate policyholders if an insured event occurs. The compensation provided by the insurer for incurred injury, loss, or damage that is covered by the policy.  A claim is another term for this compensation. The extent of the payout, known as the `claim severity`, is a significant financial expenditure for an insurance.\n",
    "\n",
    "In terms of financial outlay, an insurer does not always concern if there are ten claims of THB10,000 or one claim of THB100,000. Insurers, on the other hand, frequently monitor how frequently claims occur, which is known as `claim frequency`."
   ]
  },
  {
   "cell_type": "code",
   "execution_count": 66,
   "id": "2aafc1bd",
   "metadata": {},
   "outputs": [],
   "source": [
    "claims = pd.read_csv('/Users/Kaemyuijang/SCMA248/Data/ClaimsExperienceData.csv')"
   ]
  },
  {
   "cell_type": "markdown",
   "id": "2d134a45",
   "metadata": {},
   "source": [
    "## Basics: Using pandas to plot line, bar charts and Histogram in Python\n",
    "\n",
    "To give you an example, the property fund had 1,110 policyholders in 2010 who had a total of 1,377 claims. \n",
    "\n",
    "First we will create a table reporting the **2010 claims frequency distribution**.\n",
    "\n",
    "**Note:** In a dataset, a histogram displays the amount of occurrences of certain values. It looks a lot like a bar chart at first glance.\n",
    "\n",
    "We will explore how to make a line chart and a bar chart that indicate the frequency of different values in the data set before plotting the histogram. As a result, you will be able to compare the various ways.\n",
    "\n",
    "Of course, if you have never plotted anything in Pandas before, it is a good idea to start with a simple line chart.\n",
    "\n",
    "Simply type the `.plot()` method after the pandas dataframe you wish to visualize to put your data on a chart. By default `.plot()` provides a line chart.\n",
    "\n",
    "If you plot() the `Freq` column of the claims2010 dataframe as is, you will get the following results."
   ]
  },
  {
   "cell_type": "code",
   "execution_count": 38,
   "id": "db976a64",
   "metadata": {},
   "outputs": [],
   "source": [
    "claims2010 = claims[(claims['Year']==2010)]"
   ]
  },
  {
   "cell_type": "code",
   "execution_count": 46,
   "id": "3bd4b55b",
   "metadata": {},
   "outputs": [
    {
     "data": {
      "text/plain": [
       "4       1\n",
       "9       1\n",
       "14      1\n",
       "19      0\n",
       "24      1\n",
       "       ..\n",
       "5634    0\n",
       "5635    1\n",
       "5636    1\n",
       "5637    0\n",
       "5638    0\n",
       "Name: Freq, Length: 1110, dtype: int64"
      ]
     },
     "execution_count": 46,
     "metadata": {},
     "output_type": "execute_result"
    }
   ],
   "source": [
    "claims2010['Freq']"
   ]
  },
  {
   "cell_type": "code",
   "execution_count": 37,
   "id": "912da86f",
   "metadata": {},
   "outputs": [
    {
     "data": {
      "text/plain": [
       "<AxesSubplot:>"
      ]
     },
     "execution_count": 37,
     "metadata": {},
     "output_type": "execute_result"
    },
    {
     "data": {
      "image/png": "[encoded data removed]",
      "text/plain": [
       "<Figure size 432x288 with 1 Axes>"
      ]
     },
     "metadata": {
      "needs_background": "light"
     },
     "output_type": "display_data"
    }
   ],
   "source": [
    "claims2010['Freq'].plot()"
   ]
  },
  {
   "cell_type": "markdown",
   "id": "e93d1931",
   "metadata": {},
   "source": [
    "We will have to work with the original dataset a little further to accomplish what we want (plot the occurrence of each unique value in the dataset). Let uss combine a `.groupby()` aggregate function with a `.count()` aggregate function. "
   ]
  },
  {
   "cell_type": "code",
   "execution_count": 50,
   "id": "d5c49cba",
   "metadata": {},
   "outputs": [
    {
     "data": {
      "text/html": [
       "<div>\n",
       "<style scoped>\n",
       "    .dataframe tbody tr th:only-of-type {\n",
       "        vertical-align: middle;\n",
       "    }\n",
       "\n",
       "    .dataframe tbody tr th {\n",
       "        vertical-align: top;\n",
       "    }\n",
       "\n",
       "    .dataframe thead th {\n",
       "        text-align: right;\n",
       "    }\n",
       "</style>\n",
       "<table border=\"1\" class=\"dataframe\">\n",
       "  <thead>\n",
       "    <tr style=\"text-align: right;\">\n",
       "      <th></th>\n",
       "      <th>PolicyNum</th>\n",
       "    </tr>\n",
       "    <tr>\n",
       "      <th>Freq</th>\n",
       "      <th></th>\n",
       "    </tr>\n",
       "  </thead>\n",
       "  <tbody>\n",
       "    <tr>\n",
       "      <th>0</th>\n",
       "      <td>707</td>\n",
       "    </tr>\n",
       "    <tr>\n",
       "      <th>1</th>\n",
       "      <td>209</td>\n",
       "    </tr>\n",
       "    <tr>\n",
       "      <th>2</th>\n",
       "      <td>86</td>\n",
       "    </tr>\n",
       "    <tr>\n",
       "      <th>3</th>\n",
       "      <td>40</td>\n",
       "    </tr>\n",
       "    <tr>\n",
       "      <th>4</th>\n",
       "      <td>18</td>\n",
       "    </tr>\n",
       "  </tbody>\n",
       "</table>\n",
       "</div>"
      ],
      "text/plain": [
       "      PolicyNum\n",
       "Freq           \n",
       "0           707\n",
       "1           209\n",
       "2            86\n",
       "3            40\n",
       "4            18"
      ]
     },
     "execution_count": 50,
     "metadata": {},
     "output_type": "execute_result"
    }
   ],
   "source": [
    "FreqDist = claims2010.groupby('Freq').count()[['PolicyNum']]\n",
    "\n",
    "FreqDist.head()"
   ]
  },
  {
   "cell_type": "markdown",
   "id": "ea567323",
   "metadata": {},
   "source": [
    "If you plot the output of this, you’ll get a much nicer line chart."
   ]
  },
  {
   "cell_type": "code",
   "execution_count": 51,
   "id": "dca641c4",
   "metadata": {},
   "outputs": [
    {
     "data": {
      "text/plain": [
       "<AxesSubplot:xlabel='Freq'>"
      ]
     },
     "execution_count": 51,
     "metadata": {},
     "output_type": "execute_result"
    },
    {
     "data": {
      "image/png": "[encoded data removed]",
      "text/plain": [
       "<Figure size 432x288 with 1 Axes>"
      ]
     },
     "metadata": {
      "needs_background": "light"
     },
     "output_type": "display_data"
    }
   ],
   "source": [
    "FreqDist.plot()"
   ]
  },
  {
   "cell_type": "markdown",
   "id": "cefd4408",
   "metadata": {},
   "source": [
    "To turn your line chart into a bar chart, just add the bar keyword."
   ]
  },
  {
   "cell_type": "code",
   "execution_count": 53,
   "id": "fdd07e9a",
   "metadata": {},
   "outputs": [
    {
     "data": {
      "text/plain": [
       "<AxesSubplot:xlabel='Freq'>"
      ]
     },
     "execution_count": 53,
     "metadata": {},
     "output_type": "execute_result"
    },
    {
     "data": {
      "image/png": "[encoded data removed]",
      "text/plain": [
       "<Figure size 432x288 with 1 Axes>"
      ]
     },
     "metadata": {
      "needs_background": "light"
     },
     "output_type": "display_data"
    },
    {
     "data": {
      "image/png": "[encoded data removed]",
      "text/plain": [
       "<Figure size 432x288 with 1 Axes>"
      ]
     },
     "metadata": {
      "needs_background": "light"
     },
     "output_type": "display_data"
    }
   ],
   "source": [
    "FreqDist.plot(kind='bar')\n",
    "\n",
    "FreqDist.plot.bar()"
   ]
  },
  {
   "cell_type": "markdown",
   "id": "3c8f3149",
   "metadata": {},
   "source": [
    "We will use the `.hist()` function that is built into pandas. It iss very simple to turn your pandas dataframe into a histogram once you have the values in it.\n",
    "\n",
    "The `.hist()` function automatically does several of the useful tasks:\n",
    "\n",
    "1. It does the grouping.\n",
    "\n",
    "2. It does the counting. \n",
    "\n",
    "3. It plots a histogram for each column in your dataframe that has numerical values in it.\n",
    "\n",
    "**Note:** You can change the number of bins/buckets from the default of 10 by setting a parameter, for example `bins=20`."
   ]
  },
  {
   "cell_type": "code",
   "execution_count": 63,
   "id": "5dd1e866",
   "metadata": {},
   "outputs": [
    {
     "data": {
      "text/plain": [
       "array([[<AxesSubplot:title={'center':'Freq'}>,\n",
       "        <AxesSubplot:title={'center':'y'}>]], dtype=object)"
      ]
     },
     "execution_count": 63,
     "metadata": {},
     "output_type": "execute_result"
    },
    {
     "data": {
      "image/png": "[encoded data removed]",
      "text/plain": [
       "<Figure size 432x288 with 2 Axes>"
      ]
     },
     "metadata": {
      "needs_background": "light"
     },
     "output_type": "display_data"
    }
   ],
   "source": [
    "claims2010[['Freq','y']].hist()"
   ]
  },
  {
   "cell_type": "markdown",
   "id": "1f892dad",
   "metadata": {},
   "source": [
    "A common method for determining the severity distribution is to look at the distribution of the sample of 1,377 claims. Another common approach is to look at **the distribution of average claims among policyholders who have made claims**. There were 403 (=1110-707) such policyholders in our 2010 sample."
   ]
  },
  {
   "cell_type": "markdown",
   "id": "7a95d00f",
   "metadata": {},
   "source": [
    "**Exercise** \n",
    "\n",
    "1. Create a table that summarizes the sample distribution of average severities from the 403 policyholders who made a claim.\n",
    "\n",
    "2. Use `hist` to plot the distribution of positive average severities. What conclusion can we draw from the plot?\n",
    "\n",
    "3. Plot the distribution of positive average severities in logarithmic units "
   ]
  },
  {
   "cell_type": "code",
   "execution_count": 92,
   "id": "3d2bf80a",
   "metadata": {},
   "outputs": [
    {
     "data": {
      "text/plain": [
       "array([[<AxesSubplot:title={'center':'yAvg'}>]], dtype=object)"
      ]
     },
     "execution_count": 92,
     "metadata": {},
     "output_type": "execute_result"
    },
    {
     "data": {
      "image/png": "[encoded data removed]",
      "text/plain": [
       "<Figure size 432x288 with 1 Axes>"
      ]
     },
     "metadata": {
      "needs_background": "light"
     },
     "output_type": "display_data"
    }
   ],
   "source": [
    "claims2010 = claims[(claims['Year']==2010) &  (claims['Freq'] >= 1)]\n",
    "output = claims2010[['yAvg']]\n",
    "\n",
    "output.apply(np.log).hist(bins=20)\n",
    "#claims2010['lnyAvg'] = claims2010['yAvg'].apply(np.log)\n",
    "#claims2010['lnyAvg'] = np.log(claims2010['yAvg'])"
   ]
  },
  {
   "cell_type": "markdown",
   "id": "f670c844",
   "metadata": {},
   "source": [
    "## Using ggplot and Python to Create Your First Plot\n",
    "\n",
    "You will learn how to construct data visualizations using `ggplot` in Python using a `grammar of graphics`. A grammar of graphics is a high-level tool for creating data displays in a consistent and efficient manner. It abstracts the majority of low-level details, allowing you to concentrate on producing useful and beautiful data visualizations.\n",
    "\n",
    "A graphics grammar is provided by a number of Python libraries. Plotnine is the topic of this chapter because it is one of the most advanced. Plotnine is based on the R programming language's ggplot2, thus if you're familiar with R, you may think of plotnine as the Python counterpart of ggplot2."
   ]
  },
  {
   "cell_type": "code",
   "execution_count": 152,
   "id": "f0500efd",
   "metadata": {},
   "outputs": [],
   "source": [
    "claims['lnyAvg'] = np.log(claims[claims['Freq']>=1]['yAvg'])"
   ]
  },
  {
   "cell_type": "code",
   "execution_count": 153,
   "id": "6186eefa",
   "metadata": {},
   "outputs": [],
   "source": [
    "claims2010 = claims[(claims['Year']==2010) &  (claims['Freq'] >= 1)]"
   ]
  },
  {
   "cell_type": "code",
   "execution_count": 154,
   "id": "e0dd1ad1",
   "metadata": {},
   "outputs": [
    {
     "data": {
      "image/png": "[encoded data removed]",
      "text/plain": [
       "<Figure size 640x480 with 1 Axes>"
      ]
     },
     "metadata": {},
     "output_type": "display_data"
    },
    {
     "data": {
      "text/plain": [
       "<ggplot: (311654261)>"
      ]
     },
     "execution_count": 154,
     "metadata": {},
     "output_type": "execute_result"
    }
   ],
   "source": [
    "from plotnine import *\n",
    "\n",
    "(\n",
    "    ggplot(claims2010)  # What data to use\n",
    "    + aes(x='lnyAvg')  # What variable to use\n",
    "    + geom_histogram(bins = 20)  # Geometric object to use for drawing\n",
    ")"
   ]
  },
  {
   "cell_type": "code",
   "execution_count": 163,
   "id": "0ee61aac",
   "metadata": {},
   "outputs": [
    {
     "data": {
      "image/png": "[encoded data removed]",
      "text/plain": [
       "<Figure size 640x480 with 1 Axes>"
      ]
     },
     "metadata": {},
     "output_type": "display_data"
    },
    {
     "data": {
      "text/plain": [
       "<ggplot: (303344153)>"
      ]
     },
     "execution_count": 163,
     "metadata": {},
     "output_type": "execute_result"
    }
   ],
   "source": [
    "claims['BCcov'] = claims['BCcov']/(10**6)\n",
    "claims2010 = claims[(claims['Year']==2010) &  (claims['Freq'] >= 1)]\n",
    "\n",
    "(\n",
    "    ggplot(data = claims2010)  # What data to use\n",
    "    + geom_point(aes(x = 'BCcov',y = 'y'))  # Geometric object to use for drawing\n",
    ")"
   ]
  },
  {
   "cell_type": "code",
   "execution_count": null,
   "id": "850fc743",
   "metadata": {},
   "outputs": [],
   "source": []
  }
 ],
 "metadata": {
  "kernelspec": {
   "display_name": "Python 3 (ipykernel)",
   "language": "python",
   "name": "python3"
  },
  "language_info": {
   "codemirror_mode": {
    "name": "ipython",
    "version": 3
   },
   "file_extension": ".py",
   "mimetype": "text/x-python",
   "name": "python",
   "nbconvert_exporter": "python",
   "pygments_lexer": "ipython3",
   "version": "3.7.11"
  }
 },
 "nbformat": 4,
 "nbformat_minor": 5
}
