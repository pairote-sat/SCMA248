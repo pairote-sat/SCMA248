{
 "cells": [
  {
   "cell_type": "markdown",
   "id": "e3d9e685",
   "metadata": {},
   "source": [
    "# Unsupervised Machine Learning: K-means Clustering"
   ]
  },
  {
   "cell_type": "markdown",
   "id": "93c15eaa",
   "metadata": {},
   "source": [
    "In this chapter, we will take an in-depth look at **k-means clustering** and its components. We explain why clustering is important, how to use it, and how to perform it in Python with a real dataset."
   ]
  },
  {
   "cell_type": "markdown",
   "id": "fffa9f24",
   "metadata": {},
   "source": [
    "## What is clustering and how does it work?\n",
    "\n",
    "**Clustering** is a collection of methods for dividing data into groups or clusters. Clusters are roughly described as collections of data objects that are more similar to each other than data objects from other clusters."
   ]
  },
  {
   "cell_type": "markdown",
   "id": "10963cc2",
   "metadata": {},
   "source": [
    "There are numerous cases where automatic grouping of data can be very beneficial. Take the case of developing an Internet advertising campaign for a brand new product line that is about to be launched. While we could show a single generic ad to the entire population, a far better approach would be to divide the population into groups of people with common characteristics and interests, and then show individualized ads to each group. **K-means** is an algorithm that finds these groupings in large data sets where manual searching is impossible."
   ]
  },
  {
   "cell_type": "markdown",
   "id": "553e27fa",
   "metadata": {},
   "source": [
    "## How is clustering a problem of unsupervised learning?\n",
    "\n",
    "Imagine a project where you need to predict whether a loan will be approved or not. We aim to predict the loan status based on the customer's gender, marital status, income, and other factors.\n",
    "Such challenges are called **supervised learning** problems when we have a target variable that we need to predict based on a set of predictors or independent variables.\n",
    "\n",
    "There may be cases where we do not have an outcome variable that we can predict.\n",
    "\n",
    "**Unsupervised learning** problems are those where there is no fixed target variable. \n",
    "\n",
    "In clustering, we do not have a target that we can predict. We examine the data and try to categorize comparable observations into different groups. Consequently, it is a challenge of unsupervised learning. There are only independent variables and no target/dependent variable."
   ]
  },
  {
   "cell_type": "markdown",
   "id": "f9c9bfa3",
   "metadata": {},
   "source": [
    "**k-means clustering**: image from medium\n",
    "\n",
    "![k-means clustering: image from medium](https://miro.medium.com/max/1400/1*IXGsBrC9FnSHGJVw9lDhQA.png)"
   ]
  },
  {
   "cell_type": "markdown",
   "id": "0cfba60b",
   "metadata": {},
   "source": [
    "## Applications of Clustering\n",
    "\n",
    "1. **Customer segmentation** is the process of obtaining information about a company's customer base based on their interactions with the company. In most cases, this interaction is about their purchasing habits and behaviors. Businesses can use to create targeted advertising campaigns.\n",
    "\n",
    "![Customer segmentation: image from connect-x](https://scontent.fbkk2-5.fna.fbcdn.net/v/t1.6435-9/119891167_183328516607191_6403713711553954542_n.jpg?stp=cp0_dst-jpg_e15_p320x320_q65&_nc_cat=110&ccb=1-5&_nc_sid=e007fa&_nc_ohc=kWGkKC7LHLkAX_PbKiO&_nc_ht=scontent.fbkk2-5.fna&oh=00_AT9wizWUDbZXgtnsrQdfC1pP862KHo1dsFDfR6OwXRMCig&oe=626EEE3F)\n",
    "\n",
    "2. **Recommendation engines** The recommendation system is a popular way for offering automatic personalized product, service, and information recommendations.\n",
    "\n",
    "The recommendation engine, for example, is widely used to recommend products on Amazon, as well as to suggest songs of the same genre on YouTube.\n",
    "\n",
    "In essence, each cluster will be given to specific preferences based on the preferences of customers in the cluster. Customers would then receive suggestions based on cluster estimates within each cluster.\n",
    "\n",
    "![Recommendation engines: image from woocommerce.com](https://woocommerce.com/wp-content/uploads/2013/06/Screen-Shot-2013-06-27-at-15.07.36.png)\n",
    "\n",
    "\n",
    "3. **Medical application** In the medical field, clustering has been used in gene expression experiments.  The clustering results identify groupings of people who respond to medical treatments differently."
   ]
  },
  {
   "cell_type": "markdown",
   "id": "5e4baba6",
   "metadata": {},
   "source": [
    "## The K-means Algorithm: An Overview\n",
    "\n",
    "This section takes you step by step through the traditional form of the k-means algorithm. This section will help you decide if k-means is the best method to solve your clustering problem.\n",
    "\n",
    "**The traditional k-means algorithm consists of only a few steps.** \n",
    "\n",
    "To begin, we randomly select k centroids, where k is the number of clusters you want to use. \n",
    "\n",
    "**Centroids** are data points that represent the center of the cluster.\n",
    "\n",
    "The main component of the algorithm is based on a **two-step procedure** known as **expectation maximization**. \n",
    "\n",
    "1. **The expectation step (E-step):** each data point is assigned to the closest centroid. \n",
    "\n",
    "2. **The maximization step (M-step):** Update the centroids (mean) as being the centre of their respective observation.\n",
    "\n",
    "We repeat these two steps until the centroid positions do not change (or until there is no further change in the clusters)\n",
    "\n",
    "**Note** The \"E-step\" or \"expectation step\" is so called because it updates our expectation of which cluster each point belongs to. \n",
    "\n",
    "The \"M-step\" or \"maximization step\" is so named because it involves maximizing a fitness function that defines the location of the cluster centers - in this case, this maximization is achieved by simply averaging the data in each cluster."
   ]
  },
  {
   "cell_type": "markdown",
   "id": "6e0bbb84",
   "metadata": {},
   "source": [
    "## K-means clustering in 1 dimension: Explained\n",
    "\n",
    "We will learn how to cluster samples that can be put on a line, and the concept can be extended more generally. Imagine that you had some data that you could plot on a line, and you knew that you had to divide it into three clusters. Perhaps they are measurements from three different tumor types or other cell types. In this case, the data yields three relatively obvious clusters, but instead of relying on our eye, we want to see if we can get a computer to identify the same three clusters, using k-means clustering. We start with raw data that we have not yet clustered.\n",
    "\n",
    "**Step one:** choose the number of clusters you want to identify in your data - that's the K in k-means clustering. In this case, we choose K to equal three, meaning we want to identify three clusters. There is a more sophisticated way to select a value for K, but we will get into that later. \n",
    "\n",
    "Images below from statquest.\n",
    "\n",
    "\n",
    "![K-means clustering in 1 dimension: image from statquest](https://raw.githubusercontent.com/pairote-sat/SCMA248/main/Data/k1.png)\n"
   ]
  },
  {
   "cell_type": "markdown",
   "id": "ee09ef04",
   "metadata": {},
   "source": [
    "**Step 2:** Randomly select three unique data points - these are the first clusters.\n",
    "\n",
    "![K-means clustering in 1 dimension: image from statquest](https://raw.githubusercontent.com/pairote-sat/SCMA248/main/Data/k2.png)\n",
    "\n",
    "\n",
    "**Step 3:** Measure the distance between the first point and the three initial clusters this is the distance between the first point and the three clusters.\n",
    "\n",
    "![K-means clustering in 1 dimension: image from statquest](https://raw.githubusercontent.com/pairote-sat/SCMA248/main/Data/k3.png)\n",
    "\n",
    "**Step 4:** Assign the first point to the nearest cluster. In this case, the closest cluster is the blue cluster. Then we do the same for the next point. We measure the distances and then assign the point to the nearest cluster. When all the points are in clusters, we proceed to step 5.\n",
    "\n",
    "![K-means clustering in 1 dimension: image from statquest](https://raw.githubusercontent.com/pairote-sat/SCMA248/main/Data/k4.png)\n",
    "\n",
    "![K-means clustering in 1 dimension: image from statquest](https://raw.githubusercontent.com/pairote-sat/SCMA248/main/Data/k4_2.png)\n",
    "\n",
    "![K-means clustering in 1 dimension: image from statquest](https://raw.githubusercontent.com/pairote-sat/SCMA248/main/Data/k4_3.png)\n",
    "\n",
    "**Step 5:** We calculate the mean value of each cluster.\n",
    "\n",
    "![K-means clustering in 1 dimension: image from statquest](https://raw.githubusercontent.com/pairote-sat/SCMA248/main/Data/k5.png)\n",
    "\n",
    "Then we repeat the measurement and clustering based on the mean values. Since the clustering did not change during the last iteration, we are done.\n",
    "\n",
    "![K-means clustering in 1 dimension: image from statquest](https://raw.githubusercontent.com/pairote-sat/SCMA248/main/Data/k5_2.png)"
   ]
  },
  {
   "cell_type": "markdown",
   "id": "4d3f6b7e",
   "metadata": {},
   "source": [
    "### The quality of the cluster assignments\n",
    "\n",
    "Before going any further, it's important to define what we mean by a good clustering solution. What do we mean when we say \"best potential clustering solution\"? Consider the following diagram, which depicts two potential observations assignments to the same centroid.\n",
    "\n",
    "![A good clustering solution: image from medium.com](https://miro.medium.com/max/1400/1*AdIvgTEaMKu9n-vNzUOPtw.png)\n",
    "\n",
    "\n",
    "The first assignment is clearly better than the second, but how can we quantify this using the k-means algorithm?\n",
    "\n",
    "A good clustering solution is the one that minimizes the total sum of these (dotted red) lines, or more formally the sum of squared error  (SSE), is the one we are aiming for. \n",
    "\n",
    "In mathematical language, we want to identify the centroid $C$ that minimizes: given a cluster of observations $x_i \\in \\{x_1, x_2,..., x_m\\}$.\n",
    "\n",
    "$$ J(x) = \\sum_{i = 1}^m || x_i - C||^2.$$\n",
    "\n",
    "Since the centroid is simply the center of its respective observations, we can calculate:\n",
    "\n",
    "$$ C = \\frac{\\sum_{i = 1}^m x_i}{m}.$$\n",
    "\n",
    "This equation provides us the sum of squared error for a single centroid $C$, but we really want to minimize the sum of squared errors for all centroids $c_j \\in \\{c_1, c_2,..., c_k\\}$ for all observations $x_i \\in \\{x_1, x_2,..., x_n\\}$ (here $n$ not $m$). The objective function of k-means is to minimize the total sum of squared error (SST):\n",
    "\n",
    "$$ J(x) = \\sum_{j = 1}^k \\sum_{i = 1}^n || x_i^{(j)} - c_j||^2,$$\n",
    "\n",
    "where the points $x_i^{(j)}$ are assigned to the centriod $c_j$, the closest centroid .\n",
    "\n",
    "**Note** The nondeterministic nature of the k-means algorithm is due to the random initialization stage, which means that cluster assignments will differ if the process is run repeatedly on the same dataset. Researchers frequently execute several initializations of the entire k-means algorithm and pick the cluster assignments from the one with the lowest SSE.\n",
    "\n",
    "![K-means clustering in 1 dimension: image from statquest](https://raw.githubusercontent.com/pairote-sat/SCMA248/main/Data/k5_3.png)\n",
    "\n",
    "![K-means clustering in 1 dimension: image from statquest](https://raw.githubusercontent.com/pairote-sat/SCMA248/main/Data/C2.png)\n",
    "\n",
    "![K-means clustering in 1 dimension: image from statquest](https://raw.githubusercontent.com/pairote-sat/SCMA248/main/Data/C3.png)\n"
   ]
  },
  {
   "cell_type": "markdown",
   "id": "8d637ca0",
   "metadata": {},
   "source": [
    "## K-means clustering in Python: a toy example"
   ]
  },
  {
   "cell_type": "code",
   "execution_count": 48,
   "id": "3de9d3c1",
   "metadata": {},
   "outputs": [],
   "source": [
    "#!pip install kneed"
   ]
  },
  {
   "cell_type": "code",
   "execution_count": 2,
   "id": "f63d7a6e",
   "metadata": {},
   "outputs": [],
   "source": [
    "# Importing Libraries\n",
    "\n",
    "import matplotlib.pyplot as plt\n",
    "from kneed import KneeLocator\n",
    "from sklearn.datasets import make_blobs\n",
    "from sklearn.cluster import KMeans\n",
    "from sklearn.metrics import silhouette_score\n",
    "from sklearn.preprocessing import StandardScaler\n",
    "from sklearn.preprocessing import MinMaxScaler\n",
    "\n",
    "import numpy as np\n",
    "\n",
    "import seaborn as sns "
   ]
  },
  {
   "cell_type": "markdown",
   "id": "0d1db83d",
   "metadata": {},
   "source": [
    "#### A simple example\n",
    "\n",
    "Let us get started by using scikit-learn to generate some random data points. It has a `make_blobs()` function that generates a number of gaussian clusters. We will create a two-dimensional dataset containing three distinct blobs. We set `random_state=1` to ensure that this example will always generate the same points for reproducibility.\n",
    "\n",
    "To emphasize that this is an **unsupervised algorithm**, we will leave the labels out of the visualization. "
   ]
  },
  {
   "cell_type": "code",
   "execution_count": 50,
   "id": "9fa68d06",
   "metadata": {},
   "outputs": [],
   "source": [
    "features, true_labels = make_blobs(\n",
    "    n_samples=90,\n",
    "    centers=3,\n",
    "    cluster_std=2,\n",
    "    random_state=1\n",
    ")"
   ]
  },
  {
   "cell_type": "code",
   "execution_count": 51,
   "id": "b24b1221",
   "metadata": {},
   "outputs": [
    {
     "data": {
      "image/png": "[encoded data removed]",
      "text/plain": [
       "<Figure size 576x396 with 1 Axes>"
      ]
     },
     "metadata": {},
     "output_type": "display_data"
    }
   ],
   "source": [
    "plt.scatter(features[:, 0], features[:, 1], s=50);"
   ]
  },
  {
   "cell_type": "markdown",
   "id": "a5543bbb",
   "metadata": {},
   "source": [
    "We can also put the **features** into a pandas DataFrame to make working with it easier. We plot it to see how it appears, color-coding each point according to the cluster from which it was produced."
   ]
  },
  {
   "cell_type": "code",
   "execution_count": 52,
   "id": "4937049a",
   "metadata": {},
   "outputs": [
    {
     "name": "stderr",
     "output_type": "stream",
     "text": [
      "*c* argument looks like a single numeric RGB or RGBA sequence, which should be avoided as value-mapping will have precedence in case its length matches with *x* & *y*.  Please use the *color* keyword-argument or provide a 2D array with a single row if you intend to specify the same RGB or RGBA value for all points.\n"
     ]
    },
    {
     "data": {
      "text/plain": [
       "<AxesSubplot:xlabel='x1', ylabel='x2'>"
      ]
     },
     "execution_count": 52,
     "metadata": {},
     "output_type": "execute_result"
    },
    {
     "data": {
      "image/png": "[encoded data removed]",
      "text/plain": [
       "<Figure size 432x288 with 1 Axes>"
      ]
     },
     "metadata": {
      "needs_background": "light"
     },
     "output_type": "display_data"
    }
   ],
   "source": [
    "%matplotlib inline\n",
    "\n",
    "import pandas as pd\n",
    "\n",
    "df = pd.DataFrame(features, columns=[\"x1\", \"x2\"])\n",
    "df.plot.scatter(\"x1\", \"x2\")"
   ]
  },
  {
   "cell_type": "code",
   "execution_count": 53,
   "id": "ec03e2f0",
   "metadata": {},
   "outputs": [],
   "source": [
    "#plt.scatter(features[:, 0], features[:, 1], s=50, c=true_labels);"
   ]
  },
  {
   "cell_type": "markdown",
   "id": "162c4cc0",
   "metadata": {},
   "source": [
    "**Exercise**\n",
    "\n",
    "1. Machine learning algorithms must take all features into account. This means that all feature values must be scaled to the same scale.\n",
    "Perform feature scaling standardization in the dataset.\n",
    "\n",
    "2. Perform exploratory data analysis (EDA) to analyze and explore data sets and summarize key characteristics, using data visualization methods."
   ]
  },
  {
   "cell_type": "code",
   "execution_count": 54,
   "id": "99760e52",
   "metadata": {},
   "outputs": [
    {
     "data": {
      "text/html": [
       "<div>\n",
       "<style scoped>\n",
       "    .dataframe tbody tr th:only-of-type {\n",
       "        vertical-align: middle;\n",
       "    }\n",
       "\n",
       "    .dataframe tbody tr th {\n",
       "        vertical-align: top;\n",
       "    }\n",
       "\n",
       "    .dataframe thead th {\n",
       "        text-align: right;\n",
       "    }\n",
       "</style>\n",
       "<table border=\"1\" class=\"dataframe\">\n",
       "  <thead>\n",
       "    <tr style=\"text-align: right;\">\n",
       "      <th></th>\n",
       "      <th>x1</th>\n",
       "      <th>x2</th>\n",
       "    </tr>\n",
       "  </thead>\n",
       "  <tbody>\n",
       "    <tr>\n",
       "      <th>0</th>\n",
       "      <td>-2.043231</td>\n",
       "      <td>2.631232</td>\n",
       "    </tr>\n",
       "    <tr>\n",
       "      <th>1</th>\n",
       "      <td>0.143622</td>\n",
       "      <td>5.411479</td>\n",
       "    </tr>\n",
       "    <tr>\n",
       "      <th>2</th>\n",
       "      <td>-9.020676</td>\n",
       "      <td>-4.104492</td>\n",
       "    </tr>\n",
       "    <tr>\n",
       "      <th>3</th>\n",
       "      <td>-8.358716</td>\n",
       "      <td>-6.350254</td>\n",
       "    </tr>\n",
       "    <tr>\n",
       "      <th>4</th>\n",
       "      <td>-1.021482</td>\n",
       "      <td>3.907749</td>\n",
       "    </tr>\n",
       "  </tbody>\n",
       "</table>\n",
       "</div>"
      ],
      "text/plain": [
       "         x1        x2\n",
       "0 -2.043231  2.631232\n",
       "1  0.143622  5.411479\n",
       "2 -9.020676 -4.104492\n",
       "3 -8.358716 -6.350254\n",
       "4 -1.021482  3.907749"
      ]
     },
     "execution_count": 54,
     "metadata": {},
     "output_type": "execute_result"
    }
   ],
   "source": [
    "df.head()"
   ]
  },
  {
   "cell_type": "code",
   "execution_count": 55,
   "id": "0d51e879",
   "metadata": {},
   "outputs": [],
   "source": [
    "# Make a copy of the original dataset\n",
    "# df_copy = df.copy()"
   ]
  },
  {
   "cell_type": "code",
   "execution_count": 3,
   "id": "372db21d",
   "metadata": {},
   "outputs": [
    {
     "ename": "NameError",
     "evalue": "name 'df' is not defined",
     "output_type": "error",
     "traceback": [
      "\u001b[0;31m---------------------------------------------------------------------------\u001b[0m",
      "\u001b[0;31mNameError\u001b[0m                                 Traceback (most recent call last)",
      "\u001b[0;32m/var/folders/kl/h_r05n_j76n32kt0dwy7kynw0000gn/T/ipykernel_905/2120791818.py\u001b[0m in \u001b[0;36m<module>\u001b[0;34m\u001b[0m\n\u001b[1;32m      1\u001b[0m \u001b[0mscaler\u001b[0m \u001b[0;34m=\u001b[0m \u001b[0mMinMaxScaler\u001b[0m\u001b[0;34m(\u001b[0m\u001b[0;34m)\u001b[0m\u001b[0;34m\u001b[0m\u001b[0;34m\u001b[0m\u001b[0m\n\u001b[1;32m      2\u001b[0m \u001b[0;34m\u001b[0m\u001b[0m\n\u001b[0;32m----> 3\u001b[0;31m \u001b[0mdf_scaled\u001b[0m \u001b[0;34m=\u001b[0m \u001b[0mdf\u001b[0m\u001b[0;34m\u001b[0m\u001b[0;34m\u001b[0m\u001b[0m\n\u001b[0m\u001b[1;32m      4\u001b[0m \u001b[0mfeatures\u001b[0m \u001b[0;34m=\u001b[0m \u001b[0;34m[\u001b[0m\u001b[0;34m[\u001b[0m\u001b[0;34m'x1'\u001b[0m\u001b[0;34m,\u001b[0m\u001b[0;34m'x2'\u001b[0m\u001b[0;34m]\u001b[0m\u001b[0;34m]\u001b[0m\u001b[0;34m\u001b[0m\u001b[0;34m\u001b[0m\u001b[0m\n\u001b[1;32m      5\u001b[0m \u001b[0;32mfor\u001b[0m \u001b[0mfeature\u001b[0m \u001b[0;32min\u001b[0m \u001b[0mfeatures\u001b[0m\u001b[0;34m:\u001b[0m\u001b[0;34m\u001b[0m\u001b[0;34m\u001b[0m\u001b[0m\n",
      "\u001b[0;31mNameError\u001b[0m: name 'df' is not defined"
     ]
    }
   ],
   "source": [
    "scaler = StandardScaler()\n",
    "\n",
    "df_scaled = df\n",
    "features = [['x1','x2']]\n",
    "for feature in features:\n",
    "    df_scaled[feature] = scaler.fit_transform(df_scaled[feature])"
   ]
  },
  {
   "cell_type": "code",
   "execution_count": 57,
   "id": "30454265",
   "metadata": {},
   "outputs": [
    {
     "data": {
      "text/html": [
       "<div>\n",
       "<style scoped>\n",
       "    .dataframe tbody tr th:only-of-type {\n",
       "        vertical-align: middle;\n",
       "    }\n",
       "\n",
       "    .dataframe tbody tr th {\n",
       "        vertical-align: top;\n",
       "    }\n",
       "\n",
       "    .dataframe thead th {\n",
       "        text-align: right;\n",
       "    }\n",
       "</style>\n",
       "<table border=\"1\" class=\"dataframe\">\n",
       "  <thead>\n",
       "    <tr style=\"text-align: right;\">\n",
       "      <th></th>\n",
       "      <th>x1</th>\n",
       "      <th>x2</th>\n",
       "    </tr>\n",
       "  </thead>\n",
       "  <tbody>\n",
       "    <tr>\n",
       "      <th>count</th>\n",
       "      <td>9.000000e+01</td>\n",
       "      <td>9.000000e+01</td>\n",
       "    </tr>\n",
       "    <tr>\n",
       "      <th>mean</th>\n",
       "      <td>-5.956655e-16</td>\n",
       "      <td>3.256654e-16</td>\n",
       "    </tr>\n",
       "    <tr>\n",
       "      <th>std</th>\n",
       "      <td>1.005602e+00</td>\n",
       "      <td>1.005602e+00</td>\n",
       "    </tr>\n",
       "    <tr>\n",
       "      <th>min</th>\n",
       "      <td>-1.835782e+00</td>\n",
       "      <td>-1.890076e+00</td>\n",
       "    </tr>\n",
       "    <tr>\n",
       "      <th>25%</th>\n",
       "      <td>-9.043642e-01</td>\n",
       "      <td>-8.222624e-01</td>\n",
       "    </tr>\n",
       "    <tr>\n",
       "      <th>50%</th>\n",
       "      <td>-5.623279e-02</td>\n",
       "      <td>-2.030913e-01</td>\n",
       "    </tr>\n",
       "    <tr>\n",
       "      <th>75%</th>\n",
       "      <td>8.487898e-01</td>\n",
       "      <td>9.694556e-01</td>\n",
       "    </tr>\n",
       "    <tr>\n",
       "      <th>max</th>\n",
       "      <td>2.039518e+00</td>\n",
       "      <td>2.043826e+00</td>\n",
       "    </tr>\n",
       "  </tbody>\n",
       "</table>\n",
       "</div>"
      ],
      "text/plain": [
       "                 x1            x2\n",
       "count  9.000000e+01  9.000000e+01\n",
       "mean  -5.956655e-16  3.256654e-16\n",
       "std    1.005602e+00  1.005602e+00\n",
       "min   -1.835782e+00 -1.890076e+00\n",
       "25%   -9.043642e-01 -8.222624e-01\n",
       "50%   -5.623279e-02 -2.030913e-01\n",
       "75%    8.487898e-01  9.694556e-01\n",
       "max    2.039518e+00  2.043826e+00"
      ]
     },
     "execution_count": 57,
     "metadata": {},
     "output_type": "execute_result"
    }
   ],
   "source": [
    "df_scaled.describe()"
   ]
  },
  {
   "cell_type": "code",
   "execution_count": 58,
   "id": "5c901846",
   "metadata": {},
   "outputs": [
    {
     "name": "stderr",
     "output_type": "stream",
     "text": [
      "*c* argument looks like a single numeric RGB or RGBA sequence, which should be avoided as value-mapping will have precedence in case its length matches with *x* & *y*.  Please use the *color* keyword-argument or provide a 2D array with a single row if you intend to specify the same RGB or RGBA value for all points.\n"
     ]
    },
    {
     "data": {
      "text/plain": [
       "<AxesSubplot:xlabel='x1', ylabel='x2'>"
      ]
     },
     "execution_count": 58,
     "metadata": {},
     "output_type": "execute_result"
    },
    {
     "data": {
      "image/png": "[encoded data removed]",
      "text/plain": [
       "<Figure size 432x288 with 1 Axes>"
      ]
     },
     "metadata": {
      "needs_background": "light"
     },
     "output_type": "display_data"
    }
   ],
   "source": [
    "df_scaled.plot.scatter(\"x1\", \"x2\")"
   ]
  },
  {
   "cell_type": "markdown",
   "id": "e74c1996",
   "metadata": {},
   "source": [
    "We can see that two or three distinct clusters. This is a great situation to apply k-means clustering in, and the results will be highly valuable."
   ]
  },
  {
   "cell_type": "markdown",
   "id": "0e124731",
   "metadata": {},
   "source": [
    "To facilitate the analysis of tabular data, we can use Pandas in Python to convert the data into a more computer-friendly form. \n",
    "\n",
    "`Pandas.melt()` converts a DataFrame from wide format to long format.\n",
    "The melt() function is useful to convert a DataFrame to a format where one or more columns are identifier variables, while all other columns considered as measurement variables are subtracted from the row axis, leaving only two non-identifier columns, variable and value."
   ]
  },
  {
   "cell_type": "code",
   "execution_count": 59,
   "id": "f1f96f83",
   "metadata": {},
   "outputs": [],
   "source": [
    "df_melted = pd.melt(df_scaled[['x1','x2']], var_name = 'features',value_name = 'value')"
   ]
  },
  {
   "cell_type": "code",
   "execution_count": 60,
   "id": "40646a98",
   "metadata": {},
   "outputs": [
    {
     "data": {
      "text/html": [
       "<div>\n",
       "<style scoped>\n",
       "    .dataframe tbody tr th:only-of-type {\n",
       "        vertical-align: middle;\n",
       "    }\n",
       "\n",
       "    .dataframe tbody tr th {\n",
       "        vertical-align: top;\n",
       "    }\n",
       "\n",
       "    .dataframe thead th {\n",
       "        text-align: right;\n",
       "    }\n",
       "</style>\n",
       "<table border=\"1\" class=\"dataframe\">\n",
       "  <thead>\n",
       "    <tr style=\"text-align: right;\">\n",
       "      <th></th>\n",
       "      <th>features</th>\n",
       "      <th>value</th>\n",
       "    </tr>\n",
       "  </thead>\n",
       "  <tbody>\n",
       "    <tr>\n",
       "      <th>0</th>\n",
       "      <td>x1</td>\n",
       "      <td>1.019528</td>\n",
       "    </tr>\n",
       "    <tr>\n",
       "      <th>1</th>\n",
       "      <td>x1</td>\n",
       "      <td>1.595412</td>\n",
       "    </tr>\n",
       "    <tr>\n",
       "      <th>2</th>\n",
       "      <td>x1</td>\n",
       "      <td>-0.817907</td>\n",
       "    </tr>\n",
       "    <tr>\n",
       "      <th>3</th>\n",
       "      <td>x1</td>\n",
       "      <td>-0.643587</td>\n",
       "    </tr>\n",
       "    <tr>\n",
       "      <th>4</th>\n",
       "      <td>x1</td>\n",
       "      <td>1.288594</td>\n",
       "    </tr>\n",
       "  </tbody>\n",
       "</table>\n",
       "</div>"
      ],
      "text/plain": [
       "  features     value\n",
       "0       x1  1.019528\n",
       "1       x1  1.595412\n",
       "2       x1 -0.817907\n",
       "3       x1 -0.643587\n",
       "4       x1  1.288594"
      ]
     },
     "execution_count": 60,
     "metadata": {},
     "output_type": "execute_result"
    }
   ],
   "source": [
    "df_melted.head()"
   ]
  },
  {
   "cell_type": "code",
   "execution_count": 61,
   "id": "129ac7fd",
   "metadata": {},
   "outputs": [],
   "source": [
    "from plotnine import *"
   ]
  },
  {
   "cell_type": "code",
   "execution_count": 62,
   "id": "37b3de80",
   "metadata": {},
   "outputs": [
    {
     "data": {
      "image/png": "[encoded data removed]",
      "text/plain": [
       "<Figure size 640x480 with 2 Axes>"
      ]
     },
     "metadata": {},
     "output_type": "display_data"
    },
    {
     "data": {
      "text/plain": [
       "<ggplot: (313565689)>"
      ]
     },
     "execution_count": 62,
     "metadata": {},
     "output_type": "execute_result"
    }
   ],
   "source": [
    "(\n",
    "    ggplot(df_melted) + aes('value') + geom_histogram(aes(y=after_stat('density')), color = 'lightskyblue', fill = 'lightskyblue', bins = 15)\n",
    "    + geom_density(aes(y=after_stat('density')), color = 'steelblue')\n",
    "    + facet_wrap('features')\n",
    ")"
   ]
  },
  {
   "cell_type": "markdown",
   "id": "bb1c0ae7",
   "metadata": {},
   "source": [
    "### Violin and swarm plots"
   ]
  },
  {
   "cell_type": "code",
   "execution_count": 63,
   "id": "65aea52c",
   "metadata": {},
   "outputs": [
    {
     "data": {
      "image/png": "[encoded data removed]",
      "text/plain": [
       "<Figure size 432x288 with 2 Axes>"
      ]
     },
     "metadata": {
      "needs_background": "light"
     },
     "output_type": "display_data"
    }
   ],
   "source": [
    "n = 0\n",
    "for cols in ['x1' , 'x2']:\n",
    "    n += 1 \n",
    "    plt.subplot(1 , 2 , n)\n",
    "    plt.subplots_adjust(hspace = 0.5 , wspace = 0.1)\n",
    "    sns.violinplot(x = cols, data = df , palette = 'vlag')\n",
    "    sns.swarmplot(x = cols, data = df)\n",
    "    #plt.ylabel('Gender' if n == 1 else '')\n",
    "    #plt.title('Boxplots & Swarmplots' if n == 2 else '')\n",
    "plt.show()"
   ]
  },
  {
   "cell_type": "markdown",
   "id": "629f5770",
   "metadata": {},
   "source": [
    "## Clustering using K- means\n",
    "\n",
    "The data is now ready for clustering. Before fitting the estimator to the data, you set the algorithm parameters in the KMeans estimator class in scikit-learn. The scikit-learn implementation is adaptable, with various adjustable parameters.\n",
    "\n",
    "The following are the parameters that were utilized in this example.\n",
    "\n",
    "* **init** The initialization method is controlled by `init`. Setting init to \"random\" implements the normal version of the k-means algorithm. Setting this to \"k-means++\" uses a more advanced technique to speed up convergence, which you'll learn about later.\n",
    "\n",
    "* **n_clusters** For the clustering step, `n_clusters` sets k. For k-means, this is the most essential parameter.\n",
    "\n",
    "* **n_init** The number of initializations to do is specified by `n_init`. Because two runs can converge on different cluster allocations, this is critical. The scikit-learn algorithm defaults to running 10 k-means runs and returning the results of the one with the lowest SSE.\n",
    "\n",
    "* **max_iter** For each initialization of the k-means algorithm, `max_iter` specifies the maximum number of iterations.\n",
    "\n",
    "First we create a new instance of the KMeans class with the following parameters. Then passing the data, we want to fit to the `fit()` method, the algorithm will actually run. You can use nested lists, numpy arrays (as long as they have the shape (nsample,nfeatures) or Pandas DataFrames."
   ]
  },
  {
   "cell_type": "code",
   "execution_count": 64,
   "id": "82a350ae",
   "metadata": {},
   "outputs": [
    {
     "data": {
      "text/plain": [
       "KMeans(init='random', n_clusters=3, random_state=88)"
      ]
     },
     "execution_count": 64,
     "metadata": {},
     "output_type": "execute_result"
    }
   ],
   "source": [
    "kmeans = KMeans(\n",
    "                init=\"random\",\n",
    "                n_clusters=3,\n",
    "                n_init=10,\n",
    "                max_iter=300,\n",
    "                random_state=88)\n",
    "\n",
    "kmeans.fit(df_scaled)"
   ]
  },
  {
   "cell_type": "markdown",
   "id": "5e98b7db",
   "metadata": {},
   "source": [
    "Now that we have calculated the cluster centres, we can use the `cluster_centers_` data attribute of our model to see which clusters it has chosen."
   ]
  },
  {
   "cell_type": "code",
   "execution_count": 65,
   "id": "55fb4e5a",
   "metadata": {},
   "outputs": [
    {
     "name": "stdout",
     "output_type": "stream",
     "text": [
      "Final centroids:\n",
      " [[ 0.0235795  -1.04710637]\n",
      " [-1.03913289 -0.30604602]\n",
      " [ 1.15724837  1.25434435]]\n"
     ]
    }
   ],
   "source": [
    "centroids = kmeans.cluster_centers_\n",
    "print('Final centroids:\\n', centroids)"
   ]
  },
  {
   "cell_type": "markdown",
   "id": "2f4d7ef9",
   "metadata": {},
   "source": [
    "The sum of the squared distances of data points to their closest cluster center is another data characteristic of the model, which can be obtained by using the attribute `inertia_`. This property is used by the algorithm to determine whether it has converged. In general, a lower number indicates a better match."
   ]
  },
  {
   "cell_type": "code",
   "execution_count": 66,
   "id": "f27382d1",
   "metadata": {},
   "outputs": [
    {
     "name": "stdout",
     "output_type": "stream",
     "text": [
      "The sum of the squared distrance:\n",
      " 24.202527046705345\n"
     ]
    }
   ],
   "source": [
    "print('The sum of the squared distrance:\\n', kmeans.inertia_)"
   ]
  },
  {
   "cell_type": "markdown",
   "id": "8e4987b6",
   "metadata": {},
   "source": [
    "The cluster assignments are stored as a one-dimensional NumPy array in kmeans.labels_ or using the function `predict`. "
   ]
  },
  {
   "cell_type": "code",
   "execution_count": 67,
   "id": "dd190222",
   "metadata": {},
   "outputs": [
    {
     "name": "stdout",
     "output_type": "stream",
     "text": [
      "predicted labels:\n",
      " [2 2 1 1 2]\n"
     ]
    }
   ],
   "source": [
    "pred = kmeans.predict(df_scaled)\n",
    "print('predicted labels:\\n',pred[0:5])"
   ]
  },
  {
   "cell_type": "code",
   "execution_count": 68,
   "id": "27175b52",
   "metadata": {},
   "outputs": [],
   "source": [
    "#labels = kmeans.labels_"
   ]
  },
  {
   "cell_type": "code",
   "execution_count": 69,
   "id": "2c61234a",
   "metadata": {},
   "outputs": [
    {
     "name": "stdout",
     "output_type": "stream",
     "text": [
      "predicted labels:\n",
      " [2 2 1 1 2]\n"
     ]
    }
   ],
   "source": [
    "print('predicted labels:\\n',kmeans.labels_[0:5])"
   ]
  },
  {
   "cell_type": "code",
   "execution_count": 70,
   "id": "bfcc9716",
   "metadata": {},
   "outputs": [
    {
     "name": "stdout",
     "output_type": "stream",
     "text": [
      "the number of samples in each cluster:\n",
      " 1    34\n",
      "2    30\n",
      "0    26\n",
      "Name: cluster, dtype: int64\n"
     ]
    }
   ],
   "source": [
    "df_scaled['cluster'] = pred\n",
    "print('the number of samples in each cluster:\\n', df_scaled['cluster'].value_counts())"
   ]
  },
  {
   "cell_type": "code",
   "execution_count": 71,
   "id": "652eacd9",
   "metadata": {},
   "outputs": [],
   "source": [
    "df_scaled.drop('cluster',axis='columns', inplace=True)"
   ]
  },
  {
   "cell_type": "markdown",
   "id": "de763569",
   "metadata": {},
   "source": [
    "## Choosing the appropriate number of clusters: Elbow Method\n",
    "\n",
    "The **elbow method** is a widely used approach to determine the proper number of clusters.\n",
    "\n",
    "To perform the elbow method, we run many k-means by increasing k at each iteration and plot the SST (also known as **intetia**) as a function of the number of clusters. We will observe that it continues to decrease as we increase k. The distance between each point and its nearest centroid will decrease as more centroids are added.\n",
    "\n",
    "The **elbow point** is a position on the SSE curve when **it begins to bend**. This point is believed to be a good compromise between error and cluster count. From the figure below, the elbow is positioned at k=3 in our example."
   ]
  },
  {
   "cell_type": "code",
   "execution_count": 72,
   "id": "5c707a6f",
   "metadata": {},
   "outputs": [
    {
     "data": {
      "text/plain": [
       "Text(0, 0.5, 'Inertia')"
      ]
     },
     "execution_count": 72,
     "metadata": {},
     "output_type": "execute_result"
    },
    {
     "data": {
      "image/png": "[encoded data removed]",
      "text/plain": [
       "<Figure size 864x432 with 1 Axes>"
      ]
     },
     "metadata": {
      "needs_background": "light"
     },
     "output_type": "display_data"
    }
   ],
   "source": [
    "# fitting multiple k-means algorithms and storing the values in an empty list\n",
    "SSE = []\n",
    "for cluster in range(1,20):\n",
    "    kmeans = KMeans(n_clusters = cluster)\n",
    "    kmeans.fit(df_scaled)\n",
    "    SSE.append(kmeans.inertia_)\n",
    "\n",
    "# converting the results into a dataframe and plotting them\n",
    "frame = pd.DataFrame({'Cluster':range(1,20), 'SSE':SSE})\n",
    "plt.figure(figsize=(12,6))\n",
    "plt.plot(frame['Cluster'], frame['SSE'], marker='o')\n",
    "plt.xlabel('Number of clusters')\n",
    "plt.ylabel('Inertia')"
   ]
  },
  {
   "cell_type": "markdown",
   "id": "fd0e9067",
   "metadata": {},
   "source": [
    "From the figure, the elbow is positioned at k=3 in our example where the curve starts to bend."
   ]
  },
  {
   "cell_type": "markdown",
   "id": "722b0097",
   "metadata": {},
   "source": [
    "## Ploting the cluster boundary and clusters\n",
    "\n",
    "To plot the cluster boundary and the clusters, we run the Code below, which is modified from https://www.kaggle.com/code/irfanasrullah/customer-segmentation-analysis/notebook"
   ]
  },
  {
   "cell_type": "code",
   "execution_count": 73,
   "id": "762c7420",
   "metadata": {},
   "outputs": [
    {
     "data": {
      "text/plain": [
       "KMeans(init='random', n_clusters=3, random_state=88)"
      ]
     },
     "execution_count": 73,
     "metadata": {},
     "output_type": "execute_result"
    }
   ],
   "source": [
    "# Using n_clusters = 3 as suggested by the elbow method\n",
    "\n",
    "kmeans = KMeans(\n",
    "                init=\"random\",\n",
    "                n_clusters=3,\n",
    "                n_init=10,\n",
    "                max_iter=300,\n",
    "                random_state=88)\n",
    "\n",
    "kmeans.fit(df_scaled)"
   ]
  },
  {
   "cell_type": "code",
   "execution_count": 74,
   "id": "58048a11",
   "metadata": {},
   "outputs": [],
   "source": [
    "X1 = df_scaled[['x1','x2']].values\n",
    "\n",
    "h = 0.02\n",
    "x_min, x_max = X1[:, 0].min() - 1, X1[:, 0].max() + 1\n",
    "y_min, y_max = X1[:, 1].min() - 1, X1[:, 1].max() + 1\n",
    "xx, yy = np.meshgrid(np.arange(x_min, x_max, h), np.arange(y_min, y_max, h))\n",
    "##Z = kmeans.predict(np.c_[xx.ravel(), yy.ravel()]) \n",
    "\n",
    "meshed_points = pd.DataFrame(np.c_[xx.ravel(), yy.ravel()], columns = ['x1','x2'])\n",
    "Z = kmeans.predict(meshed_points)"
   ]
  },
  {
   "cell_type": "code",
   "execution_count": 75,
   "id": "ad2f8ea2",
   "metadata": {},
   "outputs": [
    {
     "data": {
      "image/png": "[encoded data removed]",
      "text/plain": [
       "<Figure size 1080x504 with 1 Axes>"
      ]
     },
     "metadata": {
      "needs_background": "light"
     },
     "output_type": "display_data"
    }
   ],
   "source": [
    "plt.figure(1 , figsize = (15 , 7) )\n",
    "plt.clf()\n",
    "Z = Z.reshape(xx.shape)\n",
    "plt.imshow(Z , interpolation='nearest', \n",
    "           extent=(xx.min(), xx.max(), yy.min(), yy.max()),\n",
    "           cmap = plt.cm.Pastel2, aspect = 'auto', origin='lower')\n",
    "\n",
    "plt.scatter( x = 'x1' ,y = 'x2' , data = df_scaled , c = pred , s = 100 )\n",
    "plt.scatter(x = centroids[: , 0] , y =  centroids[: , 1] , s = 200 , c = 'red' , alpha = 0.5)\n",
    "plt.ylabel('x1') , plt.xlabel('x2')\n",
    "plt.show()"
   ]
  },
  {
   "cell_type": "code",
   "execution_count": 76,
   "id": "d96656d2",
   "metadata": {},
   "outputs": [],
   "source": [
    "#np.c_[xx.ravel(), yy.ravel()]"
   ]
  },
  {
   "cell_type": "code",
   "execution_count": 77,
   "id": "d4df8061",
   "metadata": {},
   "outputs": [],
   "source": [
    "#np.c_[xx.ravel(), yy.ravel()][:,0]"
   ]
  },
  {
   "cell_type": "code",
   "execution_count": 78,
   "id": "b8c12a29",
   "metadata": {},
   "outputs": [],
   "source": [
    "#pd.DataFrame(np.c_[xx.ravel(), yy.ravel()], columns = ['x1','x2'])"
   ]
  },
  {
   "cell_type": "markdown",
   "id": "ce113c56",
   "metadata": {},
   "source": [
    "Alternatively, one can run the following Python code: (modified from https://www.askpython.com/python/examples/plot-k-means-clusters-python)"
   ]
  },
  {
   "cell_type": "code",
   "execution_count": 79,
   "id": "7610d2ad",
   "metadata": {},
   "outputs": [
    {
     "data": {
      "image/png": "[encoded data removed]",
      "text/plain": [
       "<Figure size 432x288 with 1 Axes>"
      ]
     },
     "metadata": {
      "needs_background": "light"
     },
     "output_type": "display_data"
    }
   ],
   "source": [
    "#Getting the Centroids\n",
    "centroids = kmeans.cluster_centers_\n",
    "u_labels = np.unique(kmeans.predict(df_scaled.iloc[:,0:2]))\n",
    " \n",
    "#plotting the results:\n",
    " \n",
    "for i in u_labels:\n",
    "    plt.scatter(df_scaled.iloc[pred == i , 0] , df_scaled.iloc[pred == i , 1] , label = i)\n",
    "\n",
    "plt.scatter(centroids[:,0] , centroids[:,1] , s = 80, color = 'k')\n",
    "plt.legend()\n",
    "plt.show()"
   ]
  },
  {
   "cell_type": "code",
   "execution_count": 80,
   "id": "466a5354",
   "metadata": {},
   "outputs": [],
   "source": [
    "#u_labels"
   ]
  },
  {
   "cell_type": "code",
   "execution_count": 81,
   "id": "86091831",
   "metadata": {},
   "outputs": [],
   "source": [
    "#df_scaled.iloc[pred == 0 , 0]\n",
    "#pred == 0"
   ]
  },
  {
   "cell_type": "markdown",
   "id": "37db6852",
   "metadata": {},
   "source": [
    "## Choosing the appropriate number of clusters: Silhouette Method\n",
    "\n",
    "In K-Means clustering, the number of clusters (k) is the most crucial hyperparameter. If we already know how many clusters we want to group the data into, tuning the value of k is unnecessary. \n",
    "\n",
    "The **silhouette method** is also used to determine the optimal number of clusters, as well as to interpret and validate consistency within data clusters. \n",
    "\n",
    "The silhouette method calculates each point's silhouette coefficients, which measure how well a data point fits into its assigned cluster based on two factors:\n",
    "\n",
    "* How close the data point is to other points in the cluster.\n",
    "\n",
    "* How far the data point is from points in other clusters.\n",
    "\n",
    "This method also displays a clear graphical depiction of how effectively each object has been classified\n",
    "\n",
    "The silhouette value is a  measure of how similar an object is to its own cluster (cohesion) compared to other clusters (separation). "
   ]
  },
  {
   "cell_type": "markdown",
   "id": "d393a92e",
   "metadata": {},
   "source": [
    "### Steps to find the silhouette score\n",
    "\n",
    "To find the silhouette coefficient of each point, follow these steps:\n",
    "\n",
    "1. For data point  ${\\displaystyle i}$ in the cluster ${\\displaystyle C_{I}}$, we calculate the mean distance between ${\\displaystyle i}$ and all other data points in the same cluster \n",
    "\n",
    "$${\\displaystyle a(i)={\\frac {1}{|C_{I}|-1}}\\sum _{j\\in C_{I},i\\neq j}d(i,j)},$$\n",
    "\n",
    "This ${\\displaystyle a(i)}$ measures how well ${\\displaystyle i}$ is assigned to its cluster (the smaller the value, the better the assignment).\n",
    "\n",
    "2. We then calculate the mean dissimilarity of point ${\\displaystyle i}$ to its **neighboring cluster**.\n",
    "\n",
    "$${\\displaystyle b(i)=\\min _{J\\neq I}{\\frac {1}{|C_{J}|}}\\sum _{j\\in C_{J}}d(i,j)}$$\n",
    "\n",
    "3. We now define a silhouette coefficient of one data point ${\\displaystyle i}$\n",
    "\n",
    "$${\\displaystyle s(i)={\\frac {b(i)-a(i)}{\\max\\{a(i),b(i)\\}}}}$$\n",
    "\n",
    "4. To determine the **silhouette score**, compute silhouette coefficients for each point and average them over all samples.\n",
    "\n",
    "The silhouette value varies from [1, -1], with a high value indicating that the object is well matched to its own cluster but poorly matched to nearby clusters. \n",
    "\n",
    "* The clustering setup is useful if the majority of the objects have a high value. \n",
    "\n",
    "* The clustering setup may have too many or too few clusters if many points have a low (the sample is very close to the neighboring clusters) or negative value (the sample is assigned to the wrong clusters)."
   ]
  },
  {
   "cell_type": "markdown",
   "id": "e65a10d3",
   "metadata": {},
   "source": [
    "![silhouette coefficients: image from medium.com](https://miro.medium.com/max/902/1*cNzzMupO355ohnVqXnvxEA.png)"
   ]
  },
  {
   "cell_type": "markdown",
   "id": "83dbc0e3",
   "metadata": {},
   "source": [
    "#### Silhouette Visualizer \n",
    "\n",
    "The **Silhouette Visualizer** visualizes which clusters are dense and which are not by displaying the silhouette coefficient for each sample on a per-cluster basis. This is especially useful for determining cluster imbalance or comparing different visualizers to determine a K value.\n",
    "\n",
    "We will import the **Yellowbrik** library for silhoutte analsis, an extension to the Scikit-Learn API that simplifies model selection and hyperparameter tuning.\n",
    "\n",
    "For more details about the library, please refer to\n",
    "https://www.scikit-yb.org/en/latest/.\n",
    "\n",
    "The following results compares different visualizers with n_cluster = 2, 3 and 4."
   ]
  },
  {
   "cell_type": "code",
   "execution_count": 82,
   "id": "e936340e",
   "metadata": {},
   "outputs": [],
   "source": [
    "from yellowbrick.cluster import SilhouetteVisualizer"
   ]
  },
  {
   "cell_type": "code",
   "execution_count": 83,
   "id": "9ee752ea",
   "metadata": {},
   "outputs": [
    {
     "name": "stdout",
     "output_type": "stream",
     "text": [
      "The silhouette score: 0.6558340654970938\n"
     ]
    },
    {
     "data": {
      "image/png": "[encoded data removed]",
      "text/plain": [
       "<Figure size 432x288 with 1 Axes>"
      ]
     },
     "metadata": {
      "needs_background": "light"
     },
     "output_type": "display_data"
    },
    {
     "data": {
      "image/png": "[encoded data removed]",
      "text/plain": [
       "<Figure size 432x288 with 1 Axes>"
      ]
     },
     "metadata": {
      "needs_background": "light"
     },
     "output_type": "display_data"
    }
   ],
   "source": [
    "# Instantiate the clustering model and visualizer\n",
    "\n",
    "kmeans = KMeans(\n",
    "                init=\"random\",\n",
    "                n_clusters=2,\n",
    "                n_init=10,\n",
    "                max_iter=300,\n",
    "                random_state=88)\n",
    "\n",
    "visualizer = SilhouetteVisualizer(kmeans, colors='yellowbrick')\n",
    "# Fit the data to the visualizer\n",
    "visualizer.fit(df_scaled)  \n",
    "# Compute silhouette_score\n",
    "print('The silhouette score:', visualizer.silhouette_score_)\n",
    "# Finalize and render the figure\n",
    "visualizer.show()          \n",
    "\n",
    "        \n",
    "\n",
    "# For scatter plot \n",
    "kmeans.fit(df_scaled) \n",
    "pred2 = kmeans.predict(df_scaled)\n",
    "#Getting the Centroids\n",
    "centroids = kmeans.cluster_centers_\n",
    "u_labels = np.unique(kmeans.predict(df_scaled.iloc[:,0:2]))\n",
    " \n",
    "#plotting the results:\n",
    "for i in u_labels:\n",
    "    plt.scatter(df_scaled.iloc[pred2 == i , 0] , df_scaled.iloc[pred2 == i , 1] , label = i)\n",
    "\n",
    "plt.scatter(centroids[:,0] , centroids[:,1] , s = 80, color = 'k')\n",
    "plt.legend()\n",
    "plt.show()"
   ]
  },
  {
   "cell_type": "code",
   "execution_count": 84,
   "id": "df7d1522",
   "metadata": {},
   "outputs": [
    {
     "name": "stdout",
     "output_type": "stream",
     "text": [
      "The silhouette score: 0.5965646018263415\n"
     ]
    },
    {
     "data": {
      "image/png": "[encoded data removed]",
      "text/plain": [
       "<Figure size 432x288 with 1 Axes>"
      ]
     },
     "metadata": {
      "needs_background": "light"
     },
     "output_type": "display_data"
    },
    {
     "data": {
      "image/png": "[encoded data removed]",
      "text/plain": [
       "<Figure size 432x288 with 1 Axes>"
      ]
     },
     "metadata": {
      "needs_background": "light"
     },
     "output_type": "display_data"
    }
   ],
   "source": [
    "# Instantiate the clustering model and visualizer\n",
    "\n",
    "kmeans = KMeans(\n",
    "                init=\"random\",\n",
    "                n_clusters=3,\n",
    "                n_init=10,\n",
    "                max_iter=300,\n",
    "                random_state=88)\n",
    "\n",
    "visualizer = SilhouetteVisualizer(kmeans, colors='yellowbrick')\n",
    "# Fit the data to the visualizer\n",
    "visualizer.fit(df_scaled)  \n",
    "# Compute silhouette_score\n",
    "print('The silhouette score:', visualizer.silhouette_score_)\n",
    "# Finalize and render the figure\n",
    "visualizer.show()          \n",
    "\n",
    "         \n",
    "\n",
    "# For scatter plot \n",
    "kmeans.fit(df_scaled) \n",
    "pred3 = kmeans.predict(df_scaled)\n",
    "#Getting the Centroids\n",
    "centroids = kmeans.cluster_centers_\n",
    "u_labels = np.unique(kmeans.predict(df_scaled.iloc[:,0:2]))\n",
    " \n",
    "#plotting the results:\n",
    "for i in u_labels:\n",
    "    plt.scatter(df_scaled.iloc[pred3 == i , 0] , df_scaled.iloc[pred3 == i , 1] , label = i)\n",
    "\n",
    "plt.scatter(centroids[:,0] , centroids[:,1] , s = 80, color = 'k')\n",
    "plt.legend()\n",
    "plt.show()"
   ]
  },
  {
   "cell_type": "code",
   "execution_count": 86,
   "id": "f13f40bb",
   "metadata": {},
   "outputs": [
    {
     "name": "stdout",
     "output_type": "stream",
     "text": [
      "The silhouette score: 0.47977223451628676\n"
     ]
    },
    {
     "data": {
      "image/png": "[encoded data removed]",
      "text/plain": [
       "<Figure size 432x288 with 1 Axes>"
      ]
     },
     "metadata": {
      "needs_background": "light"
     },
     "output_type": "display_data"
    },
    {
     "data": {
      "image/png": "[encoded data removed]",
      "text/plain": [
       "<Figure size 432x288 with 1 Axes>"
      ]
     },
     "metadata": {
      "needs_background": "light"
     },
     "output_type": "display_data"
    }
   ],
   "source": [
    "# Instantiate the clustering model and visualizer\n",
    "\n",
    "kmeans = KMeans(\n",
    "                init=\"random\",\n",
    "                n_clusters=4,\n",
    "                n_init=10,\n",
    "                max_iter=300,\n",
    "                random_state=88)\n",
    "\n",
    "\n",
    "visualizer = SilhouetteVisualizer(kmeans, colors='yellowbrick')\n",
    "# Fit the data to the visualizer\n",
    "visualizer.fit(df_scaled)  \n",
    "# Compute silhouette_score\n",
    "print('The silhouette score:', visualizer.silhouette_score_)\n",
    "# Finalize and render the figure\n",
    "visualizer.show()          \n",
    "\n",
    "\n",
    "\n",
    "# For scatter plot \n",
    "kmeans.fit(df_scaled) \n",
    "pred4 = kmeans.predict(df_scaled)\n",
    "\n",
    "#Getting the Centroids\n",
    "centroids = kmeans.cluster_centers_\n",
    "u_labels = np.unique(kmeans.predict(df_scaled.iloc[:,0:2]))\n",
    " \n",
    "#plotting the results:\n",
    "for i in u_labels:\n",
    "    plt.scatter(df_scaled.iloc[pred4 == i , 0] , df_scaled.iloc[pred4 == i , 1] , label = i)\n",
    "\n",
    "plt.scatter(centroids[:,0] , centroids[:,1] , s = 80, color = 'k')\n",
    "plt.legend()\n",
    "plt.show()"
   ]
  },
  {
   "cell_type": "markdown",
   "id": "3ed000fd",
   "metadata": {},
   "source": [
    "Based on the above results, we observe the following:\n",
    "\n",
    "* At **n_clusters=4**, the silhouette plot shows that the n_cluster value of 4 is a poor choice because most points in the cluster with cluster_label=2 have below average silhouette values.\n",
    "\n",
    "* At **n_clusters=2**, the thickness of the silhouette graph for the cluster with cluster_label=1 is larger due to the grouping of the 2 sub-clusters into one large cluster. Moreover, n_clusters=2 has the best average silhouette score of around 0.65, and all clusters are above the average, indicating that it is a good choice.\n",
    "\n",
    "* For **n_clusters=3**, all plots are more or less similar in thickness and therefore similar in size, which can be considered the one of the optimal values.\n",
    "\n",
    "* Silhouette analysis is more inconclusive in deciding between 2 and 3.\n",
    "\n",
    "The bottom line is that **good n clusters** will have a silhouette average score far above 0.5, and all of the clusters will have a score higher than the average."
   ]
  },
  {
   "cell_type": "code",
   "execution_count": null,
   "id": "3ebf7da6",
   "metadata": {},
   "outputs": [],
   "source": []
  },
  {
   "cell_type": "markdown",
   "id": "5648b04e",
   "metadata": {},
   "source": [
    "### Evaluating Clustering Performance Using Advanced Techniques: Adjusted Rand Index\n",
    "\n",
    "\n",
    "Without the use of ground truth labels, the elbow technique and silhouette coefficient evaluate clustering performance. \n",
    "\n",
    "**Ground truth labels** divide data points into categories based on a human's or an algorithm's classification. When used without context, these measures do their best to imply the correct number of clusters, but they can be misleading.\n",
    "\n",
    "Note that datasets with ground truth labels are uncommon in practice."
   ]
  },
  {
   "cell_type": "markdown",
   "id": "e5a8c706",
   "metadata": {},
   "source": [
    "##### Adjusted Rand Index \n",
    "\n",
    "Because the ground truth labels are known, a clustering metric that considers labels in its evaluation can be used. The scikit-learn version of a standard metric known as the **adjusted rand index (ARI)** can be used. \n",
    "\n",
    "The Rand Index computes a similarity measure between two clusterings by evaluating all pairs of samples and counting pairs that are assigned in the same or different clusters in the predicted and true clusterings,\n",
    "\n",
    "The Rand index has been adjusted to account for chance. For more information, please refer to https://towardsdatascience.com/performance-metrics-in-machine-learning-part-3-clustering-d69550662dc6.\n",
    "\n",
    "The output values of the ARI vary from -1 to 1. A score around 0 denotes random assignments, whereas a score near 1 denotes precisely identified clusters."
   ]
  },
  {
   "cell_type": "code",
   "execution_count": 87,
   "id": "07f479cc",
   "metadata": {},
   "outputs": [],
   "source": [
    "from sklearn.metrics import adjusted_rand_score"
   ]
  },
  {
   "cell_type": "markdown",
   "id": "a2d732e4",
   "metadata": {},
   "source": [
    "Compare the clustering results with n_clusters= 2 and 3 using ARI as the performance metric."
   ]
  },
  {
   "cell_type": "code",
   "execution_count": 91,
   "id": "9168112c",
   "metadata": {},
   "outputs": [
    {
     "name": "stdout",
     "output_type": "stream",
     "text": [
      "ARI with n_clusters=2: 0.5658536585365853\n",
      "ARI with n_clusters=3: 0.8164434485919437\n"
     ]
    }
   ],
   "source": [
    "print('ARI with n_clusters=2:',adjusted_rand_score(true_labels, pred2))\n",
    "print('ARI with n_clusters=3:',adjusted_rand_score(true_labels, pred3))"
   ]
  },
  {
   "cell_type": "markdown",
   "id": "b45e61bc",
   "metadata": {},
   "source": [
    "The silhouette coefficient was misleading, as evidenced by the above output. In comparison to k-means, using 3 clusters is the better solution for the dataset.\n",
    "\n",
    "The quality of clustering algorithms can also be assessed using a variety of measures. See the following link for more details: https://scikit-learn.org/stable/modules/model_evaluation.html"
   ]
  },
  {
   "cell_type": "markdown",
   "id": "3809dd43",
   "metadata": {},
   "source": [
    "**Final Remarks: Challenges with the K-Means Clustering Algorithm**\n",
    "\n",
    "One of the most common challenges when working with K-Means is that the size of the clusters varies. See https://www.analyticsvidhya.com/blog/2019/08/comprehensive-guide-k-means-clustering/.\n",
    "\n",
    "Another challenge with K-Means is that the densities of the original points are different. Let us assume these are the original points:\n",
    "\n",
    "One of the solutions is to use a higher number of clusters. So, in all the above scenarios, instead of using 3 clusters, we can use a larger number. Perhaps setting k=10 will lead to more meaningful clusters."
   ]
  },
  {
   "cell_type": "code",
   "execution_count": null,
   "id": "48e69de5",
   "metadata": {},
   "outputs": [],
   "source": []
  },
  {
   "cell_type": "code",
   "execution_count": null,
   "id": "49db9898",
   "metadata": {},
   "outputs": [],
   "source": []
  },
  {
   "cell_type": "code",
   "execution_count": null,
   "id": "8cc888a1",
   "metadata": {},
   "outputs": [],
   "source": []
  },
  {
   "cell_type": "code",
   "execution_count": null,
   "id": "e5a04cb8",
   "metadata": {},
   "outputs": [],
   "source": []
  },
  {
   "cell_type": "code",
   "execution_count": null,
   "id": "8f16c347",
   "metadata": {},
   "outputs": [],
   "source": []
  },
  {
   "cell_type": "code",
   "execution_count": null,
   "id": "16559dce",
   "metadata": {},
   "outputs": [],
   "source": [
    "centroids"
   ]
  },
  {
   "cell_type": "code",
   "execution_count": null,
   "id": "274d7591",
   "metadata": {},
   "outputs": [],
   "source": [
    "pred = kmeans.predict(df_scaled)\n",
    "df_scaled['cluster'] = pred\n",
    "print('the number of samples in each cluster:\\n', df_scaled['cluster'].value_counts())"
   ]
  },
  {
   "cell_type": "code",
   "execution_count": null,
   "id": "77cb901f",
   "metadata": {},
   "outputs": [],
   "source": [
    "df_scaled.drop('cluster',axis='columns', inplace=True)"
   ]
  },
  {
   "cell_type": "code",
   "execution_count": null,
   "id": "841c0029",
   "metadata": {},
   "outputs": [],
   "source": [
    "visualizer.silhouette_score_"
   ]
  },
  {
   "cell_type": "code",
   "execution_count": null,
   "id": "89bcab86",
   "metadata": {},
   "outputs": [],
   "source": [
    "#silhouette_score(X, cluster_labels)\n",
    "silhouette_score(df_scaled, kmeans.labels_)\n"
   ]
  },
  {
   "cell_type": "code",
   "execution_count": null,
   "id": "1e24e6b8",
   "metadata": {},
   "outputs": [],
   "source": [
    "# fitting multiple k-means algorithms and storing the values in an empty list\n",
    "silhouette_scores = []\n",
    "for cluster in range(2,20):\n",
    "    kmeans = KMeans(n_clusters = cluster)\n",
    "    kmeans.fit(df_scaled)\n",
    "    silhouette_scores.append(silhouette_score(df_scaled, kmeans.labels_)\n",
    "\n",
    ")\n",
    "\n",
    "# converting the results into a dataframe and plotting them\n",
    "frame = pd.DataFrame({'Cluster':range(2,20), 'Silhouette_scores':silhouette_scores})\n",
    "plt.figure(figsize=(12,6))\n",
    "plt.plot(frame['Cluster'], frame['Silhouette_scores'], marker='o')\n",
    "plt.xlabel('Number of clusters')\n",
    "plt.ylabel('Silhouette_scores')"
   ]
  },
  {
   "cell_type": "code",
   "execution_count": null,
   "id": "d1a174ba",
   "metadata": {},
   "outputs": [],
   "source": []
  },
  {
   "cell_type": "code",
   "execution_count": null,
   "id": "5e44e066",
   "metadata": {},
   "outputs": [],
   "source": []
  },
  {
   "cell_type": "code",
   "execution_count": null,
   "id": "551e35e9",
   "metadata": {},
   "outputs": [],
   "source": []
  }
 ],
 "metadata": {
  "kernelspec": {
   "display_name": "Python 3 (ipykernel)",
   "language": "python",
   "name": "python3"
  },
  "language_info": {
   "codemirror_mode": {
    "name": "ipython",
    "version": 3
   },
   "file_extension": ".py",
   "mimetype": "text/x-python",
   "name": "python",
   "nbconvert_exporter": "python",
   "pygments_lexer": "ipython3",
   "version": "3.7.11"
  }
 },
 "nbformat": 4,
 "nbformat_minor": 5
}
